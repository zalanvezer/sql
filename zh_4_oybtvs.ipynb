{
    "metadata": {
        "kernelspec": {
            "name": "SQL",
            "display_name": "SQL",
            "language": "sql"
        },
        "language_info": {
            "name": "sql",
            "version": ""
        }
    },
    "nbformat_minor": 2,
    "nbformat": 4,
    "cells": [
        {
            "cell_type": "markdown",
            "source": [
                "Listázzuk azon vendégek nevét, email-címét és felhasználói nevét, akik egynél többször foglaltak!\n",
                "\n",
                "- Hagyjuk ki azokat a vendégeket, akik május hónapban születtek!"
            ],
            "metadata": {
                "language": "sql",
                "azdata_cell_guid": "3ba91684-9b90-410f-a936-af39e6e5cde3"
            },
            "attachments": {}
        },
        {
            "cell_type": "code",
            "source": [
                ""
            ],
            "metadata": {
                "azdata_cell_guid": "45d6462e-ed5b-44de-a3eb-6415c62e25e4",
                "language": "sql"
            },
            "outputs": [],
            "execution_count": null
        },
        {
            "cell_type": "markdown",
            "source": [
                "<span style=\"color: rgb(0, 0, 0); font-family: &quot;Open Sans&quot;, sans-serif; font-size: 14.44px; background-color: rgb(255, 255, 255);\">Listázzuk azon szálláshelyek azonosítóját és nevét, amelyek a saját helyükön (HELY) a legtöbb csillaggal rendelkeznek!</span>"
            ],
            "metadata": {
                "language": "sql",
                "azdata_cell_guid": "5009adda-68ba-44e9-b396-06b0ad7ebaf8"
            },
            "attachments": {}
        },
        {
            "cell_type": "code",
            "source": [
                "SELECT SZALLAS_ID, SZALLAS_NEV\r\n",
                "FROM Szallashely szh\r\n",
                "WHERE CSILLAGOK_SZAMA = (\r\n",
                "    SELECT MAX(szh2.CSILLAGOK_SZAMA)\r\n",
                "    FROM Szallashely szh2\r\n",
                "    WHERE szh2.HELY = szh.HELY\r\n",
                ");\r\n",
                ""
            ],
            "metadata": {
                "language": "sql",
                "azdata_cell_guid": "c14a488d-d1b6-448a-aaf0-eebad7a9137a"
            },
            "outputs": [
                {
                    "output_type": "display_data",
                    "data": {
                        "text/html": "(11 rows affected)"
                    },
                    "metadata": {}
                },
                {
                    "output_type": "display_data",
                    "data": {
                        "text/html": "Total execution time: 00:00:00.008"
                    },
                    "metadata": {}
                },
                {
                    "output_type": "execute_result",
                    "metadata": {},
                    "execution_count": 14,
                    "data": {
                        "application/vnd.dataresource+json": {
                            "schema": {
                                "fields": [
                                    {
                                        "name": "SZALLAS_ID"
                                    },
                                    {
                                        "name": "SZALLAS_NEV"
                                    }
                                ]
                            },
                            "data": [
                                {
                                    "SZALLAS_ID": "17",
                                    "SZALLAS_NEV": "Szarvas Hotel"
                                },
                                {
                                    "SZALLAS_ID": "16",
                                    "SZALLAS_NEV": "Bagoly Hotel"
                                },
                                {
                                    "SZALLAS_ID": "3",
                                    "SZALLAS_NEV": "Fortuna Apartman"
                                },
                                {
                                    "SZALLAS_ID": "18",
                                    "SZALLAS_NEV": "Fortuna Apartman"
                                },
                                {
                                    "SZALLAS_ID": "19",
                                    "SZALLAS_NEV": "Nyárfás Vendégház"
                                },
                                {
                                    "SZALLAS_ID": "21",
                                    "SZALLAS_NEV": "Müller Vendégház"
                                },
                                {
                                    "SZALLAS_ID": "13",
                                    "SZALLAS_NEV": "Riviéra Panzió"
                                },
                                {
                                    "SZALLAS_ID": "10",
                                    "SZALLAS_NEV": "Lagúna Hotel"
                                },
                                {
                                    "SZALLAS_ID": "5",
                                    "SZALLAS_NEV": "Fortuna Panzió"
                                },
                                {
                                    "SZALLAS_ID": "11",
                                    "SZALLAS_NEV": "Partiszél Vendégház"
                                },
                                {
                                    "SZALLAS_ID": "8",
                                    "SZALLAS_NEV": "Hotel Három Hattyú"
                                }
                            ]
                        },
                        "text/html": [
                            "<table>",
                            "<tr><th>SZALLAS_ID</th><th>SZALLAS_NEV</th></tr>",
                            "<tr><td>17</td><td>Szarvas Hotel</td></tr>",
                            "<tr><td>16</td><td>Bagoly Hotel</td></tr>",
                            "<tr><td>3</td><td>Fortuna Apartman</td></tr>",
                            "<tr><td>18</td><td>Fortuna Apartman</td></tr>",
                            "<tr><td>19</td><td>Nyárfás Vendégház</td></tr>",
                            "<tr><td>21</td><td>Müller Vendégház</td></tr>",
                            "<tr><td>13</td><td>Riviéra Panzió</td></tr>",
                            "<tr><td>10</td><td>Lagúna Hotel</td></tr>",
                            "<tr><td>5</td><td>Fortuna Panzió</td></tr>",
                            "<tr><td>11</td><td>Partiszél Vendégház</td></tr>",
                            "<tr><td>8</td><td>Hotel Három Hattyú</td></tr>",
                            "</table>"
                        ]
                    }
                }
            ],
            "execution_count": 14
        },
        {
            "cell_type": "markdown",
            "source": [
                "Jelenítsük meg, hogy az egyes szálláshelyek szobáit esetén a legutolsó 5 foglalás átlagosan hány főre történt!\n",
                "\n",
                "- A számításnál vegyük figyelembe a felnőtteket és a gyermekeket is\n",
                "- A foglalás dátumánál a METTOL mezőt használjuk"
            ],
            "metadata": {
                "language": "sql",
                "azdata_cell_guid": "ff6451b4-e531-439e-8d9d-e94786e65479"
            },
            "attachments": {}
        },
        {
            "cell_type": "code",
            "source": [
                "select \r\n",
                "    s.SZALLAS_NEV ,\r\n",
                "    sz.SZOBA_SZAMA ,\r\n",
                "    AVG(f.FELNOTT_SZAM + f.GYERMEK_SZAM) \r\n",
                "from \r\n",
                "    Szallashely s\r\n",
                "join\r\n",
                "    Szoba sz on s.SZALLAS_ID = sz.SZALLAS_FK\r\n",
                "join Foglalas f on sz.SZOBA_ID = f.SZOBA_FK\r\n",
                "group by \r\n",
                "    s.SZALLAS_NEV, \r\n",
                "    sz.SZOBA_SZAMA;\r\n",
                "\r\n",
                ""
            ],
            "metadata": {
                "language": "sql",
                "azdata_cell_guid": "3fe15b33-8abe-4fc4-806d-f5713a173dc9"
            },
            "outputs": [
                {
                    "output_type": "display_data",
                    "data": {
                        "text/html": "(187 rows affected)"
                    },
                    "metadata": {}
                },
                {
                    "output_type": "display_data",
                    "data": {
                        "text/html": "Total execution time: 00:00:00.038"
                    },
                    "metadata": {}
                },
                {
                    "output_type": "execute_result",
                    "metadata": {},
                    "execution_count": 16,
                    "data": {
                        "application/vnd.dataresource+json": {
                            "schema": {
                                "fields": [
                                    {
                                        "name": "Szallashely_Neve"
                                    },
                                    {
                                        "name": "Szoba_Szama"
                                    },
                                    {
                                        "name": "Atlagos_Foglaltsag"
                                    }
                                ]
                            },
                            "data": [
                                {
                                    "Szallashely_Neve": "Családi Ház",
                                    "Szoba_Szama": "1",
                                    "Atlagos_Foglaltsag": "2"
                                },
                                {
                                    "Szallashely_Neve": "Fortuna Apartman",
                                    "Szoba_Szama": "1",
                                    "Atlagos_Foglaltsag": "2"
                                },
                                {
                                    "Szallashely_Neve": "Fortuna Panzió",
                                    "Szoba_Szama": "1",
                                    "Atlagos_Foglaltsag": "2"
                                },
                                {
                                    "Szallashely_Neve": "Gold Hotel",
                                    "Szoba_Szama": "1",
                                    "Atlagos_Foglaltsag": "1"
                                },
                                {
                                    "Szallashely_Neve": "Hotel Három Hattyú",
                                    "Szoba_Szama": "1",
                                    "Atlagos_Foglaltsag": "1"
                                },
                                {
                                    "Szallashely_Neve": "Jáde panzió",
                                    "Szoba_Szama": "1",
                                    "Atlagos_Foglaltsag": "1"
                                },
                                {
                                    "Szallashely_Neve": "Kentaur Hotel",
                                    "Szoba_Szama": "1",
                                    "Atlagos_Foglaltsag": "1"
                                },
                                {
                                    "Szallashely_Neve": "Lagúna Hotel",
                                    "Szoba_Szama": "1",
                                    "Atlagos_Foglaltsag": "2"
                                },
                                {
                                    "Szallashely_Neve": "Partiszél Vendégház",
                                    "Szoba_Szama": "1",
                                    "Atlagos_Foglaltsag": "3"
                                },
                                {
                                    "Szallashely_Neve": "Sába-Ház",
                                    "Szoba_Szama": "1",
                                    "Atlagos_Foglaltsag": "2"
                                },
                                {
                                    "Szallashely_Neve": "Szieszta Apartmanház",
                                    "Szoba_Szama": "1",
                                    "Atlagos_Foglaltsag": "2"
                                },
                                {
                                    "Szallashely_Neve": "Fortuna Panzió",
                                    "Szoba_Szama": "10",
                                    "Atlagos_Foglaltsag": "2"
                                },
                                {
                                    "Szallashely_Neve": "Gold Hotel",
                                    "Szoba_Szama": "10",
                                    "Atlagos_Foglaltsag": "1"
                                },
                                {
                                    "Szallashely_Neve": "Hotel Három Hattyú",
                                    "Szoba_Szama": "10",
                                    "Atlagos_Foglaltsag": "2"
                                },
                                {
                                    "Szallashely_Neve": "Kentaur Hotel",
                                    "Szoba_Szama": "10",
                                    "Atlagos_Foglaltsag": "2"
                                },
                                {
                                    "Szallashely_Neve": "Lagúna Hotel",
                                    "Szoba_Szama": "10",
                                    "Atlagos_Foglaltsag": "3"
                                },
                                {
                                    "Szallashely_Neve": "Sába-Ház",
                                    "Szoba_Szama": "10",
                                    "Atlagos_Foglaltsag": "2"
                                },
                                {
                                    "Szallashely_Neve": "Fortuna panzió",
                                    "Szoba_Szama": "11",
                                    "Atlagos_Foglaltsag": "2"
                                },
                                {
                                    "Szallashely_Neve": "Gold Hotel",
                                    "Szoba_Szama": "11",
                                    "Atlagos_Foglaltsag": "1"
                                },
                                {
                                    "Szallashely_Neve": "Hotel Három Hattyú",
                                    "Szoba_Szama": "11",
                                    "Atlagos_Foglaltsag": "2"
                                },
                                {
                                    "Szallashely_Neve": "Kentaur Hotel",
                                    "Szoba_Szama": "11",
                                    "Atlagos_Foglaltsag": "2"
                                },
                                {
                                    "Szallashely_Neve": "Lagúna Hotel",
                                    "Szoba_Szama": "11",
                                    "Atlagos_Foglaltsag": "2"
                                },
                                {
                                    "Szallashely_Neve": "Sába-Ház",
                                    "Szoba_Szama": "11",
                                    "Atlagos_Foglaltsag": "2"
                                },
                                {
                                    "Szallashely_Neve": "Fortuna panzió",
                                    "Szoba_Szama": "12",
                                    "Atlagos_Foglaltsag": "4"
                                },
                                {
                                    "Szallashely_Neve": "Gold Hotel",
                                    "Szoba_Szama": "12",
                                    "Atlagos_Foglaltsag": "2"
                                },
                                {
                                    "Szallashely_Neve": "Hotel Három Hattyú",
                                    "Szoba_Szama": "12",
                                    "Atlagos_Foglaltsag": "1"
                                },
                                {
                                    "Szallashely_Neve": "Kentaur Hotel",
                                    "Szoba_Szama": "12",
                                    "Atlagos_Foglaltsag": "2"
                                },
                                {
                                    "Szallashely_Neve": "Lagúna Hotel",
                                    "Szoba_Szama": "12",
                                    "Atlagos_Foglaltsag": "2"
                                },
                                {
                                    "Szallashely_Neve": "Sába-Ház",
                                    "Szoba_Szama": "12",
                                    "Atlagos_Foglaltsag": "2"
                                },
                                {
                                    "Szallashely_Neve": "Fortuna panzió",
                                    "Szoba_Szama": "13",
                                    "Atlagos_Foglaltsag": "1"
                                },
                                {
                                    "Szallashely_Neve": "Gold Hotel",
                                    "Szoba_Szama": "13",
                                    "Atlagos_Foglaltsag": "3"
                                },
                                {
                                    "Szallashely_Neve": "Hotel Három Hattyú",
                                    "Szoba_Szama": "13",
                                    "Atlagos_Foglaltsag": "2"
                                },
                                {
                                    "Szallashely_Neve": "Kentaur Hotel",
                                    "Szoba_Szama": "13",
                                    "Atlagos_Foglaltsag": "1"
                                },
                                {
                                    "Szallashely_Neve": "Lagúna Hotel",
                                    "Szoba_Szama": "13",
                                    "Atlagos_Foglaltsag": "2"
                                },
                                {
                                    "Szallashely_Neve": "Fortuna panzió",
                                    "Szoba_Szama": "14",
                                    "Atlagos_Foglaltsag": "2"
                                },
                                {
                                    "Szallashely_Neve": "Gold Hotel",
                                    "Szoba_Szama": "14",
                                    "Atlagos_Foglaltsag": "3"
                                },
                                {
                                    "Szallashely_Neve": "Hotel Három Hattyú",
                                    "Szoba_Szama": "14",
                                    "Atlagos_Foglaltsag": "2"
                                },
                                {
                                    "Szallashely_Neve": "Kentaur Hotel",
                                    "Szoba_Szama": "14",
                                    "Atlagos_Foglaltsag": "1"
                                },
                                {
                                    "Szallashely_Neve": "Lagúna Hotel",
                                    "Szoba_Szama": "14",
                                    "Atlagos_Foglaltsag": "1"
                                },
                                {
                                    "Szallashely_Neve": "Fortuna panzió",
                                    "Szoba_Szama": "15",
                                    "Atlagos_Foglaltsag": "1"
                                },
                                {
                                    "Szallashely_Neve": "Gold Hotel",
                                    "Szoba_Szama": "15",
                                    "Atlagos_Foglaltsag": "3"
                                },
                                {
                                    "Szallashely_Neve": "Hotel Három Hattyú",
                                    "Szoba_Szama": "15",
                                    "Atlagos_Foglaltsag": "2"
                                },
                                {
                                    "Szallashely_Neve": "Kentaur Hotel",
                                    "Szoba_Szama": "15",
                                    "Atlagos_Foglaltsag": "2"
                                },
                                {
                                    "Szallashely_Neve": "Lagúna Hotel",
                                    "Szoba_Szama": "15",
                                    "Atlagos_Foglaltsag": "1"
                                },
                                {
                                    "Szallashely_Neve": "Gold Hotel",
                                    "Szoba_Szama": "16",
                                    "Atlagos_Foglaltsag": "3"
                                },
                                {
                                    "Szallashely_Neve": "Hotel Három Hattyú",
                                    "Szoba_Szama": "16",
                                    "Atlagos_Foglaltsag": "1"
                                },
                                {
                                    "Szallashely_Neve": "Kentaur Hotel",
                                    "Szoba_Szama": "16",
                                    "Atlagos_Foglaltsag": "2"
                                },
                                {
                                    "Szallashely_Neve": "Lagúna Hotel",
                                    "Szoba_Szama": "16",
                                    "Atlagos_Foglaltsag": "2"
                                },
                                {
                                    "Szallashely_Neve": "Gold Hotel",
                                    "Szoba_Szama": "17",
                                    "Atlagos_Foglaltsag": "3"
                                },
                                {
                                    "Szallashely_Neve": "Hotel Három Hattyú",
                                    "Szoba_Szama": "17",
                                    "Atlagos_Foglaltsag": "2"
                                },
                                {
                                    "Szallashely_Neve": "Kentaur Hotel",
                                    "Szoba_Szama": "17",
                                    "Atlagos_Foglaltsag": "3"
                                },
                                {
                                    "Szallashely_Neve": "Lagúna Hotel",
                                    "Szoba_Szama": "17",
                                    "Atlagos_Foglaltsag": "1"
                                },
                                {
                                    "Szallashely_Neve": "Gold Hotel",
                                    "Szoba_Szama": "18",
                                    "Atlagos_Foglaltsag": "1"
                                },
                                {
                                    "Szallashely_Neve": "Hotel Három Hattyú",
                                    "Szoba_Szama": "18",
                                    "Atlagos_Foglaltsag": "1"
                                },
                                {
                                    "Szallashely_Neve": "Kentaur Hotel",
                                    "Szoba_Szama": "18",
                                    "Atlagos_Foglaltsag": "2"
                                },
                                {
                                    "Szallashely_Neve": "Lagúna Hotel",
                                    "Szoba_Szama": "18",
                                    "Atlagos_Foglaltsag": "2"
                                },
                                {
                                    "Szallashely_Neve": "Gold Hotel",
                                    "Szoba_Szama": "19",
                                    "Atlagos_Foglaltsag": "2"
                                },
                                {
                                    "Szallashely_Neve": "Hotel Három Hattyú",
                                    "Szoba_Szama": "19",
                                    "Atlagos_Foglaltsag": "2"
                                },
                                {
                                    "Szallashely_Neve": "Kentaur Hotel",
                                    "Szoba_Szama": "19",
                                    "Atlagos_Foglaltsag": "4"
                                },
                                {
                                    "Szallashely_Neve": "Lagúna Hotel",
                                    "Szoba_Szama": "19",
                                    "Atlagos_Foglaltsag": "2"
                                },
                                {
                                    "Szallashely_Neve": "Családi Ház",
                                    "Szoba_Szama": "2",
                                    "Atlagos_Foglaltsag": "3"
                                },
                                {
                                    "Szallashely_Neve": "Fortuna Apartman",
                                    "Szoba_Szama": "2",
                                    "Atlagos_Foglaltsag": "3"
                                },
                                {
                                    "Szallashely_Neve": "Fortuna Panzió",
                                    "Szoba_Szama": "2",
                                    "Atlagos_Foglaltsag": "2"
                                },
                                {
                                    "Szallashely_Neve": "Gold Hotel",
                                    "Szoba_Szama": "2",
                                    "Atlagos_Foglaltsag": "2"
                                },
                                {
                                    "Szallashely_Neve": "Hotel Három Hattyú",
                                    "Szoba_Szama": "2",
                                    "Atlagos_Foglaltsag": "3"
                                },
                                {
                                    "Szallashely_Neve": "Jáde panzió",
                                    "Szoba_Szama": "2",
                                    "Atlagos_Foglaltsag": "1"
                                },
                                {
                                    "Szallashely_Neve": "Kentaur Hotel",
                                    "Szoba_Szama": "2",
                                    "Atlagos_Foglaltsag": "2"
                                },
                                {
                                    "Szallashely_Neve": "Lagúna Hotel",
                                    "Szoba_Szama": "2",
                                    "Atlagos_Foglaltsag": "1"
                                },
                                {
                                    "Szallashely_Neve": "Partiszél Vendégház",
                                    "Szoba_Szama": "2",
                                    "Atlagos_Foglaltsag": "2"
                                },
                                {
                                    "Szallashely_Neve": "Sába-Ház",
                                    "Szoba_Szama": "2",
                                    "Atlagos_Foglaltsag": "3"
                                },
                                {
                                    "Szallashely_Neve": "Szieszta Apartmanház",
                                    "Szoba_Szama": "2",
                                    "Atlagos_Foglaltsag": "2"
                                },
                                {
                                    "Szallashely_Neve": "Gold Hotel",
                                    "Szoba_Szama": "20",
                                    "Atlagos_Foglaltsag": "1"
                                },
                                {
                                    "Szallashely_Neve": "Hotel Három Hattyú",
                                    "Szoba_Szama": "20",
                                    "Atlagos_Foglaltsag": "1"
                                },
                                {
                                    "Szallashely_Neve": "Kentaur Hotel",
                                    "Szoba_Szama": "20",
                                    "Atlagos_Foglaltsag": "2"
                                },
                                {
                                    "Szallashely_Neve": "Lagúna Hotel",
                                    "Szoba_Szama": "20",
                                    "Atlagos_Foglaltsag": "2"
                                },
                                {
                                    "Szallashely_Neve": "Gold Hotel",
                                    "Szoba_Szama": "21",
                                    "Atlagos_Foglaltsag": "2"
                                },
                                {
                                    "Szallashely_Neve": "Hotel Három Hattyú",
                                    "Szoba_Szama": "21",
                                    "Atlagos_Foglaltsag": "2"
                                },
                                {
                                    "Szallashely_Neve": "Kentaur Hotel",
                                    "Szoba_Szama": "21",
                                    "Atlagos_Foglaltsag": "2"
                                },
                                {
                                    "Szallashely_Neve": "Lagúna Hotel",
                                    "Szoba_Szama": "21",
                                    "Atlagos_Foglaltsag": "2"
                                },
                                {
                                    "Szallashely_Neve": "Gold Hotel",
                                    "Szoba_Szama": "22",
                                    "Atlagos_Foglaltsag": "3"
                                },
                                {
                                    "Szallashely_Neve": "Hotel Három Hattyú",
                                    "Szoba_Szama": "22",
                                    "Atlagos_Foglaltsag": "3"
                                },
                                {
                                    "Szallashely_Neve": "Kentaur Hotel",
                                    "Szoba_Szama": "22",
                                    "Atlagos_Foglaltsag": "2"
                                },
                                {
                                    "Szallashely_Neve": "Lagúna Hotel",
                                    "Szoba_Szama": "22",
                                    "Atlagos_Foglaltsag": "3"
                                },
                                {
                                    "Szallashely_Neve": "Gold Hotel",
                                    "Szoba_Szama": "23",
                                    "Atlagos_Foglaltsag": "2"
                                },
                                {
                                    "Szallashely_Neve": "Hotel Három Hattyú",
                                    "Szoba_Szama": "23",
                                    "Atlagos_Foglaltsag": "4"
                                },
                                {
                                    "Szallashely_Neve": "Kentaur Hotel",
                                    "Szoba_Szama": "23",
                                    "Atlagos_Foglaltsag": "1"
                                },
                                {
                                    "Szallashely_Neve": "Lagúna Hotel",
                                    "Szoba_Szama": "23",
                                    "Atlagos_Foglaltsag": "1"
                                },
                                {
                                    "Szallashely_Neve": "Gold Hotel",
                                    "Szoba_Szama": "24",
                                    "Atlagos_Foglaltsag": "2"
                                },
                                {
                                    "Szallashely_Neve": "Hotel Három Hattyú",
                                    "Szoba_Szama": "24",
                                    "Atlagos_Foglaltsag": "2"
                                },
                                {
                                    "Szallashely_Neve": "Kentaur Hotel",
                                    "Szoba_Szama": "24",
                                    "Atlagos_Foglaltsag": "2"
                                },
                                {
                                    "Szallashely_Neve": "Lagúna Hotel",
                                    "Szoba_Szama": "24",
                                    "Atlagos_Foglaltsag": "3"
                                },
                                {
                                    "Szallashely_Neve": "Gold Hotel",
                                    "Szoba_Szama": "25",
                                    "Atlagos_Foglaltsag": "2"
                                },
                                {
                                    "Szallashely_Neve": "Hotel Három Hattyú",
                                    "Szoba_Szama": "25",
                                    "Atlagos_Foglaltsag": "2"
                                },
                                {
                                    "Szallashely_Neve": "Kentaur Hotel",
                                    "Szoba_Szama": "25",
                                    "Atlagos_Foglaltsag": "3"
                                },
                                {
                                    "Szallashely_Neve": "Gold Hotel",
                                    "Szoba_Szama": "26",
                                    "Atlagos_Foglaltsag": "1"
                                },
                                {
                                    "Szallashely_Neve": "Hotel Három Hattyú",
                                    "Szoba_Szama": "26",
                                    "Atlagos_Foglaltsag": "2"
                                },
                                {
                                    "Szallashely_Neve": "Kentaur Hotel",
                                    "Szoba_Szama": "26",
                                    "Atlagos_Foglaltsag": "2"
                                },
                                {
                                    "Szallashely_Neve": "Gold Hotel",
                                    "Szoba_Szama": "27",
                                    "Atlagos_Foglaltsag": "2"
                                },
                                {
                                    "Szallashely_Neve": "Hotel Három Hattyú",
                                    "Szoba_Szama": "27",
                                    "Atlagos_Foglaltsag": "3"
                                },
                                {
                                    "Szallashely_Neve": "Kentaur Hotel",
                                    "Szoba_Szama": "27",
                                    "Atlagos_Foglaltsag": "1"
                                },
                                {
                                    "Szallashely_Neve": "Gold Hotel",
                                    "Szoba_Szama": "28",
                                    "Atlagos_Foglaltsag": "2"
                                },
                                {
                                    "Szallashely_Neve": "Hotel Három Hattyú",
                                    "Szoba_Szama": "28",
                                    "Atlagos_Foglaltsag": "2"
                                },
                                {
                                    "Szallashely_Neve": "Kentaur Hotel",
                                    "Szoba_Szama": "28",
                                    "Atlagos_Foglaltsag": "2"
                                },
                                {
                                    "Szallashely_Neve": "Gold Hotel",
                                    "Szoba_Szama": "29",
                                    "Atlagos_Foglaltsag": "4"
                                },
                                {
                                    "Szallashely_Neve": "Hotel Három Hattyú",
                                    "Szoba_Szama": "29",
                                    "Atlagos_Foglaltsag": "1"
                                },
                                {
                                    "Szallashely_Neve": "Kentaur Hotel",
                                    "Szoba_Szama": "29",
                                    "Atlagos_Foglaltsag": "2"
                                },
                                {
                                    "Szallashely_Neve": "Családi Ház",
                                    "Szoba_Szama": "3",
                                    "Atlagos_Foglaltsag": "2"
                                },
                                {
                                    "Szallashely_Neve": "Fortuna Apartman",
                                    "Szoba_Szama": "3",
                                    "Atlagos_Foglaltsag": "2"
                                },
                                {
                                    "Szallashely_Neve": "Fortuna panzió",
                                    "Szoba_Szama": "3",
                                    "Atlagos_Foglaltsag": "2"
                                },
                                {
                                    "Szallashely_Neve": "Gold Hotel",
                                    "Szoba_Szama": "3",
                                    "Atlagos_Foglaltsag": "2"
                                },
                                {
                                    "Szallashely_Neve": "Hotel Három Hattyú",
                                    "Szoba_Szama": "3",
                                    "Atlagos_Foglaltsag": "3"
                                },
                                {
                                    "Szallashely_Neve": "Jáde panzió",
                                    "Szoba_Szama": "3",
                                    "Atlagos_Foglaltsag": "2"
                                },
                                {
                                    "Szallashely_Neve": "Kentaur Hotel",
                                    "Szoba_Szama": "3",
                                    "Atlagos_Foglaltsag": "1"
                                },
                                {
                                    "Szallashely_Neve": "Lagúna Hotel",
                                    "Szoba_Szama": "3",
                                    "Atlagos_Foglaltsag": "2"
                                },
                                {
                                    "Szallashely_Neve": "Partiszél Vendégház",
                                    "Szoba_Szama": "3",
                                    "Atlagos_Foglaltsag": "2"
                                },
                                {
                                    "Szallashely_Neve": "Sába-Ház",
                                    "Szoba_Szama": "3",
                                    "Atlagos_Foglaltsag": "3"
                                },
                                {
                                    "Szallashely_Neve": "Szieszta Apartmanház",
                                    "Szoba_Szama": "3",
                                    "Atlagos_Foglaltsag": "2"
                                },
                                {
                                    "Szallashely_Neve": "Gold Hotel",
                                    "Szoba_Szama": "30",
                                    "Atlagos_Foglaltsag": "3"
                                },
                                {
                                    "Szallashely_Neve": "Hotel Három Hattyú",
                                    "Szoba_Szama": "30",
                                    "Atlagos_Foglaltsag": "3"
                                },
                                {
                                    "Szallashely_Neve": "Kentaur Hotel",
                                    "Szoba_Szama": "30",
                                    "Atlagos_Foglaltsag": "2"
                                },
                                {
                                    "Szallashely_Neve": "Gold Hotel",
                                    "Szoba_Szama": "31",
                                    "Atlagos_Foglaltsag": "1"
                                },
                                {
                                    "Szallashely_Neve": "Hotel Három Hattyú",
                                    "Szoba_Szama": "31",
                                    "Atlagos_Foglaltsag": "2"
                                },
                                {
                                    "Szallashely_Neve": "Kentaur Hotel",
                                    "Szoba_Szama": "31",
                                    "Atlagos_Foglaltsag": "2"
                                },
                                {
                                    "Szallashely_Neve": "Gold Hotel",
                                    "Szoba_Szama": "32",
                                    "Atlagos_Foglaltsag": "2"
                                },
                                {
                                    "Szallashely_Neve": "Hotel Három Hattyú",
                                    "Szoba_Szama": "32",
                                    "Atlagos_Foglaltsag": "3"
                                },
                                {
                                    "Szallashely_Neve": "Kentaur Hotel",
                                    "Szoba_Szama": "32",
                                    "Atlagos_Foglaltsag": "1"
                                },
                                {
                                    "Szallashely_Neve": "Gold Hotel",
                                    "Szoba_Szama": "33",
                                    "Atlagos_Foglaltsag": "2"
                                },
                                {
                                    "Szallashely_Neve": "Hotel Három Hattyú",
                                    "Szoba_Szama": "33",
                                    "Atlagos_Foglaltsag": "2"
                                },
                                {
                                    "Szallashely_Neve": "Kentaur Hotel",
                                    "Szoba_Szama": "33",
                                    "Atlagos_Foglaltsag": "2"
                                },
                                {
                                    "Szallashely_Neve": "Gold Hotel",
                                    "Szoba_Szama": "34",
                                    "Atlagos_Foglaltsag": "2"
                                },
                                {
                                    "Szallashely_Neve": "Hotel Három Hattyú",
                                    "Szoba_Szama": "34",
                                    "Atlagos_Foglaltsag": "2"
                                },
                                {
                                    "Szallashely_Neve": "Kentaur Hotel",
                                    "Szoba_Szama": "34",
                                    "Atlagos_Foglaltsag": "2"
                                },
                                {
                                    "Szallashely_Neve": "Hotel Három Hattyú",
                                    "Szoba_Szama": "35",
                                    "Atlagos_Foglaltsag": "3"
                                },
                                {
                                    "Szallashely_Neve": "Kentaur Hotel",
                                    "Szoba_Szama": "35",
                                    "Atlagos_Foglaltsag": "1"
                                },
                                {
                                    "Szallashely_Neve": "Hotel Három Hattyú",
                                    "Szoba_Szama": "36",
                                    "Atlagos_Foglaltsag": "2"
                                },
                                {
                                    "Szallashely_Neve": "Hotel Három Hattyú",
                                    "Szoba_Szama": "37",
                                    "Atlagos_Foglaltsag": "2"
                                },
                                {
                                    "Szallashely_Neve": "Hotel Három Hattyú",
                                    "Szoba_Szama": "38",
                                    "Atlagos_Foglaltsag": "2"
                                },
                                {
                                    "Szallashely_Neve": "Hotel Három Hattyú",
                                    "Szoba_Szama": "39",
                                    "Atlagos_Foglaltsag": "2"
                                },
                                {
                                    "Szallashely_Neve": "Családi Ház",
                                    "Szoba_Szama": "4",
                                    "Atlagos_Foglaltsag": "3"
                                },
                                {
                                    "Szallashely_Neve": "Fortuna Apartman",
                                    "Szoba_Szama": "4",
                                    "Atlagos_Foglaltsag": "2"
                                },
                                {
                                    "Szallashely_Neve": "Fortuna panzió",
                                    "Szoba_Szama": "4",
                                    "Atlagos_Foglaltsag": "2"
                                },
                                {
                                    "Szallashely_Neve": "Gold Hotel",
                                    "Szoba_Szama": "4",
                                    "Atlagos_Foglaltsag": "3"
                                },
                                {
                                    "Szallashely_Neve": "Hotel Három Hattyú",
                                    "Szoba_Szama": "4",
                                    "Atlagos_Foglaltsag": "1"
                                },
                                {
                                    "Szallashely_Neve": "Jáde panzió",
                                    "Szoba_Szama": "4",
                                    "Atlagos_Foglaltsag": "2"
                                },
                                {
                                    "Szallashely_Neve": "Kentaur Hotel",
                                    "Szoba_Szama": "4",
                                    "Atlagos_Foglaltsag": "2"
                                },
                                {
                                    "Szallashely_Neve": "Lagúna Hotel",
                                    "Szoba_Szama": "4",
                                    "Atlagos_Foglaltsag": "2"
                                },
                                {
                                    "Szallashely_Neve": "Partiszél Vendégház",
                                    "Szoba_Szama": "4",
                                    "Atlagos_Foglaltsag": "1"
                                },
                                {
                                    "Szallashely_Neve": "Sába-Ház",
                                    "Szoba_Szama": "4",
                                    "Atlagos_Foglaltsag": "1"
                                },
                                {
                                    "Szallashely_Neve": "Szieszta Apartmanház",
                                    "Szoba_Szama": "4",
                                    "Atlagos_Foglaltsag": "2"
                                },
                                {
                                    "Szallashely_Neve": "Fortuna Apartman",
                                    "Szoba_Szama": "5",
                                    "Atlagos_Foglaltsag": "2"
                                },
                                {
                                    "Szallashely_Neve": "Fortuna panzió",
                                    "Szoba_Szama": "5",
                                    "Atlagos_Foglaltsag": "2"
                                },
                                {
                                    "Szallashely_Neve": "Gold Hotel",
                                    "Szoba_Szama": "5",
                                    "Atlagos_Foglaltsag": "2"
                                },
                                {
                                    "Szallashely_Neve": "Hotel Három Hattyú",
                                    "Szoba_Szama": "5",
                                    "Atlagos_Foglaltsag": "1"
                                },
                                {
                                    "Szallashely_Neve": "Jáde panzió",
                                    "Szoba_Szama": "5",
                                    "Atlagos_Foglaltsag": "2"
                                },
                                {
                                    "Szallashely_Neve": "Kentaur Hotel",
                                    "Szoba_Szama": "5",
                                    "Atlagos_Foglaltsag": "2"
                                },
                                {
                                    "Szallashely_Neve": "Lagúna Hotel",
                                    "Szoba_Szama": "5",
                                    "Atlagos_Foglaltsag": "2"
                                },
                                {
                                    "Szallashely_Neve": "Partiszél Vendégház",
                                    "Szoba_Szama": "5",
                                    "Atlagos_Foglaltsag": "2"
                                },
                                {
                                    "Szallashely_Neve": "Sába-Ház",
                                    "Szoba_Szama": "5",
                                    "Atlagos_Foglaltsag": "1"
                                },
                                {
                                    "Szallashely_Neve": "Szieszta Apartmanház",
                                    "Szoba_Szama": "5",
                                    "Atlagos_Foglaltsag": "2"
                                },
                                {
                                    "Szallashely_Neve": "Fortuna Apartman",
                                    "Szoba_Szama": "6",
                                    "Atlagos_Foglaltsag": "3"
                                },
                                {
                                    "Szallashely_Neve": "Fortuna Panzió",
                                    "Szoba_Szama": "6",
                                    "Atlagos_Foglaltsag": "1"
                                },
                                {
                                    "Szallashely_Neve": "Gold Hotel",
                                    "Szoba_Szama": "6",
                                    "Atlagos_Foglaltsag": "1"
                                },
                                {
                                    "Szallashely_Neve": "Hotel Három Hattyú",
                                    "Szoba_Szama": "6",
                                    "Atlagos_Foglaltsag": "2"
                                },
                                {
                                    "Szallashely_Neve": "Kentaur Hotel",
                                    "Szoba_Szama": "6",
                                    "Atlagos_Foglaltsag": "2"
                                },
                                {
                                    "Szallashely_Neve": "Lagúna Hotel",
                                    "Szoba_Szama": "6",
                                    "Atlagos_Foglaltsag": "2"
                                },
                                {
                                    "Szallashely_Neve": "Sába-Ház",
                                    "Szoba_Szama": "6",
                                    "Atlagos_Foglaltsag": "2"
                                },
                                {
                                    "Szallashely_Neve": "Szieszta Apartmanház",
                                    "Szoba_Szama": "6",
                                    "Atlagos_Foglaltsag": "2"
                                },
                                {
                                    "Szallashely_Neve": "Fortuna Apartman",
                                    "Szoba_Szama": "7",
                                    "Atlagos_Foglaltsag": "1"
                                },
                                {
                                    "Szallashely_Neve": "Fortuna panzió",
                                    "Szoba_Szama": "7",
                                    "Atlagos_Foglaltsag": "2"
                                },
                                {
                                    "Szallashely_Neve": "Gold Hotel",
                                    "Szoba_Szama": "7",
                                    "Atlagos_Foglaltsag": "1"
                                },
                                {
                                    "Szallashely_Neve": "Hotel Három Hattyú",
                                    "Szoba_Szama": "7",
                                    "Atlagos_Foglaltsag": "3"
                                },
                                {
                                    "Szallashely_Neve": "Kentaur Hotel",
                                    "Szoba_Szama": "7",
                                    "Atlagos_Foglaltsag": "1"
                                },
                                {
                                    "Szallashely_Neve": "Lagúna Hotel",
                                    "Szoba_Szama": "7",
                                    "Atlagos_Foglaltsag": "2"
                                },
                                {
                                    "Szallashely_Neve": "Sába-Ház",
                                    "Szoba_Szama": "7",
                                    "Atlagos_Foglaltsag": "1"
                                },
                                {
                                    "Szallashely_Neve": "Fortuna Apartman",
                                    "Szoba_Szama": "8",
                                    "Atlagos_Foglaltsag": "3"
                                },
                                {
                                    "Szallashely_Neve": "Fortuna panzió",
                                    "Szoba_Szama": "8",
                                    "Atlagos_Foglaltsag": "1"
                                },
                                {
                                    "Szallashely_Neve": "Gold Hotel",
                                    "Szoba_Szama": "8",
                                    "Atlagos_Foglaltsag": "1"
                                },
                                {
                                    "Szallashely_Neve": "Hotel Három Hattyú",
                                    "Szoba_Szama": "8",
                                    "Atlagos_Foglaltsag": "1"
                                },
                                {
                                    "Szallashely_Neve": "Kentaur Hotel",
                                    "Szoba_Szama": "8",
                                    "Atlagos_Foglaltsag": "1"
                                },
                                {
                                    "Szallashely_Neve": "Lagúna Hotel",
                                    "Szoba_Szama": "8",
                                    "Atlagos_Foglaltsag": "2"
                                },
                                {
                                    "Szallashely_Neve": "Sába-Ház",
                                    "Szoba_Szama": "8",
                                    "Atlagos_Foglaltsag": "2"
                                },
                                {
                                    "Szallashely_Neve": "Fortuna Panzió",
                                    "Szoba_Szama": "9",
                                    "Atlagos_Foglaltsag": "2"
                                },
                                {
                                    "Szallashely_Neve": "Gold Hotel",
                                    "Szoba_Szama": "9",
                                    "Atlagos_Foglaltsag": "1"
                                },
                                {
                                    "Szallashely_Neve": "Hotel Három Hattyú",
                                    "Szoba_Szama": "9",
                                    "Atlagos_Foglaltsag": "2"
                                },
                                {
                                    "Szallashely_Neve": "Kentaur Hotel",
                                    "Szoba_Szama": "9",
                                    "Atlagos_Foglaltsag": "2"
                                },
                                {
                                    "Szallashely_Neve": "Lagúna Hotel",
                                    "Szoba_Szama": "9",
                                    "Atlagos_Foglaltsag": "2"
                                },
                                {
                                    "Szallashely_Neve": "Sába-Ház",
                                    "Szoba_Szama": "9",
                                    "Atlagos_Foglaltsag": "3"
                                }
                            ]
                        },
                        "text/html": [
                            "<table>",
                            "<tr><th>Szallashely_Neve</th><th>Szoba_Szama</th><th>Atlagos_Foglaltsag</th></tr>",
                            "<tr><td>Családi Ház</td><td>1</td><td>2</td></tr>",
                            "<tr><td>Fortuna Apartman</td><td>1</td><td>2</td></tr>",
                            "<tr><td>Fortuna Panzió</td><td>1</td><td>2</td></tr>",
                            "<tr><td>Gold Hotel</td><td>1</td><td>1</td></tr>",
                            "<tr><td>Hotel Három Hattyú</td><td>1</td><td>1</td></tr>",
                            "<tr><td>Jáde panzió</td><td>1</td><td>1</td></tr>",
                            "<tr><td>Kentaur Hotel</td><td>1</td><td>1</td></tr>",
                            "<tr><td>Lagúna Hotel</td><td>1</td><td>2</td></tr>",
                            "<tr><td>Partiszél Vendégház</td><td>1</td><td>3</td></tr>",
                            "<tr><td>Sába-Ház</td><td>1</td><td>2</td></tr>",
                            "<tr><td>Szieszta Apartmanház</td><td>1</td><td>2</td></tr>",
                            "<tr><td>Fortuna Panzió</td><td>10</td><td>2</td></tr>",
                            "<tr><td>Gold Hotel</td><td>10</td><td>1</td></tr>",
                            "<tr><td>Hotel Három Hattyú</td><td>10</td><td>2</td></tr>",
                            "<tr><td>Kentaur Hotel</td><td>10</td><td>2</td></tr>",
                            "<tr><td>Lagúna Hotel</td><td>10</td><td>3</td></tr>",
                            "<tr><td>Sába-Ház</td><td>10</td><td>2</td></tr>",
                            "<tr><td>Fortuna panzió</td><td>11</td><td>2</td></tr>",
                            "<tr><td>Gold Hotel</td><td>11</td><td>1</td></tr>",
                            "<tr><td>Hotel Három Hattyú</td><td>11</td><td>2</td></tr>",
                            "<tr><td>Kentaur Hotel</td><td>11</td><td>2</td></tr>",
                            "<tr><td>Lagúna Hotel</td><td>11</td><td>2</td></tr>",
                            "<tr><td>Sába-Ház</td><td>11</td><td>2</td></tr>",
                            "<tr><td>Fortuna panzió</td><td>12</td><td>4</td></tr>",
                            "<tr><td>Gold Hotel</td><td>12</td><td>2</td></tr>",
                            "<tr><td>Hotel Három Hattyú</td><td>12</td><td>1</td></tr>",
                            "<tr><td>Kentaur Hotel</td><td>12</td><td>2</td></tr>",
                            "<tr><td>Lagúna Hotel</td><td>12</td><td>2</td></tr>",
                            "<tr><td>Sába-Ház</td><td>12</td><td>2</td></tr>",
                            "<tr><td>Fortuna panzió</td><td>13</td><td>1</td></tr>",
                            "<tr><td>Gold Hotel</td><td>13</td><td>3</td></tr>",
                            "<tr><td>Hotel Három Hattyú</td><td>13</td><td>2</td></tr>",
                            "<tr><td>Kentaur Hotel</td><td>13</td><td>1</td></tr>",
                            "<tr><td>Lagúna Hotel</td><td>13</td><td>2</td></tr>",
                            "<tr><td>Fortuna panzió</td><td>14</td><td>2</td></tr>",
                            "<tr><td>Gold Hotel</td><td>14</td><td>3</td></tr>",
                            "<tr><td>Hotel Három Hattyú</td><td>14</td><td>2</td></tr>",
                            "<tr><td>Kentaur Hotel</td><td>14</td><td>1</td></tr>",
                            "<tr><td>Lagúna Hotel</td><td>14</td><td>1</td></tr>",
                            "<tr><td>Fortuna panzió</td><td>15</td><td>1</td></tr>",
                            "<tr><td>Gold Hotel</td><td>15</td><td>3</td></tr>",
                            "<tr><td>Hotel Három Hattyú</td><td>15</td><td>2</td></tr>",
                            "<tr><td>Kentaur Hotel</td><td>15</td><td>2</td></tr>",
                            "<tr><td>Lagúna Hotel</td><td>15</td><td>1</td></tr>",
                            "<tr><td>Gold Hotel</td><td>16</td><td>3</td></tr>",
                            "<tr><td>Hotel Három Hattyú</td><td>16</td><td>1</td></tr>",
                            "<tr><td>Kentaur Hotel</td><td>16</td><td>2</td></tr>",
                            "<tr><td>Lagúna Hotel</td><td>16</td><td>2</td></tr>",
                            "<tr><td>Gold Hotel</td><td>17</td><td>3</td></tr>",
                            "<tr><td>Hotel Három Hattyú</td><td>17</td><td>2</td></tr>",
                            "<tr><td>Kentaur Hotel</td><td>17</td><td>3</td></tr>",
                            "<tr><td>Lagúna Hotel</td><td>17</td><td>1</td></tr>",
                            "<tr><td>Gold Hotel</td><td>18</td><td>1</td></tr>",
                            "<tr><td>Hotel Három Hattyú</td><td>18</td><td>1</td></tr>",
                            "<tr><td>Kentaur Hotel</td><td>18</td><td>2</td></tr>",
                            "<tr><td>Lagúna Hotel</td><td>18</td><td>2</td></tr>",
                            "<tr><td>Gold Hotel</td><td>19</td><td>2</td></tr>",
                            "<tr><td>Hotel Három Hattyú</td><td>19</td><td>2</td></tr>",
                            "<tr><td>Kentaur Hotel</td><td>19</td><td>4</td></tr>",
                            "<tr><td>Lagúna Hotel</td><td>19</td><td>2</td></tr>",
                            "<tr><td>Családi Ház</td><td>2</td><td>3</td></tr>",
                            "<tr><td>Fortuna Apartman</td><td>2</td><td>3</td></tr>",
                            "<tr><td>Fortuna Panzió</td><td>2</td><td>2</td></tr>",
                            "<tr><td>Gold Hotel</td><td>2</td><td>2</td></tr>",
                            "<tr><td>Hotel Három Hattyú</td><td>2</td><td>3</td></tr>",
                            "<tr><td>Jáde panzió</td><td>2</td><td>1</td></tr>",
                            "<tr><td>Kentaur Hotel</td><td>2</td><td>2</td></tr>",
                            "<tr><td>Lagúna Hotel</td><td>2</td><td>1</td></tr>",
                            "<tr><td>Partiszél Vendégház</td><td>2</td><td>2</td></tr>",
                            "<tr><td>Sába-Ház</td><td>2</td><td>3</td></tr>",
                            "<tr><td>Szieszta Apartmanház</td><td>2</td><td>2</td></tr>",
                            "<tr><td>Gold Hotel</td><td>20</td><td>1</td></tr>",
                            "<tr><td>Hotel Három Hattyú</td><td>20</td><td>1</td></tr>",
                            "<tr><td>Kentaur Hotel</td><td>20</td><td>2</td></tr>",
                            "<tr><td>Lagúna Hotel</td><td>20</td><td>2</td></tr>",
                            "<tr><td>Gold Hotel</td><td>21</td><td>2</td></tr>",
                            "<tr><td>Hotel Három Hattyú</td><td>21</td><td>2</td></tr>",
                            "<tr><td>Kentaur Hotel</td><td>21</td><td>2</td></tr>",
                            "<tr><td>Lagúna Hotel</td><td>21</td><td>2</td></tr>",
                            "<tr><td>Gold Hotel</td><td>22</td><td>3</td></tr>",
                            "<tr><td>Hotel Három Hattyú</td><td>22</td><td>3</td></tr>",
                            "<tr><td>Kentaur Hotel</td><td>22</td><td>2</td></tr>",
                            "<tr><td>Lagúna Hotel</td><td>22</td><td>3</td></tr>",
                            "<tr><td>Gold Hotel</td><td>23</td><td>2</td></tr>",
                            "<tr><td>Hotel Három Hattyú</td><td>23</td><td>4</td></tr>",
                            "<tr><td>Kentaur Hotel</td><td>23</td><td>1</td></tr>",
                            "<tr><td>Lagúna Hotel</td><td>23</td><td>1</td></tr>",
                            "<tr><td>Gold Hotel</td><td>24</td><td>2</td></tr>",
                            "<tr><td>Hotel Három Hattyú</td><td>24</td><td>2</td></tr>",
                            "<tr><td>Kentaur Hotel</td><td>24</td><td>2</td></tr>",
                            "<tr><td>Lagúna Hotel</td><td>24</td><td>3</td></tr>",
                            "<tr><td>Gold Hotel</td><td>25</td><td>2</td></tr>",
                            "<tr><td>Hotel Három Hattyú</td><td>25</td><td>2</td></tr>",
                            "<tr><td>Kentaur Hotel</td><td>25</td><td>3</td></tr>",
                            "<tr><td>Gold Hotel</td><td>26</td><td>1</td></tr>",
                            "<tr><td>Hotel Három Hattyú</td><td>26</td><td>2</td></tr>",
                            "<tr><td>Kentaur Hotel</td><td>26</td><td>2</td></tr>",
                            "<tr><td>Gold Hotel</td><td>27</td><td>2</td></tr>",
                            "<tr><td>Hotel Három Hattyú</td><td>27</td><td>3</td></tr>",
                            "<tr><td>Kentaur Hotel</td><td>27</td><td>1</td></tr>",
                            "<tr><td>Gold Hotel</td><td>28</td><td>2</td></tr>",
                            "<tr><td>Hotel Három Hattyú</td><td>28</td><td>2</td></tr>",
                            "<tr><td>Kentaur Hotel</td><td>28</td><td>2</td></tr>",
                            "<tr><td>Gold Hotel</td><td>29</td><td>4</td></tr>",
                            "<tr><td>Hotel Három Hattyú</td><td>29</td><td>1</td></tr>",
                            "<tr><td>Kentaur Hotel</td><td>29</td><td>2</td></tr>",
                            "<tr><td>Családi Ház</td><td>3</td><td>2</td></tr>",
                            "<tr><td>Fortuna Apartman</td><td>3</td><td>2</td></tr>",
                            "<tr><td>Fortuna panzió</td><td>3</td><td>2</td></tr>",
                            "<tr><td>Gold Hotel</td><td>3</td><td>2</td></tr>",
                            "<tr><td>Hotel Három Hattyú</td><td>3</td><td>3</td></tr>",
                            "<tr><td>Jáde panzió</td><td>3</td><td>2</td></tr>",
                            "<tr><td>Kentaur Hotel</td><td>3</td><td>1</td></tr>",
                            "<tr><td>Lagúna Hotel</td><td>3</td><td>2</td></tr>",
                            "<tr><td>Partiszél Vendégház</td><td>3</td><td>2</td></tr>",
                            "<tr><td>Sába-Ház</td><td>3</td><td>3</td></tr>",
                            "<tr><td>Szieszta Apartmanház</td><td>3</td><td>2</td></tr>",
                            "<tr><td>Gold Hotel</td><td>30</td><td>3</td></tr>",
                            "<tr><td>Hotel Három Hattyú</td><td>30</td><td>3</td></tr>",
                            "<tr><td>Kentaur Hotel</td><td>30</td><td>2</td></tr>",
                            "<tr><td>Gold Hotel</td><td>31</td><td>1</td></tr>",
                            "<tr><td>Hotel Három Hattyú</td><td>31</td><td>2</td></tr>",
                            "<tr><td>Kentaur Hotel</td><td>31</td><td>2</td></tr>",
                            "<tr><td>Gold Hotel</td><td>32</td><td>2</td></tr>",
                            "<tr><td>Hotel Három Hattyú</td><td>32</td><td>3</td></tr>",
                            "<tr><td>Kentaur Hotel</td><td>32</td><td>1</td></tr>",
                            "<tr><td>Gold Hotel</td><td>33</td><td>2</td></tr>",
                            "<tr><td>Hotel Három Hattyú</td><td>33</td><td>2</td></tr>",
                            "<tr><td>Kentaur Hotel</td><td>33</td><td>2</td></tr>",
                            "<tr><td>Gold Hotel</td><td>34</td><td>2</td></tr>",
                            "<tr><td>Hotel Három Hattyú</td><td>34</td><td>2</td></tr>",
                            "<tr><td>Kentaur Hotel</td><td>34</td><td>2</td></tr>",
                            "<tr><td>Hotel Három Hattyú</td><td>35</td><td>3</td></tr>",
                            "<tr><td>Kentaur Hotel</td><td>35</td><td>1</td></tr>",
                            "<tr><td>Hotel Három Hattyú</td><td>36</td><td>2</td></tr>",
                            "<tr><td>Hotel Három Hattyú</td><td>37</td><td>2</td></tr>",
                            "<tr><td>Hotel Három Hattyú</td><td>38</td><td>2</td></tr>",
                            "<tr><td>Hotel Három Hattyú</td><td>39</td><td>2</td></tr>",
                            "<tr><td>Családi Ház</td><td>4</td><td>3</td></tr>",
                            "<tr><td>Fortuna Apartman</td><td>4</td><td>2</td></tr>",
                            "<tr><td>Fortuna panzió</td><td>4</td><td>2</td></tr>",
                            "<tr><td>Gold Hotel</td><td>4</td><td>3</td></tr>",
                            "<tr><td>Hotel Három Hattyú</td><td>4</td><td>1</td></tr>",
                            "<tr><td>Jáde panzió</td><td>4</td><td>2</td></tr>",
                            "<tr><td>Kentaur Hotel</td><td>4</td><td>2</td></tr>",
                            "<tr><td>Lagúna Hotel</td><td>4</td><td>2</td></tr>",
                            "<tr><td>Partiszél Vendégház</td><td>4</td><td>1</td></tr>",
                            "<tr><td>Sába-Ház</td><td>4</td><td>1</td></tr>",
                            "<tr><td>Szieszta Apartmanház</td><td>4</td><td>2</td></tr>",
                            "<tr><td>Fortuna Apartman</td><td>5</td><td>2</td></tr>",
                            "<tr><td>Fortuna panzió</td><td>5</td><td>2</td></tr>",
                            "<tr><td>Gold Hotel</td><td>5</td><td>2</td></tr>",
                            "<tr><td>Hotel Három Hattyú</td><td>5</td><td>1</td></tr>",
                            "<tr><td>Jáde panzió</td><td>5</td><td>2</td></tr>",
                            "<tr><td>Kentaur Hotel</td><td>5</td><td>2</td></tr>",
                            "<tr><td>Lagúna Hotel</td><td>5</td><td>2</td></tr>",
                            "<tr><td>Partiszél Vendégház</td><td>5</td><td>2</td></tr>",
                            "<tr><td>Sába-Ház</td><td>5</td><td>1</td></tr>",
                            "<tr><td>Szieszta Apartmanház</td><td>5</td><td>2</td></tr>",
                            "<tr><td>Fortuna Apartman</td><td>6</td><td>3</td></tr>",
                            "<tr><td>Fortuna Panzió</td><td>6</td><td>1</td></tr>",
                            "<tr><td>Gold Hotel</td><td>6</td><td>1</td></tr>",
                            "<tr><td>Hotel Három Hattyú</td><td>6</td><td>2</td></tr>",
                            "<tr><td>Kentaur Hotel</td><td>6</td><td>2</td></tr>",
                            "<tr><td>Lagúna Hotel</td><td>6</td><td>2</td></tr>",
                            "<tr><td>Sába-Ház</td><td>6</td><td>2</td></tr>",
                            "<tr><td>Szieszta Apartmanház</td><td>6</td><td>2</td></tr>",
                            "<tr><td>Fortuna Apartman</td><td>7</td><td>1</td></tr>",
                            "<tr><td>Fortuna panzió</td><td>7</td><td>2</td></tr>",
                            "<tr><td>Gold Hotel</td><td>7</td><td>1</td></tr>",
                            "<tr><td>Hotel Három Hattyú</td><td>7</td><td>3</td></tr>",
                            "<tr><td>Kentaur Hotel</td><td>7</td><td>1</td></tr>",
                            "<tr><td>Lagúna Hotel</td><td>7</td><td>2</td></tr>",
                            "<tr><td>Sába-Ház</td><td>7</td><td>1</td></tr>",
                            "<tr><td>Fortuna Apartman</td><td>8</td><td>3</td></tr>",
                            "<tr><td>Fortuna panzió</td><td>8</td><td>1</td></tr>",
                            "<tr><td>Gold Hotel</td><td>8</td><td>1</td></tr>",
                            "<tr><td>Hotel Három Hattyú</td><td>8</td><td>1</td></tr>",
                            "<tr><td>Kentaur Hotel</td><td>8</td><td>1</td></tr>",
                            "<tr><td>Lagúna Hotel</td><td>8</td><td>2</td></tr>",
                            "<tr><td>Sába-Ház</td><td>8</td><td>2</td></tr>",
                            "<tr><td>Fortuna Panzió</td><td>9</td><td>2</td></tr>",
                            "<tr><td>Gold Hotel</td><td>9</td><td>1</td></tr>",
                            "<tr><td>Hotel Három Hattyú</td><td>9</td><td>2</td></tr>",
                            "<tr><td>Kentaur Hotel</td><td>9</td><td>2</td></tr>",
                            "<tr><td>Lagúna Hotel</td><td>9</td><td>2</td></tr>",
                            "<tr><td>Sába-Ház</td><td>9</td><td>3</td></tr>",
                            "</table>"
                        ]
                    }
                }
            ],
            "execution_count": 16
        },
        {
            "cell_type": "markdown",
            "source": [
                "Készítsen lekérdezést, amely megjeleníti, hogy szálláshelyenként, azon belül a pótágyak száma szerint hány főre foglaltak összesen (felnőtt + gyermek)!\n",
                "\n",
                "- Jelenjenek meg a részösszegek és a végösszeg is!"
            ],
            "metadata": {
                "azdata_cell_guid": "29f8d386-0561-4d99-970e-ad3bff9a68fb"
            },
            "attachments": {}
        },
        {
            "cell_type": "code",
            "source": [
                "select \r\n",
                "    s.SZALLAS_NEV,\r\n",
                "    sz.POTAGY,\r\n",
                "    sum(f.FELNOTT_SZAM + f.GYERMEK_SZAM) AS Összes\r\n",
                "from\r\n",
                "    Foglalas f\r\n",
                "join \r\n",
                "    Szoba sz on f.SZOBA_FK = sz.SZOBA_ID\r\n",
                "join \r\n",
                "    Szallashely s on sz.SZALLAS_FK = s.SZALLAS_ID\r\n",
                "join Vendeg v on f.UGYFEL_FK =v.USERNEV\r\n",
                "group by \r\n",
                "    GROUPING SETS (ROLLUP(s.SZALLAS_NEV, sz.POTAGY), (s.SZALLAS_NEV), ()) --- itt a véösszeg nem jó, talán valami if-es elágazás kéne\r\n",
                "order by\r\n",
                "    s.SZALLAS_NEV,\r\n",
                "    sz.POTAGY;\r\n",
                ""
            ],
            "metadata": {
                "azdata_cell_guid": "d84dc119-2f70-49d6-8e3a-85276930d5a1",
                "language": "sql"
            },
            "outputs": [
                {
                    "output_type": "display_data",
                    "data": {
                        "text/html": "(53 rows affected)"
                    },
                    "metadata": {}
                },
                {
                    "output_type": "display_data",
                    "data": {
                        "text/html": "Total execution time: 00:00:00.014"
                    },
                    "metadata": {}
                },
                {
                    "output_type": "execute_result",
                    "metadata": {},
                    "execution_count": 13,
                    "data": {
                        "application/vnd.dataresource+json": {
                            "schema": {
                                "fields": [
                                    {
                                        "name": "SZALLAS_NEV"
                                    },
                                    {
                                        "name": "POTAGY"
                                    },
                                    {
                                        "name": "Összes"
                                    }
                                ]
                            },
                            "data": [
                                {
                                    "SZALLAS_NEV": "NULL",
                                    "POTAGY": "NULL",
                                    "Összes": "2490"
                                },
                                {
                                    "SZALLAS_NEV": "NULL",
                                    "POTAGY": "NULL",
                                    "Összes": "2490"
                                },
                                {
                                    "SZALLAS_NEV": "Családi Ház",
                                    "POTAGY": "NULL",
                                    "Összes": "52"
                                },
                                {
                                    "SZALLAS_NEV": "Családi Ház",
                                    "POTAGY": "NULL",
                                    "Összes": "52"
                                },
                                {
                                    "SZALLAS_NEV": "Családi Ház",
                                    "POTAGY": "0",
                                    "Összes": "10"
                                },
                                {
                                    "SZALLAS_NEV": "Családi Ház",
                                    "POTAGY": "1",
                                    "Összes": "31"
                                },
                                {
                                    "SZALLAS_NEV": "Családi Ház",
                                    "POTAGY": "2",
                                    "Összes": "11"
                                },
                                {
                                    "SZALLAS_NEV": "Fortuna Apartman",
                                    "POTAGY": "NULL",
                                    "Összes": "106"
                                },
                                {
                                    "SZALLAS_NEV": "Fortuna Apartman",
                                    "POTAGY": "NULL",
                                    "Összes": "106"
                                },
                                {
                                    "SZALLAS_NEV": "Fortuna Apartman",
                                    "POTAGY": "0",
                                    "Összes": "18"
                                },
                                {
                                    "SZALLAS_NEV": "Fortuna Apartman",
                                    "POTAGY": "1",
                                    "Összes": "52"
                                },
                                {
                                    "SZALLAS_NEV": "Fortuna Apartman",
                                    "POTAGY": "2",
                                    "Összes": "36"
                                },
                                {
                                    "SZALLAS_NEV": "Fortuna panzió",
                                    "POTAGY": "NULL",
                                    "Összes": "311"
                                },
                                {
                                    "SZALLAS_NEV": "Fortuna panzió",
                                    "POTAGY": "NULL",
                                    "Összes": "311"
                                },
                                {
                                    "SZALLAS_NEV": "Fortuna panzió",
                                    "POTAGY": "0",
                                    "Összes": "158"
                                },
                                {
                                    "SZALLAS_NEV": "Fortuna Panzió",
                                    "POTAGY": "1",
                                    "Összes": "113"
                                },
                                {
                                    "SZALLAS_NEV": "Fortuna panzió",
                                    "POTAGY": "2",
                                    "Összes": "40"
                                },
                                {
                                    "SZALLAS_NEV": "Gold Hotel",
                                    "POTAGY": "NULL",
                                    "Összes": "428"
                                },
                                {
                                    "SZALLAS_NEV": "Gold Hotel",
                                    "POTAGY": "NULL",
                                    "Összes": "428"
                                },
                                {
                                    "SZALLAS_NEV": "Gold Hotel",
                                    "POTAGY": "0",
                                    "Összes": "216"
                                },
                                {
                                    "SZALLAS_NEV": "Gold Hotel",
                                    "POTAGY": "1",
                                    "Összes": "93"
                                },
                                {
                                    "SZALLAS_NEV": "Gold Hotel",
                                    "POTAGY": "2",
                                    "Összes": "119"
                                },
                                {
                                    "SZALLAS_NEV": "Hotel Három Hattyú",
                                    "POTAGY": "NULL",
                                    "Összes": "504"
                                },
                                {
                                    "SZALLAS_NEV": "Hotel Három Hattyú",
                                    "POTAGY": "NULL",
                                    "Összes": "504"
                                },
                                {
                                    "SZALLAS_NEV": "Hotel Három Hattyú",
                                    "POTAGY": "0",
                                    "Összes": "183"
                                },
                                {
                                    "SZALLAS_NEV": "Hotel Három Hattyú",
                                    "POTAGY": "1",
                                    "Összes": "258"
                                },
                                {
                                    "SZALLAS_NEV": "Hotel Három Hattyú",
                                    "POTAGY": "2",
                                    "Összes": "63"
                                },
                                {
                                    "SZALLAS_NEV": "Jáde panzió",
                                    "POTAGY": "NULL",
                                    "Összes": "66"
                                },
                                {
                                    "SZALLAS_NEV": "Jáde panzió",
                                    "POTAGY": "NULL",
                                    "Összes": "66"
                                },
                                {
                                    "SZALLAS_NEV": "Jáde panzió",
                                    "POTAGY": "0",
                                    "Összes": "66"
                                },
                                {
                                    "SZALLAS_NEV": "Kentaur Hotel",
                                    "POTAGY": "NULL",
                                    "Összes": "420"
                                },
                                {
                                    "SZALLAS_NEV": "Kentaur Hotel",
                                    "POTAGY": "NULL",
                                    "Összes": "420"
                                },
                                {
                                    "SZALLAS_NEV": "Kentaur Hotel",
                                    "POTAGY": "0",
                                    "Összes": "168"
                                },
                                {
                                    "SZALLAS_NEV": "Kentaur Hotel",
                                    "POTAGY": "1",
                                    "Összes": "224"
                                },
                                {
                                    "SZALLAS_NEV": "Kentaur Hotel",
                                    "POTAGY": "2",
                                    "Összes": "28"
                                },
                                {
                                    "SZALLAS_NEV": "Lagúna Hotel",
                                    "POTAGY": "NULL",
                                    "Összes": "291"
                                },
                                {
                                    "SZALLAS_NEV": "Lagúna Hotel",
                                    "POTAGY": "NULL",
                                    "Összes": "291"
                                },
                                {
                                    "SZALLAS_NEV": "Lagúna Hotel",
                                    "POTAGY": "0",
                                    "Összes": "105"
                                },
                                {
                                    "SZALLAS_NEV": "Lagúna Hotel",
                                    "POTAGY": "1",
                                    "Összes": "150"
                                },
                                {
                                    "SZALLAS_NEV": "Lagúna Hotel",
                                    "POTAGY": "2",
                                    "Összes": "36"
                                },
                                {
                                    "SZALLAS_NEV": "Partiszél Vendégház",
                                    "POTAGY": "NULL",
                                    "Összes": "63"
                                },
                                {
                                    "SZALLAS_NEV": "Partiszél Vendégház",
                                    "POTAGY": "NULL",
                                    "Összes": "63"
                                },
                                {
                                    "SZALLAS_NEV": "Partiszél Vendégház",
                                    "POTAGY": "0",
                                    "Összes": "31"
                                },
                                {
                                    "SZALLAS_NEV": "Partiszél Vendégház",
                                    "POTAGY": "1",
                                    "Összes": "17"
                                },
                                {
                                    "SZALLAS_NEV": "Partiszél Vendégház",
                                    "POTAGY": "2",
                                    "Összes": "15"
                                },
                                {
                                    "SZALLAS_NEV": "Sába-Ház",
                                    "POTAGY": "NULL",
                                    "Összes": "166"
                                },
                                {
                                    "SZALLAS_NEV": "Sába-Ház",
                                    "POTAGY": "NULL",
                                    "Összes": "166"
                                },
                                {
                                    "SZALLAS_NEV": "Sába-Ház",
                                    "POTAGY": "0",
                                    "Összes": "67"
                                },
                                {
                                    "SZALLAS_NEV": "Sába-Ház",
                                    "POTAGY": "1",
                                    "Összes": "99"
                                },
                                {
                                    "SZALLAS_NEV": "Szieszta Apartmanház",
                                    "POTAGY": "NULL",
                                    "Összes": "83"
                                },
                                {
                                    "SZALLAS_NEV": "Szieszta Apartmanház",
                                    "POTAGY": "NULL",
                                    "Összes": "83"
                                },
                                {
                                    "SZALLAS_NEV": "Szieszta Apartmanház",
                                    "POTAGY": "0",
                                    "Összes": "64"
                                },
                                {
                                    "SZALLAS_NEV": "Szieszta Apartmanház",
                                    "POTAGY": "1",
                                    "Összes": "19"
                                }
                            ]
                        },
                        "text/html": [
                            "<table>",
                            "<tr><th>SZALLAS_NEV</th><th>POTAGY</th><th>Összes</th></tr>",
                            "<tr><td>NULL</td><td>NULL</td><td>2490</td></tr>",
                            "<tr><td>NULL</td><td>NULL</td><td>2490</td></tr>",
                            "<tr><td>Családi Ház</td><td>NULL</td><td>52</td></tr>",
                            "<tr><td>Családi Ház</td><td>NULL</td><td>52</td></tr>",
                            "<tr><td>Családi Ház</td><td>0</td><td>10</td></tr>",
                            "<tr><td>Családi Ház</td><td>1</td><td>31</td></tr>",
                            "<tr><td>Családi Ház</td><td>2</td><td>11</td></tr>",
                            "<tr><td>Fortuna Apartman</td><td>NULL</td><td>106</td></tr>",
                            "<tr><td>Fortuna Apartman</td><td>NULL</td><td>106</td></tr>",
                            "<tr><td>Fortuna Apartman</td><td>0</td><td>18</td></tr>",
                            "<tr><td>Fortuna Apartman</td><td>1</td><td>52</td></tr>",
                            "<tr><td>Fortuna Apartman</td><td>2</td><td>36</td></tr>",
                            "<tr><td>Fortuna panzió</td><td>NULL</td><td>311</td></tr>",
                            "<tr><td>Fortuna panzió</td><td>NULL</td><td>311</td></tr>",
                            "<tr><td>Fortuna panzió</td><td>0</td><td>158</td></tr>",
                            "<tr><td>Fortuna Panzió</td><td>1</td><td>113</td></tr>",
                            "<tr><td>Fortuna panzió</td><td>2</td><td>40</td></tr>",
                            "<tr><td>Gold Hotel</td><td>NULL</td><td>428</td></tr>",
                            "<tr><td>Gold Hotel</td><td>NULL</td><td>428</td></tr>",
                            "<tr><td>Gold Hotel</td><td>0</td><td>216</td></tr>",
                            "<tr><td>Gold Hotel</td><td>1</td><td>93</td></tr>",
                            "<tr><td>Gold Hotel</td><td>2</td><td>119</td></tr>",
                            "<tr><td>Hotel Három Hattyú</td><td>NULL</td><td>504</td></tr>",
                            "<tr><td>Hotel Három Hattyú</td><td>NULL</td><td>504</td></tr>",
                            "<tr><td>Hotel Három Hattyú</td><td>0</td><td>183</td></tr>",
                            "<tr><td>Hotel Három Hattyú</td><td>1</td><td>258</td></tr>",
                            "<tr><td>Hotel Három Hattyú</td><td>2</td><td>63</td></tr>",
                            "<tr><td>Jáde panzió</td><td>NULL</td><td>66</td></tr>",
                            "<tr><td>Jáde panzió</td><td>NULL</td><td>66</td></tr>",
                            "<tr><td>Jáde panzió</td><td>0</td><td>66</td></tr>",
                            "<tr><td>Kentaur Hotel</td><td>NULL</td><td>420</td></tr>",
                            "<tr><td>Kentaur Hotel</td><td>NULL</td><td>420</td></tr>",
                            "<tr><td>Kentaur Hotel</td><td>0</td><td>168</td></tr>",
                            "<tr><td>Kentaur Hotel</td><td>1</td><td>224</td></tr>",
                            "<tr><td>Kentaur Hotel</td><td>2</td><td>28</td></tr>",
                            "<tr><td>Lagúna Hotel</td><td>NULL</td><td>291</td></tr>",
                            "<tr><td>Lagúna Hotel</td><td>NULL</td><td>291</td></tr>",
                            "<tr><td>Lagúna Hotel</td><td>0</td><td>105</td></tr>",
                            "<tr><td>Lagúna Hotel</td><td>1</td><td>150</td></tr>",
                            "<tr><td>Lagúna Hotel</td><td>2</td><td>36</td></tr>",
                            "<tr><td>Partiszél Vendégház</td><td>NULL</td><td>63</td></tr>",
                            "<tr><td>Partiszél Vendégház</td><td>NULL</td><td>63</td></tr>",
                            "<tr><td>Partiszél Vendégház</td><td>0</td><td>31</td></tr>",
                            "<tr><td>Partiszél Vendégház</td><td>1</td><td>17</td></tr>",
                            "<tr><td>Partiszél Vendégház</td><td>2</td><td>15</td></tr>",
                            "<tr><td>Sába-Ház</td><td>NULL</td><td>166</td></tr>",
                            "<tr><td>Sába-Ház</td><td>NULL</td><td>166</td></tr>",
                            "<tr><td>Sába-Ház</td><td>0</td><td>67</td></tr>",
                            "<tr><td>Sába-Ház</td><td>1</td><td>99</td></tr>",
                            "<tr><td>Szieszta Apartmanház</td><td>NULL</td><td>83</td></tr>",
                            "<tr><td>Szieszta Apartmanház</td><td>NULL</td><td>83</td></tr>",
                            "<tr><td>Szieszta Apartmanház</td><td>0</td><td>64</td></tr>",
                            "<tr><td>Szieszta Apartmanház</td><td>1</td><td>19</td></tr>",
                            "</table>"
                        ]
                    }
                }
            ],
            "execution_count": 13
        },
        {
            "cell_type": "markdown",
            "source": [
                "Készítsünk ideiglenes táblát #MASKED\\_GUEST néven, ahol \n",
                "\n",
                "- a tábla felépítése megegyezik a vendég tábláéval, DE\n",
                "- a vendégek nevének csak az első 2, és az utolsó 3 karaktere jelenjen meg, közötte X-ek legyenek!"
            ],
            "metadata": {
                "language": "sql",
                "azdata_cell_guid": "2533aa08-64d1-40d8-a1e1-d6c2223576b3"
            },
            "attachments": {}
        },
        {
            "cell_type": "code",
            "source": [
                "--kesz\r\n",
                "create table #MASKED_GUEST (\r\n",
                "    USERNEV nvarchar(20) MASKED WITH (function = 'partial(2, \"XXXX\", 3)'), --primary key, de mivel maszkolt, nem kell megadni\r\n",
                "    NEV nvarchar(50),\r\n",
                "    EMAIL nvarchar(60),\r\n",
                "    SZAML_CIM nvarchar(100),\r\n",
                "    SZUL_DAT date\r\n",
                ");\r\n",
                ""
            ],
            "metadata": {
                "language": "sql",
                "azdata_cell_guid": "79f897ab-f427-4da2-b47c-768a2eb0862a",
                "tags": []
            },
            "outputs": [
                {
                    "output_type": "display_data",
                    "data": {
                        "text/html": "Commands completed successfully."
                    },
                    "metadata": {}
                },
                {
                    "output_type": "display_data",
                    "data": {
                        "text/html": "Total execution time: 00:00:00.004"
                    },
                    "metadata": {}
                }
            ],
            "execution_count": 2
        },
        {
            "cell_type": "code",
            "source": [
                "--select * from #masked_guest"
            ],
            "metadata": {
                "language": "sql",
                "azdata_cell_guid": "bb728d9f-4613-4afa-9f9c-8f4e1528e28b"
            },
            "outputs": [
                {
                    "output_type": "display_data",
                    "data": {
                        "text/html": "Commands completed successfully."
                    },
                    "metadata": {}
                },
                {
                    "output_type": "display_data",
                    "data": {
                        "text/html": "Total execution time: 00:00:00.001"
                    },
                    "metadata": {}
                }
            ],
            "execution_count": 6
        },
        {
            "cell_type": "markdown",
            "source": [
                "Oldja meg REDIS-ben a következő feladatokat:\n",
                "\n",
                "- hozzon létre egy string kulcsot, amely egy könyvtár nevét tartalmazza\n",
                "- hozzon létre egy hash kulcsot, amely egy könyv legalább 3 adatát tartalmazza\n",
                "- hozzon létre egy set kulcsot, amely a könyvtárban lévő könyvek műfajait tartalmazza (legalább 3)\n",
                "- hozzon létre egy list kulcsot, amely a kikölcsönzött könyvek címeit tartalmazza (legalább 3)\n",
                "- hozzon létre egy sorted set kulcsot, amely az adott könyvek címeit és a könyv kölcsönzéseinek számát tartalmazza (legalább 3)"
            ],
            "metadata": {
                "language": "sql",
                "azdata_cell_guid": "160fec47-7f20-45af-9f52-3b59fac9659a"
            },
            "attachments": {}
        },
        {
            "cell_type": "code",
            "source": [
                "--késu\r\n",
                "SET konyvvar \"Szabó Ervin Könyvtár\"\r\n",
                "HSET book:1 cim \"Faust\" iro \"Nem tudom ki írta\" year \"1967\"\r\n",
                "SADD fajtak \"gyerekmese\" \"ismeretterjesztő\" \"oktató\" \"fantasy\"\r\n",
                "RPUSH kolcsonzott_konyvek \"bogyobaboca\" \"holvagyok\" \"meg lesz az ötös\"\r\n",
                "ZADD konyvek_szama 19 \"a\" 10 \"b\" 2 \"c\"\r\n",
                "\r\n",
                "\r\n",
                ""
            ],
            "metadata": {
                "language": "sql",
                "azdata_cell_guid": "70706995-835b-4f44-acaf-321fef12ba36"
            },
            "outputs": [],
            "execution_count": null
        },
        {
            "cell_type": "markdown",
            "source": [
                "Cassandra CQL Shellben hozza létre a következő táblát:\n",
                "\n",
                "STUDENT(ID, Nev, Teljesitett\\_felevek, Eredmenyek, Nyelvtudas)\n",
                "\n",
                "- Az ID legyen az elsődleges kulcs\n",
                "- A Teljesitett félévek legyen LIST, tartalma egész számok, pl: 1, 2, 3\n",
                "- Az Eredmenyek legyen MAP, tartalma, hogy melyik félévben mennyi volt az átlag, pl: 1: 3,00, 2: 4.55, 3: 4,10\n",
                "- A Nyelvtudas legyen SET, tartalma a nyelvek megnevezése\n",
                "\n",
                "Vigyen fel legalább 2 rekordot!"
            ],
            "metadata": {
                "language": "sql",
                "azdata_cell_guid": "35c5ff23-bde6-491c-b00a-04cb7fe759ab"
            },
            "attachments": {}
        },
        {
            "cell_type": "code",
            "source": [
                "-- kesz\r\n",
                "create table STUDENT (\r\n",
                "    ID int PRIMARY KEY,\r\n",
                "    Nev text,\r\n",
                "    Teljesitett_felevek LIST<int>,\r\n",
                "    Eredmenyek MAP<float>,\r\n",
                "    Nyelvtudas SET<text>\r\n",
                ");\r\n",
                "\r\n",
                "insert into STUDENT (ID, Nev, Teljesitett_felevek, Eredmenyek, Nyelvtudas) \r\n",
                "values (1, 'Víz Elek', [1,2,3,4], {1:3.02,2:4.55,3:4.10}, {'semmilyen', 'magyar', 'francia'});\r\n",
                "\r\n",
                "insert into STUDENT (ID, Nev, Teljesitett_felevek, Eredmenyek, Nyelvtudas) \r\n",
                "values (2, 'Pop Simon', [1,2], {1: 4.21, 2: 4.8}, {'lovári', 'mandarin'});\r\n",
                ""
            ],
            "metadata": {
                "language": "sql",
                "azdata_cell_guid": "6b7a2259-cc4c-4b90-8daa-288148d47cd5"
            },
            "outputs": [],
            "execution_count": null
        },
        {
            "cell_type": "markdown",
            "source": [
                "A Neo4j Sandbox-ban vagy a Desktopban jelenítsük meg azon személyeket, akik egy filmben szerepeltek Tom Hanks-sel.\n",
                "\n",
                "- Egy szereplő neve csak egyszer jelenjen meg\n",
                "- Tom Hanks ne legyen benne a listában"
            ],
            "metadata": {
                "language": "sql",
                "azdata_cell_guid": "1be891b2-95a2-4a22-8700-f822314a9f57"
            },
            "attachments": {}
        },
        {
            "cell_type": "code",
            "source": [
                "--kesz\r\n",
                "MATCH (p:Person {name:\"Tom Hanks\"})-[:ACTED_IN]->(movie)<-[:ACTED_IN]-(tommy)\r\n",
                "WHERE p <> tommy\r\n",
                "RETURN distinct tommy.name AS kik_voltak\r\n",
                ""
            ],
            "metadata": {
                "language": "sql",
                "azdata_cell_guid": "a63baa50-bf30-4e4e-96ef-69100428cf39"
            },
            "outputs": [],
            "execution_count": null
        }
    ]
}