{
    "metadata": {
        "kernelspec": {
            "name": "SQL",
            "display_name": "SQL",
            "language": "sql"
        },
        "language_info": {
            "name": "sql",
            "version": ""
        },
        "extensions": {
            "azuredatastudio": {
                "version": 1,
                "views": []
            }
        }
    },
    "nbformat_minor": 2,
    "nbformat": 4,
    "cells": [
        {
            "cell_type": "markdown",
            "source": [
                "1. <span style=\"color:rgb(36, 41, 47);font-family:-apple-system, BlinkMacSystemFont, &quot;Segoe UI&quot;, Helvetica, Arial, sans-serif, &quot;Apple Color Emoji&quot;, &quot;Segoe UI Emoji&quot;;font-size:16px;\">Készítsünk lekérdezést, amely listázza, hogy mely napokon hány db kölcsönzés történt!</span>\n",
                "\n",
                "<span style=\"font-size: 16px;\">a.&nbsp;</span> Az oszlopok neve legyen 'Dátum' és 'Kölcsönzések száma'  \n",
                "b. A listát rendezzük a kölcsönzés dátuma szerint csökkenő sorrendbe!"
            ],
            "metadata": {
                "azdata_cell_guid": "77f2d5b3-38e9-41cc-893f-f5afd02b97ef"
            },
            "attachments": {}
        },
        {
            "cell_type": "code",
            "source": [
                "SELECT  ki_datum,\r\n",
                "        COUNT(*)\r\n",
                "FROM kolcsonzesek\r\n",
                "GROUP BY ki_datum"
            ],
            "metadata": {
                "azdata_cell_guid": "bd3cef1a-4e6e-4ece-9dc3-aaa9d2b5d66d",
                "language": "sql"
            },
            "outputs": [
                {
                    "output_type": "display_data",
                    "data": {
                        "text/html": "(3 rows affected)"
                    },
                    "metadata": {}
                },
                {
                    "output_type": "display_data",
                    "data": {
                        "text/html": "Total execution time: 00:00:00.009"
                    },
                    "metadata": {}
                },
                {
                    "output_type": "execute_result",
                    "execution_count": 5,
                    "data": {
                        "application/vnd.dataresource+json": {
                            "schema": {
                                "fields": [
                                    {
                                        "name": "ki_datum"
                                    },
                                    {
                                        "name": "(No column name)"
                                    }
                                ]
                            },
                            "data": [
                                {
                                    "ki_datum": "2003-12-11",
                                    "(No column name)": "3"
                                },
                                {
                                    "ki_datum": "2006-10-01",
                                    "(No column name)": "1"
                                },
                                {
                                    "ki_datum": "2006-10-02",
                                    "(No column name)": "1"
                                }
                            ]
                        },
                        "text/html": "<table><tr><th>ki_datum</th><th>(No column name)</th></tr><tr><td>2003-12-11</td><td>3</td></tr><tr><td>2006-10-01</td><td>1</td></tr><tr><td>2006-10-02</td><td>1</td></tr></table>"
                    },
                    "metadata": {}
                }
            ],
            "execution_count": 5
        },
        {
            "cell_type": "markdown",
            "source": [
                "2. <span style=\"font-weight: 600; color: rgb(36, 41, 47); font-family: -apple-system, BlinkMacSystemFont, &quot;Segoe UI&quot;, Helvetica, Arial, sans-serif, &quot;Apple Color Emoji&quot;, &quot;Segoe UI Emoji&quot;; font-size: 16px;\">Mennyi a dvd-k átlagos ára stílusonkénti bontásban?</span>\n",
                "\n",
                "1. Csak azokat a stílusokat vegyük figyelembe, ahol az átlagos ár 4500 Ft feletti!\n",
                "2. Az oszlopokat nevezzük el értelemszerűen!\n",
                "3. A listát rendezzük átlagos ár szerint csökkenő sorrendbe!"
            ],
            "metadata": {
                "azdata_cell_guid": "88f5b4bb-f4c1-4bad-a0c7-b2592687b422"
            },
            "attachments": {}
        },
        {
            "cell_type": "code",
            "source": [
                "SELECT  stilus,\r\n",
                "        AVG(nettoar) AS 'atlagar'\r\n",
                "FROM dvd\r\n",
                "GROUP BY stilus\r\n",
                "HAVING AVG(nettoar) > 4500\r\n",
                "ORDER BY AVG(nettoar) DESC"
            ],
            "metadata": {
                "azdata_cell_guid": "e9de5726-f036-4fb9-8c33-a873955ed886",
                "language": "sql",
                "tags": []
            },
            "outputs": [
                {
                    "output_type": "display_data",
                    "data": {
                        "text/html": "(30 rows affected)"
                    },
                    "metadata": {}
                },
                {
                    "output_type": "display_data",
                    "data": {
                        "text/html": "Total execution time: 00:00:00.009"
                    },
                    "metadata": {}
                },
                {
                    "output_type": "execute_result",
                    "execution_count": 6,
                    "data": {
                        "application/vnd.dataresource+json": {
                            "schema": {
                                "fields": [
                                    {
                                        "name": "stilus"
                                    },
                                    {
                                        "name": "atlagar"
                                    }
                                ]
                            },
                            "data": [
                                {
                                    "stilus": "ásványtan",
                                    "atlagar": "5624"
                                },
                                {
                                    "stilus": "játék (rodeó)",
                                    "atlagar": "5591"
                                },
                                {
                                    "stilus": "humor",
                                    "atlagar": "5573"
                                },
                                {
                                    "stilus": "környezetvédelem",
                                    "atlagar": "5508"
                                },
                                {
                                    "stilus": "kresz",
                                    "atlagar": "5476"
                                },
                                {
                                    "stilus": "játék (jégkorong)",
                                    "atlagar": "5242"
                                },
                                {
                                    "stilus": "színház",
                                    "atlagar": "5158"
                                },
                                {
                                    "stilus": "múvészet",
                                    "atlagar": "5118"
                                },
                                {
                                    "stilus": "kémia",
                                    "atlagar": "5094"
                                },
                                {
                                    "stilus": "fordító program",
                                    "atlagar": "5036"
                                },
                                {
                                    "stilus": "kerttervező",
                                    "atlagar": "4951"
                                },
                                {
                                    "stilus": "művészet",
                                    "atlagar": "4939,25"
                                },
                                {
                                    "stilus": "festészet",
                                    "atlagar": "4901"
                                },
                                {
                                    "stilus": "zene",
                                    "atlagar": "4855,333333333333"
                                },
                                {
                                    "stilus": "játék",
                                    "atlagar": "4850,466666666666"
                                },
                                {
                                    "stilus": "játék (labdarúgás)",
                                    "atlagar": "4817,333333333333"
                                },
                                {
                                    "stilus": "állattan",
                                    "atlagar": "4783,666666666667"
                                },
                                {
                                    "stilus": "nyelvtan",
                                    "atlagar": "4770,666666666667"
                                },
                                {
                                    "stilus": "fizika",
                                    "atlagar": "4769"
                                },
                                {
                                    "stilus": "nyelvtanító",
                                    "atlagar": "4759,476190476191"
                                },
                                {
                                    "stilus": "csillagászat",
                                    "atlagar": "4733,571428571428"
                                },
                                {
                                    "stilus": "ismeretterjesztő",
                                    "atlagar": "4726,673913043478"
                                },
                                {
                                    "stilus": "irodalom, nyelv",
                                    "atlagar": "4704"
                                },
                                {
                                    "stilus": "gasztronómia",
                                    "atlagar": "4691"
                                },
                                {
                                    "stilus": "történelem",
                                    "atlagar": "4655,731707317073"
                                },
                                {
                                    "stilus": "szótár",
                                    "atlagar": "4624,428571428572"
                                },
                                {
                                    "stilus": "sport",
                                    "atlagar": "4607"
                                },
                                {
                                    "stilus": "földrajz",
                                    "atlagar": "4580,0625"
                                },
                                {
                                    "stilus": "matematika",
                                    "atlagar": "4520,777777777777"
                                },
                                {
                                    "stilus": "felvételi",
                                    "atlagar": "4501,333333333333"
                                }
                            ]
                        },
                        "text/html": "<table><tr><th>stilus</th><th>atlagar</th></tr><tr><td>ásványtan</td><td>5624</td></tr><tr><td>játék (rodeó)</td><td>5591</td></tr><tr><td>humor</td><td>5573</td></tr><tr><td>környezetvédelem</td><td>5508</td></tr><tr><td>kresz</td><td>5476</td></tr><tr><td>játék (jégkorong)</td><td>5242</td></tr><tr><td>színház</td><td>5158</td></tr><tr><td>múvészet</td><td>5118</td></tr><tr><td>kémia</td><td>5094</td></tr><tr><td>fordító program</td><td>5036</td></tr><tr><td>kerttervező</td><td>4951</td></tr><tr><td>művészet</td><td>4939,25</td></tr><tr><td>festészet</td><td>4901</td></tr><tr><td>zene</td><td>4855,333333333333</td></tr><tr><td>játék</td><td>4850,466666666666</td></tr><tr><td>játék (labdarúgás)</td><td>4817,333333333333</td></tr><tr><td>állattan</td><td>4783,666666666667</td></tr><tr><td>nyelvtan</td><td>4770,666666666667</td></tr><tr><td>fizika</td><td>4769</td></tr><tr><td>nyelvtanító</td><td>4759,476190476191</td></tr><tr><td>csillagászat</td><td>4733,571428571428</td></tr><tr><td>ismeretterjesztő</td><td>4726,673913043478</td></tr><tr><td>irodalom, nyelv</td><td>4704</td></tr><tr><td>gasztronómia</td><td>4691</td></tr><tr><td>történelem</td><td>4655,731707317073</td></tr><tr><td>szótár</td><td>4624,428571428572</td></tr><tr><td>sport</td><td>4607</td></tr><tr><td>földrajz</td><td>4580,0625</td></tr><tr><td>matematika</td><td>4520,777777777777</td></tr><tr><td>felvételi</td><td>4501,333333333333</td></tr></table>"
                    },
                    "metadata": {}
                }
            ],
            "execution_count": 6
        },
        {
            "cell_type": "markdown",
            "source": [
                "3. <span style=\"color:rgb(36, 41, 47);font-family:-apple-system, BlinkMacSystemFont, &quot;Segoe UI&quot;, Helvetica, Arial, sans-serif, &quot;Apple Color Emoji&quot;, &quot;Segoe UI Emoji&quot;;font-size:16px;\">Listázzuk nyelvenkénti, azon belül stílusonkénti bontásban, hogy mennyi a dvd-k legkisebb és legnagyobb ára!&nbsp;</span> \n",
                "\n",
                "<span style=\"font-size: 16px;\">a. Az oszlopok neve legyen 'Nyelv', 'Stílus', 'MinÁr' és 'MaxÁr'!<br>b.&nbsp;</span> A listából hagyjuk ki azokat a sorokat, ahol a nyelv vagy a stílus nincs megadva!  \n",
                "c. Szintén hagyjuk ki azokat a csoportokat, ahol a csoport elemszáma 3-nál kisebb!"
            ],
            "metadata": {
                "azdata_cell_guid": "9e7249de-1b59-43d8-84b1-26fa7d81fc5a"
            },
            "attachments": {}
        },
        {
            "cell_type": "code",
            "source": [
                "SELECT  lang AS 'Nyelv',\r\n",
                "        stilus AS 'Stilus',\r\n",
                "        MIN(nettoar) AS 'MinÁr',\r\n",
                "        MAX(nettoar) AS 'MaxÁr'\r\n",
                "FROM dvd\r\n",
                "WHERE lang IS NOT NULL AND stilus IS NOt NULL\r\n",
                "GROUP BY lang, stilus\r\n",
                "ORDER BY lang\r\n",
                ""
            ],
            "metadata": {
                "azdata_cell_guid": "6405d3e8-a9b1-45d7-aa76-3b1e785ef6cc",
                "language": "sql"
            },
            "outputs": [
                {
                    "output_type": "display_data",
                    "data": {
                        "text/html": "(64 rows affected)"
                    },
                    "metadata": {}
                },
                {
                    "output_type": "display_data",
                    "data": {
                        "text/html": "Total execution time: 00:00:00.011"
                    },
                    "metadata": {}
                },
                {
                    "output_type": "execute_result",
                    "execution_count": 28,
                    "data": {
                        "application/vnd.dataresource+json": {
                            "schema": {
                                "fields": [
                                    {
                                        "name": "Nyelv"
                                    },
                                    {
                                        "name": "Stilus"
                                    },
                                    {
                                        "name": "MinÁr"
                                    },
                                    {
                                        "name": "MaxÁr"
                                    }
                                ]
                            },
                            "data": [
                                {
                                    "Nyelv": "1",
                                    "Stilus": "állattan",
                                    "MinÁr": "4153",
                                    "MaxÁr": "5235"
                                },
                                {
                                    "Nyelv": "1",
                                    "Stilus": "ásványtan",
                                    "MinÁr": "5624",
                                    "MaxÁr": "5624"
                                },
                                {
                                    "Nyelv": "1",
                                    "Stilus": "betűtípusok",
                                    "MinÁr": "3845",
                                    "MaxÁr": "3845"
                                },
                                {
                                    "Nyelv": "1",
                                    "Stilus": "biológia",
                                    "MinÁr": "3482",
                                    "MaxÁr": "5543"
                                },
                                {
                                    "Nyelv": "1",
                                    "Stilus": "csillagászat",
                                    "MinÁr": "3582",
                                    "MaxÁr": "5992"
                                },
                                {
                                    "Nyelv": "1",
                                    "Stilus": "felvételi",
                                    "MinÁr": "3215",
                                    "MaxÁr": "5955"
                                },
                                {
                                    "Nyelv": "1",
                                    "Stilus": "festészet",
                                    "MinÁr": "5408",
                                    "MaxÁr": "5408"
                                },
                                {
                                    "Nyelv": "1",
                                    "Stilus": "filmtörténet",
                                    "MinÁr": "3138",
                                    "MaxÁr": "4204"
                                },
                                {
                                    "Nyelv": "1",
                                    "Stilus": "fizika",
                                    "MinÁr": "3734",
                                    "MaxÁr": "5763"
                                },
                                {
                                    "Nyelv": "1",
                                    "Stilus": "földrajz",
                                    "MinÁr": "3123",
                                    "MaxÁr": "6065"
                                },
                                {
                                    "Nyelv": "1",
                                    "Stilus": "gasztronómia",
                                    "MinÁr": "3258",
                                    "MaxÁr": "5706"
                                },
                                {
                                    "Nyelv": "1",
                                    "Stilus": "gépírás",
                                    "MinÁr": "3936",
                                    "MaxÁr": "3936"
                                },
                                {
                                    "Nyelv": "1",
                                    "Stilus": "hadtudomány",
                                    "MinÁr": "3515",
                                    "MaxÁr": "3515"
                                },
                                {
                                    "Nyelv": "1",
                                    "Stilus": "humor",
                                    "MinÁr": "5573",
                                    "MaxÁr": "5573"
                                },
                                {
                                    "Nyelv": "1",
                                    "Stilus": "irodalom",
                                    "MinÁr": "3391",
                                    "MaxÁr": "5654"
                                },
                                {
                                    "Nyelv": "1",
                                    "Stilus": "irodalom, nyelv",
                                    "MinÁr": "4704",
                                    "MaxÁr": "4704"
                                },
                                {
                                    "Nyelv": "1",
                                    "Stilus": "ismeretterjesztő",
                                    "MinÁr": "3256",
                                    "MaxÁr": "6072"
                                },
                                {
                                    "Nyelv": "1",
                                    "Stilus": "ismeretterjesztő + játék",
                                    "MinÁr": "3107",
                                    "MaxÁr": "3107"
                                },
                                {
                                    "Nyelv": "1",
                                    "Stilus": "játék",
                                    "MinÁr": "3110",
                                    "MaxÁr": "6078"
                                },
                                {
                                    "Nyelv": "1",
                                    "Stilus": "játék (labdarúgás)",
                                    "MinÁr": "5522",
                                    "MaxÁr": "5522"
                                },
                                {
                                    "Nyelv": "1",
                                    "Stilus": "játék, sakk",
                                    "MinÁr": "3644",
                                    "MaxÁr": "3644"
                                },
                                {
                                    "Nyelv": "1",
                                    "Stilus": "kémia",
                                    "MinÁr": "5094",
                                    "MaxÁr": "5094"
                                },
                                {
                                    "Nyelv": "1",
                                    "Stilus": "környezetvédelem",
                                    "MinÁr": "5508",
                                    "MaxÁr": "5508"
                                },
                                {
                                    "Nyelv": "1",
                                    "Stilus": "kresz",
                                    "MinÁr": "5476",
                                    "MaxÁr": "5476"
                                },
                                {
                                    "Nyelv": "1",
                                    "Stilus": "matematika",
                                    "MinÁr": "3105",
                                    "MaxÁr": "5995"
                                },
                                {
                                    "Nyelv": "1",
                                    "Stilus": "matematika, nyelvtan",
                                    "MinÁr": "4484",
                                    "MaxÁr": "4484"
                                },
                                {
                                    "Nyelv": "1",
                                    "Stilus": "művészet",
                                    "MinÁr": "3490",
                                    "MaxÁr": "6098"
                                },
                                {
                                    "Nyelv": "1",
                                    "Stilus": "növénytan",
                                    "MinÁr": "4438",
                                    "MaxÁr": "4438"
                                },
                                {
                                    "Nyelv": "1",
                                    "Stilus": "nyelvtan",
                                    "MinÁr": "3688",
                                    "MaxÁr": "5845"
                                },
                                {
                                    "Nyelv": "1",
                                    "Stilus": "sport",
                                    "MinÁr": "4607",
                                    "MaxÁr": "4607"
                                },
                                {
                                    "Nyelv": "1",
                                    "Stilus": "számítástechnika",
                                    "MinÁr": "3277",
                                    "MaxÁr": "5260"
                                },
                                {
                                    "Nyelv": "1",
                                    "Stilus": "színház",
                                    "MinÁr": "5158",
                                    "MaxÁr": "5158"
                                },
                                {
                                    "Nyelv": "1",
                                    "Stilus": "történelem",
                                    "MinÁr": "3122",
                                    "MaxÁr": "6084"
                                },
                                {
                                    "Nyelv": "1",
                                    "Stilus": "zene",
                                    "MinÁr": "3391",
                                    "MaxÁr": "5730"
                                },
                                {
                                    "Nyelv": "2",
                                    "Stilus": "felvételi",
                                    "MinÁr": "3876",
                                    "MaxÁr": "3876"
                                },
                                {
                                    "Nyelv": "2",
                                    "Stilus": "festészet",
                                    "MinÁr": "4394",
                                    "MaxÁr": "4394"
                                },
                                {
                                    "Nyelv": "2",
                                    "Stilus": "ismeretterjesztő",
                                    "MinÁr": "5334",
                                    "MaxÁr": "5900"
                                },
                                {
                                    "Nyelv": "2",
                                    "Stilus": "játék",
                                    "MinÁr": "3144",
                                    "MaxÁr": "6062"
                                },
                                {
                                    "Nyelv": "2",
                                    "Stilus": "játék - autós",
                                    "MinÁr": "3989",
                                    "MaxÁr": "3989"
                                },
                                {
                                    "Nyelv": "2",
                                    "Stilus": "játék (autóverseny)",
                                    "MinÁr": "3106",
                                    "MaxÁr": "5005"
                                },
                                {
                                    "Nyelv": "2",
                                    "Stilus": "játék (jégkorong)",
                                    "MinÁr": "5242",
                                    "MaxÁr": "5242"
                                },
                                {
                                    "Nyelv": "2",
                                    "Stilus": "játék (labdarúgás)",
                                    "MinÁr": "3871",
                                    "MaxÁr": "5059"
                                },
                                {
                                    "Nyelv": "2",
                                    "Stilus": "játék (repülős)",
                                    "MinÁr": "4311",
                                    "MaxÁr": "4311"
                                },
                                {
                                    "Nyelv": "2",
                                    "Stilus": "játék (rodeó)",
                                    "MinÁr": "5591",
                                    "MaxÁr": "5591"
                                },
                                {
                                    "Nyelv": "2",
                                    "Stilus": "játék (történelmi)",
                                    "MinÁr": "3707",
                                    "MaxÁr": "3707"
                                },
                                {
                                    "Nyelv": "2",
                                    "Stilus": "kerttervező",
                                    "MinÁr": "4951",
                                    "MaxÁr": "4951"
                                },
                                {
                                    "Nyelv": "2",
                                    "Stilus": "lakástervező",
                                    "MinÁr": "4287",
                                    "MaxÁr": "4287"
                                },
                                {
                                    "Nyelv": "2",
                                    "Stilus": "múvészet",
                                    "MinÁr": "5118",
                                    "MaxÁr": "5118"
                                },
                                {
                                    "Nyelv": "2",
                                    "Stilus": "nyelvtanító",
                                    "MinÁr": "3115",
                                    "MaxÁr": "6068"
                                },
                                {
                                    "Nyelv": "2",
                                    "Stilus": "régészet",
                                    "MinÁr": "3773",
                                    "MaxÁr": "3773"
                                },
                                {
                                    "Nyelv": "2",
                                    "Stilus": "szótár",
                                    "MinÁr": "3509",
                                    "MaxÁr": "5638"
                                },
                                {
                                    "Nyelv": "2",
                                    "Stilus": "történelem",
                                    "MinÁr": "5041",
                                    "MaxÁr": "5041"
                                },
                                {
                                    "Nyelv": "2",
                                    "Stilus": "zene",
                                    "MinÁr": "5336",
                                    "MaxÁr": "5336"
                                },
                                {
                                    "Nyelv": "3",
                                    "Stilus": "felvételi",
                                    "MinÁr": "3102",
                                    "MaxÁr": "3102"
                                },
                                {
                                    "Nyelv": "3",
                                    "Stilus": "nyelvtanító",
                                    "MinÁr": "3313",
                                    "MaxÁr": "5990"
                                },
                                {
                                    "Nyelv": "4",
                                    "Stilus": "nyelvtanító",
                                    "MinÁr": "3419",
                                    "MaxÁr": "6082"
                                },
                                {
                                    "Nyelv": "4",
                                    "Stilus": "szótár",
                                    "MinÁr": "4107",
                                    "MaxÁr": "4107"
                                },
                                {
                                    "Nyelv": "5",
                                    "Stilus": "nyelvtanító",
                                    "MinÁr": "6009",
                                    "MaxÁr": "6009"
                                },
                                {
                                    "Nyelv": "5",
                                    "Stilus": "szótár",
                                    "MinÁr": "4666",
                                    "MaxÁr": "4666"
                                },
                                {
                                    "Nyelv": "6",
                                    "Stilus": "nyelvtanító",
                                    "MinÁr": "3775",
                                    "MaxÁr": "5882"
                                },
                                {
                                    "Nyelv": "6",
                                    "Stilus": "szótár",
                                    "MinÁr": "5734",
                                    "MaxÁr": "5734"
                                },
                                {
                                    "Nyelv": "7",
                                    "Stilus": "nyelvtanító",
                                    "MinÁr": "3770",
                                    "MaxÁr": "5619"
                                },
                                {
                                    "Nyelv": "7",
                                    "Stilus": "szótár",
                                    "MinÁr": "3566",
                                    "MaxÁr": "3566"
                                },
                                {
                                    "Nyelv": "8",
                                    "Stilus": "fordító program",
                                    "MinÁr": "5036",
                                    "MaxÁr": "5036"
                                }
                            ]
                        },
                        "text/html": "<table><tr><th>Nyelv</th><th>Stilus</th><th>MinÁr</th><th>MaxÁr</th></tr><tr><td>1</td><td>állattan</td><td>4153</td><td>5235</td></tr><tr><td>1</td><td>ásványtan</td><td>5624</td><td>5624</td></tr><tr><td>1</td><td>betűtípusok</td><td>3845</td><td>3845</td></tr><tr><td>1</td><td>biológia</td><td>3482</td><td>5543</td></tr><tr><td>1</td><td>csillagászat</td><td>3582</td><td>5992</td></tr><tr><td>1</td><td>felvételi</td><td>3215</td><td>5955</td></tr><tr><td>1</td><td>festészet</td><td>5408</td><td>5408</td></tr><tr><td>1</td><td>filmtörténet</td><td>3138</td><td>4204</td></tr><tr><td>1</td><td>fizika</td><td>3734</td><td>5763</td></tr><tr><td>1</td><td>földrajz</td><td>3123</td><td>6065</td></tr><tr><td>1</td><td>gasztronómia</td><td>3258</td><td>5706</td></tr><tr><td>1</td><td>gépírás</td><td>3936</td><td>3936</td></tr><tr><td>1</td><td>hadtudomány</td><td>3515</td><td>3515</td></tr><tr><td>1</td><td>humor</td><td>5573</td><td>5573</td></tr><tr><td>1</td><td>irodalom</td><td>3391</td><td>5654</td></tr><tr><td>1</td><td>irodalom, nyelv</td><td>4704</td><td>4704</td></tr><tr><td>1</td><td>ismeretterjesztő</td><td>3256</td><td>6072</td></tr><tr><td>1</td><td>ismeretterjesztő + játék</td><td>3107</td><td>3107</td></tr><tr><td>1</td><td>játék</td><td>3110</td><td>6078</td></tr><tr><td>1</td><td>játék (labdarúgás)</td><td>5522</td><td>5522</td></tr><tr><td>1</td><td>játék, sakk</td><td>3644</td><td>3644</td></tr><tr><td>1</td><td>kémia</td><td>5094</td><td>5094</td></tr><tr><td>1</td><td>környezetvédelem</td><td>5508</td><td>5508</td></tr><tr><td>1</td><td>kresz</td><td>5476</td><td>5476</td></tr><tr><td>1</td><td>matematika</td><td>3105</td><td>5995</td></tr><tr><td>1</td><td>matematika, nyelvtan</td><td>4484</td><td>4484</td></tr><tr><td>1</td><td>művészet</td><td>3490</td><td>6098</td></tr><tr><td>1</td><td>növénytan</td><td>4438</td><td>4438</td></tr><tr><td>1</td><td>nyelvtan</td><td>3688</td><td>5845</td></tr><tr><td>1</td><td>sport</td><td>4607</td><td>4607</td></tr><tr><td>1</td><td>számítástechnika</td><td>3277</td><td>5260</td></tr><tr><td>1</td><td>színház</td><td>5158</td><td>5158</td></tr><tr><td>1</td><td>történelem</td><td>3122</td><td>6084</td></tr><tr><td>1</td><td>zene</td><td>3391</td><td>5730</td></tr><tr><td>2</td><td>felvételi</td><td>3876</td><td>3876</td></tr><tr><td>2</td><td>festészet</td><td>4394</td><td>4394</td></tr><tr><td>2</td><td>ismeretterjesztő</td><td>5334</td><td>5900</td></tr><tr><td>2</td><td>játék</td><td>3144</td><td>6062</td></tr><tr><td>2</td><td>játék - autós</td><td>3989</td><td>3989</td></tr><tr><td>2</td><td>játék (autóverseny)</td><td>3106</td><td>5005</td></tr><tr><td>2</td><td>játék (jégkorong)</td><td>5242</td><td>5242</td></tr><tr><td>2</td><td>játék (labdarúgás)</td><td>3871</td><td>5059</td></tr><tr><td>2</td><td>játék (repülős)</td><td>4311</td><td>4311</td></tr><tr><td>2</td><td>játék (rodeó)</td><td>5591</td><td>5591</td></tr><tr><td>2</td><td>játék (történelmi)</td><td>3707</td><td>3707</td></tr><tr><td>2</td><td>kerttervező</td><td>4951</td><td>4951</td></tr><tr><td>2</td><td>lakástervező</td><td>4287</td><td>4287</td></tr><tr><td>2</td><td>múvészet</td><td>5118</td><td>5118</td></tr><tr><td>2</td><td>nyelvtanító</td><td>3115</td><td>6068</td></tr><tr><td>2</td><td>régészet</td><td>3773</td><td>3773</td></tr><tr><td>2</td><td>szótár</td><td>3509</td><td>5638</td></tr><tr><td>2</td><td>történelem</td><td>5041</td><td>5041</td></tr><tr><td>2</td><td>zene</td><td>5336</td><td>5336</td></tr><tr><td>3</td><td>felvételi</td><td>3102</td><td>3102</td></tr><tr><td>3</td><td>nyelvtanító</td><td>3313</td><td>5990</td></tr><tr><td>4</td><td>nyelvtanító</td><td>3419</td><td>6082</td></tr><tr><td>4</td><td>szótár</td><td>4107</td><td>4107</td></tr><tr><td>5</td><td>nyelvtanító</td><td>6009</td><td>6009</td></tr><tr><td>5</td><td>szótár</td><td>4666</td><td>4666</td></tr><tr><td>6</td><td>nyelvtanító</td><td>3775</td><td>5882</td></tr><tr><td>6</td><td>szótár</td><td>5734</td><td>5734</td></tr><tr><td>7</td><td>nyelvtanító</td><td>3770</td><td>5619</td></tr><tr><td>7</td><td>szótár</td><td>3566</td><td>3566</td></tr><tr><td>8</td><td>fordító program</td><td>5036</td><td>5036</td></tr></table>"
                    },
                    "metadata": {}
                }
            ],
            "execution_count": 28
        },
        {
            "cell_type": "markdown",
            "source": [
                "4. <span style=\"color: rgb(36, 41, 47); font-family: -apple-system, BlinkMacSystemFont, &quot;Segoe UI&quot;, Helvetica, Arial, sans-serif, &quot;Apple Color Emoji&quot;, &quot;Segoe UI Emoji&quot;; font-size: 16px;\">Készítsünk listát, amely a csoportokat hoz létre aszerint, hogy a mai naptól számítva hány nap telt el a kölcsönzés kezdete óta. A lista jelenítse meg csoportonkénti bontásban a kikölcsönzött dvd-k számát!</span>\n",
                "\n",
                "1. Az oszlopokat nevezzük el értelemszerűen!\n",
                "2. A listát rendezzük az eltelt napok száma szerint csökkenő sorrendbe!"
            ],
            "metadata": {
                "azdata_cell_guid": "6478e469-c094-472c-a772-ccd5b5c61516"
            },
            "attachments": {}
        },
        {
            "cell_type": "code",
            "source": [
                "SELECT  DATEDIFF(day,ki_datum, GETDATE()) AS 'hany_napja',\r\n",
                "        COUNT(*)\r\n",
                "FROM kolcsonzesek\r\n",
                "GROUP BY ki_datum"
            ],
            "metadata": {
                "azdata_cell_guid": "02031ea2-3838-458d-839c-228e3b362b61",
                "language": "sql",
                "tags": []
            },
            "outputs": [
                {
                    "output_type": "display_data",
                    "data": {
                        "text/html": "(3 rows affected)"
                    },
                    "metadata": {}
                },
                {
                    "output_type": "display_data",
                    "data": {
                        "text/html": "Total execution time: 00:00:00.008"
                    },
                    "metadata": {}
                },
                {
                    "output_type": "execute_result",
                    "execution_count": 36,
                    "data": {
                        "application/vnd.dataresource+json": {
                            "schema": {
                                "fields": [
                                    {
                                        "name": "hany_napja"
                                    },
                                    {
                                        "name": "(No column name)"
                                    }
                                ]
                            },
                            "data": [
                                {
                                    "hany_napja": "7377",
                                    "(No column name)": "3"
                                },
                                {
                                    "hany_napja": "6352",
                                    "(No column name)": "1"
                                },
                                {
                                    "hany_napja": "6351",
                                    "(No column name)": "1"
                                }
                            ]
                        },
                        "text/html": "<table><tr><th>hany_napja</th><th>(No column name)</th></tr><tr><td>7377</td><td>3</td></tr><tr><td>6352</td><td>1</td></tr><tr><td>6351</td><td>1</td></tr></table>"
                    },
                    "metadata": {}
                }
            ],
            "execution_count": 36
        },
        {
            "cell_type": "markdown",
            "source": [
                "5. <span style=\"color: rgb(36, 41, 47); font-family: -apple-system, BlinkMacSystemFont, &quot;Segoe UI&quot;, Helvetica, Arial, sans-serif, &quot;Apple Color Emoji&quot;, &quot;Segoe UI Emoji&quot;; font-size: 16px;\">A kölcsönző tulajdonosa elhatározza, hogy ezentúl kerekebb árakat alkalmaz. Ezért minden dvd árát 1000 Ft-ra kerekíti. Készítsünk lekérdezést, amely megmutatja, hogy melyik 1000 Ft-ra kerekített ár szerint, azon belül stílus szerint hány db dvd összesen raktáron! **</span>\n",
                "\n",
                "1. Csak olyan csoportokat listázzunk, ahol a raktárkészlet legalább 30!\n",
                "2. A listát rendezzük kerekített ár szerint, azon belül raktárkészlet szerint növekvő sorrendbe!"
            ],
            "metadata": {
                "azdata_cell_guid": "9edbbaf9-c276-4898-9a01-e1b2993c089f"
            },
            "attachments": {}
        },
        {
            "cell_type": "code",
            "source": [
                ""
            ],
            "metadata": {
                "azdata_cell_guid": "5ad5fdcb-2878-4111-861a-833bcd50e935",
                "language": "sql"
            },
            "outputs": [
                {
                    "output_type": "display_data",
                    "data": {
                        "text/html": "Commands completed successfully."
                    },
                    "metadata": {}
                },
                {
                    "output_type": "display_data",
                    "data": {
                        "text/html": "Total execution time: 00:00:00"
                    },
                    "metadata": {}
                }
            ],
            "execution_count": 9
        },
        {
            "cell_type": "markdown",
            "source": [
                "6. <span style=\"font-weight: 600; color: rgb(36, 41, 47); font-family: -apple-system, BlinkMacSystemFont, &quot;Segoe UI&quot;, Helvetica, Arial, sans-serif, &quot;Apple Color Emoji&quot;, &quot;Segoe UI Emoji&quot;; font-size: 16px;\">A dvd-ket csoportosíthatjuk aszerint, hogy milyen hosszú a címük. Amelyiknél a cím hosszúsága 10 karakter alatt van, az legyen Rövid, 10-20-ig Átlagos, 20 felett Hosszú. Hány Rövid, Átlagos, illetve Hosszú dvd-van összesen raktáron?</span>\n",
                "\n",
                "1. Az oszlopok neve legyen 'Cím hosszúság' és 'Darabszám"
            ],
            "metadata": {
                "azdata_cell_guid": "5fe65c1c-2479-45ac-ad03-ec99d12eae21"
            },
            "attachments": {}
        },
        {
            "cell_type": "code",
            "source": [
                ""
            ],
            "metadata": {
                "azdata_cell_guid": "924f2dde-f1c2-4def-a7f9-dbf4bace7735",
                "language": "sql"
            },
            "outputs": [
                {
                    "output_type": "display_data",
                    "data": {
                        "text/html": "Commands completed successfully."
                    },
                    "metadata": {}
                },
                {
                    "output_type": "display_data",
                    "data": {
                        "text/html": "Total execution time: 00:00:00"
                    },
                    "metadata": {}
                }
            ],
            "execution_count": 10
        },
        {
            "cell_type": "markdown",
            "source": [
                "7. <span style=\"color: rgb(36, 41, 47); font-family: -apple-system, BlinkMacSystemFont, &quot;Segoe UI&quot;, Helvetica, Arial, sans-serif, &quot;Apple Color Emoji&quot;, &quot;Segoe UI Emoji&quot;; font-size: 16px;\">Készítsünk listát arról, hogy melyik teremben hány óra van!</span>\n",
                "\n",
                "1. Jelenítsük meg a termek azonosítóit és a teremben tartott órák számát!\n",
                "2. Az oszlopokat nevezzük el értelemszerűen!\n",
                "3. Szűrjünk azokra a termekre, ahol az órák száma legalább 3!"
            ],
            "metadata": {
                "azdata_cell_guid": "3aeb6bf5-b111-40d5-92b2-9712ce335696"
            },
            "attachments": {}
        },
        {
            "cell_type": "code",
            "source": [
                ""
            ],
            "metadata": {
                "azdata_cell_guid": "3e89b651-f56f-4102-af52-30eb2bbe360d",
                "language": "sql"
            },
            "outputs": [
                {
                    "output_type": "display_data",
                    "data": {
                        "text/html": "Commands completed successfully."
                    },
                    "metadata": {}
                },
                {
                    "output_type": "display_data",
                    "data": {
                        "text/html": "Total execution time: 00:00:00"
                    },
                    "metadata": {}
                }
            ],
            "execution_count": 11
        },
        {
            "cell_type": "markdown",
            "source": [
                "8. <span style=\"color: rgb(36, 41, 47); font-family: -apple-system, BlinkMacSystemFont, &quot;Segoe UI&quot;, Helvetica, Arial, sans-serif, &quot;Apple Color Emoji&quot;, &quot;Segoe UI Emoji&quot;; font-size: 16px;\">Készítsünk lekérdezést, amely megadja, hogy minimálian és maximálisan hány kreditet ér egy tantárgy!</span>\n",
                "\n",
                "1. Az oszlopokat nevezzük el értelemszerűen!\n",
                "2. Ne vegyük figyelembe azokat a tantárgyakat, amelyek nevében az „alapjai” szó szerepel, vagy a tantárgy neve 10 karakternél rövidebb!"
            ],
            "metadata": {
                "azdata_cell_guid": "26a504dc-ff6a-439f-94c0-4580eca3eacf"
            },
            "attachments": {}
        },
        {
            "cell_type": "code",
            "source": [
                ""
            ],
            "metadata": {
                "azdata_cell_guid": "1cbb8aeb-78b5-4350-aa45-e3202fdab85b",
                "language": "sql"
            },
            "outputs": [
                {
                    "output_type": "display_data",
                    "data": {
                        "text/html": "Commands completed successfully."
                    },
                    "metadata": {}
                },
                {
                    "output_type": "display_data",
                    "data": {
                        "text/html": "Total execution time: 00:00:00"
                    },
                    "metadata": {}
                }
            ],
            "execution_count": 12
        },
        {
            "cell_type": "markdown",
            "source": [
                "9. <span style=\"color: rgb(36, 41, 47); font-family: -apple-system, BlinkMacSystemFont, &quot;Segoe UI&quot;, Helvetica, Arial, sans-serif, &quot;Apple Color Emoji&quot;, &quot;Segoe UI Emoji&quot;; font-size: 16px;\">A tapasztalat alapján a tanársegédeknek 8, az óraadóknak 10 órájuk van egy héten. A többiek annyi órát tartanak, amennyi az elvárt óraszámuk. Készítsünk lekérdezést, amely minden beosztáshoz megjeleníti, hogy hetente hány túlóra tartozik hozzá!</span>\n",
                "\n",
                "1. A lekérdezés csak a beosztások nevét és a heti túlórák számát jelenítse meg!"
            ],
            "metadata": {
                "azdata_cell_guid": "435e2860-2dd5-4877-90f4-34a43baeb53c"
            },
            "attachments": {}
        },
        {
            "cell_type": "code",
            "source": [
                "SELECT Beosztasok.beosztasnev,\r\n",
                "    CASE\r\n",
                "        WHEN beosztasnev = 'tanársegéd' THEN 8 -elvart\r\n",
                "        WHEN beosztasnev = 'óraadó' THEN 10 -elvart\r\n",
                "        ELSE 0\r\n",
                "    END AS 'Túlóra'\r\n",
                "FROM Orak JOIN Oktatok ON Orak.tanar = Oktatok.oktato_id\r\n",
                "        JOIN Beosztasok ON Oktatok.beosztás = Beosztasok.beosztas_id"
            ],
            "metadata": {
                "azdata_cell_guid": "ce846351-ddbe-4d8e-b8fb-2a92c73ac80b",
                "language": "sql"
            },
            "outputs": [
                {
                    "output_type": "display_data",
                    "data": {
                        "text/html": "(67 rows affected)"
                    },
                    "metadata": {}
                },
                {
                    "output_type": "display_data",
                    "data": {
                        "text/html": "Total execution time: 00:00:00.012"
                    },
                    "metadata": {}
                },
                {
                    "output_type": "execute_result",
                    "metadata": {},
                    "execution_count": 4,
                    "data": {
                        "application/vnd.dataresource+json": {
                            "schema": {
                                "fields": [
                                    {
                                        "name": "beosztasnev"
                                    },
                                    {
                                        "name": "Túlóra"
                                    }
                                ]
                            },
                            "data": [
                                {
                                    "beosztasnev": "Egyetemi tanár",
                                    "Túlóra": "0"
                                },
                                {
                                    "beosztasnev": "Tanársegéd",
                                    "Túlóra": "2"
                                },
                                {
                                    "beosztasnev": "Tanársegéd",
                                    "Túlóra": "2"
                                },
                                {
                                    "beosztasnev": "Óraadó",
                                    "Túlóra": "4"
                                },
                                {
                                    "beosztasnev": "Docens",
                                    "Túlóra": "0"
                                },
                                {
                                    "beosztasnev": "Tanársegéd",
                                    "Túlóra": "2"
                                },
                                {
                                    "beosztasnev": "Docens",
                                    "Túlóra": "0"
                                },
                                {
                                    "beosztasnev": "Docens",
                                    "Túlóra": "0"
                                },
                                {
                                    "beosztasnev": "Adjunktus",
                                    "Túlóra": "0"
                                },
                                {
                                    "beosztasnev": "Egyetemi tanár",
                                    "Túlóra": "0"
                                },
                                {
                                    "beosztasnev": "Óraadó",
                                    "Túlóra": "4"
                                },
                                {
                                    "beosztasnev": "Óraadó",
                                    "Túlóra": "4"
                                },
                                {
                                    "beosztasnev": "Adjunktus",
                                    "Túlóra": "0"
                                },
                                {
                                    "beosztasnev": "Tanársegéd",
                                    "Túlóra": "2"
                                },
                                {
                                    "beosztasnev": "Óraadó",
                                    "Túlóra": "4"
                                },
                                {
                                    "beosztasnev": "Óraadó",
                                    "Túlóra": "4"
                                },
                                {
                                    "beosztasnev": "Adjunktus",
                                    "Túlóra": "0"
                                },
                                {
                                    "beosztasnev": "Óraadó",
                                    "Túlóra": "4"
                                },
                                {
                                    "beosztasnev": "Adjunktus",
                                    "Túlóra": "0"
                                },
                                {
                                    "beosztasnev": "Tanársegéd",
                                    "Túlóra": "2"
                                },
                                {
                                    "beosztasnev": "Adjunktus",
                                    "Túlóra": "0"
                                },
                                {
                                    "beosztasnev": "Tanársegéd",
                                    "Túlóra": "2"
                                },
                                {
                                    "beosztasnev": "Adjunktus",
                                    "Túlóra": "0"
                                },
                                {
                                    "beosztasnev": "Tanársegéd",
                                    "Túlóra": "2"
                                },
                                {
                                    "beosztasnev": "Adjunktus",
                                    "Túlóra": "0"
                                },
                                {
                                    "beosztasnev": "Tanársegéd",
                                    "Túlóra": "2"
                                },
                                {
                                    "beosztasnev": "Adjunktus",
                                    "Túlóra": "0"
                                },
                                {
                                    "beosztasnev": "Óraadó",
                                    "Túlóra": "4"
                                },
                                {
                                    "beosztasnev": "Docens",
                                    "Túlóra": "0"
                                },
                                {
                                    "beosztasnev": "Tanársegéd",
                                    "Túlóra": "2"
                                },
                                {
                                    "beosztasnev": "Tanársegéd",
                                    "Túlóra": "2"
                                },
                                {
                                    "beosztasnev": "Tanársegéd",
                                    "Túlóra": "2"
                                },
                                {
                                    "beosztasnev": "Docens",
                                    "Túlóra": "0"
                                },
                                {
                                    "beosztasnev": "Docens",
                                    "Túlóra": "0"
                                },
                                {
                                    "beosztasnev": "Tanársegéd",
                                    "Túlóra": "2"
                                },
                                {
                                    "beosztasnev": "Tanársegéd",
                                    "Túlóra": "2"
                                },
                                {
                                    "beosztasnev": "Docens",
                                    "Túlóra": "0"
                                },
                                {
                                    "beosztasnev": "Docens",
                                    "Túlóra": "0"
                                },
                                {
                                    "beosztasnev": "Tanársegéd",
                                    "Túlóra": "2"
                                },
                                {
                                    "beosztasnev": "Tanársegéd",
                                    "Túlóra": "2"
                                },
                                {
                                    "beosztasnev": "Óraadó",
                                    "Túlóra": "4"
                                },
                                {
                                    "beosztasnev": "Óraadó",
                                    "Túlóra": "4"
                                },
                                {
                                    "beosztasnev": "Egyetemi tanár",
                                    "Túlóra": "0"
                                },
                                {
                                    "beosztasnev": "Egyetemi tanár",
                                    "Túlóra": "0"
                                },
                                {
                                    "beosztasnev": "Óraadó",
                                    "Túlóra": "4"
                                },
                                {
                                    "beosztasnev": "Tanársegéd",
                                    "Túlóra": "2"
                                },
                                {
                                    "beosztasnev": "Egyetemi tanár",
                                    "Túlóra": "0"
                                },
                                {
                                    "beosztasnev": "Docens",
                                    "Túlóra": "0"
                                },
                                {
                                    "beosztasnev": "Docens",
                                    "Túlóra": "0"
                                },
                                {
                                    "beosztasnev": "Egyetemi tanár",
                                    "Túlóra": "0"
                                },
                                {
                                    "beosztasnev": "Egyetemi tanár",
                                    "Túlóra": "0"
                                },
                                {
                                    "beosztasnev": "Adjunktus",
                                    "Túlóra": "0"
                                },
                                {
                                    "beosztasnev": "Adjunktus",
                                    "Túlóra": "0"
                                },
                                {
                                    "beosztasnev": "Tanársegéd",
                                    "Túlóra": "2"
                                },
                                {
                                    "beosztasnev": "Tanársegéd",
                                    "Túlóra": "2"
                                },
                                {
                                    "beosztasnev": "Tanársegéd",
                                    "Túlóra": "2"
                                },
                                {
                                    "beosztasnev": "Tanársegéd",
                                    "Túlóra": "2"
                                },
                                {
                                    "beosztasnev": "Adjunktus",
                                    "Túlóra": "0"
                                },
                                {
                                    "beosztasnev": "Adjunktus",
                                    "Túlóra": "0"
                                },
                                {
                                    "beosztasnev": "Tanársegéd",
                                    "Túlóra": "2"
                                },
                                {
                                    "beosztasnev": "Tanársegéd",
                                    "Túlóra": "2"
                                },
                                {
                                    "beosztasnev": "Egyetemi tanár",
                                    "Túlóra": "0"
                                },
                                {
                                    "beosztasnev": "Egyetemi tanár",
                                    "Túlóra": "0"
                                },
                                {
                                    "beosztasnev": "Egyetemi tanár",
                                    "Túlóra": "0"
                                },
                                {
                                    "beosztasnev": "Egyetemi tanár",
                                    "Túlóra": "0"
                                },
                                {
                                    "beosztasnev": "Adjunktus",
                                    "Túlóra": "0"
                                },
                                {
                                    "beosztasnev": "Adjunktus",
                                    "Túlóra": "0"
                                }
                            ]
                        },
                        "text/html": [
                            "<table>",
                            "<tr><th>beosztasnev</th><th>Túlóra</th></tr>",
                            "<tr><td>Egyetemi tanár</td><td>0</td></tr>",
                            "<tr><td>Tanársegéd</td><td>2</td></tr>",
                            "<tr><td>Tanársegéd</td><td>2</td></tr>",
                            "<tr><td>Óraadó</td><td>4</td></tr>",
                            "<tr><td>Docens</td><td>0</td></tr>",
                            "<tr><td>Tanársegéd</td><td>2</td></tr>",
                            "<tr><td>Docens</td><td>0</td></tr>",
                            "<tr><td>Docens</td><td>0</td></tr>",
                            "<tr><td>Adjunktus</td><td>0</td></tr>",
                            "<tr><td>Egyetemi tanár</td><td>0</td></tr>",
                            "<tr><td>Óraadó</td><td>4</td></tr>",
                            "<tr><td>Óraadó</td><td>4</td></tr>",
                            "<tr><td>Adjunktus</td><td>0</td></tr>",
                            "<tr><td>Tanársegéd</td><td>2</td></tr>",
                            "<tr><td>Óraadó</td><td>4</td></tr>",
                            "<tr><td>Óraadó</td><td>4</td></tr>",
                            "<tr><td>Adjunktus</td><td>0</td></tr>",
                            "<tr><td>Óraadó</td><td>4</td></tr>",
                            "<tr><td>Adjunktus</td><td>0</td></tr>",
                            "<tr><td>Tanársegéd</td><td>2</td></tr>",
                            "<tr><td>Adjunktus</td><td>0</td></tr>",
                            "<tr><td>Tanársegéd</td><td>2</td></tr>",
                            "<tr><td>Adjunktus</td><td>0</td></tr>",
                            "<tr><td>Tanársegéd</td><td>2</td></tr>",
                            "<tr><td>Adjunktus</td><td>0</td></tr>",
                            "<tr><td>Tanársegéd</td><td>2</td></tr>",
                            "<tr><td>Adjunktus</td><td>0</td></tr>",
                            "<tr><td>Óraadó</td><td>4</td></tr>",
                            "<tr><td>Docens</td><td>0</td></tr>",
                            "<tr><td>Tanársegéd</td><td>2</td></tr>",
                            "<tr><td>Tanársegéd</td><td>2</td></tr>",
                            "<tr><td>Tanársegéd</td><td>2</td></tr>",
                            "<tr><td>Docens</td><td>0</td></tr>",
                            "<tr><td>Docens</td><td>0</td></tr>",
                            "<tr><td>Tanársegéd</td><td>2</td></tr>",
                            "<tr><td>Tanársegéd</td><td>2</td></tr>",
                            "<tr><td>Docens</td><td>0</td></tr>",
                            "<tr><td>Docens</td><td>0</td></tr>",
                            "<tr><td>Tanársegéd</td><td>2</td></tr>",
                            "<tr><td>Tanársegéd</td><td>2</td></tr>",
                            "<tr><td>Óraadó</td><td>4</td></tr>",
                            "<tr><td>Óraadó</td><td>4</td></tr>",
                            "<tr><td>Egyetemi tanár</td><td>0</td></tr>",
                            "<tr><td>Egyetemi tanár</td><td>0</td></tr>",
                            "<tr><td>Óraadó</td><td>4</td></tr>",
                            "<tr><td>Tanársegéd</td><td>2</td></tr>",
                            "<tr><td>Egyetemi tanár</td><td>0</td></tr>",
                            "<tr><td>Docens</td><td>0</td></tr>",
                            "<tr><td>Docens</td><td>0</td></tr>",
                            "<tr><td>Egyetemi tanár</td><td>0</td></tr>",
                            "<tr><td>Egyetemi tanár</td><td>0</td></tr>",
                            "<tr><td>Adjunktus</td><td>0</td></tr>",
                            "<tr><td>Adjunktus</td><td>0</td></tr>",
                            "<tr><td>Tanársegéd</td><td>2</td></tr>",
                            "<tr><td>Tanársegéd</td><td>2</td></tr>",
                            "<tr><td>Tanársegéd</td><td>2</td></tr>",
                            "<tr><td>Tanársegéd</td><td>2</td></tr>",
                            "<tr><td>Adjunktus</td><td>0</td></tr>",
                            "<tr><td>Adjunktus</td><td>0</td></tr>",
                            "<tr><td>Tanársegéd</td><td>2</td></tr>",
                            "<tr><td>Tanársegéd</td><td>2</td></tr>",
                            "<tr><td>Egyetemi tanár</td><td>0</td></tr>",
                            "<tr><td>Egyetemi tanár</td><td>0</td></tr>",
                            "<tr><td>Egyetemi tanár</td><td>0</td></tr>",
                            "<tr><td>Egyetemi tanár</td><td>0</td></tr>",
                            "<tr><td>Adjunktus</td><td>0</td></tr>",
                            "<tr><td>Adjunktus</td><td>0</td></tr>",
                            "</table>"
                        ]
                    }
                }
            ],
            "execution_count": 4
        },
        {
            "cell_type": "markdown",
            "source": [
                "10. <span style=\"font-weight: 600; color: rgb(36, 41, 47); font-family: -apple-system, BlinkMacSystemFont, &quot;Segoe UI&quot;, Helvetica, Arial, sans-serif, &quot;Apple Color Emoji&quot;, &quot;Segoe UI Emoji&quot;; font-size: 16px;\">Melyek azok az oktatók, akiknek nincs órájuk?</span>\n",
                "\n",
                "1. Csak az oktatók neve jelenjen meg!\n",
                "2. ÖTLET: használjunk LEFT JOIN-t, és szűrjünk azokra a rekordokra, ahol NULL érték van a JOIN utáni feltétel jobb oldalán!"
            ],
            "metadata": {
                "azdata_cell_guid": "217c5772-afe2-4a7c-b913-e3a3e09d6411"
            },
            "attachments": {}
        },
        {
            "cell_type": "code",
            "source": [
                ""
            ],
            "metadata": {
                "azdata_cell_guid": "a9cc0926-3dbd-4ed8-8179-1c39d64a0762",
                "language": "sql"
            },
            "outputs": [
                {
                    "output_type": "display_data",
                    "data": {
                        "text/html": "Commands completed successfully."
                    },
                    "metadata": {}
                },
                {
                    "output_type": "display_data",
                    "data": {
                        "text/html": "Total execution time: 00:00:00"
                    },
                    "metadata": {}
                }
            ],
            "execution_count": 14
        },
        {
            "cell_type": "markdown",
            "source": [
                "11. <span style=\"font-weight: 600; color: rgb(36, 41, 47); font-family: -apple-system, BlinkMacSystemFont, &quot;Segoe UI&quot;, Helvetica, Arial, sans-serif, &quot;Apple Color Emoji&quot;, &quot;Segoe UI Emoji&quot;; font-size: 16px;\">Készítsünk lekérdezést, amely részletesen megjeleníti az egyes órák fontosabb adatait, azaz</span>\n",
                "\n",
                "1. Az órák azonosítóit, a tanár nevét, a tantárgy nevét, a terem nevét és a kezdési időpontot!\n",
                "2. Az oszlopokat nevezzük el értelemszerűen!"
            ],
            "metadata": {
                "azdata_cell_guid": "d2340f5f-1614-473c-b937-85740d67f7c1"
            },
            "attachments": {}
        },
        {
            "cell_type": "code",
            "source": [
                ""
            ],
            "metadata": {
                "azdata_cell_guid": "e99c2c53-898f-4787-b0e6-182d106dc16f",
                "language": "sql"
            },
            "outputs": [
                {
                    "output_type": "display_data",
                    "data": {
                        "text/html": "Commands completed successfully."
                    },
                    "metadata": {}
                },
                {
                    "output_type": "display_data",
                    "data": {
                        "text/html": "Total execution time: 00:00:00"
                    },
                    "metadata": {}
                }
            ],
            "execution_count": 15
        },
        {
            "cell_type": "markdown",
            "source": [
                "12. <span style=\"color: rgb(36, 41, 47); font-family: -apple-system, BlinkMacSystemFont, &quot;Segoe UI&quot;, Helvetica, Arial, sans-serif, &quot;Apple Color Emoji&quot;, &quot;Segoe UI Emoji&quot;; font-size: 16px;\">Készítsünk listát, amely tartalmazza az egyes órák azonosítóit, és az órán oktatott tantárgy felelősének nevét!</span>\n",
                "\n",
                "1. Rendezzük a listát a tantárgyfelelős neve szerint csökkenő sorrendbe!"
            ],
            "metadata": {
                "azdata_cell_guid": "a765e9d6-58b3-4171-872a-78f3118fd6e3"
            },
            "attachments": {}
        },
        {
            "cell_type": "code",
            "source": [
                ""
            ],
            "metadata": {
                "azdata_cell_guid": "422e8127-b652-4d3a-bfd7-9b1637b5781e",
                "language": "sql"
            },
            "outputs": [
                {
                    "output_type": "display_data",
                    "data": {
                        "text/html": "Commands completed successfully."
                    },
                    "metadata": {}
                },
                {
                    "output_type": "display_data",
                    "data": {
                        "text/html": "Total execution time: 00:00:00"
                    },
                    "metadata": {}
                }
            ],
            "execution_count": 16
        },
        {
            "cell_type": "markdown",
            "source": [
                "13. <span style=\"color: rgb(36, 41, 47); font-family: -apple-system, BlinkMacSystemFont, &quot;Segoe UI&quot;, Helvetica, Arial, sans-serif, &quot;Apple Color Emoji&quot;, &quot;Segoe UI Emoji&quot;; font-size: 16px;\">Készítsünk listát, amely megjeleníti, hogy az Orak táblában lévő órák közül hányat tart Dr., illetve nem Dr. titulusú tanár!</span>\n",
                "\n",
                "1. Az oszlopokat nevezzük el értelemszerűen!"
            ],
            "metadata": {
                "azdata_cell_guid": "3f9237ae-f109-401c-acb9-31d75e73331b"
            },
            "attachments": {}
        },
        {
            "cell_type": "code",
            "source": [
                ""
            ],
            "metadata": {
                "azdata_cell_guid": "4b31bb89-cfbc-46b1-8639-85c462877786",
                "language": "sql"
            },
            "outputs": [
                {
                    "output_type": "display_data",
                    "data": {
                        "text/html": "Commands completed successfully."
                    },
                    "metadata": {}
                },
                {
                    "output_type": "display_data",
                    "data": {
                        "text/html": "Total execution time: 00:00:00"
                    },
                    "metadata": {}
                }
            ],
            "execution_count": 17
        },
        {
            "cell_type": "markdown",
            "source": [
                "14. <span style=\"color: rgb(36, 41, 47); font-family: -apple-system, BlinkMacSystemFont, &quot;Segoe UI&quot;, Helvetica, Arial, sans-serif, &quot;Apple Color Emoji&quot;, &quot;Segoe UI Emoji&quot;; font-size: 16px;\">Készítsünk listát arról, hogy beosztásonként hány óra szerepel az Orak táblában!</span>\n",
                "\n",
                "1. Jelenítsük meg a beosztások nevét és az órák számát!\n",
                "2. A listát szűrjük azokra a beosztásokra, ahol ez az óraszám 10 feletti!"
            ],
            "metadata": {
                "azdata_cell_guid": "f634e09a-85ef-4e70-8ec6-ef355dfddaa7"
            },
            "attachments": {}
        },
        {
            "cell_type": "code",
            "source": [
                ""
            ],
            "metadata": {
                "azdata_cell_guid": "88abc55b-2c78-495b-a72f-3f8f4eb5fe70",
                "language": "sql"
            },
            "outputs": [
                {
                    "output_type": "display_data",
                    "data": {
                        "text/html": "Commands completed successfully."
                    },
                    "metadata": {}
                },
                {
                    "output_type": "display_data",
                    "data": {
                        "text/html": "Total execution time: 00:00:00"
                    },
                    "metadata": {}
                }
            ],
            "execution_count": 18
        },
        {
            "cell_type": "markdown",
            "source": [
                "15. <span style=\"color: rgb(36, 41, 47); font-family: -apple-system, BlinkMacSystemFont, &quot;Segoe UI&quot;, Helvetica, Arial, sans-serif, &quot;Apple Color Emoji&quot;, &quot;Segoe UI Emoji&quot;; font-size: 16px;\">Melyek azok az órák, amelyek kezdési időpontja olyan sávba esik, amely a mostani időpont (óra:perc) után van?</span>\n",
                "\n",
                "1. Listázzuk az órák azonosítóit, valamint az órakezdés napját és időpontját!\n",
                "2. A listát rendezzük az időpont szerint növekvő sorrendbe!"
            ],
            "metadata": {
                "azdata_cell_guid": "4cbf2f0d-a65d-480a-8186-ccdb24498443"
            },
            "attachments": {}
        },
        {
            "cell_type": "code",
            "source": [
                ""
            ],
            "metadata": {
                "azdata_cell_guid": "c148aee8-bc85-40bf-b80a-a4898a6c05cb",
                "language": "sql"
            },
            "outputs": [
                {
                    "output_type": "display_data",
                    "data": {
                        "text/html": "Commands completed successfully."
                    },
                    "metadata": {}
                },
                {
                    "output_type": "display_data",
                    "data": {
                        "text/html": "Total execution time: 00:00:00"
                    },
                    "metadata": {}
                }
            ],
            "execution_count": 19
        }
    ]
}