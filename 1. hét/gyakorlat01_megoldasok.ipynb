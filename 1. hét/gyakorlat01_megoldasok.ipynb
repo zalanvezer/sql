{
    "metadata": {
        "kernelspec": {
            "name": "SQL",
            "display_name": "SQL",
            "language": "sql"
        },
        "language_info": {
            "name": "sql",
            "version": ""
        },
        "extensions": {
            "azuredatastudio": {
                "version": 1,
                "views": []
            }
        }
    },
    "nbformat_minor": 2,
    "nbformat": 4,
    "cells": [
        {
            "cell_type": "markdown",
            "source": [
                "1. Listázzuk a <span style=\"color: #800000;\">`kolcsonzes`</span> tábla következő oszlopait: ID, ki\\_datum, vissza\\_datum! \n",
                "\n",
                "  \n",
                "\n",
                "a.  Az ID oszlop neve legyen Azonosító\n",
                "\n",
                "b.  A ki\\_datum oszlop neve legyen Kölcsönzés\\_dátuma\n",
                "\n",
                "c.  A vissza\\_datum oszlop neve legyen Visszahozatal\\_dátuma"
            ],
            "metadata": {
                "azdata_cell_guid": "77f2d5b3-38e9-41cc-893f-f5afd02b97ef"
            },
            "attachments": {}
        },
        {
            "cell_type": "code",
            "source": [
                "select * from tagok\n",
                ""
            ],
            "metadata": {
                "azdata_cell_guid": "906f46fd-b027-4612-8cc1-bdc6011c38ef",
                "language": "sql"
            },
            "outputs": [
                {
                    "output_type": "display_data",
                    "data": {
                        "text/html": "(17 rows affected)"
                    },
                    "metadata": {}
                },
                {
                    "output_type": "display_data",
                    "data": {
                        "text/html": "Total execution time: 00:00:00.061"
                    },
                    "metadata": {}
                },
                {
                    "output_type": "execute_result",
                    "execution_count": 5,
                    "data": {
                        "application/vnd.dataresource+json": {
                            "schema": {
                                "fields": [
                                    {
                                        "name": "ID"
                                    },
                                    {
                                        "name": "nev"
                                    },
                                    {
                                        "name": "cim"
                                    },
                                    {
                                        "name": "kedvencstilus"
                                    },
                                    {
                                        "name": "kedvencnyelv"
                                    }
                                ]
                            },
                            "data": [
                                {
                                    "ID": "1",
                                    "nev": "Bakk Csaba József",
                                    "cim": "Ulászló u. 22.",
                                    "kedvencstilus": "játék",
                                    "kedvencnyelv": "2"
                                },
                                {
                                    "ID": "2",
                                    "nev": "Kollár Zsófia",
                                    "cim": "Tenkes u. 7/a I/4.",
                                    "kedvencstilus": "történelem",
                                    "kedvencnyelv": "3"
                                },
                                {
                                    "ID": "3",
                                    "nev": "Mohai Mónika",
                                    "cim": "Pasaréti út 23.",
                                    "kedvencstilus": "történelem",
                                    "kedvencnyelv": "1"
                                },
                                {
                                    "ID": "4",
                                    "nev": "Bartos Kinga",
                                    "cim": "Nyírfa u. 3.",
                                    "kedvencstilus": "sport",
                                    "kedvencnyelv": "1"
                                },
                                {
                                    "ID": "5",
                                    "nev": "Ivicsics Miklós",
                                    "cim": "Mészöly u. 4. ",
                                    "kedvencstilus": "sport",
                                    "kedvencnyelv": "2"
                                },
                                {
                                    "ID": "6",
                                    "nev": "Braiwish Dalal-Brigitte",
                                    "cim": "Kosztolányi tér 7.",
                                    "kedvencstilus": "földrajz",
                                    "kedvencnyelv": "3"
                                },
                                {
                                    "ID": "7",
                                    "nev": "Hajnáczky Gábor",
                                    "cim": "Kende u. 14.",
                                    "kedvencstilus": "történelem",
                                    "kedvencnyelv": "4"
                                },
                                {
                                    "ID": "8",
                                    "nev": "Lázár Gergely",
                                    "cim": "Halom u. 15.",
                                    "kedvencstilus": "játék",
                                    "kedvencnyelv": "5"
                                },
                                {
                                    "ID": "9",
                                    "nev": "Bodó Kinga",
                                    "cim": "Győri u. 5.",
                                    "kedvencstilus": "játék",
                                    "kedvencnyelv": "1"
                                },
                                {
                                    "ID": "10",
                                    "nev": "Göttinger Pál",
                                    "cim": "Forrás tér 14.",
                                    "kedvencstilus": "sport",
                                    "kedvencnyelv": "2"
                                },
                                {
                                    "ID": "11",
                                    "nev": "Bernáth Margit",
                                    "cim": "Felsővár u. 55/c",
                                    "kedvencstilus": "történelem",
                                    "kedvencnyelv": "3"
                                },
                                {
                                    "ID": "12",
                                    "nev": "Garay Magdolna",
                                    "cim": "Bartók B. út 66.",
                                    "kedvencstilus": "játék",
                                    "kedvencnyelv": "5"
                                },
                                {
                                    "ID": "13",
                                    "nev": "Ligeti Orsolya",
                                    "cim": "Bartók B. u. 61. I/6.",
                                    "kedvencstilus": "sport",
                                    "kedvencnyelv": "1"
                                },
                                {
                                    "ID": "14",
                                    "nev": "Király Róbert",
                                    "cim": "Bajcsy Zs. u. 19/b",
                                    "kedvencstilus": "földrajz",
                                    "kedvencnyelv": "2"
                                },
                                {
                                    "ID": "15",
                                    "nev": "Burai-Kovács Anikó",
                                    "cim": "Bajcsy u. 1.",
                                    "kedvencstilus": "sport",
                                    "kedvencnyelv": "3"
                                },
                                {
                                    "ID": "16",
                                    "nev": "Czimmermann Zsolt",
                                    "cim": "Árpád u. 3.",
                                    "kedvencstilus": "földrajz",
                                    "kedvencnyelv": "4"
                                },
                                {
                                    "ID": "17",
                                    "nev": "Boronkay Péter",
                                    "cim": "Ábel Jenő  u. 31.",
                                    "kedvencstilus": "földrajz",
                                    "kedvencnyelv": "5"
                                }
                            ]
                        },
                        "text/html": "<table><tr><th>ID</th><th>nev</th><th>cim</th><th>kedvencstilus</th><th>kedvencnyelv</th></tr><tr><td>1</td><td>Bakk Csaba József</td><td>Ulászló u. 22.</td><td>játék</td><td>2</td></tr><tr><td>2</td><td>Kollár Zsófia</td><td>Tenkes u. 7/a I/4.</td><td>történelem</td><td>3</td></tr><tr><td>3</td><td>Mohai Mónika</td><td>Pasaréti út 23.</td><td>történelem</td><td>1</td></tr><tr><td>4</td><td>Bartos Kinga</td><td>Nyírfa u. 3.</td><td>sport</td><td>1</td></tr><tr><td>5</td><td>Ivicsics Miklós</td><td>Mészöly u. 4. </td><td>sport</td><td>2</td></tr><tr><td>6</td><td>Braiwish Dalal-Brigitte</td><td>Kosztolányi tér 7.</td><td>földrajz</td><td>3</td></tr><tr><td>7</td><td>Hajnáczky Gábor</td><td>Kende u. 14.</td><td>történelem</td><td>4</td></tr><tr><td>8</td><td>Lázár Gergely</td><td>Halom u. 15.</td><td>játék</td><td>5</td></tr><tr><td>9</td><td>Bodó Kinga</td><td>Győri u. 5.</td><td>játék</td><td>1</td></tr><tr><td>10</td><td>Göttinger Pál</td><td>Forrás tér 14.</td><td>sport</td><td>2</td></tr><tr><td>11</td><td>Bernáth Margit</td><td>Felsővár u. 55/c</td><td>történelem</td><td>3</td></tr><tr><td>12</td><td>Garay Magdolna</td><td>Bartók B. út 66.</td><td>játék</td><td>5</td></tr><tr><td>13</td><td>Ligeti Orsolya</td><td>Bartók B. u. 61. I/6.</td><td>sport</td><td>1</td></tr><tr><td>14</td><td>Király Róbert</td><td>Bajcsy Zs. u. 19/b</td><td>földrajz</td><td>2</td></tr><tr><td>15</td><td>Burai-Kovács Anikó</td><td>Bajcsy u. 1.</td><td>sport</td><td>3</td></tr><tr><td>16</td><td>Czimmermann Zsolt</td><td>Árpád u. 3.</td><td>földrajz</td><td>4</td></tr><tr><td>17</td><td>Boronkay Péter</td><td>Ábel Jenő  u. 31.</td><td>földrajz</td><td>5</td></tr></table>"
                    },
                    "metadata": {}
                }
            ],
            "execution_count": 5
        },
        {
            "cell_type": "code",
            "source": [
                "SELECT ID as 'Azonosító', \r\n",
                "       ki_datum as 'Kölcsönzés_dátuma', \r\n",
                "       vissza_datum as 'Visszahozatal_dátuma'\r\n",
                "FROM kolcsonzesek"
            ],
            "metadata": {
                "azdata_cell_guid": "bd3cef1a-4e6e-4ece-9dc3-aaa9d2b5d66d",
                "tags": [],
                "language": "sql"
            },
            "outputs": [
                {
                    "output_type": "display_data",
                    "data": {
                        "text/html": "(5 rows affected)"
                    },
                    "metadata": {}
                },
                {
                    "output_type": "display_data",
                    "data": {
                        "text/html": "Total execution time: 00:00:00.265"
                    },
                    "metadata": {}
                },
                {
                    "output_type": "execute_result",
                    "execution_count": 3,
                    "data": {
                        "application/vnd.dataresource+json": {
                            "schema": {
                                "fields": [
                                    {
                                        "name": "Azonosító"
                                    },
                                    {
                                        "name": "Kölcsönzés_dátuma"
                                    },
                                    {
                                        "name": "Visszahozatal_dátuma"
                                    }
                                ]
                            },
                            "data": [
                                {
                                    "Azonosító": "10",
                                    "Kölcsönzés_dátuma": "2003-12-11",
                                    "Visszahozatal_dátuma": "NULL"
                                },
                                {
                                    "Azonosító": "11",
                                    "Kölcsönzés_dátuma": "2003-12-11",
                                    "Visszahozatal_dátuma": "NULL"
                                },
                                {
                                    "Azonosító": "12",
                                    "Kölcsönzés_dátuma": "2003-12-11",
                                    "Visszahozatal_dátuma": "NULL"
                                },
                                {
                                    "Azonosító": "13",
                                    "Kölcsönzés_dátuma": "2006-10-01",
                                    "Visszahozatal_dátuma": "2006-10-10"
                                },
                                {
                                    "Azonosító": "14",
                                    "Kölcsönzés_dátuma": "2006-10-02",
                                    "Visszahozatal_dátuma": "2006-10-09"
                                }
                            ]
                        },
                        "text/html": "<table><tr><th>Azonosító</th><th>Kölcsönzés_dátuma</th><th>Visszahozatal_dátuma</th></tr><tr><td>10</td><td>2003-12-11</td><td>NULL</td></tr><tr><td>11</td><td>2003-12-11</td><td>NULL</td></tr><tr><td>12</td><td>2003-12-11</td><td>NULL</td></tr><tr><td>13</td><td>2006-10-01</td><td>2006-10-10</td></tr><tr><td>14</td><td>2006-10-02</td><td>2006-10-09</td></tr></table>"
                    },
                    "metadata": {}
                }
            ],
            "execution_count": 3
        },
        {
            "cell_type": "markdown",
            "source": [
                "2. Melyek azok a kölcsönzések, amelyek 2005.01.01 és 2007.01.01 között történtek?"
            ],
            "metadata": {
                "azdata_cell_guid": "88f5b4bb-f4c1-4bad-a0c7-b2592687b422"
            },
            "attachments": {}
        },
        {
            "cell_type": "code",
            "source": [
                "SELECT *\r\n",
                "FROM kolcsonzesek\r\n",
                "WHERE ki_datum BETWEEN '2005.01.01' AND '2007.01.01'"
            ],
            "metadata": {
                "azdata_cell_guid": "e9de5726-f036-4fb9-8c33-a873955ed886",
                "language": "sql"
            },
            "outputs": [],
            "execution_count": null
        },
        {
            "cell_type": "markdown",
            "source": [
                "3. Melyek azok a tagok, akiknek kedvenc stílusa a játék, és nevük a-ra végződik?\n",
                "\n",
                "  \n",
                "\n",
                "a.  Csak a tagok neve jelenjen meg, az oszlop neve Név legyen"
            ],
            "metadata": {
                "azdata_cell_guid": "9e7249de-1b59-43d8-84b1-26fa7d81fc5a"
            },
            "attachments": {}
        },
        {
            "cell_type": "code",
            "source": [
                "SELECT nev as 'Név'\r\n",
                "FROM tagok\r\n",
                "WHERE kedvencstilus='játék' AND nev LIKE '%a'"
            ],
            "metadata": {
                "azdata_cell_guid": "6405d3e8-a9b1-45d7-aa76-3b1e785ef6cc",
                "language": "sql"
            },
            "outputs": [],
            "execution_count": null
        },
        {
            "cell_type": "markdown",
            "source": [
                "4. Listázzuk egy oszlopban a tagok nevét, címét és kedvenc stílusát összefűzve! \n",
                "\n",
                "  \n",
                "\n",
                "a.  A nevet, címet és a stílust kötőjellel válasszuk el\n",
                "\n",
                "b.  A kötőjelek előtt és után legyen 1-1 szóköz\n",
                "\n",
                "c.  Az oszlop neve legyen TAG\n",
                "\n",
                "d.  Kinga keresztnevű tagok ne legyenek benne a listában"
            ],
            "metadata": {
                "azdata_cell_guid": "6478e469-c094-472c-a772-ccd5b5c61516"
            },
            "attachments": {}
        },
        {
            "cell_type": "code",
            "source": [
                "SELECT nev +' - '+cim+' - '+ kedvencstilus AS 'TAG'\r\n",
                "FROM tagok\r\n",
                "WHERE nev NOT LIKE '%Kinga'"
            ],
            "metadata": {
                "azdata_cell_guid": "02031ea2-3838-458d-839c-228e3b362b61",
                "language": "sql"
            },
            "outputs": [],
            "execution_count": null
        },
        {
            "cell_type": "markdown",
            "source": [
                "5. Mennyi lenne a dvd-k nettó ára, ha 20%-kal csökkenne? \n",
                "\n",
                "  \n",
                "\n",
                "a.  Csak a dvd-k címét és a csökkentett árat jelenítsük meg\n",
                "\n",
                "b.  A csökkentett árat nevezzük el diszkont\\_ar-nak"
            ],
            "metadata": {
                "azdata_cell_guid": "9edbbaf9-c276-4898-9a01-e1b2993c089f"
            },
            "attachments": {}
        },
        {
            "cell_type": "code",
            "source": [
                "SELECT id, \r\n",
                "       cim, \r\n",
                "       nettoar*0.8 AS 'diszkont_ar'\r\n",
                "FROM dvd"
            ],
            "metadata": {
                "azdata_cell_guid": "5ad5fdcb-2878-4111-861a-833bcd50e935",
                "language": "sql"
            },
            "outputs": [],
            "execution_count": null
        },
        {
            "cell_type": "markdown",
            "source": [
                "6. Melyek azok a kölcsönzések, ahol még nem hozták vissza a dvd-t?"
            ],
            "metadata": {
                "azdata_cell_guid": "5fe65c1c-2479-45ac-ad03-ec99d12eae21"
            },
            "attachments": {}
        },
        {
            "cell_type": "code",
            "source": [
                "SELECT *\r\n",
                "FROM kolcsonzesek\r\n",
                "WHERE vissza_datum IS NULL"
            ],
            "metadata": {
                "azdata_cell_guid": "924f2dde-f1c2-4def-a7f9-dbf4bace7735",
                "language": "sql"
            },
            "outputs": [],
            "execution_count": null
        },
        {
            "cell_type": "markdown",
            "source": [
                "7. Listázzuk azon diákok nevét és születési idejét, akik 1984-ben vagy 1985-ben születtek!  \n",
                "\n",
                "  \n",
                "\n",
                "a.  A születési dátum csak az évet, hónapot és a napot tartalmazza! \n",
                "\n",
                "b.  A születési dátum oszlopát nevezzük el 'Születési idő'-nek!"
            ],
            "metadata": {
                "azdata_cell_guid": "3aeb6bf5-b111-40d5-92b2-9712ce335696"
            },
            "attachments": {}
        },
        {
            "cell_type": "code",
            "source": [
                "SELECT Nev, \r\n",
                "       CAST(Szulido AS DATE) AS 'Születési idő'\r\n",
                "FROM diak\r\n",
                "WHERE YEAR(Szulido) in (1984, 1985)"
            ],
            "metadata": {
                "azdata_cell_guid": "3e89b651-f56f-4102-af52-30eb2bbe360d",
                "language": "sql"
            },
            "outputs": [],
            "execution_count": null
        },
        {
            "cell_type": "markdown",
            "source": [
                "8. Készítsünk lekérdezést, amely a tanulók nevét és az ebből képzett felhasználói nevét tartalmazza. \n",
                "\n",
                "  \n",
                "\n",
                "a.  A felhasználói név álljon a név első kettő, illetve utolsó kettő betűjének összefűzéséből!\n",
                "\n",
                "b.  A listát szűrjük azon tanulókra, akik teljes neve - szóközzel együtt - legalább 10 betűs!"
            ],
            "metadata": {
                "azdata_cell_guid": "26a504dc-ff6a-439f-94c0-4580eca3eacf"
            },
            "attachments": {}
        },
        {
            "cell_type": "code",
            "source": [
                "SELECT Nev, \r\n",
                "       LEFT(Nev, 2) + RIGHT(Nev, 2) AS 'Felhasználói név'\r\n",
                "FROM diak\r\n",
                "WHERE LEN(Nev) >=10"
            ],
            "metadata": {
                "azdata_cell_guid": "1cbb8aeb-78b5-4350-aa45-e3202fdab85b",
                "language": "sql"
            },
            "outputs": [],
            "execution_count": null
        },
        {
            "cell_type": "markdown",
            "source": [
                "9. Készítsünk listát a diákok adatairól, ahol a diákok neve úgy jelenik meg, hogy először a keresztnév, majd a vezetéknév, közöttük szóközzel!  \n",
                "\n",
                "a.  Ezen felül a születési idő három külön oszlopban jelenjen meg (év, hónap, nap). \n",
                "\n",
                "b.  Az oszlopokat nevezzük el értelemszerűen!"
            ],
            "metadata": {
                "azdata_cell_guid": "435e2860-2dd5-4877-90f4-34a43baeb53c"
            },
            "attachments": {}
        },
        {
            "cell_type": "code",
            "source": [
                "SELECT DiakAz AS 'Azonosító',\r\n",
                "       RIGHT(Nev, LEN(Nev)-CHARINDEX(' ',Nev))+' '+\r\n",
                "            LEFT(Nev, CHARINDEX(' ',Nev)-1) AS 'Nev',\r\n",
                "\t   YEAR(Szulido) AS 'Születési év',\r\n",
                "\t   MONTH(Szulido) AS 'Születési hónap',\r\n",
                "\t   DAY(Szulido) AS 'Születési nap'\r\n",
                "FROM diak"
            ],
            "metadata": {
                "azdata_cell_guid": "ce846351-ddbe-4d8e-b8fb-2a92c73ac80b",
                "language": "sql"
            },
            "outputs": [],
            "execution_count": null
        },
        {
            "cell_type": "markdown",
            "source": [
                "10. Készítsünk listát a munkák azonosítójáról és megnevezéséről! Egy új oszlopban azt is jelenítsük meg, hogy melyik munka hetente mennyit fizet! \n",
                "\n",
                "a.  Az oszlop neve legyen Heti bér, az értéket kerekítsük 1000 forintra! \n",
                "\n",
                "b.  A listát szűrjük azon rekordokra, ahol a kerekített heti bér 10000 Ft felett van!"
            ],
            "metadata": {
                "azdata_cell_guid": "217c5772-afe2-4a7c-b913-e3a3e09d6411"
            },
            "attachments": {}
        },
        {
            "cell_type": "code",
            "source": [
                "SELECT munkaId,\r\n",
                "       allas,\r\n",
                "\t   ROUND(oradij * oraszam * 5, -3) AS 'Heti bér'\r\n",
                "FROM munka\r\n",
                "WHERE ROUND(oradij * oraszam * 5, -3)> 10000\r\n",
                ""
            ],
            "metadata": {
                "azdata_cell_guid": "a9cc0926-3dbd-4ed8-8179-1c39d64a0762",
                "language": "sql"
            },
            "outputs": [],
            "execution_count": null
        },
        {
            "cell_type": "markdown",
            "source": [
                "11. A diákok számára differenciált béremelést terveznek: a középiskolások esetében 33%, egyéb esetben 17% mértékben. Készítsünk listát, amely tartalmazza a munkák azonosítóját, az állás nevét, az eredeti óradíjat és a tervezett emelt óradíjat.\n",
                "\n",
                "  \n",
                "\n",
                "a.  Az oszlopoknak adjuk nevet értelemszerűen!\n",
                "\n",
                "b.  Az emelt óradíj összegét kerekítsük egészre! (Az esetlegesen megjelenő 0 tizedesjegyekkel ne foglalkozzunk)"
            ],
            "metadata": {
                "azdata_cell_guid": "d2340f5f-1614-473c-b937-85740d67f7c1"
            },
            "attachments": {}
        },
        {
            "cell_type": "code",
            "source": [
                "SELECT munkaid AS 'Munka azonosítája',\r\n",
                "\t   oradij AS 'Eredeti óradíj',\r\n",
                "\t   ROUND(oradij * IIF(kozepiskolas = 1, 1.33, 1.17), 0) \r\n",
                "       AS 'Emelt óradíj'\r\n",
                "FROM munka"
            ],
            "metadata": {
                "azdata_cell_guid": "e99c2c53-898f-4787-b0e6-182d106dc16f",
                "language": "sql"
            },
            "outputs": [],
            "execution_count": null
        },
        {
            "cell_type": "markdown",
            "source": [
                "12. A diákok számára próbaidőt írnak elő, amely a munka kezdetétől számítva 3 hónapig tart.    Jelenítsük meg a munka tábla adatait egy új oszloppal kiegészítve, amelyik a próbaidő    végének dátumát mutatja!  \n",
                "\n",
                "  \n",
                "\n",
                "a.  Az oszlop neve Próbaidő vége legyen! \n",
                "\n",
                "b.  A lista ne tartalmazza azokat a munkákat, ahol a diákok azonosítója nincs megadva!"
            ],
            "metadata": {
                "azdata_cell_guid": "a765e9d6-58b3-4171-872a-78f3118fd6e3"
            },
            "attachments": {}
        },
        {
            "cell_type": "code",
            "source": [
                "SELECT *,\r\n",
                "       DATEADD(month, 3, datum) AS 'Próbaidő vége'\r\n",
                "FROM   munka\r\n",
                "WHERE  DiakAz IS NOT NULL"
            ],
            "metadata": {
                "azdata_cell_guid": "422e8127-b652-4d3a-bfd7-9b1637b5781e",
                "language": "sql"
            },
            "outputs": [],
            "execution_count": null
        },
        {
            "cell_type": "markdown",
            "source": [
                "13. Készítsünk listát a munkák azonosítóiról és a megnevezésükről! A megnevezés allas-óraszám formában jelenjen meg, pl: eladó-4. \n",
                "\n",
                "  \n",
                "\n",
                "a.  Jelenítsük meg a dátumot is, de csak a évet és a hónapot, pl: 2003-07! \n",
                "\n",
                "b.  Ennek az oszlopnak 'Kezdés hónapja' legyen a neve! A listát szűrjük a nyári hónapokra!"
            ],
            "metadata": {
                "azdata_cell_guid": "3f9237ae-f109-401c-acb9-31d75e73331b"
            },
            "attachments": {}
        },
        {
            "cell_type": "code",
            "source": [
                "SELECT munkaId,\r\n",
                "       allas + '-'+ CAST(oraszam AS varchar(1)) AS 'Megnevezés',\r\n",
                "       LEFT(CAST(datum AS date), 7) AS 'Kezdés hónapja'\r\n",
                "FROM munka\r\n",
                "WHERE MONTH(datum) IN (6, 7, 8)"
            ],
            "metadata": {
                "azdata_cell_guid": "4b31bb89-cfbc-46b1-8639-85c462877786",
                "language": "sql"
            },
            "outputs": [],
            "execution_count": null
        },
        {
            "cell_type": "markdown",
            "source": [
                "14. Készítsünk listát a diákok adatairól, amely a Nev oszlop helyén a diák monogramját jeleníti meg (keresztnév, illetve vezetéknév első betűje összefűzve). \n",
                "\n",
                "a.  A listát szűrjük 1983.01.01 és 1987.06.01 között született diákokra!"
            ],
            "metadata": {
                "azdata_cell_guid": "f634e09a-85ef-4e70-8ec6-ef355dfddaa7"
            },
            "attachments": {}
        },
        {
            "cell_type": "code",
            "source": [
                "SELECT DiakAz,\r\n",
                "       LEFT(Nev, 1)+LEFT(RIGHT(NEV, LEN(NEV)-CHARINDEX(' ',NEV)),1) AS 'Nev'\r\n",
                "FROM diak\r\n",
                "WHERE Szulido BETWEEN '1983.01.01' AND '1987.06.01'"
            ],
            "metadata": {
                "azdata_cell_guid": "88abc55b-2c78-495b-a72f-3f8f4eb5fe70",
                "language": "sql"
            },
            "outputs": [],
            "execution_count": null
        },
        {
            "cell_type": "markdown",
            "source": [
                "15. A diákok a munkakezdés évének utolsó napján bónuszt kapnak, amennyiben az adott évben legalább 6 hónapot dolgoznak. \n",
                "\n",
                "  \n",
                "\n",
                "a.  Jelenítsük meg, hogy az egyes munkák adatait, egy új oszlopban az éves bónusz napját is 'Bónusz dátum' néven! \n",
                "\n",
                "b.  A lista csak a bónuszra jogosultak adatait tartalmazza!"
            ],
            "metadata": {
                "azdata_cell_guid": "4cbf2f0d-a65d-480a-8186-ccdb24498443"
            },
            "attachments": {}
        },
        {
            "cell_type": "code",
            "source": [
                "SELECT *,\r\n",
                "       CAST(CAST(YEAR(datum) AS VARCHAR(4))+'-12-31' AS DATE) \r\n",
                "       AS 'Bónusz dátum'\r\n",
                "FROM munka\r\n",
                "WHERE DATEDIFF(month, datum, CAST(CAST(YEAR(datum) \r\n",
                "      AS VARCHAR(4))+'-12-31' AS DATE))>=6"
            ],
            "metadata": {
                "azdata_cell_guid": "c148aee8-bc85-40bf-b80a-a4898a6c05cb",
                "language": "sql"
            },
            "outputs": [],
            "execution_count": null
        }
    ]
}