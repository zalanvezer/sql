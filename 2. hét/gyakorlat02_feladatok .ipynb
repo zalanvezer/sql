{
    "metadata": {
        "kernelspec": {
            "name": "SQL",
            "display_name": "SQL",
            "language": "sql"
        },
        "language_info": {
            "name": "sql",
            "version": ""
        },
        "extensions": {
            "azuredatastudio": {
                "version": 1,
                "views": []
            }
        }
    },
    "nbformat_minor": 2,
    "nbformat": 4,
    "cells": [
        {
            "cell_type": "markdown",
            "source": [
                "1. <span style=\"color:rgb(36, 41, 47);font-family:-apple-system, BlinkMacSystemFont, &quot;Segoe UI&quot;, Helvetica, Arial, sans-serif, &quot;Apple Color Emoji&quot;, &quot;Segoe UI Emoji&quot;;font-size:16px;\">Készítsünk lekérdezést, amely listázza, hogy mely napokon hány db kölcsönzés történt!</span>\n",
                "\n",
                "<span style=\"font-size: 16px;\">a.&nbsp;</span> Az oszlopok neve legyen 'Dátum' és 'Kölcsönzések száma'  \n",
                "b. A listát rendezzük a kölcsönzés dátuma szerint csökkenő sorrendbe!"
            ],
            "metadata": {
                "azdata_cell_guid": "77f2d5b3-38e9-41cc-893f-f5afd02b97ef"
            },
            "attachments": {}
        },
        {
            "cell_type": "code",
            "source": [
                "select ki_datum Dátum, count(*) 'Kölcsönzések száma' from kolcsonzesek\r\n",
                "GROUP by ki_datum\r\n",
                "order by ki_datum desc"
            ],
            "metadata": {
                "azdata_cell_guid": "bd3cef1a-4e6e-4ece-9dc3-aaa9d2b5d66d",
                "language": "sql"
            },
            "outputs": [
                {
                    "output_type": "display_data",
                    "data": {
                        "text/html": "(3 rows affected)"
                    },
                    "metadata": {}
                },
                {
                    "output_type": "display_data",
                    "data": {
                        "text/html": "Total execution time: 00:00:00.022"
                    },
                    "metadata": {}
                },
                {
                    "output_type": "execute_result",
                    "execution_count": 4,
                    "data": {
                        "application/vnd.dataresource+json": {
                            "schema": {
                                "fields": [
                                    {
                                        "name": "Dátum"
                                    },
                                    {
                                        "name": "Kölcsönzések száma"
                                    }
                                ]
                            },
                            "data": [
                                {
                                    "Dátum": "2006-10-02",
                                    "Kölcsönzések száma": "1"
                                },
                                {
                                    "Dátum": "2006-10-01",
                                    "Kölcsönzések száma": "1"
                                },
                                {
                                    "Dátum": "2003-12-11",
                                    "Kölcsönzések száma": "3"
                                }
                            ]
                        },
                        "text/html": "<table><tr><th>Dátum</th><th>Kölcsönzések száma</th></tr><tr><td>2006-10-02</td><td>1</td></tr><tr><td>2006-10-01</td><td>1</td></tr><tr><td>2003-12-11</td><td>3</td></tr></table>"
                    },
                    "metadata": {}
                }
            ],
            "execution_count": 4
        },
        {
            "cell_type": "markdown",
            "source": [
                "2. <span style=\"font-weight: 600; color: rgb(36, 41, 47); font-family: -apple-system, BlinkMacSystemFont, &quot;Segoe UI&quot;, Helvetica, Arial, sans-serif, &quot;Apple Color Emoji&quot;, &quot;Segoe UI Emoji&quot;; font-size: 16px;\">Mennyi a dvd-k átlagos ára stílusonkénti bontásban?</span>\n",
                "\n",
                "1. Csak azokat a stílusokat vegyük figyelembe, ahol az átlagos ár 4500 Ft feletti!\n",
                "2. Az oszlopokat nevezzük el értelemszerűen!\n",
                "3. A listát rendezzük átlagos ár szerint csökkenő sorrendbe!"
            ],
            "metadata": {
                "azdata_cell_guid": "88f5b4bb-f4c1-4bad-a0c7-b2592687b422"
            },
            "attachments": {}
        },
        {
            "cell_type": "code",
            "source": [
                "select stilus, avg(nettoar)  from dvd\r\n",
                "group by stilus \r\n",
                "HAVING avg(nettoar)>4500\r\n",
                "order by avg(nettoar) desc\r\n",
                ""
            ],
            "metadata": {
                "azdata_cell_guid": "e9de5726-f036-4fb9-8c33-a873955ed886",
                "language": "sql"
            },
            "outputs": [
                {
                    "output_type": "display_data",
                    "data": {
                        "text/html": "(30 rows affected)"
                    },
                    "metadata": {}
                },
                {
                    "output_type": "display_data",
                    "data": {
                        "text/html": "Total execution time: 00:00:00.058"
                    },
                    "metadata": {}
                },
                {
                    "output_type": "execute_result",
                    "execution_count": 6,
                    "data": {
                        "application/vnd.dataresource+json": {
                            "schema": {
                                "fields": [
                                    {
                                        "name": "stilus"
                                    },
                                    {
                                        "name": "(No column name)"
                                    }
                                ]
                            },
                            "data": [
                                {
                                    "stilus": "ásványtan",
                                    "(No column name)": "5624"
                                },
                                {
                                    "stilus": "játék (rodeó)",
                                    "(No column name)": "5591"
                                },
                                {
                                    "stilus": "humor",
                                    "(No column name)": "5573"
                                },
                                {
                                    "stilus": "környezetvédelem",
                                    "(No column name)": "5508"
                                },
                                {
                                    "stilus": "kresz",
                                    "(No column name)": "5476"
                                },
                                {
                                    "stilus": "játék (jégkorong)",
                                    "(No column name)": "5242"
                                },
                                {
                                    "stilus": "színház",
                                    "(No column name)": "5158"
                                },
                                {
                                    "stilus": "múvészet",
                                    "(No column name)": "5118"
                                },
                                {
                                    "stilus": "kémia",
                                    "(No column name)": "5094"
                                },
                                {
                                    "stilus": "fordító program",
                                    "(No column name)": "5036"
                                },
                                {
                                    "stilus": "kerttervező",
                                    "(No column name)": "4951"
                                },
                                {
                                    "stilus": "művészet",
                                    "(No column name)": "4939,25"
                                },
                                {
                                    "stilus": "festészet",
                                    "(No column name)": "4901"
                                },
                                {
                                    "stilus": "zene",
                                    "(No column name)": "4855,333333333333"
                                },
                                {
                                    "stilus": "játék",
                                    "(No column name)": "4850,466666666666"
                                },
                                {
                                    "stilus": "játék (labdarúgás)",
                                    "(No column name)": "4817,333333333333"
                                },
                                {
                                    "stilus": "állattan",
                                    "(No column name)": "4783,666666666667"
                                },
                                {
                                    "stilus": "nyelvtan",
                                    "(No column name)": "4770,666666666667"
                                },
                                {
                                    "stilus": "fizika",
                                    "(No column name)": "4769"
                                },
                                {
                                    "stilus": "nyelvtanító",
                                    "(No column name)": "4759,476190476191"
                                },
                                {
                                    "stilus": "csillagászat",
                                    "(No column name)": "4733,571428571428"
                                },
                                {
                                    "stilus": "ismeretterjesztő",
                                    "(No column name)": "4726,673913043478"
                                },
                                {
                                    "stilus": "irodalom, nyelv",
                                    "(No column name)": "4704"
                                },
                                {
                                    "stilus": "gasztronómia",
                                    "(No column name)": "4691"
                                },
                                {
                                    "stilus": "történelem",
                                    "(No column name)": "4655,731707317073"
                                },
                                {
                                    "stilus": "szótár",
                                    "(No column name)": "4624,428571428572"
                                },
                                {
                                    "stilus": "sport",
                                    "(No column name)": "4607"
                                },
                                {
                                    "stilus": "földrajz",
                                    "(No column name)": "4580,0625"
                                },
                                {
                                    "stilus": "matematika",
                                    "(No column name)": "4520,777777777777"
                                },
                                {
                                    "stilus": "felvételi",
                                    "(No column name)": "4501,333333333333"
                                }
                            ]
                        },
                        "text/html": "<table><tr><th>stilus</th><th>(No column name)</th></tr><tr><td>ásványtan</td><td>5624</td></tr><tr><td>játék (rodeó)</td><td>5591</td></tr><tr><td>humor</td><td>5573</td></tr><tr><td>környezetvédelem</td><td>5508</td></tr><tr><td>kresz</td><td>5476</td></tr><tr><td>játék (jégkorong)</td><td>5242</td></tr><tr><td>színház</td><td>5158</td></tr><tr><td>múvészet</td><td>5118</td></tr><tr><td>kémia</td><td>5094</td></tr><tr><td>fordító program</td><td>5036</td></tr><tr><td>kerttervező</td><td>4951</td></tr><tr><td>művészet</td><td>4939,25</td></tr><tr><td>festészet</td><td>4901</td></tr><tr><td>zene</td><td>4855,333333333333</td></tr><tr><td>játék</td><td>4850,466666666666</td></tr><tr><td>játék (labdarúgás)</td><td>4817,333333333333</td></tr><tr><td>állattan</td><td>4783,666666666667</td></tr><tr><td>nyelvtan</td><td>4770,666666666667</td></tr><tr><td>fizika</td><td>4769</td></tr><tr><td>nyelvtanító</td><td>4759,476190476191</td></tr><tr><td>csillagászat</td><td>4733,571428571428</td></tr><tr><td>ismeretterjesztő</td><td>4726,673913043478</td></tr><tr><td>irodalom, nyelv</td><td>4704</td></tr><tr><td>gasztronómia</td><td>4691</td></tr><tr><td>történelem</td><td>4655,731707317073</td></tr><tr><td>szótár</td><td>4624,428571428572</td></tr><tr><td>sport</td><td>4607</td></tr><tr><td>földrajz</td><td>4580,0625</td></tr><tr><td>matematika</td><td>4520,777777777777</td></tr><tr><td>felvételi</td><td>4501,333333333333</td></tr></table>"
                    },
                    "metadata": {}
                }
            ],
            "execution_count": 6
        },
        {
            "cell_type": "markdown",
            "source": [
                "3. <span style=\"color:rgb(36, 41, 47);font-family:-apple-system, BlinkMacSystemFont, &quot;Segoe UI&quot;, Helvetica, Arial, sans-serif, &quot;Apple Color Emoji&quot;, &quot;Segoe UI Emoji&quot;;font-size:16px;\">Listázzuk nyelvenkénti, azon belül stílusonkénti bontásban, hogy mennyi a dvd-k legkisebb és legnagyobb ára!&nbsp;</span> \n",
                "\n",
                "<span style=\"font-size: 16px;\">a. Az oszlopok neve legyen 'Nyelv', 'Stílus', 'MinÁr' és 'MaxÁr'!<br>b.&nbsp;</span> A listából hagyjuk ki azokat a sorokat, ahol a nyelv vagy a stílus nincs megadva!  \n",
                "c. Szintén hagyjuk ki azokat a csoportokat, ahol a csoport elemszáma 3-nál kisebb!"
            ],
            "metadata": {
                "azdata_cell_guid": "9e7249de-1b59-43d8-84b1-26fa7d81fc5a"
            },
            "attachments": {}
        },
        {
            "cell_type": "code",
            "source": [
                "select lang, stilus, max(nettoar), min(nettoar) from dvd\r\n",
                "where stilus is not null or lang is not null\r\n",
                "group by lang, stilus\r\n",
                "having count(*)>2"
            ],
            "metadata": {
                "azdata_cell_guid": "6405d3e8-a9b1-45d7-aa76-3b1e785ef6cc",
                "language": "sql"
            },
            "outputs": [
                {
                    "output_type": "display_data",
                    "data": {
                        "text/html": "(25 rows affected)"
                    },
                    "metadata": {}
                },
                {
                    "output_type": "display_data",
                    "data": {
                        "text/html": "Total execution time: 00:00:00.110"
                    },
                    "metadata": {}
                },
                {
                    "output_type": "execute_result",
                    "metadata": {},
                    "execution_count": 2,
                    "data": {
                        "application/vnd.dataresource+json": {
                            "schema": {
                                "fields": [
                                    {
                                        "name": "lang"
                                    },
                                    {
                                        "name": "stilus"
                                    },
                                    {
                                        "name": "(No column name)"
                                    },
                                    {
                                        "name": "(No column name)"
                                    }
                                ]
                            },
                            "data": [
                                {
                                    "lang": "1",
                                    "stilus": "állattan",
                                    "(No column name)": "4153"
                                },
                                {
                                    "lang": "1",
                                    "stilus": "biológia",
                                    "(No column name)": "3482"
                                },
                                {
                                    "lang": "1",
                                    "stilus": "csillagászat",
                                    "(No column name)": "3582"
                                },
                                {
                                    "lang": "1",
                                    "stilus": "felvételi",
                                    "(No column name)": "3215"
                                },
                                {
                                    "lang": "1",
                                    "stilus": "fizika",
                                    "(No column name)": "3734"
                                },
                                {
                                    "lang": "1",
                                    "stilus": "földrajz",
                                    "(No column name)": "3123"
                                },
                                {
                                    "lang": "1",
                                    "stilus": "gasztronómia",
                                    "(No column name)": "3258"
                                },
                                {
                                    "lang": "1",
                                    "stilus": "irodalom",
                                    "(No column name)": "3391"
                                },
                                {
                                    "lang": "1",
                                    "stilus": "ismeretterjesztő",
                                    "(No column name)": "3256"
                                },
                                {
                                    "lang": "2",
                                    "stilus": "ismeretterjesztő",
                                    "(No column name)": "5334"
                                },
                                {
                                    "lang": "1",
                                    "stilus": "játék",
                                    "(No column name)": "3110"
                                },
                                {
                                    "lang": "2",
                                    "stilus": "játék",
                                    "(No column name)": "3144"
                                },
                                {
                                    "lang": "2",
                                    "stilus": "játék (autóverseny)",
                                    "(No column name)": "3106"
                                },
                                {
                                    "lang": "1",
                                    "stilus": "matematika",
                                    "(No column name)": "3105"
                                },
                                {
                                    "lang": "1",
                                    "stilus": "művészet",
                                    "(No column name)": "3490"
                                },
                                {
                                    "lang": "1",
                                    "stilus": "nyelvtan",
                                    "(No column name)": "3688"
                                },
                                {
                                    "lang": "2",
                                    "stilus": "nyelvtanító",
                                    "(No column name)": "3115"
                                },
                                {
                                    "lang": "3",
                                    "stilus": "nyelvtanító",
                                    "(No column name)": "3313"
                                },
                                {
                                    "lang": "4",
                                    "stilus": "nyelvtanító",
                                    "(No column name)": "3419"
                                },
                                {
                                    "lang": "6",
                                    "stilus": "nyelvtanító",
                                    "(No column name)": "3775"
                                },
                                {
                                    "lang": "7",
                                    "stilus": "nyelvtanító",
                                    "(No column name)": "3770"
                                },
                                {
                                    "lang": "1",
                                    "stilus": "számítástechnika",
                                    "(No column name)": "3277"
                                },
                                {
                                    "lang": "2",
                                    "stilus": "szótár",
                                    "(No column name)": "3509"
                                },
                                {
                                    "lang": "1",
                                    "stilus": "történelem",
                                    "(No column name)": "3122"
                                },
                                {
                                    "lang": "1",
                                    "stilus": "zene",
                                    "(No column name)": "3391"
                                }
                            ]
                        },
                        "text/html": [
                            "<table>",
                            "<tr><th>lang</th><th>stilus</th><th>(No column name)</th><th>(No column name)</th></tr>",
                            "<tr><td>1</td><td>állattan</td><td>5235</td><td>4153</td></tr>",
                            "<tr><td>1</td><td>biológia</td><td>5543</td><td>3482</td></tr>",
                            "<tr><td>1</td><td>csillagászat</td><td>5992</td><td>3582</td></tr>",
                            "<tr><td>1</td><td>felvételi</td><td>5955</td><td>3215</td></tr>",
                            "<tr><td>1</td><td>fizika</td><td>5763</td><td>3734</td></tr>",
                            "<tr><td>1</td><td>földrajz</td><td>6065</td><td>3123</td></tr>",
                            "<tr><td>1</td><td>gasztronómia</td><td>5706</td><td>3258</td></tr>",
                            "<tr><td>1</td><td>irodalom</td><td>5654</td><td>3391</td></tr>",
                            "<tr><td>1</td><td>ismeretterjesztő</td><td>6072</td><td>3256</td></tr>",
                            "<tr><td>2</td><td>ismeretterjesztő</td><td>5900</td><td>5334</td></tr>",
                            "<tr><td>1</td><td>játék</td><td>6078</td><td>3110</td></tr>",
                            "<tr><td>2</td><td>játék</td><td>6062</td><td>3144</td></tr>",
                            "<tr><td>2</td><td>játék (autóverseny)</td><td>5005</td><td>3106</td></tr>",
                            "<tr><td>1</td><td>matematika</td><td>5995</td><td>3105</td></tr>",
                            "<tr><td>1</td><td>művészet</td><td>6098</td><td>3490</td></tr>",
                            "<tr><td>1</td><td>nyelvtan</td><td>5845</td><td>3688</td></tr>",
                            "<tr><td>2</td><td>nyelvtanító</td><td>6068</td><td>3115</td></tr>",
                            "<tr><td>3</td><td>nyelvtanító</td><td>5990</td><td>3313</td></tr>",
                            "<tr><td>4</td><td>nyelvtanító</td><td>6082</td><td>3419</td></tr>",
                            "<tr><td>6</td><td>nyelvtanító</td><td>5882</td><td>3775</td></tr>",
                            "<tr><td>7</td><td>nyelvtanító</td><td>5619</td><td>3770</td></tr>",
                            "<tr><td>1</td><td>számítástechnika</td><td>5260</td><td>3277</td></tr>",
                            "<tr><td>2</td><td>szótár</td><td>5638</td><td>3509</td></tr>",
                            "<tr><td>1</td><td>történelem</td><td>6084</td><td>3122</td></tr>",
                            "<tr><td>1</td><td>zene</td><td>5730</td><td>3391</td></tr>",
                            "</table>"
                        ]
                    }
                }
            ],
            "execution_count": 2
        },
        {
            "cell_type": "markdown",
            "source": [
                "4. <span style=\"color: rgb(36, 41, 47); font-family: -apple-system, BlinkMacSystemFont, &quot;Segoe UI&quot;, Helvetica, Arial, sans-serif, &quot;Apple Color Emoji&quot;, &quot;Segoe UI Emoji&quot;; font-size: 16px;\">Készítsünk listát, amely a csoportokat hoz létre aszerint, hogy a mai naptól számítva hány nap telt el a kölcsönzés kezdete óta. A lista jelenítse meg csoportonkénti bontásban a kikölcsönzött dvd-k számát!</span>\n",
                "\n",
                "1. Az oszlopokat nevezzük el értelemszerűen!\n",
                "2. A listát rendezzük az eltelt napok száma szerint csökkenő sorrendbe!"
            ],
            "metadata": {
                "azdata_cell_guid": "6478e469-c094-472c-a772-ccd5b5c61516"
            },
            "attachments": {}
        },
        {
            "cell_type": "code",
            "source": [
                "select ki_datum, datediff(day, ki_datum, getdate()), count(*) from kolcsonzesek\r\n",
                "group by ki_datum\r\n",
                "order by datediff(day, ki_datum, getdate()) desc"
            ],
            "metadata": {
                "azdata_cell_guid": "02031ea2-3838-458d-839c-228e3b362b61",
                "language": "sql"
            },
            "outputs": [
                {
                    "output_type": "display_data",
                    "data": {
                        "text/html": "(3 rows affected)"
                    },
                    "metadata": {}
                },
                {
                    "output_type": "display_data",
                    "data": {
                        "text/html": "Total execution time: 00:00:00.028"
                    },
                    "metadata": {}
                },
                {
                    "output_type": "execute_result",
                    "metadata": {},
                    "execution_count": 4,
                    "data": {
                        "application/vnd.dataresource+json": {
                            "schema": {
                                "fields": [
                                    {
                                        "name": "ki_datum"
                                    },
                                    {
                                        "name": "(No column name)"
                                    },
                                    {
                                        "name": "(No column name)"
                                    }
                                ]
                            },
                            "data": [
                                {
                                    "ki_datum": "2006-10-02",
                                    "(No column name)": "1"
                                },
                                {
                                    "ki_datum": "2006-10-01",
                                    "(No column name)": "1"
                                },
                                {
                                    "ki_datum": "2003-12-11",
                                    "(No column name)": "3"
                                }
                            ]
                        },
                        "text/html": [
                            "<table>",
                            "<tr><th>ki_datum</th><th>(No column name)</th><th>(No column name)</th></tr>",
                            "<tr><td>2006-10-02</td><td>6364</td><td>1</td></tr>",
                            "<tr><td>2006-10-01</td><td>6365</td><td>1</td></tr>",
                            "<tr><td>2003-12-11</td><td>7390</td><td>3</td></tr>",
                            "</table>"
                        ]
                    }
                }
            ],
            "execution_count": 4
        },
        {
            "cell_type": "markdown",
            "source": [
                "5. <span style=\"color: rgb(36, 41, 47); font-family: -apple-system, BlinkMacSystemFont, &quot;Segoe UI&quot;, Helvetica, Arial, sans-serif, &quot;Apple Color Emoji&quot;, &quot;Segoe UI Emoji&quot;; font-size: 16px;\">A kölcsönző tulajdonosa elhatározza, hogy ezentúl kerekebb árakat alkalmaz. Ezért minden dvd árát 1000 Ft-ra kerekíti. Készítsünk lekérdezést, amely megmutatja, hogy melyik 1000 Ft-ra kerekített ár szerint, azon belül stílus szerint hány db dvd összesen raktáron! **</span>\n",
                "\n",
                "1. Csak olyan csoportokat listázzunk, ahol a raktárkészlet legalább 30!\n",
                "2. A listát rendezzük kerekített ár szerint, azon belül raktárkészlet szerint növekvő sorrendbe!"
            ],
            "metadata": {
                "azdata_cell_guid": "9edbbaf9-c276-4898-9a01-e1b2993c089f"
            },
            "attachments": {}
        },
        {
            "cell_type": "code",
            "source": [
                "select round(nettoar, -3), stilus, sum([raktár készlet]) from dvd\r\n",
                "group by round(nettoar, -3), stilus\r\n",
                "having sum([raktár készlet])>30\r\n",
                "order by 1, 3 asc\r\n",
                ""
            ],
            "metadata": {
                "azdata_cell_guid": "5ad5fdcb-2878-4111-861a-833bcd50e935",
                "language": "sql"
            },
            "outputs": [
                {
                    "output_type": "display_data",
                    "data": {
                        "text/html": "(19 rows affected)"
                    },
                    "metadata": {}
                },
                {
                    "output_type": "display_data",
                    "data": {
                        "text/html": "Total execution time: 00:00:00.023"
                    },
                    "metadata": {}
                },
                {
                    "output_type": "execute_result",
                    "metadata": {},
                    "execution_count": 14,
                    "data": {
                        "application/vnd.dataresource+json": {
                            "schema": {
                                "fields": [
                                    {
                                        "name": "(No column name)"
                                    },
                                    {
                                        "name": "stilus"
                                    },
                                    {
                                        "name": "(No column name)"
                                    }
                                ]
                            },
                            "data": [
                                {
                                    "(No column name)": "40",
                                    "stilus": "játék"
                                },
                                {
                                    "(No column name)": "40",
                                    "stilus": "történelem"
                                },
                                {
                                    "(No column name)": "70",
                                    "stilus": "ismeretterjesztő"
                                },
                                {
                                    "(No column name)": "40",
                                    "stilus": "csillagászat"
                                },
                                {
                                    "(No column name)": "50",
                                    "stilus": "földrajz"
                                },
                                {
                                    "(No column name)": "90",
                                    "stilus": "irodalom"
                                },
                                {
                                    "(No column name)": "130",
                                    "stilus": "ismeretterjesztő"
                                },
                                {
                                    "(No column name)": "140",
                                    "stilus": "nyelvtanító"
                                },
                                {
                                    "(No column name)": "160",
                                    "stilus": "történelem"
                                },
                                {
                                    "(No column name)": "180",
                                    "stilus": "játék"
                                },
                                {
                                    "(No column name)": "60",
                                    "stilus": "földrajz"
                                },
                                {
                                    "(No column name)": "120",
                                    "stilus": "történelem"
                                },
                                {
                                    "(No column name)": "140",
                                    "stilus": "nyelvtanító"
                                },
                                {
                                    "(No column name)": "170",
                                    "stilus": "ismeretterjesztő"
                                },
                                {
                                    "(No column name)": "210",
                                    "stilus": "játék"
                                },
                                {
                                    "(No column name)": "88",
                                    "stilus": "történelem"
                                },
                                {
                                    "(No column name)": "90",
                                    "stilus": "ismeretterjesztő"
                                },
                                {
                                    "(No column name)": "110",
                                    "stilus": "nyelvtanító"
                                },
                                {
                                    "(No column name)": "170",
                                    "stilus": "játék"
                                }
                            ]
                        },
                        "text/html": [
                            "<table>",
                            "<tr><th>(No column name)</th><th>stilus</th><th>(No column name)</th></tr>",
                            "<tr><td>3000</td><td>játék</td><td>40</td></tr>",
                            "<tr><td>3000</td><td>történelem</td><td>40</td></tr>",
                            "<tr><td>3000</td><td>ismeretterjesztő</td><td>70</td></tr>",
                            "<tr><td>4000</td><td>csillagászat</td><td>40</td></tr>",
                            "<tr><td>4000</td><td>földrajz</td><td>50</td></tr>",
                            "<tr><td>4000</td><td>irodalom</td><td>90</td></tr>",
                            "<tr><td>4000</td><td>ismeretterjesztő</td><td>130</td></tr>",
                            "<tr><td>4000</td><td>nyelvtanító</td><td>140</td></tr>",
                            "<tr><td>4000</td><td>történelem</td><td>160</td></tr>",
                            "<tr><td>4000</td><td>játék</td><td>180</td></tr>",
                            "<tr><td>5000</td><td>földrajz</td><td>60</td></tr>",
                            "<tr><td>5000</td><td>történelem</td><td>120</td></tr>",
                            "<tr><td>5000</td><td>nyelvtanító</td><td>140</td></tr>",
                            "<tr><td>5000</td><td>ismeretterjesztő</td><td>170</td></tr>",
                            "<tr><td>5000</td><td>játék</td><td>210</td></tr>",
                            "<tr><td>6000</td><td>történelem</td><td>88</td></tr>",
                            "<tr><td>6000</td><td>ismeretterjesztő</td><td>90</td></tr>",
                            "<tr><td>6000</td><td>nyelvtanító</td><td>110</td></tr>",
                            "<tr><td>6000</td><td>játék</td><td>170</td></tr>",
                            "</table>"
                        ]
                    }
                }
            ],
            "execution_count": 14
        },
        {
            "cell_type": "markdown",
            "source": [
                "6. <span style=\"font-weight: 600; color: rgb(36, 41, 47); font-family: -apple-system, BlinkMacSystemFont, &quot;Segoe UI&quot;, Helvetica, Arial, sans-serif, &quot;Apple Color Emoji&quot;, &quot;Segoe UI Emoji&quot;; font-size: 16px;\">A dvd-ket csoportosíthatjuk aszerint, hogy milyen hosszú a címük. Amelyiknél a cím hosszúsága 10 karakter alatt van, az legyen Rövid, 10-20-ig Átlagos, 20 felett Hosszú. Hány Rövid, Átlagos, illetve Hosszú dvd-van összesen raktáron?</span>\n",
                "\n",
                "1. Az oszlopok neve legyen 'Cím hosszúság' és 'Darabszám"
            ],
            "metadata": {
                "azdata_cell_guid": "5fe65c1c-2479-45ac-ad03-ec99d12eae21"
            },
            "attachments": {}
        },
        {
            "cell_type": "code",
            "source": [
                "select case \r\n",
                "when len(cim)<10 then 'Rövid'\r\n",
                "when len(cim) between 10 and 20 then 'Átlagos'\r\n",
                "else 'Hosszú'\r\n",
                "END,\r\n",
                "sum([raktár készlet])\r\n",
                "from dvd\r\n",
                "group by case \r\n",
                "when len(cim)<10 then 'Rövid'\r\n",
                "when len(cim) between 10 and 20 then 'Átlagos'\r\n",
                "else 'Hosszú'\r\n",
                "END\r\n",
                ""
            ],
            "metadata": {
                "azdata_cell_guid": "924f2dde-f1c2-4def-a7f9-dbf4bace7735",
                "language": "sql"
            },
            "outputs": [
                {
                    "output_type": "display_data",
                    "data": {
                        "text/html": "(3 rows affected)"
                    },
                    "metadata": {}
                },
                {
                    "output_type": "display_data",
                    "data": {
                        "text/html": "Total execution time: 00:00:00.022"
                    },
                    "metadata": {}
                },
                {
                    "output_type": "execute_result",
                    "metadata": {},
                    "execution_count": 19,
                    "data": {
                        "application/vnd.dataresource+json": {
                            "schema": {
                                "fields": [
                                    {
                                        "name": "(No column name)"
                                    },
                                    {
                                        "name": "(No column name)"
                                    }
                                ]
                            },
                            "data": [
                                {
                                    "(No column name)": "930"
                                },
                                {
                                    "(No column name)": "2128"
                                },
                                {
                                    "(No column name)": "120"
                                }
                            ]
                        },
                        "text/html": [
                            "<table>",
                            "<tr><th>(No column name)</th><th>(No column name)</th></tr>",
                            "<tr><td>Átlagos</td><td>930</td></tr>",
                            "<tr><td>Hosszú</td><td>2128</td></tr>",
                            "<tr><td>Rövid</td><td>120</td></tr>",
                            "</table>"
                        ]
                    }
                }
            ],
            "execution_count": 19
        },
        {
            "cell_type": "markdown",
            "source": [
                "7. <span style=\"color: rgb(36, 41, 47); font-family: -apple-system, BlinkMacSystemFont, &quot;Segoe UI&quot;, Helvetica, Arial, sans-serif, &quot;Apple Color Emoji&quot;, &quot;Segoe UI Emoji&quot;; font-size: 16px;\">Készítsünk listát arról, hogy melyik teremben hány óra van!</span>\n",
                "\n",
                "1. Jelenítsük meg a termek azonosítóit és a teremben tartott órák számát!\n",
                "2. Az oszlopokat nevezzük el értelemszerűen!\n",
                "3. Szűrjünk azokra a termekre, ahol az órák száma legalább 3!"
            ],
            "metadata": {
                "azdata_cell_guid": "3aeb6bf5-b111-40d5-92b2-9712ce335696"
            },
            "attachments": {}
        },
        {
            "cell_type": "code",
            "source": [
                "select terem, count(*) from Orak\r\n",
                "group by terem\r\n",
                "having COUNT(*)>2"
            ],
            "metadata": {
                "azdata_cell_guid": "3e89b651-f56f-4102-af52-30eb2bbe360d",
                "language": "sql"
            },
            "outputs": [
                {
                    "output_type": "display_data",
                    "data": {
                        "text/html": "(11 rows affected)"
                    },
                    "metadata": {}
                },
                {
                    "output_type": "display_data",
                    "data": {
                        "text/html": "Total execution time: 00:00:00.026"
                    },
                    "metadata": {}
                },
                {
                    "output_type": "execute_result",
                    "metadata": {},
                    "execution_count": 22,
                    "data": {
                        "application/vnd.dataresource+json": {
                            "schema": {
                                "fields": [
                                    {
                                        "name": "terem"
                                    },
                                    {
                                        "name": "(No column name)"
                                    }
                                ]
                            },
                            "data": [
                                {
                                    "terem": "2",
                                    "(No column name)": "5"
                                },
                                {
                                    "terem": "3",
                                    "(No column name)": "11"
                                },
                                {
                                    "terem": "4",
                                    "(No column name)": "8"
                                },
                                {
                                    "terem": "5",
                                    "(No column name)": "5"
                                },
                                {
                                    "terem": "6",
                                    "(No column name)": "6"
                                },
                                {
                                    "terem": "7",
                                    "(No column name)": "6"
                                },
                                {
                                    "terem": "8",
                                    "(No column name)": "6"
                                },
                                {
                                    "terem": "10",
                                    "(No column name)": "3"
                                },
                                {
                                    "terem": "12",
                                    "(No column name)": "3"
                                },
                                {
                                    "terem": "13",
                                    "(No column name)": "5"
                                },
                                {
                                    "terem": "14",
                                    "(No column name)": "3"
                                }
                            ]
                        },
                        "text/html": [
                            "<table>",
                            "<tr><th>terem</th><th>(No column name)</th></tr>",
                            "<tr><td>2</td><td>5</td></tr>",
                            "<tr><td>3</td><td>11</td></tr>",
                            "<tr><td>4</td><td>8</td></tr>",
                            "<tr><td>5</td><td>5</td></tr>",
                            "<tr><td>6</td><td>6</td></tr>",
                            "<tr><td>7</td><td>6</td></tr>",
                            "<tr><td>8</td><td>6</td></tr>",
                            "<tr><td>10</td><td>3</td></tr>",
                            "<tr><td>12</td><td>3</td></tr>",
                            "<tr><td>13</td><td>5</td></tr>",
                            "<tr><td>14</td><td>3</td></tr>",
                            "</table>"
                        ]
                    }
                }
            ],
            "execution_count": 22
        },
        {
            "cell_type": "markdown",
            "source": [
                "8. <span style=\"color: rgb(36, 41, 47); font-family: -apple-system, BlinkMacSystemFont, &quot;Segoe UI&quot;, Helvetica, Arial, sans-serif, &quot;Apple Color Emoji&quot;, &quot;Segoe UI Emoji&quot;; font-size: 16px;\">Készítsünk lekérdezést, amely megadja, hogy minimálian és maximálisan hány kreditet ér egy tantárgy!</span>\n",
                "\n",
                "1. Az oszlopokat nevezzük el értelemszerűen!\n",
                "2. Ne vegyük figyelembe azokat a tantárgyakat, amelyek nevében az „alapjai” szó szerepel, vagy a tantárgy neve 10 karakternél rövidebb!"
            ],
            "metadata": {
                "azdata_cell_guid": "26a504dc-ff6a-439f-94c0-4580eca3eacf"
            },
            "attachments": {}
        },
        {
            "cell_type": "code",
            "source": [
                "select * from Tantárgyak"
            ],
            "metadata": {
                "azdata_cell_guid": "1cbb8aeb-78b5-4350-aa45-e3202fdab85b",
                "language": "sql"
            },
            "outputs": [
                {
                    "output_type": "display_data",
                    "data": {
                        "text/html": "(13 rows affected)"
                    },
                    "metadata": {}
                },
                {
                    "output_type": "display_data",
                    "data": {
                        "text/html": "Total execution time: 00:00:00.060"
                    },
                    "metadata": {}
                },
                {
                    "output_type": "execute_result",
                    "metadata": {},
                    "execution_count": 23,
                    "data": {
                        "application/vnd.dataresource+json": {
                            "schema": {
                                "fields": [
                                    {
                                        "name": "Tkód"
                                    },
                                    {
                                        "name": "Tantárgynév"
                                    },
                                    {
                                        "name": "Tantárgyfelelős"
                                    },
                                    {
                                        "name": "Tantargykod"
                                    },
                                    {
                                        "name": "Kredit"
                                    }
                                ]
                            },
                            "data": [
                                {
                                    "Tkód": "1",
                                    "Tantárgynév": "Az ürgeöntés alapjai",
                                    "Tantárgyfelelős": "5",
                                    "Tantargykod": "NULL",
                                    "Kredit": "2"
                                },
                                {
                                    "Tkód": "2",
                                    "Tantárgynév": "Bevezetés az ürgeöntésbe",
                                    "Tantárgyfelelős": "5",
                                    "Tantargykod": "NULL",
                                    "Kredit": "3"
                                },
                                {
                                    "Tkód": "3",
                                    "Tantárgynév": "Az ürge anatómiája",
                                    "Tantárgyfelelős": "8",
                                    "Tantargykod": "NULL",
                                    "Kredit": "5"
                                },
                                {
                                    "Tkód": "4",
                                    "Tantárgynév": "Az ürgeöntés hydrológiai alapjai I.",
                                    "Tantárgyfelelős": "4",
                                    "Tantargykod": "NULL",
                                    "Kredit": "2"
                                },
                                {
                                    "Tkód": "5",
                                    "Tantárgynév": "Az ürgeöntés hydrológiai alapjai II.",
                                    "Tantárgyfelelős": "5",
                                    "Tantargykod": "NULL",
                                    "Kredit": "4"
                                },
                                {
                                    "Tkód": "8",
                                    "Tantárgynév": "Ürgeöntés az EU-ban",
                                    "Tantárgyfelelős": "8",
                                    "Tantargykod": "NULL",
                                    "Kredit": "1"
                                },
                                {
                                    "Tkód": "10",
                                    "Tantárgynév": "Fejezetek az ürgék jogaiból",
                                    "Tantárgyfelelős": "1",
                                    "Tantargykod": "NULL",
                                    "Kredit": "3"
                                },
                                {
                                    "Tkód": "11",
                                    "Tantárgynév": "Folyami gáttan",
                                    "Tantárgyfelelős": "12",
                                    "Tantargykod": "NULL",
                                    "Kredit": "2"
                                },
                                {
                                    "Tkód": "13",
                                    "Tantárgynév": "Ürgevitel",
                                    "Tantárgyfelelős": "10",
                                    "Tantargykod": "NULL",
                                    "Kredit": "6"
                                },
                                {
                                    "Tkód": "16",
                                    "Tantárgynév": "ü-business",
                                    "Tantárgyfelelős": "1",
                                    "Tantargykod": "NULL",
                                    "Kredit": "2"
                                },
                                {
                                    "Tkód": "17",
                                    "Tantárgynév": "Öntési gyakorlat",
                                    "Tantárgyfelelős": "8",
                                    "Tantargykod": "NULL",
                                    "Kredit": "1"
                                },
                                {
                                    "Tkód": "18",
                                    "Tantárgynév": "Az öntés elmélete",
                                    "Tantárgyfelelős": "1",
                                    "Tantargykod": "NULL",
                                    "Kredit": "4"
                                },
                                {
                                    "Tkód": "19",
                                    "Tantárgynév": "ürgefőzés",
                                    "Tantárgyfelelős": "1",
                                    "Tantargykod": "NULL",
                                    "Kredit": "3"
                                }
                            ]
                        },
                        "text/html": [
                            "<table>",
                            "<tr><th>Tkód</th><th>Tantárgynév</th><th>Tantárgyfelelős</th><th>Tantargykod</th><th>Kredit</th></tr>",
                            "<tr><td>1</td><td>Az ürgeöntés alapjai</td><td>5</td><td>NULL</td><td>2</td></tr>",
                            "<tr><td>2</td><td>Bevezetés az ürgeöntésbe</td><td>5</td><td>NULL</td><td>3</td></tr>",
                            "<tr><td>3</td><td>Az ürge anatómiája</td><td>8</td><td>NULL</td><td>5</td></tr>",
                            "<tr><td>4</td><td>Az ürgeöntés hydrológiai alapjai I.</td><td>4</td><td>NULL</td><td>2</td></tr>",
                            "<tr><td>5</td><td>Az ürgeöntés hydrológiai alapjai II.</td><td>5</td><td>NULL</td><td>4</td></tr>",
                            "<tr><td>8</td><td>Ürgeöntés az EU-ban</td><td>8</td><td>NULL</td><td>1</td></tr>",
                            "<tr><td>10</td><td>Fejezetek az ürgék jogaiból</td><td>1</td><td>NULL</td><td>3</td></tr>",
                            "<tr><td>11</td><td>Folyami gáttan</td><td>12</td><td>NULL</td><td>2</td></tr>",
                            "<tr><td>13</td><td>Ürgevitel</td><td>10</td><td>NULL</td><td>6</td></tr>",
                            "<tr><td>16</td><td>ü-business</td><td>1</td><td>NULL</td><td>2</td></tr>",
                            "<tr><td>17</td><td>Öntési gyakorlat</td><td>8</td><td>NULL</td><td>1</td></tr>",
                            "<tr><td>18</td><td>Az öntés elmélete</td><td>1</td><td>NULL</td><td>4</td></tr>",
                            "<tr><td>19</td><td>ürgefőzés</td><td>1</td><td>NULL</td><td>3</td></tr>",
                            "</table>"
                        ]
                    }
                }
            ],
            "execution_count": 23
        },
        {
            "cell_type": "markdown",
            "source": [
                "9. <span style=\"color: rgb(36, 41, 47); font-family: -apple-system, BlinkMacSystemFont, &quot;Segoe UI&quot;, Helvetica, Arial, sans-serif, &quot;Apple Color Emoji&quot;, &quot;Segoe UI Emoji&quot;; font-size: 16px;\">A tapasztalat alapján a tanársegédeknek 8, az óraadóknak 10 órájuk van egy héten. A többiek annyi órát tartanak, amennyi az elvárt óraszámuk. Készítsünk lekérdezést, amely minden beosztáshoz megjeleníti, hogy hetente hány túlóra tartozik hozzá!</span>\n",
                "\n",
                "1. A lekérdezés csak a beosztások nevét és a heti túlórák számát jelenítse meg!"
            ],
            "metadata": {
                "azdata_cell_guid": "435e2860-2dd5-4877-90f4-34a43baeb53c"
            },
            "attachments": {}
        },
        {
            "cell_type": "code",
            "source": [
                "select * from Beosztasok"
            ],
            "metadata": {
                "azdata_cell_guid": "ce846351-ddbe-4d8e-b8fb-2a92c73ac80b",
                "language": "sql"
            },
            "outputs": [
                {
                    "output_type": "display_data",
                    "data": {
                        "text/html": "(7 rows affected)"
                    },
                    "metadata": {}
                },
                {
                    "output_type": "display_data",
                    "data": {
                        "text/html": "Total execution time: 00:00:00.095"
                    },
                    "metadata": {}
                },
                {
                    "output_type": "execute_result",
                    "metadata": {},
                    "execution_count": 24,
                    "data": {
                        "application/vnd.dataresource+json": {
                            "schema": {
                                "fields": [
                                    {
                                        "name": "beosztas_id"
                                    },
                                    {
                                        "name": "beosztasnev"
                                    },
                                    {
                                        "name": "elvart"
                                    }
                                ]
                            },
                            "data": [
                                {
                                    "beosztas_id": "1",
                                    "beosztasnev": "Óraadó",
                                    "elvart": "6"
                                },
                                {
                                    "beosztas_id": "2",
                                    "beosztasnev": "Tanársegéd",
                                    "elvart": "6"
                                },
                                {
                                    "beosztas_id": "3",
                                    "beosztasnev": "Adjunktus",
                                    "elvart": "5"
                                },
                                {
                                    "beosztas_id": "4",
                                    "beosztasnev": "Docens",
                                    "elvart": "4"
                                },
                                {
                                    "beosztas_id": "5",
                                    "beosztasnev": "Professzor",
                                    "elvart": "3"
                                },
                                {
                                    "beosztas_id": "6",
                                    "beosztasnev": "Egyetemi tanár",
                                    "elvart": "2"
                                },
                                {
                                    "beosztas_id": "7",
                                    "beosztasnev": "Tudományos munkatárs",
                                    "elvart": "4"
                                }
                            ]
                        },
                        "text/html": [
                            "<table>",
                            "<tr><th>beosztas_id</th><th>beosztasnev</th><th>elvart</th></tr>",
                            "<tr><td>1</td><td>Óraadó</td><td>6</td></tr>",
                            "<tr><td>2</td><td>Tanársegéd</td><td>6</td></tr>",
                            "<tr><td>3</td><td>Adjunktus</td><td>5</td></tr>",
                            "<tr><td>4</td><td>Docens</td><td>4</td></tr>",
                            "<tr><td>5</td><td>Professzor</td><td>3</td></tr>",
                            "<tr><td>6</td><td>Egyetemi tanár</td><td>2</td></tr>",
                            "<tr><td>7</td><td>Tudományos munkatárs</td><td>4</td></tr>",
                            "</table>"
                        ]
                    }
                }
            ],
            "execution_count": 24
        },
        {
            "cell_type": "markdown",
            "source": [
                "10. <span style=\"font-weight: 600; color: rgb(36, 41, 47); font-family: -apple-system, BlinkMacSystemFont, &quot;Segoe UI&quot;, Helvetica, Arial, sans-serif, &quot;Apple Color Emoji&quot;, &quot;Segoe UI Emoji&quot;; font-size: 16px;\">Melyek azok az oktatók, akiknek nincs órájuk?</span>\n",
                "\n",
                "1. Csak az oktatók neve jelenjen meg!\n",
                "2. ÖTLET: használjunk LEFT JOIN-t, és szűrjünk azokra a rekordokra, ahol NULL érték van a JOIN utáni feltétel jobb oldalán!"
            ],
            "metadata": {
                "azdata_cell_guid": "217c5772-afe2-4a7c-b913-e3a3e09d6411"
            },
            "attachments": {}
        },
        {
            "cell_type": nev de",\n", ookt \n",
                "join orak asd on .
                "
            "source": [
                "select * from Oktatok"
            ],
            "metadata": {
                "azdata_cell_guid": "a9cc0926-3dbd-4ed8-8179-1c39d64a0762",
                "language": "sql"
            },
            "outputs": [
{
    "output_type": "display_data",
    "data": {
        "text/html": "(25 rows affected)"
    },
    "metadata": {}
}, {
    "output_type": "display_data",
    "data": {
        "text/html": "Total execution time: 00:00:00.021"
    },
    "metadata": {}
}, {
    "output_type": "execute_result",
    "metadata": {},
    "execution_count": 25,
    "data": {
        "application/vnd.dataresource+json": {
            "schema": {
                "fields": [
                    {
                        "name": "oktato_id"
                    },
                    {
                        "name": "nev"
                    },
                    {
                        "name": "titulus"
                    },
                    {
                        "name": "beosztás"
                    },
                    {
                        "name": "status"
                    }
                ]
            },
            "data": [
                {
                    "oktato_id": "1",
                    "nev": "Kovács László",
                    "titulus": "Dr.",
                    "beosztás": "6",
                    "status": "2"
                },
                {
                    "oktato_id": "2",
                    "nev": "Szentágotai Istvás",
                    "titulus": "Dr.",
                    "beosztás": "3",
                    "status": "2"
                },
                {
                    "oktato_id": "3",
                    "nev": "Szerb László",
                    "titulus": "NULL",
                    "beosztás": "4",
                    "status": "1"
                },
                {
                    "oktato_id": "4",
                    "nev": "Ujfalussi István",
                    "titulus": "Prof, tanszékvezető",
                    "beosztás": "6",
                    "status": "2"
                },
                {
                    "oktato_id": "5",
                    "nev": "Balkán András",
                    "titulus": "Dr.",
                    "beosztás": "4",
                    "status": "2"
                },
                {
                    "oktato_id": "6",
                    "nev": "Szép llonka",
                    "titulus": "Dr.",
                    "beosztás": "3",
                    "status": "1"
                },
                {
                    "oktato_id": "7",
                    "nev": "Kiss János",
                    "titulus": "NULL",
                    "beosztás": "2",
                    "status": "1"
                },
                {
                    "oktato_id": "8",
                    "nev": "Pelikán József",
                    "titulus": "NULL",
                    "beosztás": "2",
                    "status": "3"
                },
                {
                    "oktato_id": "9",
                    "nev": "Farkasos Piroska",
                    "titulus": "NULL",
                    "beosztás": "2",
                    "status": "3"
                },
                {
                    "oktato_id": "10",
                    "nev": "Jogrerős Pál",
                    "titulus": "Prof.",
                    "beosztás": "6",
                    "status": "1"
                },
                {
                    "oktato_id": "11",
                    "nev": "Józsa Gábor",
                    "titulus": "Dr.",
                    "beosztás": "4",
                    "status": "1"
                },
                {
                    "oktato_id": "12",
                    "nev": "Varga Kata",
                    "titulus": "Dr.",
                    "beosztás": "4",
                    "status": "1"
                },
                {
                    "oktato_id": "14",
                    "nev": "Szénási ászló",
                    "titulus": "NULL",
                    "beosztás": "3",
                    "status": "1"
                },
                {
                    "oktato_id": "18",
                    "nev": "Nógrádi Kata",
                    "titulus": "NULL",
                    "beosztás": "1",
                    "status": "1"
                },
                {
                    "oktato_id": "19",
                    "nev": "Rácz András",
                    "titulus": "NULL",
                    "beosztás": "1",
                    "status": "1"
                },
                {
                    "oktato_id": "20",
                    "nev": "Kovács András",
                    "titulus": "NULL",
                    "beosztás": "1",
                    "status": "1"
                },
                {
                    "oktato_id": "104",
                    "nev": "Ludas Mátyás",
                    "titulus": "NULL",
                    "beosztás": "1",
                    "status": "1"
                },
                {
                    "oktato_id": "105",
                    "nev": "Kiss István",
                    "titulus": "NULL",
                    "beosztás": "1",
                    "status": "2"
                },
                {
                    "oktato_id": "107",
                    "nev": "Mészáros Kriszta",
                    "titulus": "NULL",
                    "beosztás": "1",
                    "status": "2"
                },
                {
                    "oktato_id": "108",
                    "nev": "Róbert Gida",
                    "titulus": "NULL",
                    "beosztás": "2",
                    "status": "1"
                },
                {
                    "oktato_id": "111",
                    "nev": "Vitéz János",
                    "titulus": "NULL",
                    "beosztás": "2",
                    "status": "1"
                },
                {
                    "oktato_id": "200",
                    "nev": "Aranyi Mária",
                    "titulus": "NULL",
                    "beosztás": "1",
                    "status": "1"
                },
                {
                    "oktato_id": "300",
                    "nev": "Szabó Andrera",
                    "titulus": "NULL",
                    "beosztás": "1",
                    "status": "1"
                },
                {
                    "oktato_id": "301",
                    "nev": "Juhász András",
                    "titulus": "Dr.",
                    "beosztás": "6",
                    "status": "1"
                },
                {
                    "oktato_id": "302",
                    "nev": "Kovacs Istvan",
                    "titulus": "Dr.",
                    "beosztás": "5",
                    "status": "1"
                }
            ]
        },
        "text/html": [
            "<table>",
            "<tr><th>oktato_id</th><th>nev</th><th>titulus</th><th>beosztás</th><th>status</th></tr>",
            "<tr><td>1</td><td>Kovács László</td><td>Dr.</td><td>6</td><td>2</td></tr>",
            "<tr><td>2</td><td>Szentágotai Istvás</td><td>Dr.</td><td>3</td><td>2</td></tr>",
            "<tr><td>3</td><td>Szerb László</td><td>NULL</td><td>4</td><td>1</td></tr>",
            "<tr><td>4</td><td>Ujfalussi István</td><td>Prof, tanszékvezető</td><td>6</td><td>2</td></tr>",
            "<tr><td>5</td><td>Balkán András</td><td>Dr.</td><td>4</td><td>2</td></tr>",
            "<tr><td>6</td><td>Szép llonka</td><td>Dr.</td><td>3</td><td>1</td></tr>",
            "<tr><td>7</td><td>Kiss János</td><td>NULL</td><td>2</td><td>1</td></tr>",
            "<tr><td>8</td><td>Pelikán József</td><td>NULL</td><td>2</td><td>3</td></tr>",
            "<tr><td>9</td><td>Farkasos Piroska</td><td>NULL</td><td>2</td><td>3</td></tr>",
            "<tr><td>10</td><td>Jogrerős Pál</td><td>Prof.</td><td>6</td><td>1</td></tr>",
            "<tr><td>11</td><td>Józsa Gábor</td><td>Dr.</td><td>4</td><td>1</td></tr>",
            "<tr><td>12</td><td>Varga Kata</td><td>Dr.</td><td>4</td><td>1</td></tr>",
            "<tr><td>14</td><td>Szénási ászló</td><td>NULL</td><td>3</td><td>1</td></tr>",
            "<tr><td>18</td><td>Nógrádi Kata</td><td>NULL</td><td>1</td><td>1</td></tr>",
            "<tr><td>19</td><td>Rácz András</td><td>NULL</td><td>1</td><td>1</td></tr>",
            "<tr><td>20</td><td>Kovács András</td><td>NULL</td><td>1</td><td>1</td></tr>",
            "<tr><td>104</td><td>Ludas Mátyás</td><td>NULL</td><td>1</td><td>1</td></tr>",
            "<tr><td>105</td><td>Kiss István</td><td>NULL</td><td>1</td><td>2</td></tr>",
            "<tr><td>107</td><td>Mészáros Kriszta</td><td>NULL</td><td>1</td><td>2</td></tr>",
            "<tr><td>108</td><td>Róbert Gida</td><td>NULL</td><td>2</td><td>1</td></tr>",
            "<tr><td>111</td><td>Vitéz János</td><td>NULL</td><td>2</td><td>1</td></tr>",
            "<tr><td>200</td><td>Aranyi Mária</td><td>NULL</td><td>1</td><td>1</td></tr>",
            "<tr><td>300</td><td>Szabó Andrera</td><td>NULL</td><td>1</td><td>1</td></tr>",
            "<tr><td>301</td><td>Juhász András</td><td>Dr.</td><td>6</td><td>1</td></tr>",
            "<tr><td>302</td><td>Kovacs Istvan</td><td>Dr.</td><td>5</td><td>1</td></tr>",
            "</table>"
        ]
    }
}
],
            "execution_count": 25
        },
        {
            "cell_type": "markdown",
            "source": [
                "11. <span style=\"font-weight: 600; color: rgb(36, 41, 47); font-family: -apple-system, BlinkMacSystemFont, &quot;Segoe UI&quot;, Helvetica, Arial, sans-serif, &quot;Apple Color Emoji&quot;, &quot;Segoe UI Emoji&quot;; font-size: 16px;\">Készítsünk lekérdezést, amely részletesen megjeleníti az egyes órák fontosabb adatait, azaz</span>\n",
                "\n",
                "1. Az órák azonosítóit, a tanár nevét, a tantárgy nevét, a terem nevét és a kezdési időpontot!\n",
                "2. Az oszlopokat nevezzük el értelemszerűen!"
            ],
            "metadata": {
                "azdata_cell_guid": "d2340f5f-1614-473c-b937-85740d67f7c1"
            },
            "attachments": {}
        },
        {
            "cell_type": "code",
            "source": [
                ""
            ],
            "metadata": {
                "azdata_cell_guid": "e99c2c53-898f-4787-b0e6-182d106dc16f",
                "language": "sql"
            },
            "outputs": [],
            "execution_count": null
        },
        {
            "cell_type": "markdown",
            "source": [
                "12. <span style=\"color: rgb(36, 41, 47); font-family: -apple-system, BlinkMacSystemFont, &quot;Segoe UI&quot;, Helvetica, Arial, sans-serif, &quot;Apple Color Emoji&quot;, &quot;Segoe UI Emoji&quot;; font-size: 16px;\">Készítsünk listát, amely tartalmazza az egyes órák azonosítóit, és az órán oktatott tantárgy felelősének nevét!</span>\n",
                "\n",
                "1. Rendezzük a listát a tantárgyfelelős neve szerint csökkenő sorrendbe!"
            ],
            "metadata": {
                "azdata_cell_guid": "a765e9d6-58b3-4171-872a-78f3118fd6e3"
            },
            "attachments": {}
        },
        {
            "cell_type": "code",
            "source": [
                ""
            ],
            "metadata": {
                "azdata_cell_guid": "422e8127-b652-4d3a-bfd7-9b1637b5781e",
                "language": "sql"
            },
            "outputs": [],
            "execution_count": null
        },
        {
            "cell_type": "markdown",
            "source": [
                "13. <span style=\"color: rgb(36, 41, 47); font-family: -apple-system, BlinkMacSystemFont, &quot;Segoe UI&quot;, Helvetica, Arial, sans-serif, &quot;Apple Color Emoji&quot;, &quot;Segoe UI Emoji&quot;; font-size: 16px;\">Készítsünk listát, amely megjeleníti, hogy az Orak táblában lévő órák közül hányat tart Dr., illetve nem Dr. titulusú tanár!</span>\n",
                "\n",
                "1. Az oszlopokat nevezzük el értelemszerűen!"
            ],
            "metadata": {
                "azdata_cell_guid": "3f9237ae-f109-401c-acb9-31d75e73331b"
            },
            "attachments": {}
        },
        {
            "cell_type": "code",
            "source": [
                ""
            ],
            "metadata": {
                "azdata_cell_guid": "4b31bb89-cfbc-46b1-8639-85c462877786",
                "language": "sql"
            },
            "outputs": [],
            "execution_count": null
        },
        {
            "cell_type": "markdown",
            "source": [
                "14. <span style=\"color: rgb(36, 41, 47); font-family: -apple-system, BlinkMacSystemFont, &quot;Segoe UI&quot;, Helvetica, Arial, sans-serif, &quot;Apple Color Emoji&quot;, &quot;Segoe UI Emoji&quot;; font-size: 16px;\">Készítsünk listát arról, hogy beosztásonként hány óra szerepel az Orak táblában!</span>\n",
                "\n",
                "1. Jelenítsük meg a beosztások nevét és az órák számát!\n",
                "2. A listát szűrjük azokra a beosztásokra, ahol ez az óraszám 10 feletti!"
            ],
            "metadata": {
                "azdata_cell_guid": "f634e09a-85ef-4e70-8ec6-ef355dfddaa7"
            },
            "attachments": {}
        },
        {
            "cell_type": "code",
            "source": [
                ""
            ],
            "metadata": {
                "azdata_cell_guid": "88abc55b-2c78-495b-a72f-3f8f4eb5fe70",
                "language": "sql"
            },
            "outputs": [],
            "execution_count": null
        },
        {
            "cell_type": "markdown",
            "source": [
                "15. <span style=\"color: rgb(36, 41, 47); font-family: -apple-system, BlinkMacSystemFont, &quot;Segoe UI&quot;, Helvetica, Arial, sans-serif, &quot;Apple Color Emoji&quot;, &quot;Segoe UI Emoji&quot;; font-size: 16px;\">Melyek azok az órák, amelyek kezdési időpontja olyan sávba esik, amely a mostani időpont (óra:perc) után van?</span>\n",
                "\n",
                "1. Listázzuk az órák azonosítóit, valamint az órakezdés napját és időpontját!\n",
                "2. A listát rendezzük az időpont szerint növekvő sorrendbe!"
            ],
            "metadata": {
                "azdata_cell_guid": "4cbf2f0d-a65d-480a-8186-ccdb24498443"
            },
            "attachments": {}
        },
        {
            "cell_type": "code",
            "source": [
                ""
            ],
            "metadata": {
                "azdata_cell_guid": "c148aee8-bc85-40bf-b80a-a4898a6c05cb",
                "language": "sql"
            },
            "outputs": [],
            "execution_count": null
        }
    ]
}