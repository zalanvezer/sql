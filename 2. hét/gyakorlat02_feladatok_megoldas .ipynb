{
    "metadata": {
        "kernelspec": {
            "name": "SQL",
            "display_name": "SQL",
            "language": "sql"
        },
        "language_info": {
            "name": "sql",
            "version": ""
        },
        "extensions": {
            "azuredatastudio": {
                "version": 1,
                "views": []
            }
        }
    },
    "nbformat_minor": 2,
    "nbformat": 4,
    "cells": [
        {
            "cell_type": "markdown",
            "source": [
                "1. <span style=\"color:rgb(36, 41, 47);font-family:-apple-system, BlinkMacSystemFont, &quot;Segoe UI&quot;, Helvetica, Arial, sans-serif, &quot;Apple Color Emoji&quot;, &quot;Segoe UI Emoji&quot;;font-size:16px;\">Készítsünk lekérdezést, amely listázza, hogy mely napokon hány db kölcsönzés történt!</span>\n",
                "\n",
                "<span style=\"font-size: 16px;\">a.&nbsp;</span> Az oszlopok neve legyen 'Dátum' és 'Kölcsönzések száma'  \n",
                "b. A listát rendezzük a kölcsönzés dátuma szerint csökkenő sorrendbe!"
            ],
            "metadata": {
                "azdata_cell_guid": "77f2d5b3-38e9-41cc-893f-f5afd02b97ef"
            },
            "attachments": {}
        },
        {
            "cell_type": "code",
            "source": [
                "    SELECT ki_datum AS 'Dátum', \r\n",
                "\t\t   COUNT(*) AS 'Kölcsönzések száma'\r\n",
                "\tFROM kolcsonzesek\r\n",
                "\tGROUP BY ki_datum\r\n",
                "\tORDER BY ki_datum DESC"
            ],
            "metadata": {
                "azdata_cell_guid": "bd3cef1a-4e6e-4ece-9dc3-aaa9d2b5d66d",
                "language": "sql"
            },
            "outputs": [],
            "execution_count": null
        },
        {
            "cell_type": "markdown",
            "source": [
                "2. <span style=\"font-weight: 600; color: rgb(36, 41, 47); font-family: -apple-system, BlinkMacSystemFont, &quot;Segoe UI&quot;, Helvetica, Arial, sans-serif, &quot;Apple Color Emoji&quot;, &quot;Segoe UI Emoji&quot;; font-size: 16px;\">Mennyi a dvd-k átlagos ára stílusonkénti bontásban?</span>\n",
                "\n",
                "1. Csak azokat a stílusokat vegyük figyelembe, ahol az átlagos ár 4500 Ft feletti!\n",
                "2. Az oszlopokat nevezzük el értelemszerűen!\n",
                "3. A listát rendezzük átlagos ár szerint csökkenő sorrendbe!"
            ],
            "metadata": {
                "azdata_cell_guid": "88f5b4bb-f4c1-4bad-a0c7-b2592687b422"
            },
            "attachments": {}
        },
        {
            "cell_type": "code",
            "source": [
                "    SELECT stilus AS 'Stílus', \r\n",
                "\t       AVG(nettoar) AS 'Nettó ár'\r\n",
                "\tFROM dvd\r\n",
                "\tGROUP BY stilus\r\n",
                "\tHAVING AVG(nettoar) > 4500\r\n",
                "\tORDER BY 2 DESC"
            ],
            "metadata": {
                "azdata_cell_guid": "e9de5726-f036-4fb9-8c33-a873955ed886",
                "language": "sql"
            },
            "outputs": [],
            "execution_count": null
        },
        {
            "cell_type": "markdown",
            "source": [
                "3. <span style=\"color:rgb(36, 41, 47);font-family:-apple-system, BlinkMacSystemFont, &quot;Segoe UI&quot;, Helvetica, Arial, sans-serif, &quot;Apple Color Emoji&quot;, &quot;Segoe UI Emoji&quot;;font-size:16px;\">Listázzuk nyelvenkénti, azon belül stílusonkénti bontásban, hogy mennyi a dvd-k legkisebb és legnagyobb ára!&nbsp;</span> \n",
                "\n",
                "<span style=\"font-size: 16px;\">a. Az oszlopok neve legyen 'Nyelv', 'Stílus', 'MinÁr' és 'MaxÁr'!<br>b.&nbsp;</span> A listából hagyjuk ki azokat a sorokat, ahol a nyelv vagy a stílus nincs megadva!  \n",
                "c. Szintén hagyjuk ki azokat a csoportokat, ahol a csoport elemszáma 3-nál kisebb!"
            ],
            "metadata": {
                "azdata_cell_guid": "9e7249de-1b59-43d8-84b1-26fa7d81fc5a"
            },
            "attachments": {}
        },
        {
            "cell_type": "code",
            "source": [
                "   SELECT lang AS 'Nyelv',\r\n",
                "          stilus AS 'Stílus',\r\n",
                "\t\t  MIN(nettoar) AS 'MinÁr',\r\n",
                "\t\t  MAX(nettoar) AS 'MaxÁr'\r\n",
                "   FROM dvd\r\n",
                "   WHERE lang IS NOT NULL AND stilus IS NOT NULL\r\n",
                "   GROUP BY lang, stilus\r\n",
                "   HAVING COUNT(*)>=3"
            ],
            "metadata": {
                "azdata_cell_guid": "6405d3e8-a9b1-45d7-aa76-3b1e785ef6cc",
                "language": "sql"
            },
            "outputs": [],
            "execution_count": null
        },
        {
            "cell_type": "markdown",
            "source": [
                "4. <span style=\"color: rgb(36, 41, 47); font-family: -apple-system, BlinkMacSystemFont, &quot;Segoe UI&quot;, Helvetica, Arial, sans-serif, &quot;Apple Color Emoji&quot;, &quot;Segoe UI Emoji&quot;; font-size: 16px;\">Készítsünk listát, amely a csoportokat hoz létre aszerint, hogy a mai naptól számítva hány nap telt el a kölcsönzés kezdete óta. A lista jelenítse meg csoportonkénti bontásban a kikölcsönzött dvd-k számát!</span>\n",
                "\n",
                "1. Az oszlopokat nevezzük el értelemszerűen!\n",
                "2. A listát rendezzük az eltelt napok száma szerint csökkenő sorrendbe!"
            ],
            "metadata": {
                "azdata_cell_guid": "6478e469-c094-472c-a772-ccd5b5c61516"
            },
            "attachments": {}
        },
        {
            "cell_type": "code",
            "source": [
                "  SELECT datediff(day, ki_datum, getdate()) AS 'Eltelt napok száma', \r\n",
                "\t\t COUNT(*) AS 'DB'\r\n",
                "  FROM kolcsonzesek\r\n",
                "  GROUP BY datediff(day, ki_datum, getdate())\r\n",
                "  ORDER BY 1 DESC"
            ],
            "metadata": {
                "azdata_cell_guid": "02031ea2-3838-458d-839c-228e3b362b61",
                "language": "sql"
            },
            "outputs": [
                {
                    "output_type": "display_data",
                    "data": {
                        "text/html": "(3 rows affected)"
                    },
                    "metadata": {}
                },
                {
                    "output_type": "display_data",
                    "data": {
                        "text/html": "Total execution time: 00:00:00.019"
                    },
                    "metadata": {}
                },
                {
                    "output_type": "execute_result",
                    "metadata": {},
                    "execution_count": 1,
                    "data": {
                        "application/vnd.dataresource+json": {
                            "schema": {
                                "fields": [
                                    {
                                        "name": "Eltelt napok száma"
                                    },
                                    {
                                        "name": "DB"
                                    }
                                ]
                            },
                            "data": [
                                {
                                    "Eltelt napok száma": "7390",
                                    "DB": "3"
                                },
                                {
                                    "Eltelt napok száma": "6365",
                                    "DB": "1"
                                },
                                {
                                    "Eltelt napok száma": "6364",
                                    "DB": "1"
                                }
                            ]
                        },
                        "text/html": [
                            "<table>",
                            "<tr><th>Eltelt napok száma</th><th>DB</th></tr>",
                            "<tr><td>7390</td><td>3</td></tr>",
                            "<tr><td>6365</td><td>1</td></tr>",
                            "<tr><td>6364</td><td>1</td></tr>",
                            "</table>"
                        ]
                    }
                }
            ],
            "execution_count": 1
        },
        {
            "cell_type": "markdown",
            "source": [
                "5. <span style=\"color: rgb(36, 41, 47); font-family: -apple-system, BlinkMacSystemFont, &quot;Segoe UI&quot;, Helvetica, Arial, sans-serif, &quot;Apple Color Emoji&quot;, &quot;Segoe UI Emoji&quot;; font-size: 16px;\">A kölcsönző tulajdonosa elhatározza, hogy ezentúl kerekebb árakat alkalmaz. Ezért minden dvd árát 1000 Ft-ra kerekíti. Készítsünk lekérdezést, amely megmutatja, hogy melyik 1000 Ft-ra kerekített ár szerint, azon belül stílus szerint hány db dvd összesen raktáron! **</span>\n",
                "\n",
                "1. Csak olyan csoportokat listázzunk, ahol a raktárkészlet legalább 30!\n",
                "2. A listát rendezzük kerekített ár szerint, azon belül raktárkészlet szerint növekvő sorrendbe!"
            ],
            "metadata": {
                "azdata_cell_guid": "9edbbaf9-c276-4898-9a01-e1b2993c089f"
            },
            "attachments": {}
        },
        {
            "cell_type": "code",
            "source": [
                "  SELECT ROUND(nettoar, -3) AS 'Kerekített ár',\r\n",
                "         stilus,\r\n",
                "\t\t SUM([raktár készlet]) AS 'Raktár készlet'\r\n",
                "  FROM dvd\r\n",
                "  GROUP BY ROUND(nettoar, -3), stilus\r\n",
                "  HAVING SUM([raktár készlet]) > 30\r\n",
                "  ORDER BY 1, 3"
            ],
            "metadata": {
                "azdata_cell_guid": "5ad5fdcb-2878-4111-861a-833bcd50e935",
                "language": "sql"
            },
            "outputs": [
                {
                    "output_type": "display_data",
                    "data": {
                        "text/html": "(19 rows affected)"
                    },
                    "metadata": {}
                },
                {
                    "output_type": "display_data",
                    "data": {
                        "text/html": "Total execution time: 00:00:00.026"
                    },
                    "metadata": {}
                },
                {
                    "output_type": "execute_result",
                    "metadata": {},
                    "execution_count": 2,
                    "data": {
                        "application/vnd.dataresource+json": {
                            "schema": {
                                "fields": [
                                    {
                                        "name": "Kerekített ár"
                                    },
                                    {
                                        "name": "stilus"
                                    },
                                    {
                                        "name": "Raktár készlet"
                                    }
                                ]
                            },
                            "data": [
                                {
                                    "Kerekített ár": "3000",
                                    "stilus": "játék",
                                    "Raktár készlet": "40"
                                },
                                {
                                    "Kerekített ár": "3000",
                                    "stilus": "történelem",
                                    "Raktár készlet": "40"
                                },
                                {
                                    "Kerekített ár": "3000",
                                    "stilus": "ismeretterjesztő",
                                    "Raktár készlet": "70"
                                },
                                {
                                    "Kerekített ár": "4000",
                                    "stilus": "csillagászat",
                                    "Raktár készlet": "40"
                                },
                                {
                                    "Kerekített ár": "4000",
                                    "stilus": "földrajz",
                                    "Raktár készlet": "50"
                                },
                                {
                                    "Kerekített ár": "4000",
                                    "stilus": "irodalom",
                                    "Raktár készlet": "90"
                                },
                                {
                                    "Kerekített ár": "4000",
                                    "stilus": "ismeretterjesztő",
                                    "Raktár készlet": "130"
                                },
                                {
                                    "Kerekített ár": "4000",
                                    "stilus": "nyelvtanító",
                                    "Raktár készlet": "140"
                                },
                                {
                                    "Kerekített ár": "4000",
                                    "stilus": "történelem",
                                    "Raktár készlet": "160"
                                },
                                {
                                    "Kerekített ár": "4000",
                                    "stilus": "játék",
                                    "Raktár készlet": "180"
                                },
                                {
                                    "Kerekített ár": "5000",
                                    "stilus": "földrajz",
                                    "Raktár készlet": "60"
                                },
                                {
                                    "Kerekített ár": "5000",
                                    "stilus": "történelem",
                                    "Raktár készlet": "120"
                                },
                                {
                                    "Kerekített ár": "5000",
                                    "stilus": "nyelvtanító",
                                    "Raktár készlet": "140"
                                },
                                {
                                    "Kerekített ár": "5000",
                                    "stilus": "ismeretterjesztő",
                                    "Raktár készlet": "170"
                                },
                                {
                                    "Kerekített ár": "5000",
                                    "stilus": "játék",
                                    "Raktár készlet": "210"
                                },
                                {
                                    "Kerekített ár": "6000",
                                    "stilus": "történelem",
                                    "Raktár készlet": "88"
                                },
                                {
                                    "Kerekített ár": "6000",
                                    "stilus": "ismeretterjesztő",
                                    "Raktár készlet": "90"
                                },
                                {
                                    "Kerekített ár": "6000",
                                    "stilus": "nyelvtanító",
                                    "Raktár készlet": "110"
                                },
                                {
                                    "Kerekített ár": "6000",
                                    "stilus": "játék",
                                    "Raktár készlet": "170"
                                }
                            ]
                        },
                        "text/html": [
                            "<table>",
                            "<tr><th>Kerekített ár</th><th>stilus</th><th>Raktár készlet</th></tr>",
                            "<tr><td>3000</td><td>játék</td><td>40</td></tr>",
                            "<tr><td>3000</td><td>történelem</td><td>40</td></tr>",
                            "<tr><td>3000</td><td>ismeretterjesztő</td><td>70</td></tr>",
                            "<tr><td>4000</td><td>csillagászat</td><td>40</td></tr>",
                            "<tr><td>4000</td><td>földrajz</td><td>50</td></tr>",
                            "<tr><td>4000</td><td>irodalom</td><td>90</td></tr>",
                            "<tr><td>4000</td><td>ismeretterjesztő</td><td>130</td></tr>",
                            "<tr><td>4000</td><td>nyelvtanító</td><td>140</td></tr>",
                            "<tr><td>4000</td><td>történelem</td><td>160</td></tr>",
                            "<tr><td>4000</td><td>játék</td><td>180</td></tr>",
                            "<tr><td>5000</td><td>földrajz</td><td>60</td></tr>",
                            "<tr><td>5000</td><td>történelem</td><td>120</td></tr>",
                            "<tr><td>5000</td><td>nyelvtanító</td><td>140</td></tr>",
                            "<tr><td>5000</td><td>ismeretterjesztő</td><td>170</td></tr>",
                            "<tr><td>5000</td><td>játék</td><td>210</td></tr>",
                            "<tr><td>6000</td><td>történelem</td><td>88</td></tr>",
                            "<tr><td>6000</td><td>ismeretterjesztő</td><td>90</td></tr>",
                            "<tr><td>6000</td><td>nyelvtanító</td><td>110</td></tr>",
                            "<tr><td>6000</td><td>játék</td><td>170</td></tr>",
                            "</table>"
                        ]
                    }
                }
            ],
            "execution_count": 2
        },
        {
            "cell_type": "markdown",
            "source": [
                "6. <span style=\"font-weight: 600; color: rgb(36, 41, 47); font-family: -apple-system, BlinkMacSystemFont, &quot;Segoe UI&quot;, Helvetica, Arial, sans-serif, &quot;Apple Color Emoji&quot;, &quot;Segoe UI Emoji&quot;; font-size: 16px;\">A dvd-ket csoportosíthatjuk aszerint, hogy milyen hosszú a címük. Amelyiknél a cím hosszúsága 10 karakter alatt van, az legyen Rövid, 10-20-ig Átlagos, 20 felett Hosszú. Hány Rövid, Átlagos, illetve Hosszú dvd-van összesen raktáron?</span>\n",
                "\n",
                "1. Az oszlopok neve legyen 'Cím hosszúság' és 'Darabszám"
            ],
            "metadata": {
                "azdata_cell_guid": "5fe65c1c-2479-45ac-ad03-ec99d12eae21"
            },
            "attachments": {}
        },
        {
            "cell_type": "code",
            "source": [
                "    SELECT CASE WHEN LEN(cim)< 10 THEN 'Rövid' \r\n",
                "\t            WHEN LEN(cim) BETWEEN 10 AND 20 THEN 'Átlagos' \r\n",
                "\t\t\t\tELSE 'Hosszú'\r\n",
                "\t\t\tEND AS 'Cím hosszúság', SUM([raktár készlet]) AS 'Darabszám'\r\n",
                "\tFROM dvd\r\n",
                "\tGROUP BY CASE WHEN LEN(cim)< 10 THEN 'Rövid' \r\n",
                "\t            WHEN LEN(cim) BETWEEN 10 AND 20 THEN 'Átlagos' \r\n",
                "\t\t\t\tELSE 'Hosszú'\r\n",
                "\t\t\t END\r\n",
                "\r\n",
                ""
            ],
            "metadata": {
                "azdata_cell_guid": "924f2dde-f1c2-4def-a7f9-dbf4bace7735",
                "language": "sql"
            },
            "outputs": [
                {
                    "output_type": "display_data",
                    "data": {
                        "text/html": "(3 rows affected)"
                    },
                    "metadata": {}
                },
                {
                    "output_type": "display_data",
                    "data": {
                        "text/html": "Total execution time: 00:00:00.020"
                    },
                    "metadata": {}
                },
                {
                    "output_type": "execute_result",
                    "metadata": {},
                    "execution_count": 3,
                    "data": {
                        "application/vnd.dataresource+json": {
                            "schema": {
                                "fields": [
                                    {
                                        "name": "Cím hosszúság"
                                    },
                                    {
                                        "name": "Darabszám"
                                    }
                                ]
                            },
                            "data": [
                                {
                                    "Cím hosszúság": "Átlagos",
                                    "Darabszám": "930"
                                },
                                {
                                    "Cím hosszúság": "Hosszú",
                                    "Darabszám": "2128"
                                },
                                {
                                    "Cím hosszúság": "Rövid",
                                    "Darabszám": "120"
                                }
                            ]
                        },
                        "text/html": [
                            "<table>",
                            "<tr><th>Cím hosszúság</th><th>Darabszám</th></tr>",
                            "<tr><td>Átlagos</td><td>930</td></tr>",
                            "<tr><td>Hosszú</td><td>2128</td></tr>",
                            "<tr><td>Rövid</td><td>120</td></tr>",
                            "</table>"
                        ]
                    }
                }
            ],
            "execution_count": 3
        },
        {
            "cell_type": "markdown",
            "source": [
                "7. <span style=\"color: rgb(36, 41, 47); font-family: -apple-system, BlinkMacSystemFont, &quot;Segoe UI&quot;, Helvetica, Arial, sans-serif, &quot;Apple Color Emoji&quot;, &quot;Segoe UI Emoji&quot;; font-size: 16px;\">Készítsünk listát arról, hogy melyik teremben hány óra van!</span>\n",
                "\n",
                "1. Jelenítsük meg a termek azonosítóit és a teremben tartott órák számát!\n",
                "2. Az oszlopokat nevezzük el értelemszerűen!\n",
                "3. Szűrjünk azokra a termekre, ahol az órák száma legalább 3!"
            ],
            "metadata": {
                "azdata_cell_guid": "3aeb6bf5-b111-40d5-92b2-9712ce335696"
            },
            "attachments": {}
        },
        {
            "cell_type": "code",
            "source": [
                "SELECT terem AS 'Teremkód',\r\n",
                "       COUNT(*) AS 'Óraszám'\r\n",
                "FROM Orak\r\n",
                "GROUP BY terem\r\n",
                "HAVING COUNT(*) >=3"
            ],
            "metadata": {
                "azdata_cell_guid": "3e89b651-f56f-4102-af52-30eb2bbe360d",
                "language": "sql"
            },
            "outputs": [
                {
                    "output_type": "display_data",
                    "data": {
                        "text/html": "(11 rows affected)"
                    },
                    "metadata": {}
                },
                {
                    "output_type": "display_data",
                    "data": {
                        "text/html": "Total execution time: 00:00:00.022"
                    },
                    "metadata": {}
                },
                {
                    "output_type": "execute_result",
                    "metadata": {},
                    "execution_count": 5,
                    "data": {
                        "application/vnd.dataresource+json": {
                            "schema": {
                                "fields": [
                                    {
                                        "name": "Teremkód"
                                    },
                                    {
                                        "name": "Óraszám"
                                    }
                                ]
                            },
                            "data": [
                                {
                                    "Teremkód": "2",
                                    "Óraszám": "5"
                                },
                                {
                                    "Teremkód": "3",
                                    "Óraszám": "11"
                                },
                                {
                                    "Teremkód": "4",
                                    "Óraszám": "8"
                                },
                                {
                                    "Teremkód": "5",
                                    "Óraszám": "5"
                                },
                                {
                                    "Teremkód": "6",
                                    "Óraszám": "6"
                                },
                                {
                                    "Teremkód": "7",
                                    "Óraszám": "6"
                                },
                                {
                                    "Teremkód": "8",
                                    "Óraszám": "6"
                                },
                                {
                                    "Teremkód": "10",
                                    "Óraszám": "3"
                                },
                                {
                                    "Teremkód": "12",
                                    "Óraszám": "3"
                                },
                                {
                                    "Teremkód": "13",
                                    "Óraszám": "5"
                                },
                                {
                                    "Teremkód": "14",
                                    "Óraszám": "3"
                                }
                            ]
                        },
                        "text/html": [
                            "<table>",
                            "<tr><th>Teremkód</th><th>Óraszám</th></tr>",
                            "<tr><td>2</td><td>5</td></tr>",
                            "<tr><td>3</td><td>11</td></tr>",
                            "<tr><td>4</td><td>8</td></tr>",
                            "<tr><td>5</td><td>5</td></tr>",
                            "<tr><td>6</td><td>6</td></tr>",
                            "<tr><td>7</td><td>6</td></tr>",
                            "<tr><td>8</td><td>6</td></tr>",
                            "<tr><td>10</td><td>3</td></tr>",
                            "<tr><td>12</td><td>3</td></tr>",
                            "<tr><td>13</td><td>5</td></tr>",
                            "<tr><td>14</td><td>3</td></tr>",
                            "</table>"
                        ]
                    }
                }
            ],
            "execution_count": 5
        },
        {
            "cell_type": "markdown",
            "source": [
                "8. <span style=\"color: rgb(36, 41, 47); font-family: -apple-system, BlinkMacSystemFont, &quot;Segoe UI&quot;, Helvetica, Arial, sans-serif, &quot;Apple Color Emoji&quot;, &quot;Segoe UI Emoji&quot;; font-size: 16px;\">Készítsünk lekérdezést, amely megadja, hogy minimálian és maximálisan hány kreditet ér egy tantárgy!</span>\n",
                "\n",
                "1. Az oszlopokat nevezzük el értelemszerűen!\n",
                "2. Ne vegyük figyelembe azokat a tantárgyakat, amelyek nevében az „alapjai” szó szerepel, vagy a tantárgy neve 10 karakternél rövidebb!"
            ],
            "metadata": {
                "azdata_cell_guid": "26a504dc-ff6a-439f-94c0-4580eca3eacf"
            },
            "attachments": {}
        },
        {
            "cell_type": "code",
            "source": [
                "SELECT MIN(Kredit) AS 'MinKredit', \r\n",
                "       MAX(Kredit) AS 'MaxKredit'\r\n",
                "FROM Tantárgyak\r\n",
                "WHERE Tantárgynév NOT LIKE '%alapjai%' AND LEN(Tantárgynév) >=10"
            ],
            "metadata": {
                "azdata_cell_guid": "1cbb8aeb-78b5-4350-aa45-e3202fdab85b",
                "language": "sql",
                "tags": []
            },
            "outputs": [
                {
                    "output_type": "display_data",
                    "data": {
                        "text/html": "(1 row affected)"
                    },
                    "metadata": {}
                },
                {
                    "output_type": "display_data",
                    "data": {
                        "text/html": "Total execution time: 00:00:00.083"
                    },
                    "metadata": {}
                },
                {
                    "output_type": "execute_result",
                    "metadata": {},
                    "execution_count": 6,
                    "data": {
                        "application/vnd.dataresource+json": {
                            "schema": {
                                "fields": [
                                    {
                                        "name": "MinKredit"
                                    },
                                    {
                                        "name": "MaxKredit"
                                    }
                                ]
                            },
                            "data": [
                                {
                                    "MinKredit": "1",
                                    "MaxKredit": "5"
                                }
                            ]
                        },
                        "text/html": [
                            "<table>",
                            "<tr><th>MinKredit</th><th>MaxKredit</th></tr>",
                            "<tr><td>1</td><td>5</td></tr>",
                            "</table>"
                        ]
                    }
                }
            ],
            "execution_count": 6
        },
        {
            "cell_type": "markdown",
            "source": [
                "9. <span style=\"color: rgb(36, 41, 47); font-family: -apple-system, BlinkMacSystemFont, &quot;Segoe UI&quot;, Helvetica, Arial, sans-serif, &quot;Apple Color Emoji&quot;, &quot;Segoe UI Emoji&quot;; font-size: 16px;\">A tapasztalat alapján a tanársegédeknek 8, az óraadóknak 10 órájuk van egy héten. A többiek annyi órát tartanak, amennyi az elvárt óraszámuk. Készítsünk lekérdezést, amely minden beosztáshoz megjeleníti, hogy hetente hány túlóra tartozik hozzá!</span>\n",
                "\n",
                "1. A lekérdezés csak a beosztások nevét és a heti túlórák számát jelenítse meg!"
            ],
            "metadata": {
                "azdata_cell_guid": "435e2860-2dd5-4877-90f4-34a43baeb53c"
            },
            "attachments": {}
        },
        {
            "cell_type": "code",
            "source": [
                "SELECT beosztasnev,\r\n",
                "\t   CASE WHEN beosztasnev = 'Tanársegéd' THEN 8\r\n",
                "\t        WHEN beosztasnev = 'Óraadó' THEN 10\r\n",
                "\t\t\tELSE elvart\r\n",
                "\t   END - elvart AS 'Túlóra'\r\n",
                "FROM Beosztasok"
            ],
            "metadata": {
                "azdata_cell_guid": "ce846351-ddbe-4d8e-b8fb-2a92c73ac80b",
                "language": "sql"
            },
            "outputs": [
                {
                    "output_type": "display_data",
                    "data": {
                        "text/html": "(7 rows affected)"
                    },
                    "metadata": {}
                },
                {
                    "output_type": "display_data",
                    "data": {
                        "text/html": "Total execution time: 00:00:00.017"
                    },
                    "metadata": {}
                },
                {
                    "output_type": "execute_result",
                    "metadata": {},
                    "execution_count": 7,
                    "data": {
                        "application/vnd.dataresource+json": {
                            "schema": {
                                "fields": [
                                    {
                                        "name": "beosztasnev"
                                    },
                                    {
                                        "name": "Túlóra"
                                    }
                                ]
                            },
                            "data": [
                                {
                                    "beosztasnev": "Óraadó",
                                    "Túlóra": "4"
                                },
                                {
                                    "beosztasnev": "Tanársegéd",
                                    "Túlóra": "2"
                                },
                                {
                                    "beosztasnev": "Adjunktus",
                                    "Túlóra": "0"
                                },
                                {
                                    "beosztasnev": "Docens",
                                    "Túlóra": "0"
                                },
                                {
                                    "beosztasnev": "Professzor",
                                    "Túlóra": "0"
                                },
                                {
                                    "beosztasnev": "Egyetemi tanár",
                                    "Túlóra": "0"
                                },
                                {
                                    "beosztasnev": "Tudományos munkatárs",
                                    "Túlóra": "0"
                                }
                            ]
                        },
                        "text/html": [
                            "<table>",
                            "<tr><th>beosztasnev</th><th>Túlóra</th></tr>",
                            "<tr><td>Óraadó</td><td>4</td></tr>",
                            "<tr><td>Tanársegéd</td><td>2</td></tr>",
                            "<tr><td>Adjunktus</td><td>0</td></tr>",
                            "<tr><td>Docens</td><td>0</td></tr>",
                            "<tr><td>Professzor</td><td>0</td></tr>",
                            "<tr><td>Egyetemi tanár</td><td>0</td></tr>",
                            "<tr><td>Tudományos munkatárs</td><td>0</td></tr>",
                            "</table>"
                        ]
                    }
                }
            ],
            "execution_count": 7
        },
        {
            "cell_type": "markdown",
            "source": [
                "10. <span style=\"font-weight: 600; color: rgb(36, 41, 47); font-family: -apple-system, BlinkMacSystemFont, &quot;Segoe UI&quot;, Helvetica, Arial, sans-serif, &quot;Apple Color Emoji&quot;, &quot;Segoe UI Emoji&quot;; font-size: 16px;\">Melyek azok az oktatók, akiknek nincs órájuk?</span>\n",
                "\n",
                "1. Csak az oktatók neve jelenjen meg!\n",
                "2. ÖTLET: használjunk LEFT JOIN-t, és szűrjünk azokra a rekordokra, ahol NULL érték van a JOIN utáni feltétel jobb oldalán!"
            ],
            "metadata": {
                "azdata_cell_guid": "217c5772-afe2-4a7c-b913-e3a3e09d6411"
            },
            "attachments": {}
        },
        {
            "cell_type": "code",
            "source": [
                "SELECT okt.nev\r\n",
                "FROM Oktatok okt left JOIN Orak o ON okt.oktato_id = o.tanar\r\n",
                "WHERE o.tanar IS NULL"
            ],
            "metadata": {
                "azdata_cell_guid": "a9cc0926-3dbd-4ed8-8179-1c39d64a0762",
                "language": "sql"
            },
            "outputs": [
                {
                    "output_type": "display_data",
                    "data": {
                        "text/html": "(5 rows affected)"
                    },
                    "metadata": {}
                },
                {
                    "output_type": "display_data",
                    "data": {
                        "text/html": "Total execution time: 00:00:00.019"
                    },
                    "metadata": {}
                },
                {
                    "output_type": "execute_result",
                    "metadata": {},
                    "execution_count": 10,
                    "data": {
                        "application/vnd.dataresource+json": {
                            "schema": {
                                "fields": [
                                    {
                                        "name": "nev"
                                    }
                                ]
                            },
                            "data": [
                                {
                                    "nev": "Józsa Gábor"
                                },
                                {
                                    "nev": "Rácz András"
                                },
                                {
                                    "nev": "Kiss István"
                                },
                                {
                                    "nev": "Mészáros Kriszta"
                                },
                                {
                                    "nev": "Kovacs Istvan"
                                }
                            ]
                        },
                        "text/html": [
                            "<table>",
                            "<tr><th>nev</th></tr>",
                            "<tr><td>Józsa Gábor</td></tr>",
                            "<tr><td>Rácz András</td></tr>",
                            "<tr><td>Kiss István</td></tr>",
                            "<tr><td>Mészáros Kriszta</td></tr>",
                            "<tr><td>Kovacs Istvan</td></tr>",
                            "</table>"
                        ]
                    }
                }
            ],
            "execution_count": 10
        },
        {
            "cell_type": "markdown",
            "source": [
                "11. <span style=\"font-weight: 600; color: rgb(36, 41, 47); font-family: -apple-system, BlinkMacSystemFont, &quot;Segoe UI&quot;, Helvetica, Arial, sans-serif, &quot;Apple Color Emoji&quot;, &quot;Segoe UI Emoji&quot;; font-size: 16px;\">Készítsünk lekérdezést, amely részletesen megjeleníti az egyes órák fontosabb adatait, azaz</span>\n",
                "\n",
                "1. Az órák azonosítóit, a tanár nevét, a tantárgy nevét, a terem nevét és a kezdési időpontot!\n",
                "2. Az oszlopokat nevezzük el értelemszerűen!"
            ],
            "metadata": {
                "azdata_cell_guid": "d2340f5f-1614-473c-b937-85740d67f7c1"
            },
            "attachments": {}
        },
        {
            "cell_type": "code",
            "source": [
                "SELECT o.ora_id AS 'Azonosító', \r\n",
                "       okt.nev AS 'Tanár', \r\n",
                "\t   t.tantárgynév AS 'Tantárgy', \r\n",
                "\t   tm.Terem AS 'terem',\r\n",
                "\t   s.Időpont AS 'Kezdés'\r\n",
                "FROM Orak o JOIN Oktatok okt ON o.tanar = okt.oktato_id\r\n",
                "            JOIN Tantárgyak t on o.targy = t.tkód\r\n",
                "\t\t\tJOIN Termek tm ON o.terem = tm.tkód\r\n",
                "\t\t\tJOIN Savok s on o.sav = s.sav_id"
            ],
            "metadata": {
                "azdata_cell_guid": "e99c2c53-898f-4787-b0e6-182d106dc16f",
                "language": "sql"
            },
            "outputs": [
{
    "output_type": "display_data",
    "data": {
        "text/html": "(67 rows affected)"
    },
    "metadata": {}
}, {
    "output_type": "display_data",
    "data": {
        "text/html": "Total execution time: 00:00:00.032"
    },
    "metadata": {}
}, {
    "output_type": "execute_result",
    "metadata": {},
    "execution_count": 11,
    "data": {
        "application/vnd.dataresource+json": {
            "schema": {
                "fields": [
                    {
                        "name": "Azonosító"
                    },
                    {
                        "name": "Tanár"
                    },
                    {
                        "name": "Tantárgy"
                    },
                    {
                        "name": "terem"
                    },
                    {
                        "name": "Kezdés"
                    }
                ]
            },
            "data": [
                {
                    "Azonosító": "159",
                    "Tanár": "Ujfalussi István",
                    "Tantárgy": "Az ürgeöntés alapjai",
                    "terem": "117",
                    "Kezdés": "8.00"
                },
                {
                    "Azonosító": "160",
                    "Tanár": "Pelikán József",
                    "Tantárgy": "Az ürgeöntés alapjai",
                    "terem": "118",
                    "Kezdés": "14.00"
                },
                {
                    "Azonosító": "161",
                    "Tanár": "Pelikán József",
                    "Tantárgy": "Az ürgeöntés alapjai",
                    "terem": "118",
                    "Kezdés": "9.30"
                },
                {
                    "Azonosító": "162",
                    "Tanár": "Kovács András",
                    "Tantárgy": "Az ürgeöntés alapjai",
                    "terem": "119",
                    "Kezdés": "12.30"
                },
                {
                    "Azonosító": "163",
                    "Tanár": "Szerb László",
                    "Tantárgy": "Az ürgeöntés alapjai",
                    "terem": "120",
                    "Kezdés": "9.30"
                },
                {
                    "Azonosító": "164",
                    "Tanár": "Kiss János",
                    "Tantárgy": "Az ürgeöntés alapjai",
                    "terem": "119",
                    "Kezdés": "11.00"
                },
                {
                    "Azonosító": "165",
                    "Tanár": "Szerb László",
                    "Tantárgy": "Az ürgeöntés alapjai",
                    "terem": "119",
                    "Kezdés": "11.00"
                },
                {
                    "Azonosító": "166",
                    "Tanár": "Szerb László",
                    "Tantárgy": "Az ürgeöntés alapjai",
                    "terem": "119",
                    "Kezdés": "12.30"
                },
                {
                    "Azonosító": "167",
                    "Tanár": "Szentágotai Istvás",
                    "Tantárgy": "Az ürgeöntés alapjai",
                    "terem": "120",
                    "Kezdés": "12.30"
                },
                {
                    "Azonosító": "168",
                    "Tanár": "Ujfalussi István",
                    "Tantárgy": "Az ürgeöntés alapjai",
                    "terem": "217",
                    "Kezdés": "11.00"
                },
                {
                    "Azonosító": "169",
                    "Tanár": "Kovács András",
                    "Tantárgy": "Az ürgeöntés alapjai",
                    "terem": "218",
                    "Kezdés": "9.30"
                },
                {
                    "Azonosító": "170",
                    "Tanár": "Ludas Mátyás",
                    "Tantárgy": "Az ürgeöntés alapjai",
                    "terem": "120",
                    "Kezdés": "9.30"
                },
                {
                    "Azonosító": "171",
                    "Tanár": "Szénási ászló",
                    "Tantárgy": "Az ürgeöntés alapjai",
                    "terem": "220",
                    "Kezdés": "9.30"
                },
                {
                    "Azonosító": "172",
                    "Tanár": "Kiss János",
                    "Tantárgy": "Az ürgeöntés alapjai",
                    "terem": "119",
                    "Kezdés": "9.30"
                },
                {
                    "Azonosító": "173",
                    "Tanár": "Kovács András",
                    "Tantárgy": "Az ürgeöntés alapjai",
                    "terem": "119",
                    "Kezdés": "11.00"
                },
                {
                    "Azonosító": "174",
                    "Tanár": "Ludas Mátyás",
                    "Tantárgy": "Az ürgeöntés alapjai",
                    "terem": "219",
                    "Kezdés": "11.00"
                },
                {
                    "Azonosító": "175",
                    "Tanár": "Szénási ászló",
                    "Tantárgy": "Az ürgeöntés alapjai",
                    "terem": "120",
                    "Kezdés": "12.30"
                },
                {
                    "Azonosító": "176",
                    "Tanár": "Kovács András",
                    "Tantárgy": "Az ürgeöntés alapjai",
                    "terem": "118",
                    "Kezdés": "12.30"
                },
                {
                    "Azonosító": "177",
                    "Tanár": "Szentágotai Istvás",
                    "Tantárgy": "Az ürgeöntés alapjai",
                    "terem": "119",
                    "Kezdés": "14.00"
                },
                {
                    "Azonosító": "178",
                    "Tanár": "Vitéz János",
                    "Tantárgy": "Az ürgeöntés alapjai",
                    "terem": "220",
                    "Kezdés": "14.00"
                },
                {
                    "Azonosító": "179",
                    "Tanár": "Szentágotai Istvás",
                    "Tantárgy": "Az ürgeöntés alapjai",
                    "terem": "120",
                    "Kezdés": "15.30"
                },
                {
                    "Azonosító": "180",
                    "Tanár": "Vitéz János",
                    "Tantárgy": "Az ürgeöntés alapjai",
                    "terem": "119",
                    "Kezdés": "15.30"
                },
                {
                    "Azonosító": "181",
                    "Tanár": "Szentágotai Istvás",
                    "Tantárgy": "Az ürgeöntés alapjai",
                    "terem": "118",
                    "Kezdés": "8.00"
                },
                {
                    "Azonosító": "182",
                    "Tanár": "Vitéz János",
                    "Tantárgy": "Az ürgeöntés alapjai",
                    "terem": "219",
                    "Kezdés": "8.00"
                },
                {
                    "Azonosító": "183",
                    "Tanár": "Szentágotai Istvás",
                    "Tantárgy": "Az ürgeöntés alapjai",
                    "terem": "220",
                    "Kezdés": "9.30"
                },
                {
                    "Azonosító": "184",
                    "Tanár": "Vitéz János",
                    "Tantárgy": "Az ürgeöntés alapjai",
                    "terem": "218",
                    "Kezdés": "9.30"
                },
                {
                    "Azonosító": "185",
                    "Tanár": "Szentágotai Istvás",
                    "Tantárgy": "Az ürgeöntés alapjai",
                    "terem": "120",
                    "Kezdés": "11.00"
                },
                {
                    "Azonosító": "186",
                    "Tanár": "Nógrádi Kata",
                    "Tantárgy": "ü-business",
                    "terem": "219",
                    "Kezdés": "12.30"
                },
                {
                    "Azonosító": "187",
                    "Tanár": "Balkán András",
                    "Tantárgy": "Bevezetés az ürgeöntésbe",
                    "terem": "217",
                    "Kezdés": "9.30"
                },
                {
                    "Azonosító": "188",
                    "Tanár": "Farkasos Piroska",
                    "Tantárgy": "Bevezetés az ürgeöntésbe",
                    "terem": "VP 203.",
                    "Kezdés": "15.30"
                },
                {
                    "Azonosító": "189",
                    "Tanár": "Farkasos Piroska",
                    "Tantárgy": "Bevezetés az ürgeöntésbe",
                    "terem": "VP 203.",
                    "Kezdés": "9.30"
                },
                {
                    "Azonosító": "190",
                    "Tanár": "Farkasos Piroska",
                    "Tantárgy": "Bevezetés az ürgeöntésbe",
                    "terem": "E.2.238",
                    "Kezdés": "11.00"
                },
                {
                    "Azonosító": "191",
                    "Tanár": "Varga Kata",
                    "Tantárgy": "Az ürgeöntés hydrológiai alapjai II.",
                    "terem": "220",
                    "Kezdés": "14.00"
                },
                {
                    "Azonosító": "192",
                    "Tanár": "Varga Kata",
                    "Tantárgy": "Az ürgeöntés hydrológiai alapjai II.",
                    "terem": "119",
                    "Kezdés": "15.30"
                },
                {
                    "Azonosító": "193",
                    "Tanár": "Farkasos Piroska",
                    "Tantárgy": "Az ürgeöntés hydrológiai alapjai II.",
                    "terem": "217",
                    "Kezdés": "14.00"
                },
                {
                    "Azonosító": "194",
                    "Tanár": "Farkasos Piroska",
                    "Tantárgy": "Az ürgeöntés hydrológiai alapjai II.",
                    "terem": "E.fsz.I",
                    "Kezdés": "15.30"
                },
                {
                    "Azonosító": "195",
                    "Tanár": "Balkán András",
                    "Tantárgy": "Az ürgeöntés hydrológiai alapjai II.",
                    "terem": "116",
                    "Kezdés": "14.00"
                },
                {
                    "Azonosító": "196",
                    "Tanár": "Balkán András",
                    "Tantárgy": "Az ürgeöntés hydrológiai alapjai II.",
                    "terem": "218",
                    "Kezdés": "15.30"
                },
                {
                    "Azonosító": "197",
                    "Tanár": "Farkasos Piroska",
                    "Tantárgy": "Az ürgeöntés hydrológiai alapjai II.",
                    "terem": "116",
                    "Kezdés": "8.00"
                },
                {
                    "Azonosító": "198",
                    "Tanár": "Farkasos Piroska",
                    "Tantárgy": "Az ürgeöntés hydrológiai alapjai II.",
                    "terem": "119",
                    "Kezdés": "9.30"
                },
                {
                    "Azonosító": "199",
                    "Tanár": "Szabó Andrera",
                    "Tantárgy": "Az ürgeöntés hydrológiai alapjai II.",
                    "terem": "218",
                    "Kezdés": "8.00"
                },
                {
                    "Azonosító": "200",
                    "Tanár": "Szabó Andrera",
                    "Tantárgy": "Az ürgeöntés hydrológiai alapjai II.",
                    "terem": "220",
                    "Kezdés": "9.30"
                },
                {
                    "Azonosító": "201",
                    "Tanár": "Juhász András",
                    "Tantárgy": "Öntési gyakorlat",
                    "terem": "E.2.238",
                    "Kezdés": "12.30"
                },
                {
                    "Azonosító": "202",
                    "Tanár": "Juhász András",
                    "Tantárgy": "Öntési gyakorlat",
                    "terem": "E.3.332",
                    "Kezdés": "14.00"
                },
                {
                    "Azonosító": "203",
                    "Tanár": "Aranyi Mária",
                    "Tantárgy": "Az ürgeöntés hydrológiai alapjai I.",
                    "terem": "S.Asor.S3",
                    "Kezdés": "12.30"
                },
                {
                    "Azonosító": "204",
                    "Tanár": "Róbert Gida",
                    "Tantárgy": "Az ürgeöntés hydrológiai alapjai I.",
                    "terem": "120",
                    "Kezdés": "14.00"
                },
                {
                    "Azonosító": "205",
                    "Tanár": "Ujfalussi István",
                    "Tantárgy": "Az öntés elmélete",
                    "terem": "220",
                    "Kezdés": "12.30"
                },
                {
                    "Azonosító": "206",
                    "Tanár": "Varga Kata",
                    "Tantárgy": "Az öntés elmélete",
                    "terem": "S.Asor.S3",
                    "Kezdés": "8.00"
                },
                {
                    "Azonosító": "207",
                    "Tanár": "Varga Kata",
                    "Tantárgy": "Az öntés elmélete",
                    "terem": "219",
                    "Kezdés": "12.30"
                },
                {
                    "Azonosító": "208",
                    "Tanár": "Jogrerős Pál",
                    "Tantárgy": "Ürgevitel",
                    "terem": "VP 203.",
                    "Kezdés": "8.00"
                },
                {
                    "Azonosító": "209",
                    "Tanár": "Jogrerős Pál",
                    "Tantárgy": "Ürgevitel",
                    "terem": "VP 203.",
                    "Kezdés": "9.30"
                },
                {
                    "Azonosító": "210",
                    "Tanár": "Szép llonka",
                    "Tantárgy": "Ürgeöntés az EU-ban",
                    "terem": "E.2.238",
                    "Kezdés": "15.30"
                },
                {
                    "Azonosító": "211",
                    "Tanár": "Szép llonka",
                    "Tantárgy": "Ürgeöntés az EU-ban",
                    "terem": "217",
                    "Kezdés": "17.00"
                },
                {
                    "Azonosító": "212",
                    "Tanár": "Kiss János",
                    "Tantárgy": "Ürgeöntés az EU-ban",
                    "terem": "120",
                    "Kezdés": "18.30"
                },
                {
                    "Azonosító": "213",
                    "Tanár": "Kiss János",
                    "Tantárgy": "Ürgeöntés az EU-ban",
                    "terem": "218",
                    "Kezdés": "20.00"
                },
                {
                    "Azonosító": "214",
                    "Tanár": "Pelikán József",
                    "Tantárgy": "Az ürge anatómiája",
                    "terem": "219",
                    "Kezdés": "11.00"
                },
                {
                    "Azonosító": "215",
                    "Tanár": "Pelikán József",
                    "Tantárgy": "Az ürge anatómiája",
                    "terem": "E.fsz.IV.",
                    "Kezdés": "12.30"
                },
                {
                    "Azonosító": "216",
                    "Tanár": "Szép llonka",
                    "Tantárgy": "Az ürge anatómiája",
                    "terem": "218",
                    "Kezdés": "11.00"
                },
                {
                    "Azonosító": "217",
                    "Tanár": "Szép llonka",
                    "Tantárgy": "Az ürge anatómiája",
                    "terem": "217",
                    "Kezdés": "12.30"
                },
                {
                    "Azonosító": "218",
                    "Tanár": "Pelikán József",
                    "Tantárgy": "Az ürge anatómiája",
                    "terem": "118",
                    "Kezdés": "15.30"
                },
                {
                    "Azonosító": "219",
                    "Tanár": "Pelikán József",
                    "Tantárgy": "Az ürge anatómiája",
                    "terem": "219",
                    "Kezdés": "17.00"
                },
                {
                    "Azonosító": "220",
                    "Tanár": "Kovács László",
                    "Tantárgy": "Fejezetek az ürgék jogaiból",
                    "terem": "119",
                    "Kezdés": "11.00"
                },
                {
                    "Azonosító": "221",
                    "Tanár": "Kovács László",
                    "Tantárgy": "Fejezetek az ürgék jogaiból",
                    "terem": "VP 203.",
                    "Kezdés": "11.00"
                },
                {
                    "Azonosító": "222",
                    "Tanár": "Kovács László",
                    "Tantárgy": "Fejezetek az ürgék jogaiból",
                    "terem": "116",
                    "Kezdés": "14.00"
                },
                {
                    "Azonosító": "223",
                    "Tanár": "Kovács László",
                    "Tantárgy": "Fejezetek az ürgék jogaiból",
                    "terem": "S.Asor.S3",
                    "Kezdés": "8.00"
                },
                {
                    "Azonosító": "226",
                    "Tanár": "Szentágotai Istvás",
                    "Tantárgy": "ürgefőzés",
                    "terem": "117",
                    "Kezdés": "11.00"
                },
                {
                    "Azonosító": "227",
                    "Tanár": "Szentágotai Istvás",
                    "Tantárgy": "Az ürgeöntés hydrológiai alapjai I.",
                    "terem": "116",
                    "Kezdés": "14.00"
                }
            ]
        },
        "text/html": [
            "<table>",
            "<tr><th>Azonosító</th><th>Tanár</th><th>Tantárgy</th><th>terem</th><th>Kezdés</th></tr>",
            "<tr><td>159</td><td>Ujfalussi István</td><td>Az ürgeöntés alapjai</td><td>117</td><td>8.00</td></tr>",
            "<tr><td>160</td><td>Pelikán József</td><td>Az ürgeöntés alapjai</td><td>118</td><td>14.00</td></tr>",
            "<tr><td>161</td><td>Pelikán József</td><td>Az ürgeöntés alapjai</td><td>118</td><td>9.30</td></tr>",
            "<tr><td>162</td><td>Kovács András</td><td>Az ürgeöntés alapjai</td><td>119</td><td>12.30</td></tr>",
            "<tr><td>163</td><td>Szerb László</td><td>Az ürgeöntés alapjai</td><td>120</td><td>9.30</td></tr>",
            "<tr><td>164</td><td>Kiss János</td><td>Az ürgeöntés alapjai</td><td>119</td><td>11.00</td></tr>",
            "<tr><td>165</td><td>Szerb László</td><td>Az ürgeöntés alapjai</td><td>119</td><td>11.00</td></tr>",
            "<tr><td>166</td><td>Szerb László</td><td>Az ürgeöntés alapjai</td><td>119</td><td>12.30</td></tr>",
            "<tr><td>167</td><td>Szentágotai Istvás</td><td>Az ürgeöntés alapjai</td><td>120</td><td>12.30</td></tr>",
            "<tr><td>168</td><td>Ujfalussi István</td><td>Az ürgeöntés alapjai</td><td>217</td><td>11.00</td></tr>",
            "<tr><td>169</td><td>Kovács András</td><td>Az ürgeöntés alapjai</td><td>218</td><td>9.30</td></tr>",
            "<tr><td>170</td><td>Ludas Mátyás</td><td>Az ürgeöntés alapjai</td><td>120</td><td>9.30</td></tr>",
            "<tr><td>171</td><td>Szénási ászló</td><td>Az ürgeöntés alapjai</td><td>220</td><td>9.30</td></tr>",
            "<tr><td>172</td><td>Kiss János</td><td>Az ürgeöntés alapjai</td><td>119</td><td>9.30</td></tr>",
            "<tr><td>173</td><td>Kovács András</td><td>Az ürgeöntés alapjai</td><td>119</td><td>11.00</td></tr>",
            "<tr><td>174</td><td>Ludas Mátyás</td><td>Az ürgeöntés alapjai</td><td>219</td><td>11.00</td></tr>",
            "<tr><td>175</td><td>Szénási ászló</td><td>Az ürgeöntés alapjai</td><td>120</td><td>12.30</td></tr>",
            "<tr><td>176</td><td>Kovács András</td><td>Az ürgeöntés alapjai</td><td>118</td><td>12.30</td></tr>",
            "<tr><td>177</td><td>Szentágotai Istvás</td><td>Az ürgeöntés alapjai</td><td>119</td><td>14.00</td></tr>",
            "<tr><td>178</td><td>Vitéz János</td><td>Az ürgeöntés alapjai</td><td>220</td><td>14.00</td></tr>",
            "<tr><td>179</td><td>Szentágotai Istvás</td><td>Az ürgeöntés alapjai</td><td>120</td><td>15.30</td></tr>",
            "<tr><td>180</td><td>Vitéz János</td><td>Az ürgeöntés alapjai</td><td>119</td><td>15.30</td></tr>",
            "<tr><td>181</td><td>Szentágotai Istvás</td><td>Az ürgeöntés alapjai</td><td>118</td><td>8.00</td></tr>",
            "<tr><td>182</td><td>Vitéz János</td><td>Az ürgeöntés alapjai</td><td>219</td><td>8.00</td></tr>",
            "<tr><td>183</td><td>Szentágotai Istvás</td><td>Az ürgeöntés alapjai</td><td>220</td><td>9.30</td></tr>",
            "<tr><td>184</td><td>Vitéz János</td><td>Az ürgeöntés alapjai</td><td>218</td><td>9.30</td></tr>",
            "<tr><td>185</td><td>Szentágotai Istvás</td><td>Az ürgeöntés alapjai</td><td>120</td><td>11.00</td></tr>",
            "<tr><td>186</td><td>Nógrádi Kata</td><td>ü-business</td><td>219</td><td>12.30</td></tr>",
            "<tr><td>187</td><td>Balkán András</td><td>Bevezetés az ürgeöntésbe</td><td>217</td><td>9.30</td></tr>",
            "<tr><td>188</td><td>Farkasos Piroska</td><td>Bevezetés az ürgeöntésbe</td><td>VP 203.</td><td>15.30</td></tr>",
            "<tr><td>189</td><td>Farkasos Piroska</td><td>Bevezetés az ürgeöntésbe</td><td>VP 203.</td><td>9.30</td></tr>",
            "<tr><td>190</td><td>Farkasos Piroska</td><td>Bevezetés az ürgeöntésbe</td><td>E.2.238</td><td>11.00</td></tr>",
            "<tr><td>191</td><td>Varga Kata</td><td>Az ürgeöntés hydrológiai alapjai II.</td><td>220</td><td>14.00</td></tr>",
            "<tr><td>192</td><td>Varga Kata</td><td>Az ürgeöntés hydrológiai alapjai II.</td><td>119</td><td>15.30</td></tr>",
            "<tr><td>193</td><td>Farkasos Piroska</td><td>Az ürgeöntés hydrológiai alapjai II.</td><td>217</td><td>14.00</td></tr>",
            "<tr><td>194</td><td>Farkasos Piroska</td><td>Az ürgeöntés hydrológiai alapjai II.</td><td>E.fsz.I</td><td>15.30</td></tr>",
            "<tr><td>195</td><td>Balkán András</td><td>Az ürgeöntés hydrológiai alapjai II.</td><td>116</td><td>14.00</td></tr>",
            "<tr><td>196</td><td>Balkán András</td><td>Az ürgeöntés hydrológiai alapjai II.</td><td>218</td><td>15.30</td></tr>",
            "<tr><td>197</td><td>Farkasos Piroska</td><td>Az ürgeöntés hydrológiai alapjai II.</td><td>116</td><td>8.00</td></tr>",
            "<tr><td>198</td><td>Farkasos Piroska</td><td>Az ürgeöntés hydrológiai alapjai II.</td><td>119</td><td>9.30</td></tr>",
            "<tr><td>199</td><td>Szabó Andrera</td><td>Az ürgeöntés hydrológiai alapjai II.</td><td>218</td><td>8.00</td></tr>",
            "<tr><td>200</td><td>Szabó Andrera</td><td>Az ürgeöntés hydrológiai alapjai II.</td><td>220</td><td>9.30</td></tr>",
            "<tr><td>201</td><td>Juhász András</td><td>Öntési gyakorlat</td><td>E.2.238</td><td>12.30</td></tr>",
            "<tr><td>202</td><td>Juhász András</td><td>Öntési gyakorlat</td><td>E.3.332</td><td>14.00</td></tr>",
            "<tr><td>203</td><td>Aranyi Mária</td><td>Az ürgeöntés hydrológiai alapjai I.</td><td>S.Asor.S3</td><td>12.30</td></tr>",
            "<tr><td>204</td><td>Róbert Gida</td><td>Az ürgeöntés hydrológiai alapjai I.</td><td>120</td><td>14.00</td></tr>",
            "<tr><td>205</td><td>Ujfalussi István</td><td>Az öntés elmélete</td><td>220</td><td>12.30</td></tr>",
            "<tr><td>206</td><td>Varga Kata</td><td>Az öntés elmélete</td><td>S.Asor.S3</td><td>8.00</td></tr>",
            "<tr><td>207</td><td>Varga Kata</td><td>Az öntés elmélete</td><td>219</td><td>12.30</td></tr>",
            "<tr><td>208</td><td>Jogrerős Pál</td><td>Ürgevitel</td><td>VP 203.</td><td>8.00</td></tr>",
            "<tr><td>209</td><td>Jogrerős Pál</td><td>Ürgevitel</td><td>VP 203.</td><td>9.30</td></tr>",
            "<tr><td>210</td><td>Szép llonka</td><td>Ürgeöntés az EU-ban</td><td>E.2.238</td><td>15.30</td></tr>",
            "<tr><td>211</td><td>Szép llonka</td><td>Ürgeöntés az EU-ban</td><td>217</td><td>17.00</td></tr>",
            "<tr><td>212</td><td>Kiss János</td><td>Ürgeöntés az EU-ban</td><td>120</td><td>18.30</td></tr>",
            "<tr><td>213</td><td>Kiss János</td><td>Ürgeöntés az EU-ban</td><td>218</td><td>20.00</td></tr>",
            "<tr><td>214</td><td>Pelikán József</td><td>Az ürge anatómiája</td><td>219</td><td>11.00</td></tr>",
            "<tr><td>215</td><td>Pelikán József</td><td>Az ürge anatómiája</td><td>E.fsz.IV.</td><td>12.30</td></tr>",
            "<tr><td>216</td><td>Szép llonka</td><td>Az ürge anatómiája</td><td>218</td><td>11.00</td></tr>",
            "<tr><td>217</td><td>Szép llonka</td><td>Az ürge anatómiája</td><td>217</td><td>12.30</td></tr>",
            "<tr><td>218</td><td>Pelikán József</td><td>Az ürge anatómiája</td><td>118</td><td>15.30</td></tr>",
            "<tr><td>219</td><td>Pelikán József</td><td>Az ürge anatómiája</td><td>219</td><td>17.00</td></tr>",
            "<tr><td>220</td><td>Kovács László</td><td>Fejezetek az ürgék jogaiból</td><td>119</td><td>11.00</td></tr>",
            "<tr><td>221</td><td>Kovács László</td><td>Fejezetek az ürgék jogaiból</td><td>VP 203.</td><td>11.00</td></tr>",
            "<tr><td>222</td><td>Kovács László</td><td>Fejezetek az ürgék jogaiból</td><td>116</td><td>14.00</td></tr>",
            "<tr><td>223</td><td>Kovács László</td><td>Fejezetek az ürgék jogaiból</td><td>S.Asor.S3</td><td>8.00</td></tr>",
            "<tr><td>226</td><td>Szentágotai Istvás</td><td>ürgefőzés</td><td>117</td><td>11.00</td></tr>",
            "<tr><td>227</td><td>Szentágotai Istvás</td><td>Az ürgeöntés hydrológiai alapjai I.</td><td>116</td><td>14.00</td></tr>",
            "</table>"
        ]
    }
}
],
            "execution_count": 11
        },
        {
            "cell_type": "markdown",
            "source": [
                "12. <span style=\"color: rgb(36, 41, 47); font-family: -apple-system, BlinkMacSystemFont, &quot;Segoe UI&quot;, Helvetica, Arial, sans-serif, &quot;Apple Color Emoji&quot;, &quot;Segoe UI Emoji&quot;; font-size: 16px;\">Készítsünk listát, amely tartalmazza az egyes órák azonosítóit, és az órán oktatott tantárgy felelősének nevét!</span>\n",
                "\n",
                "1. Rendezzük a listát a tantárgyfelelős neve szerint csökkenő sorrendbe!"
            ],
            "metadata": {
                "azdata_cell_guid": "a765e9d6-58b3-4171-872a-78f3118fd6e3"
            },
            "attachments": {}
        },
        {
            "cell_type": "code",
            "source": [
                "SELECT o.ora_id, okt.nev\r\n",
                "\r\n",
                "FROM Orak o JOIN Tantárgyak t ON o.targy = t.tkód\r\n",
                "            JOIN Oktatok okt ON t.tantárgyfelelős = okt.oktato_id\r\n",
                "ORDER BY 2 DESC"
            ],
            "metadata": {
                "azdata_cell_guid": "422e8127-b652-4d3a-bfd7-9b1637b5781e",
                "language": "sql"
            },
            "outputs": [],
            "execution_count": null
        },
        {
            "cell_type": "markdown",
            "source": [
                "13. <span style=\"color: rgb(36, 41, 47); font-family: -apple-system, BlinkMacSystemFont, &quot;Segoe UI&quot;, Helvetica, Arial, sans-serif, &quot;Apple Color Emoji&quot;, &quot;Segoe UI Emoji&quot;; font-size: 16px;\">Készítsünk listát, amely megjeleníti, hogy az Orak táblában lévő órák közül hányat tart Dr., illetve nem Dr. titulusú tanár!</span>\n",
                "\n",
                "1. Az oszlopokat nevezzük el értelemszerűen!"
            ],
            "metadata": {
                "azdata_cell_guid": "3f9237ae-f109-401c-acb9-31d75e73331b"
            },
            "attachments": {}
        },
        {
            "cell_type": "code",
            "source": [
                "SELECT CASE \r\n",
                "         WHEN okt.titulus = 'Dr.' THEN 'Dr' \r\n",
                "         ELSE 'Nem Dr.' \r\n",
                "       END AS 'Dr?',\r\n",
                "       COUNT(*) AS 'Órák száma'\r\n",
                "FROM orak o JOIN Oktatok okt ON o.tanar = okt.oktato_id\r\n",
                "GROUP BY CASE WHEN okt.titulus = 'Dr.' THEN 'Dr' ELSE 'Nem Dr.' END "
            ],
            "metadata": {
                "azdata_cell_guid": "4b31bb89-cfbc-46b1-8639-85c462877786",
                "language": "sql"
            },
            "outputs": [],
            "execution_count": null
        },
        {
            "cell_type": "markdown",
            "source": [
                "14. <span style=\"color: rgb(36, 41, 47); font-family: -apple-system, BlinkMacSystemFont, &quot;Segoe UI&quot;, Helvetica, Arial, sans-serif, &quot;Apple Color Emoji&quot;, &quot;Segoe UI Emoji&quot;; font-size: 16px;\">Készítsünk listát arról, hogy beosztásonként hány óra szerepel az Orak táblában!</span>\n",
                "\n",
                "1. Jelenítsük meg a beosztások nevét és az órák számát!\n",
                "2. A listát szűrjük azokra a beosztásokra, ahol ez az óraszám 10 feletti!"
            ],
            "metadata": {
                "azdata_cell_guid": "f634e09a-85ef-4e70-8ec6-ef355dfddaa7"
            },
            "attachments": {}
        },
        {
            "cell_type": "code",
            "source": [
                "SELECT b.beosztasnev, COUNT(*) AS 'Óraszám'\r\n",
                "FROM Orak o JOIN Oktatok okt ON o.tanar = okt.oktato_id\r\n",
                "\t\t    JOIN Beosztasok b ON okt.beosztás = b.beosztas_id\r\n",
                "GROUP BY b.beosztasnev\r\n",
                "HAVING COUNT(*) > 10"
            ],
            "metadata": {
                "azdata_cell_guid": "88abc55b-2c78-495b-a72f-3f8f4eb5fe70",
                "language": "sql"
            },
            "outputs": [],
            "execution_count": null
        },
        {
            "cell_type": "markdown",
            "source": [
                "15. <span style=\"color: rgb(36, 41, 47); font-family: -apple-system, BlinkMacSystemFont, &quot;Segoe UI&quot;, Helvetica, Arial, sans-serif, &quot;Apple Color Emoji&quot;, &quot;Segoe UI Emoji&quot;; font-size: 16px;\">Melyek azok az órák, amelyek kezdési időpontja olyan sávba esik, amely a mostani időpont (óra:perc) után van?</span>\n",
                "\n",
                "1. Listázzuk az órák azonosítóit, valamint az órakezdés napját és időpontját!\n",
                "2. A listát rendezzük az időpont szerint növekvő sorrendbe!"
            ],
            "metadata": {
                "azdata_cell_guid": "4cbf2f0d-a65d-480a-8186-ccdb24498443"
            },
            "attachments": {}
        },
        {
            "cell_type": "code",
            "source": [
                "SELECT o.ora_id, n.nap, s.Időpont\r\n",
                "FROM Orak o JOIN Savok s ON o.sav = S.sav_id\r\n",
                "            JOIN Napok n ON o.nap = n.nap_id\r\n",
                "WHERE cast(LEFT(időpont, CHARINDEX('.',időpont)-1)+':'+RIGHT(időpont,2) as time) > CAST(GETDATE() AS time)\r\n",
                "ORDER BY  cast(LEFT(időpont, CHARINDEX('.',időpont)-1)+':'+RIGHT(időpont,2) as time)"
            ],
            "metadata": {
                "azdata_cell_guid": "c148aee8-bc85-40bf-b80a-a4898a6c05cb",
                "language": "sql"
            },
            "outputs": [],
            "execution_count": null
        }
    ]
}