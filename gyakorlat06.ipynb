{
    "metadata": {
        "kernelspec": {
            "name": "SQL",
            "display_name": "SQL",
            "language": "sql"
        },
        "language_info": {
            "name": "sql",
            "version": ""
        }
    },
    "nbformat_minor": 2,
    "nbformat": 4,
    "cells": [
        {
            "cell_type": "markdown",
            "source": [
                "1. <span style=\"background-color: rgb(255, 255, 255); color: rgb(0, 0, 0); font-family: &quot;Open Sans&quot;, sans-serif; font-size: 14.44px;\">Készítsünk sorszámozott listát a szálláshelyek adatairól!&nbsp;</span> \n",
                "\n",
                "a. A lista legyen a szálláshely típusa szerint, azon belül hely szerint, majd a neve szerint növekvően rendezve! \n",
                "\n",
                "b. A számozás típusonként kezdődjön újra!"
            ],
            "metadata": {
                "azdata_cell_guid": "363cd270-6577-449b-9c89-d4b7c7972d52"
            },
            "attachments": {}
        },
        {
            "cell_type": "code",
            "source": [
                "SELECT  ROW_NUMBER() OVER (PARTITION BY TIPUS ORDER BY TIPUS, HELY, SZALLAS_NEV) AS 'Kategória',\r\n",
                "        *\r\n",
                "FROM szallashely\r\n",
                "ORDER BY TIPUS"
            ],
            "metadata": {
                "azdata_cell_guid": "6ab9f633-a3b5-48c9-a1dc-4fb8235ae85b",
                "language": "sql"
            },
            "outputs": [
                {
                    "output_type": "display_data",
                    "data": {
                        "text/html": "(21 rows affected)"
                    },
                    "metadata": {}
                },
                {
                    "output_type": "display_data",
                    "data": {
                        "text/html": "Total execution time: 00:00:00.005"
                    },
                    "metadata": {}
                },
                {
                    "output_type": "execute_result",
                    "metadata": {},
                    "execution_count": 4,
                    "data": {
                        "application/vnd.dataresource+json": {
                            "schema": {
                                "fields": [
                                    {
                                        "name": "Kategória"
                                    },
                                    {
                                        "name": "SZALLAS_ID"
                                    },
                                    {
                                        "name": "SZALLAS_NEV"
                                    },
                                    {
                                        "name": "HELY"
                                    },
                                    {
                                        "name": "CSILLAGOK_SZAMA"
                                    },
                                    {
                                        "name": "TIPUS"
                                    },
                                    {
                                        "name": "ROGZITETTE"
                                    },
                                    {
                                        "name": "ROGZ_IDO"
                                    },
                                    {
                                        "name": "CIM"
                                    }
                                ]
                            },
                            "data": [
                                {
                                    "Kategória": "1",
                                    "SZALLAS_ID": "7",
                                    "SZALLAS_NEV": "Szieszta Apartmanház",
                                    "HELY": "Balaton-dél",
                                    "CSILLAGOK_SZAMA": "0",
                                    "TIPUS": "Apartman",
                                    "ROGZITETTE": "Mari",
                                    "ROGZ_IDO": "2016-03-11",
                                    "CIM": "8630 Balatonboglár, Dózsa György utca 108"
                                },
                                {
                                    "Kategória": "2",
                                    "SZALLAS_ID": "18",
                                    "SZALLAS_NEV": "Fortuna Apartman",
                                    "HELY": "Dél-Somogy",
                                    "CSILLAGOK_SZAMA": "0",
                                    "TIPUS": "Apartman",
                                    "ROGZITETTE": "Béla",
                                    "ROGZ_IDO": "2016-04-07",
                                    "CIM": "7570 Barcs, Kossuth u. 13."
                                },
                                {
                                    "Kategória": "3",
                                    "SZALLAS_ID": "3",
                                    "SZALLAS_NEV": "Fortuna Apartman",
                                    "HELY": "Hajdúbihar megye",
                                    "CSILLAGOK_SZAMA": "0",
                                    "TIPUS": "Apartman",
                                    "ROGZITETTE": "Sára",
                                    "ROGZ_IDO": "2016-03-06",
                                    "CIM": "4200 Hajdúszoboszló, Wesselényi utca 56."
                                },
                                {
                                    "Kategória": "1",
                                    "SZALLAS_ID": "20",
                                    "SZALLAS_NEV": "Kollégium",
                                    "HELY": "Budapest",
                                    "CSILLAGOK_SZAMA": "0",
                                    "TIPUS": "Diákszálló",
                                    "ROGZITETTE": "Sára",
                                    "ROGZ_IDO": "2016-04-07",
                                    "CIM": "1146 Budapest, Ajtósi Dürer sor 23."
                                },
                                {
                                    "Kategória": "1",
                                    "SZALLAS_ID": "8",
                                    "SZALLAS_NEV": "Hotel Három Hattyú",
                                    "HELY": "Balaton-dél",
                                    "CSILLAGOK_SZAMA": "4",
                                    "TIPUS": "Hotel",
                                    "ROGZITETTE": "Béla",
                                    "ROGZ_IDO": "2016-03-13",
                                    "CIM": "8623 Balatonföldvár, Rákóczi Ferenc út 45."
                                },
                                {
                                    "Kategória": "2",
                                    "SZALLAS_ID": "6",
                                    "SZALLAS_NEV": "Kentaur Hotel",
                                    "HELY": "Balaton-dél",
                                    "CSILLAGOK_SZAMA": "3",
                                    "TIPUS": "Hotel",
                                    "ROGZITETTE": "Béla",
                                    "ROGZ_IDO": "2016-03-08",
                                    "CIM": "8600 Siófok (Széplak), Akácfa utca 1"
                                },
                                {
                                    "Kategória": "3",
                                    "SZALLAS_ID": "12",
                                    "SZALLAS_NEV": "Gold Hotel",
                                    "HELY": "Budapest",
                                    "CSILLAGOK_SZAMA": "3",
                                    "TIPUS": "Hotel",
                                    "ROGZITETTE": "Béla",
                                    "ROGZ_IDO": "2016-03-24",
                                    "CIM": "1016 Budapest, Hegyalja út 12"
                                },
                                {
                                    "Kategória": "4",
                                    "SZALLAS_ID": "10",
                                    "SZALLAS_NEV": "Lagúna Hotel",
                                    "HELY": "Budapest",
                                    "CSILLAGOK_SZAMA": "4",
                                    "TIPUS": "Hotel",
                                    "ROGZITETTE": "Sára",
                                    "ROGZ_IDO": "2016-03-20",
                                    "CIM": "1097 Budapest, Albert Flórián út 3"
                                },
                                {
                                    "Kategória": "5",
                                    "SZALLAS_ID": "16",
                                    "SZALLAS_NEV": "Bagoly Hotel",
                                    "HELY": "Pest megye",
                                    "CSILLAGOK_SZAMA": "3",
                                    "TIPUS": "Hotel",
                                    "ROGZITETTE": "Mari",
                                    "ROGZ_IDO": "2016-04-01",
                                    "CIM": "2230 Gyömrő, Bergszász u. 5."
                                },
                                {
                                    "Kategória": "6",
                                    "SZALLAS_ID": "17",
                                    "SZALLAS_NEV": "Szarvas Hotel",
                                    "HELY": "Tolna megye",
                                    "CSILLAGOK_SZAMA": "4",
                                    "TIPUS": "Hotel",
                                    "ROGZITETTE": "Béla",
                                    "ROGZ_IDO": "2016-04-04",
                                    "CIM": "7121 Szálka, Petőfi Sándor u."
                                },
                                {
                                    "Kategória": "1",
                                    "SZALLAS_ID": "9",
                                    "SZALLAS_NEV": "Jáde panzió",
                                    "HELY": "Balaton-dél",
                                    "CSILLAGOK_SZAMA": "3",
                                    "TIPUS": "panzió",
                                    "ROGZITETTE": "Mari",
                                    "ROGZ_IDO": "2016-03-16",
                                    "CIM": "8624 Balatonföldvár, Kiss u.2."
                                },
                                {
                                    "Kategória": "2",
                                    "SZALLAS_ID": "15",
                                    "SZALLAS_NEV": "Tímárház Panzió",
                                    "HELY": "Balaton-dél",
                                    "CSILLAGOK_SZAMA": "3",
                                    "TIPUS": "panzió",
                                    "ROGZITETTE": "Béla",
                                    "ROGZ_IDO": "2016-03-29",
                                    "CIM": "8600 Siófok, Virág utca 1"
                                },
                                {
                                    "Kategória": "3",
                                    "SZALLAS_ID": "5",
                                    "SZALLAS_NEV": "Fortuna Panzió",
                                    "HELY": "Békés megye",
                                    "CSILLAGOK_SZAMA": "3",
                                    "TIPUS": "panzió",
                                    "ROGZITETTE": "Sára",
                                    "ROGZ_IDO": "2016-03-08",
                                    "CIM": "5900 Orosháza, Gyopárosfürdő Tópart utca 3."
                                },
                                {
                                    "Kategória": "4",
                                    "SZALLAS_ID": "4",
                                    "SZALLAS_NEV": "Fortuna panzió",
                                    "HELY": "Budapest",
                                    "CSILLAGOK_SZAMA": "3",
                                    "TIPUS": "panzió",
                                    "ROGZITETTE": "Béla",
                                    "ROGZ_IDO": "2016-03-07",
                                    "CIM": "1019 Budapest XIV. Cinkotai út 86."
                                },
                                {
                                    "Kategória": "5",
                                    "SZALLAS_ID": "13",
                                    "SZALLAS_NEV": "Riviéra Panzió",
                                    "HELY": "Csongrád megye",
                                    "CSILLAGOK_SZAMA": "3",
                                    "TIPUS": "panzió",
                                    "ROGZITETTE": "Sára",
                                    "ROGZ_IDO": "2016-03-27",
                                    "CIM": "6722 Szeged, Petőfi Sándor út 3."
                                },
                                {
                                    "Kategória": "1",
                                    "SZALLAS_ID": "2",
                                    "SZALLAS_NEV": "Családi Ház",
                                    "HELY": "Balaton-dél",
                                    "CSILLAGOK_SZAMA": "0",
                                    "TIPUS": "vendégház",
                                    "ROGZITETTE": "Béla",
                                    "ROGZ_IDO": "2016-03-02",
                                    "CIM": "8630 Balatonboglár, József Attila utca 25"
                                },
                                {
                                    "Kategória": "2",
                                    "SZALLAS_ID": "1",
                                    "SZALLAS_NEV": "Sába-Ház",
                                    "HELY": "Balaton-dél",
                                    "CSILLAGOK_SZAMA": "0",
                                    "TIPUS": "vendégház",
                                    "ROGZITETTE": "Béla",
                                    "ROGZ_IDO": "2016-02-28",
                                    "CIM": "8630 Balatonboglár, Radnóti Miklós utca 8"
                                },
                                {
                                    "Kategória": "3",
                                    "SZALLAS_ID": "11",
                                    "SZALLAS_NEV": "Partiszél Vendégház",
                                    "HELY": "Balaton-észak",
                                    "CSILLAGOK_SZAMA": "0",
                                    "TIPUS": "vendégház",
                                    "ROGZITETTE": "Béla",
                                    "ROGZ_IDO": "2016-03-22",
                                    "CIM": "8220 Balatonalmádi Neptun u. 23."
                                },
                                {
                                    "Kategória": "4",
                                    "SZALLAS_ID": "14",
                                    "SZALLAS_NEV": "Nyárfás Vendégház",
                                    "HELY": "Csongrád megye",
                                    "CSILLAGOK_SZAMA": "0",
                                    "TIPUS": "vendégház",
                                    "ROGZITETTE": "Béla",
                                    "ROGZ_IDO": "2016-03-27",
                                    "CIM": "6723 Szeged, Nagy u. 12."
                                },
                                {
                                    "Kategória": "5",
                                    "SZALLAS_ID": "21",
                                    "SZALLAS_NEV": "Müller Vendégház",
                                    "HELY": "Dél-Somogy",
                                    "CSILLAGOK_SZAMA": "0",
                                    "TIPUS": "vendégház",
                                    "ROGZITETTE": "Béla",
                                    "ROGZ_IDO": "2016-04-07",
                                    "CIM": "7570 Barcs, Magyar u. 10."
                                },
                                {
                                    "Kategória": "6",
                                    "SZALLAS_ID": "19",
                                    "SZALLAS_NEV": "Nyárfás Vendégház",
                                    "HELY": "Dél-Somogy",
                                    "CSILLAGOK_SZAMA": "0",
                                    "TIPUS": "vendégház",
                                    "ROGZITETTE": "Sára",
                                    "ROGZ_IDO": "2016-04-07",
                                    "CIM": "7570 Barcs, Bajcsy-Zs. u. 53"
                                }
                            ]
                        },
                        "text/html": [
                            "<table>",
                            "<tr><th>Kategória</th><th>SZALLAS_ID</th><th>SZALLAS_NEV</th><th>HELY</th><th>CSILLAGOK_SZAMA</th><th>TIPUS</th><th>ROGZITETTE</th><th>ROGZ_IDO</th><th>CIM</th></tr>",
                            "<tr><td>1</td><td>7</td><td>Szieszta Apartmanház</td><td>Balaton-dél</td><td>0</td><td>Apartman</td><td>Mari</td><td>2016-03-11</td><td>8630 Balatonboglár, Dózsa György utca 108</td></tr>",
                            "<tr><td>2</td><td>18</td><td>Fortuna Apartman</td><td>Dél-Somogy</td><td>0</td><td>Apartman</td><td>Béla</td><td>2016-04-07</td><td>7570 Barcs, Kossuth u. 13.</td></tr>",
                            "<tr><td>3</td><td>3</td><td>Fortuna Apartman</td><td>Hajdúbihar megye</td><td>0</td><td>Apartman</td><td>Sára</td><td>2016-03-06</td><td>4200 Hajdúszoboszló, Wesselényi utca 56.</td></tr>",
                            "<tr><td>1</td><td>20</td><td>Kollégium</td><td>Budapest</td><td>0</td><td>Diákszálló</td><td>Sára</td><td>2016-04-07</td><td>1146 Budapest, Ajtósi Dürer sor 23.</td></tr>",
                            "<tr><td>1</td><td>8</td><td>Hotel Három Hattyú</td><td>Balaton-dél</td><td>4</td><td>Hotel</td><td>Béla</td><td>2016-03-13</td><td>8623 Balatonföldvár, Rákóczi Ferenc út 45.</td></tr>",
                            "<tr><td>2</td><td>6</td><td>Kentaur Hotel</td><td>Balaton-dél</td><td>3</td><td>Hotel</td><td>Béla</td><td>2016-03-08</td><td>8600 Siófok (Széplak), Akácfa utca 1</td></tr>",
                            "<tr><td>3</td><td>12</td><td>Gold Hotel</td><td>Budapest</td><td>3</td><td>Hotel</td><td>Béla</td><td>2016-03-24</td><td>1016 Budapest, Hegyalja út 12</td></tr>",
                            "<tr><td>4</td><td>10</td><td>Lagúna Hotel</td><td>Budapest</td><td>4</td><td>Hotel</td><td>Sára</td><td>2016-03-20</td><td>1097 Budapest, Albert Flórián út 3</td></tr>",
                            "<tr><td>5</td><td>16</td><td>Bagoly Hotel</td><td>Pest megye</td><td>3</td><td>Hotel</td><td>Mari</td><td>2016-04-01</td><td>2230 Gyömrő, Bergszász u. 5.</td></tr>",
                            "<tr><td>6</td><td>17</td><td>Szarvas Hotel</td><td>Tolna megye</td><td>4</td><td>Hotel</td><td>Béla</td><td>2016-04-04</td><td>7121 Szálka, Petőfi Sándor u.</td></tr>",
                            "<tr><td>1</td><td>9</td><td>Jáde panzió</td><td>Balaton-dél</td><td>3</td><td>panzió</td><td>Mari</td><td>2016-03-16</td><td>8624 Balatonföldvár, Kiss u.2.</td></tr>",
                            "<tr><td>2</td><td>15</td><td>Tímárház Panzió</td><td>Balaton-dél</td><td>3</td><td>panzió</td><td>Béla</td><td>2016-03-29</td><td>8600 Siófok, Virág utca 1</td></tr>",
                            "<tr><td>3</td><td>5</td><td>Fortuna Panzió</td><td>Békés megye</td><td>3</td><td>panzió</td><td>Sára</td><td>2016-03-08</td><td>5900 Orosháza, Gyopárosfürdő Tópart utca 3.</td></tr>",
                            "<tr><td>4</td><td>4</td><td>Fortuna panzió</td><td>Budapest</td><td>3</td><td>panzió</td><td>Béla</td><td>2016-03-07</td><td>1019 Budapest XIV. Cinkotai út 86.</td></tr>",
                            "<tr><td>5</td><td>13</td><td>Riviéra Panzió</td><td>Csongrád megye</td><td>3</td><td>panzió</td><td>Sára</td><td>2016-03-27</td><td>6722 Szeged, Petőfi Sándor út 3.</td></tr>",
                            "<tr><td>1</td><td>2</td><td>Családi Ház</td><td>Balaton-dél</td><td>0</td><td>vendégház</td><td>Béla</td><td>2016-03-02</td><td>8630 Balatonboglár, József Attila utca 25</td></tr>",
                            "<tr><td>2</td><td>1</td><td>Sába-Ház</td><td>Balaton-dél</td><td>0</td><td>vendégház</td><td>Béla</td><td>2016-02-28</td><td>8630 Balatonboglár, Radnóti Miklós utca 8</td></tr>",
                            "<tr><td>3</td><td>11</td><td>Partiszél Vendégház</td><td>Balaton-észak</td><td>0</td><td>vendégház</td><td>Béla</td><td>2016-03-22</td><td>8220 Balatonalmádi Neptun u. 23.</td></tr>",
                            "<tr><td>4</td><td>14</td><td>Nyárfás Vendégház</td><td>Csongrád megye</td><td>0</td><td>vendégház</td><td>Béla</td><td>2016-03-27</td><td>6723 Szeged, Nagy u. 12.</td></tr>",
                            "<tr><td>5</td><td>21</td><td>Müller Vendégház</td><td>Dél-Somogy</td><td>0</td><td>vendégház</td><td>Béla</td><td>2016-04-07</td><td>7570 Barcs, Magyar u. 10.</td></tr>",
                            "<tr><td>6</td><td>19</td><td>Nyárfás Vendégház</td><td>Dél-Somogy</td><td>0</td><td>vendégház</td><td>Sára</td><td>2016-04-07</td><td>7570 Barcs, Bajcsy-Zs. u. 53</td></tr>",
                            "</table>"
                        ]
                    }
                }
            ],
            "execution_count": 4
        },
        {
            "cell_type": "markdown",
            "source": [
                "2. <span style=\"background-color: rgb(255, 255, 255); color: rgb(0, 0, 0); font-family: &quot;Open Sans&quot;, sans-serif; font-size: 14.44px;\">Készítsünk lekérdezést, amely a foglalások adatait jeleníti meg!&nbsp;</span> \n",
                "\n",
                "a. A lista tartalmazzon két új oszlopot, amelyek az adott ügyfél legrövidebb, illetve leghosszabb foglalásának hosszát (a foglalt napok számát) mutatják meg! \n",
                "\n",
                "b. Az oszlopokat nevezzük el értelemszerűen!"
            ],
            "metadata": {
                "azdata_cell_guid": "ea75c103-911f-41a3-a32c-3d40fb3e4e4a"
            },
            "attachments": {}
        },
        {
            "cell_type": "code",
            "source": [
                ""
            ],
            "metadata": {
                "azdata_cell_guid": "222b9618-a8e8-42b4-a8e8-d002257122b7",
                "language": "sql"
            },
            "outputs": [],
            "execution_count": null
        },
        {
            "cell_type": "markdown",
            "source": [
                "```\n",
                "3. Készítsük listát, amely megjeleníti az ügyfelek azonosítóját, nevét és a foglalásainak kezdő- és befejező dátumát, valamint azt, hogy a foglalás összesen hány főre történt! \n",
                "\n",
                "```\n",
                "\n",
                "a. Egy új oszlopban jelenítsük meg azt is, hogy az ügyfél előző három foglalása összesen hány főre történt!\n",
                "\n",
                "![](https://moodle.uni-corvinus.hu/theme/image.php/adaptable/atto_h5p/1709548862/icon)"
            ],
            "metadata": {
                "azdata_cell_guid": "d7876bb9-76d0-4d07-baed-3cb17b2f96c3"
            },
            "attachments": {}
        },
        {
            "cell_type": "code",
            "source": [
                "SELECT  v.USERNEV,\r\n",
                "        v.NEV,\r\n",
                "        f.METTOL,\r\n",
                "        f.MEDDIG,\r\n",
                "        f.FELNOTT_SZAM + f.GYERMEK_SZAM,\r\n",
                "        SUM(f.FELNOTT_SZAM + f.GYERMEK_SZAM) OVER(PARTITION BY f.UGYFEL_FK ORDER BY f.METTOL ROWS BETWEEN 3 PRECEDING AND 1 PRECEDING )\r\n",
                "FROM Vendeg v JOIN Foglalas f ON v.USERNEV = f.UGYFEL_FK"
            ],
            "metadata": {
                "azdata_cell_guid": "56ec19ce-e249-4551-b2a8-f17569765acc",
                "language": "sql"
            },
            "outputs": [
                {
                    "output_type": "display_data",
                    "data": {
                        "text/html": "(1027 rows affected)"
                    },
                    "metadata": {}
                },
                {
                    "output_type": "display_data",
                    "data": {
                        "text/html": "Total execution time: 00:00:00.027"
                    },
                    "metadata": {}
                },
                {
                    "output_type": "execute_result",
                    "metadata": {},
                    "execution_count": 5,
                    "data": {
                        "application/vnd.dataresource+json": {
                            "schema": {
                                "fields": [
                                    {
                                        "name": "USERNEV"
                                    },
                                    {
                                        "name": "NEV"
                                    },
                                    {
                                        "name": "METTOL"
                                    },
                                    {
                                        "name": "MEDDIG"
                                    },
                                    {
                                        "name": "(No column name)"
                                    },
                                    {
                                        "name": "(No column name)"
                                    }
                                ]
                            },
                            "data": [
                                {
                                    "USERNEV": "adam1",
                                    "NEV": "Kiss Ádám",
                                    "METTOL": "2016-05-28",
                                    "MEDDIG": "2016-06-03",
                                    "(No column name)": "NULL"
                                },
                                {
                                    "USERNEV": "adam1",
                                    "NEV": "Kiss Ádám",
                                    "METTOL": "2016-08-20",
                                    "MEDDIG": "2016-08-24",
                                    "(No column name)": "3"
                                },
                                {
                                    "USERNEV": "adam1",
                                    "NEV": "Kiss Ádám",
                                    "METTOL": "2016-10-19",
                                    "MEDDIG": "2016-10-24",
                                    "(No column name)": "4"
                                },
                                {
                                    "USERNEV": "adam3",
                                    "NEV": "Barkóci Ádám",
                                    "METTOL": "2016-09-12",
                                    "MEDDIG": "2016-09-16",
                                    "(No column name)": "NULL"
                                },
                                {
                                    "USERNEV": "adam3",
                                    "NEV": "Barkóci Ádám",
                                    "METTOL": "2017-02-06",
                                    "MEDDIG": "2017-02-10",
                                    "(No column name)": "2"
                                },
                                {
                                    "USERNEV": "adam4",
                                    "NEV": "Bieniek Ádám",
                                    "METTOL": "2016-08-28",
                                    "MEDDIG": "2016-08-30",
                                    "(No column name)": "NULL"
                                },
                                {
                                    "USERNEV": "adam4",
                                    "NEV": "Bieniek Ádám",
                                    "METTOL": "2016-10-27",
                                    "MEDDIG": "2016-11-02",
                                    "(No column name)": "3"
                                },
                                {
                                    "USERNEV": "adam4",
                                    "NEV": "Bieniek Ádám",
                                    "METTOL": "2016-11-15",
                                    "MEDDIG": "2016-11-18",
                                    "(No column name)": "6"
                                },
                                {
                                    "USERNEV": "adam4",
                                    "NEV": "Bieniek Ádám",
                                    "METTOL": "2016-12-06",
                                    "MEDDIG": "2016-12-09",
                                    "(No column name)": "8"
                                },
                                {
                                    "USERNEV": "adam4",
                                    "NEV": "Bieniek Ádám",
                                    "METTOL": "2017-01-12",
                                    "MEDDIG": "2017-01-19",
                                    "(No column name)": "8"
                                },
                                {
                                    "USERNEV": "adam4",
                                    "NEV": "Bieniek Ádám",
                                    "METTOL": "2017-02-23",
                                    "MEDDIG": "2017-02-27",
                                    "(No column name)": "7"
                                },
                                {
                                    "USERNEV": "agnes",
                                    "NEV": "Lengyel Ágnes",
                                    "METTOL": "2016-05-09",
                                    "MEDDIG": "2016-05-11",
                                    "(No column name)": "NULL"
                                },
                                {
                                    "USERNEV": "agnes",
                                    "NEV": "Lengyel Ágnes",
                                    "METTOL": "2016-05-25",
                                    "MEDDIG": "2016-05-30",
                                    "(No column name)": "3"
                                },
                                {
                                    "USERNEV": "agnes",
                                    "NEV": "Lengyel Ágnes",
                                    "METTOL": "2016-07-13",
                                    "MEDDIG": "2016-07-19",
                                    "(No column name)": "4"
                                },
                                {
                                    "USERNEV": "agnes",
                                    "NEV": "Lengyel Ágnes",
                                    "METTOL": "2016-07-30",
                                    "MEDDIG": "2016-08-06",
                                    "(No column name)": "7"
                                },
                                {
                                    "USERNEV": "agnes",
                                    "NEV": "Lengyel Ágnes",
                                    "METTOL": "2016-11-07",
                                    "MEDDIG": "2016-11-13",
                                    "(No column name)": "7"
                                },
                                {
                                    "USERNEV": "agnes3",
                                    "NEV": "Hartyánszky Ágnes",
                                    "METTOL": "2016-08-04",
                                    "MEDDIG": "2016-08-10",
                                    "(No column name)": "NULL"
                                },
                                {
                                    "USERNEV": "agnes3",
                                    "NEV": "Hartyánszky Ágnes",
                                    "METTOL": "2016-10-22",
                                    "MEDDIG": "2016-10-23",
                                    "(No column name)": "1"
                                },
                                {
                                    "USERNEV": "agnes3",
                                    "NEV": "Hartyánszky Ágnes",
                                    "METTOL": "2017-02-16",
                                    "MEDDIG": "2017-02-21",
                                    "(No column name)": "4"
                                },
                                {
                                    "USERNEV": "AGNESH",
                                    "NEV": "Horváth Ágnes",
                                    "METTOL": "2016-04-10",
                                    "MEDDIG": "2016-04-12",
                                    "(No column name)": "NULL"
                                },
                                {
                                    "USERNEV": "AGNESH",
                                    "NEV": "Horváth Ágnes",
                                    "METTOL": "2016-04-27",
                                    "MEDDIG": "2016-04-28",
                                    "(No column name)": "2"
                                },
                                {
                                    "USERNEV": "AGNESH",
                                    "NEV": "Horváth Ágnes",
                                    "METTOL": "2016-06-23",
                                    "MEDDIG": "2016-06-26",
                                    "(No column name)": "6"
                                },
                                {
                                    "USERNEV": "AGNESH",
                                    "NEV": "Horváth Ágnes",
                                    "METTOL": "2016-10-30",
                                    "MEDDIG": "2016-11-04",
                                    "(No column name)": "7"
                                },
                                {
                                    "USERNEV": "AGNESH",
                                    "NEV": "Horváth Ágnes",
                                    "METTOL": "2017-01-03",
                                    "MEDDIG": "2017-01-10",
                                    "(No column name)": "6"
                                },
                                {
                                    "USERNEV": "AGNESH",
                                    "NEV": "Horváth Ágnes",
                                    "METTOL": "2017-01-16",
                                    "MEDDIG": "2017-01-23",
                                    "(No column name)": "4"
                                },
                                {
                                    "USERNEV": "AGNESK",
                                    "NEV": "Kovács Ágnes",
                                    "METTOL": "2016-07-29",
                                    "MEDDIG": "2016-08-01",
                                    "(No column name)": "NULL"
                                },
                                {
                                    "USERNEV": "AGNESK",
                                    "NEV": "Kovács Ágnes",
                                    "METTOL": "2016-10-17",
                                    "MEDDIG": "2016-10-19",
                                    "(No column name)": "3"
                                },
                                {
                                    "USERNEV": "AGNESK",
                                    "NEV": "Kovács Ágnes",
                                    "METTOL": "2016-12-17",
                                    "MEDDIG": "2016-12-18",
                                    "(No column name)": "5"
                                },
                                {
                                    "USERNEV": "akos",
                                    "NEV": "Bíró Ákos",
                                    "METTOL": "2016-05-18",
                                    "MEDDIG": "2016-05-19",
                                    "(No column name)": "NULL"
                                },
                                {
                                    "USERNEV": "akos",
                                    "NEV": "Bíró Ákos",
                                    "METTOL": "2016-07-14",
                                    "MEDDIG": "2016-07-19",
                                    "(No column name)": "2"
                                },
                                {
                                    "USERNEV": "akos",
                                    "NEV": "Bíró Ákos",
                                    "METTOL": "2016-07-16",
                                    "MEDDIG": "2016-07-18",
                                    "(No column name)": "4"
                                },
                                {
                                    "USERNEV": "akos",
                                    "NEV": "Bíró Ákos",
                                    "METTOL": "2016-07-22",
                                    "MEDDIG": "2016-07-26",
                                    "(No column name)": "6"
                                },
                                {
                                    "USERNEV": "akos",
                                    "NEV": "Bíró Ákos",
                                    "METTOL": "2016-09-06",
                                    "MEDDIG": "2016-09-12",
                                    "(No column name)": "5"
                                },
                                {
                                    "USERNEV": "akos",
                                    "NEV": "Bíró Ákos",
                                    "METTOL": "2016-10-05",
                                    "MEDDIG": "2016-10-09",
                                    "(No column name)": "4"
                                },
                                {
                                    "USERNEV": "akos",
                                    "NEV": "Bíró Ákos",
                                    "METTOL": "2016-10-18",
                                    "MEDDIG": "2016-10-23",
                                    "(No column name)": "4"
                                },
                                {
                                    "USERNEV": "akos",
                                    "NEV": "Bíró Ákos",
                                    "METTOL": "2016-11-21",
                                    "MEDDIG": "2016-11-27",
                                    "(No column name)": "5"
                                },
                                {
                                    "USERNEV": "akos",
                                    "NEV": "Bíró Ákos",
                                    "METTOL": "2016-12-15",
                                    "MEDDIG": "2016-12-21",
                                    "(No column name)": "6"
                                },
                                {
                                    "USERNEV": "akos",
                                    "NEV": "Bíró Ákos",
                                    "METTOL": "2016-12-29",
                                    "MEDDIG": "2016-12-30",
                                    "(No column name)": "6"
                                },
                                {
                                    "USERNEV": "aladar",
                                    "NEV": "Dunai Aladár",
                                    "METTOL": "2016-05-17",
                                    "MEDDIG": "2016-05-24",
                                    "(No column name)": "NULL"
                                },
                                {
                                    "USERNEV": "aladar",
                                    "NEV": "Dunai Aladár",
                                    "METTOL": "2016-09-24",
                                    "MEDDIG": "2016-09-28",
                                    "(No column name)": "1"
                                },
                                {
                                    "USERNEV": "aladar",
                                    "NEV": "Dunai Aladár",
                                    "METTOL": "2016-11-22",
                                    "MEDDIG": "2016-11-23",
                                    "(No column name)": "2"
                                },
                                {
                                    "USERNEV": "alexandra",
                                    "NEV": "Bagóczki Alexandra",
                                    "METTOL": "2016-05-21",
                                    "MEDDIG": "2016-05-27",
                                    "(No column name)": "NULL"
                                },
                                {
                                    "USERNEV": "alexandra",
                                    "NEV": "Bagóczki Alexandra",
                                    "METTOL": "2016-06-08",
                                    "MEDDIG": "2016-06-11",
                                    "(No column name)": "3"
                                },
                                {
                                    "USERNEV": "alexandra",
                                    "NEV": "Bagóczki Alexandra",
                                    "METTOL": "2016-07-27",
                                    "MEDDIG": "2016-07-30",
                                    "(No column name)": "6"
                                },
                                {
                                    "USERNEV": "alexandra",
                                    "NEV": "Bagóczki Alexandra",
                                    "METTOL": "2016-10-21",
                                    "MEDDIG": "2016-10-25",
                                    "(No column name)": "8"
                                },
                                {
                                    "USERNEV": "alexandra",
                                    "NEV": "Bagóczki Alexandra",
                                    "METTOL": "2016-11-29",
                                    "MEDDIG": "2016-12-05",
                                    "(No column name)": "7"
                                },
                                {
                                    "USERNEV": "alexandra",
                                    "NEV": "Bagóczki Alexandra",
                                    "METTOL": "2017-01-13",
                                    "MEDDIG": "2017-01-14",
                                    "(No column name)": "6"
                                },
                                {
                                    "USERNEV": "alexandra",
                                    "NEV": "Bagóczki Alexandra",
                                    "METTOL": "2017-01-19",
                                    "MEDDIG": "2017-01-26",
                                    "(No column name)": "5"
                                },
                                {
                                    "USERNEV": "andi",
                                    "NEV": "Maródi Andrea",
                                    "METTOL": "2016-05-08",
                                    "MEDDIG": "2016-05-14",
                                    "(No column name)": "NULL"
                                },
                                {
                                    "USERNEV": "andi",
                                    "NEV": "Maródi Andrea",
                                    "METTOL": "2016-06-13",
                                    "MEDDIG": "2016-06-14",
                                    "(No column name)": "4"
                                },
                                {
                                    "USERNEV": "andi",
                                    "NEV": "Maródi Andrea",
                                    "METTOL": "2016-09-13",
                                    "MEDDIG": "2016-09-16",
                                    "(No column name)": "5"
                                },
                                {
                                    "USERNEV": "andi",
                                    "NEV": "Maródi Andrea",
                                    "METTOL": "2016-11-16",
                                    "MEDDIG": "2016-11-17",
                                    "(No column name)": "7"
                                },
                                {
                                    "USERNEV": "andi",
                                    "NEV": "Maródi Andrea",
                                    "METTOL": "2017-01-13",
                                    "MEDDIG": "2017-01-17",
                                    "(No column name)": "6"
                                },
                                {
                                    "USERNEV": "andras2",
                                    "NEV": "Tóth András",
                                    "METTOL": "2016-05-30",
                                    "MEDDIG": "2016-06-04",
                                    "(No column name)": "NULL"
                                },
                                {
                                    "USERNEV": "andras2",
                                    "NEV": "Tóth András",
                                    "METTOL": "2016-07-20",
                                    "MEDDIG": "2016-07-22",
                                    "(No column name)": "1"
                                },
                                {
                                    "USERNEV": "andras2",
                                    "NEV": "Tóth András",
                                    "METTOL": "2016-09-30",
                                    "MEDDIG": "2016-10-03",
                                    "(No column name)": "3"
                                },
                                {
                                    "USERNEV": "andras2",
                                    "NEV": "Tóth András",
                                    "METTOL": "2016-10-07",
                                    "MEDDIG": "2016-10-10",
                                    "(No column name)": "5"
                                },
                                {
                                    "USERNEV": "andras2",
                                    "NEV": "Tóth András",
                                    "METTOL": "2017-02-08",
                                    "MEDDIG": "2017-02-10",
                                    "(No column name)": "7"
                                },
                                {
                                    "USERNEV": "andras21",
                                    "NEV": "Molnár András",
                                    "METTOL": "2016-06-21",
                                    "MEDDIG": "2016-06-26",
                                    "(No column name)": "NULL"
                                },
                                {
                                    "USERNEV": "andras21",
                                    "NEV": "Molnár András",
                                    "METTOL": "2016-07-04",
                                    "MEDDIG": "2016-07-05",
                                    "(No column name)": "2"
                                },
                                {
                                    "USERNEV": "andras21",
                                    "NEV": "Molnár András",
                                    "METTOL": "2016-07-20",
                                    "MEDDIG": "2016-07-22",
                                    "(No column name)": "5"
                                },
                                {
                                    "USERNEV": "andras21",
                                    "NEV": "Molnár András",
                                    "METTOL": "2016-10-01",
                                    "MEDDIG": "2016-10-06",
                                    "(No column name)": "6"
                                },
                                {
                                    "USERNEV": "andras21",
                                    "NEV": "Molnár András",
                                    "METTOL": "2016-10-04",
                                    "MEDDIG": "2016-10-11",
                                    "(No column name)": "7"
                                },
                                {
                                    "USERNEV": "andras21",
                                    "NEV": "Molnár András",
                                    "METTOL": "2016-11-23",
                                    "MEDDIG": "2016-11-24",
                                    "(No column name)": "7"
                                },
                                {
                                    "USERNEV": "andras21",
                                    "NEV": "Molnár András",
                                    "METTOL": "2017-01-28",
                                    "MEDDIG": "2017-02-01",
                                    "(No column name)": "10"
                                },
                                {
                                    "USERNEV": "andras3",
                                    "NEV": "Vígh András",
                                    "METTOL": "2016-05-01",
                                    "MEDDIG": "2016-05-06",
                                    "(No column name)": "NULL"
                                },
                                {
                                    "USERNEV": "andras3",
                                    "NEV": "Vígh András",
                                    "METTOL": "2016-05-30",
                                    "MEDDIG": "2016-06-03",
                                    "(No column name)": "2"
                                },
                                {
                                    "USERNEV": "andras3",
                                    "NEV": "Vígh András",
                                    "METTOL": "2016-06-10",
                                    "MEDDIG": "2016-06-11",
                                    "(No column name)": "3"
                                },
                                {
                                    "USERNEV": "andras3",
                                    "NEV": "Vígh András",
                                    "METTOL": "2016-07-15",
                                    "MEDDIG": "2016-07-19",
                                    "(No column name)": "4"
                                },
                                {
                                    "USERNEV": "andras3",
                                    "NEV": "Vígh András",
                                    "METTOL": "2016-07-21",
                                    "MEDDIG": "2016-07-23",
                                    "(No column name)": "5"
                                },
                                {
                                    "USERNEV": "andras3",
                                    "NEV": "Vígh András",
                                    "METTOL": "2016-08-29",
                                    "MEDDIG": "2016-09-02",
                                    "(No column name)": "6"
                                },
                                {
                                    "USERNEV": "andras3",
                                    "NEV": "Vígh András",
                                    "METTOL": "2016-11-28",
                                    "MEDDIG": "2016-12-02",
                                    "(No column name)": "8"
                                },
                                {
                                    "USERNEV": "andras3",
                                    "NEV": "Vígh András",
                                    "METTOL": "2017-02-02",
                                    "MEDDIG": "2017-02-08",
                                    "(No column name)": "7"
                                },
                                {
                                    "USERNEV": "andras4",
                                    "NEV": "Back András",
                                    "METTOL": "2016-09-17",
                                    "MEDDIG": "2016-09-20",
                                    "(No column name)": "NULL"
                                },
                                {
                                    "USERNEV": "andras4",
                                    "NEV": "Back András",
                                    "METTOL": "2016-11-25",
                                    "MEDDIG": "2016-11-28",
                                    "(No column name)": "2"
                                },
                                {
                                    "USERNEV": "andras4",
                                    "NEV": "Back András",
                                    "METTOL": "2017-01-09",
                                    "MEDDIG": "2017-01-10",
                                    "(No column name)": "4"
                                },
                                {
                                    "USERNEV": "andras41",
                                    "NEV": "Komjáti András",
                                    "METTOL": "2016-05-14",
                                    "MEDDIG": "2016-05-16",
                                    "(No column name)": "NULL"
                                },
                                {
                                    "USERNEV": "andras41",
                                    "NEV": "Komjáti András",
                                    "METTOL": "2016-05-21",
                                    "MEDDIG": "2016-05-23",
                                    "(No column name)": "2"
                                },
                                {
                                    "USERNEV": "andras41",
                                    "NEV": "Komjáti András",
                                    "METTOL": "2016-06-07",
                                    "MEDDIG": "2016-06-11",
                                    "(No column name)": "6"
                                },
                                {
                                    "USERNEV": "andras41",
                                    "NEV": "Komjáti András",
                                    "METTOL": "2016-06-23",
                                    "MEDDIG": "2016-06-29",
                                    "(No column name)": "9"
                                },
                                {
                                    "USERNEV": "andras41",
                                    "NEV": "Komjáti András",
                                    "METTOL": "2016-07-28",
                                    "MEDDIG": "2016-08-03",
                                    "(No column name)": "9"
                                },
                                {
                                    "USERNEV": "andras41",
                                    "NEV": "Komjáti András",
                                    "METTOL": "2016-08-17",
                                    "MEDDIG": "2016-08-21",
                                    "(No column name)": "8"
                                },
                                {
                                    "USERNEV": "andras41",
                                    "NEV": "Komjáti András",
                                    "METTOL": "2016-08-19",
                                    "MEDDIG": "2016-08-23",
                                    "(No column name)": "8"
                                },
                                {
                                    "USERNEV": "andras41",
                                    "NEV": "Komjáti András",
                                    "METTOL": "2016-09-22",
                                    "MEDDIG": "2016-09-29",
                                    "(No column name)": "7"
                                },
                                {
                                    "USERNEV": "andras41",
                                    "NEV": "Komjáti András",
                                    "METTOL": "2016-09-30",
                                    "MEDDIG": "2016-10-05",
                                    "(No column name)": "5"
                                },
                                {
                                    "USERNEV": "andras41",
                                    "NEV": "Komjáti András",
                                    "METTOL": "2016-10-09",
                                    "MEDDIG": "2016-10-13",
                                    "(No column name)": "4"
                                },
                                {
                                    "USERNEV": "andras41",
                                    "NEV": "Komjáti András",
                                    "METTOL": "2016-10-15",
                                    "MEDDIG": "2016-10-18",
                                    "(No column name)": "5"
                                },
                                {
                                    "USERNEV": "andras41",
                                    "NEV": "Komjáti András",
                                    "METTOL": "2016-11-20",
                                    "MEDDIG": "2016-11-24",
                                    "(No column name)": "7"
                                },
                                {
                                    "USERNEV": "andras41",
                                    "NEV": "Komjáti András",
                                    "METTOL": "2016-11-23",
                                    "MEDDIG": "2016-11-24",
                                    "(No column name)": "8"
                                },
                                {
                                    "USERNEV": "ANDRASE",
                                    "NEV": "Erdei András",
                                    "METTOL": "2016-04-24",
                                    "MEDDIG": "2016-05-01",
                                    "(No column name)": "NULL"
                                },
                                {
                                    "USERNEV": "ANDRASE",
                                    "NEV": "Erdei András",
                                    "METTOL": "2016-07-06",
                                    "MEDDIG": "2016-07-07",
                                    "(No column name)": "1"
                                },
                                {
                                    "USERNEV": "ANDRASE",
                                    "NEV": "Erdei András",
                                    "METTOL": "2016-08-16",
                                    "MEDDIG": "2016-08-20",
                                    "(No column name)": "3"
                                },
                                {
                                    "USERNEV": "ANDRASE",
                                    "NEV": "Erdei András",
                                    "METTOL": "2016-11-19",
                                    "MEDDIG": "2016-11-20",
                                    "(No column name)": "5"
                                },
                                {
                                    "USERNEV": "ANDRASE",
                                    "NEV": "Erdei András",
                                    "METTOL": "2016-11-29",
                                    "MEDDIG": "2016-12-06",
                                    "(No column name)": "8"
                                },
                                {
                                    "USERNEV": "ANDRASN",
                                    "NEV": "Nagy András",
                                    "METTOL": "2016-11-25",
                                    "MEDDIG": "2016-12-01",
                                    "(No column name)": "NULL"
                                },
                                {
                                    "USERNEV": "andrea",
                                    "NEV": "Kiss Andrea",
                                    "METTOL": "2016-07-27",
                                    "MEDDIG": "2016-07-28",
                                    "(No column name)": "NULL"
                                },
                                {
                                    "USERNEV": "andrea",
                                    "NEV": "Kiss Andrea",
                                    "METTOL": "2016-08-01",
                                    "MEDDIG": "2016-08-02",
                                    "(No column name)": "2"
                                },
                                {
                                    "USERNEV": "andrea",
                                    "NEV": "Kiss Andrea",
                                    "METTOL": "2016-08-23",
                                    "MEDDIG": "2016-08-26",
                                    "(No column name)": "4"
                                },
                                {
                                    "USERNEV": "andrea",
                                    "NEV": "Kiss Andrea",
                                    "METTOL": "2016-08-26",
                                    "MEDDIG": "2016-08-30",
                                    "(No column name)": "7"
                                },
                                {
                                    "USERNEV": "andrea",
                                    "NEV": "Kiss Andrea",
                                    "METTOL": "2016-10-21",
                                    "MEDDIG": "2016-10-27",
                                    "(No column name)": "7"
                                },
                                {
                                    "USERNEV": "andrea",
                                    "NEV": "Kiss Andrea",
                                    "METTOL": "2017-02-09",
                                    "MEDDIG": "2017-02-14",
                                    "(No column name)": "9"
                                },
                                {
                                    "USERNEV": "andrea3",
                                    "NEV": "Szomor Andrea",
                                    "METTOL": "2016-11-19",
                                    "MEDDIG": "2016-11-21",
                                    "(No column name)": "NULL"
                                },
                                {
                                    "USERNEV": "andrea4",
                                    "NEV": "Neizer Andrea",
                                    "METTOL": "2016-05-27",
                                    "MEDDIG": "2016-05-29",
                                    "(No column name)": "NULL"
                                },
                                {
                                    "USERNEV": "andrea4",
                                    "NEV": "Neizer Andrea",
                                    "METTOL": "2016-09-13",
                                    "MEDDIG": "2016-09-17",
                                    "(No column name)": "1"
                                },
                                {
                                    "USERNEV": "andrea4",
                                    "NEV": "Neizer Andrea",
                                    "METTOL": "2016-10-30",
                                    "MEDDIG": "2016-11-06",
                                    "(No column name)": "3"
                                },
                                {
                                    "USERNEV": "andrea4",
                                    "NEV": "Neizer Andrea",
                                    "METTOL": "2017-01-22",
                                    "MEDDIG": "2017-01-29",
                                    "(No column name)": "6"
                                },
                                {
                                    "USERNEV": "ANDREAT",
                                    "NEV": "Tornyos Andrea",
                                    "METTOL": "2016-07-27",
                                    "MEDDIG": "2016-08-01",
                                    "(No column name)": "NULL"
                                },
                                {
                                    "USERNEV": "ANDREAT",
                                    "NEV": "Tornyos Andrea",
                                    "METTOL": "2016-09-15",
                                    "MEDDIG": "2016-09-16",
                                    "(No column name)": "2"
                                },
                                {
                                    "USERNEV": "ANDREAT",
                                    "NEV": "Tornyos Andrea",
                                    "METTOL": "2016-10-08",
                                    "MEDDIG": "2016-10-12",
                                    "(No column name)": "4"
                                },
                                {
                                    "USERNEV": "anett3",
                                    "NEV": "Pivarcsi Anett",
                                    "METTOL": "2016-04-10",
                                    "MEDDIG": "2016-04-17",
                                    "(No column name)": "NULL"
                                },
                                {
                                    "USERNEV": "anett3",
                                    "NEV": "Pivarcsi Anett",
                                    "METTOL": "2016-04-13",
                                    "MEDDIG": "2016-04-19",
                                    "(No column name)": "1"
                                },
                                {
                                    "USERNEV": "anett3",
                                    "NEV": "Pivarcsi Anett",
                                    "METTOL": "2016-04-15",
                                    "MEDDIG": "2016-04-19",
                                    "(No column name)": "4"
                                },
                                {
                                    "USERNEV": "anett3",
                                    "NEV": "Pivarcsi Anett",
                                    "METTOL": "2016-04-28",
                                    "MEDDIG": "2016-05-02",
                                    "(No column name)": "7"
                                },
                                {
                                    "USERNEV": "anett3",
                                    "NEV": "Pivarcsi Anett",
                                    "METTOL": "2016-08-15",
                                    "MEDDIG": "2016-08-16",
                                    "(No column name)": "9"
                                },
                                {
                                    "USERNEV": "anett3",
                                    "NEV": "Pivarcsi Anett",
                                    "METTOL": "2016-08-17",
                                    "MEDDIG": "2016-08-23",
                                    "(No column name)": "8"
                                },
                                {
                                    "USERNEV": "anett3",
                                    "NEV": "Pivarcsi Anett",
                                    "METTOL": "2016-10-12",
                                    "MEDDIG": "2016-10-19",
                                    "(No column name)": "8"
                                },
                                {
                                    "USERNEV": "anett3",
                                    "NEV": "Pivarcsi Anett",
                                    "METTOL": "2016-10-16",
                                    "MEDDIG": "2016-10-21",
                                    "(No column name)": "8"
                                },
                                {
                                    "USERNEV": "aniko",
                                    "NEV": "Tóth Anikó",
                                    "METTOL": "2016-06-25",
                                    "MEDDIG": "2016-06-30",
                                    "(No column name)": "NULL"
                                },
                                {
                                    "USERNEV": "aniko",
                                    "NEV": "Tóth Anikó",
                                    "METTOL": "2017-02-12",
                                    "MEDDIG": "2017-02-14",
                                    "(No column name)": "3"
                                },
                                {
                                    "USERNEV": "aniko",
                                    "NEV": "Tóth Anikó",
                                    "METTOL": "2017-02-23",
                                    "MEDDIG": "2017-02-24",
                                    "(No column name)": "6"
                                },
                                {
                                    "USERNEV": "aniko4",
                                    "NEV": "Böröcz Anikó",
                                    "METTOL": "2016-07-02",
                                    "MEDDIG": "2016-07-09",
                                    "(No column name)": "NULL"
                                },
                                {
                                    "USERNEV": "aniko4",
                                    "NEV": "Böröcz Anikó",
                                    "METTOL": "2016-07-22",
                                    "MEDDIG": "2016-07-25",
                                    "(No column name)": "1"
                                },
                                {
                                    "USERNEV": "aniko4",
                                    "NEV": "Böröcz Anikó",
                                    "METTOL": "2016-09-05",
                                    "MEDDIG": "2016-09-07",
                                    "(No column name)": "4"
                                },
                                {
                                    "USERNEV": "aniko4",
                                    "NEV": "Böröcz Anikó",
                                    "METTOL": "2016-10-16",
                                    "MEDDIG": "2016-10-18",
                                    "(No column name)": "8"
                                },
                                {
                                    "USERNEV": "ANIKOS",
                                    "NEV": "Simon Anikó",
                                    "METTOL": "2016-04-19",
                                    "MEDDIG": "2016-04-24",
                                    "(No column name)": "NULL"
                                },
                                {
                                    "USERNEV": "ANIKOS",
                                    "NEV": "Simon Anikó",
                                    "METTOL": "2016-05-24",
                                    "MEDDIG": "2016-05-25",
                                    "(No column name)": "2"
                                },
                                {
                                    "USERNEV": "ANIKOS",
                                    "NEV": "Simon Anikó",
                                    "METTOL": "2016-06-16",
                                    "MEDDIG": "2016-06-23",
                                    "(No column name)": "5"
                                },
                                {
                                    "USERNEV": "ANIKOS",
                                    "NEV": "Simon Anikó",
                                    "METTOL": "2016-06-27",
                                    "MEDDIG": "2016-06-30",
                                    "(No column name)": "6"
                                },
                                {
                                    "USERNEV": "ANIKOS",
                                    "NEV": "Simon Anikó",
                                    "METTOL": "2016-07-17",
                                    "MEDDIG": "2016-07-22",
                                    "(No column name)": "6"
                                },
                                {
                                    "USERNEV": "ANIKOS",
                                    "NEV": "Simon Anikó",
                                    "METTOL": "2016-08-26",
                                    "MEDDIG": "2016-09-02",
                                    "(No column name)": "6"
                                },
                                {
                                    "USERNEV": "ANIKOS",
                                    "NEV": "Simon Anikó",
                                    "METTOL": "2016-10-08",
                                    "MEDDIG": "2016-10-14",
                                    "(No column name)": "7"
                                },
                                {
                                    "USERNEV": "ANIKOS",
                                    "NEV": "Simon Anikó",
                                    "METTOL": "2016-10-29",
                                    "MEDDIG": "2016-11-05",
                                    "(No column name)": "7"
                                },
                                {
                                    "USERNEV": "ANIKOS",
                                    "NEV": "Simon Anikó",
                                    "METTOL": "2016-11-10",
                                    "MEDDIG": "2016-11-15",
                                    "(No column name)": "7"
                                },
                                {
                                    "USERNEV": "anita",
                                    "NEV": "Hamvay-Kovács Anita",
                                    "METTOL": "2016-09-28",
                                    "MEDDIG": "2016-10-02",
                                    "(No column name)": "NULL"
                                },
                                {
                                    "USERNEV": "anita",
                                    "NEV": "Hamvay-Kovács Anita",
                                    "METTOL": "2016-10-01",
                                    "MEDDIG": "2016-10-04",
                                    "(No column name)": "4"
                                },
                                {
                                    "USERNEV": "anita",
                                    "NEV": "Hamvay-Kovács Anita",
                                    "METTOL": "2017-02-19",
                                    "MEDDIG": "2017-02-22",
                                    "(No column name)": "6"
                                },
                                {
                                    "USERNEV": "anita",
                                    "NEV": "Hamvay-Kovács Anita",
                                    "METTOL": "2017-02-20",
                                    "MEDDIG": "2017-02-25",
                                    "(No column name)": "8"
                                },
                                {
                                    "USERNEV": "annamaria1",
                                    "NEV": "Szűcs Annamária",
                                    "METTOL": "2016-06-06",
                                    "MEDDIG": "2016-06-07",
                                    "(No column name)": "NULL"
                                },
                                {
                                    "USERNEV": "annamaria1",
                                    "NEV": "Szűcs Annamária",
                                    "METTOL": "2017-01-30",
                                    "MEDDIG": "2017-01-31",
                                    "(No column name)": "3"
                                },
                                {
                                    "USERNEV": "ANNAMARIAR",
                                    "NEV": "Regős Annamária",
                                    "METTOL": "2016-06-08",
                                    "MEDDIG": "2016-06-11",
                                    "(No column name)": "NULL"
                                },
                                {
                                    "USERNEV": "ANNAMARIAR",
                                    "NEV": "Regős Annamária",
                                    "METTOL": "2016-07-18",
                                    "MEDDIG": "2016-07-21",
                                    "(No column name)": "2"
                                },
                                {
                                    "USERNEV": "ANNAMARIAR",
                                    "NEV": "Regős Annamária",
                                    "METTOL": "2016-09-23",
                                    "MEDDIG": "2016-09-27",
                                    "(No column name)": "3"
                                },
                                {
                                    "USERNEV": "ANNAMARIAR",
                                    "NEV": "Regős Annamária",
                                    "METTOL": "2016-11-11",
                                    "MEDDIG": "2016-11-12",
                                    "(No column name)": "5"
                                },
                                {
                                    "USERNEV": "ANNAMARIAR",
                                    "NEV": "Regős Annamária",
                                    "METTOL": "2017-01-10",
                                    "MEDDIG": "2017-01-13",
                                    "(No column name)": "6"
                                },
                                {
                                    "USERNEV": "ANNAMARIAR",
                                    "NEV": "Regős Annamária",
                                    "METTOL": "2017-02-16",
                                    "MEDDIG": "2017-02-18",
                                    "(No column name)": "7"
                                },
                                {
                                    "USERNEV": "aron2",
                                    "NEV": "Jakab Áron",
                                    "METTOL": "2016-04-11",
                                    "MEDDIG": "2016-04-12",
                                    "(No column name)": "NULL"
                                },
                                {
                                    "USERNEV": "aron2",
                                    "NEV": "Jakab Áron",
                                    "METTOL": "2016-07-04",
                                    "MEDDIG": "2016-07-06",
                                    "(No column name)": "3"
                                },
                                {
                                    "USERNEV": "aron2",
                                    "NEV": "Jakab Áron",
                                    "METTOL": "2016-10-23",
                                    "MEDDIG": "2016-10-27",
                                    "(No column name)": "6"
                                },
                                {
                                    "USERNEV": "aron2",
                                    "NEV": "Jakab Áron",
                                    "METTOL": "2016-11-05",
                                    "MEDDIG": "2016-11-09",
                                    "(No column name)": "8"
                                },
                                {
                                    "USERNEV": "aron2",
                                    "NEV": "Jakab Áron",
                                    "METTOL": "2017-01-17",
                                    "MEDDIG": "2017-01-18",
                                    "(No column name)": "7"
                                },
                                {
                                    "USERNEV": "aron2",
                                    "NEV": "Jakab Áron",
                                    "METTOL": "2017-02-26",
                                    "MEDDIG": "2017-02-27",
                                    "(No column name)": "7"
                                },
                                {
                                    "USERNEV": "ARONK",
                                    "NEV": "Kelemen Áron",
                                    "METTOL": "2016-04-06",
                                    "MEDDIG": "2016-04-08",
                                    "(No column name)": "NULL"
                                },
                                {
                                    "USERNEV": "ARONK",
                                    "NEV": "Kelemen Áron",
                                    "METTOL": "2016-05-14",
                                    "MEDDIG": "2016-05-20",
                                    "(No column name)": "2"
                                },
                                {
                                    "USERNEV": "ARONK",
                                    "NEV": "Kelemen Áron",
                                    "METTOL": "2016-06-04",
                                    "MEDDIG": "2016-06-09",
                                    "(No column name)": "6"
                                },
                                {
                                    "USERNEV": "ARONK",
                                    "NEV": "Kelemen Áron",
                                    "METTOL": "2016-06-07",
                                    "MEDDIG": "2016-06-13",
                                    "(No column name)": "8"
                                },
                                {
                                    "USERNEV": "ARONK",
                                    "NEV": "Kelemen Áron",
                                    "METTOL": "2016-07-03",
                                    "MEDDIG": "2016-07-07",
                                    "(No column name)": "9"
                                },
                                {
                                    "USERNEV": "ARONK",
                                    "NEV": "Kelemen Áron",
                                    "METTOL": "2016-08-05",
                                    "MEDDIG": "2016-08-08",
                                    "(No column name)": "7"
                                },
                                {
                                    "USERNEV": "ARONK",
                                    "NEV": "Kelemen Áron",
                                    "METTOL": "2016-09-08",
                                    "MEDDIG": "2016-09-15",
                                    "(No column name)": "9"
                                },
                                {
                                    "USERNEV": "ARONK",
                                    "NEV": "Kelemen Áron",
                                    "METTOL": "2016-11-03",
                                    "MEDDIG": "2016-11-10",
                                    "(No column name)": "8"
                                },
                                {
                                    "USERNEV": "ARONK",
                                    "NEV": "Kelemen Áron",
                                    "METTOL": "2016-11-05",
                                    "MEDDIG": "2016-11-07",
                                    "(No column name)": "8"
                                },
                                {
                                    "USERNEV": "ARONK",
                                    "NEV": "Kelemen Áron",
                                    "METTOL": "2016-12-07",
                                    "MEDDIG": "2016-12-12",
                                    "(No column name)": "6"
                                },
                                {
                                    "USERNEV": "ARONK",
                                    "NEV": "Kelemen Áron",
                                    "METTOL": "2017-01-01",
                                    "MEDDIG": "2017-01-03",
                                    "(No column name)": "7"
                                },
                                {
                                    "USERNEV": "ARONK",
                                    "NEV": "Kelemen Áron",
                                    "METTOL": "2017-01-30",
                                    "MEDDIG": "2017-02-03",
                                    "(No column name)": "7"
                                },
                                {
                                    "USERNEV": "ARONK",
                                    "NEV": "Kelemen Áron",
                                    "METTOL": "2017-02-21",
                                    "MEDDIG": "2017-02-23",
                                    "(No column name)": "7"
                                },
                                {
                                    "USERNEV": "arpad2",
                                    "NEV": "Ötvös Árpád",
                                    "METTOL": "2016-06-05",
                                    "MEDDIG": "2016-06-07",
                                    "(No column name)": "NULL"
                                },
                                {
                                    "USERNEV": "arpad2",
                                    "NEV": "Ötvös Árpád",
                                    "METTOL": "2016-08-23",
                                    "MEDDIG": "2016-08-25",
                                    "(No column name)": "2"
                                },
                                {
                                    "USERNEV": "arpad2",
                                    "NEV": "Ötvös Árpád",
                                    "METTOL": "2016-09-28",
                                    "MEDDIG": "2016-09-30",
                                    "(No column name)": "4"
                                },
                                {
                                    "USERNEV": "arpad2",
                                    "NEV": "Ötvös Árpád",
                                    "METTOL": "2016-10-13",
                                    "MEDDIG": "2016-10-19",
                                    "(No column name)": "6"
                                },
                                {
                                    "USERNEV": "arpad2",
                                    "NEV": "Ötvös Árpád",
                                    "METTOL": "2016-11-06",
                                    "MEDDIG": "2016-11-10",
                                    "(No column name)": "7"
                                },
                                {
                                    "USERNEV": "arpad2",
                                    "NEV": "Ötvös Árpád",
                                    "METTOL": "2016-12-24",
                                    "MEDDIG": "2016-12-27",
                                    "(No column name)": "7"
                                },
                                {
                                    "USERNEV": "arpad2",
                                    "NEV": "Ötvös Árpád",
                                    "METTOL": "2017-02-18",
                                    "MEDDIG": "2017-02-19",
                                    "(No column name)": "8"
                                },
                                {
                                    "USERNEV": "ARPADH",
                                    "NEV": "Horváth Árpád",
                                    "METTOL": "2016-06-06",
                                    "MEDDIG": "2016-06-07",
                                    "(No column name)": "NULL"
                                },
                                {
                                    "USERNEV": "ARPADH",
                                    "NEV": "Horváth Árpád",
                                    "METTOL": "2016-07-14",
                                    "MEDDIG": "2016-07-18",
                                    "(No column name)": "3"
                                },
                                {
                                    "USERNEV": "ARPADH",
                                    "NEV": "Horváth Árpád",
                                    "METTOL": "2016-09-16",
                                    "MEDDIG": "2016-09-23",
                                    "(No column name)": "5"
                                },
                                {
                                    "USERNEV": "ARPADH",
                                    "NEV": "Horváth Árpád",
                                    "METTOL": "2016-09-18",
                                    "MEDDIG": "2016-09-25",
                                    "(No column name)": "6"
                                },
                                {
                                    "USERNEV": "ARPADH",
                                    "NEV": "Horváth Árpád",
                                    "METTOL": "2016-12-04",
                                    "MEDDIG": "2016-12-10",
                                    "(No column name)": "4"
                                },
                                {
                                    "USERNEV": "ARPADH",
                                    "NEV": "Horváth Árpád",
                                    "METTOL": "2016-12-18",
                                    "MEDDIG": "2016-12-19",
                                    "(No column name)": "3"
                                },
                                {
                                    "USERNEV": "ARPADH",
                                    "NEV": "Horváth Árpád",
                                    "METTOL": "2017-02-16",
                                    "MEDDIG": "2017-02-18",
                                    "(No column name)": "5"
                                },
                                {
                                    "USERNEV": "ARPADM",
                                    "NEV": "Móricz Árpád",
                                    "METTOL": "2016-05-29",
                                    "MEDDIG": "2016-06-01",
                                    "(No column name)": "NULL"
                                },
                                {
                                    "USERNEV": "ARPADM",
                                    "NEV": "Móricz Árpád",
                                    "METTOL": "2016-08-12",
                                    "MEDDIG": "2016-08-16",
                                    "(No column name)": "2"
                                },
                                {
                                    "USERNEV": "ARPADM",
                                    "NEV": "Móricz Árpád",
                                    "METTOL": "2016-11-09",
                                    "MEDDIG": "2016-11-11",
                                    "(No column name)": "4"
                                },
                                {
                                    "USERNEV": "ARPADM",
                                    "NEV": "Móricz Árpád",
                                    "METTOL": "2016-12-14",
                                    "MEDDIG": "2016-12-17",
                                    "(No column name)": "6"
                                },
                                {
                                    "USERNEV": "ARPADM",
                                    "NEV": "Móricz Árpád",
                                    "METTOL": "2017-01-05",
                                    "MEDDIG": "2017-01-10",
                                    "(No column name)": "7"
                                },
                                {
                                    "USERNEV": "ARPADM",
                                    "NEV": "Móricz Árpád",
                                    "METTOL": "2017-02-12",
                                    "MEDDIG": "2017-02-14",
                                    "(No column name)": "6"
                                },
                                {
                                    "USERNEV": "attila",
                                    "NEV": "Csóti Attila",
                                    "METTOL": "2016-09-30",
                                    "MEDDIG": "2016-10-07",
                                    "(No column name)": "NULL"
                                },
                                {
                                    "USERNEV": "attila",
                                    "NEV": "Csóti Attila",
                                    "METTOL": "2016-10-15",
                                    "MEDDIG": "2016-10-19",
                                    "(No column name)": "3"
                                },
                                {
                                    "USERNEV": "attila",
                                    "NEV": "Csóti Attila",
                                    "METTOL": "2016-12-22",
                                    "MEDDIG": "2016-12-26",
                                    "(No column name)": "4"
                                },
                                {
                                    "USERNEV": "attila1",
                                    "NEV": "Gulyás Attila",
                                    "METTOL": "2016-05-20",
                                    "MEDDIG": "2016-05-26",
                                    "(No column name)": "NULL"
                                },
                                {
                                    "USERNEV": "attila1",
                                    "NEV": "Gulyás Attila",
                                    "METTOL": "2016-10-09",
                                    "MEDDIG": "2016-10-12",
                                    "(No column name)": "1"
                                },
                                {
                                    "USERNEV": "attila1",
                                    "NEV": "Gulyás Attila",
                                    "METTOL": "2016-10-15",
                                    "MEDDIG": "2016-10-16",
                                    "(No column name)": "3"
                                },
                                {
                                    "USERNEV": "attila1",
                                    "NEV": "Gulyás Attila",
                                    "METTOL": "2016-10-30",
                                    "MEDDIG": "2016-11-05",
                                    "(No column name)": "6"
                                },
                                {
                                    "USERNEV": "attila1",
                                    "NEV": "Gulyás Attila",
                                    "METTOL": "2016-11-10",
                                    "MEDDIG": "2016-11-14",
                                    "(No column name)": "7"
                                },
                                {
                                    "USERNEV": "attila1",
                                    "NEV": "Gulyás Attila",
                                    "METTOL": "2017-01-23",
                                    "MEDDIG": "2017-01-30",
                                    "(No column name)": "7"
                                },
                                {
                                    "USERNEV": "attila4",
                                    "NEV": "Baróti Attila",
                                    "METTOL": "2016-08-18",
                                    "MEDDIG": "2016-08-23",
                                    "(No column name)": "NULL"
                                },
                                {
                                    "USERNEV": "attila4",
                                    "NEV": "Baróti Attila",
                                    "METTOL": "2016-12-31",
                                    "MEDDIG": "2017-01-01",
                                    "(No column name)": "4"
                                },
                                {
                                    "USERNEV": "attila4",
                                    "NEV": "Baróti Attila",
                                    "METTOL": "2017-02-15",
                                    "MEDDIG": "2017-02-22",
                                    "(No column name)": "6"
                                },
                                {
                                    "USERNEV": "ATTILAO",
                                    "NEV": "Opra Attila",
                                    "METTOL": "2016-05-21",
                                    "MEDDIG": "2016-05-26",
                                    "(No column name)": "NULL"
                                },
                                {
                                    "USERNEV": "ATTILAO",
                                    "NEV": "Opra Attila",
                                    "METTOL": "2016-06-04",
                                    "MEDDIG": "2016-06-11",
                                    "(No column name)": "3"
                                },
                                {
                                    "USERNEV": "ATTILAO",
                                    "NEV": "Opra Attila",
                                    "METTOL": "2016-10-30",
                                    "MEDDIG": "2016-11-03",
                                    "(No column name)": "6"
                                },
                                {
                                    "USERNEV": "ATTILAO",
                                    "NEV": "Opra Attila",
                                    "METTOL": "2017-02-22",
                                    "MEDDIG": "2017-02-25",
                                    "(No column name)": "8"
                                },
                                {
                                    "USERNEV": "balazs1",
                                    "NEV": "Bozsik Balázs",
                                    "METTOL": "2016-05-07",
                                    "MEDDIG": "2016-05-14",
                                    "(No column name)": "NULL"
                                },
                                {
                                    "USERNEV": "balazs1",
                                    "NEV": "Bozsik Balázs",
                                    "METTOL": "2016-07-22",
                                    "MEDDIG": "2016-07-26",
                                    "(No column name)": "2"
                                },
                                {
                                    "USERNEV": "balazs1",
                                    "NEV": "Bozsik Balázs",
                                    "METTOL": "2016-12-26",
                                    "MEDDIG": "2016-12-28",
                                    "(No column name)": "6"
                                },
                                {
                                    "USERNEV": "balazs1",
                                    "NEV": "Bozsik Balázs",
                                    "METTOL": "2017-01-01",
                                    "MEDDIG": "2017-01-05",
                                    "(No column name)": "9"
                                },
                                {
                                    "USERNEV": "balazs1",
                                    "NEV": "Bozsik Balázs",
                                    "METTOL": "2017-02-10",
                                    "MEDDIG": "2017-02-14",
                                    "(No column name)": "9"
                                },
                                {
                                    "USERNEV": "balazs1",
                                    "NEV": "Bozsik Balázs",
                                    "METTOL": "2017-02-12",
                                    "MEDDIG": "2017-02-14",
                                    "(No column name)": "8"
                                },
                                {
                                    "USERNEV": "balazs2",
                                    "NEV": "Szűcs Balázs",
                                    "METTOL": "2016-04-16",
                                    "MEDDIG": "2016-04-19",
                                    "(No column name)": "NULL"
                                },
                                {
                                    "USERNEV": "balazs2",
                                    "NEV": "Szűcs Balázs",
                                    "METTOL": "2016-05-22",
                                    "MEDDIG": "2016-05-29",
                                    "(No column name)": "2"
                                },
                                {
                                    "USERNEV": "balazs2",
                                    "NEV": "Szűcs Balázs",
                                    "METTOL": "2016-05-28",
                                    "MEDDIG": "2016-06-01",
                                    "(No column name)": "5"
                                },
                                {
                                    "USERNEV": "balazs2",
                                    "NEV": "Szűcs Balázs",
                                    "METTOL": "2016-07-08",
                                    "MEDDIG": "2016-07-12",
                                    "(No column name)": "8"
                                },
                                {
                                    "USERNEV": "balazs2",
                                    "NEV": "Szűcs Balázs",
                                    "METTOL": "2016-07-10",
                                    "MEDDIG": "2016-07-17",
                                    "(No column name)": "9"
                                },
                                {
                                    "USERNEV": "balazs2",
                                    "NEV": "Szűcs Balázs",
                                    "METTOL": "2016-07-20",
                                    "MEDDIG": "2016-07-25",
                                    "(No column name)": "9"
                                },
                                {
                                    "USERNEV": "balazs2",
                                    "NEV": "Szűcs Balázs",
                                    "METTOL": "2016-08-21",
                                    "MEDDIG": "2016-08-22",
                                    "(No column name)": "8"
                                },
                                {
                                    "USERNEV": "balazs2",
                                    "NEV": "Szűcs Balázs",
                                    "METTOL": "2016-09-12",
                                    "MEDDIG": "2016-09-14",
                                    "(No column name)": "8"
                                },
                                {
                                    "USERNEV": "balazs2",
                                    "NEV": "Szűcs Balázs",
                                    "METTOL": "2016-11-03",
                                    "MEDDIG": "2016-11-05",
                                    "(No column name)": "8"
                                },
                                {
                                    "USERNEV": "balazs2",
                                    "NEV": "Szűcs Balázs",
                                    "METTOL": "2017-02-27",
                                    "MEDDIG": "2017-03-06",
                                    "(No column name)": "9"
                                },
                                {
                                    "USERNEV": "balazs3",
                                    "NEV": "Bakódy Balázs",
                                    "METTOL": "2016-07-17",
                                    "MEDDIG": "2016-07-21",
                                    "(No column name)": "NULL"
                                },
                                {
                                    "USERNEV": "balazs3",
                                    "NEV": "Bakódy Balázs",
                                    "METTOL": "2016-07-27",
                                    "MEDDIG": "2016-07-31",
                                    "(No column name)": "2"
                                },
                                {
                                    "USERNEV": "balazs3",
                                    "NEV": "Bakódy Balázs",
                                    "METTOL": "2016-08-24",
                                    "MEDDIG": "2016-08-28",
                                    "(No column name)": "6"
                                },
                                {
                                    "USERNEV": "balazs3",
                                    "NEV": "Bakódy Balázs",
                                    "METTOL": "2016-09-15",
                                    "MEDDIG": "2016-09-16",
                                    "(No column name)": "9"
                                },
                                {
                                    "USERNEV": "balazs3",
                                    "NEV": "Bakódy Balázs",
                                    "METTOL": "2016-12-05",
                                    "MEDDIG": "2016-12-11",
                                    "(No column name)": "10"
                                },
                                {
                                    "USERNEV": "balazs3",
                                    "NEV": "Bakódy Balázs",
                                    "METTOL": "2017-01-20",
                                    "MEDDIG": "2017-01-22",
                                    "(No column name)": "9"
                                },
                                {
                                    "USERNEV": "balint",
                                    "NEV": "Horváth Bálint",
                                    "METTOL": "2016-04-22",
                                    "MEDDIG": "2016-04-29",
                                    "(No column name)": "NULL"
                                },
                                {
                                    "USERNEV": "balint",
                                    "NEV": "Horváth Bálint",
                                    "METTOL": "2016-10-09",
                                    "MEDDIG": "2016-10-11",
                                    "(No column name)": "2"
                                },
                                {
                                    "USERNEV": "balint",
                                    "NEV": "Horváth Bálint",
                                    "METTOL": "2016-11-24",
                                    "MEDDIG": "2016-11-29",
                                    "(No column name)": "4"
                                },
                                {
                                    "USERNEV": "balint1",
                                    "NEV": "Molnár Bálint",
                                    "METTOL": "2016-06-07",
                                    "MEDDIG": "2016-06-11",
                                    "(No column name)": "NULL"
                                },
                                {
                                    "USERNEV": "balint1",
                                    "NEV": "Molnár Bálint",
                                    "METTOL": "2016-06-07",
                                    "MEDDIG": "2016-06-12",
                                    "(No column name)": "3"
                                },
                                {
                                    "USERNEV": "balint1",
                                    "NEV": "Molnár Bálint",
                                    "METTOL": "2016-06-10",
                                    "MEDDIG": "2016-06-12",
                                    "(No column name)": "6"
                                },
                                {
                                    "USERNEV": "balint1",
                                    "NEV": "Molnár Bálint",
                                    "METTOL": "2016-07-26",
                                    "MEDDIG": "2016-07-28",
                                    "(No column name)": "7"
                                },
                                {
                                    "USERNEV": "balint1",
                                    "NEV": "Molnár Bálint",
                                    "METTOL": "2016-08-03",
                                    "MEDDIG": "2016-08-08",
                                    "(No column name)": "6"
                                },
                                {
                                    "USERNEV": "balint1",
                                    "NEV": "Molnár Bálint",
                                    "METTOL": "2016-09-16",
                                    "MEDDIG": "2016-09-21",
                                    "(No column name)": "5"
                                },
                                {
                                    "USERNEV": "balint1",
                                    "NEV": "Molnár Bálint",
                                    "METTOL": "2016-11-07",
                                    "MEDDIG": "2016-11-10",
                                    "(No column name)": "5"
                                },
                                {
                                    "USERNEV": "balint1",
                                    "NEV": "Molnár Bálint",
                                    "METTOL": "2016-12-17",
                                    "MEDDIG": "2016-12-22",
                                    "(No column name)": "5"
                                },
                                {
                                    "USERNEV": "balint1",
                                    "NEV": "Molnár Bálint",
                                    "METTOL": "2016-12-29",
                                    "MEDDIG": "2016-12-31",
                                    "(No column name)": "6"
                                },
                                {
                                    "USERNEV": "balint1",
                                    "NEV": "Molnár Bálint",
                                    "METTOL": "2017-01-03",
                                    "MEDDIG": "2017-01-08",
                                    "(No column name)": "8"
                                },
                                {
                                    "USERNEV": "balint2",
                                    "NEV": "Vukasinovity Bálint",
                                    "METTOL": "2016-07-21",
                                    "MEDDIG": "2016-07-26",
                                    "(No column name)": "NULL"
                                },
                                {
                                    "USERNEV": "balint2",
                                    "NEV": "Vukasinovity Bálint",
                                    "METTOL": "2016-12-04",
                                    "MEDDIG": "2016-12-06",
                                    "(No column name)": "1"
                                },
                                {
                                    "USERNEV": "balu",
                                    "NEV": "Endresz Bálint",
                                    "METTOL": "2016-08-06",
                                    "MEDDIG": "2016-08-10",
                                    "(No column name)": "NULL"
                                },
                                {
                                    "USERNEV": "balu",
                                    "NEV": "Endresz Bálint",
                                    "METTOL": "2016-12-22",
                                    "MEDDIG": "2016-12-23",
                                    "(No column name)": "2"
                                },
                                {
                                    "USERNEV": "beata4",
                                    "NEV": "Bagi Beáta",
                                    "METTOL": "2016-04-20",
                                    "MEDDIG": "2016-04-21",
                                    "(No column name)": "NULL"
                                },
                                {
                                    "USERNEV": "beata4",
                                    "NEV": "Bagi Beáta",
                                    "METTOL": "2016-06-03",
                                    "MEDDIG": "2016-06-04",
                                    "(No column name)": "2"
                                },
                                {
                                    "USERNEV": "beata4",
                                    "NEV": "Bagi Beáta",
                                    "METTOL": "2016-07-03",
                                    "MEDDIG": "2016-07-06",
                                    "(No column name)": "4"
                                },
                                {
                                    "USERNEV": "beata4",
                                    "NEV": "Bagi Beáta",
                                    "METTOL": "2016-08-25",
                                    "MEDDIG": "2016-08-27",
                                    "(No column name)": "5"
                                },
                                {
                                    "USERNEV": "beata4",
                                    "NEV": "Bagi Beáta",
                                    "METTOL": "2016-10-01",
                                    "MEDDIG": "2016-10-05",
                                    "(No column name)": "6"
                                },
                                {
                                    "USERNEV": "beata4",
                                    "NEV": "Bagi Beáta",
                                    "METTOL": "2016-10-03",
                                    "MEDDIG": "2016-10-06",
                                    "(No column name)": "5"
                                },
                                {
                                    "USERNEV": "BEATRIXK",
                                    "NEV": "Kerényi Beatrix",
                                    "METTOL": "2016-06-10",
                                    "MEDDIG": "2016-06-11",
                                    "(No column name)": "NULL"
                                },
                                {
                                    "USERNEV": "BEATRIXK",
                                    "NEV": "Kerényi Beatrix",
                                    "METTOL": "2016-06-10",
                                    "MEDDIG": "2016-06-14",
                                    "(No column name)": "2"
                                },
                                {
                                    "USERNEV": "BEATRIXK",
                                    "NEV": "Kerényi Beatrix",
                                    "METTOL": "2016-06-19",
                                    "MEDDIG": "2016-06-21",
                                    "(No column name)": "4"
                                },
                                {
                                    "USERNEV": "BEATRIXK",
                                    "NEV": "Kerényi Beatrix",
                                    "METTOL": "2016-08-12",
                                    "MEDDIG": "2016-08-18",
                                    "(No column name)": "7"
                                },
                                {
                                    "USERNEV": "BEATRIXK",
                                    "NEV": "Kerényi Beatrix",
                                    "METTOL": "2016-10-23",
                                    "MEDDIG": "2016-10-28",
                                    "(No column name)": "9"
                                },
                                {
                                    "USERNEV": "BEATRIXK",
                                    "NEV": "Kerényi Beatrix",
                                    "METTOL": "2016-11-14",
                                    "MEDDIG": "2016-11-19",
                                    "(No column name)": "9"
                                },
                                {
                                    "USERNEV": "BEATRIXK",
                                    "NEV": "Kerényi Beatrix",
                                    "METTOL": "2016-12-12",
                                    "MEDDIG": "2016-12-14",
                                    "(No column name)": "8"
                                },
                                {
                                    "USERNEV": "BEATRIXK",
                                    "NEV": "Kerényi Beatrix",
                                    "METTOL": "2016-12-17",
                                    "MEDDIG": "2016-12-22",
                                    "(No column name)": "7"
                                },
                                {
                                    "USERNEV": "BEATRIXK",
                                    "NEV": "Kerényi Beatrix",
                                    "METTOL": "2017-02-08",
                                    "MEDDIG": "2017-02-09",
                                    "(No column name)": "9"
                                },
                                {
                                    "USERNEV": "BEATRIXS",
                                    "NEV": "Szekendi Beatrix",
                                    "METTOL": "2016-04-18",
                                    "MEDDIG": "2016-04-24",
                                    "(No column name)": "NULL"
                                },
                                {
                                    "USERNEV": "BEATRIXS",
                                    "NEV": "Szekendi Beatrix",
                                    "METTOL": "2016-06-11",
                                    "MEDDIG": "2016-06-14",
                                    "(No column name)": "1"
                                },
                                {
                                    "USERNEV": "BEATRIXS",
                                    "NEV": "Szekendi Beatrix",
                                    "METTOL": "2016-10-01",
                                    "MEDDIG": "2016-10-03",
                                    "(No column name)": "4"
                                },
                                {
                                    "USERNEV": "BEATRIXS",
                                    "NEV": "Szekendi Beatrix",
                                    "METTOL": "2016-10-01",
                                    "MEDDIG": "2016-10-05",
                                    "(No column name)": "7"
                                },
                                {
                                    "USERNEV": "BEATRIXS",
                                    "NEV": "Szekendi Beatrix",
                                    "METTOL": "2016-12-21",
                                    "MEDDIG": "2016-12-27",
                                    "(No column name)": "9"
                                },
                                {
                                    "USERNEV": "BEATRIXS",
                                    "NEV": "Szekendi Beatrix",
                                    "METTOL": "2017-02-03",
                                    "MEDDIG": "2017-02-04",
                                    "(No column name)": "8"
                                },
                                {
                                    "USERNEV": "BELAF",
                                    "NEV": "Farkas Béla",
                                    "METTOL": "2016-07-27",
                                    "MEDDIG": "2016-07-30",
                                    "(No column name)": "NULL"
                                },
                                {
                                    "USERNEV": "BELAF",
                                    "NEV": "Farkas Béla",
                                    "METTOL": "2016-07-29",
                                    "MEDDIG": "2016-07-31",
                                    "(No column name)": "3"
                                },
                                {
                                    "USERNEV": "BELAF",
                                    "NEV": "Farkas Béla",
                                    "METTOL": "2016-08-29",
                                    "MEDDIG": "2016-08-31",
                                    "(No column name)": "5"
                                },
                                {
                                    "USERNEV": "BELAF",
                                    "NEV": "Farkas Béla",
                                    "METTOL": "2016-11-03",
                                    "MEDDIG": "2016-11-09",
                                    "(No column name)": "7"
                                },
                                {
                                    "USERNEV": "BELAF",
                                    "NEV": "Farkas Béla",
                                    "METTOL": "2016-12-02",
                                    "MEDDIG": "2016-12-04",
                                    "(No column name)": "8"
                                },
                                {
                                    "USERNEV": "BELAF",
                                    "NEV": "Farkas Béla",
                                    "METTOL": "2016-12-06",
                                    "MEDDIG": "2016-12-09",
                                    "(No column name)": "9"
                                },
                                {
                                    "USERNEV": "bence",
                                    "NEV": "Győrffy Bence",
                                    "METTOL": "2016-05-08",
                                    "MEDDIG": "2016-05-11",
                                    "(No column name)": "NULL"
                                },
                                {
                                    "USERNEV": "bence",
                                    "NEV": "Győrffy Bence",
                                    "METTOL": "2016-05-29",
                                    "MEDDIG": "2016-06-03",
                                    "(No column name)": "2"
                                },
                                {
                                    "USERNEV": "bence",
                                    "NEV": "Győrffy Bence",
                                    "METTOL": "2016-07-24",
                                    "MEDDIG": "2016-07-30",
                                    "(No column name)": "3"
                                },
                                {
                                    "USERNEV": "bence",
                                    "NEV": "Győrffy Bence",
                                    "METTOL": "2016-07-25",
                                    "MEDDIG": "2016-08-01",
                                    "(No column name)": "5"
                                },
                                {
                                    "USERNEV": "bence",
                                    "NEV": "Győrffy Bence",
                                    "METTOL": "2016-09-03",
                                    "MEDDIG": "2016-09-06",
                                    "(No column name)": "6"
                                },
                                {
                                    "USERNEV": "bence",
                                    "NEV": "Győrffy Bence",
                                    "METTOL": "2016-10-30",
                                    "MEDDIG": "2016-11-02",
                                    "(No column name)": "8"
                                },
                                {
                                    "USERNEV": "bence",
                                    "NEV": "Győrffy Bence",
                                    "METTOL": "2016-12-17",
                                    "MEDDIG": "2016-12-18",
                                    "(No column name)": "10"
                                },
                                {
                                    "USERNEV": "bence",
                                    "NEV": "Győrffy Bence",
                                    "METTOL": "2016-12-26",
                                    "MEDDIG": "2016-12-27",
                                    "(No column name)": "9"
                                },
                                {
                                    "USERNEV": "bence",
                                    "NEV": "Győrffy Bence",
                                    "METTOL": "2017-02-05",
                                    "MEDDIG": "2017-02-09",
                                    "(No column name)": "8"
                                },
                                {
                                    "USERNEV": "BENCEB",
                                    "NEV": "Bajusz Bence",
                                    "METTOL": "2016-05-14",
                                    "MEDDIG": "2016-05-17",
                                    "(No column name)": "NULL"
                                },
                                {
                                    "USERNEV": "BENCEB",
                                    "NEV": "Bajusz Bence",
                                    "METTOL": "2016-06-03",
                                    "MEDDIG": "2016-06-09",
                                    "(No column name)": "3"
                                },
                                {
                                    "USERNEV": "BENCEB",
                                    "NEV": "Bajusz Bence",
                                    "METTOL": "2016-08-01",
                                    "MEDDIG": "2016-08-02",
                                    "(No column name)": "5"
                                },
                                {
                                    "USERNEV": "BENCEB",
                                    "NEV": "Bajusz Bence",
                                    "METTOL": "2016-10-22",
                                    "MEDDIG": "2016-10-29",
                                    "(No column name)": "7"
                                },
                                {
                                    "USERNEV": "BENCEB",
                                    "NEV": "Bajusz Bence",
                                    "METTOL": "2016-11-28",
                                    "MEDDIG": "2016-12-02",
                                    "(No column name)": "7"
                                },
                                {
                                    "USERNEV": "BENCEB",
                                    "NEV": "Bajusz Bence",
                                    "METTOL": "2017-02-12",
                                    "MEDDIG": "2017-02-19",
                                    "(No column name)": "7"
                                },
                                {
                                    "USERNEV": "bernadett1",
                                    "NEV": "Simon Bernadett",
                                    "METTOL": "2016-06-12",
                                    "MEDDIG": "2016-06-17",
                                    "(No column name)": "NULL"
                                },
                                {
                                    "USERNEV": "bernadett1",
                                    "NEV": "Simon Bernadett",
                                    "METTOL": "2016-10-08",
                                    "MEDDIG": "2016-10-09",
                                    "(No column name)": "3"
                                },
                                {
                                    "USERNEV": "bernadett1",
                                    "NEV": "Simon Bernadett",
                                    "METTOL": "2016-10-15",
                                    "MEDDIG": "2016-10-22",
                                    "(No column name)": "7"
                                },
                                {
                                    "USERNEV": "bernadett1",
                                    "NEV": "Simon Bernadett",
                                    "METTOL": "2016-10-26",
                                    "MEDDIG": "2016-11-02",
                                    "(No column name)": "10"
                                },
                                {
                                    "USERNEV": "bernadett1",
                                    "NEV": "Simon Bernadett",
                                    "METTOL": "2016-10-28",
                                    "MEDDIG": "2016-11-01",
                                    "(No column name)": "10"
                                },
                                {
                                    "USERNEV": "bernadett1",
                                    "NEV": "Simon Bernadett",
                                    "METTOL": "2017-02-14",
                                    "MEDDIG": "2017-02-15",
                                    "(No column name)": "9"
                                },
                                {
                                    "USERNEV": "bernadett1",
                                    "NEV": "Simon Bernadett",
                                    "METTOL": "2017-02-24",
                                    "MEDDIG": "2017-03-03",
                                    "(No column name)": "9"
                                },
                                {
                                    "USERNEV": "bernadett2",
                                    "NEV": "Kovács Bernadett",
                                    "METTOL": "2016-05-01",
                                    "MEDDIG": "2016-05-03",
                                    "(No column name)": "NULL"
                                },
                                {
                                    "USERNEV": "bernadett2",
                                    "NEV": "Kovács Bernadett",
                                    "METTOL": "2016-06-17",
                                    "MEDDIG": "2016-06-23",
                                    "(No column name)": "2"
                                },
                                {
                                    "USERNEV": "bernadett2",
                                    "NEV": "Kovács Bernadett",
                                    "METTOL": "2016-08-23",
                                    "MEDDIG": "2016-08-29",
                                    "(No column name)": "5"
                                },
                                {
                                    "USERNEV": "bernadett2",
                                    "NEV": "Kovács Bernadett",
                                    "METTOL": "2016-08-25",
                                    "MEDDIG": "2016-08-27",
                                    "(No column name)": "7"
                                },
                                {
                                    "USERNEV": "bernadett2",
                                    "NEV": "Kovács Bernadett",
                                    "METTOL": "2016-09-07",
                                    "MEDDIG": "2016-09-13",
                                    "(No column name)": "8"
                                },
                                {
                                    "USERNEV": "bernadett2",
                                    "NEV": "Kovács Bernadett",
                                    "METTOL": "2016-10-30",
                                    "MEDDIG": "2016-11-06",
                                    "(No column name)": "8"
                                },
                                {
                                    "USERNEV": "bernadett2",
                                    "NEV": "Kovács Bernadett",
                                    "METTOL": "2016-12-17",
                                    "MEDDIG": "2016-12-20",
                                    "(No column name)": "9"
                                },
                                {
                                    "USERNEV": "bernadett2",
                                    "NEV": "Kovács Bernadett",
                                    "METTOL": "2017-01-24",
                                    "MEDDIG": "2017-01-30",
                                    "(No column name)": "7"
                                },
                                {
                                    "USERNEV": "BERNADETTO",
                                    "NEV": "Orbán Bernadett",
                                    "METTOL": "2016-04-10",
                                    "MEDDIG": "2016-04-17",
                                    "(No column name)": "NULL"
                                },
                                {
                                    "USERNEV": "BERNADETTO",
                                    "NEV": "Orbán Bernadett",
                                    "METTOL": "2016-04-17",
                                    "MEDDIG": "2016-04-19",
                                    "(No column name)": "2"
                                },
                                {
                                    "USERNEV": "BERNADETTO",
                                    "NEV": "Orbán Bernadett",
                                    "METTOL": "2016-06-07",
                                    "MEDDIG": "2016-06-13",
                                    "(No column name)": "4"
                                },
                                {
                                    "USERNEV": "BERNADETTO",
                                    "NEV": "Orbán Bernadett",
                                    "METTOL": "2016-06-10",
                                    "MEDDIG": "2016-06-16",
                                    "(No column name)": "7"
                                },
                                {
                                    "USERNEV": "BERNADETTO",
                                    "NEV": "Orbán Bernadett",
                                    "METTOL": "2016-10-04",
                                    "MEDDIG": "2016-10-05",
                                    "(No column name)": "9"
                                },
                                {
                                    "USERNEV": "BERNADETTO",
                                    "NEV": "Orbán Bernadett",
                                    "METTOL": "2017-01-01",
                                    "MEDDIG": "2017-01-02",
                                    "(No column name)": "9"
                                },
                                {
                                    "USERNEV": "BERNADETTO",
                                    "NEV": "Orbán Bernadett",
                                    "METTOL": "2017-01-28",
                                    "MEDDIG": "2017-02-03",
                                    "(No column name)": "9"
                                },
                                {
                                    "USERNEV": "bertalan",
                                    "NEV": "Csiger Bertalan",
                                    "METTOL": "2016-05-18",
                                    "MEDDIG": "2016-05-23",
                                    "(No column name)": "NULL"
                                },
                                {
                                    "USERNEV": "bertalan",
                                    "NEV": "Csiger Bertalan",
                                    "METTOL": "2016-06-20",
                                    "MEDDIG": "2016-06-21",
                                    "(No column name)": "2"
                                },
                                {
                                    "USERNEV": "bertalan",
                                    "NEV": "Csiger Bertalan",
                                    "METTOL": "2016-11-03",
                                    "MEDDIG": "2016-11-10",
                                    "(No column name)": "3"
                                },
                                {
                                    "USERNEV": "bertalan",
                                    "NEV": "Csiger Bertalan",
                                    "METTOL": "2016-11-26",
                                    "MEDDIG": "2016-11-29",
                                    "(No column name)": "5"
                                },
                                {
                                    "USERNEV": "bertalan",
                                    "NEV": "Csiger Bertalan",
                                    "METTOL": "2017-02-16",
                                    "MEDDIG": "2017-02-22",
                                    "(No column name)": "6"
                                },
                                {
                                    "USERNEV": "bertalan",
                                    "NEV": "Csiger Bertalan",
                                    "METTOL": "2017-02-20",
                                    "MEDDIG": "2017-02-24",
                                    "(No column name)": "7"
                                },
                                {
                                    "USERNEV": "brigitta",
                                    "NEV": "Székely Brigitta",
                                    "METTOL": "2016-05-30",
                                    "MEDDIG": "2016-06-06",
                                    "(No column name)": "NULL"
                                },
                                {
                                    "USERNEV": "brigitta",
                                    "NEV": "Székely Brigitta",
                                    "METTOL": "2016-08-28",
                                    "MEDDIG": "2016-09-01",
                                    "(No column name)": "3"
                                },
                                {
                                    "USERNEV": "brigitta",
                                    "NEV": "Székely Brigitta",
                                    "METTOL": "2016-10-21",
                                    "MEDDIG": "2016-10-28",
                                    "(No column name)": "6"
                                },
                                {
                                    "USERNEV": "brigitta",
                                    "NEV": "Székely Brigitta",
                                    "METTOL": "2016-12-17",
                                    "MEDDIG": "2016-12-22",
                                    "(No column name)": "9"
                                },
                                {
                                    "USERNEV": "brigitta",
                                    "NEV": "Székely Brigitta",
                                    "METTOL": "2017-01-23",
                                    "MEDDIG": "2017-01-25",
                                    "(No column name)": "8"
                                },
                                {
                                    "USERNEV": "brigitta3",
                                    "NEV": "Pataki Brigitta",
                                    "METTOL": "2016-06-01",
                                    "MEDDIG": "2016-06-05",
                                    "(No column name)": "NULL"
                                },
                                {
                                    "USERNEV": "brigitta3",
                                    "NEV": "Pataki Brigitta",
                                    "METTOL": "2016-06-13",
                                    "MEDDIG": "2016-06-17",
                                    "(No column name)": "2"
                                },
                                {
                                    "USERNEV": "brigitta3",
                                    "NEV": "Pataki Brigitta",
                                    "METTOL": "2016-10-10",
                                    "MEDDIG": "2016-10-14",
                                    "(No column name)": "5"
                                },
                                {
                                    "USERNEV": "brigitta3",
                                    "NEV": "Pataki Brigitta",
                                    "METTOL": "2016-11-03",
                                    "MEDDIG": "2016-11-09",
                                    "(No column name)": "7"
                                },
                                {
                                    "USERNEV": "brigitta3",
                                    "NEV": "Pataki Brigitta",
                                    "METTOL": "2017-02-09",
                                    "MEDDIG": "2017-02-16",
                                    "(No column name)": "8"
                                },
                                {
                                    "USERNEV": "csongor3",
                                    "NEV": "Nagymihály Csongor",
                                    "METTOL": "2016-05-01",
                                    "MEDDIG": "2016-05-04",
                                    "(No column name)": "NULL"
                                },
                                {
                                    "USERNEV": "csongor3",
                                    "NEV": "Nagymihály Csongor",
                                    "METTOL": "2016-05-08",
                                    "MEDDIG": "2016-05-15",
                                    "(No column name)": "2"
                                },
                                {
                                    "USERNEV": "csongor3",
                                    "NEV": "Nagymihály Csongor",
                                    "METTOL": "2016-06-04",
                                    "MEDDIG": "2016-06-05",
                                    "(No column name)": "5"
                                },
                                {
                                    "USERNEV": "csongor3",
                                    "NEV": "Nagymihály Csongor",
                                    "METTOL": "2016-06-10",
                                    "MEDDIG": "2016-06-17",
                                    "(No column name)": "7"
                                },
                                {
                                    "USERNEV": "csongor3",
                                    "NEV": "Nagymihály Csongor",
                                    "METTOL": "2016-06-11",
                                    "MEDDIG": "2016-06-14",
                                    "(No column name)": "8"
                                },
                                {
                                    "USERNEV": "csongor3",
                                    "NEV": "Nagymihály Csongor",
                                    "METTOL": "2016-07-09",
                                    "MEDDIG": "2016-07-10",
                                    "(No column name)": "7"
                                },
                                {
                                    "USERNEV": "csongor3",
                                    "NEV": "Nagymihály Csongor",
                                    "METTOL": "2016-11-12",
                                    "MEDDIG": "2016-11-17",
                                    "(No column name)": "9"
                                },
                                {
                                    "USERNEV": "csongor3",
                                    "NEV": "Nagymihály Csongor",
                                    "METTOL": "2017-02-13",
                                    "MEDDIG": "2017-02-19",
                                    "(No column name)": "9"
                                },
                                {
                                    "USERNEV": "dani",
                                    "NEV": "Vörös Dániel",
                                    "METTOL": "2016-06-06",
                                    "MEDDIG": "2016-06-10",
                                    "(No column name)": "NULL"
                                },
                                {
                                    "USERNEV": "dani",
                                    "NEV": "Vörös Dániel",
                                    "METTOL": "2016-07-11",
                                    "MEDDIG": "2016-07-12",
                                    "(No column name)": "3"
                                },
                                {
                                    "USERNEV": "dani",
                                    "NEV": "Vörös Dániel",
                                    "METTOL": "2016-08-06",
                                    "MEDDIG": "2016-08-09",
                                    "(No column name)": "6"
                                },
                                {
                                    "USERNEV": "dani",
                                    "NEV": "Vörös Dániel",
                                    "METTOL": "2016-09-19",
                                    "MEDDIG": "2016-09-25",
                                    "(No column name)": "8"
                                },
                                {
                                    "USERNEV": "dani",
                                    "NEV": "Vörös Dániel",
                                    "METTOL": "2016-10-01",
                                    "MEDDIG": "2016-10-02",
                                    "(No column name)": "9"
                                },
                                {
                                    "USERNEV": "dani",
                                    "NEV": "Vörös Dániel",
                                    "METTOL": "2016-11-22",
                                    "MEDDIG": "2016-11-24",
                                    "(No column name)": "7"
                                },
                                {
                                    "USERNEV": "dani",
                                    "NEV": "Vörös Dániel",
                                    "METTOL": "2017-01-17",
                                    "MEDDIG": "2017-01-23",
                                    "(No column name)": "7"
                                },
                                {
                                    "USERNEV": "dani",
                                    "NEV": "Vörös Dániel",
                                    "METTOL": "2017-01-22",
                                    "MEDDIG": "2017-01-29",
                                    "(No column name)": "5"
                                },
                                {
                                    "USERNEV": "dani",
                                    "NEV": "Vörös Dániel",
                                    "METTOL": "2017-02-25",
                                    "MEDDIG": "2017-03-01",
                                    "(No column name)": "5"
                                },
                                {
                                    "USERNEV": "daniel",
                                    "NEV": "Rácz Dániel",
                                    "METTOL": "2016-04-10",
                                    "MEDDIG": "2016-04-11",
                                    "(No column name)": "NULL"
                                },
                                {
                                    "USERNEV": "daniel",
                                    "NEV": "Rácz Dániel",
                                    "METTOL": "2016-04-22",
                                    "MEDDIG": "2016-04-25",
                                    "(No column name)": "4"
                                },
                                {
                                    "USERNEV": "daniel",
                                    "NEV": "Rácz Dániel",
                                    "METTOL": "2016-05-09",
                                    "MEDDIG": "2016-05-13",
                                    "(No column name)": "6"
                                },
                                {
                                    "USERNEV": "daniel",
                                    "NEV": "Rácz Dániel",
                                    "METTOL": "2016-09-08",
                                    "MEDDIG": "2016-09-10",
                                    "(No column name)": "9"
                                },
                                {
                                    "USERNEV": "daniel",
                                    "NEV": "Rácz Dániel",
                                    "METTOL": "2016-11-13",
                                    "MEDDIG": "2016-11-19",
                                    "(No column name)": "9"
                                },
                                {
                                    "USERNEV": "daniel",
                                    "NEV": "Rácz Dániel",
                                    "METTOL": "2016-12-25",
                                    "MEDDIG": "2016-12-26",
                                    "(No column name)": "10"
                                },
                                {
                                    "USERNEV": "daniel",
                                    "NEV": "Rácz Dániel",
                                    "METTOL": "2017-01-09",
                                    "MEDDIG": "2017-01-11",
                                    "(No column name)": "10"
                                },
                                {
                                    "USERNEV": "daniel",
                                    "NEV": "Rácz Dániel",
                                    "METTOL": "2017-02-12",
                                    "MEDDIG": "2017-02-13",
                                    "(No column name)": "7"
                                },
                                {
                                    "USERNEV": "daniel",
                                    "NEV": "Rácz Dániel",
                                    "METTOL": "2017-02-20",
                                    "MEDDIG": "2017-02-23",
                                    "(No column name)": "7"
                                },
                                {
                                    "USERNEV": "daniel1",
                                    "NEV": "Keszler Dániel",
                                    "METTOL": "2016-04-10",
                                    "MEDDIG": "2016-04-15",
                                    "(No column name)": "NULL"
                                },
                                {
                                    "USERNEV": "daniel1",
                                    "NEV": "Keszler Dániel",
                                    "METTOL": "2016-05-10",
                                    "MEDDIG": "2016-05-13",
                                    "(No column name)": "2"
                                },
                                {
                                    "USERNEV": "daniel1",
                                    "NEV": "Keszler Dániel",
                                    "METTOL": "2016-05-26",
                                    "MEDDIG": "2016-05-27",
                                    "(No column name)": "6"
                                },
                                {
                                    "USERNEV": "daniel1",
                                    "NEV": "Keszler Dániel",
                                    "METTOL": "2016-11-09",
                                    "MEDDIG": "2016-11-11",
                                    "(No column name)": "9"
                                },
                                {
                                    "USERNEV": "daniel1",
                                    "NEV": "Keszler Dániel",
                                    "METTOL": "2016-11-23",
                                    "MEDDIG": "2016-11-25",
                                    "(No column name)": "9"
                                },
                                {
                                    "USERNEV": "daniel1",
                                    "NEV": "Keszler Dániel",
                                    "METTOL": "2017-01-05",
                                    "MEDDIG": "2017-01-08",
                                    "(No column name)": "7"
                                },
                                {
                                    "USERNEV": "daniel1",
                                    "NEV": "Keszler Dániel",
                                    "METTOL": "2017-03-01",
                                    "MEDDIG": "2017-03-06",
                                    "(No column name)": "7"
                                },
                                {
                                    "USERNEV": "david",
                                    "NEV": "Ambrus Dávid",
                                    "METTOL": "2016-05-18",
                                    "MEDDIG": "2016-05-25",
                                    "(No column name)": "NULL"
                                },
                                {
                                    "USERNEV": "david",
                                    "NEV": "Ambrus Dávid",
                                    "METTOL": "2016-06-09",
                                    "MEDDIG": "2016-06-10",
                                    "(No column name)": "2"
                                },
                                {
                                    "USERNEV": "david",
                                    "NEV": "Ambrus Dávid",
                                    "METTOL": "2016-06-30",
                                    "MEDDIG": "2016-07-07",
                                    "(No column name)": "4"
                                },
                                {
                                    "USERNEV": "david",
                                    "NEV": "Ambrus Dávid",
                                    "METTOL": "2016-07-18",
                                    "MEDDIG": "2016-07-21",
                                    "(No column name)": "6"
                                },
                                {
                                    "USERNEV": "david",
                                    "NEV": "Ambrus Dávid",
                                    "METTOL": "2016-08-05",
                                    "MEDDIG": "2016-08-12",
                                    "(No column name)": "6"
                                },
                                {
                                    "USERNEV": "david",
                                    "NEV": "Ambrus Dávid",
                                    "METTOL": "2016-08-20",
                                    "MEDDIG": "2016-08-25",
                                    "(No column name)": "5"
                                },
                                {
                                    "USERNEV": "david",
                                    "NEV": "Ambrus Dávid",
                                    "METTOL": "2016-08-22",
                                    "MEDDIG": "2016-08-24",
                                    "(No column name)": "6"
                                },
                                {
                                    "USERNEV": "david",
                                    "NEV": "Ambrus Dávid",
                                    "METTOL": "2016-10-30",
                                    "MEDDIG": "2016-11-04",
                                    "(No column name)": "7"
                                },
                                {
                                    "USERNEV": "david",
                                    "NEV": "Ambrus Dávid",
                                    "METTOL": "2017-01-18",
                                    "MEDDIG": "2017-01-19",
                                    "(No column name)": "8"
                                },
                                {
                                    "USERNEV": "david1",
                                    "NEV": "Sobják Dávid",
                                    "METTOL": "2016-09-20",
                                    "MEDDIG": "2016-09-21",
                                    "(No column name)": "NULL"
                                },
                                {
                                    "USERNEV": "david1",
                                    "NEV": "Sobják Dávid",
                                    "METTOL": "2016-10-01",
                                    "MEDDIG": "2016-10-02",
                                    "(No column name)": "2"
                                },
                                {
                                    "USERNEV": "david1",
                                    "NEV": "Sobják Dávid",
                                    "METTOL": "2016-11-19",
                                    "MEDDIG": "2016-11-22",
                                    "(No column name)": "4"
                                },
                                {
                                    "USERNEV": "david1",
                                    "NEV": "Sobják Dávid",
                                    "METTOL": "2016-12-30",
                                    "MEDDIG": "2017-01-06",
                                    "(No column name)": "6"
                                },
                                {
                                    "USERNEV": "david1",
                                    "NEV": "Sobják Dávid",
                                    "METTOL": "2017-02-17",
                                    "MEDDIG": "2017-02-20",
                                    "(No column name)": "6"
                                },
                                {
                                    "USERNEV": "david1",
                                    "NEV": "Sobják Dávid",
                                    "METTOL": "2017-02-25",
                                    "MEDDIG": "2017-02-27",
                                    "(No column name)": "7"
                                },
                                {
                                    "USERNEV": "david4",
                                    "NEV": "Berta Dávid",
                                    "METTOL": "2017-02-16",
                                    "MEDDIG": "2017-02-19",
                                    "(No column name)": "NULL"
                                },
                                {
                                    "USERNEV": "debora",
                                    "NEV": "Barna Debóra",
                                    "METTOL": "2016-06-22",
                                    "MEDDIG": "2016-06-24",
                                    "(No column name)": "NULL"
                                },
                                {
                                    "USERNEV": "debora",
                                    "NEV": "Barna Debóra",
                                    "METTOL": "2016-10-29",
                                    "MEDDIG": "2016-11-03",
                                    "(No column name)": "5"
                                },
                                {
                                    "USERNEV": "debora",
                                    "NEV": "Barna Debóra",
                                    "METTOL": "2017-01-23",
                                    "MEDDIG": "2017-01-28",
                                    "(No column name)": "7"
                                },
                                {
                                    "USERNEV": "debora",
                                    "NEV": "Barna Debóra",
                                    "METTOL": "2017-02-04",
                                    "MEDDIG": "2017-02-06",
                                    "(No column name)": "10"
                                },
                                {
                                    "USERNEV": "denes",
                                    "NEV": "Tömböly Dénes",
                                    "METTOL": "2016-05-27",
                                    "MEDDIG": "2016-05-31",
                                    "(No column name)": "NULL"
                                },
                                {
                                    "USERNEV": "denes",
                                    "NEV": "Tömböly Dénes",
                                    "METTOL": "2016-07-19",
                                    "MEDDIG": "2016-07-23",
                                    "(No column name)": "3"
                                },
                                {
                                    "USERNEV": "denes",
                                    "NEV": "Tömböly Dénes",
                                    "METTOL": "2016-08-01",
                                    "MEDDIG": "2016-08-08",
                                    "(No column name)": "5"
                                },
                                {
                                    "USERNEV": "denes",
                                    "NEV": "Tömböly Dénes",
                                    "METTOL": "2016-08-16",
                                    "MEDDIG": "2016-08-23",
                                    "(No column name)": "8"
                                },
                                {
                                    "USERNEV": "denes",
                                    "NEV": "Tömböly Dénes",
                                    "METTOL": "2016-08-20",
                                    "MEDDIG": "2016-08-27",
                                    "(No column name)": "7"
                                },
                                {
                                    "USERNEV": "denes",
                                    "NEV": "Tömböly Dénes",
                                    "METTOL": "2016-11-06",
                                    "MEDDIG": "2016-11-10",
                                    "(No column name)": "8"
                                },
                                {
                                    "USERNEV": "dora3",
                                    "NEV": "Sarodi Dóra",
                                    "METTOL": "2016-08-16",
                                    "MEDDIG": "2016-08-19",
                                    "(No column name)": "NULL"
                                },
                                {
                                    "USERNEV": "dora3",
                                    "NEV": "Sarodi Dóra",
                                    "METTOL": "2016-08-25",
                                    "MEDDIG": "2016-08-29",
                                    "(No column name)": "4"
                                },
                                {
                                    "USERNEV": "dora3",
                                    "NEV": "Sarodi Dóra",
                                    "METTOL": "2016-10-09",
                                    "MEDDIG": "2016-10-12",
                                    "(No column name)": "7"
                                },
                                {
                                    "USERNEV": "dora3",
                                    "NEV": "Sarodi Dóra",
                                    "METTOL": "2016-10-29",
                                    "MEDDIG": "2016-11-02",
                                    "(No column name)": "10"
                                },
                                {
                                    "USERNEV": "dora3",
                                    "NEV": "Sarodi Dóra",
                                    "METTOL": "2016-11-22",
                                    "MEDDIG": "2016-11-29",
                                    "(No column name)": "9"
                                },
                                {
                                    "USERNEV": "edit",
                                    "NEV": "Bittmann Edit",
                                    "METTOL": "2016-07-14",
                                    "MEDDIG": "2016-07-17",
                                    "(No column name)": "NULL"
                                },
                                {
                                    "USERNEV": "edit",
                                    "NEV": "Bittmann Edit",
                                    "METTOL": "2016-08-03",
                                    "MEDDIG": "2016-08-09",
                                    "(No column name)": "3"
                                },
                                {
                                    "USERNEV": "edit",
                                    "NEV": "Bittmann Edit",
                                    "METTOL": "2016-08-12",
                                    "MEDDIG": "2016-08-14",
                                    "(No column name)": "7"
                                },
                                {
                                    "USERNEV": "edit",
                                    "NEV": "Bittmann Edit",
                                    "METTOL": "2016-09-17",
                                    "MEDDIG": "2016-09-24",
                                    "(No column name)": "9"
                                },
                                {
                                    "USERNEV": "edit",
                                    "NEV": "Bittmann Edit",
                                    "METTOL": "2016-09-18",
                                    "MEDDIG": "2016-09-21",
                                    "(No column name)": "8"
                                },
                                {
                                    "USERNEV": "edit",
                                    "NEV": "Bittmann Edit",
                                    "METTOL": "2017-01-15",
                                    "MEDDIG": "2017-01-18",
                                    "(No column name)": "7"
                                },
                                {
                                    "USERNEV": "edit",
                                    "NEV": "Bittmann Edit",
                                    "METTOL": "2017-02-08",
                                    "MEDDIG": "2017-02-14",
                                    "(No column name)": "9"
                                },
                                {
                                    "USERNEV": "emese",
                                    "NEV": "Kuruc Emese",
                                    "METTOL": "2016-07-22",
                                    "MEDDIG": "2016-07-24",
                                    "(No column name)": "NULL"
                                },
                                {
                                    "USERNEV": "emese",
                                    "NEV": "Kuruc Emese",
                                    "METTOL": "2016-08-09",
                                    "MEDDIG": "2016-08-12",
                                    "(No column name)": "2"
                                },
                                {
                                    "USERNEV": "emese",
                                    "NEV": "Kuruc Emese",
                                    "METTOL": "2016-09-27",
                                    "MEDDIG": "2016-09-28",
                                    "(No column name)": "4"
                                },
                                {
                                    "USERNEV": "emese",
                                    "NEV": "Kuruc Emese",
                                    "METTOL": "2016-11-05",
                                    "MEDDIG": "2016-11-09",
                                    "(No column name)": "7"
                                },
                                {
                                    "USERNEV": "emese",
                                    "NEV": "Kuruc Emese",
                                    "METTOL": "2016-11-23",
                                    "MEDDIG": "2016-11-27",
                                    "(No column name)": "6"
                                },
                                {
                                    "USERNEV": "emese",
                                    "NEV": "Kuruc Emese",
                                    "METTOL": "2016-12-07",
                                    "MEDDIG": "2016-12-08",
                                    "(No column name)": "8"
                                },
                                {
                                    "USERNEV": "emese",
                                    "NEV": "Kuruc Emese",
                                    "METTOL": "2017-01-30",
                                    "MEDDIG": "2017-01-31",
                                    "(No column name)": "8"
                                },
                                {
                                    "USERNEV": "eszter",
                                    "NEV": "Molnár Eszter",
                                    "METTOL": "2016-08-12",
                                    "MEDDIG": "2016-08-18",
                                    "(No column name)": "NULL"
                                },
                                {
                                    "USERNEV": "eszter",
                                    "NEV": "Molnár Eszter",
                                    "METTOL": "2016-10-04",
                                    "MEDDIG": "2016-10-10",
                                    "(No column name)": "3"
                                },
                                {
                                    "USERNEV": "eszter",
                                    "NEV": "Molnár Eszter",
                                    "METTOL": "2016-10-26",
                                    "MEDDIG": "2016-11-01",
                                    "(No column name)": "6"
                                },
                                {
                                    "USERNEV": "eszter",
                                    "NEV": "Molnár Eszter",
                                    "METTOL": "2016-12-23",
                                    "MEDDIG": "2016-12-28",
                                    "(No column name)": "9"
                                },
                                {
                                    "USERNEV": "eszter2",
                                    "NEV": "Balogh Eszter",
                                    "METTOL": "2016-06-30",
                                    "MEDDIG": "2016-07-07",
                                    "(No column name)": "NULL"
                                },
                                {
                                    "USERNEV": "eszter2",
                                    "NEV": "Balogh Eszter",
                                    "METTOL": "2016-07-08",
                                    "MEDDIG": "2016-07-09",
                                    "(No column name)": "3"
                                },
                                {
                                    "USERNEV": "eszter2",
                                    "NEV": "Balogh Eszter",
                                    "METTOL": "2016-10-01",
                                    "MEDDIG": "2016-10-05",
                                    "(No column name)": "4"
                                },
                                {
                                    "USERNEV": "eszter2",
                                    "NEV": "Balogh Eszter",
                                    "METTOL": "2016-10-01",
                                    "MEDDIG": "2016-10-06",
                                    "(No column name)": "7"
                                },
                                {
                                    "USERNEV": "eszter2",
                                    "NEV": "Balogh Eszter",
                                    "METTOL": "2016-10-20",
                                    "MEDDIG": "2016-10-25",
                                    "(No column name)": "5"
                                },
                                {
                                    "USERNEV": "eszter2",
                                    "NEV": "Balogh Eszter",
                                    "METTOL": "2016-10-23",
                                    "MEDDIG": "2016-10-30",
                                    "(No column name)": "5"
                                },
                                {
                                    "USERNEV": "eszter2",
                                    "NEV": "Balogh Eszter",
                                    "METTOL": "2016-11-05",
                                    "MEDDIG": "2016-11-12",
                                    "(No column name)": "3"
                                },
                                {
                                    "USERNEV": "eszter2",
                                    "NEV": "Balogh Eszter",
                                    "METTOL": "2016-12-02",
                                    "MEDDIG": "2016-12-07",
                                    "(No column name)": "6"
                                },
                                {
                                    "USERNEV": "eszter2",
                                    "NEV": "Balogh Eszter",
                                    "METTOL": "2016-12-05",
                                    "MEDDIG": "2016-12-08",
                                    "(No column name)": "6"
                                },
                                {
                                    "USERNEV": "eszter2",
                                    "NEV": "Balogh Eszter",
                                    "METTOL": "2016-12-29",
                                    "MEDDIG": "2017-02-04",
                                    "(No column name)": "7"
                                },
                                {
                                    "USERNEV": "eszter4",
                                    "NEV": "Fülöp Eszter",
                                    "METTOL": "2017-01-05",
                                    "MEDDIG": "2017-01-10",
                                    "(No column name)": "NULL"
                                },
                                {
                                    "USERNEV": "eszter4",
                                    "NEV": "Fülöp Eszter",
                                    "METTOL": "2017-01-26",
                                    "MEDDIG": "2017-02-02",
                                    "(No column name)": "2"
                                },
                                {
                                    "USERNEV": "eszter4",
                                    "NEV": "Fülöp Eszter",
                                    "METTOL": "2017-02-26",
                                    "MEDDIG": "2017-02-27",
                                    "(No column name)": "4"
                                },
                                {
                                    "USERNEV": "ESZTERE",
                                    "NEV": "Érsek Eszter",
                                    "METTOL": "2016-05-30",
                                    "MEDDIG": "2016-06-05",
                                    "(No column name)": "NULL"
                                },
                                {
                                    "USERNEV": "ESZTERE",
                                    "NEV": "Érsek Eszter",
                                    "METTOL": "2016-07-19",
                                    "MEDDIG": "2016-07-21",
                                    "(No column name)": "2"
                                },
                                {
                                    "USERNEV": "ESZTERE",
                                    "NEV": "Érsek Eszter",
                                    "METTOL": "2016-11-01",
                                    "MEDDIG": "2016-11-08",
                                    "(No column name)": "4"
                                },
                                {
                                    "USERNEV": "ESZTERE",
                                    "NEV": "Érsek Eszter",
                                    "METTOL": "2017-02-10",
                                    "MEDDIG": "2017-02-14",
                                    "(No column name)": "6"
                                },
                                {
                                    "USERNEV": "eva",
                                    "NEV": "Enyedi Éva",
                                    "METTOL": "2016-10-06",
                                    "MEDDIG": "2016-10-09",
                                    "(No column name)": "NULL"
                                },
                                {
                                    "USERNEV": "eva",
                                    "NEV": "Enyedi Éva",
                                    "METTOL": "2017-01-14",
                                    "MEDDIG": "2017-01-16",
                                    "(No column name)": "3"
                                },
                                {
                                    "USERNEV": "eva2",
                                    "NEV": "Perlinger Éva",
                                    "METTOL": "2016-09-02",
                                    "MEDDIG": "2016-09-03",
                                    "(No column name)": "NULL"
                                },
                                {
                                    "USERNEV": "eva2",
                                    "NEV": "Perlinger Éva",
                                    "METTOL": "2016-11-06",
                                    "MEDDIG": "2016-11-13",
                                    "(No column name)": "1"
                                },
                                {
                                    "USERNEV": "eva2",
                                    "NEV": "Perlinger Éva",
                                    "METTOL": "2016-12-06",
                                    "MEDDIG": "2016-12-11",
                                    "(No column name)": "3"
                                },
                                {
                                    "USERNEV": "eva2",
                                    "NEV": "Perlinger Éva",
                                    "METTOL": "2017-01-06",
                                    "MEDDIG": "2017-01-09",
                                    "(No column name)": "5"
                                },
                                {
                                    "USERNEV": "EVAV",
                                    "NEV": "Viktor Éva",
                                    "METTOL": "2016-05-01",
                                    "MEDDIG": "2016-05-05",
                                    "(No column name)": "NULL"
                                },
                                {
                                    "USERNEV": "EVAV",
                                    "NEV": "Viktor Éva",
                                    "METTOL": "2016-08-31",
                                    "MEDDIG": "2016-09-04",
                                    "(No column name)": "3"
                                },
                                {
                                    "USERNEV": "EVAV",
                                    "NEV": "Viktor Éva",
                                    "METTOL": "2016-10-15",
                                    "MEDDIG": "2016-10-21",
                                    "(No column name)": "5"
                                },
                                {
                                    "USERNEV": "EVAV",
                                    "NEV": "Viktor Éva",
                                    "METTOL": "2016-10-16",
                                    "MEDDIG": "2016-10-23",
                                    "(No column name)": "8"
                                },
                                {
                                    "USERNEV": "EVAV",
                                    "NEV": "Viktor Éva",
                                    "METTOL": "2017-02-04",
                                    "MEDDIG": "2017-02-11",
                                    "(No column name)": "7"
                                },
                                {
                                    "USERNEV": "ferenc1",
                                    "NEV": "Orosz Ferenc",
                                    "METTOL": "2016-05-08",
                                    "MEDDIG": "2016-05-11",
                                    "(No column name)": "NULL"
                                },
                                {
                                    "USERNEV": "ferenc1",
                                    "NEV": "Orosz Ferenc",
                                    "METTOL": "2016-06-16",
                                    "MEDDIG": "2016-06-22",
                                    "(No column name)": "2"
                                },
                                {
                                    "USERNEV": "ferenc1",
                                    "NEV": "Orosz Ferenc",
                                    "METTOL": "2016-10-08",
                                    "MEDDIG": "2016-10-09",
                                    "(No column name)": "4"
                                },
                                {
                                    "USERNEV": "ferenc1",
                                    "NEV": "Orosz Ferenc",
                                    "METTOL": "2016-11-07",
                                    "MEDDIG": "2016-11-08",
                                    "(No column name)": "6"
                                },
                                {
                                    "USERNEV": "fruzsina4",
                                    "NEV": "Frank Fruzsina",
                                    "METTOL": "2016-06-02",
                                    "MEDDIG": "2016-06-04",
                                    "(No column name)": "NULL"
                                },
                                {
                                    "USERNEV": "fruzsina4",
                                    "NEV": "Frank Fruzsina",
                                    "METTOL": "2016-07-01",
                                    "MEDDIG": "2016-07-04",
                                    "(No column name)": "2"
                                },
                                {
                                    "USERNEV": "fruzsina4",
                                    "NEV": "Frank Fruzsina",
                                    "METTOL": "2016-07-13",
                                    "MEDDIG": "2016-07-19",
                                    "(No column name)": "5"
                                },
                                {
                                    "USERNEV": "fruzsina4",
                                    "NEV": "Frank Fruzsina",
                                    "METTOL": "2016-08-27",
                                    "MEDDIG": "2016-08-30",
                                    "(No column name)": "8"
                                },
                                {
                                    "USERNEV": "fruzsina4",
                                    "NEV": "Frank Fruzsina",
                                    "METTOL": "2016-09-29",
                                    "MEDDIG": "2016-10-01",
                                    "(No column name)": "10"
                                },
                                {
                                    "USERNEV": "fruzsina4",
                                    "NEV": "Frank Fruzsina",
                                    "METTOL": "2016-11-22",
                                    "MEDDIG": "2016-11-24",
                                    "(No column name)": "10"
                                },
                                {
                                    "USERNEV": "fruzsina4",
                                    "NEV": "Frank Fruzsina",
                                    "METTOL": "2016-12-16",
                                    "MEDDIG": "2016-12-21",
                                    "(No column name)": "9"
                                },
                                {
                                    "USERNEV": "fruzsina4",
                                    "NEV": "Frank Fruzsina",
                                    "METTOL": "2017-01-22",
                                    "MEDDIG": "2017-01-25",
                                    "(No column name)": "6"
                                },
                                {
                                    "USERNEV": "gabor1",
                                    "NEV": "Köves Gábor",
                                    "METTOL": "2016-06-20",
                                    "MEDDIG": "2016-06-21",
                                    "(No column name)": "NULL"
                                },
                                {
                                    "USERNEV": "gabor1",
                                    "NEV": "Köves Gábor",
                                    "METTOL": "2016-07-12",
                                    "MEDDIG": "2016-07-15",
                                    "(No column name)": "4"
                                },
                                {
                                    "USERNEV": "gabor1",
                                    "NEV": "Köves Gábor",
                                    "METTOL": "2016-07-28",
                                    "MEDDIG": "2016-07-30",
                                    "(No column name)": "5"
                                },
                                {
                                    "USERNEV": "gabor1",
                                    "NEV": "Köves Gábor",
                                    "METTOL": "2016-09-02",
                                    "MEDDIG": "2016-09-03",
                                    "(No column name)": "7"
                                },
                                {
                                    "USERNEV": "gabor1",
                                    "NEV": "Köves Gábor",
                                    "METTOL": "2016-10-20",
                                    "MEDDIG": "2016-10-24",
                                    "(No column name)": "6"
                                },
                                {
                                    "USERNEV": "gabor1",
                                    "NEV": "Köves Gábor",
                                    "METTOL": "2016-11-19",
                                    "MEDDIG": "2016-11-22",
                                    "(No column name)": "6"
                                },
                                {
                                    "USERNEV": "gabor4",
                                    "NEV": "Telek Gábor",
                                    "METTOL": "2016-04-26",
                                    "MEDDIG": "2016-04-29",
                                    "(No column name)": "NULL"
                                },
                                {
                                    "USERNEV": "gabor4",
                                    "NEV": "Telek Gábor",
                                    "METTOL": "2016-05-30",
                                    "MEDDIG": "2016-06-05",
                                    "(No column name)": "3"
                                },
                                {
                                    "USERNEV": "gabor4",
                                    "NEV": "Telek Gábor",
                                    "METTOL": "2016-08-31",
                                    "MEDDIG": "2016-09-06",
                                    "(No column name)": "4"
                                },
                                {
                                    "USERNEV": "gabor4",
                                    "NEV": "Telek Gábor",
                                    "METTOL": "2016-11-07",
                                    "MEDDIG": "2016-11-13",
                                    "(No column name)": "8"
                                },
                                {
                                    "USERNEV": "gabriella1",
                                    "NEV": "Nagy Gabriella",
                                    "METTOL": "2016-04-21",
                                    "MEDDIG": "2016-04-24",
                                    "(No column name)": "NULL"
                                },
                                {
                                    "USERNEV": "gabriella1",
                                    "NEV": "Nagy Gabriella",
                                    "METTOL": "2016-07-10",
                                    "MEDDIG": "2016-07-11",
                                    "(No column name)": "3"
                                },
                                {
                                    "USERNEV": "gabriella1",
                                    "NEV": "Nagy Gabriella",
                                    "METTOL": "2016-07-24",
                                    "MEDDIG": "2016-07-31",
                                    "(No column name)": "6"
                                },
                                {
                                    "USERNEV": "gabriella1",
                                    "NEV": "Nagy Gabriella",
                                    "METTOL": "2017-02-04",
                                    "MEDDIG": "2017-02-11",
                                    "(No column name)": "8"
                                },
                                {
                                    "USERNEV": "gabriella1",
                                    "NEV": "Nagy Gabriella",
                                    "METTOL": "2017-02-12",
                                    "MEDDIG": "2017-02-13",
                                    "(No column name)": "8"
                                },
                                {
                                    "USERNEV": "gabriella1",
                                    "NEV": "Nagy Gabriella",
                                    "METTOL": "2017-02-21",
                                    "MEDDIG": "2017-02-27",
                                    "(No column name)": "7"
                                },
                                {
                                    "USERNEV": "gabriella10",
                                    "NEV": "Vida Gabriella",
                                    "METTOL": "2016-10-01",
                                    "MEDDIG": "2016-10-06",
                                    "(No column name)": "NULL"
                                },
                                {
                                    "USERNEV": "georgij",
                                    "NEV": "Nyíri Georgij",
                                    "METTOL": "2016-06-16",
                                    "MEDDIG": "2016-06-20",
                                    "(No column name)": "NULL"
                                },
                                {
                                    "USERNEV": "georgij",
                                    "NEV": "Nyíri Georgij",
                                    "METTOL": "2016-08-16",
                                    "MEDDIG": "2016-08-22",
                                    "(No column name)": "3"
                                },
                                {
                                    "USERNEV": "georgij",
                                    "NEV": "Nyíri Georgij",
                                    "METTOL": "2016-08-28",
                                    "MEDDIG": "2016-09-04",
                                    "(No column name)": "7"
                                },
                                {
                                    "USERNEV": "georgij",
                                    "NEV": "Nyíri Georgij",
                                    "METTOL": "2016-09-18",
                                    "MEDDIG": "2016-09-24",
                                    "(No column name)": "9"
                                },
                                {
                                    "USERNEV": "gusztav",
                                    "NEV": "Bárci Gusztáv",
                                    "METTOL": "2016-05-06",
                                    "MEDDIG": "2016-05-13",
                                    "(No column name)": "NULL"
                                },
                                {
                                    "USERNEV": "gusztav",
                                    "NEV": "Bárci Gusztáv",
                                    "METTOL": "2016-08-05",
                                    "MEDDIG": "2016-08-11",
                                    "(No column name)": "2"
                                },
                                {
                                    "USERNEV": "gusztav",
                                    "NEV": "Bárci Gusztáv",
                                    "METTOL": "2016-10-01",
                                    "MEDDIG": "2016-10-03",
                                    "(No column name)": "5"
                                },
                                {
                                    "USERNEV": "gusztav",
                                    "NEV": "Bárci Gusztáv",
                                    "METTOL": "2017-02-03",
                                    "MEDDIG": "2017-02-09",
                                    "(No column name)": "8"
                                },
                                {
                                    "USERNEV": "gusztav",
                                    "NEV": "Bárci Gusztáv",
                                    "METTOL": "2017-02-23",
                                    "MEDDIG": "2017-03-01",
                                    "(No column name)": "8"
                                },
                                {
                                    "USERNEV": "GYONGYIK",
                                    "NEV": "Kornseé Gyöngyi",
                                    "METTOL": "2016-06-02",
                                    "MEDDIG": "2016-06-05",
                                    "(No column name)": "NULL"
                                },
                                {
                                    "USERNEV": "GYONGYIK",
                                    "NEV": "Kornseé Gyöngyi",
                                    "METTOL": "2016-06-10",
                                    "MEDDIG": "2016-06-17",
                                    "(No column name)": "3"
                                },
                                {
                                    "USERNEV": "GYONGYIK",
                                    "NEV": "Kornseé Gyöngyi",
                                    "METTOL": "2016-07-01",
                                    "MEDDIG": "2016-07-05",
                                    "(No column name)": "4"
                                },
                                {
                                    "USERNEV": "GYONGYIK",
                                    "NEV": "Kornseé Gyöngyi",
                                    "METTOL": "2016-08-17",
                                    "MEDDIG": "2016-08-21",
                                    "(No column name)": "6"
                                },
                                {
                                    "USERNEV": "GYONGYIK",
                                    "NEV": "Kornseé Gyöngyi",
                                    "METTOL": "2016-11-08",
                                    "MEDDIG": "2016-11-13",
                                    "(No column name)": "6"
                                },
                                {
                                    "USERNEV": "GYONGYIK",
                                    "NEV": "Kornseé Gyöngyi",
                                    "METTOL": "2016-12-01",
                                    "MEDDIG": "2016-12-08",
                                    "(No column name)": "7"
                                },
                                {
                                    "USERNEV": "GYONGYIK",
                                    "NEV": "Kornseé Gyöngyi",
                                    "METTOL": "2017-01-22",
                                    "MEDDIG": "2017-01-29",
                                    "(No column name)": "7"
                                },
                                {
                                    "USERNEV": "GYORGYO",
                                    "NEV": "Oroszi György",
                                    "METTOL": "2016-05-27",
                                    "MEDDIG": "2016-05-28",
                                    "(No column name)": "NULL"
                                },
                                {
                                    "USERNEV": "GYORGYO",
                                    "NEV": "Oroszi György",
                                    "METTOL": "2016-06-01",
                                    "MEDDIG": "2016-06-07",
                                    "(No column name)": "3"
                                },
                                {
                                    "USERNEV": "GYORGYO",
                                    "NEV": "Oroszi György",
                                    "METTOL": "2016-06-10",
                                    "MEDDIG": "2016-06-15",
                                    "(No column name)": "5"
                                },
                                {
                                    "USERNEV": "GYORGYO",
                                    "NEV": "Oroszi György",
                                    "METTOL": "2016-07-18",
                                    "MEDDIG": "2016-07-25",
                                    "(No column name)": "7"
                                },
                                {
                                    "USERNEV": "GYORGYO",
                                    "NEV": "Oroszi György",
                                    "METTOL": "2016-07-28",
                                    "MEDDIG": "2016-08-03",
                                    "(No column name)": "6"
                                },
                                {
                                    "USERNEV": "GYORGYO",
                                    "NEV": "Oroszi György",
                                    "METTOL": "2016-10-28",
                                    "MEDDIG": "2016-10-31",
                                    "(No column name)": "7"
                                },
                                {
                                    "USERNEV": "GYORGYO",
                                    "NEV": "Oroszi György",
                                    "METTOL": "2017-02-13",
                                    "MEDDIG": "2017-02-15",
                                    "(No column name)": "6"
                                },
                                {
                                    "USERNEV": "GYORGYO",
                                    "NEV": "Oroszi György",
                                    "METTOL": "2017-02-24",
                                    "MEDDIG": "2017-02-25",
                                    "(No column name)": "6"
                                },
                                {
                                    "USERNEV": "henrik3",
                                    "NEV": "Nádudvari Henrik",
                                    "METTOL": "2016-08-24",
                                    "MEDDIG": "2016-08-28",
                                    "(No column name)": "NULL"
                                },
                                {
                                    "USERNEV": "henrik3",
                                    "NEV": "Nádudvari Henrik",
                                    "METTOL": "2016-12-29",
                                    "MEDDIG": "2017-01-03",
                                    "(No column name)": "1"
                                },
                                {
                                    "USERNEV": "henrik3",
                                    "NEV": "Nádudvari Henrik",
                                    "METTOL": "2017-01-27",
                                    "MEDDIG": "2017-01-28",
                                    "(No column name)": "4"
                                },
                                {
                                    "USERNEV": "IBOLYAA",
                                    "NEV": "Andor Ibolya",
                                    "METTOL": "2016-08-29",
                                    "MEDDIG": "2016-08-31",
                                    "(No column name)": "NULL"
                                },
                                {
                                    "USERNEV": "IBOLYAA",
                                    "NEV": "Andor Ibolya",
                                    "METTOL": "2016-10-23",
                                    "MEDDIG": "2016-10-28",
                                    "(No column name)": "5"
                                },
                                {
                                    "USERNEV": "IBOLYAA",
                                    "NEV": "Andor Ibolya",
                                    "METTOL": "2017-01-17",
                                    "MEDDIG": "2017-01-23",
                                    "(No column name)": "7"
                                },
                                {
                                    "USERNEV": "ilona3",
                                    "NEV": "Bosnyák Ilona",
                                    "METTOL": "2016-07-31",
                                    "MEDDIG": "2016-08-06",
                                    "(No column name)": "NULL"
                                },
                                {
                                    "USERNEV": "ilona3",
                                    "NEV": "Bosnyák Ilona",
                                    "METTOL": "2016-08-04",
                                    "MEDDIG": "2016-08-08",
                                    "(No column name)": "2"
                                },
                                {
                                    "USERNEV": "ilona3",
                                    "NEV": "Bosnyák Ilona",
                                    "METTOL": "2016-11-04",
                                    "MEDDIG": "2016-11-06",
                                    "(No column name)": "5"
                                },
                                {
                                    "USERNEV": "ilona3",
                                    "NEV": "Bosnyák Ilona",
                                    "METTOL": "2016-12-25",
                                    "MEDDIG": "2016-12-31",
                                    "(No column name)": "9"
                                },
                                {
                                    "USERNEV": "imre",
                                    "NEV": "Búza Imre",
                                    "METTOL": "2016-09-17",
                                    "MEDDIG": "2016-09-19",
                                    "(No column name)": "NULL"
                                },
                                {
                                    "USERNEV": "imre",
                                    "NEV": "Búza Imre",
                                    "METTOL": "2016-10-28",
                                    "MEDDIG": "2016-10-29",
                                    "(No column name)": "3"
                                },
                                {
                                    "USERNEV": "imre1",
                                    "NEV": "Papp Imre",
                                    "METTOL": "2016-06-23",
                                    "MEDDIG": "2016-06-26",
                                    "(No column name)": "NULL"
                                },
                                {
                                    "USERNEV": "imre1",
                                    "NEV": "Papp Imre",
                                    "METTOL": "2016-06-27",
                                    "MEDDIG": "2016-06-28",
                                    "(No column name)": "4"
                                },
                                {
                                    "USERNEV": "imre1",
                                    "NEV": "Papp Imre",
                                    "METTOL": "2016-08-21",
                                    "MEDDIG": "2016-08-27",
                                    "(No column name)": "6"
                                },
                                {
                                    "USERNEV": "imre1",
                                    "NEV": "Papp Imre",
                                    "METTOL": "2016-08-23",
                                    "MEDDIG": "2016-08-25",
                                    "(No column name)": "8"
                                },
                                {
                                    "USERNEV": "imre1",
                                    "NEV": "Papp Imre",
                                    "METTOL": "2016-08-29",
                                    "MEDDIG": "2016-08-31",
                                    "(No column name)": "7"
                                },
                                {
                                    "USERNEV": "imre1",
                                    "NEV": "Papp Imre",
                                    "METTOL": "2017-02-01",
                                    "MEDDIG": "2017-02-04",
                                    "(No column name)": "7"
                                },
                                {
                                    "USERNEV": "imre1",
                                    "NEV": "Papp Imre",
                                    "METTOL": "2017-02-05",
                                    "MEDDIG": "2017-02-07",
                                    "(No column name)": "7"
                                },
                                {
                                    "USERNEV": "istvan",
                                    "NEV": "Soós István",
                                    "METTOL": "2016-10-07",
                                    "MEDDIG": "2016-10-10",
                                    "(No column name)": "NULL"
                                },
                                {
                                    "USERNEV": "istvan",
                                    "NEV": "Soós István",
                                    "METTOL": "2016-11-22",
                                    "MEDDIG": "2016-11-24",
                                    "(No column name)": "2"
                                },
                                {
                                    "USERNEV": "istvan",
                                    "NEV": "Soós István",
                                    "METTOL": "2017-01-02",
                                    "MEDDIG": "2017-01-05",
                                    "(No column name)": "5"
                                },
                                {
                                    "USERNEV": "istvan1",
                                    "NEV": "Vizi István",
                                    "METTOL": "2016-04-16",
                                    "MEDDIG": "2016-04-22",
                                    "(No column name)": "NULL"
                                },
                                {
                                    "USERNEV": "istvan1",
                                    "NEV": "Vizi István",
                                    "METTOL": "2016-04-24",
                                    "MEDDIG": "2016-04-28",
                                    "(No column name)": "3"
                                },
                                {
                                    "USERNEV": "istvan1",
                                    "NEV": "Vizi István",
                                    "METTOL": "2016-07-19",
                                    "MEDDIG": "2016-07-24",
                                    "(No column name)": "6"
                                },
                                {
                                    "USERNEV": "istvan1",
                                    "NEV": "Vizi István",
                                    "METTOL": "2017-02-07",
                                    "MEDDIG": "2017-02-10",
                                    "(No column name)": "7"
                                },
                                {
                                    "USERNEV": "ISTVANV",
                                    "NEV": "Varga István",
                                    "METTOL": "2016-07-01",
                                    "MEDDIG": "2016-07-04",
                                    "(No column name)": "NULL"
                                },
                                {
                                    "USERNEV": "ISTVANV",
                                    "NEV": "Varga István",
                                    "METTOL": "2016-09-29",
                                    "MEDDIG": "2016-10-01",
                                    "(No column name)": "4"
                                },
                                {
                                    "USERNEV": "janos3",
                                    "NEV": "Harangozó János",
                                    "METTOL": "2016-06-04",
                                    "MEDDIG": "2016-06-06",
                                    "(No column name)": "NULL"
                                },
                                {
                                    "USERNEV": "janos3",
                                    "NEV": "Harangozó János",
                                    "METTOL": "2016-08-24",
                                    "MEDDIG": "2016-08-25",
                                    "(No column name)": "1"
                                },
                                {
                                    "USERNEV": "janos3",
                                    "NEV": "Harangozó János",
                                    "METTOL": "2016-10-03",
                                    "MEDDIG": "2016-10-08",
                                    "(No column name)": "4"
                                },
                                {
                                    "USERNEV": "janos3",
                                    "NEV": "Harangozó János",
                                    "METTOL": "2016-10-22",
                                    "MEDDIG": "2016-10-23",
                                    "(No column name)": "7"
                                },
                                {
                                    "USERNEV": "janos3",
                                    "NEV": "Harangozó János",
                                    "METTOL": "2017-02-12",
                                    "MEDDIG": "2017-02-14",
                                    "(No column name)": "7"
                                },
                                {
                                    "USERNEV": "JANOSG",
                                    "NEV": "Giliga János",
                                    "METTOL": "2016-05-09",
                                    "MEDDIG": "2016-05-15",
                                    "(No column name)": "NULL"
                                },
                                {
                                    "USERNEV": "JANOSG",
                                    "NEV": "Giliga János",
                                    "METTOL": "2016-08-16",
                                    "MEDDIG": "2016-08-23",
                                    "(No column name)": "1"
                                },
                                {
                                    "USERNEV": "JANOSG",
                                    "NEV": "Giliga János",
                                    "METTOL": "2016-08-30",
                                    "MEDDIG": "2016-09-03",
                                    "(No column name)": "4"
                                },
                                {
                                    "USERNEV": "JANOSG",
                                    "NEV": "Giliga János",
                                    "METTOL": "2016-11-07",
                                    "MEDDIG": "2016-11-14",
                                    "(No column name)": "7"
                                },
                                {
                                    "USERNEV": "JANOSG",
                                    "NEV": "Giliga János",
                                    "METTOL": "2016-12-28",
                                    "MEDDIG": "2016-12-30",
                                    "(No column name)": "9"
                                },
                                {
                                    "USERNEV": "JANOSG",
                                    "NEV": "Giliga János",
                                    "METTOL": "2017-01-10",
                                    "MEDDIG": "2017-01-15",
                                    "(No column name)": "8"
                                },
                                {
                                    "USERNEV": "JANOSG",
                                    "NEV": "Giliga János",
                                    "METTOL": "2017-01-31",
                                    "MEDDIG": "2017-02-05",
                                    "(No column name)": "7"
                                },
                                {
                                    "USERNEV": "JANOSP",
                                    "NEV": "Pálinkás János",
                                    "METTOL": "2016-07-04",
                                    "MEDDIG": "2016-07-11",
                                    "(No column name)": "NULL"
                                },
                                {
                                    "USERNEV": "JANOSP",
                                    "NEV": "Pálinkás János",
                                    "METTOL": "2016-11-23",
                                    "MEDDIG": "2016-11-28",
                                    "(No column name)": "3"
                                },
                                {
                                    "USERNEV": "JANOSP",
                                    "NEV": "Pálinkás János",
                                    "METTOL": "2016-11-25",
                                    "MEDDIG": "2016-11-27",
                                    "(No column name)": "5"
                                },
                                {
                                    "USERNEV": "JANOSP",
                                    "NEV": "Pálinkás János",
                                    "METTOL": "2016-12-18",
                                    "MEDDIG": "2016-12-21",
                                    "(No column name)": "7"
                                },
                                {
                                    "USERNEV": "jozsef",
                                    "NEV": "Gergely József",
                                    "METTOL": "2016-09-13",
                                    "MEDDIG": "2016-09-19",
                                    "(No column name)": "NULL"
                                },
                                {
                                    "USERNEV": "jozsef",
                                    "NEV": "Gergely József",
                                    "METTOL": "2016-10-08",
                                    "MEDDIG": "2016-10-10",
                                    "(No column name)": "2"
                                },
                                {
                                    "USERNEV": "jozsef",
                                    "NEV": "Gergely József",
                                    "METTOL": "2016-12-06",
                                    "MEDDIG": "2016-12-07",
                                    "(No column name)": "4"
                                },
                                {
                                    "USERNEV": "jozsef2",
                                    "NEV": "Vajda József",
                                    "METTOL": "2016-07-06",
                                    "MEDDIG": "2016-07-11",
                                    "(No column name)": "NULL"
                                },
                                {
                                    "USERNEV": "jozsef2",
                                    "NEV": "Vajda József",
                                    "METTOL": "2016-07-16",
                                    "MEDDIG": "2016-07-20",
                                    "(No column name)": "2"
                                },
                                {
                                    "USERNEV": "jozsef2",
                                    "NEV": "Vajda József",
                                    "METTOL": "2016-09-09",
                                    "MEDDIG": "2016-09-15",
                                    "(No column name)": "5"
                                },
                                {
                                    "USERNEV": "jozsef2",
                                    "NEV": "Vajda József",
                                    "METTOL": "2016-11-23",
                                    "MEDDIG": "2016-11-29",
                                    "(No column name)": "7"
                                },
                                {
                                    "USERNEV": "jozsef2",
                                    "NEV": "Vajda József",
                                    "METTOL": "2016-11-25",
                                    "MEDDIG": "2016-11-29",
                                    "(No column name)": "8"
                                },
                                {
                                    "USERNEV": "JOZSEFG",
                                    "NEV": "Gyuris József",
                                    "METTOL": "2016-05-02",
                                    "MEDDIG": "2016-05-06",
                                    "(No column name)": "NULL"
                                },
                                {
                                    "USERNEV": "JOZSEFG",
                                    "NEV": "Gyuris József",
                                    "METTOL": "2016-05-23",
                                    "MEDDIG": "2016-05-25",
                                    "(No column name)": "2"
                                },
                                {
                                    "USERNEV": "JOZSEFG",
                                    "NEV": "Gyuris József",
                                    "METTOL": "2016-06-04",
                                    "MEDDIG": "2016-06-09",
                                    "(No column name)": "3"
                                },
                                {
                                    "USERNEV": "JOZSEFG",
                                    "NEV": "Gyuris József",
                                    "METTOL": "2016-08-24",
                                    "MEDDIG": "2016-08-27",
                                    "(No column name)": "7"
                                },
                                {
                                    "USERNEV": "JOZSEFG",
                                    "NEV": "Gyuris József",
                                    "METTOL": "2017-01-09",
                                    "MEDDIG": "2017-01-13",
                                    "(No column name)": "8"
                                },
                                {
                                    "USERNEV": "JOZSEFG",
                                    "NEV": "Gyuris József",
                                    "METTOL": "2017-01-22",
                                    "MEDDIG": "2017-01-26",
                                    "(No column name)": "9"
                                },
                                {
                                    "USERNEV": "JOZSEFG",
                                    "NEV": "Gyuris József",
                                    "METTOL": "2017-02-24",
                                    "MEDDIG": "2017-03-03",
                                    "(No column name)": "6"
                                },
                                {
                                    "USERNEV": "JUDITH",
                                    "NEV": "Hídasi Judit",
                                    "METTOL": "2016-06-06",
                                    "MEDDIG": "2016-06-10",
                                    "(No column name)": "NULL"
                                },
                                {
                                    "USERNEV": "JUDITH",
                                    "NEV": "Hídasi Judit",
                                    "METTOL": "2016-07-28",
                                    "MEDDIG": "2016-07-30",
                                    "(No column name)": "2"
                                },
                                {
                                    "USERNEV": "JUDITH",
                                    "NEV": "Hídasi Judit",
                                    "METTOL": "2016-12-19",
                                    "MEDDIG": "2016-12-26",
                                    "(No column name)": "4"
                                },
                                {
                                    "USERNEV": "julia",
                                    "NEV": "Tóth Júlia",
                                    "METTOL": "2016-04-21",
                                    "MEDDIG": "2016-04-26",
                                    "(No column name)": "NULL"
                                },
                                {
                                    "USERNEV": "julia",
                                    "NEV": "Tóth Júlia",
                                    "METTOL": "2016-05-12",
                                    "MEDDIG": "2016-05-17",
                                    "(No column name)": "2"
                                },
                                {
                                    "USERNEV": "julia",
                                    "NEV": "Tóth Júlia",
                                    "METTOL": "2016-06-07",
                                    "MEDDIG": "2016-06-08",
                                    "(No column name)": "3"
                                },
                                {
                                    "USERNEV": "julia",
                                    "NEV": "Tóth Júlia",
                                    "METTOL": "2016-07-20",
                                    "MEDDIG": "2016-07-22",
                                    "(No column name)": "8"
                                },
                                {
                                    "USERNEV": "julia",
                                    "NEV": "Tóth Júlia",
                                    "METTOL": "2017-02-27",
                                    "MEDDIG": "2017-03-06",
                                    "(No column name)": "8"
                                },
                                {
                                    "USERNEV": "julia4",
                                    "NEV": "Nagy Júlia",
                                    "METTOL": "2016-11-07",
                                    "MEDDIG": "2016-11-12",
                                    "(No column name)": "NULL"
                                },
                                {
                                    "USERNEV": "julia4",
                                    "NEV": "Nagy Júlia",
                                    "METTOL": "2017-02-04",
                                    "MEDDIG": "2017-02-11",
                                    "(No column name)": "1"
                                },
                                {
                                    "USERNEV": "julianna4",
                                    "NEV": "Szabó Julianna",
                                    "METTOL": "2016-07-20",
                                    "MEDDIG": "2016-07-26",
                                    "(No column name)": "NULL"
                                },
                                {
                                    "USERNEV": "julianna4",
                                    "NEV": "Szabó Julianna",
                                    "METTOL": "2016-10-29",
                                    "MEDDIG": "2016-10-31",
                                    "(No column name)": "2"
                                },
                                {
                                    "USERNEV": "julianna4",
                                    "NEV": "Szabó Julianna",
                                    "METTOL": "2016-11-03",
                                    "MEDDIG": "2016-11-04",
                                    "(No column name)": "5"
                                },
                                {
                                    "USERNEV": "julianna4",
                                    "NEV": "Szabó Julianna",
                                    "METTOL": "2016-11-27",
                                    "MEDDIG": "2016-12-04",
                                    "(No column name)": "7"
                                },
                                {
                                    "USERNEV": "kata",
                                    "NEV": "Gondos Katalin",
                                    "METTOL": "2016-04-10",
                                    "MEDDIG": "2016-04-11",
                                    "(No column name)": "NULL"
                                },
                                {
                                    "USERNEV": "kata",
                                    "NEV": "Gondos Katalin",
                                    "METTOL": "2016-04-25",
                                    "MEDDIG": "2016-05-01",
                                    "(No column name)": "2"
                                },
                                {
                                    "USERNEV": "kata",
                                    "NEV": "Gondos Katalin",
                                    "METTOL": "2016-05-31",
                                    "MEDDIG": "2016-06-01",
                                    "(No column name)": "3"
                                },
                                {
                                    "USERNEV": "kata",
                                    "NEV": "Gondos Katalin",
                                    "METTOL": "2016-06-07",
                                    "MEDDIG": "2016-06-12",
                                    "(No column name)": "6"
                                },
                                {
                                    "USERNEV": "kata",
                                    "NEV": "Gondos Katalin",
                                    "METTOL": "2016-07-01",
                                    "MEDDIG": "2016-07-07",
                                    "(No column name)": "6"
                                },
                                {
                                    "USERNEV": "kata",
                                    "NEV": "Gondos Katalin",
                                    "METTOL": "2016-07-03",
                                    "MEDDIG": "2016-07-06",
                                    "(No column name)": "7"
                                },
                                {
                                    "USERNEV": "kata",
                                    "NEV": "Gondos Katalin",
                                    "METTOL": "2016-07-07",
                                    "MEDDIG": "2016-07-09",
                                    "(No column name)": "5"
                                },
                                {
                                    "USERNEV": "kata",
                                    "NEV": "Gondos Katalin",
                                    "METTOL": "2016-08-24",
                                    "MEDDIG": "2016-08-27",
                                    "(No column name)": "6"
                                },
                                {
                                    "USERNEV": "kata",
                                    "NEV": "Gondos Katalin",
                                    "METTOL": "2016-09-19",
                                    "MEDDIG": "2016-09-20",
                                    "(No column name)": "7"
                                },
                                {
                                    "USERNEV": "kata",
                                    "NEV": "Gondos Katalin",
                                    "METTOL": "2017-01-15",
                                    "MEDDIG": "2017-01-21",
                                    "(No column name)": "9"
                                },
                                {
                                    "USERNEV": "katalin",
                                    "NEV": "Horváth Katalin",
                                    "METTOL": "2016-04-10",
                                    "MEDDIG": "2016-04-17",
                                    "(No column name)": "NULL"
                                },
                                {
                                    "USERNEV": "katalin",
                                    "NEV": "Horváth Katalin",
                                    "METTOL": "2016-05-21",
                                    "MEDDIG": "2016-05-26",
                                    "(No column name)": "2"
                                },
                                {
                                    "USERNEV": "katalin",
                                    "NEV": "Horváth Katalin",
                                    "METTOL": "2016-07-06",
                                    "MEDDIG": "2016-07-11",
                                    "(No column name)": "3"
                                },
                                {
                                    "USERNEV": "katalin",
                                    "NEV": "Horváth Katalin",
                                    "METTOL": "2016-07-28",
                                    "MEDDIG": "2016-07-29",
                                    "(No column name)": "4"
                                },
                                {
                                    "USERNEV": "katalin",
                                    "NEV": "Horváth Katalin",
                                    "METTOL": "2016-10-26",
                                    "MEDDIG": "2016-10-30",
                                    "(No column name)": "3"
                                },
                                {
                                    "USERNEV": "katalin",
                                    "NEV": "Horváth Katalin",
                                    "METTOL": "2016-12-13",
                                    "MEDDIG": "2016-12-19",
                                    "(No column name)": "4"
                                },
                                {
                                    "USERNEV": "katalin",
                                    "NEV": "Horváth Katalin",
                                    "METTOL": "2016-12-17",
                                    "MEDDIG": "2016-12-24",
                                    "(No column name)": "5"
                                },
                                {
                                    "USERNEV": "katalin",
                                    "NEV": "Horváth Katalin",
                                    "METTOL": "2016-12-24",
                                    "MEDDIG": "2016-12-27",
                                    "(No column name)": "5"
                                },
                                {
                                    "USERNEV": "katalin",
                                    "NEV": "Horváth Katalin",
                                    "METTOL": "2017-02-24",
                                    "MEDDIG": "2017-02-27",
                                    "(No column name)": "5"
                                },
                                {
                                    "USERNEV": "katalin4",
                                    "NEV": "Kertész Katalin",
                                    "METTOL": "2016-07-01",
                                    "MEDDIG": "2016-07-07",
                                    "(No column name)": "NULL"
                                },
                                {
                                    "USERNEV": "katalin4",
                                    "NEV": "Kertész Katalin",
                                    "METTOL": "2016-07-03",
                                    "MEDDIG": "2016-07-04",
                                    "(No column name)": "1"
                                },
                                {
                                    "USERNEV": "katalin4",
                                    "NEV": "Kertész Katalin",
                                    "METTOL": "2016-11-27",
                                    "MEDDIG": "2016-12-04",
                                    "(No column name)": "5"
                                },
                                {
                                    "USERNEV": "katalin4",
                                    "NEV": "Kertész Katalin",
                                    "METTOL": "2016-12-04",
                                    "MEDDIG": "2016-12-09",
                                    "(No column name)": "8"
                                },
                                {
                                    "USERNEV": "katalin4",
                                    "NEV": "Kertész Katalin",
                                    "METTOL": "2017-01-18",
                                    "MEDDIG": "2017-01-20",
                                    "(No column name)": "10"
                                },
                                {
                                    "USERNEV": "katalin4",
                                    "NEV": "Kertész Katalin",
                                    "METTOL": "2017-01-24",
                                    "MEDDIG": "2017-01-31",
                                    "(No column name)": "8"
                                },
                                {
                                    "USERNEV": "kati",
                                    "NEV": "Zatykó Katalin",
                                    "METTOL": "2016-06-06",
                                    "MEDDIG": "2016-06-10",
                                    "(No column name)": "NULL"
                                },
                                {
                                    "USERNEV": "kati",
                                    "NEV": "Zatykó Katalin",
                                    "METTOL": "2016-06-06",
                                    "MEDDIG": "2016-06-11",
                                    "(No column name)": "2"
                                },
                                {
                                    "USERNEV": "kati",
                                    "NEV": "Zatykó Katalin",
                                    "METTOL": "2016-07-13",
                                    "MEDDIG": "2016-07-20",
                                    "(No column name)": "5"
                                },
                                {
                                    "USERNEV": "kati",
                                    "NEV": "Zatykó Katalin",
                                    "METTOL": "2016-07-27",
                                    "MEDDIG": "2016-08-03",
                                    "(No column name)": "7"
                                },
                                {
                                    "USERNEV": "kati",
                                    "NEV": "Zatykó Katalin",
                                    "METTOL": "2016-08-03",
                                    "MEDDIG": "2016-08-07",
                                    "(No column name)": "7"
                                },
                                {
                                    "USERNEV": "kati",
                                    "NEV": "Zatykó Katalin",
                                    "METTOL": "2016-10-26",
                                    "MEDDIG": "2016-10-28",
                                    "(No column name)": "6"
                                },
                                {
                                    "USERNEV": "kati",
                                    "NEV": "Zatykó Katalin",
                                    "METTOL": "2016-10-30",
                                    "MEDDIG": "2016-11-01",
                                    "(No column name)": "6"
                                },
                                {
                                    "USERNEV": "katka",
                                    "NEV": "Kovács Katalin",
                                    "METTOL": "2016-04-10",
                                    "MEDDIG": "2016-04-12",
                                    "(No column name)": "NULL"
                                },
                                {
                                    "USERNEV": "katka",
                                    "NEV": "Kovács Katalin",
                                    "METTOL": "2016-05-09",
                                    "MEDDIG": "2016-05-15",
                                    "(No column name)": "2"
                                },
                                {
                                    "USERNEV": "katka",
                                    "NEV": "Kovács Katalin",
                                    "METTOL": "2016-06-13",
                                    "MEDDIG": "2016-06-18",
                                    "(No column name)": "5"
                                },
                                {
                                    "USERNEV": "katka",
                                    "NEV": "Kovács Katalin",
                                    "METTOL": "2016-06-13",
                                    "MEDDIG": "2016-06-19",
                                    "(No column name)": "6"
                                },
                                {
                                    "USERNEV": "katka",
                                    "NEV": "Kovács Katalin",
                                    "METTOL": "2016-08-24",
                                    "MEDDIG": "2016-08-26",
                                    "(No column name)": "8"
                                },
                                {
                                    "USERNEV": "katka",
                                    "NEV": "Kovács Katalin",
                                    "METTOL": "2016-09-05",
                                    "MEDDIG": "2016-09-10",
                                    "(No column name)": "7"
                                },
                                {
                                    "USERNEV": "katka",
                                    "NEV": "Kovács Katalin",
                                    "METTOL": "2016-11-05",
                                    "MEDDIG": "2016-11-08",
                                    "(No column name)": "10"
                                },
                                {
                                    "USERNEV": "katka",
                                    "NEV": "Kovács Katalin",
                                    "METTOL": "2017-01-02",
                                    "MEDDIG": "2017-01-05",
                                    "(No column name)": "9"
                                },
                                {
                                    "USERNEV": "katka",
                                    "NEV": "Kovács Katalin",
                                    "METTOL": "2017-01-19",
                                    "MEDDIG": "2017-01-20",
                                    "(No column name)": "10"
                                },
                                {
                                    "USERNEV": "klaudia2",
                                    "NEV": "Bakó Klaudia",
                                    "METTOL": "2016-06-06",
                                    "MEDDIG": "2016-06-08",
                                    "(No column name)": "NULL"
                                },
                                {
                                    "USERNEV": "klaudia2",
                                    "NEV": "Bakó Klaudia",
                                    "METTOL": "2016-10-01",
                                    "MEDDIG": "2016-10-02",
                                    "(No column name)": "4"
                                },
                                {
                                    "USERNEV": "klaudia2",
                                    "NEV": "Bakó Klaudia",
                                    "METTOL": "2016-10-02",
                                    "MEDDIG": "2016-10-05",
                                    "(No column name)": "6"
                                },
                                {
                                    "USERNEV": "kornel4",
                                    "NEV": "Lukács Kornél",
                                    "METTOL": "2016-05-08",
                                    "MEDDIG": "2016-05-14",
                                    "(No column name)": "NULL"
                                },
                                {
                                    "USERNEV": "kornel4",
                                    "NEV": "Lukács Kornél",
                                    "METTOL": "2016-06-02",
                                    "MEDDIG": "2016-06-09",
                                    "(No column name)": "3"
                                },
                                {
                                    "USERNEV": "kornel4",
                                    "NEV": "Lukács Kornél",
                                    "METTOL": "2016-09-23",
                                    "MEDDIG": "2016-09-24",
                                    "(No column name)": "6"
                                },
                                {
                                    "USERNEV": "kristof4",
                                    "NEV": "Poprádi Kristóf",
                                    "METTOL": "2016-04-08",
                                    "MEDDIG": "2016-04-14",
                                    "(No column name)": "NULL"
                                },
                                {
                                    "USERNEV": "kristof4",
                                    "NEV": "Poprádi Kristóf",
                                    "METTOL": "2016-09-30",
                                    "MEDDIG": "2016-10-04",
                                    "(No column name)": "2"
                                },
                                {
                                    "USERNEV": "kriszti",
                                    "NEV": "Horváth Krisztina",
                                    "METTOL": "2016-05-19",
                                    "MEDDIG": "2016-05-26",
                                    "(No column name)": "NULL"
                                },
                                {
                                    "USERNEV": "kriszti",
                                    "NEV": "Horváth Krisztina",
                                    "METTOL": "2016-08-24",
                                    "MEDDIG": "2016-08-25",
                                    "(No column name)": "2"
                                },
                                {
                                    "USERNEV": "kriszti",
                                    "NEV": "Horváth Krisztina",
                                    "METTOL": "2016-09-30",
                                    "MEDDIG": "2016-10-05",
                                    "(No column name)": "5"
                                },
                                {
                                    "USERNEV": "kriszti",
                                    "NEV": "Horváth Krisztina",
                                    "METTOL": "2016-10-01",
                                    "MEDDIG": "2016-10-02",
                                    "(No column name)": "8"
                                },
                                {
                                    "USERNEV": "kriszti",
                                    "NEV": "Horváth Krisztina",
                                    "METTOL": "2017-02-04",
                                    "MEDDIG": "2017-02-11",
                                    "(No column name)": "9"
                                },
                                {
                                    "USERNEV": "kriszti",
                                    "NEV": "Horváth Krisztina",
                                    "METTOL": "2017-03-03",
                                    "MEDDIG": "2017-03-04",
                                    "(No column name)": "9"
                                },
                                {
                                    "USERNEV": "krisztian4",
                                    "NEV": "Czérna Krisztián",
                                    "METTOL": "2016-06-03",
                                    "MEDDIG": "2016-06-04",
                                    "(No column name)": "NULL"
                                },
                                {
                                    "USERNEV": "krisztian4",
                                    "NEV": "Czérna Krisztián",
                                    "METTOL": "2016-06-07",
                                    "MEDDIG": "2016-06-09",
                                    "(No column name)": "2"
                                },
                                {
                                    "USERNEV": "krisztian4",
                                    "NEV": "Czérna Krisztián",
                                    "METTOL": "2016-07-28",
                                    "MEDDIG": "2016-08-01",
                                    "(No column name)": "4"
                                },
                                {
                                    "USERNEV": "krisztian4",
                                    "NEV": "Czérna Krisztián",
                                    "METTOL": "2016-08-01",
                                    "MEDDIG": "2016-08-04",
                                    "(No column name)": "6"
                                },
                                {
                                    "USERNEV": "krisztian4",
                                    "NEV": "Czérna Krisztián",
                                    "METTOL": "2016-08-16",
                                    "MEDDIG": "2016-08-19",
                                    "(No column name)": "7"
                                },
                                {
                                    "USERNEV": "krisztian4",
                                    "NEV": "Czérna Krisztián",
                                    "METTOL": "2016-08-29",
                                    "MEDDIG": "2016-09-03",
                                    "(No column name)": "6"
                                },
                                {
                                    "USERNEV": "krisztian4",
                                    "NEV": "Czérna Krisztián",
                                    "METTOL": "2016-10-17",
                                    "MEDDIG": "2016-10-22",
                                    "(No column name)": "5"
                                },
                                {
                                    "USERNEV": "krisztian4",
                                    "NEV": "Czérna Krisztián",
                                    "METTOL": "2016-11-02",
                                    "MEDDIG": "2016-11-03",
                                    "(No column name)": "5"
                                },
                                {
                                    "USERNEV": "krisztian4",
                                    "NEV": "Czérna Krisztián",
                                    "METTOL": "2016-12-11",
                                    "MEDDIG": "2016-12-18",
                                    "(No column name)": "6"
                                },
                                {
                                    "USERNEV": "krisztian4",
                                    "NEV": "Czérna Krisztián",
                                    "METTOL": "2017-01-06",
                                    "MEDDIG": "2017-01-09",
                                    "(No column name)": "7"
                                },
                                {
                                    "USERNEV": "krisztian4",
                                    "NEV": "Czérna Krisztián",
                                    "METTOL": "2017-01-16",
                                    "MEDDIG": "2017-01-23",
                                    "(No column name)": "5"
                                },
                                {
                                    "USERNEV": "krisztian4",
                                    "NEV": "Czérna Krisztián",
                                    "METTOL": "2017-02-23",
                                    "MEDDIG": "2017-03-02",
                                    "(No column name)": "6"
                                },
                                {
                                    "USERNEV": "KRISZTIANM",
                                    "NEV": "Mogyródi Krisztián",
                                    "METTOL": "2016-04-09",
                                    "MEDDIG": "2016-04-15",
                                    "(No column name)": "NULL"
                                },
                                {
                                    "USERNEV": "KRISZTIANM",
                                    "NEV": "Mogyródi Krisztián",
                                    "METTOL": "2016-06-04",
                                    "MEDDIG": "2016-06-08",
                                    "(No column name)": "2"
                                },
                                {
                                    "USERNEV": "KRISZTIANM",
                                    "NEV": "Mogyródi Krisztián",
                                    "METTOL": "2016-07-09",
                                    "MEDDIG": "2016-07-14",
                                    "(No column name)": "4"
                                },
                                {
                                    "USERNEV": "KRISZTIANM",
                                    "NEV": "Mogyródi Krisztián",
                                    "METTOL": "2016-08-02",
                                    "MEDDIG": "2016-08-08",
                                    "(No column name)": "7"
                                },
                                {
                                    "USERNEV": "KRISZTIANM",
                                    "NEV": "Mogyródi Krisztián",
                                    "METTOL": "2016-12-25",
                                    "MEDDIG": "2016-12-31",
                                    "(No column name)": "9"
                                },
                                {
                                    "USERNEV": "KRISZTIANM",
                                    "NEV": "Mogyródi Krisztián",
                                    "METTOL": "2017-01-16",
                                    "MEDDIG": "2017-01-23",
                                    "(No column name)": "9"
                                },
                                {
                                    "USERNEV": "krisztina",
                                    "NEV": "Szedlár Krisztina",
                                    "METTOL": "2016-05-21",
                                    "MEDDIG": "2016-05-27",
                                    "(No column name)": "NULL"
                                },
                                {
                                    "USERNEV": "krisztina",
                                    "NEV": "Szedlár Krisztina",
                                    "METTOL": "2016-07-05",
                                    "MEDDIG": "2016-07-12",
                                    "(No column name)": "2"
                                },
                                {
                                    "USERNEV": "krisztina",
                                    "NEV": "Szedlár Krisztina",
                                    "METTOL": "2016-09-13",
                                    "MEDDIG": "2016-09-16",
                                    "(No column name)": "5"
                                },
                                {
                                    "USERNEV": "krisztina",
                                    "NEV": "Szedlár Krisztina",
                                    "METTOL": "2016-09-19",
                                    "MEDDIG": "2016-09-26",
                                    "(No column name)": "6"
                                },
                                {
                                    "USERNEV": "krisztina",
                                    "NEV": "Szedlár Krisztina",
                                    "METTOL": "2016-11-08",
                                    "MEDDIG": "2016-11-12",
                                    "(No column name)": "6"
                                },
                                {
                                    "USERNEV": "krisztina",
                                    "NEV": "Szedlár Krisztina",
                                    "METTOL": "2016-11-22",
                                    "MEDDIG": "2016-11-25",
                                    "(No column name)": "5"
                                },
                                {
                                    "USERNEV": "krisztina",
                                    "NEV": "Szedlár Krisztina",
                                    "METTOL": "2017-02-05",
                                    "MEDDIG": "2017-02-07",
                                    "(No column name)": "5"
                                },
                                {
                                    "USERNEV": "krisztina",
                                    "NEV": "Szedlár Krisztina",
                                    "METTOL": "2017-02-16",
                                    "MEDDIG": "2017-02-20",
                                    "(No column name)": "5"
                                },
                                {
                                    "USERNEV": "krisztina1",
                                    "NEV": "Bori Krisztina",
                                    "METTOL": "2016-04-28",
                                    "MEDDIG": "2016-04-30",
                                    "(No column name)": "NULL"
                                },
                                {
                                    "USERNEV": "krisztina1",
                                    "NEV": "Bori Krisztina",
                                    "METTOL": "2016-05-16",
                                    "MEDDIG": "2016-05-20",
                                    "(No column name)": "2"
                                },
                                {
                                    "USERNEV": "krisztina1",
                                    "NEV": "Bori Krisztina",
                                    "METTOL": "2016-06-16",
                                    "MEDDIG": "2016-06-22",
                                    "(No column name)": "3"
                                },
                                {
                                    "USERNEV": "krisztina1",
                                    "NEV": "Bori Krisztina",
                                    "METTOL": "2016-09-15",
                                    "MEDDIG": "2016-09-20",
                                    "(No column name)": "5"
                                },
                                {
                                    "USERNEV": "krisztina1",
                                    "NEV": "Bori Krisztina",
                                    "METTOL": "2016-10-29",
                                    "MEDDIG": "2016-10-30",
                                    "(No column name)": "6"
                                },
                                {
                                    "USERNEV": "krisztina1",
                                    "NEV": "Bori Krisztina",
                                    "METTOL": "2017-01-21",
                                    "MEDDIG": "2017-01-24",
                                    "(No column name)": "9"
                                },
                                {
                                    "USERNEV": "KRISZTINAG",
                                    "NEV": "Gyárfás Krisztina",
                                    "METTOL": "2016-04-23",
                                    "MEDDIG": "2016-04-24",
                                    "(No column name)": "NULL"
                                },
                                {
                                    "USERNEV": "KRISZTINAG",
                                    "NEV": "Gyárfás Krisztina",
                                    "METTOL": "2016-05-24",
                                    "MEDDIG": "2016-05-31",
                                    "(No column name)": "2"
                                },
                                {
                                    "USERNEV": "KRISZTINAG",
                                    "NEV": "Gyárfás Krisztina",
                                    "METTOL": "2016-06-08",
                                    "MEDDIG": "2016-06-12",
                                    "(No column name)": "3"
                                },
                                {
                                    "USERNEV": "KRISZTINAG",
                                    "NEV": "Gyárfás Krisztina",
                                    "METTOL": "2016-08-08",
                                    "MEDDIG": "2016-08-12",
                                    "(No column name)": "4"
                                },
                                {
                                    "USERNEV": "KRISZTINAG",
                                    "NEV": "Gyárfás Krisztina",
                                    "METTOL": "2017-01-25",
                                    "MEDDIG": "2017-01-30",
                                    "(No column name)": "5"
                                },
                                {
                                    "USERNEV": "lajos",
                                    "NEV": "Kiss Lajos",
                                    "METTOL": "2016-07-18",
                                    "MEDDIG": "2016-07-21",
                                    "(No column name)": "NULL"
                                },
                                {
                                    "USERNEV": "lajos",
                                    "NEV": "Kiss Lajos",
                                    "METTOL": "2016-12-25",
                                    "MEDDIG": "2016-12-28",
                                    "(No column name)": "2"
                                },
                                {
                                    "USERNEV": "lajos",
                                    "NEV": "Kiss Lajos",
                                    "METTOL": "2017-02-12",
                                    "MEDDIG": "2017-02-13",
                                    "(No column name)": "6"
                                },
                                {
                                    "USERNEV": "lala",
                                    "NEV": "Nagymihály Lajos",
                                    "METTOL": "2016-06-16",
                                    "MEDDIG": "2016-06-22",
                                    "(No column name)": "NULL"
                                },
                                {
                                    "USERNEV": "lala",
                                    "NEV": "Nagymihály Lajos",
                                    "METTOL": "2016-07-20",
                                    "MEDDIG": "2016-07-21",
                                    "(No column name)": "2"
                                },
                                {
                                    "USERNEV": "lala",
                                    "NEV": "Nagymihály Lajos",
                                    "METTOL": "2016-07-26",
                                    "MEDDIG": "2016-07-27",
                                    "(No column name)": "5"
                                },
                                {
                                    "USERNEV": "lala",
                                    "NEV": "Nagymihály Lajos",
                                    "METTOL": "2016-10-30",
                                    "MEDDIG": "2016-10-31",
                                    "(No column name)": "8"
                                },
                                {
                                    "USERNEV": "lala",
                                    "NEV": "Nagymihály Lajos",
                                    "METTOL": "2017-01-08",
                                    "MEDDIG": "2017-01-10",
                                    "(No column name)": "9"
                                },
                                {
                                    "USERNEV": "lala",
                                    "NEV": "Nagymihály Lajos",
                                    "METTOL": "2017-01-17",
                                    "MEDDIG": "2017-01-19",
                                    "(No column name)": "9"
                                },
                                {
                                    "USERNEV": "laszlo1",
                                    "NEV": "Farkas László",
                                    "METTOL": "2016-09-23",
                                    "MEDDIG": "2016-09-30",
                                    "(No column name)": "NULL"
                                },
                                {
                                    "USERNEV": "laszlo2",
                                    "NEV": "Móra László",
                                    "METTOL": "2016-04-06",
                                    "MEDDIG": "2016-04-10",
                                    "(No column name)": "NULL"
                                },
                                {
                                    "USERNEV": "laszlo2",
                                    "NEV": "Móra László",
                                    "METTOL": "2016-04-27",
                                    "MEDDIG": "2016-04-29",
                                    "(No column name)": "2"
                                },
                                {
                                    "USERNEV": "laszlo2",
                                    "NEV": "Móra László",
                                    "METTOL": "2016-08-14",
                                    "MEDDIG": "2016-08-15",
                                    "(No column name)": "4"
                                },
                                {
                                    "USERNEV": "laszlo2",
                                    "NEV": "Móra László",
                                    "METTOL": "2016-09-05",
                                    "MEDDIG": "2016-09-10",
                                    "(No column name)": "7"
                                },
                                {
                                    "USERNEV": "laszlo2",
                                    "NEV": "Móra László",
                                    "METTOL": "2016-11-25",
                                    "MEDDIG": "2016-11-26",
                                    "(No column name)": "8"
                                },
                                {
                                    "USERNEV": "LASZLOA",
                                    "NEV": "Antal László",
                                    "METTOL": "2016-06-03",
                                    "MEDDIG": "2016-06-09",
                                    "(No column name)": "NULL"
                                },
                                {
                                    "USERNEV": "LASZLOA",
                                    "NEV": "Antal László",
                                    "METTOL": "2016-06-07",
                                    "MEDDIG": "2016-06-11",
                                    "(No column name)": "2"
                                },
                                {
                                    "USERNEV": "LASZLOA",
                                    "NEV": "Antal László",
                                    "METTOL": "2016-06-10",
                                    "MEDDIG": "2016-06-13",
                                    "(No column name)": "3"
                                },
                                {
                                    "USERNEV": "LASZLOA",
                                    "NEV": "Antal László",
                                    "METTOL": "2017-02-08",
                                    "MEDDIG": "2017-02-14",
                                    "(No column name)": "6"
                                },
                                {
                                    "USERNEV": "LASZLON",
                                    "NEV": "Nagy László",
                                    "METTOL": "2016-06-03",
                                    "MEDDIG": "2016-06-06",
                                    "(No column name)": "NULL"
                                },
                                {
                                    "USERNEV": "LASZLON",
                                    "NEV": "Nagy László",
                                    "METTOL": "2016-06-08",
                                    "MEDDIG": "2016-06-09",
                                    "(No column name)": "1"
                                },
                                {
                                    "USERNEV": "LASZLON",
                                    "NEV": "Nagy László",
                                    "METTOL": "2016-10-01",
                                    "MEDDIG": "2016-10-04",
                                    "(No column name)": "3"
                                },
                                {
                                    "USERNEV": "LASZLON",
                                    "NEV": "Nagy László",
                                    "METTOL": "2016-10-09",
                                    "MEDDIG": "2016-10-14",
                                    "(No column name)": "6"
                                },
                                {
                                    "USERNEV": "LASZLON",
                                    "NEV": "Nagy László",
                                    "METTOL": "2016-11-29",
                                    "MEDDIG": "2016-12-04",
                                    "(No column name)": "6"
                                },
                                {
                                    "USERNEV": "LASZLON",
                                    "NEV": "Nagy László",
                                    "METTOL": "2017-02-18",
                                    "MEDDIG": "2017-02-25",
                                    "(No column name)": "5"
                                },
                                {
                                    "USERNEV": "maria1",
                                    "NEV": "Baráth Mária",
                                    "METTOL": "2016-05-13",
                                    "MEDDIG": "2016-05-18",
                                    "(No column name)": "NULL"
                                },
                                {
                                    "USERNEV": "maria1",
                                    "NEV": "Baráth Mária",
                                    "METTOL": "2016-05-18",
                                    "MEDDIG": "2016-05-19",
                                    "(No column name)": "2"
                                },
                                {
                                    "USERNEV": "maria1",
                                    "NEV": "Baráth Mária",
                                    "METTOL": "2016-05-28",
                                    "MEDDIG": "2016-06-03",
                                    "(No column name)": "3"
                                },
                                {
                                    "USERNEV": "maria1",
                                    "NEV": "Baráth Mária",
                                    "METTOL": "2016-06-23",
                                    "MEDDIG": "2016-06-27",
                                    "(No column name)": "5"
                                },
                                {
                                    "USERNEV": "maria1",
                                    "NEV": "Baráth Mária",
                                    "METTOL": "2016-08-11",
                                    "MEDDIG": "2016-08-14",
                                    "(No column name)": "4"
                                },
                                {
                                    "USERNEV": "maria1",
                                    "NEV": "Baráth Mária",
                                    "METTOL": "2016-09-02",
                                    "MEDDIG": "2016-09-05",
                                    "(No column name)": "6"
                                },
                                {
                                    "USERNEV": "maria1",
                                    "NEV": "Baráth Mária",
                                    "METTOL": "2016-11-08",
                                    "MEDDIG": "2016-11-12",
                                    "(No column name)": "5"
                                },
                                {
                                    "USERNEV": "maria1",
                                    "NEV": "Baráth Mária",
                                    "METTOL": "2017-02-24",
                                    "MEDDIG": "2017-03-02",
                                    "(No column name)": "7"
                                },
                                {
                                    "USERNEV": "mark",
                                    "NEV": "Kispál Márk",
                                    "METTOL": "2016-04-19",
                                    "MEDDIG": "2016-04-26",
                                    "(No column name)": "NULL"
                                },
                                {
                                    "USERNEV": "mark",
                                    "NEV": "Kispál Márk",
                                    "METTOL": "2016-06-13",
                                    "MEDDIG": "2016-06-18",
                                    "(No column name)": "4"
                                },
                                {
                                    "USERNEV": "mark",
                                    "NEV": "Kispál Márk",
                                    "METTOL": "2016-08-09",
                                    "MEDDIG": "2016-08-16",
                                    "(No column name)": "7"
                                },
                                {
                                    "USERNEV": "mark",
                                    "NEV": "Kispál Márk",
                                    "METTOL": "2016-10-20",
                                    "MEDDIG": "2016-10-27",
                                    "(No column name)": "10"
                                },
                                {
                                    "USERNEV": "mark",
                                    "NEV": "Kispál Márk",
                                    "METTOL": "2016-11-19",
                                    "MEDDIG": "2016-11-22",
                                    "(No column name)": "7"
                                },
                                {
                                    "USERNEV": "MARKH",
                                    "NEV": "Horváth Márk",
                                    "METTOL": "2016-09-14",
                                    "MEDDIG": "2016-09-17",
                                    "(No column name)": "NULL"
                                },
                                {
                                    "USERNEV": "MARKH",
                                    "NEV": "Horváth Márk",
                                    "METTOL": "2016-09-23",
                                    "MEDDIG": "2016-09-30",
                                    "(No column name)": "3"
                                },
                                {
                                    "USERNEV": "MARKH",
                                    "NEV": "Horváth Márk",
                                    "METTOL": "2016-09-26",
                                    "MEDDIG": "2016-10-01",
                                    "(No column name)": "5"
                                },
                                {
                                    "USERNEV": "MARKH",
                                    "NEV": "Horváth Márk",
                                    "METTOL": "2017-01-22",
                                    "MEDDIG": "2017-01-29",
                                    "(No column name)": "9"
                                },
                                {
                                    "USERNEV": "marton",
                                    "NEV": "Kalacsi Márton",
                                    "METTOL": "2016-04-27",
                                    "MEDDIG": "2016-05-04",
                                    "(No column name)": "NULL"
                                },
                                {
                                    "USERNEV": "marton",
                                    "NEV": "Kalacsi Márton",
                                    "METTOL": "2016-05-05",
                                    "MEDDIG": "2016-05-10",
                                    "(No column name)": "3"
                                },
                                {
                                    "USERNEV": "marton",
                                    "NEV": "Kalacsi Márton",
                                    "METTOL": "2016-06-06",
                                    "MEDDIG": "2016-06-08",
                                    "(No column name)": "4"
                                },
                                {
                                    "USERNEV": "marton",
                                    "NEV": "Kalacsi Márton",
                                    "METTOL": "2016-06-22",
                                    "MEDDIG": "2016-06-29",
                                    "(No column name)": "7"
                                },
                                {
                                    "USERNEV": "marton",
                                    "NEV": "Kalacsi Márton",
                                    "METTOL": "2016-08-12",
                                    "MEDDIG": "2016-08-17",
                                    "(No column name)": "6"
                                },
                                {
                                    "USERNEV": "marton",
                                    "NEV": "Kalacsi Márton",
                                    "METTOL": "2016-09-10",
                                    "MEDDIG": "2016-09-12",
                                    "(No column name)": "7"
                                },
                                {
                                    "USERNEV": "marton",
                                    "NEV": "Kalacsi Márton",
                                    "METTOL": "2017-03-02",
                                    "MEDDIG": "2017-03-03",
                                    "(No column name)": "6"
                                },
                                {
                                    "USERNEV": "MATEK",
                                    "NEV": "Koza Máté",
                                    "METTOL": "2016-08-17",
                                    "MEDDIG": "2016-08-21",
                                    "(No column name)": "NULL"
                                },
                                {
                                    "USERNEV": "MATEK",
                                    "NEV": "Koza Máté",
                                    "METTOL": "2016-10-01",
                                    "MEDDIG": "2016-10-04",
                                    "(No column name)": "4"
                                },
                                {
                                    "USERNEV": "MATEK",
                                    "NEV": "Koza Máté",
                                    "METTOL": "2017-01-16",
                                    "MEDDIG": "2017-01-22",
                                    "(No column name)": "6"
                                },
                                {
                                    "USERNEV": "matyas2",
                                    "NEV": "Botka Mátyás",
                                    "METTOL": "2016-07-13",
                                    "MEDDIG": "2016-07-16",
                                    "(No column name)": "NULL"
                                },
                                {
                                    "USERNEV": "matyas2",
                                    "NEV": "Botka Mátyás",
                                    "METTOL": "2016-12-09",
                                    "MEDDIG": "2016-12-13",
                                    "(No column name)": "2"
                                },
                                {
                                    "USERNEV": "MATYASS",
                                    "NEV": "Szilágyi Mátyás",
                                    "METTOL": "2016-05-10",
                                    "MEDDIG": "2016-05-16",
                                    "(No column name)": "NULL"
                                },
                                {
                                    "USERNEV": "MATYASS",
                                    "NEV": "Szilágyi Mátyás",
                                    "METTOL": "2016-06-02",
                                    "MEDDIG": "2016-06-08",
                                    "(No column name)": "2"
                                },
                                {
                                    "USERNEV": "MATYASS",
                                    "NEV": "Szilágyi Mátyás",
                                    "METTOL": "2016-07-23",
                                    "MEDDIG": "2016-07-25",
                                    "(No column name)": "3"
                                },
                                {
                                    "USERNEV": "MATYASS",
                                    "NEV": "Szilágyi Mátyás",
                                    "METTOL": "2016-10-09",
                                    "MEDDIG": "2016-10-15",
                                    "(No column name)": "6"
                                },
                                {
                                    "USERNEV": "MATYASS",
                                    "NEV": "Szilágyi Mátyás",
                                    "METTOL": "2016-10-24",
                                    "MEDDIG": "2016-10-31",
                                    "(No column name)": "7"
                                },
                                {
                                    "USERNEV": "MATYASS",
                                    "NEV": "Szilágyi Mátyás",
                                    "METTOL": "2016-10-30",
                                    "MEDDIG": "2016-11-04",
                                    "(No column name)": "7"
                                },
                                {
                                    "USERNEV": "MATYASS",
                                    "NEV": "Szilágyi Mátyás",
                                    "METTOL": "2016-12-20",
                                    "MEDDIG": "2016-12-25",
                                    "(No column name)": "7"
                                },
                                {
                                    "USERNEV": "MATYASS",
                                    "NEV": "Szilágyi Mátyás",
                                    "METTOL": "2017-01-09",
                                    "MEDDIG": "2017-01-13",
                                    "(No column name)": "6"
                                },
                                {
                                    "USERNEV": "MIHALYJ",
                                    "NEV": "Juhász Mihály",
                                    "METTOL": "2016-05-30",
                                    "MEDDIG": "2016-06-01",
                                    "(No column name)": "NULL"
                                },
                                {
                                    "USERNEV": "MIHALYJ",
                                    "NEV": "Juhász Mihály",
                                    "METTOL": "2016-06-27",
                                    "MEDDIG": "2016-07-01",
                                    "(No column name)": "2"
                                },
                                {
                                    "USERNEV": "MIHALYJ",
                                    "NEV": "Juhász Mihály",
                                    "METTOL": "2016-08-29",
                                    "MEDDIG": "2016-09-03",
                                    "(No column name)": "3"
                                },
                                {
                                    "USERNEV": "MIHALYJ",
                                    "NEV": "Juhász Mihály",
                                    "METTOL": "2016-11-01",
                                    "MEDDIG": "2016-11-04",
                                    "(No column name)": "4"
                                },
                                {
                                    "USERNEV": "MIHALYJ",
                                    "NEV": "Juhász Mihály",
                                    "METTOL": "2017-02-06",
                                    "MEDDIG": "2017-02-12",
                                    "(No column name)": "5"
                                },
                                {
                                    "USERNEV": "miklos2",
                                    "NEV": "Gondos Miklós",
                                    "METTOL": "2016-04-19",
                                    "MEDDIG": "2016-04-21",
                                    "(No column name)": "NULL"
                                },
                                {
                                    "USERNEV": "miklos2",
                                    "NEV": "Gondos Miklós",
                                    "METTOL": "2016-10-08",
                                    "MEDDIG": "2016-10-09",
                                    "(No column name)": "3"
                                },
                                {
                                    "USERNEV": "miklos2",
                                    "NEV": "Gondos Miklós",
                                    "METTOL": "2016-11-16",
                                    "MEDDIG": "2016-11-18",
                                    "(No column name)": "4"
                                },
                                {
                                    "USERNEV": "MIKLOSB",
                                    "NEV": "Balla Miklós",
                                    "METTOL": "2016-06-26",
                                    "MEDDIG": "2016-06-30",
                                    "(No column name)": "NULL"
                                },
                                {
                                    "USERNEV": "MIKLOSB",
                                    "NEV": "Balla Miklós",
                                    "METTOL": "2016-07-18",
                                    "MEDDIG": "2016-07-21",
                                    "(No column name)": "2"
                                },
                                {
                                    "USERNEV": "MIKLOSB",
                                    "NEV": "Balla Miklós",
                                    "METTOL": "2016-12-05",
                                    "MEDDIG": "2016-12-10",
                                    "(No column name)": "4"
                                },
                                {
                                    "USERNEV": "MONIKAM",
                                    "NEV": "Mohos Mónika",
                                    "METTOL": "2016-04-29",
                                    "MEDDIG": "2016-05-01",
                                    "(No column name)": "NULL"
                                },
                                {
                                    "USERNEV": "MONIKAM",
                                    "NEV": "Mohos Mónika",
                                    "METTOL": "2016-07-23",
                                    "MEDDIG": "2016-07-30",
                                    "(No column name)": "2"
                                },
                                {
                                    "USERNEV": "MONIKAM",
                                    "NEV": "Mohos Mónika",
                                    "METTOL": "2016-11-09",
                                    "MEDDIG": "2016-11-16",
                                    "(No column name)": "3"
                                },
                                {
                                    "USERNEV": "MONIKAM",
                                    "NEV": "Mohos Mónika",
                                    "METTOL": "2017-01-17",
                                    "MEDDIG": "2017-01-24",
                                    "(No column name)": "5"
                                },
                                {
                                    "USERNEV": "MONIKAM",
                                    "NEV": "Mohos Mónika",
                                    "METTOL": "2017-02-06",
                                    "MEDDIG": "2017-02-09",
                                    "(No column name)": "4"
                                },
                                {
                                    "USERNEV": "MONIKAM",
                                    "NEV": "Mohos Mónika",
                                    "METTOL": "2017-02-23",
                                    "MEDDIG": "2017-02-26",
                                    "(No column name)": "5"
                                },
                                {
                                    "USERNEV": "NANDORF",
                                    "NEV": "Fő Nándor",
                                    "METTOL": "2016-04-06",
                                    "MEDDIG": "2016-04-10",
                                    "(No column name)": "NULL"
                                },
                                {
                                    "USERNEV": "NANDORF",
                                    "NEV": "Fő Nándor",
                                    "METTOL": "2016-11-03",
                                    "MEDDIG": "2016-11-04",
                                    "(No column name)": "3"
                                },
                                {
                                    "USERNEV": "NANDORF",
                                    "NEV": "Fő Nándor",
                                    "METTOL": "2017-02-05",
                                    "MEDDIG": "2017-02-08",
                                    "(No column name)": "6"
                                },
                                {
                                    "USERNEV": "nikolett3",
                                    "NEV": "Horváth Nikolett",
                                    "METTOL": "2016-05-24",
                                    "MEDDIG": "2016-05-29",
                                    "(No column name)": "NULL"
                                },
                                {
                                    "USERNEV": "nikolett3",
                                    "NEV": "Horváth Nikolett",
                                    "METTOL": "2016-06-03",
                                    "MEDDIG": "2016-06-09",
                                    "(No column name)": "2"
                                },
                                {
                                    "USERNEV": "nikolett3",
                                    "NEV": "Horváth Nikolett",
                                    "METTOL": "2016-06-22",
                                    "MEDDIG": "2016-06-24",
                                    "(No column name)": "3"
                                },
                                {
                                    "USERNEV": "nikolett3",
                                    "NEV": "Horváth Nikolett",
                                    "METTOL": "2016-10-22",
                                    "MEDDIG": "2016-10-29",
                                    "(No column name)": "4"
                                },
                                {
                                    "USERNEV": "nikoletta4",
                                    "NEV": "Kő Nikoletta",
                                    "METTOL": "2016-04-08",
                                    "MEDDIG": "2016-04-10",
                                    "(No column name)": "NULL"
                                },
                                {
                                    "USERNEV": "nikoletta4",
                                    "NEV": "Kő Nikoletta",
                                    "METTOL": "2016-05-09",
                                    "MEDDIG": "2016-05-15",
                                    "(No column name)": "2"
                                },
                                {
                                    "USERNEV": "nikoletta4",
                                    "NEV": "Kő Nikoletta",
                                    "METTOL": "2016-05-30",
                                    "MEDDIG": "2016-06-03",
                                    "(No column name)": "4"
                                },
                                {
                                    "USERNEV": "nikoletta4",
                                    "NEV": "Kő Nikoletta",
                                    "METTOL": "2016-06-29",
                                    "MEDDIG": "2016-07-06",
                                    "(No column name)": "7"
                                },
                                {
                                    "USERNEV": "nikoletta4",
                                    "NEV": "Kő Nikoletta",
                                    "METTOL": "2016-08-13",
                                    "MEDDIG": "2016-08-17",
                                    "(No column name)": "7"
                                },
                                {
                                    "USERNEV": "nikoletta4",
                                    "NEV": "Kő Nikoletta",
                                    "METTOL": "2016-12-08",
                                    "MEDDIG": "2016-12-10",
                                    "(No column name)": "8"
                                },
                                {
                                    "USERNEV": "nikoletta4",
                                    "NEV": "Kő Nikoletta",
                                    "METTOL": "2017-02-01",
                                    "MEDDIG": "2017-02-04",
                                    "(No column name)": "10"
                                },
                                {
                                    "USERNEV": "NIKOLETTAT",
                                    "NEV": "Tatár Nikoletta",
                                    "METTOL": "2016-05-22",
                                    "MEDDIG": "2016-05-23",
                                    "(No column name)": "NULL"
                                },
                                {
                                    "USERNEV": "NIKOLETTAT",
                                    "NEV": "Tatár Nikoletta",
                                    "METTOL": "2016-06-07",
                                    "MEDDIG": "2016-06-09",
                                    "(No column name)": "4"
                                },
                                {
                                    "USERNEV": "NIKOLETTAT",
                                    "NEV": "Tatár Nikoletta",
                                    "METTOL": "2016-07-27",
                                    "MEDDIG": "2016-07-29",
                                    "(No column name)": "6"
                                },
                                {
                                    "USERNEV": "NIKOLETTAT",
                                    "NEV": "Tatár Nikoletta",
                                    "METTOL": "2016-09-21",
                                    "MEDDIG": "2016-09-26",
                                    "(No column name)": "10"
                                },
                                {
                                    "USERNEV": "norbert",
                                    "NEV": "Szűcs Norbert",
                                    "METTOL": "2016-07-08",
                                    "MEDDIG": "2016-07-13",
                                    "(No column name)": "NULL"
                                },
                                {
                                    "USERNEV": "norbert",
                                    "NEV": "Szűcs Norbert",
                                    "METTOL": "2016-11-16",
                                    "MEDDIG": "2016-11-23",
                                    "(No column name)": "1"
                                },
                                {
                                    "USERNEV": "norbert",
                                    "NEV": "Szűcs Norbert",
                                    "METTOL": "2016-12-15",
                                    "MEDDIG": "2016-12-18",
                                    "(No column name)": "4"
                                },
                                {
                                    "USERNEV": "norbert",
                                    "NEV": "Szűcs Norbert",
                                    "METTOL": "2017-02-13",
                                    "MEDDIG": "2017-02-15",
                                    "(No column name)": "6"
                                },
                                {
                                    "USERNEV": "norbert",
                                    "NEV": "Szűcs Norbert",
                                    "METTOL": "2017-02-26",
                                    "MEDDIG": "2017-03-01",
                                    "(No column name)": "8"
                                },
                                {
                                    "USERNEV": "norbert2",
                                    "NEV": "Hegedűs Norbert",
                                    "METTOL": "2016-04-19",
                                    "MEDDIG": "2016-04-26",
                                    "(No column name)": "NULL"
                                },
                                {
                                    "USERNEV": "norbert2",
                                    "NEV": "Hegedűs Norbert",
                                    "METTOL": "2016-05-09",
                                    "MEDDIG": "2016-05-10",
                                    "(No column name)": "1"
                                },
                                {
                                    "USERNEV": "norbert2",
                                    "NEV": "Hegedűs Norbert",
                                    "METTOL": "2016-07-13",
                                    "MEDDIG": "2016-07-15",
                                    "(No column name)": "3"
                                },
                                {
                                    "USERNEV": "norbert2",
                                    "NEV": "Hegedűs Norbert",
                                    "METTOL": "2016-07-27",
                                    "MEDDIG": "2016-08-02",
                                    "(No column name)": "6"
                                },
                                {
                                    "USERNEV": "norbert2",
                                    "NEV": "Hegedűs Norbert",
                                    "METTOL": "2016-08-16",
                                    "MEDDIG": "2016-08-19",
                                    "(No column name)": "7"
                                },
                                {
                                    "USERNEV": "norbert2",
                                    "NEV": "Hegedűs Norbert",
                                    "METTOL": "2016-10-31",
                                    "MEDDIG": "2016-11-07",
                                    "(No column name)": "6"
                                },
                                {
                                    "USERNEV": "norbert2",
                                    "NEV": "Hegedűs Norbert",
                                    "METTOL": "2017-01-29",
                                    "MEDDIG": "2017-02-05",
                                    "(No column name)": "5"
                                },
                                {
                                    "USERNEV": "norbert4",
                                    "NEV": "Mile Norbert",
                                    "METTOL": "2016-04-10",
                                    "MEDDIG": "2016-04-13",
                                    "(No column name)": "NULL"
                                },
                                {
                                    "USERNEV": "norbert4",
                                    "NEV": "Mile Norbert",
                                    "METTOL": "2016-05-29",
                                    "MEDDIG": "2016-06-03",
                                    "(No column name)": "2"
                                },
                                {
                                    "USERNEV": "norbert4",
                                    "NEV": "Mile Norbert",
                                    "METTOL": "2016-06-16",
                                    "MEDDIG": "2016-06-17",
                                    "(No column name)": "5"
                                },
                                {
                                    "USERNEV": "norbert4",
                                    "NEV": "Mile Norbert",
                                    "METTOL": "2016-06-16",
                                    "MEDDIG": "2016-06-21",
                                    "(No column name)": "9"
                                },
                                {
                                    "USERNEV": "norbert4",
                                    "NEV": "Mile Norbert",
                                    "METTOL": "2016-10-05",
                                    "MEDDIG": "2016-10-10",
                                    "(No column name)": "10"
                                },
                                {
                                    "USERNEV": "norbert4",
                                    "NEV": "Mile Norbert",
                                    "METTOL": "2016-10-28",
                                    "MEDDIG": "2016-10-31",
                                    "(No column name)": "10"
                                },
                                {
                                    "USERNEV": "norbert4",
                                    "NEV": "Mile Norbert",
                                    "METTOL": "2016-11-30",
                                    "MEDDIG": "2016-12-06",
                                    "(No column name)": "9"
                                },
                                {
                                    "USERNEV": "norbert4",
                                    "NEV": "Mile Norbert",
                                    "METTOL": "2017-02-16",
                                    "MEDDIG": "2017-02-17",
                                    "(No column name)": "9"
                                },
                                {
                                    "USERNEV": "norbert4",
                                    "NEV": "Mile Norbert",
                                    "METTOL": "2017-03-03",
                                    "MEDDIG": "2017-03-07",
                                    "(No column name)": "7"
                                },
                                {
                                    "USERNEV": "norbert5",
                                    "NEV": "Béres Norbert",
                                    "METTOL": "2016-06-24",
                                    "MEDDIG": "2016-06-28",
                                    "(No column name)": "NULL"
                                },
                                {
                                    "USERNEV": "norbert5",
                                    "NEV": "Béres Norbert",
                                    "METTOL": "2016-08-10",
                                    "MEDDIG": "2016-08-11",
                                    "(No column name)": "2"
                                },
                                {
                                    "USERNEV": "norbert5",
                                    "NEV": "Béres Norbert",
                                    "METTOL": "2016-11-05",
                                    "MEDDIG": "2016-11-07",
                                    "(No column name)": "4"
                                },
                                {
                                    "USERNEV": "pal",
                                    "NEV": "Barabás Pál",
                                    "METTOL": "2016-08-14",
                                    "MEDDIG": "2016-08-18",
                                    "(No column name)": "NULL"
                                },
                                {
                                    "USERNEV": "pal",
                                    "NEV": "Barabás Pál",
                                    "METTOL": "2016-09-16",
                                    "MEDDIG": "2016-09-19",
                                    "(No column name)": "3"
                                },
                                {
                                    "USERNEV": "pal",
                                    "NEV": "Barabás Pál",
                                    "METTOL": "2016-12-17",
                                    "MEDDIG": "2016-12-23",
                                    "(No column name)": "5"
                                },
                                {
                                    "USERNEV": "pal",
                                    "NEV": "Barabás Pál",
                                    "METTOL": "2017-02-13",
                                    "MEDDIG": "2017-02-19",
                                    "(No column name)": "8"
                                },
                                {
                                    "USERNEV": "pal",
                                    "NEV": "Barabás Pál",
                                    "METTOL": "2017-02-20",
                                    "MEDDIG": "2017-02-22",
                                    "(No column name)": "8"
                                },
                                {
                                    "USERNEV": "peter1",
                                    "NEV": "Kozma Péter",
                                    "METTOL": "2016-07-14",
                                    "MEDDIG": "2016-07-18",
                                    "(No column name)": "NULL"
                                },
                                {
                                    "USERNEV": "peter1",
                                    "NEV": "Kozma Péter",
                                    "METTOL": "2016-10-26",
                                    "MEDDIG": "2016-11-01",
                                    "(No column name)": "3"
                                },
                                {
                                    "USERNEV": "peter1",
                                    "NEV": "Kozma Péter",
                                    "METTOL": "2017-02-23",
                                    "MEDDIG": "2017-02-26",
                                    "(No column name)": "6"
                                },
                                {
                                    "USERNEV": "peter1",
                                    "NEV": "Kozma Péter",
                                    "METTOL": "2017-02-28",
                                    "MEDDIG": "2017-03-05",
                                    "(No column name)": "9"
                                },
                                {
                                    "USERNEV": "peter2",
                                    "NEV": "Bozsó Péter",
                                    "METTOL": "2016-07-03",
                                    "MEDDIG": "2016-07-08",
                                    "(No column name)": "NULL"
                                },
                                {
                                    "USERNEV": "peter2",
                                    "NEV": "Bozsó Péter",
                                    "METTOL": "2016-10-10",
                                    "MEDDIG": "2016-10-16",
                                    "(No column name)": "2"
                                },
                                {
                                    "USERNEV": "peter2",
                                    "NEV": "Bozsó Péter",
                                    "METTOL": "2016-11-01",
                                    "MEDDIG": "2016-11-02",
                                    "(No column name)": "4"
                                },
                                {
                                    "USERNEV": "peter2",
                                    "NEV": "Bozsó Péter",
                                    "METTOL": "2016-11-15",
                                    "MEDDIG": "2016-11-21",
                                    "(No column name)": "6"
                                },
                                {
                                    "USERNEV": "peter3",
                                    "NEV": "Szalai Péter",
                                    "METTOL": "2016-06-30",
                                    "MEDDIG": "2016-07-05",
                                    "(No column name)": "NULL"
                                },
                                {
                                    "USERNEV": "peter3",
                                    "NEV": "Szalai Péter",
                                    "METTOL": "2016-07-27",
                                    "MEDDIG": "2016-07-31",
                                    "(No column name)": "3"
                                },
                                {
                                    "USERNEV": "peter3",
                                    "NEV": "Szalai Péter",
                                    "METTOL": "2016-10-30",
                                    "MEDDIG": "2016-11-06",
                                    "(No column name)": "7"
                                },
                                {
                                    "USERNEV": "peter3",
                                    "NEV": "Szalai Péter",
                                    "METTOL": "2016-12-25",
                                    "MEDDIG": "2016-12-28",
                                    "(No column name)": "9"
                                },
                                {
                                    "USERNEV": "peter3",
                                    "NEV": "Szalai Péter",
                                    "METTOL": "2017-01-12",
                                    "MEDDIG": "2017-01-17",
                                    "(No column name)": "7"
                                },
                                {
                                    "USERNEV": "peter3",
                                    "NEV": "Szalai Péter",
                                    "METTOL": "2017-02-21",
                                    "MEDDIG": "2017-02-24",
                                    "(No column name)": "4"
                                },
                                {
                                    "USERNEV": "peter4",
                                    "NEV": "Bíró Péter",
                                    "METTOL": "2016-04-12",
                                    "MEDDIG": "2016-04-15",
                                    "(No column name)": "NULL"
                                },
                                {
                                    "USERNEV": "peter4",
                                    "NEV": "Bíró Péter",
                                    "METTOL": "2016-08-06",
                                    "MEDDIG": "2016-08-13",
                                    "(No column name)": "3"
                                },
                                {
                                    "USERNEV": "peter4",
                                    "NEV": "Bíró Péter",
                                    "METTOL": "2016-08-24",
                                    "MEDDIG": "2016-08-25",
                                    "(No column name)": "5"
                                },
                                {
                                    "USERNEV": "peter4",
                                    "NEV": "Bíró Péter",
                                    "METTOL": "2016-09-11",
                                    "MEDDIG": "2016-09-17",
                                    "(No column name)": "8"
                                },
                                {
                                    "USERNEV": "peter4",
                                    "NEV": "Bíró Péter",
                                    "METTOL": "2016-09-25",
                                    "MEDDIG": "2016-09-26",
                                    "(No column name)": "9"
                                },
                                {
                                    "USERNEV": "peter4",
                                    "NEV": "Bíró Péter",
                                    "METTOL": "2016-09-30",
                                    "MEDDIG": "2016-10-06",
                                    "(No column name)": "10"
                                },
                                {
                                    "USERNEV": "peter4",
                                    "NEV": "Bíró Péter",
                                    "METTOL": "2016-10-09",
                                    "MEDDIG": "2016-10-16",
                                    "(No column name)": "10"
                                },
                                {
                                    "USERNEV": "peter4",
                                    "NEV": "Bíró Péter",
                                    "METTOL": "2016-10-24",
                                    "MEDDIG": "2016-10-25",
                                    "(No column name)": "9"
                                },
                                {
                                    "USERNEV": "peter4",
                                    "NEV": "Bíró Péter",
                                    "METTOL": "2016-10-30",
                                    "MEDDIG": "2016-11-01",
                                    "(No column name)": "8"
                                },
                                {
                                    "USERNEV": "peter4",
                                    "NEV": "Bíró Péter",
                                    "METTOL": "2016-11-10",
                                    "MEDDIG": "2016-11-17",
                                    "(No column name)": "8"
                                },
                                {
                                    "USERNEV": "peter4",
                                    "NEV": "Bíró Péter",
                                    "METTOL": "2016-11-25",
                                    "MEDDIG": "2016-11-30",
                                    "(No column name)": "8"
                                },
                                {
                                    "USERNEV": "peter4",
                                    "NEV": "Bíró Péter",
                                    "METTOL": "2017-02-05",
                                    "MEDDIG": "2017-02-09",
                                    "(No column name)": "9"
                                },
                                {
                                    "USERNEV": "PETERB",
                                    "NEV": "Berendi Péter",
                                    "METTOL": "2016-04-06",
                                    "MEDDIG": "2016-04-10",
                                    "(No column name)": "NULL"
                                },
                                {
                                    "USERNEV": "PETERB",
                                    "NEV": "Berendi Péter",
                                    "METTOL": "2016-07-20",
                                    "MEDDIG": "2016-07-24",
                                    "(No column name)": "1"
                                },
                                {
                                    "USERNEV": "PETERB",
                                    "NEV": "Berendi Péter",
                                    "METTOL": "2016-08-16",
                                    "MEDDIG": "2016-08-23",
                                    "(No column name)": "3"
                                },
                                {
                                    "USERNEV": "PETERB",
                                    "NEV": "Berendi Péter",
                                    "METTOL": "2016-10-19",
                                    "MEDDIG": "2016-10-20",
                                    "(No column name)": "4"
                                },
                                {
                                    "USERNEV": "PETERB",
                                    "NEV": "Berendi Péter",
                                    "METTOL": "2016-11-17",
                                    "MEDDIG": "2016-11-20",
                                    "(No column name)": "7"
                                },
                                {
                                    "USERNEV": "polla",
                                    "NEV": "Palágyi Polla",
                                    "METTOL": "2016-04-17",
                                    "MEDDIG": "2016-04-22",
                                    "(No column name)": "NULL"
                                },
                                {
                                    "USERNEV": "polla",
                                    "NEV": "Palágyi Polla",
                                    "METTOL": "2016-05-28",
                                    "MEDDIG": "2016-06-04",
                                    "(No column name)": "3"
                                },
                                {
                                    "USERNEV": "polla",
                                    "NEV": "Palágyi Polla",
                                    "METTOL": "2016-08-14",
                                    "MEDDIG": "2016-08-17",
                                    "(No column name)": "5"
                                },
                                {
                                    "USERNEV": "polla",
                                    "NEV": "Palágyi Polla",
                                    "METTOL": "2016-08-16",
                                    "MEDDIG": "2016-08-19",
                                    "(No column name)": "7"
                                },
                                {
                                    "USERNEV": "polla",
                                    "NEV": "Palágyi Polla",
                                    "METTOL": "2017-01-29",
                                    "MEDDIG": "2017-02-01",
                                    "(No column name)": "8"
                                },
                                {
                                    "USERNEV": "polla",
                                    "NEV": "Palágyi Polla",
                                    "METTOL": "2017-02-11",
                                    "MEDDIG": "2017-02-16",
                                    "(No column name)": "8"
                                },
                                {
                                    "USERNEV": "rajmond4",
                                    "NEV": "Rácz Rajmond",
                                    "METTOL": "2016-09-05",
                                    "MEDDIG": "2016-09-07",
                                    "(No column name)": "NULL"
                                },
                                {
                                    "USERNEV": "rajmond4",
                                    "NEV": "Rácz Rajmond",
                                    "METTOL": "2016-10-03",
                                    "MEDDIG": "2016-10-04",
                                    "(No column name)": "3"
                                },
                                {
                                    "USERNEV": "rajmond4",
                                    "NEV": "Rácz Rajmond",
                                    "METTOL": "2016-11-08",
                                    "MEDDIG": "2016-11-09",
                                    "(No column name)": "6"
                                },
                                {
                                    "USERNEV": "rajmond4",
                                    "NEV": "Rácz Rajmond",
                                    "METTOL": "2016-11-16",
                                    "MEDDIG": "2016-11-20",
                                    "(No column name)": "10"
                                },
                                {
                                    "USERNEV": "reka4",
                                    "NEV": "Szikszai Réka",
                                    "METTOL": "2016-07-27",
                                    "MEDDIG": "2016-07-31",
                                    "(No column name)": "NULL"
                                },
                                {
                                    "USERNEV": "reka4",
                                    "NEV": "Szikszai Réka",
                                    "METTOL": "2016-08-02",
                                    "MEDDIG": "2016-08-04",
                                    "(No column name)": "2"
                                },
                                {
                                    "USERNEV": "reka4",
                                    "NEV": "Szikszai Réka",
                                    "METTOL": "2016-09-05",
                                    "MEDDIG": "2016-09-07",
                                    "(No column name)": "6"
                                },
                                {
                                    "USERNEV": "reka4",
                                    "NEV": "Szikszai Réka",
                                    "METTOL": "2016-09-30",
                                    "MEDDIG": "2016-10-06",
                                    "(No column name)": "9"
                                },
                                {
                                    "USERNEV": "reka4",
                                    "NEV": "Szikszai Réka",
                                    "METTOL": "2017-02-26",
                                    "MEDDIG": "2017-03-04",
                                    "(No column name)": "9"
                                },
                                {
                                    "USERNEV": "RENATAK",
                                    "NEV": "Kardos Renáta",
                                    "METTOL": "2016-10-27",
                                    "MEDDIG": "2016-10-29",
                                    "(No column name)": "NULL"
                                },
                                {
                                    "USERNEV": "RENATAK",
                                    "NEV": "Kardos Renáta",
                                    "METTOL": "2016-10-30",
                                    "MEDDIG": "2016-10-31",
                                    "(No column name)": "4"
                                },
                                {
                                    "USERNEV": "RENATAK",
                                    "NEV": "Kardos Renáta",
                                    "METTOL": "2016-11-23",
                                    "MEDDIG": "2016-11-26",
                                    "(No column name)": "5"
                                },
                                {
                                    "USERNEV": "RENATAK",
                                    "NEV": "Kardos Renáta",
                                    "METTOL": "2017-01-23",
                                    "MEDDIG": "2017-01-24",
                                    "(No column name)": "6"
                                },
                                {
                                    "USERNEV": "RENATAK",
                                    "NEV": "Kardos Renáta",
                                    "METTOL": "2017-02-16",
                                    "MEDDIG": "2017-02-23",
                                    "(No column name)": "5"
                                },
                                {
                                    "USERNEV": "RENATAK",
                                    "NEV": "Kardos Renáta",
                                    "METTOL": "2017-03-01",
                                    "MEDDIG": "2017-03-06",
                                    "(No column name)": "5"
                                },
                                {
                                    "USERNEV": "RENATAS",
                                    "NEV": "Szirmai Renáta",
                                    "METTOL": "2016-05-04",
                                    "MEDDIG": "2016-05-11",
                                    "(No column name)": "NULL"
                                },
                                {
                                    "USERNEV": "RENATAS",
                                    "NEV": "Szirmai Renáta",
                                    "METTOL": "2016-05-11",
                                    "MEDDIG": "2016-05-16",
                                    "(No column name)": "2"
                                },
                                {
                                    "USERNEV": "RENATAS",
                                    "NEV": "Szirmai Renáta",
                                    "METTOL": "2016-06-24",
                                    "MEDDIG": "2016-06-30",
                                    "(No column name)": "4"
                                },
                                {
                                    "USERNEV": "RENATAS",
                                    "NEV": "Szirmai Renáta",
                                    "METTOL": "2017-02-13",
                                    "MEDDIG": "2017-02-17",
                                    "(No column name)": "9"
                                },
                                {
                                    "USERNEV": "RENATAS",
                                    "NEV": "Szirmai Renáta",
                                    "METTOL": "2017-02-14",
                                    "MEDDIG": "2017-02-17",
                                    "(No column name)": "8"
                                },
                                {
                                    "USERNEV": "robert2",
                                    "NEV": "Patay Róbert",
                                    "METTOL": "2016-05-15",
                                    "MEDDIG": "2016-05-18",
                                    "(No column name)": "NULL"
                                },
                                {
                                    "USERNEV": "robert2",
                                    "NEV": "Patay Róbert",
                                    "METTOL": "2016-08-20",
                                    "MEDDIG": "2016-08-27",
                                    "(No column name)": "2"
                                },
                                {
                                    "USERNEV": "robert2",
                                    "NEV": "Patay Róbert",
                                    "METTOL": "2016-10-23",
                                    "MEDDIG": "2016-10-28",
                                    "(No column name)": "4"
                                },
                                {
                                    "USERNEV": "robert2",
                                    "NEV": "Patay Róbert",
                                    "METTOL": "2016-12-17",
                                    "MEDDIG": "2016-12-22",
                                    "(No column name)": "7"
                                },
                                {
                                    "USERNEV": "ROBERTI",
                                    "NEV": "Iván Róbert",
                                    "METTOL": "2016-07-12",
                                    "MEDDIG": "2016-07-19",
                                    "(No column name)": "NULL"
                                },
                                {
                                    "USERNEV": "ROBERTI",
                                    "NEV": "Iván Róbert",
                                    "METTOL": "2016-08-16",
                                    "MEDDIG": "2016-08-21",
                                    "(No column name)": "4"
                                },
                                {
                                    "USERNEV": "ROBERTI",
                                    "NEV": "Iván Róbert",
                                    "METTOL": "2016-08-23",
                                    "MEDDIG": "2016-08-25",
                                    "(No column name)": "6"
                                },
                                {
                                    "USERNEV": "ROBERTI",
                                    "NEV": "Iván Róbert",
                                    "METTOL": "2016-10-08",
                                    "MEDDIG": "2016-10-12",
                                    "(No column name)": "8"
                                },
                                {
                                    "USERNEV": "ROBERTI",
                                    "NEV": "Iván Róbert",
                                    "METTOL": "2016-10-09",
                                    "MEDDIG": "2016-10-10",
                                    "(No column name)": "7"
                                },
                                {
                                    "USERNEV": "ROBERTI",
                                    "NEV": "Iván Róbert",
                                    "METTOL": "2016-10-23",
                                    "MEDDIG": "2016-10-29",
                                    "(No column name)": "7"
                                },
                                {
                                    "USERNEV": "ROBERTI",
                                    "NEV": "Iván Róbert",
                                    "METTOL": "2016-10-26",
                                    "MEDDIG": "2016-11-01",
                                    "(No column name)": "6"
                                },
                                {
                                    "USERNEV": "ROBERTI",
                                    "NEV": "Iván Róbert",
                                    "METTOL": "2017-02-17",
                                    "MEDDIG": "2017-02-20",
                                    "(No column name)": "5"
                                },
                                {
                                    "USERNEV": "ROBERTP",
                                    "NEV": "Pásztor Róbert",
                                    "METTOL": "2016-07-30",
                                    "MEDDIG": "2016-08-05",
                                    "(No column name)": "NULL"
                                },
                                {
                                    "USERNEV": "ROBERTP",
                                    "NEV": "Pásztor Róbert",
                                    "METTOL": "2016-09-08",
                                    "MEDDIG": "2016-09-11",
                                    "(No column name)": "2"
                                },
                                {
                                    "USERNEV": "roland",
                                    "NEV": "Tóth Roland",
                                    "METTOL": "2016-06-09",
                                    "MEDDIG": "2016-06-13",
                                    "(No column name)": "NULL"
                                },
                                {
                                    "USERNEV": "roland",
                                    "NEV": "Tóth Roland",
                                    "METTOL": "2016-06-22",
                                    "MEDDIG": "2016-06-23",
                                    "(No column name)": "3"
                                },
                                {
                                    "USERNEV": "roland",
                                    "NEV": "Tóth Roland",
                                    "METTOL": "2016-09-04",
                                    "MEDDIG": "2016-09-05",
                                    "(No column name)": "6"
                                },
                                {
                                    "USERNEV": "roland",
                                    "NEV": "Tóth Roland",
                                    "METTOL": "2016-11-19",
                                    "MEDDIG": "2016-11-24",
                                    "(No column name)": "8"
                                },
                                {
                                    "USERNEV": "roland1",
                                    "NEV": "Ferencz Roland",
                                    "METTOL": "2016-11-05",
                                    "MEDDIG": "2016-11-07",
                                    "(No column name)": "NULL"
                                },
                                {
                                    "USERNEV": "roland1",
                                    "NEV": "Ferencz Roland",
                                    "METTOL": "2016-12-22",
                                    "MEDDIG": "2016-12-29",
                                    "(No column name)": "3"
                                },
                                {
                                    "USERNEV": "roland1",
                                    "NEV": "Ferencz Roland",
                                    "METTOL": "2017-01-04",
                                    "MEDDIG": "2017-01-08",
                                    "(No column name)": "4"
                                },
                                {
                                    "USERNEV": "roland1",
                                    "NEV": "Ferencz Roland",
                                    "METTOL": "2017-01-16",
                                    "MEDDIG": "2017-01-22",
                                    "(No column name)": "7"
                                },
                                {
                                    "USERNEV": "roza2",
                                    "NEV": "Bucskó Róza",
                                    "METTOL": "2016-09-10",
                                    "MEDDIG": "2016-09-13",
                                    "(No column name)": "NULL"
                                },
                                {
                                    "USERNEV": "roza2",
                                    "NEV": "Bucskó Róza",
                                    "METTOL": "2017-01-11",
                                    "MEDDIG": "2017-01-17",
                                    "(No column name)": "2"
                                },
                                {
                                    "USERNEV": "roza2",
                                    "NEV": "Bucskó Róza",
                                    "METTOL": "2017-02-18",
                                    "MEDDIG": "2017-02-21",
                                    "(No column name)": "5"
                                },
                                {
                                    "USERNEV": "sandor",
                                    "NEV": "Karasz Sándor",
                                    "METTOL": "2016-07-04",
                                    "MEDDIG": "2016-07-06",
                                    "(No column name)": "NULL"
                                },
                                {
                                    "USERNEV": "sandor",
                                    "NEV": "Karasz Sándor",
                                    "METTOL": "2016-07-18",
                                    "MEDDIG": "2016-07-24",
                                    "(No column name)": "2"
                                },
                                {
                                    "USERNEV": "sandor",
                                    "NEV": "Karasz Sándor",
                                    "METTOL": "2016-08-20",
                                    "MEDDIG": "2016-08-25",
                                    "(No column name)": "4"
                                },
                                {
                                    "USERNEV": "sandor",
                                    "NEV": "Karasz Sándor",
                                    "METTOL": "2016-09-19",
                                    "MEDDIG": "2016-09-26",
                                    "(No column name)": "6"
                                },
                                {
                                    "USERNEV": "sandor3",
                                    "NEV": "Farkas Sándor",
                                    "METTOL": "2016-05-12",
                                    "MEDDIG": "2016-05-15",
                                    "(No column name)": "NULL"
                                },
                                {
                                    "USERNEV": "sandor3",
                                    "NEV": "Farkas Sándor",
                                    "METTOL": "2016-05-25",
                                    "MEDDIG": "2016-05-30",
                                    "(No column name)": "2"
                                },
                                {
                                    "USERNEV": "sandor3",
                                    "NEV": "Farkas Sándor",
                                    "METTOL": "2016-10-09",
                                    "MEDDIG": "2016-10-14",
                                    "(No column name)": "3"
                                },
                                {
                                    "USERNEV": "sandor3",
                                    "NEV": "Farkas Sándor",
                                    "METTOL": "2016-10-23",
                                    "MEDDIG": "2016-10-29",
                                    "(No column name)": "5"
                                },
                                {
                                    "USERNEV": "sandor3",
                                    "NEV": "Farkas Sándor",
                                    "METTOL": "2016-11-10",
                                    "MEDDIG": "2016-11-11",
                                    "(No column name)": "6"
                                },
                                {
                                    "USERNEV": "sandor4",
                                    "NEV": "Nagy Sándor",
                                    "METTOL": "2016-10-15",
                                    "MEDDIG": "2016-10-18",
                                    "(No column name)": "NULL"
                                },
                                {
                                    "USERNEV": "sandor4",
                                    "NEV": "Nagy Sándor",
                                    "METTOL": "2016-11-29",
                                    "MEDDIG": "2016-12-03",
                                    "(No column name)": "1"
                                },
                                {
                                    "USERNEV": "sandor4",
                                    "NEV": "Nagy Sándor",
                                    "METTOL": "2016-12-03",
                                    "MEDDIG": "2016-12-09",
                                    "(No column name)": "3"
                                },
                                {
                                    "USERNEV": "sandor4",
                                    "NEV": "Nagy Sándor",
                                    "METTOL": "2017-01-22",
                                    "MEDDIG": "2017-01-26",
                                    "(No column name)": "4"
                                },
                                {
                                    "USERNEV": "sara",
                                    "NEV": "Farkas Sára",
                                    "METTOL": "2016-05-28",
                                    "MEDDIG": "2016-05-30",
                                    "(No column name)": "NULL"
                                },
                                {
                                    "USERNEV": "sara",
                                    "NEV": "Farkas Sára",
                                    "METTOL": "2016-05-30",
                                    "MEDDIG": "2016-05-31",
                                    "(No column name)": "2"
                                },
                                {
                                    "USERNEV": "sara",
                                    "NEV": "Farkas Sára",
                                    "METTOL": "2016-06-06",
                                    "MEDDIG": "2016-06-08",
                                    "(No column name)": "4"
                                },
                                {
                                    "USERNEV": "sara",
                                    "NEV": "Farkas Sára",
                                    "METTOL": "2016-07-15",
                                    "MEDDIG": "2016-07-17",
                                    "(No column name)": "6"
                                },
                                {
                                    "USERNEV": "sara",
                                    "NEV": "Farkas Sára",
                                    "METTOL": "2016-07-24",
                                    "MEDDIG": "2016-07-27",
                                    "(No column name)": "7"
                                },
                                {
                                    "USERNEV": "sara",
                                    "NEV": "Farkas Sára",
                                    "METTOL": "2016-10-06",
                                    "MEDDIG": "2016-10-12",
                                    "(No column name)": "8"
                                },
                                {
                                    "USERNEV": "sara",
                                    "NEV": "Farkas Sára",
                                    "METTOL": "2016-10-11",
                                    "MEDDIG": "2016-10-14",
                                    "(No column name)": "9"
                                },
                                {
                                    "USERNEV": "sara",
                                    "NEV": "Farkas Sára",
                                    "METTOL": "2016-10-28",
                                    "MEDDIG": "2016-11-03",
                                    "(No column name)": "9"
                                },
                                {
                                    "USERNEV": "sara",
                                    "NEV": "Farkas Sára",
                                    "METTOL": "2016-11-18",
                                    "MEDDIG": "2016-11-21",
                                    "(No column name)": "8"
                                },
                                {
                                    "USERNEV": "sara",
                                    "NEV": "Farkas Sára",
                                    "METTOL": "2016-11-23",
                                    "MEDDIG": "2016-11-30",
                                    "(No column name)": "8"
                                },
                                {
                                    "USERNEV": "sara",
                                    "NEV": "Farkas Sára",
                                    "METTOL": "2016-12-06",
                                    "MEDDIG": "2016-12-10",
                                    "(No column name)": "9"
                                },
                                {
                                    "USERNEV": "sara",
                                    "NEV": "Farkas Sára",
                                    "METTOL": "2016-12-25",
                                    "MEDDIG": "2016-12-30",
                                    "(No column name)": "8"
                                },
                                {
                                    "USERNEV": "SEBASTIANF",
                                    "NEV": "Foltényi Sebastián",
                                    "METTOL": "2016-04-06",
                                    "MEDDIG": "2016-04-12",
                                    "(No column name)": "NULL"
                                },
                                {
                                    "USERNEV": "SEBASTIANF",
                                    "NEV": "Foltényi Sebastián",
                                    "METTOL": "2016-07-17",
                                    "MEDDIG": "2016-07-21",
                                    "(No column name)": "2"
                                },
                                {
                                    "USERNEV": "SEBASTIANF",
                                    "NEV": "Foltényi Sebastián",
                                    "METTOL": "2016-07-30",
                                    "MEDDIG": "2016-08-06",
                                    "(No column name)": "4"
                                },
                                {
                                    "USERNEV": "SEBASTIANF",
                                    "NEV": "Foltényi Sebastián",
                                    "METTOL": "2016-09-14",
                                    "MEDDIG": "2016-09-15",
                                    "(No column name)": "8"
                                },
                                {
                                    "USERNEV": "SEBASTIANF",
                                    "NEV": "Foltényi Sebastián",
                                    "METTOL": "2016-09-17",
                                    "MEDDIG": "2016-09-20",
                                    "(No column name)": "9"
                                },
                                {
                                    "USERNEV": "sebestyen",
                                    "NEV": "Rab Sebestyén",
                                    "METTOL": "2016-04-07",
                                    "MEDDIG": "2016-04-12",
                                    "(No column name)": "NULL"
                                },
                                {
                                    "USERNEV": "sebestyen",
                                    "NEV": "Rab Sebestyén",
                                    "METTOL": "2016-04-26",
                                    "MEDDIG": "2016-05-02",
                                    "(No column name)": "4"
                                },
                                {
                                    "USERNEV": "sebestyen",
                                    "NEV": "Rab Sebestyén",
                                    "METTOL": "2016-06-09",
                                    "MEDDIG": "2016-06-14",
                                    "(No column name)": "8"
                                },
                                {
                                    "USERNEV": "sebestyen",
                                    "NEV": "Rab Sebestyén",
                                    "METTOL": "2016-10-26",
                                    "MEDDIG": "2016-11-01",
                                    "(No column name)": "12"
                                },
                                {
                                    "USERNEV": "szabolcs",
                                    "NEV": "Bodor Szabolcs",
                                    "METTOL": "2016-12-05",
                                    "MEDDIG": "2016-12-07",
                                    "(No column name)": "NULL"
                                },
                                {
                                    "USERNEV": "SZABOLCSM",
                                    "NEV": "Miklós Szabolcs",
                                    "METTOL": "2016-06-18",
                                    "MEDDIG": "2016-06-21",
                                    "(No column name)": "NULL"
                                },
                                {
                                    "USERNEV": "SZABOLCSM",
                                    "NEV": "Miklós Szabolcs",
                                    "METTOL": "2016-07-28",
                                    "MEDDIG": "2016-08-03",
                                    "(No column name)": "3"
                                },
                                {
                                    "USERNEV": "SZABOLCSM",
                                    "NEV": "Miklós Szabolcs",
                                    "METTOL": "2016-10-17",
                                    "MEDDIG": "2016-10-19",
                                    "(No column name)": "5"
                                },
                                {
                                    "USERNEV": "SZABOLCSM",
                                    "NEV": "Miklós Szabolcs",
                                    "METTOL": "2016-10-28",
                                    "MEDDIG": "2016-11-03",
                                    "(No column name)": "7"
                                },
                                {
                                    "USERNEV": "SZABOLCSM",
                                    "NEV": "Miklós Szabolcs",
                                    "METTOL": "2016-11-12",
                                    "MEDDIG": "2016-11-13",
                                    "(No column name)": "7"
                                },
                                {
                                    "USERNEV": "SZABOLCSM",
                                    "NEV": "Miklós Szabolcs",
                                    "METTOL": "2017-01-07",
                                    "MEDDIG": "2017-01-08",
                                    "(No column name)": "7"
                                },
                                {
                                    "USERNEV": "SZABOLCSM",
                                    "NEV": "Miklós Szabolcs",
                                    "METTOL": "2017-02-04",
                                    "MEDDIG": "2017-02-05",
                                    "(No column name)": "7"
                                },
                                {
                                    "USERNEV": "SZILARDS",
                                    "NEV": "Szalai Szilárd",
                                    "METTOL": "2016-04-23",
                                    "MEDDIG": "2016-04-30",
                                    "(No column name)": "NULL"
                                },
                                {
                                    "USERNEV": "SZILARDS",
                                    "NEV": "Szalai Szilárd",
                                    "METTOL": "2016-07-27",
                                    "MEDDIG": "2016-08-03",
                                    "(No column name)": "3"
                                },
                                {
                                    "USERNEV": "SZILARDS",
                                    "NEV": "Szalai Szilárd",
                                    "METTOL": "2016-08-28",
                                    "MEDDIG": "2016-08-29",
                                    "(No column name)": "8"
                                },
                                {
                                    "USERNEV": "SZILARDS",
                                    "NEV": "Szalai Szilárd",
                                    "METTOL": "2016-09-20",
                                    "MEDDIG": "2016-09-24",
                                    "(No column name)": "12"
                                },
                                {
                                    "USERNEV": "SZILARDS",
                                    "NEV": "Szalai Szilárd",
                                    "METTOL": "2016-10-01",
                                    "MEDDIG": "2016-10-08",
                                    "(No column name)": "12"
                                },
                                {
                                    "USERNEV": "SZILARDS",
                                    "NEV": "Szalai Szilárd",
                                    "METTOL": "2017-01-16",
                                    "MEDDIG": "2017-01-19",
                                    "(No column name)": "10"
                                },
                                {
                                    "USERNEV": "SZILARDS",
                                    "NEV": "Szalai Szilárd",
                                    "METTOL": "2017-02-08",
                                    "MEDDIG": "2017-02-15",
                                    "(No column name)": "9"
                                },
                                {
                                    "USERNEV": "szilvia1",
                                    "NEV": "Tari Szilvia",
                                    "METTOL": "2016-05-14",
                                    "MEDDIG": "2016-05-21",
                                    "(No column name)": "NULL"
                                },
                                {
                                    "USERNEV": "szilvia1",
                                    "NEV": "Tari Szilvia",
                                    "METTOL": "2016-05-28",
                                    "MEDDIG": "2016-06-03",
                                    "(No column name)": "2"
                                },
                                {
                                    "USERNEV": "szilvia1",
                                    "NEV": "Tari Szilvia",
                                    "METTOL": "2016-07-25",
                                    "MEDDIG": "2016-07-28",
                                    "(No column name)": "4"
                                },
                                {
                                    "USERNEV": "szilvia1",
                                    "NEV": "Tari Szilvia",
                                    "METTOL": "2016-10-09",
                                    "MEDDIG": "2016-10-10",
                                    "(No column name)": "6"
                                },
                                {
                                    "USERNEV": "szilvia1",
                                    "NEV": "Tari Szilvia",
                                    "METTOL": "2016-10-25",
                                    "MEDDIG": "2016-10-31",
                                    "(No column name)": "7"
                                },
                                {
                                    "USERNEV": "szilvia1",
                                    "NEV": "Tari Szilvia",
                                    "METTOL": "2016-10-27",
                                    "MEDDIG": "2016-10-28",
                                    "(No column name)": "8"
                                },
                                {
                                    "USERNEV": "szilvia1",
                                    "NEV": "Tari Szilvia",
                                    "METTOL": "2016-12-25",
                                    "MEDDIG": "2016-12-29",
                                    "(No column name)": "8"
                                },
                                {
                                    "USERNEV": "szilvia1",
                                    "NEV": "Tari Szilvia",
                                    "METTOL": "2016-12-27",
                                    "MEDDIG": "2017-01-02",
                                    "(No column name)": "10"
                                },
                                {
                                    "USERNEV": "szilvia1",
                                    "NEV": "Tari Szilvia",
                                    "METTOL": "2017-01-28",
                                    "MEDDIG": "2017-02-03",
                                    "(No column name)": "9"
                                },
                                {
                                    "USERNEV": "tamara2",
                                    "NEV": "Miklós Tamara",
                                    "METTOL": "2016-08-12",
                                    "MEDDIG": "2016-08-15",
                                    "(No column name)": "NULL"
                                },
                                {
                                    "USERNEV": "tamara2",
                                    "NEV": "Miklós Tamara",
                                    "METTOL": "2016-11-15",
                                    "MEDDIG": "2016-11-18",
                                    "(No column name)": "3"
                                },
                                {
                                    "USERNEV": "tamas",
                                    "NEV": "Antal Tamás",
                                    "METTOL": "2016-05-17",
                                    "MEDDIG": "2016-05-22",
                                    "(No column name)": "NULL"
                                },
                                {
                                    "USERNEV": "tamas",
                                    "NEV": "Antal Tamás",
                                    "METTOL": "2016-06-14",
                                    "MEDDIG": "2016-06-21",
                                    "(No column name)": "2"
                                },
                                {
                                    "USERNEV": "tamas",
                                    "NEV": "Antal Tamás",
                                    "METTOL": "2016-08-24",
                                    "MEDDIG": "2016-08-27",
                                    "(No column name)": "4"
                                },
                                {
                                    "USERNEV": "tamas",
                                    "NEV": "Antal Tamás",
                                    "METTOL": "2017-02-14",
                                    "MEDDIG": "2017-02-19",
                                    "(No column name)": "7"
                                },
                                {
                                    "USERNEV": "TAMASF",
                                    "NEV": "Fényes Tamás",
                                    "METTOL": "2016-05-03",
                                    "MEDDIG": "2016-05-04",
                                    "(No column name)": "NULL"
                                },
                                {
                                    "USERNEV": "TAMASF",
                                    "NEV": "Fényes Tamás",
                                    "METTOL": "2016-06-10",
                                    "MEDDIG": "2016-06-13",
                                    "(No column name)": "2"
                                },
                                {
                                    "USERNEV": "TAMASF",
                                    "NEV": "Fényes Tamás",
                                    "METTOL": "2016-06-28",
                                    "MEDDIG": "2016-07-05",
                                    "(No column name)": "5"
                                },
                                {
                                    "USERNEV": "TAMASF",
                                    "NEV": "Fényes Tamás",
                                    "METTOL": "2016-07-04",
                                    "MEDDIG": "2016-07-10",
                                    "(No column name)": "8"
                                },
                                {
                                    "USERNEV": "TAMASF",
                                    "NEV": "Fényes Tamás",
                                    "METTOL": "2016-09-12",
                                    "MEDDIG": "2016-09-18",
                                    "(No column name)": "8"
                                },
                                {
                                    "USERNEV": "TAMASF",
                                    "NEV": "Fényes Tamás",
                                    "METTOL": "2016-12-02",
                                    "MEDDIG": "2016-12-04",
                                    "(No column name)": "8"
                                },
                                {
                                    "USERNEV": "TAMASF",
                                    "NEV": "Fényes Tamás",
                                    "METTOL": "2016-12-10",
                                    "MEDDIG": "2016-12-14",
                                    "(No column name)": "6"
                                },
                                {
                                    "USERNEV": "TAMASF",
                                    "NEV": "Fényes Tamás",
                                    "METTOL": "2017-02-12",
                                    "MEDDIG": "2017-02-17",
                                    "(No column name)": "7"
                                },
                                {
                                    "USERNEV": "TAMASF",
                                    "NEV": "Fényes Tamás",
                                    "METTOL": "2017-02-16",
                                    "MEDDIG": "2017-02-19",
                                    "(No column name)": "6"
                                },
                                {
                                    "USERNEV": "tibor",
                                    "NEV": "Gombos Tibor",
                                    "METTOL": "2016-10-09",
                                    "MEDDIG": "2016-10-13",
                                    "(No column name)": "NULL"
                                },
                                {
                                    "USERNEV": "tibor",
                                    "NEV": "Gombos Tibor",
                                    "METTOL": "2016-11-05",
                                    "MEDDIG": "2016-11-09",
                                    "(No column name)": "2"
                                },
                                {
                                    "USERNEV": "tibor2",
                                    "NEV": "Dániel Tibor",
                                    "METTOL": "2016-10-20",
                                    "MEDDIG": "2016-10-25",
                                    "(No column name)": "NULL"
                                },
                                {
                                    "USERNEV": "tihamer",
                                    "NEV": "Kazy Tihamér",
                                    "METTOL": "2016-05-30",
                                    "MEDDIG": "2016-06-05",
                                    "(No column name)": "NULL"
                                },
                                {
                                    "USERNEV": "tihamer",
                                    "NEV": "Kazy Tihamér",
                                    "METTOL": "2016-06-03",
                                    "MEDDIG": "2016-06-08",
                                    "(No column name)": "1"
                                },
                                {
                                    "USERNEV": "tihamer",
                                    "NEV": "Kazy Tihamér",
                                    "METTOL": "2016-07-20",
                                    "MEDDIG": "2016-07-24",
                                    "(No column name)": "6"
                                },
                                {
                                    "USERNEV": "tihamer",
                                    "NEV": "Kazy Tihamér",
                                    "METTOL": "2016-08-18",
                                    "MEDDIG": "2016-08-22",
                                    "(No column name)": "9"
                                },
                                {
                                    "USERNEV": "tihamer",
                                    "NEV": "Kazy Tihamér",
                                    "METTOL": "2016-10-19",
                                    "MEDDIG": "2016-10-23",
                                    "(No column name)": "11"
                                },
                                {
                                    "USERNEV": "tihamer",
                                    "NEV": "Kazy Tihamér",
                                    "METTOL": "2016-12-25",
                                    "MEDDIG": "2016-12-26",
                                    "(No column name)": "8"
                                },
                                {
                                    "USERNEV": "timea",
                                    "NEV": "Papós Tímea",
                                    "METTOL": "2016-12-26",
                                    "MEDDIG": "2016-12-27",
                                    "(No column name)": "NULL"
                                },
                                {
                                    "USERNEV": "timea2",
                                    "NEV": "Dusha Tímea",
                                    "METTOL": "2016-06-06",
                                    "MEDDIG": "2016-06-07",
                                    "(No column name)": "NULL"
                                },
                                {
                                    "USERNEV": "timea2",
                                    "NEV": "Dusha Tímea",
                                    "METTOL": "2016-08-07",
                                    "MEDDIG": "2016-08-10",
                                    "(No column name)": "2"
                                },
                                {
                                    "USERNEV": "timea2",
                                    "NEV": "Dusha Tímea",
                                    "METTOL": "2016-10-26",
                                    "MEDDIG": "2016-10-29",
                                    "(No column name)": "5"
                                },
                                {
                                    "USERNEV": "timea2",
                                    "NEV": "Dusha Tímea",
                                    "METTOL": "2016-11-27",
                                    "MEDDIG": "2016-12-01",
                                    "(No column name)": "8"
                                },
                                {
                                    "USERNEV": "timea2",
                                    "NEV": "Dusha Tímea",
                                    "METTOL": "2016-12-14",
                                    "MEDDIG": "2016-12-16",
                                    "(No column name)": "10"
                                },
                                {
                                    "USERNEV": "tunde",
                                    "NEV": "Turcsik Tünde",
                                    "METTOL": "2016-06-03",
                                    "MEDDIG": "2016-06-07",
                                    "(No column name)": "NULL"
                                },
                                {
                                    "USERNEV": "tunde",
                                    "NEV": "Turcsik Tünde",
                                    "METTOL": "2016-06-06",
                                    "MEDDIG": "2016-06-12",
                                    "(No column name)": "3"
                                },
                                {
                                    "USERNEV": "tunde",
                                    "NEV": "Turcsik Tünde",
                                    "METTOL": "2016-07-14",
                                    "MEDDIG": "2016-07-21",
                                    "(No column name)": "6"
                                },
                                {
                                    "USERNEV": "tunde",
                                    "NEV": "Turcsik Tünde",
                                    "METTOL": "2016-09-05",
                                    "MEDDIG": "2016-09-12",
                                    "(No column name)": "7"
                                },
                                {
                                    "USERNEV": "tunde",
                                    "NEV": "Turcsik Tünde",
                                    "METTOL": "2016-10-24",
                                    "MEDDIG": "2016-10-30",
                                    "(No column name)": "6"
                                },
                                {
                                    "USERNEV": "tunde",
                                    "NEV": "Turcsik Tünde",
                                    "METTOL": "2016-11-19",
                                    "MEDDIG": "2016-11-20",
                                    "(No column name)": "6"
                                },
                                {
                                    "USERNEV": "tunde",
                                    "NEV": "Turcsik Tünde",
                                    "METTOL": "2016-12-15",
                                    "MEDDIG": "2016-12-20",
                                    "(No column name)": "8"
                                },
                                {
                                    "USERNEV": "tunde",
                                    "NEV": "Turcsik Tünde",
                                    "METTOL": "2017-01-03",
                                    "MEDDIG": "2017-01-06",
                                    "(No column name)": "9"
                                },
                                {
                                    "USERNEV": "valentin",
                                    "NEV": "Feró Valentin",
                                    "METTOL": "2016-05-24",
                                    "MEDDIG": "2016-05-30",
                                    "(No column name)": "NULL"
                                },
                                {
                                    "USERNEV": "valentin",
                                    "NEV": "Feró Valentin",
                                    "METTOL": "2016-07-24",
                                    "MEDDIG": "2016-07-29",
                                    "(No column name)": "4"
                                },
                                {
                                    "USERNEV": "valentin",
                                    "NEV": "Feró Valentin",
                                    "METTOL": "2016-10-26",
                                    "MEDDIG": "2016-10-30",
                                    "(No column name)": "5"
                                },
                                {
                                    "USERNEV": "valentin",
                                    "NEV": "Feró Valentin",
                                    "METTOL": "2016-11-11",
                                    "MEDDIG": "2016-11-17",
                                    "(No column name)": "8"
                                },
                                {
                                    "USERNEV": "valentin",
                                    "NEV": "Feró Valentin",
                                    "METTOL": "2016-12-01",
                                    "MEDDIG": "2016-12-05",
                                    "(No column name)": "7"
                                },
                                {
                                    "USERNEV": "veronika4",
                                    "NEV": "Tankó Veronika",
                                    "METTOL": "2016-05-30",
                                    "MEDDIG": "2016-06-04",
                                    "(No column name)": "NULL"
                                },
                                {
                                    "USERNEV": "veronika4",
                                    "NEV": "Tankó Veronika",
                                    "METTOL": "2016-07-20",
                                    "MEDDIG": "2016-07-26",
                                    "(No column name)": "2"
                                },
                                {
                                    "USERNEV": "veronika4",
                                    "NEV": "Tankó Veronika",
                                    "METTOL": "2016-08-16",
                                    "MEDDIG": "2016-08-21",
                                    "(No column name)": "5"
                                },
                                {
                                    "USERNEV": "veronika4",
                                    "NEV": "Tankó Veronika",
                                    "METTOL": "2016-09-26",
                                    "MEDDIG": "2016-10-03",
                                    "(No column name)": "6"
                                },
                                {
                                    "USERNEV": "veronika4",
                                    "NEV": "Tankó Veronika",
                                    "METTOL": "2017-01-19",
                                    "MEDDIG": "2017-01-24",
                                    "(No column name)": "6"
                                },
                                {
                                    "USERNEV": "veronika4",
                                    "NEV": "Tankó Veronika",
                                    "METTOL": "2017-02-03",
                                    "MEDDIG": "2017-02-05",
                                    "(No column name)": "6"
                                },
                                {
                                    "USERNEV": "VIKTORIAU",
                                    "NEV": "Urbán Viktoria",
                                    "METTOL": "2016-04-30",
                                    "MEDDIG": "2016-05-03",
                                    "(No column name)": "NULL"
                                },
                                {
                                    "USERNEV": "VIKTORIAU",
                                    "NEV": "Urbán Viktoria",
                                    "METTOL": "2016-08-03",
                                    "MEDDIG": "2016-08-04",
                                    "(No column name)": "1"
                                },
                                {
                                    "USERNEV": "VIKTORIAU",
                                    "NEV": "Urbán Viktoria",
                                    "METTOL": "2016-10-14",
                                    "MEDDIG": "2016-10-15",
                                    "(No column name)": "3"
                                },
                                {
                                    "USERNEV": "VIKTORIAU",
                                    "NEV": "Urbán Viktoria",
                                    "METTOL": "2016-10-26",
                                    "MEDDIG": "2016-11-02",
                                    "(No column name)": "6"
                                },
                                {
                                    "USERNEV": "VIKTORK",
                                    "NEV": "Keresztúri Viktor",
                                    "METTOL": "2016-05-30",
                                    "MEDDIG": "2016-06-01",
                                    "(No column name)": "NULL"
                                },
                                {
                                    "USERNEV": "VIKTORK",
                                    "NEV": "Keresztúri Viktor",
                                    "METTOL": "2016-06-06",
                                    "MEDDIG": "2016-06-07",
                                    "(No column name)": "2"
                                },
                                {
                                    "USERNEV": "vivien3",
                                    "NEV": "Boros Vivien",
                                    "METTOL": "2016-05-02",
                                    "MEDDIG": "2016-05-05",
                                    "(No column name)": "NULL"
                                },
                                {
                                    "USERNEV": "vivien3",
                                    "NEV": "Boros Vivien",
                                    "METTOL": "2016-08-13",
                                    "MEDDIG": "2016-08-18",
                                    "(No column name)": "3"
                                },
                                {
                                    "USERNEV": "vivien3",
                                    "NEV": "Boros Vivien",
                                    "METTOL": "2016-09-01",
                                    "MEDDIG": "2016-09-05",
                                    "(No column name)": "5"
                                },
                                {
                                    "USERNEV": "vivien3",
                                    "NEV": "Boros Vivien",
                                    "METTOL": "2016-10-01",
                                    "MEDDIG": "2016-10-04",
                                    "(No column name)": "7"
                                },
                                {
                                    "USERNEV": "vivien3",
                                    "NEV": "Boros Vivien",
                                    "METTOL": "2016-11-17",
                                    "MEDDIG": "2016-11-20",
                                    "(No column name)": "5"
                                },
                                {
                                    "USERNEV": "vivien3",
                                    "NEV": "Boros Vivien",
                                    "METTOL": "2016-12-17",
                                    "MEDDIG": "2016-12-21",
                                    "(No column name)": "5"
                                },
                                {
                                    "USERNEV": "vivien3",
                                    "NEV": "Boros Vivien",
                                    "METTOL": "2016-12-24",
                                    "MEDDIG": "2016-12-26",
                                    "(No column name)": "5"
                                },
                                {
                                    "USERNEV": "zoltan",
                                    "NEV": "Fodor Zoltán",
                                    "METTOL": "2016-08-24",
                                    "MEDDIG": "2016-08-31",
                                    "(No column name)": "NULL"
                                },
                                {
                                    "USERNEV": "zoltan",
                                    "NEV": "Fodor Zoltán",
                                    "METTOL": "2016-09-05",
                                    "MEDDIG": "2016-09-09",
                                    "(No column name)": "2"
                                },
                                {
                                    "USERNEV": "zoltan4",
                                    "NEV": "Barna Zoltán",
                                    "METTOL": "2016-05-12",
                                    "MEDDIG": "2016-05-16",
                                    "(No column name)": "NULL"
                                },
                                {
                                    "USERNEV": "zoltan4",
                                    "NEV": "Barna Zoltán",
                                    "METTOL": "2016-05-13",
                                    "MEDDIG": "2016-05-16",
                                    "(No column name)": "3"
                                },
                                {
                                    "USERNEV": "zoltan4",
                                    "NEV": "Barna Zoltán",
                                    "METTOL": "2016-06-03",
                                    "MEDDIG": "2016-06-06",
                                    "(No column name)": "6"
                                },
                                {
                                    "USERNEV": "zoltan4",
                                    "NEV": "Barna Zoltán",
                                    "METTOL": "2016-08-15",
                                    "MEDDIG": "2016-08-21",
                                    "(No column name)": "7"
                                },
                                {
                                    "USERNEV": "zoltan4",
                                    "NEV": "Barna Zoltán",
                                    "METTOL": "2016-08-16",
                                    "MEDDIG": "2016-08-23",
                                    "(No column name)": "5"
                                },
                                {
                                    "USERNEV": "zoltan4",
                                    "NEV": "Barna Zoltán",
                                    "METTOL": "2016-09-30",
                                    "MEDDIG": "2016-10-07",
                                    "(No column name)": "4"
                                },
                                {
                                    "USERNEV": "zoltan4",
                                    "NEV": "Barna Zoltán",
                                    "METTOL": "2016-10-21",
                                    "MEDDIG": "2016-10-24",
                                    "(No column name)": "6"
                                },
                                {
                                    "USERNEV": "zoltan4",
                                    "NEV": "Barna Zoltán",
                                    "METTOL": "2016-10-26",
                                    "MEDDIG": "2016-10-30",
                                    "(No column name)": "10"
                                },
                                {
                                    "USERNEV": "zoltan4",
                                    "NEV": "Barna Zoltán",
                                    "METTOL": "2016-10-30",
                                    "MEDDIG": "2016-11-06",
                                    "(No column name)": "10"
                                },
                                {
                                    "USERNEV": "zoltan4",
                                    "NEV": "Barna Zoltán",
                                    "METTOL": "2016-11-19",
                                    "MEDDIG": "2016-11-21",
                                    "(No column name)": "8"
                                },
                                {
                                    "USERNEV": "zoltan4",
                                    "NEV": "Barna Zoltán",
                                    "METTOL": "2016-12-29",
                                    "MEDDIG": "2017-01-04",
                                    "(No column name)": "5"
                                },
                                {
                                    "USERNEV": "zoltan4",
                                    "NEV": "Barna Zoltán",
                                    "METTOL": "2017-01-01",
                                    "MEDDIG": "2017-01-02",
                                    "(No column name)": "4"
                                },
                                {
                                    "USERNEV": "ZOLTANP",
                                    "NEV": "Pintér Zoltán",
                                    "METTOL": "2016-06-05",
                                    "MEDDIG": "2016-06-08",
                                    "(No column name)": "NULL"
                                },
                                {
                                    "USERNEV": "ZOLTANP",
                                    "NEV": "Pintér Zoltán",
                                    "METTOL": "2016-06-06",
                                    "MEDDIG": "2016-06-08",
                                    "(No column name)": "2"
                                },
                                {
                                    "USERNEV": "ZOLTANP",
                                    "NEV": "Pintér Zoltán",
                                    "METTOL": "2016-07-20",
                                    "MEDDIG": "2016-07-25",
                                    "(No column name)": "4"
                                },
                                {
                                    "USERNEV": "ZOLTANP",
                                    "NEV": "Pintér Zoltán",
                                    "METTOL": "2016-10-19",
                                    "MEDDIG": "2016-10-25",
                                    "(No column name)": "7"
                                },
                                {
                                    "USERNEV": "ZOLTANP",
                                    "NEV": "Pintér Zoltán",
                                    "METTOL": "2016-12-07",
                                    "MEDDIG": "2016-12-10",
                                    "(No column name)": "7"
                                },
                                {
                                    "USERNEV": "ZOLTANP",
                                    "NEV": "Pintér Zoltán",
                                    "METTOL": "2016-12-25",
                                    "MEDDIG": "2016-12-29",
                                    "(No column name)": "8"
                                },
                                {
                                    "USERNEV": "ZOLTANT",
                                    "NEV": "Tóth Zoltán",
                                    "METTOL": "2016-05-01",
                                    "MEDDIG": "2016-05-04",
                                    "(No column name)": "NULL"
                                },
                                {
                                    "USERNEV": "ZOLTANT",
                                    "NEV": "Tóth Zoltán",
                                    "METTOL": "2016-07-14",
                                    "MEDDIG": "2016-07-15",
                                    "(No column name)": "3"
                                },
                                {
                                    "USERNEV": "ZOLTANT",
                                    "NEV": "Tóth Zoltán",
                                    "METTOL": "2017-01-16",
                                    "MEDDIG": "2017-01-20",
                                    "(No column name)": "6"
                                },
                                {
                                    "USERNEV": "zsofi1",
                                    "NEV": "Molnár Zsófi",
                                    "METTOL": "2016-06-16",
                                    "MEDDIG": "2016-06-17",
                                    "(No column name)": "NULL"
                                },
                                {
                                    "USERNEV": "zsofi1",
                                    "NEV": "Molnár Zsófi",
                                    "METTOL": "2017-02-18",
                                    "MEDDIG": "2017-02-19",
                                    "(No column name)": "2"
                                },
                                {
                                    "USERNEV": "zsolt1",
                                    "NEV": "Pulai Zsolt",
                                    "METTOL": "2016-04-14",
                                    "MEDDIG": "2016-04-17",
                                    "(No column name)": "NULL"
                                },
                                {
                                    "USERNEV": "zsolt1",
                                    "NEV": "Pulai Zsolt",
                                    "METTOL": "2016-06-06",
                                    "MEDDIG": "2016-06-08",
                                    "(No column name)": "2"
                                },
                                {
                                    "USERNEV": "zsolt1",
                                    "NEV": "Pulai Zsolt",
                                    "METTOL": "2016-06-07",
                                    "MEDDIG": "2016-06-10",
                                    "(No column name)": "4"
                                },
                                {
                                    "USERNEV": "zsolt1",
                                    "NEV": "Pulai Zsolt",
                                    "METTOL": "2016-07-31",
                                    "MEDDIG": "2016-08-02",
                                    "(No column name)": "8"
                                },
                                {
                                    "USERNEV": "ZSOLTJ",
                                    "NEV": "Józsa Zsolt",
                                    "METTOL": "2016-04-24",
                                    "MEDDIG": "2016-04-26",
                                    "(No column name)": "NULL"
                                },
                                {
                                    "USERNEV": "ZSOLTJ",
                                    "NEV": "Józsa Zsolt",
                                    "METTOL": "2016-05-09",
                                    "MEDDIG": "2016-05-11",
                                    "(No column name)": "4"
                                },
                                {
                                    "USERNEV": "ZSOLTJ",
                                    "NEV": "Józsa Zsolt",
                                    "METTOL": "2016-05-28",
                                    "MEDDIG": "2016-06-03",
                                    "(No column name)": "6"
                                },
                                {
                                    "USERNEV": "ZSOLTJ",
                                    "NEV": "Józsa Zsolt",
                                    "METTOL": "2016-06-17",
                                    "MEDDIG": "2016-06-19",
                                    "(No column name)": "7"
                                },
                                {
                                    "USERNEV": "ZSOLTJ",
                                    "NEV": "Józsa Zsolt",
                                    "METTOL": "2016-07-18",
                                    "MEDDIG": "2016-07-19",
                                    "(No column name)": "5"
                                },
                                {
                                    "USERNEV": "ZSOLTJ",
                                    "NEV": "Józsa Zsolt",
                                    "METTOL": "2016-10-01",
                                    "MEDDIG": "2016-10-06",
                                    "(No column name)": "5"
                                },
                                {
                                    "USERNEV": "zsuzsa",
                                    "NEV": "Pusztai Zsuzsanna",
                                    "METTOL": "2016-07-24",
                                    "MEDDIG": "2016-07-25",
                                    "(No column name)": "NULL"
                                },
                                {
                                    "USERNEV": "zsuzsa",
                                    "NEV": "Pusztai Zsuzsanna",
                                    "METTOL": "2016-08-28",
                                    "MEDDIG": "2016-08-30",
                                    "(No column name)": "3"
                                },
                                {
                                    "USERNEV": "zsuzsa",
                                    "NEV": "Pusztai Zsuzsanna",
                                    "METTOL": "2016-11-28",
                                    "MEDDIG": "2016-12-04",
                                    "(No column name)": "5"
                                },
                                {
                                    "USERNEV": "zsuzsa3",
                                    "NEV": "Varsányi Zsuzsa",
                                    "METTOL": "2016-07-30",
                                    "MEDDIG": "2016-08-02",
                                    "(No column name)": "NULL"
                                },
                                {
                                    "USERNEV": "zsuzsa3",
                                    "NEV": "Varsányi Zsuzsa",
                                    "METTOL": "2016-09-09",
                                    "MEDDIG": "2016-09-10",
                                    "(No column name)": "2"
                                },
                                {
                                    "USERNEV": "zsuzsa3",
                                    "NEV": "Varsányi Zsuzsa",
                                    "METTOL": "2016-09-28",
                                    "MEDDIG": "2016-10-03",
                                    "(No column name)": "4"
                                },
                                {
                                    "USERNEV": "zsuzsa3",
                                    "NEV": "Varsányi Zsuzsa",
                                    "METTOL": "2016-10-27",
                                    "MEDDIG": "2016-11-03",
                                    "(No column name)": "6"
                                },
                                {
                                    "USERNEV": "zsuzsanna",
                                    "NEV": "Barta Zsuzsanna",
                                    "METTOL": "2016-05-17",
                                    "MEDDIG": "2016-05-23",
                                    "(No column name)": "NULL"
                                },
                                {
                                    "USERNEV": "zsuzsanna",
                                    "NEV": "Barta Zsuzsanna",
                                    "METTOL": "2016-07-12",
                                    "MEDDIG": "2016-07-15",
                                    "(No column name)": "2"
                                },
                                {
                                    "USERNEV": "zsuzsanna",
                                    "NEV": "Barta Zsuzsanna",
                                    "METTOL": "2017-01-09",
                                    "MEDDIG": "2017-01-16",
                                    "(No column name)": "4"
                                },
                                {
                                    "USERNEV": "zsuzsanna",
                                    "NEV": "Barta Zsuzsanna",
                                    "METTOL": "2017-01-16",
                                    "MEDDIG": "2017-01-22",
                                    "(No column name)": "5"
                                },
                                {
                                    "USERNEV": "ZSUZSAV",
                                    "NEV": "Vajda Zsuzsa",
                                    "METTOL": "2016-04-14",
                                    "MEDDIG": "2016-04-16",
                                    "(No column name)": "NULL"
                                },
                                {
                                    "USERNEV": "ZSUZSAV",
                                    "NEV": "Vajda Zsuzsa",
                                    "METTOL": "2016-05-28",
                                    "MEDDIG": "2016-06-01",
                                    "(No column name)": "2"
                                },
                                {
                                    "USERNEV": "ZSUZSAV",
                                    "NEV": "Vajda Zsuzsa",
                                    "METTOL": "2016-06-15",
                                    "MEDDIG": "2016-06-21",
                                    "(No column name)": "6"
                                },
                                {
                                    "USERNEV": "ZSUZSAV",
                                    "NEV": "Vajda Zsuzsa",
                                    "METTOL": "2016-09-18",
                                    "MEDDIG": "2016-09-20",
                                    "(No column name)": "9"
                                },
                                {
                                    "USERNEV": "ZSUZSAV",
                                    "NEV": "Vajda Zsuzsa",
                                    "METTOL": "2016-10-26",
                                    "MEDDIG": "2016-10-28",
                                    "(No column name)": "9"
                                },
                                {
                                    "USERNEV": "ZSUZSAV",
                                    "NEV": "Vajda Zsuzsa",
                                    "METTOL": "2016-11-21",
                                    "MEDDIG": "2016-11-24",
                                    "(No column name)": "6"
                                }
                            ]
                        },
                        "text/html": [
                            "<table>",
                            "<tr><th>USERNEV</th><th>NEV</th><th>METTOL</th><th>MEDDIG</th><th>(No column name)</th><th>(No column name)</th></tr>",
                            "<tr><td>adam1</td><td>Kiss Ádám</td><td>2016-05-28</td><td>2016-06-03</td><td>3</td><td>NULL</td></tr>",
                            "<tr><td>adam1</td><td>Kiss Ádám</td><td>2016-08-20</td><td>2016-08-24</td><td>1</td><td>3</td></tr>",
                            "<tr><td>adam1</td><td>Kiss Ádám</td><td>2016-10-19</td><td>2016-10-24</td><td>2</td><td>4</td></tr>",
                            "<tr><td>adam3</td><td>Barkóci Ádám</td><td>2016-09-12</td><td>2016-09-16</td><td>2</td><td>NULL</td></tr>",
                            "<tr><td>adam3</td><td>Barkóci Ádám</td><td>2017-02-06</td><td>2017-02-10</td><td>1</td><td>2</td></tr>",
                            "<tr><td>adam4</td><td>Bieniek Ádám</td><td>2016-08-28</td><td>2016-08-30</td><td>3</td><td>NULL</td></tr>",
                            "<tr><td>adam4</td><td>Bieniek Ádám</td><td>2016-10-27</td><td>2016-11-02</td><td>3</td><td>3</td></tr>",
                            "<tr><td>adam4</td><td>Bieniek Ádám</td><td>2016-11-15</td><td>2016-11-18</td><td>2</td><td>6</td></tr>",
                            "<tr><td>adam4</td><td>Bieniek Ádám</td><td>2016-12-06</td><td>2016-12-09</td><td>3</td><td>8</td></tr>",
                            "<tr><td>adam4</td><td>Bieniek Ádám</td><td>2017-01-12</td><td>2017-01-19</td><td>2</td><td>8</td></tr>",
                            "<tr><td>adam4</td><td>Bieniek Ádám</td><td>2017-02-23</td><td>2017-02-27</td><td>3</td><td>7</td></tr>",
                            "<tr><td>agnes</td><td>Lengyel Ágnes</td><td>2016-05-09</td><td>2016-05-11</td><td>3</td><td>NULL</td></tr>",
                            "<tr><td>agnes</td><td>Lengyel Ágnes</td><td>2016-05-25</td><td>2016-05-30</td><td>1</td><td>3</td></tr>",
                            "<tr><td>agnes</td><td>Lengyel Ágnes</td><td>2016-07-13</td><td>2016-07-19</td><td>3</td><td>4</td></tr>",
                            "<tr><td>agnes</td><td>Lengyel Ágnes</td><td>2016-07-30</td><td>2016-08-06</td><td>3</td><td>7</td></tr>",
                            "<tr><td>agnes</td><td>Lengyel Ágnes</td><td>2016-11-07</td><td>2016-11-13</td><td>2</td><td>7</td></tr>",
                            "<tr><td>agnes3</td><td>Hartyánszky Ágnes</td><td>2016-08-04</td><td>2016-08-10</td><td>1</td><td>NULL</td></tr>",
                            "<tr><td>agnes3</td><td>Hartyánszky Ágnes</td><td>2016-10-22</td><td>2016-10-23</td><td>3</td><td>1</td></tr>",
                            "<tr><td>agnes3</td><td>Hartyánszky Ágnes</td><td>2017-02-16</td><td>2017-02-21</td><td>3</td><td>4</td></tr>",
                            "<tr><td>AGNESH</td><td>Horváth Ágnes</td><td>2016-04-10</td><td>2016-04-12</td><td>2</td><td>NULL</td></tr>",
                            "<tr><td>AGNESH</td><td>Horváth Ágnes</td><td>2016-04-27</td><td>2016-04-28</td><td>4</td><td>2</td></tr>",
                            "<tr><td>AGNESH</td><td>Horváth Ágnes</td><td>2016-06-23</td><td>2016-06-26</td><td>1</td><td>6</td></tr>",
                            "<tr><td>AGNESH</td><td>Horváth Ágnes</td><td>2016-10-30</td><td>2016-11-04</td><td>1</td><td>7</td></tr>",
                            "<tr><td>AGNESH</td><td>Horváth Ágnes</td><td>2017-01-03</td><td>2017-01-10</td><td>2</td><td>6</td></tr>",
                            "<tr><td>AGNESH</td><td>Horváth Ágnes</td><td>2017-01-16</td><td>2017-01-23</td><td>3</td><td>4</td></tr>",
                            "<tr><td>AGNESK</td><td>Kovács Ágnes</td><td>2016-07-29</td><td>2016-08-01</td><td>3</td><td>NULL</td></tr>",
                            "<tr><td>AGNESK</td><td>Kovács Ágnes</td><td>2016-10-17</td><td>2016-10-19</td><td>2</td><td>3</td></tr>",
                            "<tr><td>AGNESK</td><td>Kovács Ágnes</td><td>2016-12-17</td><td>2016-12-18</td><td>2</td><td>5</td></tr>",
                            "<tr><td>akos</td><td>Bíró Ákos</td><td>2016-05-18</td><td>2016-05-19</td><td>2</td><td>NULL</td></tr>",
                            "<tr><td>akos</td><td>Bíró Ákos</td><td>2016-07-14</td><td>2016-07-19</td><td>2</td><td>2</td></tr>",
                            "<tr><td>akos</td><td>Bíró Ákos</td><td>2016-07-16</td><td>2016-07-18</td><td>2</td><td>4</td></tr>",
                            "<tr><td>akos</td><td>Bíró Ákos</td><td>2016-07-22</td><td>2016-07-26</td><td>1</td><td>6</td></tr>",
                            "<tr><td>akos</td><td>Bíró Ákos</td><td>2016-09-06</td><td>2016-09-12</td><td>1</td><td>5</td></tr>",
                            "<tr><td>akos</td><td>Bíró Ákos</td><td>2016-10-05</td><td>2016-10-09</td><td>2</td><td>4</td></tr>",
                            "<tr><td>akos</td><td>Bíró Ákos</td><td>2016-10-18</td><td>2016-10-23</td><td>2</td><td>4</td></tr>",
                            "<tr><td>akos</td><td>Bíró Ákos</td><td>2016-11-21</td><td>2016-11-27</td><td>2</td><td>5</td></tr>",
                            "<tr><td>akos</td><td>Bíró Ákos</td><td>2016-12-15</td><td>2016-12-21</td><td>2</td><td>6</td></tr>",
                            "<tr><td>akos</td><td>Bíró Ákos</td><td>2016-12-29</td><td>2016-12-30</td><td>3</td><td>6</td></tr>",
                            "<tr><td>aladar</td><td>Dunai Aladár</td><td>2016-05-17</td><td>2016-05-24</td><td>1</td><td>NULL</td></tr>",
                            "<tr><td>aladar</td><td>Dunai Aladár</td><td>2016-09-24</td><td>2016-09-28</td><td>1</td><td>1</td></tr>",
                            "<tr><td>aladar</td><td>Dunai Aladár</td><td>2016-11-22</td><td>2016-11-23</td><td>2</td><td>2</td></tr>",
                            "<tr><td>alexandra</td><td>Bagóczki Alexandra</td><td>2016-05-21</td><td>2016-05-27</td><td>3</td><td>NULL</td></tr>",
                            "<tr><td>alexandra</td><td>Bagóczki Alexandra</td><td>2016-06-08</td><td>2016-06-11</td><td>3</td><td>3</td></tr>",
                            "<tr><td>alexandra</td><td>Bagóczki Alexandra</td><td>2016-07-27</td><td>2016-07-30</td><td>2</td><td>6</td></tr>",
                            "<tr><td>alexandra</td><td>Bagóczki Alexandra</td><td>2016-10-21</td><td>2016-10-25</td><td>2</td><td>8</td></tr>",
                            "<tr><td>alexandra</td><td>Bagóczki Alexandra</td><td>2016-11-29</td><td>2016-12-05</td><td>2</td><td>7</td></tr>",
                            "<tr><td>alexandra</td><td>Bagóczki Alexandra</td><td>2017-01-13</td><td>2017-01-14</td><td>1</td><td>6</td></tr>",
                            "<tr><td>alexandra</td><td>Bagóczki Alexandra</td><td>2017-01-19</td><td>2017-01-26</td><td>2</td><td>5</td></tr>",
                            "<tr><td>andi</td><td>Maródi Andrea</td><td>2016-05-08</td><td>2016-05-14</td><td>4</td><td>NULL</td></tr>",
                            "<tr><td>andi</td><td>Maródi Andrea</td><td>2016-06-13</td><td>2016-06-14</td><td>1</td><td>4</td></tr>",
                            "<tr><td>andi</td><td>Maródi Andrea</td><td>2016-09-13</td><td>2016-09-16</td><td>2</td><td>5</td></tr>",
                            "<tr><td>andi</td><td>Maródi Andrea</td><td>2016-11-16</td><td>2016-11-17</td><td>3</td><td>7</td></tr>",
                            "<tr><td>andi</td><td>Maródi Andrea</td><td>2017-01-13</td><td>2017-01-17</td><td>3</td><td>6</td></tr>",
                            "<tr><td>andras2</td><td>Tóth András</td><td>2016-05-30</td><td>2016-06-04</td><td>1</td><td>NULL</td></tr>",
                            "<tr><td>andras2</td><td>Tóth András</td><td>2016-07-20</td><td>2016-07-22</td><td>2</td><td>1</td></tr>",
                            "<tr><td>andras2</td><td>Tóth András</td><td>2016-09-30</td><td>2016-10-03</td><td>2</td><td>3</td></tr>",
                            "<tr><td>andras2</td><td>Tóth András</td><td>2016-10-07</td><td>2016-10-10</td><td>3</td><td>5</td></tr>",
                            "<tr><td>andras2</td><td>Tóth András</td><td>2017-02-08</td><td>2017-02-10</td><td>4</td><td>7</td></tr>",
                            "<tr><td>andras21</td><td>Molnár András</td><td>2016-06-21</td><td>2016-06-26</td><td>2</td><td>NULL</td></tr>",
                            "<tr><td>andras21</td><td>Molnár András</td><td>2016-07-04</td><td>2016-07-05</td><td>3</td><td>2</td></tr>",
                            "<tr><td>andras21</td><td>Molnár András</td><td>2016-07-20</td><td>2016-07-22</td><td>1</td><td>5</td></tr>",
                            "<tr><td>andras21</td><td>Molnár András</td><td>2016-10-01</td><td>2016-10-06</td><td>3</td><td>6</td></tr>",
                            "<tr><td>andras21</td><td>Molnár András</td><td>2016-10-04</td><td>2016-10-11</td><td>3</td><td>7</td></tr>",
                            "<tr><td>andras21</td><td>Molnár András</td><td>2016-11-23</td><td>2016-11-24</td><td>4</td><td>7</td></tr>",
                            "<tr><td>andras21</td><td>Molnár András</td><td>2017-01-28</td><td>2017-02-01</td><td>2</td><td>10</td></tr>",
                            "<tr><td>andras3</td><td>Vígh András</td><td>2016-05-01</td><td>2016-05-06</td><td>2</td><td>NULL</td></tr>",
                            "<tr><td>andras3</td><td>Vígh András</td><td>2016-05-30</td><td>2016-06-03</td><td>1</td><td>2</td></tr>",
                            "<tr><td>andras3</td><td>Vígh András</td><td>2016-06-10</td><td>2016-06-11</td><td>1</td><td>3</td></tr>",
                            "<tr><td>andras3</td><td>Vígh András</td><td>2016-07-15</td><td>2016-07-19</td><td>3</td><td>4</td></tr>",
                            "<tr><td>andras3</td><td>Vígh András</td><td>2016-07-21</td><td>2016-07-23</td><td>2</td><td>5</td></tr>",
                            "<tr><td>andras3</td><td>Vígh András</td><td>2016-08-29</td><td>2016-09-02</td><td>3</td><td>6</td></tr>",
                            "<tr><td>andras3</td><td>Vígh András</td><td>2016-11-28</td><td>2016-12-02</td><td>2</td><td>8</td></tr>",
                            "<tr><td>andras3</td><td>Vígh András</td><td>2017-02-02</td><td>2017-02-08</td><td>2</td><td>7</td></tr>",
                            "<tr><td>andras4</td><td>Back András</td><td>2016-09-17</td><td>2016-09-20</td><td>2</td><td>NULL</td></tr>",
                            "<tr><td>andras4</td><td>Back András</td><td>2016-11-25</td><td>2016-11-28</td><td>2</td><td>2</td></tr>",
                            "<tr><td>andras4</td><td>Back András</td><td>2017-01-09</td><td>2017-01-10</td><td>2</td><td>4</td></tr>",
                            "<tr><td>andras41</td><td>Komjáti András</td><td>2016-05-14</td><td>2016-05-16</td><td>2</td><td>NULL</td></tr>",
                            "<tr><td>andras41</td><td>Komjáti András</td><td>2016-05-21</td><td>2016-05-23</td><td>4</td><td>2</td></tr>",
                            "<tr><td>andras41</td><td>Komjáti András</td><td>2016-06-07</td><td>2016-06-11</td><td>3</td><td>6</td></tr>",
                            "<tr><td>andras41</td><td>Komjáti András</td><td>2016-06-23</td><td>2016-06-29</td><td>2</td><td>9</td></tr>",
                            "<tr><td>andras41</td><td>Komjáti András</td><td>2016-07-28</td><td>2016-08-03</td><td>3</td><td>9</td></tr>",
                            "<tr><td>andras41</td><td>Komjáti András</td><td>2016-08-17</td><td>2016-08-21</td><td>3</td><td>8</td></tr>",
                            "<tr><td>andras41</td><td>Komjáti András</td><td>2016-08-19</td><td>2016-08-23</td><td>1</td><td>8</td></tr>",
                            "<tr><td>andras41</td><td>Komjáti András</td><td>2016-09-22</td><td>2016-09-29</td><td>1</td><td>7</td></tr>",
                            "<tr><td>andras41</td><td>Komjáti András</td><td>2016-09-30</td><td>2016-10-05</td><td>2</td><td>5</td></tr>",
                            "<tr><td>andras41</td><td>Komjáti András</td><td>2016-10-09</td><td>2016-10-13</td><td>2</td><td>4</td></tr>",
                            "<tr><td>andras41</td><td>Komjáti András</td><td>2016-10-15</td><td>2016-10-18</td><td>3</td><td>5</td></tr>",
                            "<tr><td>andras41</td><td>Komjáti András</td><td>2016-11-20</td><td>2016-11-24</td><td>3</td><td>7</td></tr>",
                            "<tr><td>andras41</td><td>Komjáti András</td><td>2016-11-23</td><td>2016-11-24</td><td>1</td><td>8</td></tr>",
                            "<tr><td>ANDRASE</td><td>Erdei András</td><td>2016-04-24</td><td>2016-05-01</td><td>1</td><td>NULL</td></tr>",
                            "<tr><td>ANDRASE</td><td>Erdei András</td><td>2016-07-06</td><td>2016-07-07</td><td>2</td><td>1</td></tr>",
                            "<tr><td>ANDRASE</td><td>Erdei András</td><td>2016-08-16</td><td>2016-08-20</td><td>2</td><td>3</td></tr>",
                            "<tr><td>ANDRASE</td><td>Erdei András</td><td>2016-11-19</td><td>2016-11-20</td><td>4</td><td>5</td></tr>",
                            "<tr><td>ANDRASE</td><td>Erdei András</td><td>2016-11-29</td><td>2016-12-06</td><td>3</td><td>8</td></tr>",
                            "<tr><td>ANDRASN</td><td>Nagy András</td><td>2016-11-25</td><td>2016-12-01</td><td>2</td><td>NULL</td></tr>",
                            "<tr><td>andrea</td><td>Kiss Andrea</td><td>2016-07-27</td><td>2016-07-28</td><td>2</td><td>NULL</td></tr>",
                            "<tr><td>andrea</td><td>Kiss Andrea</td><td>2016-08-01</td><td>2016-08-02</td><td>2</td><td>2</td></tr>",
                            "<tr><td>andrea</td><td>Kiss Andrea</td><td>2016-08-23</td><td>2016-08-26</td><td>3</td><td>4</td></tr>",
                            "<tr><td>andrea</td><td>Kiss Andrea</td><td>2016-08-26</td><td>2016-08-30</td><td>2</td><td>7</td></tr>",
                            "<tr><td>andrea</td><td>Kiss Andrea</td><td>2016-10-21</td><td>2016-10-27</td><td>4</td><td>7</td></tr>",
                            "<tr><td>andrea</td><td>Kiss Andrea</td><td>2017-02-09</td><td>2017-02-14</td><td>2</td><td>9</td></tr>",
                            "<tr><td>andrea3</td><td>Szomor Andrea</td><td>2016-11-19</td><td>2016-11-21</td><td>3</td><td>NULL</td></tr>",
                            "<tr><td>andrea4</td><td>Neizer Andrea</td><td>2016-05-27</td><td>2016-05-29</td><td>1</td><td>NULL</td></tr>",
                            "<tr><td>andrea4</td><td>Neizer Andrea</td><td>2016-09-13</td><td>2016-09-17</td><td>2</td><td>1</td></tr>",
                            "<tr><td>andrea4</td><td>Neizer Andrea</td><td>2016-10-30</td><td>2016-11-06</td><td>3</td><td>3</td></tr>",
                            "<tr><td>andrea4</td><td>Neizer Andrea</td><td>2017-01-22</td><td>2017-01-29</td><td>2</td><td>6</td></tr>",
                            "<tr><td>ANDREAT</td><td>Tornyos Andrea</td><td>2016-07-27</td><td>2016-08-01</td><td>2</td><td>NULL</td></tr>",
                            "<tr><td>ANDREAT</td><td>Tornyos Andrea</td><td>2016-09-15</td><td>2016-09-16</td><td>2</td><td>2</td></tr>",
                            "<tr><td>ANDREAT</td><td>Tornyos Andrea</td><td>2016-10-08</td><td>2016-10-12</td><td>3</td><td>4</td></tr>",
                            "<tr><td>anett3</td><td>Pivarcsi Anett</td><td>2016-04-10</td><td>2016-04-17</td><td>1</td><td>NULL</td></tr>",
                            "<tr><td>anett3</td><td>Pivarcsi Anett</td><td>2016-04-13</td><td>2016-04-19</td><td>3</td><td>1</td></tr>",
                            "<tr><td>anett3</td><td>Pivarcsi Anett</td><td>2016-04-15</td><td>2016-04-19</td><td>3</td><td>4</td></tr>",
                            "<tr><td>anett3</td><td>Pivarcsi Anett</td><td>2016-04-28</td><td>2016-05-02</td><td>3</td><td>7</td></tr>",
                            "<tr><td>anett3</td><td>Pivarcsi Anett</td><td>2016-08-15</td><td>2016-08-16</td><td>2</td><td>9</td></tr>",
                            "<tr><td>anett3</td><td>Pivarcsi Anett</td><td>2016-08-17</td><td>2016-08-23</td><td>3</td><td>8</td></tr>",
                            "<tr><td>anett3</td><td>Pivarcsi Anett</td><td>2016-10-12</td><td>2016-10-19</td><td>3</td><td>8</td></tr>",
                            "<tr><td>anett3</td><td>Pivarcsi Anett</td><td>2016-10-16</td><td>2016-10-21</td><td>1</td><td>8</td></tr>",
                            "<tr><td>aniko</td><td>Tóth Anikó</td><td>2016-06-25</td><td>2016-06-30</td><td>3</td><td>NULL</td></tr>",
                            "<tr><td>aniko</td><td>Tóth Anikó</td><td>2017-02-12</td><td>2017-02-14</td><td>3</td><td>3</td></tr>",
                            "<tr><td>aniko</td><td>Tóth Anikó</td><td>2017-02-23</td><td>2017-02-24</td><td>2</td><td>6</td></tr>",
                            "<tr><td>aniko4</td><td>Böröcz Anikó</td><td>2016-07-02</td><td>2016-07-09</td><td>1</td><td>NULL</td></tr>",
                            "<tr><td>aniko4</td><td>Böröcz Anikó</td><td>2016-07-22</td><td>2016-07-25</td><td>3</td><td>1</td></tr>",
                            "<tr><td>aniko4</td><td>Böröcz Anikó</td><td>2016-09-05</td><td>2016-09-07</td><td>4</td><td>4</td></tr>",
                            "<tr><td>aniko4</td><td>Böröcz Anikó</td><td>2016-10-16</td><td>2016-10-18</td><td>3</td><td>8</td></tr>",
                            "<tr><td>ANIKOS</td><td>Simon Anikó</td><td>2016-04-19</td><td>2016-04-24</td><td>2</td><td>NULL</td></tr>",
                            "<tr><td>ANIKOS</td><td>Simon Anikó</td><td>2016-05-24</td><td>2016-05-25</td><td>3</td><td>2</td></tr>",
                            "<tr><td>ANIKOS</td><td>Simon Anikó</td><td>2016-06-16</td><td>2016-06-23</td><td>1</td><td>5</td></tr>",
                            "<tr><td>ANIKOS</td><td>Simon Anikó</td><td>2016-06-27</td><td>2016-06-30</td><td>2</td><td>6</td></tr>",
                            "<tr><td>ANIKOS</td><td>Simon Anikó</td><td>2016-07-17</td><td>2016-07-22</td><td>3</td><td>6</td></tr>",
                            "<tr><td>ANIKOS</td><td>Simon Anikó</td><td>2016-08-26</td><td>2016-09-02</td><td>2</td><td>6</td></tr>",
                            "<tr><td>ANIKOS</td><td>Simon Anikó</td><td>2016-10-08</td><td>2016-10-14</td><td>2</td><td>7</td></tr>",
                            "<tr><td>ANIKOS</td><td>Simon Anikó</td><td>2016-10-29</td><td>2016-11-05</td><td>3</td><td>7</td></tr>",
                            "<tr><td>ANIKOS</td><td>Simon Anikó</td><td>2016-11-10</td><td>2016-11-15</td><td>2</td><td>7</td></tr>",
                            "<tr><td>anita</td><td>Hamvay-Kovács Anita</td><td>2016-09-28</td><td>2016-10-02</td><td>4</td><td>NULL</td></tr>",
                            "<tr><td>anita</td><td>Hamvay-Kovács Anita</td><td>2016-10-01</td><td>2016-10-04</td><td>2</td><td>4</td></tr>",
                            "<tr><td>anita</td><td>Hamvay-Kovács Anita</td><td>2017-02-19</td><td>2017-02-22</td><td>2</td><td>6</td></tr>",
                            "<tr><td>anita</td><td>Hamvay-Kovács Anita</td><td>2017-02-20</td><td>2017-02-25</td><td>2</td><td>8</td></tr>",
                            "<tr><td>annamaria1</td><td>Szűcs Annamária</td><td>2016-06-06</td><td>2016-06-07</td><td>3</td><td>NULL</td></tr>",
                            "<tr><td>annamaria1</td><td>Szűcs Annamária</td><td>2017-01-30</td><td>2017-01-31</td><td>4</td><td>3</td></tr>",
                            "<tr><td>ANNAMARIAR</td><td>Regős Annamária</td><td>2016-06-08</td><td>2016-06-11</td><td>2</td><td>NULL</td></tr>",
                            "<tr><td>ANNAMARIAR</td><td>Regős Annamária</td><td>2016-07-18</td><td>2016-07-21</td><td>1</td><td>2</td></tr>",
                            "<tr><td>ANNAMARIAR</td><td>Regős Annamária</td><td>2016-09-23</td><td>2016-09-27</td><td>2</td><td>3</td></tr>",
                            "<tr><td>ANNAMARIAR</td><td>Regős Annamária</td><td>2016-11-11</td><td>2016-11-12</td><td>3</td><td>5</td></tr>",
                            "<tr><td>ANNAMARIAR</td><td>Regős Annamária</td><td>2017-01-10</td><td>2017-01-13</td><td>2</td><td>6</td></tr>",
                            "<tr><td>ANNAMARIAR</td><td>Regős Annamária</td><td>2017-02-16</td><td>2017-02-18</td><td>2</td><td>7</td></tr>",
                            "<tr><td>aron2</td><td>Jakab Áron</td><td>2016-04-11</td><td>2016-04-12</td><td>3</td><td>NULL</td></tr>",
                            "<tr><td>aron2</td><td>Jakab Áron</td><td>2016-07-04</td><td>2016-07-06</td><td>3</td><td>3</td></tr>",
                            "<tr><td>aron2</td><td>Jakab Áron</td><td>2016-10-23</td><td>2016-10-27</td><td>2</td><td>6</td></tr>",
                            "<tr><td>aron2</td><td>Jakab Áron</td><td>2016-11-05</td><td>2016-11-09</td><td>2</td><td>8</td></tr>",
                            "<tr><td>aron2</td><td>Jakab Áron</td><td>2017-01-17</td><td>2017-01-18</td><td>3</td><td>7</td></tr>",
                            "<tr><td>aron2</td><td>Jakab Áron</td><td>2017-02-26</td><td>2017-02-27</td><td>3</td><td>7</td></tr>",
                            "<tr><td>ARONK</td><td>Kelemen Áron</td><td>2016-04-06</td><td>2016-04-08</td><td>2</td><td>NULL</td></tr>",
                            "<tr><td>ARONK</td><td>Kelemen Áron</td><td>2016-05-14</td><td>2016-05-20</td><td>4</td><td>2</td></tr>",
                            "<tr><td>ARONK</td><td>Kelemen Áron</td><td>2016-06-04</td><td>2016-06-09</td><td>2</td><td>6</td></tr>",
                            "<tr><td>ARONK</td><td>Kelemen Áron</td><td>2016-06-07</td><td>2016-06-13</td><td>3</td><td>8</td></tr>",
                            "<tr><td>ARONK</td><td>Kelemen Áron</td><td>2016-07-03</td><td>2016-07-07</td><td>2</td><td>9</td></tr>",
                            "<tr><td>ARONK</td><td>Kelemen Áron</td><td>2016-08-05</td><td>2016-08-08</td><td>4</td><td>7</td></tr>",
                            "<tr><td>ARONK</td><td>Kelemen Áron</td><td>2016-09-08</td><td>2016-09-15</td><td>2</td><td>9</td></tr>",
                            "<tr><td>ARONK</td><td>Kelemen Áron</td><td>2016-11-03</td><td>2016-11-10</td><td>2</td><td>8</td></tr>",
                            "<tr><td>ARONK</td><td>Kelemen Áron</td><td>2016-11-05</td><td>2016-11-07</td><td>2</td><td>8</td></tr>",
                            "<tr><td>ARONK</td><td>Kelemen Áron</td><td>2016-12-07</td><td>2016-12-12</td><td>3</td><td>6</td></tr>",
                            "<tr><td>ARONK</td><td>Kelemen Áron</td><td>2017-01-01</td><td>2017-01-03</td><td>2</td><td>7</td></tr>",
                            "<tr><td>ARONK</td><td>Kelemen Áron</td><td>2017-01-30</td><td>2017-02-03</td><td>2</td><td>7</td></tr>",
                            "<tr><td>ARONK</td><td>Kelemen Áron</td><td>2017-02-21</td><td>2017-02-23</td><td>2</td><td>7</td></tr>",
                            "<tr><td>arpad2</td><td>Ötvös Árpád</td><td>2016-06-05</td><td>2016-06-07</td><td>2</td><td>NULL</td></tr>",
                            "<tr><td>arpad2</td><td>Ötvös Árpád</td><td>2016-08-23</td><td>2016-08-25</td><td>2</td><td>2</td></tr>",
                            "<tr><td>arpad2</td><td>Ötvös Árpád</td><td>2016-09-28</td><td>2016-09-30</td><td>2</td><td>4</td></tr>",
                            "<tr><td>arpad2</td><td>Ötvös Árpád</td><td>2016-10-13</td><td>2016-10-19</td><td>3</td><td>6</td></tr>",
                            "<tr><td>arpad2</td><td>Ötvös Árpád</td><td>2016-11-06</td><td>2016-11-10</td><td>2</td><td>7</td></tr>",
                            "<tr><td>arpad2</td><td>Ötvös Árpád</td><td>2016-12-24</td><td>2016-12-27</td><td>3</td><td>7</td></tr>",
                            "<tr><td>arpad2</td><td>Ötvös Árpád</td><td>2017-02-18</td><td>2017-02-19</td><td>4</td><td>8</td></tr>",
                            "<tr><td>ARPADH</td><td>Horváth Árpád</td><td>2016-06-06</td><td>2016-06-07</td><td>3</td><td>NULL</td></tr>",
                            "<tr><td>ARPADH</td><td>Horváth Árpád</td><td>2016-07-14</td><td>2016-07-18</td><td>2</td><td>3</td></tr>",
                            "<tr><td>ARPADH</td><td>Horváth Árpád</td><td>2016-09-16</td><td>2016-09-23</td><td>1</td><td>5</td></tr>",
                            "<tr><td>ARPADH</td><td>Horváth Árpád</td><td>2016-09-18</td><td>2016-09-25</td><td>1</td><td>6</td></tr>",
                            "<tr><td>ARPADH</td><td>Horváth Árpád</td><td>2016-12-04</td><td>2016-12-10</td><td>1</td><td>4</td></tr>",
                            "<tr><td>ARPADH</td><td>Horváth Árpád</td><td>2016-12-18</td><td>2016-12-19</td><td>3</td><td>3</td></tr>",
                            "<tr><td>ARPADH</td><td>Horváth Árpád</td><td>2017-02-16</td><td>2017-02-18</td><td>2</td><td>5</td></tr>",
                            "<tr><td>ARPADM</td><td>Móricz Árpád</td><td>2016-05-29</td><td>2016-06-01</td><td>2</td><td>NULL</td></tr>",
                            "<tr><td>ARPADM</td><td>Móricz Árpád</td><td>2016-08-12</td><td>2016-08-16</td><td>2</td><td>2</td></tr>",
                            "<tr><td>ARPADM</td><td>Móricz Árpád</td><td>2016-11-09</td><td>2016-11-11</td><td>2</td><td>4</td></tr>",
                            "<tr><td>ARPADM</td><td>Móricz Árpád</td><td>2016-12-14</td><td>2016-12-17</td><td>3</td><td>6</td></tr>",
                            "<tr><td>ARPADM</td><td>Móricz Árpád</td><td>2017-01-05</td><td>2017-01-10</td><td>1</td><td>7</td></tr>",
                            "<tr><td>ARPADM</td><td>Móricz Árpád</td><td>2017-02-12</td><td>2017-02-14</td><td>3</td><td>6</td></tr>",
                            "<tr><td>attila</td><td>Csóti Attila</td><td>2016-09-30</td><td>2016-10-07</td><td>3</td><td>NULL</td></tr>",
                            "<tr><td>attila</td><td>Csóti Attila</td><td>2016-10-15</td><td>2016-10-19</td><td>1</td><td>3</td></tr>",
                            "<tr><td>attila</td><td>Csóti Attila</td><td>2016-12-22</td><td>2016-12-26</td><td>2</td><td>4</td></tr>",
                            "<tr><td>attila1</td><td>Gulyás Attila</td><td>2016-05-20</td><td>2016-05-26</td><td>1</td><td>NULL</td></tr>",
                            "<tr><td>attila1</td><td>Gulyás Attila</td><td>2016-10-09</td><td>2016-10-12</td><td>2</td><td>1</td></tr>",
                            "<tr><td>attila1</td><td>Gulyás Attila</td><td>2016-10-15</td><td>2016-10-16</td><td>3</td><td>3</td></tr>",
                            "<tr><td>attila1</td><td>Gulyás Attila</td><td>2016-10-30</td><td>2016-11-05</td><td>2</td><td>6</td></tr>",
                            "<tr><td>attila1</td><td>Gulyás Attila</td><td>2016-11-10</td><td>2016-11-14</td><td>2</td><td>7</td></tr>",
                            "<tr><td>attila1</td><td>Gulyás Attila</td><td>2017-01-23</td><td>2017-01-30</td><td>4</td><td>7</td></tr>",
                            "<tr><td>attila4</td><td>Baróti Attila</td><td>2016-08-18</td><td>2016-08-23</td><td>4</td><td>NULL</td></tr>",
                            "<tr><td>attila4</td><td>Baróti Attila</td><td>2016-12-31</td><td>2017-01-01</td><td>2</td><td>4</td></tr>",
                            "<tr><td>attila4</td><td>Baróti Attila</td><td>2017-02-15</td><td>2017-02-22</td><td>2</td><td>6</td></tr>",
                            "<tr><td>ATTILAO</td><td>Opra Attila</td><td>2016-05-21</td><td>2016-05-26</td><td>3</td><td>NULL</td></tr>",
                            "<tr><td>ATTILAO</td><td>Opra Attila</td><td>2016-06-04</td><td>2016-06-11</td><td>3</td><td>3</td></tr>",
                            "<tr><td>ATTILAO</td><td>Opra Attila</td><td>2016-10-30</td><td>2016-11-03</td><td>2</td><td>6</td></tr>",
                            "<tr><td>ATTILAO</td><td>Opra Attila</td><td>2017-02-22</td><td>2017-02-25</td><td>3</td><td>8</td></tr>",
                            "<tr><td>balazs1</td><td>Bozsik Balázs</td><td>2016-05-07</td><td>2016-05-14</td><td>2</td><td>NULL</td></tr>",
                            "<tr><td>balazs1</td><td>Bozsik Balázs</td><td>2016-07-22</td><td>2016-07-26</td><td>4</td><td>2</td></tr>",
                            "<tr><td>balazs1</td><td>Bozsik Balázs</td><td>2016-12-26</td><td>2016-12-28</td><td>3</td><td>6</td></tr>",
                            "<tr><td>balazs1</td><td>Bozsik Balázs</td><td>2017-01-01</td><td>2017-01-05</td><td>2</td><td>9</td></tr>",
                            "<tr><td>balazs1</td><td>Bozsik Balázs</td><td>2017-02-10</td><td>2017-02-14</td><td>3</td><td>9</td></tr>",
                            "<tr><td>balazs1</td><td>Bozsik Balázs</td><td>2017-02-12</td><td>2017-02-14</td><td>2</td><td>8</td></tr>",
                            "<tr><td>balazs2</td><td>Szűcs Balázs</td><td>2016-04-16</td><td>2016-04-19</td><td>2</td><td>NULL</td></tr>",
                            "<tr><td>balazs2</td><td>Szűcs Balázs</td><td>2016-05-22</td><td>2016-05-29</td><td>3</td><td>2</td></tr>",
                            "<tr><td>balazs2</td><td>Szűcs Balázs</td><td>2016-05-28</td><td>2016-06-01</td><td>3</td><td>5</td></tr>",
                            "<tr><td>balazs2</td><td>Szűcs Balázs</td><td>2016-07-08</td><td>2016-07-12</td><td>3</td><td>8</td></tr>",
                            "<tr><td>balazs2</td><td>Szűcs Balázs</td><td>2016-07-10</td><td>2016-07-17</td><td>3</td><td>9</td></tr>",
                            "<tr><td>balazs2</td><td>Szűcs Balázs</td><td>2016-07-20</td><td>2016-07-25</td><td>2</td><td>9</td></tr>",
                            "<tr><td>balazs2</td><td>Szűcs Balázs</td><td>2016-08-21</td><td>2016-08-22</td><td>3</td><td>8</td></tr>",
                            "<tr><td>balazs2</td><td>Szűcs Balázs</td><td>2016-09-12</td><td>2016-09-14</td><td>3</td><td>8</td></tr>",
                            "<tr><td>balazs2</td><td>Szűcs Balázs</td><td>2016-11-03</td><td>2016-11-05</td><td>3</td><td>8</td></tr>",
                            "<tr><td>balazs2</td><td>Szűcs Balázs</td><td>2017-02-27</td><td>2017-03-06</td><td>1</td><td>9</td></tr>",
                            "<tr><td>balazs3</td><td>Bakódy Balázs</td><td>2016-07-17</td><td>2016-07-21</td><td>2</td><td>NULL</td></tr>",
                            "<tr><td>balazs3</td><td>Bakódy Balázs</td><td>2016-07-27</td><td>2016-07-31</td><td>4</td><td>2</td></tr>",
                            "<tr><td>balazs3</td><td>Bakódy Balázs</td><td>2016-08-24</td><td>2016-08-28</td><td>3</td><td>6</td></tr>",
                            "<tr><td>balazs3</td><td>Bakódy Balázs</td><td>2016-09-15</td><td>2016-09-16</td><td>3</td><td>9</td></tr>",
                            "<tr><td>balazs3</td><td>Bakódy Balázs</td><td>2016-12-05</td><td>2016-12-11</td><td>3</td><td>10</td></tr>",
                            "<tr><td>balazs3</td><td>Bakódy Balázs</td><td>2017-01-20</td><td>2017-01-22</td><td>2</td><td>9</td></tr>",
                            "<tr><td>balint</td><td>Horváth Bálint</td><td>2016-04-22</td><td>2016-04-29</td><td>2</td><td>NULL</td></tr>",
                            "<tr><td>balint</td><td>Horváth Bálint</td><td>2016-10-09</td><td>2016-10-11</td><td>2</td><td>2</td></tr>",
                            "<tr><td>balint</td><td>Horváth Bálint</td><td>2016-11-24</td><td>2016-11-29</td><td>3</td><td>4</td></tr>",
                            "<tr><td>balint1</td><td>Molnár Bálint</td><td>2016-06-07</td><td>2016-06-11</td><td>3</td><td>NULL</td></tr>",
                            "<tr><td>balint1</td><td>Molnár Bálint</td><td>2016-06-07</td><td>2016-06-12</td><td>3</td><td>3</td></tr>",
                            "<tr><td>balint1</td><td>Molnár Bálint</td><td>2016-06-10</td><td>2016-06-12</td><td>1</td><td>6</td></tr>",
                            "<tr><td>balint1</td><td>Molnár Bálint</td><td>2016-07-26</td><td>2016-07-28</td><td>2</td><td>7</td></tr>",
                            "<tr><td>balint1</td><td>Molnár Bálint</td><td>2016-08-03</td><td>2016-08-08</td><td>2</td><td>6</td></tr>",
                            "<tr><td>balint1</td><td>Molnár Bálint</td><td>2016-09-16</td><td>2016-09-21</td><td>1</td><td>5</td></tr>",
                            "<tr><td>balint1</td><td>Molnár Bálint</td><td>2016-11-07</td><td>2016-11-10</td><td>2</td><td>5</td></tr>",
                            "<tr><td>balint1</td><td>Molnár Bálint</td><td>2016-12-17</td><td>2016-12-22</td><td>3</td><td>5</td></tr>",
                            "<tr><td>balint1</td><td>Molnár Bálint</td><td>2016-12-29</td><td>2016-12-31</td><td>3</td><td>6</td></tr>",
                            "<tr><td>balint1</td><td>Molnár Bálint</td><td>2017-01-03</td><td>2017-01-08</td><td>2</td><td>8</td></tr>",
                            "<tr><td>balint2</td><td>Vukasinovity Bálint</td><td>2016-07-21</td><td>2016-07-26</td><td>1</td><td>NULL</td></tr>",
                            "<tr><td>balint2</td><td>Vukasinovity Bálint</td><td>2016-12-04</td><td>2016-12-06</td><td>3</td><td>1</td></tr>",
                            "<tr><td>balu</td><td>Endresz Bálint</td><td>2016-08-06</td><td>2016-08-10</td><td>2</td><td>NULL</td></tr>",
                            "<tr><td>balu</td><td>Endresz Bálint</td><td>2016-12-22</td><td>2016-12-23</td><td>2</td><td>2</td></tr>",
                            "<tr><td>beata4</td><td>Bagi Beáta</td><td>2016-04-20</td><td>2016-04-21</td><td>2</td><td>NULL</td></tr>",
                            "<tr><td>beata4</td><td>Bagi Beáta</td><td>2016-06-03</td><td>2016-06-04</td><td>2</td><td>2</td></tr>",
                            "<tr><td>beata4</td><td>Bagi Beáta</td><td>2016-07-03</td><td>2016-07-06</td><td>1</td><td>4</td></tr>",
                            "<tr><td>beata4</td><td>Bagi Beáta</td><td>2016-08-25</td><td>2016-08-27</td><td>3</td><td>5</td></tr>",
                            "<tr><td>beata4</td><td>Bagi Beáta</td><td>2016-10-01</td><td>2016-10-05</td><td>1</td><td>6</td></tr>",
                            "<tr><td>beata4</td><td>Bagi Beáta</td><td>2016-10-03</td><td>2016-10-06</td><td>3</td><td>5</td></tr>",
                            "<tr><td>BEATRIXK</td><td>Kerényi Beatrix</td><td>2016-06-10</td><td>2016-06-11</td><td>2</td><td>NULL</td></tr>",
                            "<tr><td>BEATRIXK</td><td>Kerényi Beatrix</td><td>2016-06-10</td><td>2016-06-14</td><td>2</td><td>2</td></tr>",
                            "<tr><td>BEATRIXK</td><td>Kerényi Beatrix</td><td>2016-06-19</td><td>2016-06-21</td><td>3</td><td>4</td></tr>",
                            "<tr><td>BEATRIXK</td><td>Kerényi Beatrix</td><td>2016-08-12</td><td>2016-08-18</td><td>4</td><td>7</td></tr>",
                            "<tr><td>BEATRIXK</td><td>Kerényi Beatrix</td><td>2016-10-23</td><td>2016-10-28</td><td>2</td><td>9</td></tr>",
                            "<tr><td>BEATRIXK</td><td>Kerényi Beatrix</td><td>2016-11-14</td><td>2016-11-19</td><td>2</td><td>9</td></tr>",
                            "<tr><td>BEATRIXK</td><td>Kerényi Beatrix</td><td>2016-12-12</td><td>2016-12-14</td><td>3</td><td>8</td></tr>",
                            "<tr><td>BEATRIXK</td><td>Kerényi Beatrix</td><td>2016-12-17</td><td>2016-12-22</td><td>4</td><td>7</td></tr>",
                            "<tr><td>BEATRIXK</td><td>Kerényi Beatrix</td><td>2017-02-08</td><td>2017-02-09</td><td>3</td><td>9</td></tr>",
                            "<tr><td>BEATRIXS</td><td>Szekendi Beatrix</td><td>2016-04-18</td><td>2016-04-24</td><td>1</td><td>NULL</td></tr>",
                            "<tr><td>BEATRIXS</td><td>Szekendi Beatrix</td><td>2016-06-11</td><td>2016-06-14</td><td>3</td><td>1</td></tr>",
                            "<tr><td>BEATRIXS</td><td>Szekendi Beatrix</td><td>2016-10-01</td><td>2016-10-03</td><td>3</td><td>4</td></tr>",
                            "<tr><td>BEATRIXS</td><td>Szekendi Beatrix</td><td>2016-10-01</td><td>2016-10-05</td><td>3</td><td>7</td></tr>",
                            "<tr><td>BEATRIXS</td><td>Szekendi Beatrix</td><td>2016-12-21</td><td>2016-12-27</td><td>2</td><td>9</td></tr>",
                            "<tr><td>BEATRIXS</td><td>Szekendi Beatrix</td><td>2017-02-03</td><td>2017-02-04</td><td>2</td><td>8</td></tr>",
                            "<tr><td>BELAF</td><td>Farkas Béla</td><td>2016-07-27</td><td>2016-07-30</td><td>3</td><td>NULL</td></tr>",
                            "<tr><td>BELAF</td><td>Farkas Béla</td><td>2016-07-29</td><td>2016-07-31</td><td>2</td><td>3</td></tr>",
                            "<tr><td>BELAF</td><td>Farkas Béla</td><td>2016-08-29</td><td>2016-08-31</td><td>2</td><td>5</td></tr>",
                            "<tr><td>BELAF</td><td>Farkas Béla</td><td>2016-11-03</td><td>2016-11-09</td><td>4</td><td>7</td></tr>",
                            "<tr><td>BELAF</td><td>Farkas Béla</td><td>2016-12-02</td><td>2016-12-04</td><td>3</td><td>8</td></tr>",
                            "<tr><td>BELAF</td><td>Farkas Béla</td><td>2016-12-06</td><td>2016-12-09</td><td>1</td><td>9</td></tr>",
                            "<tr><td>bence</td><td>Győrffy Bence</td><td>2016-05-08</td><td>2016-05-11</td><td>2</td><td>NULL</td></tr>",
                            "<tr><td>bence</td><td>Győrffy Bence</td><td>2016-05-29</td><td>2016-06-03</td><td>1</td><td>2</td></tr>",
                            "<tr><td>bence</td><td>Győrffy Bence</td><td>2016-07-24</td><td>2016-07-30</td><td>2</td><td>3</td></tr>",
                            "<tr><td>bence</td><td>Győrffy Bence</td><td>2016-07-25</td><td>2016-08-01</td><td>3</td><td>5</td></tr>",
                            "<tr><td>bence</td><td>Győrffy Bence</td><td>2016-09-03</td><td>2016-09-06</td><td>3</td><td>6</td></tr>",
                            "<tr><td>bence</td><td>Győrffy Bence</td><td>2016-10-30</td><td>2016-11-02</td><td>4</td><td>8</td></tr>",
                            "<tr><td>bence</td><td>Győrffy Bence</td><td>2016-12-17</td><td>2016-12-18</td><td>2</td><td>10</td></tr>",
                            "<tr><td>bence</td><td>Győrffy Bence</td><td>2016-12-26</td><td>2016-12-27</td><td>2</td><td>9</td></tr>",
                            "<tr><td>bence</td><td>Győrffy Bence</td><td>2017-02-05</td><td>2017-02-09</td><td>3</td><td>8</td></tr>",
                            "<tr><td>BENCEB</td><td>Bajusz Bence</td><td>2016-05-14</td><td>2016-05-17</td><td>3</td><td>NULL</td></tr>",
                            "<tr><td>BENCEB</td><td>Bajusz Bence</td><td>2016-06-03</td><td>2016-06-09</td><td>2</td><td>3</td></tr>",
                            "<tr><td>BENCEB</td><td>Bajusz Bence</td><td>2016-08-01</td><td>2016-08-02</td><td>2</td><td>5</td></tr>",
                            "<tr><td>BENCEB</td><td>Bajusz Bence</td><td>2016-10-22</td><td>2016-10-29</td><td>3</td><td>7</td></tr>",
                            "<tr><td>BENCEB</td><td>Bajusz Bence</td><td>2016-11-28</td><td>2016-12-02</td><td>2</td><td>7</td></tr>",
                            "<tr><td>BENCEB</td><td>Bajusz Bence</td><td>2017-02-12</td><td>2017-02-19</td><td>3</td><td>7</td></tr>",
                            "<tr><td>bernadett1</td><td>Simon Bernadett</td><td>2016-06-12</td><td>2016-06-17</td><td>3</td><td>NULL</td></tr>",
                            "<tr><td>bernadett1</td><td>Simon Bernadett</td><td>2016-10-08</td><td>2016-10-09</td><td>4</td><td>3</td></tr>",
                            "<tr><td>bernadett1</td><td>Simon Bernadett</td><td>2016-10-15</td><td>2016-10-22</td><td>3</td><td>7</td></tr>",
                            "<tr><td>bernadett1</td><td>Simon Bernadett</td><td>2016-10-26</td><td>2016-11-02</td><td>3</td><td>10</td></tr>",
                            "<tr><td>bernadett1</td><td>Simon Bernadett</td><td>2016-10-28</td><td>2016-11-01</td><td>3</td><td>10</td></tr>",
                            "<tr><td>bernadett1</td><td>Simon Bernadett</td><td>2017-02-14</td><td>2017-02-15</td><td>3</td><td>9</td></tr>",
                            "<tr><td>bernadett1</td><td>Simon Bernadett</td><td>2017-02-24</td><td>2017-03-03</td><td>1</td><td>9</td></tr>",
                            "<tr><td>bernadett2</td><td>Kovács Bernadett</td><td>2016-05-01</td><td>2016-05-03</td><td>2</td><td>NULL</td></tr>",
                            "<tr><td>bernadett2</td><td>Kovács Bernadett</td><td>2016-06-17</td><td>2016-06-23</td><td>3</td><td>2</td></tr>",
                            "<tr><td>bernadett2</td><td>Kovács Bernadett</td><td>2016-08-23</td><td>2016-08-29</td><td>2</td><td>5</td></tr>",
                            "<tr><td>bernadett2</td><td>Kovács Bernadett</td><td>2016-08-25</td><td>2016-08-27</td><td>3</td><td>7</td></tr>",
                            "<tr><td>bernadett2</td><td>Kovács Bernadett</td><td>2016-09-07</td><td>2016-09-13</td><td>3</td><td>8</td></tr>",
                            "<tr><td>bernadett2</td><td>Kovács Bernadett</td><td>2016-10-30</td><td>2016-11-06</td><td>3</td><td>8</td></tr>",
                            "<tr><td>bernadett2</td><td>Kovács Bernadett</td><td>2016-12-17</td><td>2016-12-20</td><td>1</td><td>9</td></tr>",
                            "<tr><td>bernadett2</td><td>Kovács Bernadett</td><td>2017-01-24</td><td>2017-01-30</td><td>3</td><td>7</td></tr>",
                            "<tr><td>BERNADETTO</td><td>Orbán Bernadett</td><td>2016-04-10</td><td>2016-04-17</td><td>2</td><td>NULL</td></tr>",
                            "<tr><td>BERNADETTO</td><td>Orbán Bernadett</td><td>2016-04-17</td><td>2016-04-19</td><td>2</td><td>2</td></tr>",
                            "<tr><td>BERNADETTO</td><td>Orbán Bernadett</td><td>2016-06-07</td><td>2016-06-13</td><td>3</td><td>4</td></tr>",
                            "<tr><td>BERNADETTO</td><td>Orbán Bernadett</td><td>2016-06-10</td><td>2016-06-16</td><td>4</td><td>7</td></tr>",
                            "<tr><td>BERNADETTO</td><td>Orbán Bernadett</td><td>2016-10-04</td><td>2016-10-05</td><td>2</td><td>9</td></tr>",
                            "<tr><td>BERNADETTO</td><td>Orbán Bernadett</td><td>2017-01-01</td><td>2017-01-02</td><td>3</td><td>9</td></tr>",
                            "<tr><td>BERNADETTO</td><td>Orbán Bernadett</td><td>2017-01-28</td><td>2017-02-03</td><td>2</td><td>9</td></tr>",
                            "<tr><td>bertalan</td><td>Csiger Bertalan</td><td>2016-05-18</td><td>2016-05-23</td><td>2</td><td>NULL</td></tr>",
                            "<tr><td>bertalan</td><td>Csiger Bertalan</td><td>2016-06-20</td><td>2016-06-21</td><td>1</td><td>2</td></tr>",
                            "<tr><td>bertalan</td><td>Csiger Bertalan</td><td>2016-11-03</td><td>2016-11-10</td><td>2</td><td>3</td></tr>",
                            "<tr><td>bertalan</td><td>Csiger Bertalan</td><td>2016-11-26</td><td>2016-11-29</td><td>3</td><td>5</td></tr>",
                            "<tr><td>bertalan</td><td>Csiger Bertalan</td><td>2017-02-16</td><td>2017-02-22</td><td>2</td><td>6</td></tr>",
                            "<tr><td>bertalan</td><td>Csiger Bertalan</td><td>2017-02-20</td><td>2017-02-24</td><td>4</td><td>7</td></tr>",
                            "<tr><td>brigitta</td><td>Székely Brigitta</td><td>2016-05-30</td><td>2016-06-06</td><td>3</td><td>NULL</td></tr>",
                            "<tr><td>brigitta</td><td>Székely Brigitta</td><td>2016-08-28</td><td>2016-09-01</td><td>3</td><td>3</td></tr>",
                            "<tr><td>brigitta</td><td>Székely Brigitta</td><td>2016-10-21</td><td>2016-10-28</td><td>3</td><td>6</td></tr>",
                            "<tr><td>brigitta</td><td>Székely Brigitta</td><td>2016-12-17</td><td>2016-12-22</td><td>2</td><td>9</td></tr>",
                            "<tr><td>brigitta</td><td>Székely Brigitta</td><td>2017-01-23</td><td>2017-01-25</td><td>1</td><td>8</td></tr>",
                            "<tr><td>brigitta3</td><td>Pataki Brigitta</td><td>2016-06-01</td><td>2016-06-05</td><td>2</td><td>NULL</td></tr>",
                            "<tr><td>brigitta3</td><td>Pataki Brigitta</td><td>2016-06-13</td><td>2016-06-17</td><td>3</td><td>2</td></tr>",
                            "<tr><td>brigitta3</td><td>Pataki Brigitta</td><td>2016-10-10</td><td>2016-10-14</td><td>2</td><td>5</td></tr>",
                            "<tr><td>brigitta3</td><td>Pataki Brigitta</td><td>2016-11-03</td><td>2016-11-09</td><td>3</td><td>7</td></tr>",
                            "<tr><td>brigitta3</td><td>Pataki Brigitta</td><td>2017-02-09</td><td>2017-02-16</td><td>2</td><td>8</td></tr>",
                            "<tr><td>csongor3</td><td>Nagymihály Csongor</td><td>2016-05-01</td><td>2016-05-04</td><td>2</td><td>NULL</td></tr>",
                            "<tr><td>csongor3</td><td>Nagymihály Csongor</td><td>2016-05-08</td><td>2016-05-15</td><td>3</td><td>2</td></tr>",
                            "<tr><td>csongor3</td><td>Nagymihály Csongor</td><td>2016-06-04</td><td>2016-06-05</td><td>2</td><td>5</td></tr>",
                            "<tr><td>csongor3</td><td>Nagymihály Csongor</td><td>2016-06-10</td><td>2016-06-17</td><td>3</td><td>7</td></tr>",
                            "<tr><td>csongor3</td><td>Nagymihály Csongor</td><td>2016-06-11</td><td>2016-06-14</td><td>2</td><td>8</td></tr>",
                            "<tr><td>csongor3</td><td>Nagymihály Csongor</td><td>2016-07-09</td><td>2016-07-10</td><td>4</td><td>7</td></tr>",
                            "<tr><td>csongor3</td><td>Nagymihály Csongor</td><td>2016-11-12</td><td>2016-11-17</td><td>3</td><td>9</td></tr>",
                            "<tr><td>csongor3</td><td>Nagymihály Csongor</td><td>2017-02-13</td><td>2017-02-19</td><td>3</td><td>9</td></tr>",
                            "<tr><td>dani</td><td>Vörös Dániel</td><td>2016-06-06</td><td>2016-06-10</td><td>3</td><td>NULL</td></tr>",
                            "<tr><td>dani</td><td>Vörös Dániel</td><td>2016-07-11</td><td>2016-07-12</td><td>3</td><td>3</td></tr>",
                            "<tr><td>dani</td><td>Vörös Dániel</td><td>2016-08-06</td><td>2016-08-09</td><td>2</td><td>6</td></tr>",
                            "<tr><td>dani</td><td>Vörös Dániel</td><td>2016-09-19</td><td>2016-09-25</td><td>4</td><td>8</td></tr>",
                            "<tr><td>dani</td><td>Vörös Dániel</td><td>2016-10-01</td><td>2016-10-02</td><td>1</td><td>9</td></tr>",
                            "<tr><td>dani</td><td>Vörös Dániel</td><td>2016-11-22</td><td>2016-11-24</td><td>2</td><td>7</td></tr>",
                            "<tr><td>dani</td><td>Vörös Dániel</td><td>2017-01-17</td><td>2017-01-23</td><td>2</td><td>7</td></tr>",
                            "<tr><td>dani</td><td>Vörös Dániel</td><td>2017-01-22</td><td>2017-01-29</td><td>1</td><td>5</td></tr>",
                            "<tr><td>dani</td><td>Vörös Dániel</td><td>2017-02-25</td><td>2017-03-01</td><td>3</td><td>5</td></tr>",
                            "<tr><td>daniel</td><td>Rácz Dániel</td><td>2016-04-10</td><td>2016-04-11</td><td>4</td><td>NULL</td></tr>",
                            "<tr><td>daniel</td><td>Rácz Dániel</td><td>2016-04-22</td><td>2016-04-25</td><td>2</td><td>4</td></tr>",
                            "<tr><td>daniel</td><td>Rácz Dániel</td><td>2016-05-09</td><td>2016-05-13</td><td>3</td><td>6</td></tr>",
                            "<tr><td>daniel</td><td>Rácz Dániel</td><td>2016-09-08</td><td>2016-09-10</td><td>4</td><td>9</td></tr>",
                            "<tr><td>daniel</td><td>Rácz Dániel</td><td>2016-11-13</td><td>2016-11-19</td><td>3</td><td>9</td></tr>",
                            "<tr><td>daniel</td><td>Rácz Dániel</td><td>2016-12-25</td><td>2016-12-26</td><td>3</td><td>10</td></tr>",
                            "<tr><td>daniel</td><td>Rácz Dániel</td><td>2017-01-09</td><td>2017-01-11</td><td>1</td><td>10</td></tr>",
                            "<tr><td>daniel</td><td>Rácz Dániel</td><td>2017-02-12</td><td>2017-02-13</td><td>3</td><td>7</td></tr>",
                            "<tr><td>daniel</td><td>Rácz Dániel</td><td>2017-02-20</td><td>2017-02-23</td><td>3</td><td>7</td></tr>",
                            "<tr><td>daniel1</td><td>Keszler Dániel</td><td>2016-04-10</td><td>2016-04-15</td><td>2</td><td>NULL</td></tr>",
                            "<tr><td>daniel1</td><td>Keszler Dániel</td><td>2016-05-10</td><td>2016-05-13</td><td>4</td><td>2</td></tr>",
                            "<tr><td>daniel1</td><td>Keszler Dániel</td><td>2016-05-26</td><td>2016-05-27</td><td>3</td><td>6</td></tr>",
                            "<tr><td>daniel1</td><td>Keszler Dániel</td><td>2016-11-09</td><td>2016-11-11</td><td>2</td><td>9</td></tr>",
                            "<tr><td>daniel1</td><td>Keszler Dániel</td><td>2016-11-23</td><td>2016-11-25</td><td>2</td><td>9</td></tr>",
                            "<tr><td>daniel1</td><td>Keszler Dániel</td><td>2017-01-05</td><td>2017-01-08</td><td>3</td><td>7</td></tr>",
                            "<tr><td>daniel1</td><td>Keszler Dániel</td><td>2017-03-01</td><td>2017-03-06</td><td>4</td><td>7</td></tr>",
                            "<tr><td>david</td><td>Ambrus Dávid</td><td>2016-05-18</td><td>2016-05-25</td><td>2</td><td>NULL</td></tr>",
                            "<tr><td>david</td><td>Ambrus Dávid</td><td>2016-06-09</td><td>2016-06-10</td><td>2</td><td>2</td></tr>",
                            "<tr><td>david</td><td>Ambrus Dávid</td><td>2016-06-30</td><td>2016-07-07</td><td>2</td><td>4</td></tr>",
                            "<tr><td>david</td><td>Ambrus Dávid</td><td>2016-07-18</td><td>2016-07-21</td><td>2</td><td>6</td></tr>",
                            "<tr><td>david</td><td>Ambrus Dávid</td><td>2016-08-05</td><td>2016-08-12</td><td>1</td><td>6</td></tr>",
                            "<tr><td>david</td><td>Ambrus Dávid</td><td>2016-08-20</td><td>2016-08-25</td><td>3</td><td>5</td></tr>",
                            "<tr><td>david</td><td>Ambrus Dávid</td><td>2016-08-22</td><td>2016-08-24</td><td>3</td><td>6</td></tr>",
                            "<tr><td>david</td><td>Ambrus Dávid</td><td>2016-10-30</td><td>2016-11-04</td><td>2</td><td>7</td></tr>",
                            "<tr><td>david</td><td>Ambrus Dávid</td><td>2017-01-18</td><td>2017-01-19</td><td>2</td><td>8</td></tr>",
                            "<tr><td>david1</td><td>Sobják Dávid</td><td>2016-09-20</td><td>2016-09-21</td><td>2</td><td>NULL</td></tr>",
                            "<tr><td>david1</td><td>Sobják Dávid</td><td>2016-10-01</td><td>2016-10-02</td><td>2</td><td>2</td></tr>",
                            "<tr><td>david1</td><td>Sobják Dávid</td><td>2016-11-19</td><td>2016-11-22</td><td>2</td><td>4</td></tr>",
                            "<tr><td>david1</td><td>Sobják Dávid</td><td>2016-12-30</td><td>2017-01-06</td><td>2</td><td>6</td></tr>",
                            "<tr><td>david1</td><td>Sobják Dávid</td><td>2017-02-17</td><td>2017-02-20</td><td>3</td><td>6</td></tr>",
                            "<tr><td>david1</td><td>Sobják Dávid</td><td>2017-02-25</td><td>2017-02-27</td><td>4</td><td>7</td></tr>",
                            "<tr><td>david4</td><td>Berta Dávid</td><td>2017-02-16</td><td>2017-02-19</td><td>3</td><td>NULL</td></tr>",
                            "<tr><td>debora</td><td>Barna Debóra</td><td>2016-06-22</td><td>2016-06-24</td><td>5</td><td>NULL</td></tr>",
                            "<tr><td>debora</td><td>Barna Debóra</td><td>2016-10-29</td><td>2016-11-03</td><td>2</td><td>5</td></tr>",
                            "<tr><td>debora</td><td>Barna Debóra</td><td>2017-01-23</td><td>2017-01-28</td><td>3</td><td>7</td></tr>",
                            "<tr><td>debora</td><td>Barna Debóra</td><td>2017-02-04</td><td>2017-02-06</td><td>3</td><td>10</td></tr>",
                            "<tr><td>denes</td><td>Tömböly Dénes</td><td>2016-05-27</td><td>2016-05-31</td><td>3</td><td>NULL</td></tr>",
                            "<tr><td>denes</td><td>Tömböly Dénes</td><td>2016-07-19</td><td>2016-07-23</td><td>2</td><td>3</td></tr>",
                            "<tr><td>denes</td><td>Tömböly Dénes</td><td>2016-08-01</td><td>2016-08-08</td><td>3</td><td>5</td></tr>",
                            "<tr><td>denes</td><td>Tömböly Dénes</td><td>2016-08-16</td><td>2016-08-23</td><td>2</td><td>8</td></tr>",
                            "<tr><td>denes</td><td>Tömböly Dénes</td><td>2016-08-20</td><td>2016-08-27</td><td>3</td><td>7</td></tr>",
                            "<tr><td>denes</td><td>Tömböly Dénes</td><td>2016-11-06</td><td>2016-11-10</td><td>2</td><td>8</td></tr>",
                            "<tr><td>dora3</td><td>Sarodi Dóra</td><td>2016-08-16</td><td>2016-08-19</td><td>4</td><td>NULL</td></tr>",
                            "<tr><td>dora3</td><td>Sarodi Dóra</td><td>2016-08-25</td><td>2016-08-29</td><td>3</td><td>4</td></tr>",
                            "<tr><td>dora3</td><td>Sarodi Dóra</td><td>2016-10-09</td><td>2016-10-12</td><td>3</td><td>7</td></tr>",
                            "<tr><td>dora3</td><td>Sarodi Dóra</td><td>2016-10-29</td><td>2016-11-02</td><td>3</td><td>10</td></tr>",
                            "<tr><td>dora3</td><td>Sarodi Dóra</td><td>2016-11-22</td><td>2016-11-29</td><td>3</td><td>9</td></tr>",
                            "<tr><td>edit</td><td>Bittmann Edit</td><td>2016-07-14</td><td>2016-07-17</td><td>3</td><td>NULL</td></tr>",
                            "<tr><td>edit</td><td>Bittmann Edit</td><td>2016-08-03</td><td>2016-08-09</td><td>4</td><td>3</td></tr>",
                            "<tr><td>edit</td><td>Bittmann Edit</td><td>2016-08-12</td><td>2016-08-14</td><td>2</td><td>7</td></tr>",
                            "<tr><td>edit</td><td>Bittmann Edit</td><td>2016-09-17</td><td>2016-09-24</td><td>2</td><td>9</td></tr>",
                            "<tr><td>edit</td><td>Bittmann Edit</td><td>2016-09-18</td><td>2016-09-21</td><td>3</td><td>8</td></tr>",
                            "<tr><td>edit</td><td>Bittmann Edit</td><td>2017-01-15</td><td>2017-01-18</td><td>4</td><td>7</td></tr>",
                            "<tr><td>edit</td><td>Bittmann Edit</td><td>2017-02-08</td><td>2017-02-14</td><td>3</td><td>9</td></tr>",
                            "<tr><td>emese</td><td>Kuruc Emese</td><td>2016-07-22</td><td>2016-07-24</td><td>2</td><td>NULL</td></tr>",
                            "<tr><td>emese</td><td>Kuruc Emese</td><td>2016-08-09</td><td>2016-08-12</td><td>2</td><td>2</td></tr>",
                            "<tr><td>emese</td><td>Kuruc Emese</td><td>2016-09-27</td><td>2016-09-28</td><td>3</td><td>4</td></tr>",
                            "<tr><td>emese</td><td>Kuruc Emese</td><td>2016-11-05</td><td>2016-11-09</td><td>1</td><td>7</td></tr>",
                            "<tr><td>emese</td><td>Kuruc Emese</td><td>2016-11-23</td><td>2016-11-27</td><td>4</td><td>6</td></tr>",
                            "<tr><td>emese</td><td>Kuruc Emese</td><td>2016-12-07</td><td>2016-12-08</td><td>3</td><td>8</td></tr>",
                            "<tr><td>emese</td><td>Kuruc Emese</td><td>2017-01-30</td><td>2017-01-31</td><td>2</td><td>8</td></tr>",
                            "<tr><td>eszter</td><td>Molnár Eszter</td><td>2016-08-12</td><td>2016-08-18</td><td>3</td><td>NULL</td></tr>",
                            "<tr><td>eszter</td><td>Molnár Eszter</td><td>2016-10-04</td><td>2016-10-10</td><td>3</td><td>3</td></tr>",
                            "<tr><td>eszter</td><td>Molnár Eszter</td><td>2016-10-26</td><td>2016-11-01</td><td>3</td><td>6</td></tr>",
                            "<tr><td>eszter</td><td>Molnár Eszter</td><td>2016-12-23</td><td>2016-12-28</td><td>2</td><td>9</td></tr>",
                            "<tr><td>eszter2</td><td>Balogh Eszter</td><td>2016-06-30</td><td>2016-07-07</td><td>3</td><td>NULL</td></tr>",
                            "<tr><td>eszter2</td><td>Balogh Eszter</td><td>2016-07-08</td><td>2016-07-09</td><td>1</td><td>3</td></tr>",
                            "<tr><td>eszter2</td><td>Balogh Eszter</td><td>2016-10-01</td><td>2016-10-05</td><td>3</td><td>4</td></tr>",
                            "<tr><td>eszter2</td><td>Balogh Eszter</td><td>2016-10-01</td><td>2016-10-06</td><td>1</td><td>7</td></tr>",
                            "<tr><td>eszter2</td><td>Balogh Eszter</td><td>2016-10-20</td><td>2016-10-25</td><td>1</td><td>5</td></tr>",
                            "<tr><td>eszter2</td><td>Balogh Eszter</td><td>2016-10-23</td><td>2016-10-30</td><td>1</td><td>5</td></tr>",
                            "<tr><td>eszter2</td><td>Balogh Eszter</td><td>2016-11-05</td><td>2016-11-12</td><td>4</td><td>3</td></tr>",
                            "<tr><td>eszter2</td><td>Balogh Eszter</td><td>2016-12-02</td><td>2016-12-07</td><td>1</td><td>6</td></tr>",
                            "<tr><td>eszter2</td><td>Balogh Eszter</td><td>2016-12-05</td><td>2016-12-08</td><td>2</td><td>6</td></tr>",
                            "<tr><td>eszter2</td><td>Balogh Eszter</td><td>2016-12-29</td><td>2017-02-04</td><td>1</td><td>7</td></tr>",
                            "<tr><td>eszter4</td><td>Fülöp Eszter</td><td>2017-01-05</td><td>2017-01-10</td><td>2</td><td>NULL</td></tr>",
                            "<tr><td>eszter4</td><td>Fülöp Eszter</td><td>2017-01-26</td><td>2017-02-02</td><td>2</td><td>2</td></tr>",
                            "<tr><td>eszter4</td><td>Fülöp Eszter</td><td>2017-02-26</td><td>2017-02-27</td><td>3</td><td>4</td></tr>",
                            "<tr><td>ESZTERE</td><td>Érsek Eszter</td><td>2016-05-30</td><td>2016-06-05</td><td>2</td><td>NULL</td></tr>",
                            "<tr><td>ESZTERE</td><td>Érsek Eszter</td><td>2016-07-19</td><td>2016-07-21</td><td>2</td><td>2</td></tr>",
                            "<tr><td>ESZTERE</td><td>Érsek Eszter</td><td>2016-11-01</td><td>2016-11-08</td><td>2</td><td>4</td></tr>",
                            "<tr><td>ESZTERE</td><td>Érsek Eszter</td><td>2017-02-10</td><td>2017-02-14</td><td>2</td><td>6</td></tr>",
                            "<tr><td>eva</td><td>Enyedi Éva</td><td>2016-10-06</td><td>2016-10-09</td><td>3</td><td>NULL</td></tr>",
                            "<tr><td>eva</td><td>Enyedi Éva</td><td>2017-01-14</td><td>2017-01-16</td><td>2</td><td>3</td></tr>",
                            "<tr><td>eva2</td><td>Perlinger Éva</td><td>2016-09-02</td><td>2016-09-03</td><td>1</td><td>NULL</td></tr>",
                            "<tr><td>eva2</td><td>Perlinger Éva</td><td>2016-11-06</td><td>2016-11-13</td><td>2</td><td>1</td></tr>",
                            "<tr><td>eva2</td><td>Perlinger Éva</td><td>2016-12-06</td><td>2016-12-11</td><td>2</td><td>3</td></tr>",
                            "<tr><td>eva2</td><td>Perlinger Éva</td><td>2017-01-06</td><td>2017-01-09</td><td>4</td><td>5</td></tr>",
                            "<tr><td>EVAV</td><td>Viktor Éva</td><td>2016-05-01</td><td>2016-05-05</td><td>3</td><td>NULL</td></tr>",
                            "<tr><td>EVAV</td><td>Viktor Éva</td><td>2016-08-31</td><td>2016-09-04</td><td>2</td><td>3</td></tr>",
                            "<tr><td>EVAV</td><td>Viktor Éva</td><td>2016-10-15</td><td>2016-10-21</td><td>3</td><td>5</td></tr>",
                            "<tr><td>EVAV</td><td>Viktor Éva</td><td>2016-10-16</td><td>2016-10-23</td><td>2</td><td>8</td></tr>",
                            "<tr><td>EVAV</td><td>Viktor Éva</td><td>2017-02-04</td><td>2017-02-11</td><td>5</td><td>7</td></tr>",
                            "<tr><td>ferenc1</td><td>Orosz Ferenc</td><td>2016-05-08</td><td>2016-05-11</td><td>2</td><td>NULL</td></tr>",
                            "<tr><td>ferenc1</td><td>Orosz Ferenc</td><td>2016-06-16</td><td>2016-06-22</td><td>2</td><td>2</td></tr>",
                            "<tr><td>ferenc1</td><td>Orosz Ferenc</td><td>2016-10-08</td><td>2016-10-09</td><td>2</td><td>4</td></tr>",
                            "<tr><td>ferenc1</td><td>Orosz Ferenc</td><td>2016-11-07</td><td>2016-11-08</td><td>3</td><td>6</td></tr>",
                            "<tr><td>fruzsina4</td><td>Frank Fruzsina</td><td>2016-06-02</td><td>2016-06-04</td><td>2</td><td>NULL</td></tr>",
                            "<tr><td>fruzsina4</td><td>Frank Fruzsina</td><td>2016-07-01</td><td>2016-07-04</td><td>3</td><td>2</td></tr>",
                            "<tr><td>fruzsina4</td><td>Frank Fruzsina</td><td>2016-07-13</td><td>2016-07-19</td><td>3</td><td>5</td></tr>",
                            "<tr><td>fruzsina4</td><td>Frank Fruzsina</td><td>2016-08-27</td><td>2016-08-30</td><td>4</td><td>8</td></tr>",
                            "<tr><td>fruzsina4</td><td>Frank Fruzsina</td><td>2016-09-29</td><td>2016-10-01</td><td>3</td><td>10</td></tr>",
                            "<tr><td>fruzsina4</td><td>Frank Fruzsina</td><td>2016-11-22</td><td>2016-11-24</td><td>2</td><td>10</td></tr>",
                            "<tr><td>fruzsina4</td><td>Frank Fruzsina</td><td>2016-12-16</td><td>2016-12-21</td><td>1</td><td>9</td></tr>",
                            "<tr><td>fruzsina4</td><td>Frank Fruzsina</td><td>2017-01-22</td><td>2017-01-25</td><td>4</td><td>6</td></tr>",
                            "<tr><td>gabor1</td><td>Köves Gábor</td><td>2016-06-20</td><td>2016-06-21</td><td>4</td><td>NULL</td></tr>",
                            "<tr><td>gabor1</td><td>Köves Gábor</td><td>2016-07-12</td><td>2016-07-15</td><td>1</td><td>4</td></tr>",
                            "<tr><td>gabor1</td><td>Köves Gábor</td><td>2016-07-28</td><td>2016-07-30</td><td>2</td><td>5</td></tr>",
                            "<tr><td>gabor1</td><td>Köves Gábor</td><td>2016-09-02</td><td>2016-09-03</td><td>3</td><td>7</td></tr>",
                            "<tr><td>gabor1</td><td>Köves Gábor</td><td>2016-10-20</td><td>2016-10-24</td><td>1</td><td>6</td></tr>",
                            "<tr><td>gabor1</td><td>Köves Gábor</td><td>2016-11-19</td><td>2016-11-22</td><td>2</td><td>6</td></tr>",
                            "<tr><td>gabor4</td><td>Telek Gábor</td><td>2016-04-26</td><td>2016-04-29</td><td>3</td><td>NULL</td></tr>",
                            "<tr><td>gabor4</td><td>Telek Gábor</td><td>2016-05-30</td><td>2016-06-05</td><td>1</td><td>3</td></tr>",
                            "<tr><td>gabor4</td><td>Telek Gábor</td><td>2016-08-31</td><td>2016-09-06</td><td>4</td><td>4</td></tr>",
                            "<tr><td>gabor4</td><td>Telek Gábor</td><td>2016-11-07</td><td>2016-11-13</td><td>4</td><td>8</td></tr>",
                            "<tr><td>gabriella1</td><td>Nagy Gabriella</td><td>2016-04-21</td><td>2016-04-24</td><td>3</td><td>NULL</td></tr>",
                            "<tr><td>gabriella1</td><td>Nagy Gabriella</td><td>2016-07-10</td><td>2016-07-11</td><td>3</td><td>3</td></tr>",
                            "<tr><td>gabriella1</td><td>Nagy Gabriella</td><td>2016-07-24</td><td>2016-07-31</td><td>2</td><td>6</td></tr>",
                            "<tr><td>gabriella1</td><td>Nagy Gabriella</td><td>2017-02-04</td><td>2017-02-11</td><td>3</td><td>8</td></tr>",
                            "<tr><td>gabriella1</td><td>Nagy Gabriella</td><td>2017-02-12</td><td>2017-02-13</td><td>2</td><td>8</td></tr>",
                            "<tr><td>gabriella1</td><td>Nagy Gabriella</td><td>2017-02-21</td><td>2017-02-27</td><td>3</td><td>7</td></tr>",
                            "<tr><td>gabriella10</td><td>Vida Gabriella</td><td>2016-10-01</td><td>2016-10-06</td><td>3</td><td>NULL</td></tr>",
                            "<tr><td>georgij</td><td>Nyíri Georgij</td><td>2016-06-16</td><td>2016-06-20</td><td>3</td><td>NULL</td></tr>",
                            "<tr><td>georgij</td><td>Nyíri Georgij</td><td>2016-08-16</td><td>2016-08-22</td><td>4</td><td>3</td></tr>",
                            "<tr><td>georgij</td><td>Nyíri Georgij</td><td>2016-08-28</td><td>2016-09-04</td><td>2</td><td>7</td></tr>",
                            "<tr><td>georgij</td><td>Nyíri Georgij</td><td>2016-09-18</td><td>2016-09-24</td><td>3</td><td>9</td></tr>",
                            "<tr><td>gusztav</td><td>Bárci Gusztáv</td><td>2016-05-06</td><td>2016-05-13</td><td>2</td><td>NULL</td></tr>",
                            "<tr><td>gusztav</td><td>Bárci Gusztáv</td><td>2016-08-05</td><td>2016-08-11</td><td>3</td><td>2</td></tr>",
                            "<tr><td>gusztav</td><td>Bárci Gusztáv</td><td>2016-10-01</td><td>2016-10-03</td><td>3</td><td>5</td></tr>",
                            "<tr><td>gusztav</td><td>Bárci Gusztáv</td><td>2017-02-03</td><td>2017-02-09</td><td>2</td><td>8</td></tr>",
                            "<tr><td>gusztav</td><td>Bárci Gusztáv</td><td>2017-02-23</td><td>2017-03-01</td><td>4</td><td>8</td></tr>",
                            "<tr><td>GYONGYIK</td><td>Kornseé Gyöngyi</td><td>2016-06-02</td><td>2016-06-05</td><td>3</td><td>NULL</td></tr>",
                            "<tr><td>GYONGYIK</td><td>Kornseé Gyöngyi</td><td>2016-06-10</td><td>2016-06-17</td><td>1</td><td>3</td></tr>",
                            "<tr><td>GYONGYIK</td><td>Kornseé Gyöngyi</td><td>2016-07-01</td><td>2016-07-05</td><td>2</td><td>4</td></tr>",
                            "<tr><td>GYONGYIK</td><td>Kornseé Gyöngyi</td><td>2016-08-17</td><td>2016-08-21</td><td>3</td><td>6</td></tr>",
                            "<tr><td>GYONGYIK</td><td>Kornseé Gyöngyi</td><td>2016-11-08</td><td>2016-11-13</td><td>2</td><td>6</td></tr>",
                            "<tr><td>GYONGYIK</td><td>Kornseé Gyöngyi</td><td>2016-12-01</td><td>2016-12-08</td><td>2</td><td>7</td></tr>",
                            "<tr><td>GYONGYIK</td><td>Kornseé Gyöngyi</td><td>2017-01-22</td><td>2017-01-29</td><td>3</td><td>7</td></tr>",
                            "<tr><td>GYORGYO</td><td>Oroszi György</td><td>2016-05-27</td><td>2016-05-28</td><td>3</td><td>NULL</td></tr>",
                            "<tr><td>GYORGYO</td><td>Oroszi György</td><td>2016-06-01</td><td>2016-06-07</td><td>2</td><td>3</td></tr>",
                            "<tr><td>GYORGYO</td><td>Oroszi György</td><td>2016-06-10</td><td>2016-06-15</td><td>2</td><td>5</td></tr>",
                            "<tr><td>GYORGYO</td><td>Oroszi György</td><td>2016-07-18</td><td>2016-07-25</td><td>2</td><td>7</td></tr>",
                            "<tr><td>GYORGYO</td><td>Oroszi György</td><td>2016-07-28</td><td>2016-08-03</td><td>3</td><td>6</td></tr>",
                            "<tr><td>GYORGYO</td><td>Oroszi György</td><td>2016-10-28</td><td>2016-10-31</td><td>1</td><td>7</td></tr>",
                            "<tr><td>GYORGYO</td><td>Oroszi György</td><td>2017-02-13</td><td>2017-02-15</td><td>2</td><td>6</td></tr>",
                            "<tr><td>GYORGYO</td><td>Oroszi György</td><td>2017-02-24</td><td>2017-02-25</td><td>3</td><td>6</td></tr>",
                            "<tr><td>henrik3</td><td>Nádudvari Henrik</td><td>2016-08-24</td><td>2016-08-28</td><td>1</td><td>NULL</td></tr>",
                            "<tr><td>henrik3</td><td>Nádudvari Henrik</td><td>2016-12-29</td><td>2017-01-03</td><td>3</td><td>1</td></tr>",
                            "<tr><td>henrik3</td><td>Nádudvari Henrik</td><td>2017-01-27</td><td>2017-01-28</td><td>3</td><td>4</td></tr>",
                            "<tr><td>IBOLYAA</td><td>Andor Ibolya</td><td>2016-08-29</td><td>2016-08-31</td><td>5</td><td>NULL</td></tr>",
                            "<tr><td>IBOLYAA</td><td>Andor Ibolya</td><td>2016-10-23</td><td>2016-10-28</td><td>2</td><td>5</td></tr>",
                            "<tr><td>IBOLYAA</td><td>Andor Ibolya</td><td>2017-01-17</td><td>2017-01-23</td><td>3</td><td>7</td></tr>",
                            "<tr><td>ilona3</td><td>Bosnyák Ilona</td><td>2016-07-31</td><td>2016-08-06</td><td>2</td><td>NULL</td></tr>",
                            "<tr><td>ilona3</td><td>Bosnyák Ilona</td><td>2016-08-04</td><td>2016-08-08</td><td>3</td><td>2</td></tr>",
                            "<tr><td>ilona3</td><td>Bosnyák Ilona</td><td>2016-11-04</td><td>2016-11-06</td><td>4</td><td>5</td></tr>",
                            "<tr><td>ilona3</td><td>Bosnyák Ilona</td><td>2016-12-25</td><td>2016-12-31</td><td>3</td><td>9</td></tr>",
                            "<tr><td>imre</td><td>Búza Imre</td><td>2016-09-17</td><td>2016-09-19</td><td>3</td><td>NULL</td></tr>",
                            "<tr><td>imre</td><td>Búza Imre</td><td>2016-10-28</td><td>2016-10-29</td><td>4</td><td>3</td></tr>",
                            "<tr><td>imre1</td><td>Papp Imre</td><td>2016-06-23</td><td>2016-06-26</td><td>4</td><td>NULL</td></tr>",
                            "<tr><td>imre1</td><td>Papp Imre</td><td>2016-06-27</td><td>2016-06-28</td><td>2</td><td>4</td></tr>",
                            "<tr><td>imre1</td><td>Papp Imre</td><td>2016-08-21</td><td>2016-08-27</td><td>2</td><td>6</td></tr>",
                            "<tr><td>imre1</td><td>Papp Imre</td><td>2016-08-23</td><td>2016-08-25</td><td>3</td><td>8</td></tr>",
                            "<tr><td>imre1</td><td>Papp Imre</td><td>2016-08-29</td><td>2016-08-31</td><td>2</td><td>7</td></tr>",
                            "<tr><td>imre1</td><td>Papp Imre</td><td>2017-02-01</td><td>2017-02-04</td><td>2</td><td>7</td></tr>",
                            "<tr><td>imre1</td><td>Papp Imre</td><td>2017-02-05</td><td>2017-02-07</td><td>4</td><td>7</td></tr>",
                            "<tr><td>istvan</td><td>Soós István</td><td>2016-10-07</td><td>2016-10-10</td><td>2</td><td>NULL</td></tr>",
                            "<tr><td>istvan</td><td>Soós István</td><td>2016-11-22</td><td>2016-11-24</td><td>3</td><td>2</td></tr>",
                            "<tr><td>istvan</td><td>Soós István</td><td>2017-01-02</td><td>2017-01-05</td><td>2</td><td>5</td></tr>",
                            "<tr><td>istvan1</td><td>Vizi István</td><td>2016-04-16</td><td>2016-04-22</td><td>3</td><td>NULL</td></tr>",
                            "<tr><td>istvan1</td><td>Vizi István</td><td>2016-04-24</td><td>2016-04-28</td><td>3</td><td>3</td></tr>",
                            "<tr><td>istvan1</td><td>Vizi István</td><td>2016-07-19</td><td>2016-07-24</td><td>1</td><td>6</td></tr>",
                            "<tr><td>istvan1</td><td>Vizi István</td><td>2017-02-07</td><td>2017-02-10</td><td>3</td><td>7</td></tr>",
                            "<tr><td>ISTVANV</td><td>Varga István</td><td>2016-07-01</td><td>2016-07-04</td><td>4</td><td>NULL</td></tr>",
                            "<tr><td>ISTVANV</td><td>Varga István</td><td>2016-09-29</td><td>2016-10-01</td><td>3</td><td>4</td></tr>",
                            "<tr><td>janos3</td><td>Harangozó János</td><td>2016-06-04</td><td>2016-06-06</td><td>1</td><td>NULL</td></tr>",
                            "<tr><td>janos3</td><td>Harangozó János</td><td>2016-08-24</td><td>2016-08-25</td><td>3</td><td>1</td></tr>",
                            "<tr><td>janos3</td><td>Harangozó János</td><td>2016-10-03</td><td>2016-10-08</td><td>3</td><td>4</td></tr>",
                            "<tr><td>janos3</td><td>Harangozó János</td><td>2016-10-22</td><td>2016-10-23</td><td>1</td><td>7</td></tr>",
                            "<tr><td>janos3</td><td>Harangozó János</td><td>2017-02-12</td><td>2017-02-14</td><td>3</td><td>7</td></tr>",
                            "<tr><td>JANOSG</td><td>Giliga János</td><td>2016-05-09</td><td>2016-05-15</td><td>1</td><td>NULL</td></tr>",
                            "<tr><td>JANOSG</td><td>Giliga János</td><td>2016-08-16</td><td>2016-08-23</td><td>3</td><td>1</td></tr>",
                            "<tr><td>JANOSG</td><td>Giliga János</td><td>2016-08-30</td><td>2016-09-03</td><td>3</td><td>4</td></tr>",
                            "<tr><td>JANOSG</td><td>Giliga János</td><td>2016-11-07</td><td>2016-11-14</td><td>3</td><td>7</td></tr>",
                            "<tr><td>JANOSG</td><td>Giliga János</td><td>2016-12-28</td><td>2016-12-30</td><td>2</td><td>9</td></tr>",
                            "<tr><td>JANOSG</td><td>Giliga János</td><td>2017-01-10</td><td>2017-01-15</td><td>2</td><td>8</td></tr>",
                            "<tr><td>JANOSG</td><td>Giliga János</td><td>2017-01-31</td><td>2017-02-05</td><td>2</td><td>7</td></tr>",
                            "<tr><td>JANOSP</td><td>Pálinkás János</td><td>2016-07-04</td><td>2016-07-11</td><td>3</td><td>NULL</td></tr>",
                            "<tr><td>JANOSP</td><td>Pálinkás János</td><td>2016-11-23</td><td>2016-11-28</td><td>2</td><td>3</td></tr>",
                            "<tr><td>JANOSP</td><td>Pálinkás János</td><td>2016-11-25</td><td>2016-11-27</td><td>2</td><td>5</td></tr>",
                            "<tr><td>JANOSP</td><td>Pálinkás János</td><td>2016-12-18</td><td>2016-12-21</td><td>2</td><td>7</td></tr>",
                            "<tr><td>jozsef</td><td>Gergely József</td><td>2016-09-13</td><td>2016-09-19</td><td>2</td><td>NULL</td></tr>",
                            "<tr><td>jozsef</td><td>Gergely József</td><td>2016-10-08</td><td>2016-10-10</td><td>2</td><td>2</td></tr>",
                            "<tr><td>jozsef</td><td>Gergely József</td><td>2016-12-06</td><td>2016-12-07</td><td>2</td><td>4</td></tr>",
                            "<tr><td>jozsef2</td><td>Vajda József</td><td>2016-07-06</td><td>2016-07-11</td><td>2</td><td>NULL</td></tr>",
                            "<tr><td>jozsef2</td><td>Vajda József</td><td>2016-07-16</td><td>2016-07-20</td><td>3</td><td>2</td></tr>",
                            "<tr><td>jozsef2</td><td>Vajda József</td><td>2016-09-09</td><td>2016-09-15</td><td>2</td><td>5</td></tr>",
                            "<tr><td>jozsef2</td><td>Vajda József</td><td>2016-11-23</td><td>2016-11-29</td><td>3</td><td>7</td></tr>",
                            "<tr><td>jozsef2</td><td>Vajda József</td><td>2016-11-25</td><td>2016-11-29</td><td>3</td><td>8</td></tr>",
                            "<tr><td>JOZSEFG</td><td>Gyuris József</td><td>2016-05-02</td><td>2016-05-06</td><td>2</td><td>NULL</td></tr>",
                            "<tr><td>JOZSEFG</td><td>Gyuris József</td><td>2016-05-23</td><td>2016-05-25</td><td>1</td><td>2</td></tr>",
                            "<tr><td>JOZSEFG</td><td>Gyuris József</td><td>2016-06-04</td><td>2016-06-09</td><td>4</td><td>3</td></tr>",
                            "<tr><td>JOZSEFG</td><td>Gyuris József</td><td>2016-08-24</td><td>2016-08-27</td><td>3</td><td>7</td></tr>",
                            "<tr><td>JOZSEFG</td><td>Gyuris József</td><td>2017-01-09</td><td>2017-01-13</td><td>2</td><td>8</td></tr>",
                            "<tr><td>JOZSEFG</td><td>Gyuris József</td><td>2017-01-22</td><td>2017-01-26</td><td>1</td><td>9</td></tr>",
                            "<tr><td>JOZSEFG</td><td>Gyuris József</td><td>2017-02-24</td><td>2017-03-03</td><td>3</td><td>6</td></tr>",
                            "<tr><td>JUDITH</td><td>Hídasi Judit</td><td>2016-06-06</td><td>2016-06-10</td><td>2</td><td>NULL</td></tr>",
                            "<tr><td>JUDITH</td><td>Hídasi Judit</td><td>2016-07-28</td><td>2016-07-30</td><td>2</td><td>2</td></tr>",
                            "<tr><td>JUDITH</td><td>Hídasi Judit</td><td>2016-12-19</td><td>2016-12-26</td><td>1</td><td>4</td></tr>",
                            "<tr><td>julia</td><td>Tóth Júlia</td><td>2016-04-21</td><td>2016-04-26</td><td>2</td><td>NULL</td></tr>",
                            "<tr><td>julia</td><td>Tóth Júlia</td><td>2016-05-12</td><td>2016-05-17</td><td>1</td><td>2</td></tr>",
                            "<tr><td>julia</td><td>Tóth Júlia</td><td>2016-06-07</td><td>2016-06-08</td><td>5</td><td>3</td></tr>",
                            "<tr><td>julia</td><td>Tóth Júlia</td><td>2016-07-20</td><td>2016-07-22</td><td>2</td><td>8</td></tr>",
                            "<tr><td>julia</td><td>Tóth Júlia</td><td>2017-02-27</td><td>2017-03-06</td><td>3</td><td>8</td></tr>",
                            "<tr><td>julia4</td><td>Nagy Júlia</td><td>2016-11-07</td><td>2016-11-12</td><td>1</td><td>NULL</td></tr>",
                            "<tr><td>julia4</td><td>Nagy Júlia</td><td>2017-02-04</td><td>2017-02-11</td><td>4</td><td>1</td></tr>",
                            "<tr><td>julianna4</td><td>Szabó Julianna</td><td>2016-07-20</td><td>2016-07-26</td><td>2</td><td>NULL</td></tr>",
                            "<tr><td>julianna4</td><td>Szabó Julianna</td><td>2016-10-29</td><td>2016-10-31</td><td>3</td><td>2</td></tr>",
                            "<tr><td>julianna4</td><td>Szabó Julianna</td><td>2016-11-03</td><td>2016-11-04</td><td>2</td><td>5</td></tr>",
                            "<tr><td>julianna4</td><td>Szabó Julianna</td><td>2016-11-27</td><td>2016-12-04</td><td>3</td><td>7</td></tr>",
                            "<tr><td>kata</td><td>Gondos Katalin</td><td>2016-04-10</td><td>2016-04-11</td><td>2</td><td>NULL</td></tr>",
                            "<tr><td>kata</td><td>Gondos Katalin</td><td>2016-04-25</td><td>2016-05-01</td><td>1</td><td>2</td></tr>",
                            "<tr><td>kata</td><td>Gondos Katalin</td><td>2016-05-31</td><td>2016-06-01</td><td>3</td><td>3</td></tr>",
                            "<tr><td>kata</td><td>Gondos Katalin</td><td>2016-06-07</td><td>2016-06-12</td><td>2</td><td>6</td></tr>",
                            "<tr><td>kata</td><td>Gondos Katalin</td><td>2016-07-01</td><td>2016-07-07</td><td>2</td><td>6</td></tr>",
                            "<tr><td>kata</td><td>Gondos Katalin</td><td>2016-07-03</td><td>2016-07-06</td><td>1</td><td>7</td></tr>",
                            "<tr><td>kata</td><td>Gondos Katalin</td><td>2016-07-07</td><td>2016-07-09</td><td>3</td><td>5</td></tr>",
                            "<tr><td>kata</td><td>Gondos Katalin</td><td>2016-08-24</td><td>2016-08-27</td><td>3</td><td>6</td></tr>",
                            "<tr><td>kata</td><td>Gondos Katalin</td><td>2016-09-19</td><td>2016-09-20</td><td>3</td><td>7</td></tr>",
                            "<tr><td>kata</td><td>Gondos Katalin</td><td>2017-01-15</td><td>2017-01-21</td><td>3</td><td>9</td></tr>",
                            "<tr><td>katalin</td><td>Horváth Katalin</td><td>2016-04-10</td><td>2016-04-17</td><td>2</td><td>NULL</td></tr>",
                            "<tr><td>katalin</td><td>Horváth Katalin</td><td>2016-05-21</td><td>2016-05-26</td><td>1</td><td>2</td></tr>",
                            "<tr><td>katalin</td><td>Horváth Katalin</td><td>2016-07-06</td><td>2016-07-11</td><td>1</td><td>3</td></tr>",
                            "<tr><td>katalin</td><td>Horváth Katalin</td><td>2016-07-28</td><td>2016-07-29</td><td>1</td><td>4</td></tr>",
                            "<tr><td>katalin</td><td>Horváth Katalin</td><td>2016-10-26</td><td>2016-10-30</td><td>2</td><td>3</td></tr>",
                            "<tr><td>katalin</td><td>Horváth Katalin</td><td>2016-12-13</td><td>2016-12-19</td><td>2</td><td>4</td></tr>",
                            "<tr><td>katalin</td><td>Horváth Katalin</td><td>2016-12-17</td><td>2016-12-24</td><td>1</td><td>5</td></tr>",
                            "<tr><td>katalin</td><td>Horváth Katalin</td><td>2016-12-24</td><td>2016-12-27</td><td>2</td><td>5</td></tr>",
                            "<tr><td>katalin</td><td>Horváth Katalin</td><td>2017-02-24</td><td>2017-02-27</td><td>3</td><td>5</td></tr>",
                            "<tr><td>katalin4</td><td>Kertész Katalin</td><td>2016-07-01</td><td>2016-07-07</td><td>1</td><td>NULL</td></tr>",
                            "<tr><td>katalin4</td><td>Kertész Katalin</td><td>2016-07-03</td><td>2016-07-04</td><td>4</td><td>1</td></tr>",
                            "<tr><td>katalin4</td><td>Kertész Katalin</td><td>2016-11-27</td><td>2016-12-04</td><td>3</td><td>5</td></tr>",
                            "<tr><td>katalin4</td><td>Kertész Katalin</td><td>2016-12-04</td><td>2016-12-09</td><td>3</td><td>8</td></tr>",
                            "<tr><td>katalin4</td><td>Kertész Katalin</td><td>2017-01-18</td><td>2017-01-20</td><td>2</td><td>10</td></tr>",
                            "<tr><td>katalin4</td><td>Kertész Katalin</td><td>2017-01-24</td><td>2017-01-31</td><td>2</td><td>8</td></tr>",
                            "<tr><td>kati</td><td>Zatykó Katalin</td><td>2016-06-06</td><td>2016-06-10</td><td>2</td><td>NULL</td></tr>",
                            "<tr><td>kati</td><td>Zatykó Katalin</td><td>2016-06-06</td><td>2016-06-11</td><td>3</td><td>2</td></tr>",
                            "<tr><td>kati</td><td>Zatykó Katalin</td><td>2016-07-13</td><td>2016-07-20</td><td>2</td><td>5</td></tr>",
                            "<tr><td>kati</td><td>Zatykó Katalin</td><td>2016-07-27</td><td>2016-08-03</td><td>2</td><td>7</td></tr>",
                            "<tr><td>kati</td><td>Zatykó Katalin</td><td>2016-08-03</td><td>2016-08-07</td><td>2</td><td>7</td></tr>",
                            "<tr><td>kati</td><td>Zatykó Katalin</td><td>2016-10-26</td><td>2016-10-28</td><td>2</td><td>6</td></tr>",
                            "<tr><td>kati</td><td>Zatykó Katalin</td><td>2016-10-30</td><td>2016-11-01</td><td>3</td><td>6</td></tr>",
                            "<tr><td>katka</td><td>Kovács Katalin</td><td>2016-04-10</td><td>2016-04-12</td><td>2</td><td>NULL</td></tr>",
                            "<tr><td>katka</td><td>Kovács Katalin</td><td>2016-05-09</td><td>2016-05-15</td><td>3</td><td>2</td></tr>",
                            "<tr><td>katka</td><td>Kovács Katalin</td><td>2016-06-13</td><td>2016-06-18</td><td>1</td><td>5</td></tr>",
                            "<tr><td>katka</td><td>Kovács Katalin</td><td>2016-06-13</td><td>2016-06-19</td><td>4</td><td>6</td></tr>",
                            "<tr><td>katka</td><td>Kovács Katalin</td><td>2016-08-24</td><td>2016-08-26</td><td>2</td><td>8</td></tr>",
                            "<tr><td>katka</td><td>Kovács Katalin</td><td>2016-09-05</td><td>2016-09-10</td><td>4</td><td>7</td></tr>",
                            "<tr><td>katka</td><td>Kovács Katalin</td><td>2016-11-05</td><td>2016-11-08</td><td>3</td><td>10</td></tr>",
                            "<tr><td>katka</td><td>Kovács Katalin</td><td>2017-01-02</td><td>2017-01-05</td><td>3</td><td>9</td></tr>",
                            "<tr><td>katka</td><td>Kovács Katalin</td><td>2017-01-19</td><td>2017-01-20</td><td>3</td><td>10</td></tr>",
                            "<tr><td>klaudia2</td><td>Bakó Klaudia</td><td>2016-06-06</td><td>2016-06-08</td><td>4</td><td>NULL</td></tr>",
                            "<tr><td>klaudia2</td><td>Bakó Klaudia</td><td>2016-10-01</td><td>2016-10-02</td><td>2</td><td>4</td></tr>",
                            "<tr><td>klaudia2</td><td>Bakó Klaudia</td><td>2016-10-02</td><td>2016-10-05</td><td>2</td><td>6</td></tr>",
                            "<tr><td>kornel4</td><td>Lukács Kornél</td><td>2016-05-08</td><td>2016-05-14</td><td>3</td><td>NULL</td></tr>",
                            "<tr><td>kornel4</td><td>Lukács Kornél</td><td>2016-06-02</td><td>2016-06-09</td><td>3</td><td>3</td></tr>",
                            "<tr><td>kornel4</td><td>Lukács Kornél</td><td>2016-09-23</td><td>2016-09-24</td><td>3</td><td>6</td></tr>",
                            "<tr><td>kristof4</td><td>Poprádi Kristóf</td><td>2016-04-08</td><td>2016-04-14</td><td>2</td><td>NULL</td></tr>",
                            "<tr><td>kristof4</td><td>Poprádi Kristóf</td><td>2016-09-30</td><td>2016-10-04</td><td>2</td><td>2</td></tr>",
                            "<tr><td>kriszti</td><td>Horváth Krisztina</td><td>2016-05-19</td><td>2016-05-26</td><td>2</td><td>NULL</td></tr>",
                            "<tr><td>kriszti</td><td>Horváth Krisztina</td><td>2016-08-24</td><td>2016-08-25</td><td>3</td><td>2</td></tr>",
                            "<tr><td>kriszti</td><td>Horváth Krisztina</td><td>2016-09-30</td><td>2016-10-05</td><td>3</td><td>5</td></tr>",
                            "<tr><td>kriszti</td><td>Horváth Krisztina</td><td>2016-10-01</td><td>2016-10-02</td><td>3</td><td>8</td></tr>",
                            "<tr><td>kriszti</td><td>Horváth Krisztina</td><td>2017-02-04</td><td>2017-02-11</td><td>3</td><td>9</td></tr>",
                            "<tr><td>kriszti</td><td>Horváth Krisztina</td><td>2017-03-03</td><td>2017-03-04</td><td>3</td><td>9</td></tr>",
                            "<tr><td>krisztian4</td><td>Czérna Krisztián</td><td>2016-06-03</td><td>2016-06-04</td><td>2</td><td>NULL</td></tr>",
                            "<tr><td>krisztian4</td><td>Czérna Krisztián</td><td>2016-06-07</td><td>2016-06-09</td><td>2</td><td>2</td></tr>",
                            "<tr><td>krisztian4</td><td>Czérna Krisztián</td><td>2016-07-28</td><td>2016-08-01</td><td>2</td><td>4</td></tr>",
                            "<tr><td>krisztian4</td><td>Czérna Krisztián</td><td>2016-08-01</td><td>2016-08-04</td><td>3</td><td>6</td></tr>",
                            "<tr><td>krisztian4</td><td>Czérna Krisztián</td><td>2016-08-16</td><td>2016-08-19</td><td>1</td><td>7</td></tr>",
                            "<tr><td>krisztian4</td><td>Czérna Krisztián</td><td>2016-08-29</td><td>2016-09-03</td><td>1</td><td>6</td></tr>",
                            "<tr><td>krisztian4</td><td>Czérna Krisztián</td><td>2016-10-17</td><td>2016-10-22</td><td>3</td><td>5</td></tr>",
                            "<tr><td>krisztian4</td><td>Czérna Krisztián</td><td>2016-11-02</td><td>2016-11-03</td><td>2</td><td>5</td></tr>",
                            "<tr><td>krisztian4</td><td>Czérna Krisztián</td><td>2016-12-11</td><td>2016-12-18</td><td>2</td><td>6</td></tr>",
                            "<tr><td>krisztian4</td><td>Czérna Krisztián</td><td>2017-01-06</td><td>2017-01-09</td><td>1</td><td>7</td></tr>",
                            "<tr><td>krisztian4</td><td>Czérna Krisztián</td><td>2017-01-16</td><td>2017-01-23</td><td>3</td><td>5</td></tr>",
                            "<tr><td>krisztian4</td><td>Czérna Krisztián</td><td>2017-02-23</td><td>2017-03-02</td><td>2</td><td>6</td></tr>",
                            "<tr><td>KRISZTIANM</td><td>Mogyródi Krisztián</td><td>2016-04-09</td><td>2016-04-15</td><td>2</td><td>NULL</td></tr>",
                            "<tr><td>KRISZTIANM</td><td>Mogyródi Krisztián</td><td>2016-06-04</td><td>2016-06-08</td><td>2</td><td>2</td></tr>",
                            "<tr><td>KRISZTIANM</td><td>Mogyródi Krisztián</td><td>2016-07-09</td><td>2016-07-14</td><td>3</td><td>4</td></tr>",
                            "<tr><td>KRISZTIANM</td><td>Mogyródi Krisztián</td><td>2016-08-02</td><td>2016-08-08</td><td>4</td><td>7</td></tr>",
                            "<tr><td>KRISZTIANM</td><td>Mogyródi Krisztián</td><td>2016-12-25</td><td>2016-12-31</td><td>2</td><td>9</td></tr>",
                            "<tr><td>KRISZTIANM</td><td>Mogyródi Krisztián</td><td>2017-01-16</td><td>2017-01-23</td><td>1</td><td>9</td></tr>",
                            "<tr><td>krisztina</td><td>Szedlár Krisztina</td><td>2016-05-21</td><td>2016-05-27</td><td>2</td><td>NULL</td></tr>",
                            "<tr><td>krisztina</td><td>Szedlár Krisztina</td><td>2016-07-05</td><td>2016-07-12</td><td>3</td><td>2</td></tr>",
                            "<tr><td>krisztina</td><td>Szedlár Krisztina</td><td>2016-09-13</td><td>2016-09-16</td><td>1</td><td>5</td></tr>",
                            "<tr><td>krisztina</td><td>Szedlár Krisztina</td><td>2016-09-19</td><td>2016-09-26</td><td>2</td><td>6</td></tr>",
                            "<tr><td>krisztina</td><td>Szedlár Krisztina</td><td>2016-11-08</td><td>2016-11-12</td><td>2</td><td>6</td></tr>",
                            "<tr><td>krisztina</td><td>Szedlár Krisztina</td><td>2016-11-22</td><td>2016-11-25</td><td>1</td><td>5</td></tr>",
                            "<tr><td>krisztina</td><td>Szedlár Krisztina</td><td>2017-02-05</td><td>2017-02-07</td><td>2</td><td>5</td></tr>",
                            "<tr><td>krisztina</td><td>Szedlár Krisztina</td><td>2017-02-16</td><td>2017-02-20</td><td>4</td><td>5</td></tr>",
                            "<tr><td>krisztina1</td><td>Bori Krisztina</td><td>2016-04-28</td><td>2016-04-30</td><td>2</td><td>NULL</td></tr>",
                            "<tr><td>krisztina1</td><td>Bori Krisztina</td><td>2016-05-16</td><td>2016-05-20</td><td>1</td><td>2</td></tr>",
                            "<tr><td>krisztina1</td><td>Bori Krisztina</td><td>2016-06-16</td><td>2016-06-22</td><td>2</td><td>3</td></tr>",
                            "<tr><td>krisztina1</td><td>Bori Krisztina</td><td>2016-09-15</td><td>2016-09-20</td><td>3</td><td>5</td></tr>",
                            "<tr><td>krisztina1</td><td>Bori Krisztina</td><td>2016-10-29</td><td>2016-10-30</td><td>4</td><td>6</td></tr>",
                            "<tr><td>krisztina1</td><td>Bori Krisztina</td><td>2017-01-21</td><td>2017-01-24</td><td>2</td><td>9</td></tr>",
                            "<tr><td>KRISZTINAG</td><td>Gyárfás Krisztina</td><td>2016-04-23</td><td>2016-04-24</td><td>2</td><td>NULL</td></tr>",
                            "<tr><td>KRISZTINAG</td><td>Gyárfás Krisztina</td><td>2016-05-24</td><td>2016-05-31</td><td>1</td><td>2</td></tr>",
                            "<tr><td>KRISZTINAG</td><td>Gyárfás Krisztina</td><td>2016-06-08</td><td>2016-06-12</td><td>1</td><td>3</td></tr>",
                            "<tr><td>KRISZTINAG</td><td>Gyárfás Krisztina</td><td>2016-08-08</td><td>2016-08-12</td><td>3</td><td>4</td></tr>",
                            "<tr><td>KRISZTINAG</td><td>Gyárfás Krisztina</td><td>2017-01-25</td><td>2017-01-30</td><td>2</td><td>5</td></tr>",
                            "<tr><td>lajos</td><td>Kiss Lajos</td><td>2016-07-18</td><td>2016-07-21</td><td>2</td><td>NULL</td></tr>",
                            "<tr><td>lajos</td><td>Kiss Lajos</td><td>2016-12-25</td><td>2016-12-28</td><td>4</td><td>2</td></tr>",
                            "<tr><td>lajos</td><td>Kiss Lajos</td><td>2017-02-12</td><td>2017-02-13</td><td>1</td><td>6</td></tr>",
                            "<tr><td>lala</td><td>Nagymihály Lajos</td><td>2016-06-16</td><td>2016-06-22</td><td>2</td><td>NULL</td></tr>",
                            "<tr><td>lala</td><td>Nagymihály Lajos</td><td>2016-07-20</td><td>2016-07-21</td><td>3</td><td>2</td></tr>",
                            "<tr><td>lala</td><td>Nagymihály Lajos</td><td>2016-07-26</td><td>2016-07-27</td><td>3</td><td>5</td></tr>",
                            "<tr><td>lala</td><td>Nagymihály Lajos</td><td>2016-10-30</td><td>2016-10-31</td><td>3</td><td>8</td></tr>",
                            "<tr><td>lala</td><td>Nagymihály Lajos</td><td>2017-01-08</td><td>2017-01-10</td><td>3</td><td>9</td></tr>",
                            "<tr><td>lala</td><td>Nagymihály Lajos</td><td>2017-01-17</td><td>2017-01-19</td><td>2</td><td>9</td></tr>",
                            "<tr><td>laszlo1</td><td>Farkas László</td><td>2016-09-23</td><td>2016-09-30</td><td>3</td><td>NULL</td></tr>",
                            "<tr><td>laszlo2</td><td>Móra László</td><td>2016-04-06</td><td>2016-04-10</td><td>2</td><td>NULL</td></tr>",
                            "<tr><td>laszlo2</td><td>Móra László</td><td>2016-04-27</td><td>2016-04-29</td><td>2</td><td>2</td></tr>",
                            "<tr><td>laszlo2</td><td>Móra László</td><td>2016-08-14</td><td>2016-08-15</td><td>3</td><td>4</td></tr>",
                            "<tr><td>laszlo2</td><td>Móra László</td><td>2016-09-05</td><td>2016-09-10</td><td>3</td><td>7</td></tr>",
                            "<tr><td>laszlo2</td><td>Móra László</td><td>2016-11-25</td><td>2016-11-26</td><td>3</td><td>8</td></tr>",
                            "<tr><td>LASZLOA</td><td>Antal László</td><td>2016-06-03</td><td>2016-06-09</td><td>2</td><td>NULL</td></tr>",
                            "<tr><td>LASZLOA</td><td>Antal László</td><td>2016-06-07</td><td>2016-06-11</td><td>1</td><td>2</td></tr>",
                            "<tr><td>LASZLOA</td><td>Antal László</td><td>2016-06-10</td><td>2016-06-13</td><td>3</td><td>3</td></tr>",
                            "<tr><td>LASZLOA</td><td>Antal László</td><td>2017-02-08</td><td>2017-02-14</td><td>2</td><td>6</td></tr>",
                            "<tr><td>LASZLON</td><td>Nagy László</td><td>2016-06-03</td><td>2016-06-06</td><td>1</td><td>NULL</td></tr>",
                            "<tr><td>LASZLON</td><td>Nagy László</td><td>2016-06-08</td><td>2016-06-09</td><td>2</td><td>1</td></tr>",
                            "<tr><td>LASZLON</td><td>Nagy László</td><td>2016-10-01</td><td>2016-10-04</td><td>3</td><td>3</td></tr>",
                            "<tr><td>LASZLON</td><td>Nagy László</td><td>2016-10-09</td><td>2016-10-14</td><td>1</td><td>6</td></tr>",
                            "<tr><td>LASZLON</td><td>Nagy László</td><td>2016-11-29</td><td>2016-12-04</td><td>1</td><td>6</td></tr>",
                            "<tr><td>LASZLON</td><td>Nagy László</td><td>2017-02-18</td><td>2017-02-25</td><td>3</td><td>5</td></tr>",
                            "<tr><td>maria1</td><td>Baráth Mária</td><td>2016-05-13</td><td>2016-05-18</td><td>2</td><td>NULL</td></tr>",
                            "<tr><td>maria1</td><td>Baráth Mária</td><td>2016-05-18</td><td>2016-05-19</td><td>1</td><td>2</td></tr>",
                            "<tr><td>maria1</td><td>Baráth Mária</td><td>2016-05-28</td><td>2016-06-03</td><td>2</td><td>3</td></tr>",
                            "<tr><td>maria1</td><td>Baráth Mária</td><td>2016-06-23</td><td>2016-06-27</td><td>1</td><td>5</td></tr>",
                            "<tr><td>maria1</td><td>Baráth Mária</td><td>2016-08-11</td><td>2016-08-14</td><td>3</td><td>4</td></tr>",
                            "<tr><td>maria1</td><td>Baráth Mária</td><td>2016-09-02</td><td>2016-09-05</td><td>1</td><td>6</td></tr>",
                            "<tr><td>maria1</td><td>Baráth Mária</td><td>2016-11-08</td><td>2016-11-12</td><td>3</td><td>5</td></tr>",
                            "<tr><td>maria1</td><td>Baráth Mária</td><td>2017-02-24</td><td>2017-03-02</td><td>2</td><td>7</td></tr>",
                            "<tr><td>mark</td><td>Kispál Márk</td><td>2016-04-19</td><td>2016-04-26</td><td>4</td><td>NULL</td></tr>",
                            "<tr><td>mark</td><td>Kispál Márk</td><td>2016-06-13</td><td>2016-06-18</td><td>3</td><td>4</td></tr>",
                            "<tr><td>mark</td><td>Kispál Márk</td><td>2016-08-09</td><td>2016-08-16</td><td>3</td><td>7</td></tr>",
                            "<tr><td>mark</td><td>Kispál Márk</td><td>2016-10-20</td><td>2016-10-27</td><td>1</td><td>10</td></tr>",
                            "<tr><td>mark</td><td>Kispál Márk</td><td>2016-11-19</td><td>2016-11-22</td><td>2</td><td>7</td></tr>",
                            "<tr><td>MARKH</td><td>Horváth Márk</td><td>2016-09-14</td><td>2016-09-17</td><td>3</td><td>NULL</td></tr>",
                            "<tr><td>MARKH</td><td>Horváth Márk</td><td>2016-09-23</td><td>2016-09-30</td><td>2</td><td>3</td></tr>",
                            "<tr><td>MARKH</td><td>Horváth Márk</td><td>2016-09-26</td><td>2016-10-01</td><td>4</td><td>5</td></tr>",
                            "<tr><td>MARKH</td><td>Horváth Márk</td><td>2017-01-22</td><td>2017-01-29</td><td>4</td><td>9</td></tr>",
                            "<tr><td>marton</td><td>Kalacsi Márton</td><td>2016-04-27</td><td>2016-05-04</td><td>3</td><td>NULL</td></tr>",
                            "<tr><td>marton</td><td>Kalacsi Márton</td><td>2016-05-05</td><td>2016-05-10</td><td>1</td><td>3</td></tr>",
                            "<tr><td>marton</td><td>Kalacsi Márton</td><td>2016-06-06</td><td>2016-06-08</td><td>3</td><td>4</td></tr>",
                            "<tr><td>marton</td><td>Kalacsi Márton</td><td>2016-06-22</td><td>2016-06-29</td><td>2</td><td>7</td></tr>",
                            "<tr><td>marton</td><td>Kalacsi Márton</td><td>2016-08-12</td><td>2016-08-17</td><td>2</td><td>6</td></tr>",
                            "<tr><td>marton</td><td>Kalacsi Márton</td><td>2016-09-10</td><td>2016-09-12</td><td>2</td><td>7</td></tr>",
                            "<tr><td>marton</td><td>Kalacsi Márton</td><td>2017-03-02</td><td>2017-03-03</td><td>2</td><td>6</td></tr>",
                            "<tr><td>MATEK</td><td>Koza Máté</td><td>2016-08-17</td><td>2016-08-21</td><td>4</td><td>NULL</td></tr>",
                            "<tr><td>MATEK</td><td>Koza Máté</td><td>2016-10-01</td><td>2016-10-04</td><td>2</td><td>4</td></tr>",
                            "<tr><td>MATEK</td><td>Koza Máté</td><td>2017-01-16</td><td>2017-01-22</td><td>2</td><td>6</td></tr>",
                            "<tr><td>matyas2</td><td>Botka Mátyás</td><td>2016-07-13</td><td>2016-07-16</td><td>2</td><td>NULL</td></tr>",
                            "<tr><td>matyas2</td><td>Botka Mátyás</td><td>2016-12-09</td><td>2016-12-13</td><td>3</td><td>2</td></tr>",
                            "<tr><td>MATYASS</td><td>Szilágyi Mátyás</td><td>2016-05-10</td><td>2016-05-16</td><td>2</td><td>NULL</td></tr>",
                            "<tr><td>MATYASS</td><td>Szilágyi Mátyás</td><td>2016-06-02</td><td>2016-06-08</td><td>1</td><td>2</td></tr>",
                            "<tr><td>MATYASS</td><td>Szilágyi Mátyás</td><td>2016-07-23</td><td>2016-07-25</td><td>3</td><td>3</td></tr>",
                            "<tr><td>MATYASS</td><td>Szilágyi Mátyás</td><td>2016-10-09</td><td>2016-10-15</td><td>3</td><td>6</td></tr>",
                            "<tr><td>MATYASS</td><td>Szilágyi Mátyás</td><td>2016-10-24</td><td>2016-10-31</td><td>1</td><td>7</td></tr>",
                            "<tr><td>MATYASS</td><td>Szilágyi Mátyás</td><td>2016-10-30</td><td>2016-11-04</td><td>3</td><td>7</td></tr>",
                            "<tr><td>MATYASS</td><td>Szilágyi Mátyás</td><td>2016-12-20</td><td>2016-12-25</td><td>2</td><td>7</td></tr>",
                            "<tr><td>MATYASS</td><td>Szilágyi Mátyás</td><td>2017-01-09</td><td>2017-01-13</td><td>2</td><td>6</td></tr>",
                            "<tr><td>MIHALYJ</td><td>Juhász Mihály</td><td>2016-05-30</td><td>2016-06-01</td><td>2</td><td>NULL</td></tr>",
                            "<tr><td>MIHALYJ</td><td>Juhász Mihály</td><td>2016-06-27</td><td>2016-07-01</td><td>1</td><td>2</td></tr>",
                            "<tr><td>MIHALYJ</td><td>Juhász Mihály</td><td>2016-08-29</td><td>2016-09-03</td><td>1</td><td>3</td></tr>",
                            "<tr><td>MIHALYJ</td><td>Juhász Mihály</td><td>2016-11-01</td><td>2016-11-04</td><td>3</td><td>4</td></tr>",
                            "<tr><td>MIHALYJ</td><td>Juhász Mihály</td><td>2017-02-06</td><td>2017-02-12</td><td>4</td><td>5</td></tr>",
                            "<tr><td>miklos2</td><td>Gondos Miklós</td><td>2016-04-19</td><td>2016-04-21</td><td>3</td><td>NULL</td></tr>",
                            "<tr><td>miklos2</td><td>Gondos Miklós</td><td>2016-10-08</td><td>2016-10-09</td><td>1</td><td>3</td></tr>",
                            "<tr><td>miklos2</td><td>Gondos Miklós</td><td>2016-11-16</td><td>2016-11-18</td><td>3</td><td>4</td></tr>",
                            "<tr><td>MIKLOSB</td><td>Balla Miklós</td><td>2016-06-26</td><td>2016-06-30</td><td>2</td><td>NULL</td></tr>",
                            "<tr><td>MIKLOSB</td><td>Balla Miklós</td><td>2016-07-18</td><td>2016-07-21</td><td>2</td><td>2</td></tr>",
                            "<tr><td>MIKLOSB</td><td>Balla Miklós</td><td>2016-12-05</td><td>2016-12-10</td><td>2</td><td>4</td></tr>",
                            "<tr><td>MONIKAM</td><td>Mohos Mónika</td><td>2016-04-29</td><td>2016-05-01</td><td>2</td><td>NULL</td></tr>",
                            "<tr><td>MONIKAM</td><td>Mohos Mónika</td><td>2016-07-23</td><td>2016-07-30</td><td>1</td><td>2</td></tr>",
                            "<tr><td>MONIKAM</td><td>Mohos Mónika</td><td>2016-11-09</td><td>2016-11-16</td><td>2</td><td>3</td></tr>",
                            "<tr><td>MONIKAM</td><td>Mohos Mónika</td><td>2017-01-17</td><td>2017-01-24</td><td>1</td><td>5</td></tr>",
                            "<tr><td>MONIKAM</td><td>Mohos Mónika</td><td>2017-02-06</td><td>2017-02-09</td><td>2</td><td>4</td></tr>",
                            "<tr><td>MONIKAM</td><td>Mohos Mónika</td><td>2017-02-23</td><td>2017-02-26</td><td>2</td><td>5</td></tr>",
                            "<tr><td>NANDORF</td><td>Fő Nándor</td><td>2016-04-06</td><td>2016-04-10</td><td>3</td><td>NULL</td></tr>",
                            "<tr><td>NANDORF</td><td>Fő Nándor</td><td>2016-11-03</td><td>2016-11-04</td><td>3</td><td>3</td></tr>",
                            "<tr><td>NANDORF</td><td>Fő Nándor</td><td>2017-02-05</td><td>2017-02-08</td><td>3</td><td>6</td></tr>",
                            "<tr><td>nikolett3</td><td>Horváth Nikolett</td><td>2016-05-24</td><td>2016-05-29</td><td>2</td><td>NULL</td></tr>",
                            "<tr><td>nikolett3</td><td>Horváth Nikolett</td><td>2016-06-03</td><td>2016-06-09</td><td>1</td><td>2</td></tr>",
                            "<tr><td>nikolett3</td><td>Horváth Nikolett</td><td>2016-06-22</td><td>2016-06-24</td><td>1</td><td>3</td></tr>",
                            "<tr><td>nikolett3</td><td>Horváth Nikolett</td><td>2016-10-22</td><td>2016-10-29</td><td>3</td><td>4</td></tr>",
                            "<tr><td>nikoletta4</td><td>Kő Nikoletta</td><td>2016-04-08</td><td>2016-04-10</td><td>2</td><td>NULL</td></tr>",
                            "<tr><td>nikoletta4</td><td>Kő Nikoletta</td><td>2016-05-09</td><td>2016-05-15</td><td>2</td><td>2</td></tr>",
                            "<tr><td>nikoletta4</td><td>Kő Nikoletta</td><td>2016-05-30</td><td>2016-06-03</td><td>3</td><td>4</td></tr>",
                            "<tr><td>nikoletta4</td><td>Kő Nikoletta</td><td>2016-06-29</td><td>2016-07-06</td><td>2</td><td>7</td></tr>",
                            "<tr><td>nikoletta4</td><td>Kő Nikoletta</td><td>2016-08-13</td><td>2016-08-17</td><td>3</td><td>7</td></tr>",
                            "<tr><td>nikoletta4</td><td>Kő Nikoletta</td><td>2016-12-08</td><td>2016-12-10</td><td>5</td><td>8</td></tr>",
                            "<tr><td>nikoletta4</td><td>Kő Nikoletta</td><td>2017-02-01</td><td>2017-02-04</td><td>2</td><td>10</td></tr>",
                            "<tr><td>NIKOLETTAT</td><td>Tatár Nikoletta</td><td>2016-05-22</td><td>2016-05-23</td><td>4</td><td>NULL</td></tr>",
                            "<tr><td>NIKOLETTAT</td><td>Tatár Nikoletta</td><td>2016-06-07</td><td>2016-06-09</td><td>2</td><td>4</td></tr>",
                            "<tr><td>NIKOLETTAT</td><td>Tatár Nikoletta</td><td>2016-07-27</td><td>2016-07-29</td><td>4</td><td>6</td></tr>",
                            "<tr><td>NIKOLETTAT</td><td>Tatár Nikoletta</td><td>2016-09-21</td><td>2016-09-26</td><td>2</td><td>10</td></tr>",
                            "<tr><td>norbert</td><td>Szűcs Norbert</td><td>2016-07-08</td><td>2016-07-13</td><td>1</td><td>NULL</td></tr>",
                            "<tr><td>norbert</td><td>Szűcs Norbert</td><td>2016-11-16</td><td>2016-11-23</td><td>3</td><td>1</td></tr>",
                            "<tr><td>norbert</td><td>Szűcs Norbert</td><td>2016-12-15</td><td>2016-12-18</td><td>2</td><td>4</td></tr>",
                            "<tr><td>norbert</td><td>Szűcs Norbert</td><td>2017-02-13</td><td>2017-02-15</td><td>3</td><td>6</td></tr>",
                            "<tr><td>norbert</td><td>Szűcs Norbert</td><td>2017-02-26</td><td>2017-03-01</td><td>1</td><td>8</td></tr>",
                            "<tr><td>norbert2</td><td>Hegedűs Norbert</td><td>2016-04-19</td><td>2016-04-26</td><td>1</td><td>NULL</td></tr>",
                            "<tr><td>norbert2</td><td>Hegedűs Norbert</td><td>2016-05-09</td><td>2016-05-10</td><td>2</td><td>1</td></tr>",
                            "<tr><td>norbert2</td><td>Hegedűs Norbert</td><td>2016-07-13</td><td>2016-07-15</td><td>3</td><td>3</td></tr>",
                            "<tr><td>norbert2</td><td>Hegedűs Norbert</td><td>2016-07-27</td><td>2016-08-02</td><td>2</td><td>6</td></tr>",
                            "<tr><td>norbert2</td><td>Hegedűs Norbert</td><td>2016-08-16</td><td>2016-08-19</td><td>1</td><td>7</td></tr>",
                            "<tr><td>norbert2</td><td>Hegedűs Norbert</td><td>2016-10-31</td><td>2016-11-07</td><td>2</td><td>6</td></tr>",
                            "<tr><td>norbert2</td><td>Hegedűs Norbert</td><td>2017-01-29</td><td>2017-02-05</td><td>3</td><td>5</td></tr>",
                            "<tr><td>norbert4</td><td>Mile Norbert</td><td>2016-04-10</td><td>2016-04-13</td><td>2</td><td>NULL</td></tr>",
                            "<tr><td>norbert4</td><td>Mile Norbert</td><td>2016-05-29</td><td>2016-06-03</td><td>3</td><td>2</td></tr>",
                            "<tr><td>norbert4</td><td>Mile Norbert</td><td>2016-06-16</td><td>2016-06-17</td><td>4</td><td>5</td></tr>",
                            "<tr><td>norbert4</td><td>Mile Norbert</td><td>2016-06-16</td><td>2016-06-21</td><td>3</td><td>9</td></tr>",
                            "<tr><td>norbert4</td><td>Mile Norbert</td><td>2016-10-05</td><td>2016-10-10</td><td>3</td><td>10</td></tr>",
                            "<tr><td>norbert4</td><td>Mile Norbert</td><td>2016-10-28</td><td>2016-10-31</td><td>3</td><td>10</td></tr>",
                            "<tr><td>norbert4</td><td>Mile Norbert</td><td>2016-11-30</td><td>2016-12-06</td><td>3</td><td>9</td></tr>",
                            "<tr><td>norbert4</td><td>Mile Norbert</td><td>2017-02-16</td><td>2017-02-17</td><td>1</td><td>9</td></tr>",
                            "<tr><td>norbert4</td><td>Mile Norbert</td><td>2017-03-03</td><td>2017-03-07</td><td>2</td><td>7</td></tr>",
                            "<tr><td>norbert5</td><td>Béres Norbert</td><td>2016-06-24</td><td>2016-06-28</td><td>2</td><td>NULL</td></tr>",
                            "<tr><td>norbert5</td><td>Béres Norbert</td><td>2016-08-10</td><td>2016-08-11</td><td>2</td><td>2</td></tr>",
                            "<tr><td>norbert5</td><td>Béres Norbert</td><td>2016-11-05</td><td>2016-11-07</td><td>1</td><td>4</td></tr>",
                            "<tr><td>pal</td><td>Barabás Pál</td><td>2016-08-14</td><td>2016-08-18</td><td>3</td><td>NULL</td></tr>",
                            "<tr><td>pal</td><td>Barabás Pál</td><td>2016-09-16</td><td>2016-09-19</td><td>2</td><td>3</td></tr>",
                            "<tr><td>pal</td><td>Barabás Pál</td><td>2016-12-17</td><td>2016-12-23</td><td>3</td><td>5</td></tr>",
                            "<tr><td>pal</td><td>Barabás Pál</td><td>2017-02-13</td><td>2017-02-19</td><td>3</td><td>8</td></tr>",
                            "<tr><td>pal</td><td>Barabás Pál</td><td>2017-02-20</td><td>2017-02-22</td><td>3</td><td>8</td></tr>",
                            "<tr><td>peter1</td><td>Kozma Péter</td><td>2016-07-14</td><td>2016-07-18</td><td>3</td><td>NULL</td></tr>",
                            "<tr><td>peter1</td><td>Kozma Péter</td><td>2016-10-26</td><td>2016-11-01</td><td>3</td><td>3</td></tr>",
                            "<tr><td>peter1</td><td>Kozma Péter</td><td>2017-02-23</td><td>2017-02-26</td><td>3</td><td>6</td></tr>",
                            "<tr><td>peter1</td><td>Kozma Péter</td><td>2017-02-28</td><td>2017-03-05</td><td>3</td><td>9</td></tr>",
                            "<tr><td>peter2</td><td>Bozsó Péter</td><td>2016-07-03</td><td>2016-07-08</td><td>2</td><td>NULL</td></tr>",
                            "<tr><td>peter2</td><td>Bozsó Péter</td><td>2016-10-10</td><td>2016-10-16</td><td>2</td><td>2</td></tr>",
                            "<tr><td>peter2</td><td>Bozsó Péter</td><td>2016-11-01</td><td>2016-11-02</td><td>2</td><td>4</td></tr>",
                            "<tr><td>peter2</td><td>Bozsó Péter</td><td>2016-11-15</td><td>2016-11-21</td><td>3</td><td>6</td></tr>",
                            "<tr><td>peter3</td><td>Szalai Péter</td><td>2016-06-30</td><td>2016-07-05</td><td>3</td><td>NULL</td></tr>",
                            "<tr><td>peter3</td><td>Szalai Péter</td><td>2016-07-27</td><td>2016-07-31</td><td>4</td><td>3</td></tr>",
                            "<tr><td>peter3</td><td>Szalai Péter</td><td>2016-10-30</td><td>2016-11-06</td><td>2</td><td>7</td></tr>",
                            "<tr><td>peter3</td><td>Szalai Péter</td><td>2016-12-25</td><td>2016-12-28</td><td>1</td><td>9</td></tr>",
                            "<tr><td>peter3</td><td>Szalai Péter</td><td>2017-01-12</td><td>2017-01-17</td><td>1</td><td>7</td></tr>",
                            "<tr><td>peter3</td><td>Szalai Péter</td><td>2017-02-21</td><td>2017-02-24</td><td>2</td><td>4</td></tr>",
                            "<tr><td>peter4</td><td>Bíró Péter</td><td>2016-04-12</td><td>2016-04-15</td><td>3</td><td>NULL</td></tr>",
                            "<tr><td>peter4</td><td>Bíró Péter</td><td>2016-08-06</td><td>2016-08-13</td><td>2</td><td>3</td></tr>",
                            "<tr><td>peter4</td><td>Bíró Péter</td><td>2016-08-24</td><td>2016-08-25</td><td>3</td><td>5</td></tr>",
                            "<tr><td>peter4</td><td>Bíró Péter</td><td>2016-09-11</td><td>2016-09-17</td><td>4</td><td>8</td></tr>",
                            "<tr><td>peter4</td><td>Bíró Péter</td><td>2016-09-25</td><td>2016-09-26</td><td>3</td><td>9</td></tr>",
                            "<tr><td>peter4</td><td>Bíró Péter</td><td>2016-09-30</td><td>2016-10-06</td><td>3</td><td>10</td></tr>",
                            "<tr><td>peter4</td><td>Bíró Péter</td><td>2016-10-09</td><td>2016-10-16</td><td>3</td><td>10</td></tr>",
                            "<tr><td>peter4</td><td>Bíró Péter</td><td>2016-10-24</td><td>2016-10-25</td><td>2</td><td>9</td></tr>",
                            "<tr><td>peter4</td><td>Bíró Péter</td><td>2016-10-30</td><td>2016-11-01</td><td>3</td><td>8</td></tr>",
                            "<tr><td>peter4</td><td>Bíró Péter</td><td>2016-11-10</td><td>2016-11-17</td><td>3</td><td>8</td></tr>",
                            "<tr><td>peter4</td><td>Bíró Péter</td><td>2016-11-25</td><td>2016-11-30</td><td>3</td><td>8</td></tr>",
                            "<tr><td>peter4</td><td>Bíró Péter</td><td>2017-02-05</td><td>2017-02-09</td><td>3</td><td>9</td></tr>",
                            "<tr><td>PETERB</td><td>Berendi Péter</td><td>2016-04-06</td><td>2016-04-10</td><td>1</td><td>NULL</td></tr>",
                            "<tr><td>PETERB</td><td>Berendi Péter</td><td>2016-07-20</td><td>2016-07-24</td><td>2</td><td>1</td></tr>",
                            "<tr><td>PETERB</td><td>Berendi Péter</td><td>2016-08-16</td><td>2016-08-23</td><td>1</td><td>3</td></tr>",
                            "<tr><td>PETERB</td><td>Berendi Péter</td><td>2016-10-19</td><td>2016-10-20</td><td>4</td><td>4</td></tr>",
                            "<tr><td>PETERB</td><td>Berendi Péter</td><td>2016-11-17</td><td>2016-11-20</td><td>2</td><td>7</td></tr>",
                            "<tr><td>polla</td><td>Palágyi Polla</td><td>2016-04-17</td><td>2016-04-22</td><td>3</td><td>NULL</td></tr>",
                            "<tr><td>polla</td><td>Palágyi Polla</td><td>2016-05-28</td><td>2016-06-04</td><td>2</td><td>3</td></tr>",
                            "<tr><td>polla</td><td>Palágyi Polla</td><td>2016-08-14</td><td>2016-08-17</td><td>2</td><td>5</td></tr>",
                            "<tr><td>polla</td><td>Palágyi Polla</td><td>2016-08-16</td><td>2016-08-19</td><td>4</td><td>7</td></tr>",
                            "<tr><td>polla</td><td>Palágyi Polla</td><td>2017-01-29</td><td>2017-02-01</td><td>2</td><td>8</td></tr>",
                            "<tr><td>polla</td><td>Palágyi Polla</td><td>2017-02-11</td><td>2017-02-16</td><td>2</td><td>8</td></tr>",
                            "<tr><td>rajmond4</td><td>Rácz Rajmond</td><td>2016-09-05</td><td>2016-09-07</td><td>3</td><td>NULL</td></tr>",
                            "<tr><td>rajmond4</td><td>Rácz Rajmond</td><td>2016-10-03</td><td>2016-10-04</td><td>3</td><td>3</td></tr>",
                            "<tr><td>rajmond4</td><td>Rácz Rajmond</td><td>2016-11-08</td><td>2016-11-09</td><td>4</td><td>6</td></tr>",
                            "<tr><td>rajmond4</td><td>Rácz Rajmond</td><td>2016-11-16</td><td>2016-11-20</td><td>2</td><td>10</td></tr>",
                            "<tr><td>reka4</td><td>Szikszai Réka</td><td>2016-07-27</td><td>2016-07-31</td><td>2</td><td>NULL</td></tr>",
                            "<tr><td>reka4</td><td>Szikszai Réka</td><td>2016-08-02</td><td>2016-08-04</td><td>4</td><td>2</td></tr>",
                            "<tr><td>reka4</td><td>Szikszai Réka</td><td>2016-09-05</td><td>2016-09-07</td><td>3</td><td>6</td></tr>",
                            "<tr><td>reka4</td><td>Szikszai Réka</td><td>2016-09-30</td><td>2016-10-06</td><td>2</td><td>9</td></tr>",
                            "<tr><td>reka4</td><td>Szikszai Réka</td><td>2017-02-26</td><td>2017-03-04</td><td>2</td><td>9</td></tr>",
                            "<tr><td>RENATAK</td><td>Kardos Renáta</td><td>2016-10-27</td><td>2016-10-29</td><td>4</td><td>NULL</td></tr>",
                            "<tr><td>RENATAK</td><td>Kardos Renáta</td><td>2016-10-30</td><td>2016-10-31</td><td>1</td><td>4</td></tr>",
                            "<tr><td>RENATAK</td><td>Kardos Renáta</td><td>2016-11-23</td><td>2016-11-26</td><td>1</td><td>5</td></tr>",
                            "<tr><td>RENATAK</td><td>Kardos Renáta</td><td>2017-01-23</td><td>2017-01-24</td><td>3</td><td>6</td></tr>",
                            "<tr><td>RENATAK</td><td>Kardos Renáta</td><td>2017-02-16</td><td>2017-02-23</td><td>1</td><td>5</td></tr>",
                            "<tr><td>RENATAK</td><td>Kardos Renáta</td><td>2017-03-01</td><td>2017-03-06</td><td>1</td><td>5</td></tr>",
                            "<tr><td>RENATAS</td><td>Szirmai Renáta</td><td>2016-05-04</td><td>2016-05-11</td><td>2</td><td>NULL</td></tr>",
                            "<tr><td>RENATAS</td><td>Szirmai Renáta</td><td>2016-05-11</td><td>2016-05-16</td><td>2</td><td>2</td></tr>",
                            "<tr><td>RENATAS</td><td>Szirmai Renáta</td><td>2016-06-24</td><td>2016-06-30</td><td>5</td><td>4</td></tr>",
                            "<tr><td>RENATAS</td><td>Szirmai Renáta</td><td>2017-02-13</td><td>2017-02-17</td><td>1</td><td>9</td></tr>",
                            "<tr><td>RENATAS</td><td>Szirmai Renáta</td><td>2017-02-14</td><td>2017-02-17</td><td>2</td><td>8</td></tr>",
                            "<tr><td>robert2</td><td>Patay Róbert</td><td>2016-05-15</td><td>2016-05-18</td><td>2</td><td>NULL</td></tr>",
                            "<tr><td>robert2</td><td>Patay Róbert</td><td>2016-08-20</td><td>2016-08-27</td><td>2</td><td>2</td></tr>",
                            "<tr><td>robert2</td><td>Patay Róbert</td><td>2016-10-23</td><td>2016-10-28</td><td>3</td><td>4</td></tr>",
                            "<tr><td>robert2</td><td>Patay Róbert</td><td>2016-12-17</td><td>2016-12-22</td><td>1</td><td>7</td></tr>",
                            "<tr><td>ROBERTI</td><td>Iván Róbert</td><td>2016-07-12</td><td>2016-07-19</td><td>4</td><td>NULL</td></tr>",
                            "<tr><td>ROBERTI</td><td>Iván Róbert</td><td>2016-08-16</td><td>2016-08-21</td><td>2</td><td>4</td></tr>",
                            "<tr><td>ROBERTI</td><td>Iván Róbert</td><td>2016-08-23</td><td>2016-08-25</td><td>2</td><td>6</td></tr>",
                            "<tr><td>ROBERTI</td><td>Iván Róbert</td><td>2016-10-08</td><td>2016-10-12</td><td>3</td><td>8</td></tr>",
                            "<tr><td>ROBERTI</td><td>Iván Róbert</td><td>2016-10-09</td><td>2016-10-10</td><td>2</td><td>7</td></tr>",
                            "<tr><td>ROBERTI</td><td>Iván Róbert</td><td>2016-10-23</td><td>2016-10-29</td><td>1</td><td>7</td></tr>",
                            "<tr><td>ROBERTI</td><td>Iván Róbert</td><td>2016-10-26</td><td>2016-11-01</td><td>2</td><td>6</td></tr>",
                            "<tr><td>ROBERTI</td><td>Iván Róbert</td><td>2017-02-17</td><td>2017-02-20</td><td>2</td><td>5</td></tr>",
                            "<tr><td>ROBERTP</td><td>Pásztor Róbert</td><td>2016-07-30</td><td>2016-08-05</td><td>2</td><td>NULL</td></tr>",
                            "<tr><td>ROBERTP</td><td>Pásztor Róbert</td><td>2016-09-08</td><td>2016-09-11</td><td>4</td><td>2</td></tr>",
                            "<tr><td>roland</td><td>Tóth Roland</td><td>2016-06-09</td><td>2016-06-13</td><td>3</td><td>NULL</td></tr>",
                            "<tr><td>roland</td><td>Tóth Roland</td><td>2016-06-22</td><td>2016-06-23</td><td>3</td><td>3</td></tr>",
                            "<tr><td>roland</td><td>Tóth Roland</td><td>2016-09-04</td><td>2016-09-05</td><td>2</td><td>6</td></tr>",
                            "<tr><td>roland</td><td>Tóth Roland</td><td>2016-11-19</td><td>2016-11-24</td><td>2</td><td>8</td></tr>",
                            "<tr><td>roland1</td><td>Ferencz Roland</td><td>2016-11-05</td><td>2016-11-07</td><td>3</td><td>NULL</td></tr>",
                            "<tr><td>roland1</td><td>Ferencz Roland</td><td>2016-12-22</td><td>2016-12-29</td><td>1</td><td>3</td></tr>",
                            "<tr><td>roland1</td><td>Ferencz Roland</td><td>2017-01-04</td><td>2017-01-08</td><td>3</td><td>4</td></tr>",
                            "<tr><td>roland1</td><td>Ferencz Roland</td><td>2017-01-16</td><td>2017-01-22</td><td>2</td><td>7</td></tr>",
                            "<tr><td>roza2</td><td>Bucskó Róza</td><td>2016-09-10</td><td>2016-09-13</td><td>2</td><td>NULL</td></tr>",
                            "<tr><td>roza2</td><td>Bucskó Róza</td><td>2017-01-11</td><td>2017-01-17</td><td>3</td><td>2</td></tr>",
                            "<tr><td>roza2</td><td>Bucskó Róza</td><td>2017-02-18</td><td>2017-02-21</td><td>3</td><td>5</td></tr>",
                            "<tr><td>sandor</td><td>Karasz Sándor</td><td>2016-07-04</td><td>2016-07-06</td><td>2</td><td>NULL</td></tr>",
                            "<tr><td>sandor</td><td>Karasz Sándor</td><td>2016-07-18</td><td>2016-07-24</td><td>2</td><td>2</td></tr>",
                            "<tr><td>sandor</td><td>Karasz Sándor</td><td>2016-08-20</td><td>2016-08-25</td><td>2</td><td>4</td></tr>",
                            "<tr><td>sandor</td><td>Karasz Sándor</td><td>2016-09-19</td><td>2016-09-26</td><td>4</td><td>6</td></tr>",
                            "<tr><td>sandor3</td><td>Farkas Sándor</td><td>2016-05-12</td><td>2016-05-15</td><td>2</td><td>NULL</td></tr>",
                            "<tr><td>sandor3</td><td>Farkas Sándor</td><td>2016-05-25</td><td>2016-05-30</td><td>1</td><td>2</td></tr>",
                            "<tr><td>sandor3</td><td>Farkas Sándor</td><td>2016-10-09</td><td>2016-10-14</td><td>2</td><td>3</td></tr>",
                            "<tr><td>sandor3</td><td>Farkas Sándor</td><td>2016-10-23</td><td>2016-10-29</td><td>3</td><td>5</td></tr>",
                            "<tr><td>sandor3</td><td>Farkas Sándor</td><td>2016-11-10</td><td>2016-11-11</td><td>2</td><td>6</td></tr>",
                            "<tr><td>sandor4</td><td>Nagy Sándor</td><td>2016-10-15</td><td>2016-10-18</td><td>1</td><td>NULL</td></tr>",
                            "<tr><td>sandor4</td><td>Nagy Sándor</td><td>2016-11-29</td><td>2016-12-03</td><td>2</td><td>1</td></tr>",
                            "<tr><td>sandor4</td><td>Nagy Sándor</td><td>2016-12-03</td><td>2016-12-09</td><td>1</td><td>3</td></tr>",
                            "<tr><td>sandor4</td><td>Nagy Sándor</td><td>2017-01-22</td><td>2017-01-26</td><td>2</td><td>4</td></tr>",
                            "<tr><td>sara</td><td>Farkas Sára</td><td>2016-05-28</td><td>2016-05-30</td><td>2</td><td>NULL</td></tr>",
                            "<tr><td>sara</td><td>Farkas Sára</td><td>2016-05-30</td><td>2016-05-31</td><td>2</td><td>2</td></tr>",
                            "<tr><td>sara</td><td>Farkas Sára</td><td>2016-06-06</td><td>2016-06-08</td><td>2</td><td>4</td></tr>",
                            "<tr><td>sara</td><td>Farkas Sára</td><td>2016-07-15</td><td>2016-07-17</td><td>3</td><td>6</td></tr>",
                            "<tr><td>sara</td><td>Farkas Sára</td><td>2016-07-24</td><td>2016-07-27</td><td>3</td><td>7</td></tr>",
                            "<tr><td>sara</td><td>Farkas Sára</td><td>2016-10-06</td><td>2016-10-12</td><td>3</td><td>8</td></tr>",
                            "<tr><td>sara</td><td>Farkas Sára</td><td>2016-10-11</td><td>2016-10-14</td><td>3</td><td>9</td></tr>",
                            "<tr><td>sara</td><td>Farkas Sára</td><td>2016-10-28</td><td>2016-11-03</td><td>2</td><td>9</td></tr>",
                            "<tr><td>sara</td><td>Farkas Sára</td><td>2016-11-18</td><td>2016-11-21</td><td>3</td><td>8</td></tr>",
                            "<tr><td>sara</td><td>Farkas Sára</td><td>2016-11-23</td><td>2016-11-30</td><td>4</td><td>8</td></tr>",
                            "<tr><td>sara</td><td>Farkas Sára</td><td>2016-12-06</td><td>2016-12-10</td><td>1</td><td>9</td></tr>",
                            "<tr><td>sara</td><td>Farkas Sára</td><td>2016-12-25</td><td>2016-12-30</td><td>2</td><td>8</td></tr>",
                            "<tr><td>SEBASTIANF</td><td>Foltényi Sebastián</td><td>2016-04-06</td><td>2016-04-12</td><td>2</td><td>NULL</td></tr>",
                            "<tr><td>SEBASTIANF</td><td>Foltényi Sebastián</td><td>2016-07-17</td><td>2016-07-21</td><td>2</td><td>2</td></tr>",
                            "<tr><td>SEBASTIANF</td><td>Foltényi Sebastián</td><td>2016-07-30</td><td>2016-08-06</td><td>4</td><td>4</td></tr>",
                            "<tr><td>SEBASTIANF</td><td>Foltényi Sebastián</td><td>2016-09-14</td><td>2016-09-15</td><td>3</td><td>8</td></tr>",
                            "<tr><td>SEBASTIANF</td><td>Foltényi Sebastián</td><td>2016-09-17</td><td>2016-09-20</td><td>3</td><td>9</td></tr>",
                            "<tr><td>sebestyen</td><td>Rab Sebestyén</td><td>2016-04-07</td><td>2016-04-12</td><td>4</td><td>NULL</td></tr>",
                            "<tr><td>sebestyen</td><td>Rab Sebestyén</td><td>2016-04-26</td><td>2016-05-02</td><td>4</td><td>4</td></tr>",
                            "<tr><td>sebestyen</td><td>Rab Sebestyén</td><td>2016-06-09</td><td>2016-06-14</td><td>4</td><td>8</td></tr>",
                            "<tr><td>sebestyen</td><td>Rab Sebestyén</td><td>2016-10-26</td><td>2016-11-01</td><td>5</td><td>12</td></tr>",
                            "<tr><td>szabolcs</td><td>Bodor Szabolcs</td><td>2016-12-05</td><td>2016-12-07</td><td>2</td><td>NULL</td></tr>",
                            "<tr><td>SZABOLCSM</td><td>Miklós Szabolcs</td><td>2016-06-18</td><td>2016-06-21</td><td>3</td><td>NULL</td></tr>",
                            "<tr><td>SZABOLCSM</td><td>Miklós Szabolcs</td><td>2016-07-28</td><td>2016-08-03</td><td>2</td><td>3</td></tr>",
                            "<tr><td>SZABOLCSM</td><td>Miklós Szabolcs</td><td>2016-10-17</td><td>2016-10-19</td><td>2</td><td>5</td></tr>",
                            "<tr><td>SZABOLCSM</td><td>Miklós Szabolcs</td><td>2016-10-28</td><td>2016-11-03</td><td>3</td><td>7</td></tr>",
                            "<tr><td>SZABOLCSM</td><td>Miklós Szabolcs</td><td>2016-11-12</td><td>2016-11-13</td><td>2</td><td>7</td></tr>",
                            "<tr><td>SZABOLCSM</td><td>Miklós Szabolcs</td><td>2017-01-07</td><td>2017-01-08</td><td>2</td><td>7</td></tr>",
                            "<tr><td>SZABOLCSM</td><td>Miklós Szabolcs</td><td>2017-02-04</td><td>2017-02-05</td><td>3</td><td>7</td></tr>",
                            "<tr><td>SZILARDS</td><td>Szalai Szilárd</td><td>2016-04-23</td><td>2016-04-30</td><td>3</td><td>NULL</td></tr>",
                            "<tr><td>SZILARDS</td><td>Szalai Szilárd</td><td>2016-07-27</td><td>2016-08-03</td><td>5</td><td>3</td></tr>",
                            "<tr><td>SZILARDS</td><td>Szalai Szilárd</td><td>2016-08-28</td><td>2016-08-29</td><td>4</td><td>8</td></tr>",
                            "<tr><td>SZILARDS</td><td>Szalai Szilárd</td><td>2016-09-20</td><td>2016-09-24</td><td>3</td><td>12</td></tr>",
                            "<tr><td>SZILARDS</td><td>Szalai Szilárd</td><td>2016-10-01</td><td>2016-10-08</td><td>3</td><td>12</td></tr>",
                            "<tr><td>SZILARDS</td><td>Szalai Szilárd</td><td>2017-01-16</td><td>2017-01-19</td><td>3</td><td>10</td></tr>",
                            "<tr><td>SZILARDS</td><td>Szalai Szilárd</td><td>2017-02-08</td><td>2017-02-15</td><td>1</td><td>9</td></tr>",
                            "<tr><td>szilvia1</td><td>Tari Szilvia</td><td>2016-05-14</td><td>2016-05-21</td><td>2</td><td>NULL</td></tr>",
                            "<tr><td>szilvia1</td><td>Tari Szilvia</td><td>2016-05-28</td><td>2016-06-03</td><td>2</td><td>2</td></tr>",
                            "<tr><td>szilvia1</td><td>Tari Szilvia</td><td>2016-07-25</td><td>2016-07-28</td><td>2</td><td>4</td></tr>",
                            "<tr><td>szilvia1</td><td>Tari Szilvia</td><td>2016-10-09</td><td>2016-10-10</td><td>3</td><td>6</td></tr>",
                            "<tr><td>szilvia1</td><td>Tari Szilvia</td><td>2016-10-25</td><td>2016-10-31</td><td>3</td><td>7</td></tr>",
                            "<tr><td>szilvia1</td><td>Tari Szilvia</td><td>2016-10-27</td><td>2016-10-28</td><td>2</td><td>8</td></tr>",
                            "<tr><td>szilvia1</td><td>Tari Szilvia</td><td>2016-12-25</td><td>2016-12-29</td><td>5</td><td>8</td></tr>",
                            "<tr><td>szilvia1</td><td>Tari Szilvia</td><td>2016-12-27</td><td>2017-01-02</td><td>2</td><td>10</td></tr>",
                            "<tr><td>szilvia1</td><td>Tari Szilvia</td><td>2017-01-28</td><td>2017-02-03</td><td>2</td><td>9</td></tr>",
                            "<tr><td>tamara2</td><td>Miklós Tamara</td><td>2016-08-12</td><td>2016-08-15</td><td>3</td><td>NULL</td></tr>",
                            "<tr><td>tamara2</td><td>Miklós Tamara</td><td>2016-11-15</td><td>2016-11-18</td><td>2</td><td>3</td></tr>",
                            "<tr><td>tamas</td><td>Antal Tamás</td><td>2016-05-17</td><td>2016-05-22</td><td>2</td><td>NULL</td></tr>",
                            "<tr><td>tamas</td><td>Antal Tamás</td><td>2016-06-14</td><td>2016-06-21</td><td>2</td><td>2</td></tr>",
                            "<tr><td>tamas</td><td>Antal Tamás</td><td>2016-08-24</td><td>2016-08-27</td><td>3</td><td>4</td></tr>",
                            "<tr><td>tamas</td><td>Antal Tamás</td><td>2017-02-14</td><td>2017-02-19</td><td>3</td><td>7</td></tr>",
                            "<tr><td>TAMASF</td><td>Fényes Tamás</td><td>2016-05-03</td><td>2016-05-04</td><td>2</td><td>NULL</td></tr>",
                            "<tr><td>TAMASF</td><td>Fényes Tamás</td><td>2016-06-10</td><td>2016-06-13</td><td>3</td><td>2</td></tr>",
                            "<tr><td>TAMASF</td><td>Fényes Tamás</td><td>2016-06-28</td><td>2016-07-05</td><td>3</td><td>5</td></tr>",
                            "<tr><td>TAMASF</td><td>Fényes Tamás</td><td>2016-07-04</td><td>2016-07-10</td><td>2</td><td>8</td></tr>",
                            "<tr><td>TAMASF</td><td>Fényes Tamás</td><td>2016-09-12</td><td>2016-09-18</td><td>3</td><td>8</td></tr>",
                            "<tr><td>TAMASF</td><td>Fényes Tamás</td><td>2016-12-02</td><td>2016-12-04</td><td>1</td><td>8</td></tr>",
                            "<tr><td>TAMASF</td><td>Fényes Tamás</td><td>2016-12-10</td><td>2016-12-14</td><td>3</td><td>6</td></tr>",
                            "<tr><td>TAMASF</td><td>Fényes Tamás</td><td>2017-02-12</td><td>2017-02-17</td><td>2</td><td>7</td></tr>",
                            "<tr><td>TAMASF</td><td>Fényes Tamás</td><td>2017-02-16</td><td>2017-02-19</td><td>4</td><td>6</td></tr>",
                            "<tr><td>tibor</td><td>Gombos Tibor</td><td>2016-10-09</td><td>2016-10-13</td><td>2</td><td>NULL</td></tr>",
                            "<tr><td>tibor</td><td>Gombos Tibor</td><td>2016-11-05</td><td>2016-11-09</td><td>1</td><td>2</td></tr>",
                            "<tr><td>tibor2</td><td>Dániel Tibor</td><td>2016-10-20</td><td>2016-10-25</td><td>2</td><td>NULL</td></tr>",
                            "<tr><td>tihamer</td><td>Kazy Tihamér</td><td>2016-05-30</td><td>2016-06-05</td><td>1</td><td>NULL</td></tr>",
                            "<tr><td>tihamer</td><td>Kazy Tihamér</td><td>2016-06-03</td><td>2016-06-08</td><td>5</td><td>1</td></tr>",
                            "<tr><td>tihamer</td><td>Kazy Tihamér</td><td>2016-07-20</td><td>2016-07-24</td><td>3</td><td>6</td></tr>",
                            "<tr><td>tihamer</td><td>Kazy Tihamér</td><td>2016-08-18</td><td>2016-08-22</td><td>3</td><td>9</td></tr>",
                            "<tr><td>tihamer</td><td>Kazy Tihamér</td><td>2016-10-19</td><td>2016-10-23</td><td>2</td><td>11</td></tr>",
                            "<tr><td>tihamer</td><td>Kazy Tihamér</td><td>2016-12-25</td><td>2016-12-26</td><td>2</td><td>8</td></tr>",
                            "<tr><td>timea</td><td>Papós Tímea</td><td>2016-12-26</td><td>2016-12-27</td><td>2</td><td>NULL</td></tr>",
                            "<tr><td>timea2</td><td>Dusha Tímea</td><td>2016-06-06</td><td>2016-06-07</td><td>2</td><td>NULL</td></tr>",
                            "<tr><td>timea2</td><td>Dusha Tímea</td><td>2016-08-07</td><td>2016-08-10</td><td>3</td><td>2</td></tr>",
                            "<tr><td>timea2</td><td>Dusha Tímea</td><td>2016-10-26</td><td>2016-10-29</td><td>3</td><td>5</td></tr>",
                            "<tr><td>timea2</td><td>Dusha Tímea</td><td>2016-11-27</td><td>2016-12-01</td><td>4</td><td>8</td></tr>",
                            "<tr><td>timea2</td><td>Dusha Tímea</td><td>2016-12-14</td><td>2016-12-16</td><td>4</td><td>10</td></tr>",
                            "<tr><td>tunde</td><td>Turcsik Tünde</td><td>2016-06-03</td><td>2016-06-07</td><td>3</td><td>NULL</td></tr>",
                            "<tr><td>tunde</td><td>Turcsik Tünde</td><td>2016-06-06</td><td>2016-06-12</td><td>3</td><td>3</td></tr>",
                            "<tr><td>tunde</td><td>Turcsik Tünde</td><td>2016-07-14</td><td>2016-07-21</td><td>1</td><td>6</td></tr>",
                            "<tr><td>tunde</td><td>Turcsik Tünde</td><td>2016-09-05</td><td>2016-09-12</td><td>2</td><td>7</td></tr>",
                            "<tr><td>tunde</td><td>Turcsik Tünde</td><td>2016-10-24</td><td>2016-10-30</td><td>3</td><td>6</td></tr>",
                            "<tr><td>tunde</td><td>Turcsik Tünde</td><td>2016-11-19</td><td>2016-11-20</td><td>3</td><td>6</td></tr>",
                            "<tr><td>tunde</td><td>Turcsik Tünde</td><td>2016-12-15</td><td>2016-12-20</td><td>3</td><td>8</td></tr>",
                            "<tr><td>tunde</td><td>Turcsik Tünde</td><td>2017-01-03</td><td>2017-01-06</td><td>5</td><td>9</td></tr>",
                            "<tr><td>valentin</td><td>Feró Valentin</td><td>2016-05-24</td><td>2016-05-30</td><td>4</td><td>NULL</td></tr>",
                            "<tr><td>valentin</td><td>Feró Valentin</td><td>2016-07-24</td><td>2016-07-29</td><td>1</td><td>4</td></tr>",
                            "<tr><td>valentin</td><td>Feró Valentin</td><td>2016-10-26</td><td>2016-10-30</td><td>3</td><td>5</td></tr>",
                            "<tr><td>valentin</td><td>Feró Valentin</td><td>2016-11-11</td><td>2016-11-17</td><td>3</td><td>8</td></tr>",
                            "<tr><td>valentin</td><td>Feró Valentin</td><td>2016-12-01</td><td>2016-12-05</td><td>3</td><td>7</td></tr>",
                            "<tr><td>veronika4</td><td>Tankó Veronika</td><td>2016-05-30</td><td>2016-06-04</td><td>2</td><td>NULL</td></tr>",
                            "<tr><td>veronika4</td><td>Tankó Veronika</td><td>2016-07-20</td><td>2016-07-26</td><td>3</td><td>2</td></tr>",
                            "<tr><td>veronika4</td><td>Tankó Veronika</td><td>2016-08-16</td><td>2016-08-21</td><td>1</td><td>5</td></tr>",
                            "<tr><td>veronika4</td><td>Tankó Veronika</td><td>2016-09-26</td><td>2016-10-03</td><td>2</td><td>6</td></tr>",
                            "<tr><td>veronika4</td><td>Tankó Veronika</td><td>2017-01-19</td><td>2017-01-24</td><td>3</td><td>6</td></tr>",
                            "<tr><td>veronika4</td><td>Tankó Veronika</td><td>2017-02-03</td><td>2017-02-05</td><td>2</td><td>6</td></tr>",
                            "<tr><td>VIKTORIAU</td><td>Urbán Viktoria</td><td>2016-04-30</td><td>2016-05-03</td><td>1</td><td>NULL</td></tr>",
                            "<tr><td>VIKTORIAU</td><td>Urbán Viktoria</td><td>2016-08-03</td><td>2016-08-04</td><td>2</td><td>1</td></tr>",
                            "<tr><td>VIKTORIAU</td><td>Urbán Viktoria</td><td>2016-10-14</td><td>2016-10-15</td><td>3</td><td>3</td></tr>",
                            "<tr><td>VIKTORIAU</td><td>Urbán Viktoria</td><td>2016-10-26</td><td>2016-11-02</td><td>4</td><td>6</td></tr>",
                            "<tr><td>VIKTORK</td><td>Keresztúri Viktor</td><td>2016-05-30</td><td>2016-06-01</td><td>2</td><td>NULL</td></tr>",
                            "<tr><td>VIKTORK</td><td>Keresztúri Viktor</td><td>2016-06-06</td><td>2016-06-07</td><td>4</td><td>2</td></tr>",
                            "<tr><td>vivien3</td><td>Boros Vivien</td><td>2016-05-02</td><td>2016-05-05</td><td>3</td><td>NULL</td></tr>",
                            "<tr><td>vivien3</td><td>Boros Vivien</td><td>2016-08-13</td><td>2016-08-18</td><td>2</td><td>3</td></tr>",
                            "<tr><td>vivien3</td><td>Boros Vivien</td><td>2016-09-01</td><td>2016-09-05</td><td>2</td><td>5</td></tr>",
                            "<tr><td>vivien3</td><td>Boros Vivien</td><td>2016-10-01</td><td>2016-10-04</td><td>1</td><td>7</td></tr>",
                            "<tr><td>vivien3</td><td>Boros Vivien</td><td>2016-11-17</td><td>2016-11-20</td><td>2</td><td>5</td></tr>",
                            "<tr><td>vivien3</td><td>Boros Vivien</td><td>2016-12-17</td><td>2016-12-21</td><td>2</td><td>5</td></tr>",
                            "<tr><td>vivien3</td><td>Boros Vivien</td><td>2016-12-24</td><td>2016-12-26</td><td>3</td><td>5</td></tr>",
                            "<tr><td>zoltan</td><td>Fodor Zoltán</td><td>2016-08-24</td><td>2016-08-31</td><td>2</td><td>NULL</td></tr>",
                            "<tr><td>zoltan</td><td>Fodor Zoltán</td><td>2016-09-05</td><td>2016-09-09</td><td>3</td><td>2</td></tr>",
                            "<tr><td>zoltan4</td><td>Barna Zoltán</td><td>2016-05-12</td><td>2016-05-16</td><td>3</td><td>NULL</td></tr>",
                            "<tr><td>zoltan4</td><td>Barna Zoltán</td><td>2016-05-13</td><td>2016-05-16</td><td>3</td><td>3</td></tr>",
                            "<tr><td>zoltan4</td><td>Barna Zoltán</td><td>2016-06-03</td><td>2016-06-06</td><td>1</td><td>6</td></tr>",
                            "<tr><td>zoltan4</td><td>Barna Zoltán</td><td>2016-08-15</td><td>2016-08-21</td><td>1</td><td>7</td></tr>",
                            "<tr><td>zoltan4</td><td>Barna Zoltán</td><td>2016-08-16</td><td>2016-08-23</td><td>2</td><td>5</td></tr>",
                            "<tr><td>zoltan4</td><td>Barna Zoltán</td><td>2016-09-30</td><td>2016-10-07</td><td>3</td><td>4</td></tr>",
                            "<tr><td>zoltan4</td><td>Barna Zoltán</td><td>2016-10-21</td><td>2016-10-24</td><td>5</td><td>6</td></tr>",
                            "<tr><td>zoltan4</td><td>Barna Zoltán</td><td>2016-10-26</td><td>2016-10-30</td><td>2</td><td>10</td></tr>",
                            "<tr><td>zoltan4</td><td>Barna Zoltán</td><td>2016-10-30</td><td>2016-11-06</td><td>1</td><td>10</td></tr>",
                            "<tr><td>zoltan4</td><td>Barna Zoltán</td><td>2016-11-19</td><td>2016-11-21</td><td>2</td><td>8</td></tr>",
                            "<tr><td>zoltan4</td><td>Barna Zoltán</td><td>2016-12-29</td><td>2017-01-04</td><td>1</td><td>5</td></tr>",
                            "<tr><td>zoltan4</td><td>Barna Zoltán</td><td>2017-01-01</td><td>2017-01-02</td><td>3</td><td>4</td></tr>",
                            "<tr><td>ZOLTANP</td><td>Pintér Zoltán</td><td>2016-06-05</td><td>2016-06-08</td><td>2</td><td>NULL</td></tr>",
                            "<tr><td>ZOLTANP</td><td>Pintér Zoltán</td><td>2016-06-06</td><td>2016-06-08</td><td>2</td><td>2</td></tr>",
                            "<tr><td>ZOLTANP</td><td>Pintér Zoltán</td><td>2016-07-20</td><td>2016-07-25</td><td>3</td><td>4</td></tr>",
                            "<tr><td>ZOLTANP</td><td>Pintér Zoltán</td><td>2016-10-19</td><td>2016-10-25</td><td>2</td><td>7</td></tr>",
                            "<tr><td>ZOLTANP</td><td>Pintér Zoltán</td><td>2016-12-07</td><td>2016-12-10</td><td>3</td><td>7</td></tr>",
                            "<tr><td>ZOLTANP</td><td>Pintér Zoltán</td><td>2016-12-25</td><td>2016-12-29</td><td>2</td><td>8</td></tr>",
                            "<tr><td>ZOLTANT</td><td>Tóth Zoltán</td><td>2016-05-01</td><td>2016-05-04</td><td>3</td><td>NULL</td></tr>",
                            "<tr><td>ZOLTANT</td><td>Tóth Zoltán</td><td>2016-07-14</td><td>2016-07-15</td><td>3</td><td>3</td></tr>",
                            "<tr><td>ZOLTANT</td><td>Tóth Zoltán</td><td>2017-01-16</td><td>2017-01-20</td><td>2</td><td>6</td></tr>",
                            "<tr><td>zsofi1</td><td>Molnár Zsófi</td><td>2016-06-16</td><td>2016-06-17</td><td>2</td><td>NULL</td></tr>",
                            "<tr><td>zsofi1</td><td>Molnár Zsófi</td><td>2017-02-18</td><td>2017-02-19</td><td>3</td><td>2</td></tr>",
                            "<tr><td>zsolt1</td><td>Pulai Zsolt</td><td>2016-04-14</td><td>2016-04-17</td><td>2</td><td>NULL</td></tr>",
                            "<tr><td>zsolt1</td><td>Pulai Zsolt</td><td>2016-06-06</td><td>2016-06-08</td><td>2</td><td>2</td></tr>",
                            "<tr><td>zsolt1</td><td>Pulai Zsolt</td><td>2016-06-07</td><td>2016-06-10</td><td>4</td><td>4</td></tr>",
                            "<tr><td>zsolt1</td><td>Pulai Zsolt</td><td>2016-07-31</td><td>2016-08-02</td><td>2</td><td>8</td></tr>",
                            "<tr><td>ZSOLTJ</td><td>Józsa Zsolt</td><td>2016-04-24</td><td>2016-04-26</td><td>4</td><td>NULL</td></tr>",
                            "<tr><td>ZSOLTJ</td><td>Józsa Zsolt</td><td>2016-05-09</td><td>2016-05-11</td><td>2</td><td>4</td></tr>",
                            "<tr><td>ZSOLTJ</td><td>Józsa Zsolt</td><td>2016-05-28</td><td>2016-06-03</td><td>1</td><td>6</td></tr>",
                            "<tr><td>ZSOLTJ</td><td>Józsa Zsolt</td><td>2016-06-17</td><td>2016-06-19</td><td>2</td><td>7</td></tr>",
                            "<tr><td>ZSOLTJ</td><td>Józsa Zsolt</td><td>2016-07-18</td><td>2016-07-19</td><td>2</td><td>5</td></tr>",
                            "<tr><td>ZSOLTJ</td><td>Józsa Zsolt</td><td>2016-10-01</td><td>2016-10-06</td><td>2</td><td>5</td></tr>",
                            "<tr><td>zsuzsa</td><td>Pusztai Zsuzsanna</td><td>2016-07-24</td><td>2016-07-25</td><td>3</td><td>NULL</td></tr>",
                            "<tr><td>zsuzsa</td><td>Pusztai Zsuzsanna</td><td>2016-08-28</td><td>2016-08-30</td><td>2</td><td>3</td></tr>",
                            "<tr><td>zsuzsa</td><td>Pusztai Zsuzsanna</td><td>2016-11-28</td><td>2016-12-04</td><td>3</td><td>5</td></tr>",
                            "<tr><td>zsuzsa3</td><td>Varsányi Zsuzsa</td><td>2016-07-30</td><td>2016-08-02</td><td>2</td><td>NULL</td></tr>",
                            "<tr><td>zsuzsa3</td><td>Varsányi Zsuzsa</td><td>2016-09-09</td><td>2016-09-10</td><td>2</td><td>2</td></tr>",
                            "<tr><td>zsuzsa3</td><td>Varsányi Zsuzsa</td><td>2016-09-28</td><td>2016-10-03</td><td>2</td><td>4</td></tr>",
                            "<tr><td>zsuzsa3</td><td>Varsányi Zsuzsa</td><td>2016-10-27</td><td>2016-11-03</td><td>4</td><td>6</td></tr>",
                            "<tr><td>zsuzsanna</td><td>Barta Zsuzsanna</td><td>2016-05-17</td><td>2016-05-23</td><td>2</td><td>NULL</td></tr>",
                            "<tr><td>zsuzsanna</td><td>Barta Zsuzsanna</td><td>2016-07-12</td><td>2016-07-15</td><td>2</td><td>2</td></tr>",
                            "<tr><td>zsuzsanna</td><td>Barta Zsuzsanna</td><td>2017-01-09</td><td>2017-01-16</td><td>1</td><td>4</td></tr>",
                            "<tr><td>zsuzsanna</td><td>Barta Zsuzsanna</td><td>2017-01-16</td><td>2017-01-22</td><td>2</td><td>5</td></tr>",
                            "<tr><td>ZSUZSAV</td><td>Vajda Zsuzsa</td><td>2016-04-14</td><td>2016-04-16</td><td>2</td><td>NULL</td></tr>",
                            "<tr><td>ZSUZSAV</td><td>Vajda Zsuzsa</td><td>2016-05-28</td><td>2016-06-01</td><td>4</td><td>2</td></tr>",
                            "<tr><td>ZSUZSAV</td><td>Vajda Zsuzsa</td><td>2016-06-15</td><td>2016-06-21</td><td>3</td><td>6</td></tr>",
                            "<tr><td>ZSUZSAV</td><td>Vajda Zsuzsa</td><td>2016-09-18</td><td>2016-09-20</td><td>2</td><td>9</td></tr>",
                            "<tr><td>ZSUZSAV</td><td>Vajda Zsuzsa</td><td>2016-10-26</td><td>2016-10-28</td><td>1</td><td>9</td></tr>",
                            "<tr><td>ZSUZSAV</td><td>Vajda Zsuzsa</td><td>2016-11-21</td><td>2016-11-24</td><td>3</td><td>6</td></tr>",
                            "</table>"
                        ]
                    }
                }
            ],
            "execution_count": 5
        },
        {
            "cell_type": "markdown",
            "source": [
                "4. <span style=\"background-color: rgb(255, 255, 255); color: rgb(0, 0, 0); font-family: &quot;Open Sans&quot;, sans-serif; font-size: 14.44px;\">Készítsünk listát arról, hogy az egyes szálláshelyeken évente hány foglalás történt!&nbsp;</span> \n",
                "\n",
                "a. A lista jelenítse meg a szálláshely azonosítóját, nevét, az évet, és a foglalások számát!\n",
                "\n",
                "b. Egy új oszlopban jelenítsük meg a szálláshely eddigi éves foglalásainak számát is (az aktuálisat is beleértve). \n",
                "\n",
                "c. Az évnél a METTOL dátumot vegyük figyelembe! \n",
                "\n",
                "d. A lista ne tartalmazzon duplikált sorokat!"
            ],
            "metadata": {
                "azdata_cell_guid": "8e7fef82-8022-49a0-8255-fc2846c2134b"
            },
            "attachments": {}
        },
        {
            "cell_type": "code",
            "source": [
                ""
            ],
            "metadata": {
                "azdata_cell_guid": "36f7b396-4a1f-45e5-8720-2302537c91bc",
                "language": "sql"
            },
            "outputs": [],
            "execution_count": null
        },
        {
            "cell_type": "markdown",
            "source": [
                "5. <span style=\"background-color: rgb(255, 255, 255); color: rgb(0, 0, 0); font-family: &quot;Open Sans&quot;, sans-serif; font-size: 14.44px;\">Készítsük listát a szálláshelyekről! A lista tartalmazza a szálláshely azonosítóját, nevét, és a csillagok számát csillagszám szerint csökkenő, azon belül szállásnév szerint növekvő sorrendben!&nbsp;</span> \n",
                "\n",
                "a. Vegyünk fel két új oszlopot, amely a sorrend szerint előző szálláshely nevét, illetve azonosítóját is megjeleníti!"
            ],
            "metadata": {
                "azdata_cell_guid": "84239ca2-6b5e-49f5-9860-d44c11d6de32"
            },
            "attachments": {}
        },
        {
            "cell_type": "code",
            "source": [
                ""
            ],
            "metadata": {
                "azdata_cell_guid": "06d9a62b-9430-424b-a135-d80e675f0eb3",
                "language": "sql"
            },
            "outputs": [],
            "execution_count": null
        },
        {
            "cell_type": "markdown",
            "source": [
                "6. <span style=\"background-color: rgb(255, 255, 255); color: rgb(0, 0, 0); font-family: &quot;Open Sans&quot;, sans-serif; font-size: 14.44px;\">Listázzuk azon termékeket, amelyekből az átlagosnál kevesebb van raktáron!&nbsp;</span> \n",
                "\n",
                "a. Csak a termék kódja és megnevezése jelenjen meg!"
            ],
            "metadata": {
                "azdata_cell_guid": "b0d15045-3c43-4f3a-b8d4-76b4f24e5546"
            },
            "attachments": {}
        },
        {
            "cell_type": "code",
            "source": [
                "SELECT  termekkod,\r\n",
                "        megnevezes\r\n",
                "FROM Termek\r\n",
                "WHERE keszlet < \r\n",
                "(\r\n",
                "    SELECT AVG(keszlet)\r\n",
                "    FROM Termek\r\n",
                ")"
            ],
            "metadata": {
                "azdata_cell_guid": "f2b7400d-1255-40ac-9250-4d57f9da5357",
                "language": "sql"
            },
            "outputs": [
                {
                    "output_type": "display_data",
                    "data": {
                        "text/html": "(437 rows affected)"
                    },
                    "metadata": {}
                },
                {
                    "output_type": "display_data",
                    "data": {
                        "text/html": "Total execution time: 00:00:00.022"
                    },
                    "metadata": {}
                },
                {
                    "output_type": "execute_result",
                    "metadata": {},
                    "execution_count": 9,
                    "data": {
                        "application/vnd.dataresource+json": {
                            "schema": {
                                "fields": [
                                    {
                                        "name": "termekkod"
                                    },
                                    {
                                        "name": "megnevezes"
                                    }
                                ]
                            },
                            "data": [
                                {
                                    "termekkod": "01010110T",
                                    "megnevezes": "Fotópapír A/4 fényes"
                                },
                                {
                                    "termekkod": "01010304T",
                                    "megnevezes": "Öntapadós hologramos papír A/4"
                                },
                                {
                                    "termekkod": "01020300T",
                                    "megnevezes": "Oklevél A/4 színes"
                                },
                                {
                                    "termekkod": "01030091T",
                                    "megnevezes": "Emléklap A/5"
                                },
                                {
                                    "termekkod": "01030092T",
                                    "megnevezes": "Esküvői meghívó"
                                },
                                {
                                    "termekkod": "01040307T",
                                    "megnevezes": "Pausz papír A/4"
                                },
                                {
                                    "termekkod": "01040502T",
                                    "megnevezes": "Előlap spirálhoz"
                                },
                                {
                                    "termekkod": "01080093T",
                                    "megnevezes": "Fax papír 15 m"
                                },
                                {
                                    "termekkod": "01080512T",
                                    "megnevezes": "Öntapadó A/4"
                                },
                                {
                                    "termekkod": "01080513T",
                                    "megnevezes": "Selyemfényű karton A/4"
                                },
                                {
                                    "termekkod": "01090499T",
                                    "megnevezes": "Color Copy A/4 250 g"
                                },
                                {
                                    "termekkod": "01090500T",
                                    "megnevezes": "Color Copy A4 200 g"
                                },
                                {
                                    "termekkod": "01090501T",
                                    "megnevezes": "Kreatív A/4 300g "
                                },
                                {
                                    "termekkod": "01090515T",
                                    "megnevezes": "Színes A/3 160 gr IQ"
                                },
                                {
                                    "termekkod": "01090516T",
                                    "megnevezes": "Színes karton A4"
                                },
                                {
                                    "termekkod": "01090517T",
                                    "megnevezes": "Színes ofszet B/4"
                                },
                                {
                                    "termekkod": "01100070T",
                                    "megnevezes": "Dekorációs karton"
                                },
                                {
                                    "termekkod": "01100072T",
                                    "megnevezes": "Dipa A/4 keretezett"
                                },
                                {
                                    "termekkod": "01100094T",
                                    "megnevezes": "Fénymásoló papír DataCopy"
                                },
                                {
                                    "termekkod": "01100095T",
                                    "megnevezes": "Fénymásoló papír GetCopy"
                                },
                                {
                                    "termekkod": "01100096T",
                                    "megnevezes": "Fénymásoló papír Qconnect"
                                },
                                {
                                    "termekkod": "01100496T",
                                    "megnevezes": "Színes másoló a/4 80g"
                                },
                                {
                                    "termekkod": "01100497T",
                                    "megnevezes": "Color Copy 160 g-os "
                                },
                                {
                                    "termekkod": "01100503T",
                                    "megnevezes": "Color Copy A4 120 g"
                                },
                                {
                                    "termekkod": "01100504T",
                                    "megnevezes": "Fehér másoló A/3"
                                },
                                {
                                    "termekkod": "01100505T",
                                    "megnevezes": "Fehér másoló A/4"
                                },
                                {
                                    "termekkod": "01100509T",
                                    "megnevezes": "Márványos A/4"
                                },
                                {
                                    "termekkod": "01100510T",
                                    "megnevezes": "Kreatív A/4 120g "
                                },
                                {
                                    "termekkod": "02010028T",
                                    "megnevezes": "Árazószalag "
                                },
                                {
                                    "termekkod": "02020029T",
                                    "megnevezes": "Átírótömb A/6"
                                },
                                {
                                    "termekkod": "02020032T",
                                    "megnevezes": "Beírókönyv A5 "
                                },
                                {
                                    "termekkod": "02020033T",
                                    "megnevezes": "Beírókönyv A4"
                                },
                                {
                                    "termekkod": "02020037T",
                                    "megnevezes": "Bevételi pénztárbizonylat 3×25"
                                },
                                {
                                    "termekkod": "02020245T",
                                    "megnevezes": "Kiadási pénztárbizonylat 2×25"
                                },
                                {
                                    "termekkod": "02030040T",
                                    "megnevezes": "Boríték LA 4 francia"
                                },
                                {
                                    "termekkod": "02040025T",
                                    "megnevezes": "Álló irattartó karton"
                                },
                                {
                                    "termekkod": "02040145T",
                                    "megnevezes": "Gemkapocs 28 mm"
                                },
                                {
                                    "termekkod": "02040147T",
                                    "megnevezes": "Genotherm lefűzhető A/5"
                                },
                                {
                                    "termekkod": "02040148T",
                                    "megnevezes": "Genotherm lefűzhető A4 10db-os"
                                },
                                {
                                    "termekkod": "02040176T",
                                    "megnevezes": "Gyorsfűző dosszié fehér"
                                },
                                {
                                    "termekkod": "02040177T",
                                    "megnevezes": "Gyorsfűző műa."
                                },
                                {
                                    "termekkod": "02040178T",
                                    "megnevezes": "Gyorsfűző műa."
                                },
                                {
                                    "termekkod": "02040194T",
                                    "megnevezes": "Hibajav.roll.Pritt 4,2mm"
                                },
                                {
                                    "termekkod": "02040195T",
                                    "megnevezes": "Hibajavító ecsetes Aqua"
                                },
                                {
                                    "termekkod": "02040196T",
                                    "megnevezes": "Hibajavító készlet Blanco"
                                },
                                {
                                    "termekkod": "02040197T",
                                    "megnevezes": "Hibajavító lap "
                                },
                                {
                                    "termekkod": "02040198T",
                                    "megnevezes": "Hibajavító roller 5 mm"
                                },
                                {
                                    "termekkod": "02040199T",
                                    "megnevezes": "Hibajavító roller Pax"
                                },
                                {
                                    "termekkod": "02040200T",
                                    "megnevezes": "Hibajavító Kores mini pen"
                                },
                                {
                                    "termekkod": "02040206T",
                                    "megnevezes": "Írásvetítő fólia"
                                },
                                {
                                    "termekkod": "02040207T",
                                    "megnevezes": "Iratgyűjtő ESSELTE ablakos"
                                },
                                {
                                    "termekkod": "02040208T",
                                    "megnevezes": "Iratgyűjtő fehér"
                                },
                                {
                                    "termekkod": "02040209T",
                                    "megnevezes": "Iratsín fehér"
                                },
                                {
                                    "termekkod": "02040211T",
                                    "megnevezes": "Iratrendező ESSELTE"
                                },
                                {
                                    "termekkod": "02040214T",
                                    "megnevezes": "Iromány fedél feles"
                                },
                                {
                                    "termekkod": "02040290T",
                                    "megnevezes": "Naptár 24-es"
                                },
                                {
                                    "termekkod": "02040291T",
                                    "megnevezes": "Naptárhát kicsi"
                                },
                                {
                                    "termekkod": "02040294T",
                                    "megnevezes": "Notesz A/5 sima"
                                },
                                {
                                    "termekkod": "02040298T",
                                    "megnevezes": "Notesz mintás"
                                },
                                {
                                    "termekkod": "02040308T",
                                    "megnevezes": "Pénztárgépsz. 2 pl. nem öníró"
                                },
                                {
                                    "termekkod": "02040309T",
                                    "megnevezes": "Pénztárgépszalag 2pl SC 57.5/60"
                                },
                                {
                                    "termekkod": "02040401T",
                                    "megnevezes": "Tűzőgép Boxer 10"
                                },
                                {
                                    "termekkod": "02040402T",
                                    "megnevezes": "Tűzőgép Boxer "
                                },
                                {
                                    "termekkod": "02040403T",
                                    "megnevezes": "Tűzőgép SAX 239"
                                },
                                {
                                    "termekkod": "02040404T",
                                    "megnevezes": "Tűzőgép EAGLE"
                                },
                                {
                                    "termekkod": "02040405T",
                                    "megnevezes": "Tűzőkapocs 10-es"
                                },
                                {
                                    "termekkod": "02040506T",
                                    "megnevezes": "Fólia tasakos A4 125 mik."
                                },
                                {
                                    "termekkod": "02040507T",
                                    "megnevezes": "Fólia tasakos A4 80 mik."
                                },
                                {
                                    "termekkod": "02040508T",
                                    "megnevezes": "Fólia tasakos A4100 mik."
                                },
                                {
                                    "termekkod": "02050460T",
                                    "megnevezes": "Boríték C/4-es"
                                },
                                {
                                    "termekkod": "02050461T",
                                    "megnevezes": "Boríték B/4-es"
                                },
                                {
                                    "termekkod": "02060034T",
                                    "megnevezes": "Bélyegzőfesték "
                                },
                                {
                                    "termekkod": "02060038T",
                                    "megnevezes": "Bélyegző IDEAL 50"
                                },
                                {
                                    "termekkod": "02060039T",
                                    "megnevezes": "Bélyegző párna"
                                },
                                {
                                    "termekkod": "02060447T",
                                    "megnevezes": "Bélyegző pocket"
                                },
                                {
                                    "termekkod": "02060448T",
                                    "megnevezes": "Bélyegző RP 18-47"
                                },
                                {
                                    "termekkod": "02080069T",
                                    "megnevezes": "CD tartó tok"
                                },
                                {
                                    "termekkod": "02080081T",
                                    "megnevezes": "Dvd"
                                },
                                {
                                    "termekkod": "02080109T",
                                    "megnevezes": "Floppy lemez"
                                },
                                {
                                    "termekkod": "02080226T",
                                    "megnevezes": "Kapocskiszedő"
                                },
                                {
                                    "termekkod": "02080431T",
                                    "megnevezes": "Álló irattartó"
                                },
                                {
                                    "termekkod": "02080432T",
                                    "megnevezes": "Tokos iratrendező"
                                },
                                {
                                    "termekkod": "02080433T",
                                    "megnevezes": "Ragasztószalag 19 mm-es"
                                },
                                {
                                    "termekkod": "02080434T",
                                    "megnevezes": "Mappa müa A/4"
                                },
                                {
                                    "termekkod": "02080436T",
                                    "megnevezes": "Irattartó müa. boríték A/4"
                                },
                                {
                                    "termekkod": "02080449T",
                                    "megnevezes": "Térképtű színes"
                                },
                                {
                                    "termekkod": "02080450T",
                                    "megnevezes": "Gémkapocs 28-as színes"
                                },
                                {
                                    "termekkod": "02080451T",
                                    "megnevezes": "Gémkapocs 50-es"
                                },
                                {
                                    "termekkod": "02080452T",
                                    "megnevezes": "Tűzőgép mini"
                                },
                                {
                                    "termekkod": "02080453T",
                                    "megnevezes": "Lyukasztó EAGLE"
                                },
                                {
                                    "termekkod": "02080454T",
                                    "megnevezes": "Lyukasztó BOXER"
                                },
                                {
                                    "termekkod": "02080455T",
                                    "megnevezes": "Festékpatron BCI-3BK"
                                },
                                {
                                    "termekkod": "02080456T",
                                    "megnevezes": "Genoterm HERLITZ 10-es"
                                },
                                {
                                    "termekkod": "02080511T",
                                    "megnevezes": "Oki toner C"
                                },
                                {
                                    "termekkod": "02080514T",
                                    "megnevezes": "Spirál 1/4 "
                                },
                                {
                                    "termekkod": "03010342T",
                                    "megnevezes": "Ragasztószalag  TIXO"
                                },
                                {
                                    "termekkod": "03010344T",
                                    "megnevezes": "Ragasztószalag nagy 12 mm"
                                },
                                {
                                    "termekkod": "03010345T",
                                    "megnevezes": "Ragasztószalag széles barna"
                                },
                                {
                                    "termekkod": "03050076T",
                                    "megnevezes": "Díszkötöző szalag metál nagy"
                                },
                                {
                                    "termekkod": "03050077T",
                                    "megnevezes": "Diszkötöző szalag arany"
                                },
                                {
                                    "termekkod": "03050078T",
                                    "megnevezes": "Díszkötöző szalag metál kicsi"
                                },
                                {
                                    "termekkod": "03080003T",
                                    "megnevezes": "Ajándék cs. tasak italos"
                                },
                                {
                                    "termekkod": "03080004T",
                                    "megnevezes": "Ajándék cs. tasak italos, fólia"
                                },
                                {
                                    "termekkod": "03080006T",
                                    "megnevezes": "Ajándék cs. tasak mintás kicsi"
                                },
                                {
                                    "termekkod": "03080009T",
                                    "megnevezes": "Ajándék csom. 100x70 metál"
                                },
                                {
                                    "termekkod": "03080012T",
                                    "megnevezes": "Ajándék csom. 200x70"
                                },
                                {
                                    "termekkod": "03080013T",
                                    "megnevezes": "Ajándék csom. 50x70 húsvéti"
                                },
                                {
                                    "termekkod": "03080014T",
                                    "megnevezes": "Ajándék csom. 70x50 metál"
                                },
                                {
                                    "termekkod": "03080015T",
                                    "megnevezes": "Ajándék csom. gyűrt"
                                },
                                {
                                    "termekkod": "03080016T",
                                    "megnevezes": "házt.csom.  5 ív"
                                },
                                {
                                    "termekkod": "03080017T",
                                    "megnevezes": "iskolai csomagoló papír"
                                },
                                {
                                    "termekkod": "03080019T",
                                    "megnevezes": "Ajándék csom. Krepp"
                                },
                                {
                                    "termekkod": "03080020T",
                                    "megnevezes": "Ajándék csom. nagy  "
                                },
                                {
                                    "termekkod": "03080021T",
                                    "megnevezes": "Ajándék csom. vékony"
                                },
                                {
                                    "termekkod": "03080030T",
                                    "megnevezes": "Ajándék cs. húsvéti 200x70"
                                },
                                {
                                    "termekkod": "03080439T",
                                    "megnevezes": "Italtartó doboz"
                                },
                                {
                                    "termekkod": "04020445T",
                                    "megnevezes": "Határidő napló 2010-s"
                                },
                                {
                                    "termekkod": "04030235T",
                                    "megnevezes": "Képeslap karácsonyi borítékos"
                                },
                                {
                                    "termekkod": "04030237T",
                                    "megnevezes": "Képeslap kerek"
                                },
                                {
                                    "termekkod": "04030238T",
                                    "megnevezes": "Képeslap stancolt"
                                },
                                {
                                    "termekkod": "04030239T",
                                    "megnevezes": "Képeslap stancolt szív"
                                },
                                {
                                    "termekkod": "04030243T",
                                    "megnevezes": "Képkirakó Dirib-darab"
                                },
                                {
                                    "termekkod": "04030261T",
                                    "megnevezes": "Levélpapír állatos"
                                },
                                {
                                    "termekkod": "04030262T",
                                    "megnevezes": "Levélpapír sima"
                                },
                                {
                                    "termekkod": "04030263T",
                                    "megnevezes": "Levélpapír szett"
                                },
                                {
                                    "termekkod": "04030264T",
                                    "megnevezes": "Levélpapír szett "
                                },
                                {
                                    "termekkod": "04030265T",
                                    "megnevezes": "Levélpapír szett natur, mintás"
                                },
                                {
                                    "termekkod": "04030266T",
                                    "megnevezes": "Levélpapír szett virágos"
                                },
                                {
                                    "termekkod": "04030285T",
                                    "megnevezes": "Mikulás zacskó"
                                },
                                {
                                    "termekkod": "04030286T",
                                    "megnevezes": "Műanyag állatok"
                                },
                                {
                                    "termekkod": "04030288T",
                                    "megnevezes": "Műanyag pohár 1 dl-es"
                                },
                                {
                                    "termekkod": "04040387T",
                                    "megnevezes": "Tenisz labda"
                                },
                                {
                                    "termekkod": "04050022T",
                                    "megnevezes": "Álarc"
                                },
                                {
                                    "termekkod": "04050023T",
                                    "megnevezes": "Álarc fejdísz"
                                },
                                {
                                    "termekkod": "04050024T",
                                    "megnevezes": "Álarc szemüveg"
                                },
                                {
                                    "termekkod": "04050035T",
                                    "megnevezes": "Bérlet tok"
                                },
                                {
                                    "termekkod": "04050073T",
                                    "megnevezes": "Díszdoboz kar."
                                },
                                {
                                    "termekkod": "04050074T",
                                    "megnevezes": "Díszdoboz tollnak 2 db-os"
                                },
                                {
                                    "termekkod": "04050075T",
                                    "megnevezes": "Díszdoboz tollnak 2 db-os keskeny"
                                },
                                {
                                    "termekkod": "04050171T",
                                    "megnevezes": "Gumilabda közepes"
                                },
                                {
                                    "termekkod": "04050187T",
                                    "megnevezes": "Hajgumi macis"
                                },
                                {
                                    "termekkod": "04050203T",
                                    "megnevezes": "Hűtőmágnes"
                                },
                                {
                                    "termekkod": "04050204T",
                                    "megnevezes": "Hűtőmágnes WD"
                                },
                                {
                                    "termekkod": "04050220T",
                                    "megnevezes": "Játék autó"
                                },
                                {
                                    "termekkod": "04050221T",
                                    "megnevezes": "Játékautó Blisteres"
                                },
                                {
                                    "termekkod": "04050222T",
                                    "megnevezes": "Játékautó elemes"
                                },
                                {
                                    "termekkod": "04050223T",
                                    "megnevezes": "Játékautó mini"
                                },
                                {
                                    "termekkod": "04050224T",
                                    "megnevezes": "Jelzőkréta"
                                },
                                {
                                    "termekkod": "04050252T",
                                    "megnevezes": "Kulcstartó Csőrikés"
                                },
                                {
                                    "termekkod": "04050253T",
                                    "megnevezes": "Kulcstartó figurás"
                                },
                                {
                                    "termekkod": "04050254T",
                                    "megnevezes": "Kulcstartó intarziás állatos"
                                },
                                {
                                    "termekkod": "04050269T",
                                    "megnevezes": "Lufi hullámos"
                                },
                                {
                                    "termekkod": "04050320T",
                                    "megnevezes": "Plüss  QX állatok"
                                },
                                {
                                    "termekkod": "04050322T",
                                    "megnevezes": "Plüss sárkány"
                                },
                                {
                                    "termekkod": "04050358T",
                                    "megnevezes": "Strandlabda "
                                },
                                {
                                    "termekkod": "04080270T",
                                    "megnevezes": "Mappa bőr A5"
                                },
                                {
                                    "termekkod": "04080271T",
                                    "megnevezes": "Mappa PVC villámzáras"
                                },
                                {
                                    "termekkod": "04080272T",
                                    "megnevezes": "Mappa PVC villámzáras  képes"
                                },
                                {
                                    "termekkod": "04080443T",
                                    "megnevezes": "Emlékkönyv lakatos"
                                },
                                {
                                    "termekkod": "04110066T",
                                    "megnevezes": "Címke 8 db-os"
                                },
                                {
                                    "termekkod": "04110067T",
                                    "megnevezes": "Címke WD. állat"
                                },
                                {
                                    "termekkod": "04110068T",
                                    "megnevezes": "Címke egyszínű"
                                },
                                {
                                    "termekkod": "04110227T",
                                    "megnevezes": "Képeslap  borítékos"
                                },
                                {
                                    "termekkod": "04110228T",
                                    "megnevezes": "Képeslap \"Nászajándék\""
                                },
                                {
                                    "termekkod": "04110229T",
                                    "megnevezes": "Képeslap \"Részvét\""
                                },
                                {
                                    "termekkod": "04110230T",
                                    "megnevezes": "Képeslap humoros "
                                },
                                {
                                    "termekkod": "04110231T",
                                    "megnevezes": "Képeslap humoros borítékos"
                                },
                                {
                                    "termekkod": "04110232T",
                                    "megnevezes": "Képeslap humoros kaparós"
                                },
                                {
                                    "termekkod": "04110233T",
                                    "megnevezes": "Képeslap humoros"
                                },
                                {
                                    "termekkod": "04110258T",
                                    "megnevezes": "Lampion"
                                },
                                {
                                    "termekkod": "04110274T",
                                    "megnevezes": "Matrica autóra H"
                                },
                                {
                                    "termekkod": "04110275T",
                                    "megnevezes": "Matrica motoros kicsi"
                                },
                                {
                                    "termekkod": "04110276T",
                                    "megnevezes": "Matrica Stickers nagy állatos"
                                },
                                {
                                    "termekkod": "04110277T",
                                    "megnevezes": "Matrica Stickers szíves"
                                },
                                {
                                    "termekkod": "04110278T",
                                    "megnevezes": "Matrica Test ékszer tattoo"
                                },
                                {
                                    "termekkod": "04110279T",
                                    "megnevezes": "Matrica tetoválás"
                                },
                                {
                                    "termekkod": "04110280T",
                                    "megnevezes": "Matrica tetoválós kicsi"
                                },
                                {
                                    "termekkod": "04110281T",
                                    "megnevezes": "Matrica világítós "
                                },
                                {
                                    "termekkod": "04110282T",
                                    "megnevezes": "Matrica WD kicsi"
                                },
                                {
                                    "termekkod": "04110283T",
                                    "megnevezes": "Meghívó állatos"
                                },
                                {
                                    "termekkod": "04110284T",
                                    "megnevezes": "Meghívó borítékos"
                                },
                                {
                                    "termekkod": "04110362T",
                                    "megnevezes": "Szalvéta gyűjtőknek"
                                },
                                {
                                    "termekkod": "05010026T",
                                    "megnevezes": "Alufólia 10 m-es"
                                },
                                {
                                    "termekkod": "05010369T",
                                    "megnevezes": "Szemetes zsák 60 literes"
                                },
                                {
                                    "termekkod": "05010370T",
                                    "megnevezes": "Szilvia csomagoló"
                                },
                                {
                                    "termekkod": "05040310T",
                                    "megnevezes": "Pill.ragasztó"
                                },
                                {
                                    "termekkod": "05040348T",
                                    "megnevezes": "Rajzszeg színes"
                                },
                                {
                                    "termekkod": "05040349T",
                                    "megnevezes": "Rajzszeg"
                                },
                                {
                                    "termekkod": "05050045T",
                                    "megnevezes": "Celofán"
                                },
                                {
                                    "termekkod": "05050046T",
                                    "megnevezes": "Celofán 50 db-os"
                                },
                                {
                                    "termekkod": "05050170T",
                                    "megnevezes": "Gumigyűrű"
                                },
                                {
                                    "termekkod": "05050346T",
                                    "megnevezes": "Rágógumi Orbit"
                                },
                                {
                                    "termekkod": "05080340T",
                                    "megnevezes": "Ragasztó, Technokol 35g kék"
                                },
                                {
                                    "termekkod": "05080341T",
                                    "megnevezes": "Ragasztó, Technokol 35g piros"
                                },
                                {
                                    "termekkod": "05110359T",
                                    "megnevezes": "Szalvéta "
                                },
                                {
                                    "termekkod": "05110360T",
                                    "megnevezes": "Szalvéta egyszínű"
                                },
                                {
                                    "termekkod": "05110361T",
                                    "megnevezes": "Szalvéta Goma húsvéti"
                                },
                                {
                                    "termekkod": "05110363T",
                                    "megnevezes": "Szalvéta dekor"
                                },
                                {
                                    "termekkod": "05110364T",
                                    "megnevezes": "Szalvéta kicsi virágos"
                                },
                                {
                                    "termekkod": "06010036T",
                                    "megnevezes": "Betűtartó sin"
                                },
                                {
                                    "termekkod": "06010082T",
                                    "megnevezes": "Ecset Centrum 10,11,12"
                                },
                                {
                                    "termekkod": "06010083T",
                                    "megnevezes": "Ecset Centrum 7,8,9"
                                },
                                {
                                    "termekkod": "06010084T",
                                    "megnevezes": "Ecset Deák 2-es"
                                },
                                {
                                    "termekkod": "06010085T",
                                    "megnevezes": "Ecset Lizzy 10-es"
                                },
                                {
                                    "termekkod": "06010111T",
                                    "megnevezes": "Füzet  A/4 "
                                },
                                {
                                    "termekkod": "06010112T",
                                    "megnevezes": "Füzet  A4 mintás"
                                },
                                {
                                    "termekkod": "06010114T",
                                    "megnevezes": "Füzet A/5 hangjegy 36/16"
                                },
                                {
                                    "termekkod": "06010115T",
                                    "megnevezes": "Füzet A/5, mintás"
                                },
                                {
                                    "termekkod": "06010201T",
                                    "megnevezes": "Hőmérő, műa."
                                },
                                {
                                    "termekkod": "06010202T",
                                    "megnevezes": "Hurkapálca 10 db-os"
                                },
                                {
                                    "termekkod": "06010305T",
                                    "megnevezes": "Papírcenti 100 cm-es"
                                },
                                {
                                    "termekkod": "06010365T",
                                    "megnevezes": "Számegyenes"
                                },
                                {
                                    "termekkod": "06010366T",
                                    "megnevezes": "Számológép Roxin"
                                },
                                {
                                    "termekkod": "06010367T",
                                    "megnevezes": "Számolókorong"
                                },
                                {
                                    "termekkod": "06010368T",
                                    "megnevezes": "Számolópálca"
                                },
                                {
                                    "termekkod": "06010375T",
                                    "megnevezes": "Szögmérő 180 fokos műa."
                                },
                                {
                                    "termekkod": "06010376T",
                                    "megnevezes": "Szögmérő papír"
                                },
                                {
                                    "termekkod": "06010377T",
                                    "megnevezes": "Szögmérő színes"
                                },
                                {
                                    "termekkod": "06040089T",
                                    "megnevezes": "Ellenőrzőborító"
                                },
                                {
                                    "termekkod": "06040175T",
                                    "megnevezes": "Gumis mappa Köbüki"
                                },
                                {
                                    "termekkod": "06040179T",
                                    "megnevezes": "Gyurma színes 200 g-os"
                                },
                                {
                                    "termekkod": "06040180T",
                                    "megnevezes": "Gyurma színes natúr"
                                },
                                {
                                    "termekkod": "06040183T",
                                    "megnevezes": "Gyűrűskönyv bet. A/5"
                                },
                                {
                                    "termekkod": "06040184T",
                                    "megnevezes": "Gyűrűskönyv betét A/5"
                                },
                                {
                                    "termekkod": "06040186T",
                                    "megnevezes": "Gyűrűskönyv színes"
                                },
                                {
                                    "termekkod": "06040205T",
                                    "megnevezes": "Indigó Pelikán"
                                },
                                {
                                    "termekkod": "06040206T",
                                    "megnevezes": "kék indigó"
                                },
                                {
                                    "termekkod": "06040212T",
                                    "megnevezes": "Írólap 10-50 ffam."
                                },
                                {
                                    "termekkod": "06040213T",
                                    "megnevezes": "Írólap 20-50 "
                                },
                                {
                                    "termekkod": "06040246T",
                                    "megnevezes": "Körző"
                                },
                                {
                                    "termekkod": "06040248T",
                                    "megnevezes": "Körző maped"
                                },
                                {
                                    "termekkod": "06040323T",
                                    "megnevezes": "Post-it 51×38 100 lapos"
                                },
                                {
                                    "termekkod": "06040324T",
                                    "megnevezes": "Post-it 75×75 100 lapos"
                                },
                                {
                                    "termekkod": "06040326T",
                                    "megnevezes": "Radír KOH-I-NOR 80"
                                },
                                {
                                    "termekkod": "06040330T",
                                    "megnevezes": "Radír Tikky 30 "
                                },
                                {
                                    "termekkod": "06040331T",
                                    "megnevezes": "Radír Tikky 40 "
                                },
                                {
                                    "termekkod": "06040347T",
                                    "megnevezes": "Rajzlap A/4 10db ffam."
                                },
                                {
                                    "termekkod": "06040350T",
                                    "megnevezes": "Regiszteres füzet A4"
                                },
                                {
                                    "termekkod": "06040351T",
                                    "megnevezes": "Regiszteres füzet A5 Hightech"
                                },
                                {
                                    "termekkod": "06040352T",
                                    "megnevezes": "Rovatolt papír 20 íves"
                                },
                                {
                                    "termekkod": "06040353T",
                                    "megnevezes": "Sorvezető"
                                },
                                {
                                    "termekkod": "06040354T",
                                    "megnevezes": "Sp.Füzet A/4  perforált, lyuk."
                                },
                                {
                                    "termekkod": "06040355T",
                                    "megnevezes": "Sp.Füzet A/4 70-as"
                                },
                                {
                                    "termekkod": "06040356T",
                                    "megnevezes": "Sp.Füzet A/4  70es"
                                },
                                {
                                    "termekkod": "06040378T",
                                    "megnevezes": "Szövegkiemelő vékony"
                                },
                                {
                                    "termekkod": "06040379T",
                                    "megnevezes": "Szövegkiemelő "
                                },
                                {
                                    "termekkod": "06040380T",
                                    "megnevezes": "Szövegkiemelő"
                                },
                                {
                                    "termekkod": "06040381T",
                                    "megnevezes": "Szövegkiemelő Videotip"
                                },
                                {
                                    "termekkod": "06040382T",
                                    "megnevezes": "Táblafilc"
                                },
                                {
                                    "termekkod": "06040383T",
                                    "megnevezes": "Taffet papír"
                                },
                                {
                                    "termekkod": "06040384T",
                                    "megnevezes": "Technika cs. I-II-III-IV"
                                },
                                {
                                    "termekkod": "06040385T",
                                    "megnevezes": "Tempera szóló ezüst"
                                },
                                {
                                    "termekkod": "06040386T",
                                    "megnevezes": "Tempera szóló színes"
                                },
                                {
                                    "termekkod": "06040392T",
                                    "megnevezes": "Tolltartó 1 zipzáros"
                                },
                                {
                                    "termekkod": "06040393T",
                                    "megnevezes": "Tolltartó 2 részes NG."
                                },
                                {
                                    "termekkod": "06040394T",
                                    "megnevezes": "Tolltartó zipzáras"
                                },
                                {
                                    "termekkod": "06040395T",
                                    "megnevezes": "Tolltartó 2 zipzáros töltött"
                                },
                                {
                                    "termekkod": "06040397T",
                                    "megnevezes": "Tolltartó asztali"
                                },
                                {
                                    "termekkod": "06040398T",
                                    "megnevezes": "Tolltartó hengeres "
                                },
                                {
                                    "termekkod": "06040399T",
                                    "megnevezes": "Tombola tömb"
                                },
                                {
                                    "termekkod": "06040400T",
                                    "megnevezes": "Tornazsák"
                                },
                                {
                                    "termekkod": "06040446T",
                                    "megnevezes": "Számológép tudományos"
                                },
                                {
                                    "termekkod": "06050249T",
                                    "megnevezes": "Krepp papír"
                                },
                                {
                                    "termekkod": "06050301T",
                                    "megnevezes": "Olló gyerek "
                                },
                                {
                                    "termekkod": "06050302T",
                                    "megnevezes": "Olló Tagit 18 cm-es"
                                },
                                {
                                    "termekkod": "06050303T",
                                    "megnevezes": "Olló, iskolai"
                                },
                                {
                                    "termekkod": "06080116T",
                                    "megnevezes": "Füzet A5 1-8 osz.-ig"
                                },
                                {
                                    "termekkod": "06080117T",
                                    "megnevezes": "Füzetborító A/4 átlátszó"
                                },
                                {
                                    "termekkod": "06080118T",
                                    "megnevezes": "Füzetborító átlátszó A5"
                                },
                                {
                                    "termekkod": "06080119T",
                                    "megnevezes": "Füzetborító mesefig."
                                },
                                {
                                    "termekkod": "06080120T",
                                    "megnevezes": "Füzetborító öntapadó kicsi"
                                },
                                {
                                    "termekkod": "06080121T",
                                    "megnevezes": "Füzetborító öntapadó tekercses"
                                },
                                {
                                    "termekkod": "06080122T",
                                    "megnevezes": "Füzetborító öntapadós nagy"
                                },
                                {
                                    "termekkod": "06080124T",
                                    "megnevezes": "Füzettartó A/4 keménytáblás"
                                },
                                {
                                    "termekkod": "06080125T",
                                    "megnevezes": "Füzettartó A/5 vastag"
                                },
                                {
                                    "termekkod": "06080126T",
                                    "megnevezes": "Füzettartó A/5  "
                                },
                                {
                                    "termekkod": "06080188T",
                                    "megnevezes": "Hegyező gép"
                                },
                                {
                                    "termekkod": "06080189T",
                                    "megnevezes": "Hegyező műanyag dupla"
                                },
                                {
                                    "termekkod": "06080190T",
                                    "megnevezes": "Hegyező műanyag egyes"
                                },
                                {
                                    "termekkod": "06080191T",
                                    "megnevezes": "Hegyező tartályos egyes"
                                },
                                {
                                    "termekkod": "06080192T",
                                    "megnevezes": "Hegyző fém 1 lyukú"
                                },
                                {
                                    "termekkod": "06080193T",
                                    "megnevezes": "Hegyző fém 2 lyukú"
                                },
                                {
                                    "termekkod": "06080259T",
                                    "megnevezes": "Leckefüzet"
                                },
                                {
                                    "termekkod": "06080332T",
                                    "megnevezes": "Radírtoll betét ER100"
                                },
                                {
                                    "termekkod": "06080333T",
                                    "megnevezes": "Radírtoll betét vastag"
                                },
                                {
                                    "termekkod": "06080335T",
                                    "megnevezes": "Ragasztó 9 g Pax"
                                },
                                {
                                    "termekkod": "06080337T",
                                    "megnevezes": "Ragasztó Gyurma"
                                },
                                {
                                    "termekkod": "06080339T",
                                    "megnevezes": "Ragasztó kores"
                                },
                                {
                                    "termekkod": "06080407T",
                                    "megnevezes": "Vízfesték  12 színű nagy"
                                },
                                {
                                    "termekkod": "06080408T",
                                    "megnevezes": "Vízfesték 12 db-os "
                                },
                                {
                                    "termekkod": "06080409T",
                                    "megnevezes": "Vízfesték 12 színű kerek"
                                },
                                {
                                    "termekkod": "06080410T",
                                    "megnevezes": "Vízfesték 12db-os kínai"
                                },
                                {
                                    "termekkod": "06080411T",
                                    "megnevezes": "Vonalzó 15 cm-es ESSELTE"
                                },
                                {
                                    "termekkod": "06080412T",
                                    "megnevezes": "Vonalzó 16 cm-es LIZZY"
                                },
                                {
                                    "termekkod": "06080413T",
                                    "megnevezes": "Vonalzó 30 cm"
                                },
                                {
                                    "termekkod": "06080415T",
                                    "megnevezes": "Vonalzó 45 fokos"
                                },
                                {
                                    "termekkod": "06080416T",
                                    "megnevezes": "Vonalzó 60 fokos"
                                },
                                {
                                    "termekkod": "06080417T",
                                    "megnevezes": "Zászló papír"
                                },
                                {
                                    "termekkod": "06080422T",
                                    "megnevezes": "Füzettartó A/4"
                                },
                                {
                                    "termekkod": "06080423T",
                                    "megnevezes": "Beíró A/5 kockás"
                                },
                                {
                                    "termekkod": "06080424T",
                                    "megnevezes": "Füzetborító A/4 mintás"
                                },
                                {
                                    "termekkod": "06080425T",
                                    "megnevezes": "Miliméterpapír"
                                },
                                {
                                    "termekkod": "06080426T",
                                    "megnevezes": "Szótárfüzet Lizzy"
                                },
                                {
                                    "termekkod": "06080427T",
                                    "megnevezes": "Ablakkréta"
                                },
                                {
                                    "termekkod": "06080428T",
                                    "megnevezes": "Ecsetkészlet"
                                },
                                {
                                    "termekkod": "06080429T",
                                    "megnevezes": "Meghívó ballagási"
                                },
                                {
                                    "termekkod": "06080430T",
                                    "megnevezes": "Öntapadős betűk"
                                },
                                {
                                    "termekkod": "06080441T",
                                    "megnevezes": "Gyurmakés"
                                },
                                {
                                    "termekkod": "07010137T",
                                    "megnevezes": "G.toll betét PAX tip."
                                },
                                {
                                    "termekkod": "07010139T",
                                    "megnevezes": "G.toll betét S7L "
                                },
                                {
                                    "termekkod": "07010140T",
                                    "megnevezes": "G.toll betét Stabilo"
                                },
                                {
                                    "termekkod": "07010141T",
                                    "megnevezes": "G.toll betét X20"
                                },
                                {
                                    "termekkod": "07010142T",
                                    "megnevezes": "G.toll betét Zebra F-0.7"
                                },
                                {
                                    "termekkod": "07010143T",
                                    "megnevezes": "G.toll betét Zebra H-0,7"
                                },
                                {
                                    "termekkod": "07010144T",
                                    "megnevezes": "G.toll betét Zebra K-0,7"
                                },
                                {
                                    "termekkod": "07010244T",
                                    "megnevezes": "Kerámiatoll"
                                },
                                {
                                    "termekkod": "07030103T",
                                    "megnevezes": "Filctoll TINTEN PEN"
                                },
                                {
                                    "termekkod": "07030104T",
                                    "megnevezes": "Filctoll vastag ARTIP"
                                },
                                {
                                    "termekkod": "07030105T",
                                    "megnevezes": "Filctoll, alkoholos Centropen"
                                },
                                {
                                    "termekkod": "07030106T",
                                    "megnevezes": "Filctoll, alkoholosOHP F-M-C"
                                },
                                {
                                    "termekkod": "07030107T",
                                    "megnevezes": "Filctoll, textil Edding 4500"
                                },
                                {
                                    "termekkod": "07030108T",
                                    "megnevezes": "Filctoll CD író"
                                },
                                {
                                    "termekkod": "07040047T",
                                    "megnevezes": "Ceruza 2H-4B"
                                },
                                {
                                    "termekkod": "07040049T",
                                    "megnevezes": "Ceruza Conté zöld"
                                },
                                {
                                    "termekkod": "07040050T",
                                    "megnevezes": "Ceruza Cseh"
                                },
                                {
                                    "termekkod": "07040051T",
                                    "megnevezes": "Ceruza háromszög "
                                },
                                {
                                    "termekkod": "07040052T",
                                    "megnevezes": "Ceruza 2H-3B Koh-i-nor"
                                },
                                {
                                    "termekkod": "07040053T",
                                    "megnevezes": "Ceruza HB radiros"
                                },
                                {
                                    "termekkod": "07040054T",
                                    "megnevezes": "Ceruza kártyás"
                                },
                                {
                                    "termekkod": "07040055T",
                                    "megnevezes": "Ceruza piros-kék"
                                },
                                {
                                    "termekkod": "07040056T",
                                    "megnevezes": "Ceruza piros-kék vékony"
                                },
                                {
                                    "termekkod": "07040057T",
                                    "megnevezes": "Ceruza Progresso"
                                },
                                {
                                    "termekkod": "07040058T",
                                    "megnevezes": "Ceruza radíros kínai"
                                },
                                {
                                    "termekkod": "07040059T",
                                    "megnevezes": "Ceruza smaragd"
                                },
                                {
                                    "termekkod": "07040060T",
                                    "megnevezes": "Ceruza stabilo swano"
                                },
                                {
                                    "termekkod": "07040061T",
                                    "megnevezes": "Ceruza stabilo opera"
                                },
                                {
                                    "termekkod": "07040097T",
                                    "megnevezes": "Filctoll "
                                },
                                {
                                    "termekkod": "07040098T",
                                    "megnevezes": "Filctoll document pen"
                                },
                                {
                                    "termekkod": "07040099T",
                                    "megnevezes": "Filctoll Edding 750"
                                },
                                {
                                    "termekkod": "07040100T",
                                    "megnevezes": "Filctoll Marvy alkoholos"
                                },
                                {
                                    "termekkod": "07040101T",
                                    "megnevezes": "Filctoll permanent vastag"
                                },
                                {
                                    "termekkod": "07040102T",
                                    "megnevezes": "Filctoll supra fine"
                                },
                                {
                                    "termekkod": "07040127T",
                                    "megnevezes": "G. toll betét mini"
                                },
                                {
                                    "termekkod": "07040128T",
                                    "megnevezes": "G. toll betét mini fém"
                                },
                                {
                                    "termekkod": "07040129T",
                                    "megnevezes": "G. toll betét réz"
                                },
                                {
                                    "termekkod": "07040130T",
                                    "megnevezes": "G. toll betét S7S"
                                },
                                {
                                    "termekkod": "07040132T",
                                    "megnevezes": "G.toll betét csavaros"
                                },
                                {
                                    "termekkod": "07040133T",
                                    "megnevezes": "G.toll betét görbe hegyű"
                                },
                                {
                                    "termekkod": "07040165T",
                                    "megnevezes": "Golyóstoll UNI laknock"
                                },
                                {
                                    "termekkod": "07040166T",
                                    "megnevezes": "Golyóstoll Zebra 301"
                                },
                                {
                                    "termekkod": "07040167T",
                                    "megnevezes": "Golyóstoll Zebra mini"
                                },
                                {
                                    "termekkod": "07040168T",
                                    "megnevezes": "Golyóstoll Zebra new hard"
                                },
                                {
                                    "termekkod": "07040169T",
                                    "megnevezes": "Golyóstoll Zodiák"
                                },
                                {
                                    "termekkod": "07040215T",
                                    "megnevezes": "Ironbél  2B ICO"
                                },
                                {
                                    "termekkod": "07040216T",
                                    "megnevezes": "Ironbél B 0,5"
                                },
                                {
                                    "termekkod": "07040217T",
                                    "megnevezes": "Ironbél H 0,5"
                                },
                                {
                                    "termekkod": "07040218T",
                                    "megnevezes": "Ironbél HB 0,5"
                                },
                                {
                                    "termekkod": "07040219T",
                                    "megnevezes": "Ironbél HI-POLIMER HB 0,7"
                                },
                                {
                                    "termekkod": "07040257T",
                                    "megnevezes": "Lakk filc Edding 750"
                                },
                                {
                                    "termekkod": "07040388T",
                                    "megnevezes": "Tintapatron /kék/"
                                },
                                {
                                    "termekkod": "07040389T",
                                    "megnevezes": "Tintapatron 30 db-os kék"
                                },
                                {
                                    "termekkod": "07040390T",
                                    "megnevezes": "Tintapatron színes"
                                },
                                {
                                    "termekkod": "07040391T",
                                    "megnevezes": "Toll Centropen roller"
                                },
                                {
                                    "termekkod": "07050462T",
                                    "megnevezes": "Töltőtoll tinta "
                                },
                                {
                                    "termekkod": "07050463T",
                                    "megnevezes": "Ceruzafogó"
                                },
                                {
                                    "termekkod": "07050464T",
                                    "megnevezes": "Szövegkiemelő Staedtler"
                                },
                                {
                                    "termekkod": "07080062T",
                                    "megnevezes": "Ceruza szén"
                                },
                                {
                                    "termekkod": "07080063T",
                                    "megnevezes": "Ceruza szorzótáblás"
                                },
                                {
                                    "termekkod": "07080064T",
                                    "megnevezes": "Ceruza zöld színű"
                                },
                                {
                                    "termekkod": "07080065T",
                                    "megnevezes": "Ceruza kínai"
                                },
                                {
                                    "termekkod": "07080150T",
                                    "megnevezes": "Golyóstoll"
                                },
                                {
                                    "termekkod": "07080151T",
                                    "megnevezes": "Golyóstoll + ceruza Twister 2in1"
                                },
                                {
                                    "termekkod": "07080152T",
                                    "megnevezes": "Golyóstoll 3 funkciós "
                                },
                                {
                                    "termekkod": "07080153T",
                                    "megnevezes": "Golyóstoll illatos ICO"
                                },
                                {
                                    "termekkod": "07080154T",
                                    "megnevezes": "Golyóstoll INOXCROM"
                                },
                                {
                                    "termekkod": "07080155T",
                                    "megnevezes": "Golyóstoll"
                                },
                                {
                                    "termekkod": "07080156T",
                                    "megnevezes": "Golyóstoll kupakos piros"
                                },
                                {
                                    "termekkod": "07080157T",
                                    "megnevezes": "Golyóstoll Montex Hytone"
                                },
                                {
                                    "termekkod": "07080159T",
                                    "megnevezes": "Golyóstoll Pax tip."
                                },
                                {
                                    "termekkod": "07080160T",
                                    "megnevezes": "Golyóstoll penac"
                                },
                                {
                                    "termekkod": "07080161T",
                                    "megnevezes": "Golyóstoll kétszínű"
                                },
                                {
                                    "termekkod": "07080162T",
                                    "megnevezes": "Golyóstoll Stabilo piros"
                                },
                                {
                                    "termekkod": "07080316T",
                                    "megnevezes": "Pixiron KOH-I-NOOR"
                                },
                                {
                                    "termekkod": "07080421T",
                                    "megnevezes": "Zseléstoll Lizzy Card"
                                },
                                {
                                    "termekkod": "07080466T",
                                    "megnevezes": "Golyóstoll Stabiló 308"
                                },
                                {
                                    "termekkod": "08070472T",
                                    "megnevezes": "A föld amelyen élünk - Európa földrajza"
                                },
                                {
                                    "termekkod": "08070473T",
                                    "megnevezes": "A föld amelyen élünk - Távoli földrészek"
                                },
                                {
                                    "termekkod": "08070474T",
                                    "megnevezes": "A föld amelyen élünk - Hazánk földrajza"
                                },
                                {
                                    "termekkod": "08070477T",
                                    "megnevezes": "Anyanyelvi gyakorló 3"
                                },
                                {
                                    "termekkod": "08070478T",
                                    "megnevezes": "Összefoglaló feladatgyüjtemény számtech."
                                },
                                {
                                    "termekkod": "08070479T",
                                    "megnevezes": "Fizika"
                                },
                                {
                                    "termekkod": "08070481T",
                                    "megnevezes": "Fizika munkafüzet 13 év."
                                },
                                {
                                    "termekkod": "08070482T",
                                    "megnevezes": "Fizika munkafüzet 14 év."
                                },
                                {
                                    "termekkod": "08070483T",
                                    "megnevezes": "Fizikai feladatok és tévedések"
                                },
                                {
                                    "termekkod": "08070484T",
                                    "megnevezes": "Fogalmazás lépésről lépésre"
                                },
                                {
                                    "termekkod": "08070485T",
                                    "megnevezes": "Jól felkészültem-e - Fizika"
                                },
                                {
                                    "termekkod": "08070486T",
                                    "megnevezes": "Matematika gyakorló 2"
                                },
                                {
                                    "termekkod": "08070487T",
                                    "megnevezes": "Matematika gyakorló 3"
                                },
                                {
                                    "termekkod": "08070490T",
                                    "megnevezes": "Szövegszerkesztés"
                                },
                                {
                                    "termekkod": "08070491T",
                                    "megnevezes": "Szám.tech. kicsiknek"
                                },
                                {
                                    "termekkod": "08070492T",
                                    "megnevezes": "Informatika"
                                },
                                {
                                    "termekkod": "08070493T",
                                    "megnevezes": "Érettségi felv. fel. Matematika"
                                },
                                {
                                    "termekkod": "08070494T",
                                    "megnevezes": "Érettségi felv. fel. Fizika"
                                },
                                {
                                    "termekkod": "08070495T",
                                    "megnevezes": "Érettségi felv. fel. Biológia"
                                },
                                {
                                    "termekkod": "F001-KB101",
                                    "megnevezes": "férfi szövet kabát"
                                },
                                {
                                    "termekkod": "F007-NA201",
                                    "megnevezes": "férfi farmer nadrág"
                                },
                                {
                                    "termekkod": "F013-NA207",
                                    "megnevezes": "férfi szövet nadrág"
                                },
                                {
                                    "termekkod": "F021-IN215",
                                    "megnevezes": "férfi ing"
                                },
                                {
                                    "termekkod": "G001-KB101",
                                    "megnevezes": "gyermek kabát (fiú)"
                                },
                                {
                                    "termekkod": "G013-NA201",
                                    "megnevezes": "gyermek farmer nadrág (fiú)"
                                },
                                {
                                    "termekkod": "G019-NA207",
                                    "megnevezes": "gyermek pamut nadrág (fiú)"
                                },
                                {
                                    "termekkod": "G023-FE301",
                                    "megnevezes": "fiú alsó"
                                },
                                {
                                    "termekkod": "G029-FE307",
                                    "megnevezes": "fiú zokni"
                                },
                                {
                                    "termekkod": "G038-FE316",
                                    "megnevezes": "fiú harisnya"
                                },
                                {
                                    "termekkod": "G041-AL211",
                                    "megnevezes": "fiú ünneplős ruha"
                                },
                                {
                                    "termekkod": "G048-PO218",
                                    "megnevezes": "gyermek póló (fiú)"
                                },
                                {
                                    "termekkod": "G064-CI401",
                                    "megnevezes": "gyermek szandál (fiú)"
                                },
                                {
                                    "termekkod": "G073-CI410",
                                    "megnevezes": "gyermek cipő (fiú)"
                                },
                                {
                                    "termekkod": "G082-CI419",
                                    "megnevezes": "gyermek csizma (fiú)"
                                },
                                {
                                    "termekkod": "L001-KB101",
                                    "megnevezes": "gyermek kabát (lány)"
                                },
                                {
                                    "termekkod": "L013-NA201",
                                    "megnevezes": "gyermek farmer nadrág (lány)"
                                },
                                {
                                    "termekkod": "L019-NA207",
                                    "megnevezes": "gyermek pamut nadrág (lány)"
                                },
                                {
                                    "termekkod": "L023-FE301",
                                    "megnevezes": "lány alsó"
                                },
                                {
                                    "termekkod": "L029-FE307",
                                    "megnevezes": "lány zokni"
                                },
                                {
                                    "termekkod": "L033-FE311",
                                    "megnevezes": "lány harisnya"
                                },
                                {
                                    "termekkod": "L041-AL211",
                                    "megnevezes": "lány ünneplős ruha"
                                },
                                {
                                    "termekkod": "L048-PO218",
                                    "megnevezes": "gyermek póló (lány)"
                                },
                                {
                                    "termekkod": "L064-CI401",
                                    "megnevezes": "gyermek szandál (lány)"
                                },
                                {
                                    "termekkod": "L073-CI410",
                                    "megnevezes": "gyermek cipő (lány)"
                                },
                                {
                                    "termekkod": "L082-CI419",
                                    "megnevezes": "gyermek csizma (lány)"
                                },
                                {
                                    "termekkod": "N001-KB101",
                                    "megnevezes": "női szövet kabát"
                                },
                                {
                                    "termekkod": "N008-NA201",
                                    "megnevezes": "női farmer nadrág"
                                },
                                {
                                    "termekkod": "N019-FE301",
                                    "megnevezes": "női alsó"
                                },
                                {
                                    "termekkod": "N029-AL212",
                                    "megnevezes": "női koktélruha"
                                },
                                {
                                    "termekkod": "N035-AL218",
                                    "megnevezes": "kosztüm (rövid)"
                                },
                                {
                                    "termekkod": "N039-AL222",
                                    "megnevezes": "kosztüm (hosszú)"
                                },
                                {
                                    "termekkod": "U001-KI501",
                                    "megnevezes": "sál"
                                }
                            ]
                        },
                        "text/html": [
                            "<table>",
                            "<tr><th>termekkod</th><th>megnevezes</th></tr>",
                            "<tr><td>01010110T</td><td>Fotópapír A/4 fényes</td></tr>",
                            "<tr><td>01010304T</td><td>Öntapadós hologramos papír A/4</td></tr>",
                            "<tr><td>01020300T</td><td>Oklevél A/4 színes</td></tr>",
                            "<tr><td>01030091T</td><td>Emléklap A/5</td></tr>",
                            "<tr><td>01030092T</td><td>Esküvői meghívó</td></tr>",
                            "<tr><td>01040307T</td><td>Pausz papír A/4</td></tr>",
                            "<tr><td>01040502T</td><td>Előlap spirálhoz</td></tr>",
                            "<tr><td>01080093T</td><td>Fax papír 15 m</td></tr>",
                            "<tr><td>01080512T</td><td>Öntapadó A/4</td></tr>",
                            "<tr><td>01080513T</td><td>Selyemfényű karton A/4</td></tr>",
                            "<tr><td>01090499T</td><td>Color Copy A/4 250 g</td></tr>",
                            "<tr><td>01090500T</td><td>Color Copy A4 200 g</td></tr>",
                            "<tr><td>01090501T</td><td>Kreatív A/4 300g </td></tr>",
                            "<tr><td>01090515T</td><td>Színes A/3 160 gr IQ</td></tr>",
                            "<tr><td>01090516T</td><td>Színes karton A4</td></tr>",
                            "<tr><td>01090517T</td><td>Színes ofszet B/4</td></tr>",
                            "<tr><td>01100070T</td><td>Dekorációs karton</td></tr>",
                            "<tr><td>01100072T</td><td>Dipa A/4 keretezett</td></tr>",
                            "<tr><td>01100094T</td><td>Fénymásoló papír DataCopy</td></tr>",
                            "<tr><td>01100095T</td><td>Fénymásoló papír GetCopy</td></tr>",
                            "<tr><td>01100096T</td><td>Fénymásoló papír Qconnect</td></tr>",
                            "<tr><td>01100496T</td><td>Színes másoló a/4 80g</td></tr>",
                            "<tr><td>01100497T</td><td>Color Copy 160 g-os </td></tr>",
                            "<tr><td>01100503T</td><td>Color Copy A4 120 g</td></tr>",
                            "<tr><td>01100504T</td><td>Fehér másoló A/3</td></tr>",
                            "<tr><td>01100505T</td><td>Fehér másoló A/4</td></tr>",
                            "<tr><td>01100509T</td><td>Márványos A/4</td></tr>",
                            "<tr><td>01100510T</td><td>Kreatív A/4 120g </td></tr>",
                            "<tr><td>02010028T</td><td>Árazószalag </td></tr>",
                            "<tr><td>02020029T</td><td>Átírótömb A/6</td></tr>",
                            "<tr><td>02020032T</td><td>Beírókönyv A5 </td></tr>",
                            "<tr><td>02020033T</td><td>Beírókönyv A4</td></tr>",
                            "<tr><td>02020037T</td><td>Bevételi pénztárbizonylat 3×25</td></tr>",
                            "<tr><td>02020245T</td><td>Kiadási pénztárbizonylat 2×25</td></tr>",
                            "<tr><td>02030040T</td><td>Boríték LA 4 francia</td></tr>",
                            "<tr><td>02040025T</td><td>Álló irattartó karton</td></tr>",
                            "<tr><td>02040145T</td><td>Gemkapocs 28 mm</td></tr>",
                            "<tr><td>02040147T</td><td>Genotherm lefűzhető A/5</td></tr>",
                            "<tr><td>02040148T</td><td>Genotherm lefűzhető A4 10db-os</td></tr>",
                            "<tr><td>02040176T</td><td>Gyorsfűző dosszié fehér</td></tr>",
                            "<tr><td>02040177T</td><td>Gyorsfűző műa.</td></tr>",
                            "<tr><td>02040178T</td><td>Gyorsfűző műa.</td></tr>",
                            "<tr><td>02040194T</td><td>Hibajav.roll.Pritt 4,2mm</td></tr>",
                            "<tr><td>02040195T</td><td>Hibajavító ecsetes Aqua</td></tr>",
                            "<tr><td>02040196T</td><td>Hibajavító készlet Blanco</td></tr>",
                            "<tr><td>02040197T</td><td>Hibajavító lap </td></tr>",
                            "<tr><td>02040198T</td><td>Hibajavító roller 5 mm</td></tr>",
                            "<tr><td>02040199T</td><td>Hibajavító roller Pax</td></tr>",
                            "<tr><td>02040200T</td><td>Hibajavító Kores mini pen</td></tr>",
                            "<tr><td>02040206T</td><td>Írásvetítő fólia</td></tr>",
                            "<tr><td>02040207T</td><td>Iratgyűjtő ESSELTE ablakos</td></tr>",
                            "<tr><td>02040208T</td><td>Iratgyűjtő fehér</td></tr>",
                            "<tr><td>02040209T</td><td>Iratsín fehér</td></tr>",
                            "<tr><td>02040211T</td><td>Iratrendező ESSELTE</td></tr>",
                            "<tr><td>02040214T</td><td>Iromány fedél feles</td></tr>",
                            "<tr><td>02040290T</td><td>Naptár 24-es</td></tr>",
                            "<tr><td>02040291T</td><td>Naptárhát kicsi</td></tr>",
                            "<tr><td>02040294T</td><td>Notesz A/5 sima</td></tr>",
                            "<tr><td>02040298T</td><td>Notesz mintás</td></tr>",
                            "<tr><td>02040308T</td><td>Pénztárgépsz. 2 pl. nem öníró</td></tr>",
                            "<tr><td>02040309T</td><td>Pénztárgépszalag 2pl SC 57.5/60</td></tr>",
                            "<tr><td>02040401T</td><td>Tűzőgép Boxer 10</td></tr>",
                            "<tr><td>02040402T</td><td>Tűzőgép Boxer </td></tr>",
                            "<tr><td>02040403T</td><td>Tűzőgép SAX 239</td></tr>",
                            "<tr><td>02040404T</td><td>Tűzőgép EAGLE</td></tr>",
                            "<tr><td>02040405T</td><td>Tűzőkapocs 10-es</td></tr>",
                            "<tr><td>02040506T</td><td>Fólia tasakos A4 125 mik.</td></tr>",
                            "<tr><td>02040507T</td><td>Fólia tasakos A4 80 mik.</td></tr>",
                            "<tr><td>02040508T</td><td>Fólia tasakos A4100 mik.</td></tr>",
                            "<tr><td>02050460T</td><td>Boríték C/4-es</td></tr>",
                            "<tr><td>02050461T</td><td>Boríték B/4-es</td></tr>",
                            "<tr><td>02060034T</td><td>Bélyegzőfesték </td></tr>",
                            "<tr><td>02060038T</td><td>Bélyegző IDEAL 50</td></tr>",
                            "<tr><td>02060039T</td><td>Bélyegző párna</td></tr>",
                            "<tr><td>02060447T</td><td>Bélyegző pocket</td></tr>",
                            "<tr><td>02060448T</td><td>Bélyegző RP 18-47</td></tr>",
                            "<tr><td>02080069T</td><td>CD tartó tok</td></tr>",
                            "<tr><td>02080081T</td><td>Dvd</td></tr>",
                            "<tr><td>02080109T</td><td>Floppy lemez</td></tr>",
                            "<tr><td>02080226T</td><td>Kapocskiszedő</td></tr>",
                            "<tr><td>02080431T</td><td>Álló irattartó</td></tr>",
                            "<tr><td>02080432T</td><td>Tokos iratrendező</td></tr>",
                            "<tr><td>02080433T</td><td>Ragasztószalag 19 mm-es</td></tr>",
                            "<tr><td>02080434T</td><td>Mappa müa A/4</td></tr>",
                            "<tr><td>02080436T</td><td>Irattartó müa. boríték A/4</td></tr>",
                            "<tr><td>02080449T</td><td>Térképtű színes</td></tr>",
                            "<tr><td>02080450T</td><td>Gémkapocs 28-as színes</td></tr>",
                            "<tr><td>02080451T</td><td>Gémkapocs 50-es</td></tr>",
                            "<tr><td>02080452T</td><td>Tűzőgép mini</td></tr>",
                            "<tr><td>02080453T</td><td>Lyukasztó EAGLE</td></tr>",
                            "<tr><td>02080454T</td><td>Lyukasztó BOXER</td></tr>",
                            "<tr><td>02080455T</td><td>Festékpatron BCI-3BK</td></tr>",
                            "<tr><td>02080456T</td><td>Genoterm HERLITZ 10-es</td></tr>",
                            "<tr><td>02080511T</td><td>Oki toner C</td></tr>",
                            "<tr><td>02080514T</td><td>Spirál 1/4 </td></tr>",
                            "<tr><td>03010342T</td><td>Ragasztószalag  TIXO</td></tr>",
                            "<tr><td>03010344T</td><td>Ragasztószalag nagy 12 mm</td></tr>",
                            "<tr><td>03010345T</td><td>Ragasztószalag széles barna</td></tr>",
                            "<tr><td>03050076T</td><td>Díszkötöző szalag metál nagy</td></tr>",
                            "<tr><td>03050077T</td><td>Diszkötöző szalag arany</td></tr>",
                            "<tr><td>03050078T</td><td>Díszkötöző szalag metál kicsi</td></tr>",
                            "<tr><td>03080003T</td><td>Ajándék cs. tasak italos</td></tr>",
                            "<tr><td>03080004T</td><td>Ajándék cs. tasak italos, fólia</td></tr>",
                            "<tr><td>03080006T</td><td>Ajándék cs. tasak mintás kicsi</td></tr>",
                            "<tr><td>03080009T</td><td>Ajándék csom. 100x70 metál</td></tr>",
                            "<tr><td>03080012T</td><td>Ajándék csom. 200x70</td></tr>",
                            "<tr><td>03080013T</td><td>Ajándék csom. 50x70 húsvéti</td></tr>",
                            "<tr><td>03080014T</td><td>Ajándék csom. 70x50 metál</td></tr>",
                            "<tr><td>03080015T</td><td>Ajándék csom. gyűrt</td></tr>",
                            "<tr><td>03080016T</td><td>házt.csom.  5 ív</td></tr>",
                            "<tr><td>03080017T</td><td>iskolai csomagoló papír</td></tr>",
                            "<tr><td>03080019T</td><td>Ajándék csom. Krepp</td></tr>",
                            "<tr><td>03080020T</td><td>Ajándék csom. nagy  </td></tr>",
                            "<tr><td>03080021T</td><td>Ajándék csom. vékony</td></tr>",
                            "<tr><td>03080030T</td><td>Ajándék cs. húsvéti 200x70</td></tr>",
                            "<tr><td>03080439T</td><td>Italtartó doboz</td></tr>",
                            "<tr><td>04020445T</td><td>Határidő napló 2010-s</td></tr>",
                            "<tr><td>04030235T</td><td>Képeslap karácsonyi borítékos</td></tr>",
                            "<tr><td>04030237T</td><td>Képeslap kerek</td></tr>",
                            "<tr><td>04030238T</td><td>Képeslap stancolt</td></tr>",
                            "<tr><td>04030239T</td><td>Képeslap stancolt szív</td></tr>",
                            "<tr><td>04030243T</td><td>Képkirakó Dirib-darab</td></tr>",
                            "<tr><td>04030261T</td><td>Levélpapír állatos</td></tr>",
                            "<tr><td>04030262T</td><td>Levélpapír sima</td></tr>",
                            "<tr><td>04030263T</td><td>Levélpapír szett</td></tr>",
                            "<tr><td>04030264T</td><td>Levélpapír szett </td></tr>",
                            "<tr><td>04030265T</td><td>Levélpapír szett natur, mintás</td></tr>",
                            "<tr><td>04030266T</td><td>Levélpapír szett virágos</td></tr>",
                            "<tr><td>04030285T</td><td>Mikulás zacskó</td></tr>",
                            "<tr><td>04030286T</td><td>Műanyag állatok</td></tr>",
                            "<tr><td>04030288T</td><td>Műanyag pohár 1 dl-es</td></tr>",
                            "<tr><td>04040387T</td><td>Tenisz labda</td></tr>",
                            "<tr><td>04050022T</td><td>Álarc</td></tr>",
                            "<tr><td>04050023T</td><td>Álarc fejdísz</td></tr>",
                            "<tr><td>04050024T</td><td>Álarc szemüveg</td></tr>",
                            "<tr><td>04050035T</td><td>Bérlet tok</td></tr>",
                            "<tr><td>04050073T</td><td>Díszdoboz kar.</td></tr>",
                            "<tr><td>04050074T</td><td>Díszdoboz tollnak 2 db-os</td></tr>",
                            "<tr><td>04050075T</td><td>Díszdoboz tollnak 2 db-os keskeny</td></tr>",
                            "<tr><td>04050171T</td><td>Gumilabda közepes</td></tr>",
                            "<tr><td>04050187T</td><td>Hajgumi macis</td></tr>",
                            "<tr><td>04050203T</td><td>Hűtőmágnes</td></tr>",
                            "<tr><td>04050204T</td><td>Hűtőmágnes WD</td></tr>",
                            "<tr><td>04050220T</td><td>Játék autó</td></tr>",
                            "<tr><td>04050221T</td><td>Játékautó Blisteres</td></tr>",
                            "<tr><td>04050222T</td><td>Játékautó elemes</td></tr>",
                            "<tr><td>04050223T</td><td>Játékautó mini</td></tr>",
                            "<tr><td>04050224T</td><td>Jelzőkréta</td></tr>",
                            "<tr><td>04050252T</td><td>Kulcstartó Csőrikés</td></tr>",
                            "<tr><td>04050253T</td><td>Kulcstartó figurás</td></tr>",
                            "<tr><td>04050254T</td><td>Kulcstartó intarziás állatos</td></tr>",
                            "<tr><td>04050269T</td><td>Lufi hullámos</td></tr>",
                            "<tr><td>04050320T</td><td>Plüss  QX állatok</td></tr>",
                            "<tr><td>04050322T</td><td>Plüss sárkány</td></tr>",
                            "<tr><td>04050358T</td><td>Strandlabda </td></tr>",
                            "<tr><td>04080270T</td><td>Mappa bőr A5</td></tr>",
                            "<tr><td>04080271T</td><td>Mappa PVC villámzáras</td></tr>",
                            "<tr><td>04080272T</td><td>Mappa PVC villámzáras  képes</td></tr>",
                            "<tr><td>04080443T</td><td>Emlékkönyv lakatos</td></tr>",
                            "<tr><td>04110066T</td><td>Címke 8 db-os</td></tr>",
                            "<tr><td>04110067T</td><td>Címke WD. állat</td></tr>",
                            "<tr><td>04110068T</td><td>Címke egyszínű</td></tr>",
                            "<tr><td>04110227T</td><td>Képeslap  borítékos</td></tr>",
                            "<tr><td>04110228T</td><td>Képeslap &quot;Nászajándék&quot;</td></tr>",
                            "<tr><td>04110229T</td><td>Képeslap &quot;Részvét&quot;</td></tr>",
                            "<tr><td>04110230T</td><td>Képeslap humoros </td></tr>",
                            "<tr><td>04110231T</td><td>Képeslap humoros borítékos</td></tr>",
                            "<tr><td>04110232T</td><td>Képeslap humoros kaparós</td></tr>",
                            "<tr><td>04110233T</td><td>Képeslap humoros</td></tr>",
                            "<tr><td>04110258T</td><td>Lampion</td></tr>",
                            "<tr><td>04110274T</td><td>Matrica autóra H</td></tr>",
                            "<tr><td>04110275T</td><td>Matrica motoros kicsi</td></tr>",
                            "<tr><td>04110276T</td><td>Matrica Stickers nagy állatos</td></tr>",
                            "<tr><td>04110277T</td><td>Matrica Stickers szíves</td></tr>",
                            "<tr><td>04110278T</td><td>Matrica Test ékszer tattoo</td></tr>",
                            "<tr><td>04110279T</td><td>Matrica tetoválás</td></tr>",
                            "<tr><td>04110280T</td><td>Matrica tetoválós kicsi</td></tr>",
                            "<tr><td>04110281T</td><td>Matrica világítós </td></tr>",
                            "<tr><td>04110282T</td><td>Matrica WD kicsi</td></tr>",
                            "<tr><td>04110283T</td><td>Meghívó állatos</td></tr>",
                            "<tr><td>04110284T</td><td>Meghívó borítékos</td></tr>",
                            "<tr><td>04110362T</td><td>Szalvéta gyűjtőknek</td></tr>",
                            "<tr><td>05010026T</td><td>Alufólia 10 m-es</td></tr>",
                            "<tr><td>05010369T</td><td>Szemetes zsák 60 literes</td></tr>",
                            "<tr><td>05010370T</td><td>Szilvia csomagoló</td></tr>",
                            "<tr><td>05040310T</td><td>Pill.ragasztó</td></tr>",
                            "<tr><td>05040348T</td><td>Rajzszeg színes</td></tr>",
                            "<tr><td>05040349T</td><td>Rajzszeg</td></tr>",
                            "<tr><td>05050045T</td><td>Celofán</td></tr>",
                            "<tr><td>05050046T</td><td>Celofán 50 db-os</td></tr>",
                            "<tr><td>05050170T</td><td>Gumigyűrű</td></tr>",
                            "<tr><td>05050346T</td><td>Rágógumi Orbit</td></tr>",
                            "<tr><td>05080340T</td><td>Ragasztó, Technokol 35g kék</td></tr>",
                            "<tr><td>05080341T</td><td>Ragasztó, Technokol 35g piros</td></tr>",
                            "<tr><td>05110359T</td><td>Szalvéta </td></tr>",
                            "<tr><td>05110360T</td><td>Szalvéta egyszínű</td></tr>",
                            "<tr><td>05110361T</td><td>Szalvéta Goma húsvéti</td></tr>",
                            "<tr><td>05110363T</td><td>Szalvéta dekor</td></tr>",
                            "<tr><td>05110364T</td><td>Szalvéta kicsi virágos</td></tr>",
                            "<tr><td>06010036T</td><td>Betűtartó sin</td></tr>",
                            "<tr><td>06010082T</td><td>Ecset Centrum 10,11,12</td></tr>",
                            "<tr><td>06010083T</td><td>Ecset Centrum 7,8,9</td></tr>",
                            "<tr><td>06010084T</td><td>Ecset Deák 2-es</td></tr>",
                            "<tr><td>06010085T</td><td>Ecset Lizzy 10-es</td></tr>",
                            "<tr><td>06010111T</td><td>Füzet  A/4 </td></tr>",
                            "<tr><td>06010112T</td><td>Füzet  A4 mintás</td></tr>",
                            "<tr><td>06010114T</td><td>Füzet A/5 hangjegy 36/16</td></tr>",
                            "<tr><td>06010115T</td><td>Füzet A/5, mintás</td></tr>",
                            "<tr><td>06010201T</td><td>Hőmérő, műa.</td></tr>",
                            "<tr><td>06010202T</td><td>Hurkapálca 10 db-os</td></tr>",
                            "<tr><td>06010305T</td><td>Papírcenti 100 cm-es</td></tr>",
                            "<tr><td>06010365T</td><td>Számegyenes</td></tr>",
                            "<tr><td>06010366T</td><td>Számológép Roxin</td></tr>",
                            "<tr><td>06010367T</td><td>Számolókorong</td></tr>",
                            "<tr><td>06010368T</td><td>Számolópálca</td></tr>",
                            "<tr><td>06010375T</td><td>Szögmérő 180 fokos műa.</td></tr>",
                            "<tr><td>06010376T</td><td>Szögmérő papír</td></tr>",
                            "<tr><td>06010377T</td><td>Szögmérő színes</td></tr>",
                            "<tr><td>06040089T</td><td>Ellenőrzőborító</td></tr>",
                            "<tr><td>06040175T</td><td>Gumis mappa Köbüki</td></tr>",
                            "<tr><td>06040179T</td><td>Gyurma színes 200 g-os</td></tr>",
                            "<tr><td>06040180T</td><td>Gyurma színes natúr</td></tr>",
                            "<tr><td>06040183T</td><td>Gyűrűskönyv bet. A/5</td></tr>",
                            "<tr><td>06040184T</td><td>Gyűrűskönyv betét A/5</td></tr>",
                            "<tr><td>06040186T</td><td>Gyűrűskönyv színes</td></tr>",
                            "<tr><td>06040205T</td><td>Indigó Pelikán</td></tr>",
                            "<tr><td>06040206T</td><td>kék indigó</td></tr>",
                            "<tr><td>06040212T</td><td>Írólap 10-50 ffam.</td></tr>",
                            "<tr><td>06040213T</td><td>Írólap 20-50 </td></tr>",
                            "<tr><td>06040246T</td><td>Körző</td></tr>",
                            "<tr><td>06040248T</td><td>Körző maped</td></tr>",
                            "<tr><td>06040323T</td><td>Post-it 51×38 100 lapos</td></tr>",
                            "<tr><td>06040324T</td><td>Post-it 75×75 100 lapos</td></tr>",
                            "<tr><td>06040326T</td><td>Radír KOH-I-NOR 80</td></tr>",
                            "<tr><td>06040330T</td><td>Radír Tikky 30 </td></tr>",
                            "<tr><td>06040331T</td><td>Radír Tikky 40 </td></tr>",
                            "<tr><td>06040347T</td><td>Rajzlap A/4 10db ffam.</td></tr>",
                            "<tr><td>06040350T</td><td>Regiszteres füzet A4</td></tr>",
                            "<tr><td>06040351T</td><td>Regiszteres füzet A5 Hightech</td></tr>",
                            "<tr><td>06040352T</td><td>Rovatolt papír 20 íves</td></tr>",
                            "<tr><td>06040353T</td><td>Sorvezető</td></tr>",
                            "<tr><td>06040354T</td><td>Sp.Füzet A/4  perforált, lyuk.</td></tr>",
                            "<tr><td>06040355T</td><td>Sp.Füzet A/4 70-as</td></tr>",
                            "<tr><td>06040356T</td><td>Sp.Füzet A/4  70es</td></tr>",
                            "<tr><td>06040378T</td><td>Szövegkiemelő vékony</td></tr>",
                            "<tr><td>06040379T</td><td>Szövegkiemelő </td></tr>",
                            "<tr><td>06040380T</td><td>Szövegkiemelő</td></tr>",
                            "<tr><td>06040381T</td><td>Szövegkiemelő Videotip</td></tr>",
                            "<tr><td>06040382T</td><td>Táblafilc</td></tr>",
                            "<tr><td>06040383T</td><td>Taffet papír</td></tr>",
                            "<tr><td>06040384T</td><td>Technika cs. I-II-III-IV</td></tr>",
                            "<tr><td>06040385T</td><td>Tempera szóló ezüst</td></tr>",
                            "<tr><td>06040386T</td><td>Tempera szóló színes</td></tr>",
                            "<tr><td>06040392T</td><td>Tolltartó 1 zipzáros</td></tr>",
                            "<tr><td>06040393T</td><td>Tolltartó 2 részes NG.</td></tr>",
                            "<tr><td>06040394T</td><td>Tolltartó zipzáras</td></tr>",
                            "<tr><td>06040395T</td><td>Tolltartó 2 zipzáros töltött</td></tr>",
                            "<tr><td>06040397T</td><td>Tolltartó asztali</td></tr>",
                            "<tr><td>06040398T</td><td>Tolltartó hengeres </td></tr>",
                            "<tr><td>06040399T</td><td>Tombola tömb</td></tr>",
                            "<tr><td>06040400T</td><td>Tornazsák</td></tr>",
                            "<tr><td>06040446T</td><td>Számológép tudományos</td></tr>",
                            "<tr><td>06050249T</td><td>Krepp papír</td></tr>",
                            "<tr><td>06050301T</td><td>Olló gyerek </td></tr>",
                            "<tr><td>06050302T</td><td>Olló Tagit 18 cm-es</td></tr>",
                            "<tr><td>06050303T</td><td>Olló, iskolai</td></tr>",
                            "<tr><td>06080116T</td><td>Füzet A5 1-8 osz.-ig</td></tr>",
                            "<tr><td>06080117T</td><td>Füzetborító A/4 átlátszó</td></tr>",
                            "<tr><td>06080118T</td><td>Füzetborító átlátszó A5</td></tr>",
                            "<tr><td>06080119T</td><td>Füzetborító mesefig.</td></tr>",
                            "<tr><td>06080120T</td><td>Füzetborító öntapadó kicsi</td></tr>",
                            "<tr><td>06080121T</td><td>Füzetborító öntapadó tekercses</td></tr>",
                            "<tr><td>06080122T</td><td>Füzetborító öntapadós nagy</td></tr>",
                            "<tr><td>06080124T</td><td>Füzettartó A/4 keménytáblás</td></tr>",
                            "<tr><td>06080125T</td><td>Füzettartó A/5 vastag</td></tr>",
                            "<tr><td>06080126T</td><td>Füzettartó A/5  </td></tr>",
                            "<tr><td>06080188T</td><td>Hegyező gép</td></tr>",
                            "<tr><td>06080189T</td><td>Hegyező műanyag dupla</td></tr>",
                            "<tr><td>06080190T</td><td>Hegyező műanyag egyes</td></tr>",
                            "<tr><td>06080191T</td><td>Hegyező tartályos egyes</td></tr>",
                            "<tr><td>06080192T</td><td>Hegyző fém 1 lyukú</td></tr>",
                            "<tr><td>06080193T</td><td>Hegyző fém 2 lyukú</td></tr>",
                            "<tr><td>06080259T</td><td>Leckefüzet</td></tr>",
                            "<tr><td>06080332T</td><td>Radírtoll betét ER100</td></tr>",
                            "<tr><td>06080333T</td><td>Radírtoll betét vastag</td></tr>",
                            "<tr><td>06080335T</td><td>Ragasztó 9 g Pax</td></tr>",
                            "<tr><td>06080337T</td><td>Ragasztó Gyurma</td></tr>",
                            "<tr><td>06080339T</td><td>Ragasztó kores</td></tr>",
                            "<tr><td>06080407T</td><td>Vízfesték  12 színű nagy</td></tr>",
                            "<tr><td>06080408T</td><td>Vízfesték 12 db-os </td></tr>",
                            "<tr><td>06080409T</td><td>Vízfesték 12 színű kerek</td></tr>",
                            "<tr><td>06080410T</td><td>Vízfesték 12db-os kínai</td></tr>",
                            "<tr><td>06080411T</td><td>Vonalzó 15 cm-es ESSELTE</td></tr>",
                            "<tr><td>06080412T</td><td>Vonalzó 16 cm-es LIZZY</td></tr>",
                            "<tr><td>06080413T</td><td>Vonalzó 30 cm</td></tr>",
                            "<tr><td>06080415T</td><td>Vonalzó 45 fokos</td></tr>",
                            "<tr><td>06080416T</td><td>Vonalzó 60 fokos</td></tr>",
                            "<tr><td>06080417T</td><td>Zászló papír</td></tr>",
                            "<tr><td>06080422T</td><td>Füzettartó A/4</td></tr>",
                            "<tr><td>06080423T</td><td>Beíró A/5 kockás</td></tr>",
                            "<tr><td>06080424T</td><td>Füzetborító A/4 mintás</td></tr>",
                            "<tr><td>06080425T</td><td>Miliméterpapír</td></tr>",
                            "<tr><td>06080426T</td><td>Szótárfüzet Lizzy</td></tr>",
                            "<tr><td>06080427T</td><td>Ablakkréta</td></tr>",
                            "<tr><td>06080428T</td><td>Ecsetkészlet</td></tr>",
                            "<tr><td>06080429T</td><td>Meghívó ballagási</td></tr>",
                            "<tr><td>06080430T</td><td>Öntapadős betűk</td></tr>",
                            "<tr><td>06080441T</td><td>Gyurmakés</td></tr>",
                            "<tr><td>07010137T</td><td>G.toll betét PAX tip.</td></tr>",
                            "<tr><td>07010139T</td><td>G.toll betét S7L </td></tr>",
                            "<tr><td>07010140T</td><td>G.toll betét Stabilo</td></tr>",
                            "<tr><td>07010141T</td><td>G.toll betét X20</td></tr>",
                            "<tr><td>07010142T</td><td>G.toll betét Zebra F-0.7</td></tr>",
                            "<tr><td>07010143T</td><td>G.toll betét Zebra H-0,7</td></tr>",
                            "<tr><td>07010144T</td><td>G.toll betét Zebra K-0,7</td></tr>",
                            "<tr><td>07010244T</td><td>Kerámiatoll</td></tr>",
                            "<tr><td>07030103T</td><td>Filctoll TINTEN PEN</td></tr>",
                            "<tr><td>07030104T</td><td>Filctoll vastag ARTIP</td></tr>",
                            "<tr><td>07030105T</td><td>Filctoll, alkoholos Centropen</td></tr>",
                            "<tr><td>07030106T</td><td>Filctoll, alkoholosOHP F-M-C</td></tr>",
                            "<tr><td>07030107T</td><td>Filctoll, textil Edding 4500</td></tr>",
                            "<tr><td>07030108T</td><td>Filctoll CD író</td></tr>",
                            "<tr><td>07040047T</td><td>Ceruza 2H-4B</td></tr>",
                            "<tr><td>07040049T</td><td>Ceruza Conté zöld</td></tr>",
                            "<tr><td>07040050T</td><td>Ceruza Cseh</td></tr>",
                            "<tr><td>07040051T</td><td>Ceruza háromszög </td></tr>",
                            "<tr><td>07040052T</td><td>Ceruza 2H-3B Koh-i-nor</td></tr>",
                            "<tr><td>07040053T</td><td>Ceruza HB radiros</td></tr>",
                            "<tr><td>07040054T</td><td>Ceruza kártyás</td></tr>",
                            "<tr><td>07040055T</td><td>Ceruza piros-kék</td></tr>",
                            "<tr><td>07040056T</td><td>Ceruza piros-kék vékony</td></tr>",
                            "<tr><td>07040057T</td><td>Ceruza Progresso</td></tr>",
                            "<tr><td>07040058T</td><td>Ceruza radíros kínai</td></tr>",
                            "<tr><td>07040059T</td><td>Ceruza smaragd</td></tr>",
                            "<tr><td>07040060T</td><td>Ceruza stabilo swano</td></tr>",
                            "<tr><td>07040061T</td><td>Ceruza stabilo opera</td></tr>",
                            "<tr><td>07040097T</td><td>Filctoll </td></tr>",
                            "<tr><td>07040098T</td><td>Filctoll document pen</td></tr>",
                            "<tr><td>07040099T</td><td>Filctoll Edding 750</td></tr>",
                            "<tr><td>07040100T</td><td>Filctoll Marvy alkoholos</td></tr>",
                            "<tr><td>07040101T</td><td>Filctoll permanent vastag</td></tr>",
                            "<tr><td>07040102T</td><td>Filctoll supra fine</td></tr>",
                            "<tr><td>07040127T</td><td>G. toll betét mini</td></tr>",
                            "<tr><td>07040128T</td><td>G. toll betét mini fém</td></tr>",
                            "<tr><td>07040129T</td><td>G. toll betét réz</td></tr>",
                            "<tr><td>07040130T</td><td>G. toll betét S7S</td></tr>",
                            "<tr><td>07040132T</td><td>G.toll betét csavaros</td></tr>",
                            "<tr><td>07040133T</td><td>G.toll betét görbe hegyű</td></tr>",
                            "<tr><td>07040165T</td><td>Golyóstoll UNI laknock</td></tr>",
                            "<tr><td>07040166T</td><td>Golyóstoll Zebra 301</td></tr>",
                            "<tr><td>07040167T</td><td>Golyóstoll Zebra mini</td></tr>",
                            "<tr><td>07040168T</td><td>Golyóstoll Zebra new hard</td></tr>",
                            "<tr><td>07040169T</td><td>Golyóstoll Zodiák</td></tr>",
                            "<tr><td>07040215T</td><td>Ironbél  2B ICO</td></tr>",
                            "<tr><td>07040216T</td><td>Ironbél B 0,5</td></tr>",
                            "<tr><td>07040217T</td><td>Ironbél H 0,5</td></tr>",
                            "<tr><td>07040218T</td><td>Ironbél HB 0,5</td></tr>",
                            "<tr><td>07040219T</td><td>Ironbél HI-POLIMER HB 0,7</td></tr>",
                            "<tr><td>07040257T</td><td>Lakk filc Edding 750</td></tr>",
                            "<tr><td>07040388T</td><td>Tintapatron /kék/</td></tr>",
                            "<tr><td>07040389T</td><td>Tintapatron 30 db-os kék</td></tr>",
                            "<tr><td>07040390T</td><td>Tintapatron színes</td></tr>",
                            "<tr><td>07040391T</td><td>Toll Centropen roller</td></tr>",
                            "<tr><td>07050462T</td><td>Töltőtoll tinta </td></tr>",
                            "<tr><td>07050463T</td><td>Ceruzafogó</td></tr>",
                            "<tr><td>07050464T</td><td>Szövegkiemelő Staedtler</td></tr>",
                            "<tr><td>07080062T</td><td>Ceruza szén</td></tr>",
                            "<tr><td>07080063T</td><td>Ceruza szorzótáblás</td></tr>",
                            "<tr><td>07080064T</td><td>Ceruza zöld színű</td></tr>",
                            "<tr><td>07080065T</td><td>Ceruza kínai</td></tr>",
                            "<tr><td>07080150T</td><td>Golyóstoll</td></tr>",
                            "<tr><td>07080151T</td><td>Golyóstoll + ceruza Twister 2in1</td></tr>",
                            "<tr><td>07080152T</td><td>Golyóstoll 3 funkciós </td></tr>",
                            "<tr><td>07080153T</td><td>Golyóstoll illatos ICO</td></tr>",
                            "<tr><td>07080154T</td><td>Golyóstoll INOXCROM</td></tr>",
                            "<tr><td>07080155T</td><td>Golyóstoll</td></tr>",
                            "<tr><td>07080156T</td><td>Golyóstoll kupakos piros</td></tr>",
                            "<tr><td>07080157T</td><td>Golyóstoll Montex Hytone</td></tr>",
                            "<tr><td>07080159T</td><td>Golyóstoll Pax tip.</td></tr>",
                            "<tr><td>07080160T</td><td>Golyóstoll penac</td></tr>",
                            "<tr><td>07080161T</td><td>Golyóstoll kétszínű</td></tr>",
                            "<tr><td>07080162T</td><td>Golyóstoll Stabilo piros</td></tr>",
                            "<tr><td>07080316T</td><td>Pixiron KOH-I-NOOR</td></tr>",
                            "<tr><td>07080421T</td><td>Zseléstoll Lizzy Card</td></tr>",
                            "<tr><td>07080466T</td><td>Golyóstoll Stabiló 308</td></tr>",
                            "<tr><td>08070472T</td><td>A föld amelyen élünk - Európa földrajza</td></tr>",
                            "<tr><td>08070473T</td><td>A föld amelyen élünk - Távoli földrészek</td></tr>",
                            "<tr><td>08070474T</td><td>A föld amelyen élünk - Hazánk földrajza</td></tr>",
                            "<tr><td>08070477T</td><td>Anyanyelvi gyakorló 3</td></tr>",
                            "<tr><td>08070478T</td><td>Összefoglaló feladatgyüjtemény számtech.</td></tr>",
                            "<tr><td>08070479T</td><td>Fizika</td></tr>",
                            "<tr><td>08070481T</td><td>Fizika munkafüzet 13 év.</td></tr>",
                            "<tr><td>08070482T</td><td>Fizika munkafüzet 14 év.</td></tr>",
                            "<tr><td>08070483T</td><td>Fizikai feladatok és tévedések</td></tr>",
                            "<tr><td>08070484T</td><td>Fogalmazás lépésről lépésre</td></tr>",
                            "<tr><td>08070485T</td><td>Jól felkészültem-e - Fizika</td></tr>",
                            "<tr><td>08070486T</td><td>Matematika gyakorló 2</td></tr>",
                            "<tr><td>08070487T</td><td>Matematika gyakorló 3</td></tr>",
                            "<tr><td>08070490T</td><td>Szövegszerkesztés</td></tr>",
                            "<tr><td>08070491T</td><td>Szám.tech. kicsiknek</td></tr>",
                            "<tr><td>08070492T</td><td>Informatika</td></tr>",
                            "<tr><td>08070493T</td><td>Érettségi felv. fel. Matematika</td></tr>",
                            "<tr><td>08070494T</td><td>Érettségi felv. fel. Fizika</td></tr>",
                            "<tr><td>08070495T</td><td>Érettségi felv. fel. Biológia</td></tr>",
                            "<tr><td>F001-KB101</td><td>férfi szövet kabát</td></tr>",
                            "<tr><td>F007-NA201</td><td>férfi farmer nadrág</td></tr>",
                            "<tr><td>F013-NA207</td><td>férfi szövet nadrág</td></tr>",
                            "<tr><td>F021-IN215</td><td>férfi ing</td></tr>",
                            "<tr><td>G001-KB101</td><td>gyermek kabát (fiú)</td></tr>",
                            "<tr><td>G013-NA201</td><td>gyermek farmer nadrág (fiú)</td></tr>",
                            "<tr><td>G019-NA207</td><td>gyermek pamut nadrág (fiú)</td></tr>",
                            "<tr><td>G023-FE301</td><td>fiú alsó</td></tr>",
                            "<tr><td>G029-FE307</td><td>fiú zokni</td></tr>",
                            "<tr><td>G038-FE316</td><td>fiú harisnya</td></tr>",
                            "<tr><td>G041-AL211</td><td>fiú ünneplős ruha</td></tr>",
                            "<tr><td>G048-PO218</td><td>gyermek póló (fiú)</td></tr>",
                            "<tr><td>G064-CI401</td><td>gyermek szandál (fiú)</td></tr>",
                            "<tr><td>G073-CI410</td><td>gyermek cipő (fiú)</td></tr>",
                            "<tr><td>G082-CI419</td><td>gyermek csizma (fiú)</td></tr>",
                            "<tr><td>L001-KB101</td><td>gyermek kabát (lány)</td></tr>",
                            "<tr><td>L013-NA201</td><td>gyermek farmer nadrág (lány)</td></tr>",
                            "<tr><td>L019-NA207</td><td>gyermek pamut nadrág (lány)</td></tr>",
                            "<tr><td>L023-FE301</td><td>lány alsó</td></tr>",
                            "<tr><td>L029-FE307</td><td>lány zokni</td></tr>",
                            "<tr><td>L033-FE311</td><td>lány harisnya</td></tr>",
                            "<tr><td>L041-AL211</td><td>lány ünneplős ruha</td></tr>",
                            "<tr><td>L048-PO218</td><td>gyermek póló (lány)</td></tr>",
                            "<tr><td>L064-CI401</td><td>gyermek szandál (lány)</td></tr>",
                            "<tr><td>L073-CI410</td><td>gyermek cipő (lány)</td></tr>",
                            "<tr><td>L082-CI419</td><td>gyermek csizma (lány)</td></tr>",
                            "<tr><td>N001-KB101</td><td>női szövet kabát</td></tr>",
                            "<tr><td>N008-NA201</td><td>női farmer nadrág</td></tr>",
                            "<tr><td>N019-FE301</td><td>női alsó</td></tr>",
                            "<tr><td>N029-AL212</td><td>női koktélruha</td></tr>",
                            "<tr><td>N035-AL218</td><td>kosztüm (rövid)</td></tr>",
                            "<tr><td>N039-AL222</td><td>kosztüm (hosszú)</td></tr>",
                            "<tr><td>U001-KI501</td><td>sál</td></tr>",
                            "</table>"
                        ]
                    }
                }
            ],
            "execution_count": 9
        },
        {
            "cell_type": "markdown",
            "source": [
                "7. <span style=\"background-color: rgb(255, 255, 255); color: rgb(0, 0, 0); font-family: &quot;Open Sans&quot;, sans-serif; font-size: 14.44px;\">Listázzuk azon ügyfeleket, akik még nem fizettek bankkártyával!&nbsp;</span> \n",
                "\n",
                "a. Csak az ügyfelek neve jelenjen meg!"
            ],
            "metadata": {
                "azdata_cell_guid": "7ebf7ddd-1bd2-4246-815a-be8ae37e3b5b"
            },
            "attachments": {}
        },
        {
            "cell_type": "code",
            "source": [
                "--akinek a kódja nincs benne a kártyával fizetők kódjai közt\r\n",
                "SELECT  [LOGIN] \r\n",
                "FROM Ugyfel\r\n",
                "WHERE [LOGIN] NOT IN \r\n",
                "(\r\n",
                "    SELECT  [LOGIN]\r\n",
                "    FROM Rendeles\r\n",
                "    WHERE FIZ_MOD = 'bankkártya'\r\n",
                ")"
            ],
            "metadata": {
                "azdata_cell_guid": "84b7e896-f36e-4985-88f5-e0f706494fef",
                "language": "sql"
            },
            "outputs": [
                {
                    "output_type": "display_data",
                    "data": {
                        "text/html": "(9 rows affected)"
                    },
                    "metadata": {}
                },
                {
                    "output_type": "display_data",
                    "data": {
                        "text/html": "Total execution time: 00:00:00.061"
                    },
                    "metadata": {}
                },
                {
                    "output_type": "execute_result",
                    "metadata": {},
                    "execution_count": 10,
                    "data": {
                        "application/vnd.dataresource+json": {
                            "schema": {
                                "fields": [
                                    {
                                        "name": "LOGIN"
                                    }
                                ]
                            },
                            "data": [
                                {
                                    "LOGIN": "alexis"
                                },
                                {
                                    "LOGIN": "attila"
                                },
                                {
                                    "LOGIN": "beata4"
                                },
                                {
                                    "LOGIN": "desdemona"
                                },
                                {
                                    "LOGIN": "eszter"
                                },
                                {
                                    "LOGIN": "kanita12"
                                },
                                {
                                    "LOGIN": "mark"
                                },
                                {
                                    "LOGIN": "melissza"
                                },
                                {
                                    "LOGIN": "norbert"
                                }
                            ]
                        },
                        "text/html": [
                            "<table>",
                            "<tr><th>LOGIN</th></tr>",
                            "<tr><td>alexis</td></tr>",
                            "<tr><td>attila</td></tr>",
                            "<tr><td>beata4</td></tr>",
                            "<tr><td>desdemona</td></tr>",
                            "<tr><td>eszter</td></tr>",
                            "<tr><td>kanita12</td></tr>",
                            "<tr><td>mark</td></tr>",
                            "<tr><td>melissza</td></tr>",
                            "<tr><td>norbert</td></tr>",
                            "</table>"
                        ]
                    }
                }
            ],
            "execution_count": 10
        },
        {
            "cell_type": "code",
            "source": [
                "--olyan ügyfél, akinek a kódjával nem létezik kártyás fizetés\r\n",
                "SELECT  [LOGIN] \r\n",
                "FROM Ugyfel u\r\n",
                "WHERE NOT EXISTS\r\n",
                "(\r\n",
                "    SELECT  *\r\n",
                "    FROM Rendeles r\r\n",
                "    WHERE u.[LOGIN] = r.[LOGIN] AND r.FIZ_MOD = 'bankkártya'\r\n",
                ")"
            ],
            "metadata": {
                "azdata_cell_guid": "bdf42396-8f8a-431f-9041-56b2cb643c9a",
                "language": "sql"
            },
            "outputs": [
                {
                    "output_type": "display_data",
                    "data": {
                        "text/html": "(9 rows affected)"
                    },
                    "metadata": {}
                },
                {
                    "output_type": "display_data",
                    "data": {
                        "text/html": "Total execution time: 00:00:00.046"
                    },
                    "metadata": {}
                },
                {
                    "output_type": "execute_result",
                    "metadata": {},
                    "execution_count": 11,
                    "data": {
                        "application/vnd.dataresource+json": {
                            "schema": {
                                "fields": [
                                    {
                                        "name": "LOGIN"
                                    }
                                ]
                            },
                            "data": [
                                {
                                    "LOGIN": "alexis"
                                },
                                {
                                    "LOGIN": "attila"
                                },
                                {
                                    "LOGIN": "beata4"
                                },
                                {
                                    "LOGIN": "desdemona"
                                },
                                {
                                    "LOGIN": "eszter"
                                },
                                {
                                    "LOGIN": "kanita12"
                                },
                                {
                                    "LOGIN": "mark"
                                },
                                {
                                    "LOGIN": "melissza"
                                },
                                {
                                    "LOGIN": "norbert"
                                }
                            ]
                        },
                        "text/html": [
                            "<table>",
                            "<tr><th>LOGIN</th></tr>",
                            "<tr><td>alexis</td></tr>",
                            "<tr><td>attila</td></tr>",
                            "<tr><td>beata4</td></tr>",
                            "<tr><td>desdemona</td></tr>",
                            "<tr><td>eszter</td></tr>",
                            "<tr><td>kanita12</td></tr>",
                            "<tr><td>mark</td></tr>",
                            "<tr><td>melissza</td></tr>",
                            "<tr><td>norbert</td></tr>",
                            "</table>"
                        ]
                    }
                }
            ],
            "execution_count": 11
        },
        {
            "cell_type": "markdown",
            "source": [
                "8. <span style=\"background-color: rgb(255, 255, 255); color: rgb(0, 0, 0); font-family: &quot;Open Sans&quot;, sans-serif; font-size: 14.44px;\">Mennyibe kerül a második legnagyobb listaárú termék?</span>"
            ],
            "metadata": {
                "azdata_cell_guid": "27a3d3dc-eafb-4a5e-b103-9f465b9eda8f"
            },
            "attachments": {}
        },
        {
            "cell_type": "code",
            "source": [
                ""
            ],
            "metadata": {
                "azdata_cell_guid": "f09edb3f-649b-4a96-958e-9e12774ae8b7",
                "language": "sql"
            },
            "outputs": [],
            "execution_count": null
        },
        {
            "cell_type": "markdown",
            "source": [
                "9. <span style=\"background-color: rgb(255, 255, 255); color: rgb(0, 0, 0); font-family: &quot;Open Sans&quot;, sans-serif; font-size: 14.44px;\">Melyik raktár(ak)ban van az a termék, amelyből a legnagyobb készlet van?&nbsp;</span> \n",
                "\n",
                "a. Csak a raktár(ak) neve jelenjen meg!"
            ],
            "metadata": {
                "azdata_cell_guid": "f12a331a-0e26-4d3d-9c68-812316286577"
            },
            "attachments": {}
        },
        {
            "cell_type": "code",
            "source": [
                ""
            ],
            "metadata": {
                "azdata_cell_guid": "10a77fc9-e61a-46fc-a401-59720d82bc50",
                "language": "sql"
            },
            "outputs": [],
            "execution_count": null
        },
        {
            "cell_type": "markdown",
            "source": [
                "10. <span style=\"background-color: rgb(255, 255, 255); color: rgb(0, 0, 0); font-family: &quot;Open Sans&quot;, sans-serif; font-size: 14.44px;\">Melyek azok a termékek, amelyek listaára nagyobb, mint bármelyik olyan terméké, amelynek nevében az Ajándék szó szerepel?&nbsp;</span> \n",
                "\n",
                "a. A termékek kódját és nevét is jelenítsük meg!"
            ],
            "metadata": {
                "azdata_cell_guid": "9229e2b6-e200-4499-b95b-2d0222149831"
            },
            "attachments": {}
        },
        {
            "cell_type": "code",
            "source": [
                ""
            ],
            "metadata": {
                "azdata_cell_guid": "8b49ed67-28c6-4880-82a8-cd369e5bba99",
                "language": "sql"
            },
            "outputs": [],
            "execution_count": null
        },
        {
            "cell_type": "markdown",
            "source": [
                "11. <span style=\"background-color: rgb(255, 255, 255); color: rgb(0, 0, 0); font-family: &quot;Open Sans&quot;, sans-serif; font-size: 14.44px;\">Melyik hónapokban adtak le az ügyfelek több rendelést, mint januárban?&nbsp;</span> \n",
                "\n",
                "a. Elég a hónapok sorszámait megjeleníteni. \n",
                "\n",
                "b. A listát rendezzük a hónapok száma szerint növekvő sorrendbe!"
            ],
            "metadata": {
                "azdata_cell_guid": "7f5fc7a7-3b6a-4d89-b292-490830afb0c6"
            },
            "attachments": {}
        },
        {
            "cell_type": "code",
            "source": [
                ""
            ],
            "metadata": {
                "azdata_cell_guid": "4a9ece40-f782-4c0d-92cd-9c21969067ed",
                "language": "sql"
            },
            "outputs": [],
            "execution_count": null
        },
        {
            "cell_type": "markdown",
            "source": [
                "12. <span style=\"background-color: rgb(255, 255, 255); color: rgb(0, 0, 0); font-family: &quot;Open Sans&quot;, sans-serif; font-size: 14.44px;\">Melyek azok a termékek, amelyek listaára az átlagostól max. 20%-kal tér el?&nbsp;</span> \n",
                "\n",
                "a. A termék kódját és nevét is jelenítsük meg!"
            ],
            "metadata": {
                "azdata_cell_guid": "5a483c52-bb98-44bb-bd03-1146d4b0abfa"
            },
            "attachments": {}
        },
        {
            "cell_type": "code",
            "source": [
                ""
            ],
            "metadata": {
                "azdata_cell_guid": "dd6e89bd-08f9-4b18-8460-03c45b503df0",
                "language": "sql"
            },
            "outputs": [],
            "execution_count": null
        },
        {
            "cell_type": "markdown",
            "source": [
                "13. <span style=\"background-color: rgb(255, 255, 255); color: rgb(0, 0, 0); font-family: &quot;Open Sans&quot;, sans-serif; font-size: 14.44px;\">Készítsünk listát (sorszámonként) az egyes rendelések teljes összegéről!&nbsp;</span> \n",
                "\n",
                "a. Szűrjünk azon tételekre, ahol ez az érték nagyobb, mint Viktor Éva rendeléseinek teljes összege! \n",
                "\n",
                "b. A teljes összeg oszlopot nevezzük el értelemszerűen!"
            ],
            "metadata": {
                "azdata_cell_guid": "85d5cb66-96c6-42de-99cf-85ab22d08548"
            },
            "attachments": {}
        },
        {
            "cell_type": "code",
            "source": [
                ""
            ],
            "metadata": {
                "azdata_cell_guid": "cb07d64b-0eaa-498b-b4d2-0b46971e95ce",
                "language": "sql"
            },
            "outputs": [],
            "execution_count": null
        },
        {
            "cell_type": "markdown",
            "source": [
                "14. <span style=\"background-color: rgb(255, 255, 255); color: rgb(0, 0, 0); font-family: &quot;Open Sans&quot;, sans-serif; font-size: 14.44px;\">Listázzuk azokat a termékkategóriákat, amelyből 2017 januárban nem történt rendelés!&nbsp;</span> \n",
                "\n",
                "a. Elég a kategóriák nevét megjeleníteni!"
            ],
            "metadata": {
                "azdata_cell_guid": "f95ad665-a807-4099-bf06-64ed974f866f"
            },
            "attachments": {}
        },
        {
            "cell_type": "code",
            "source": [
                ""
            ],
            "metadata": {
                "azdata_cell_guid": "74c7ec8a-ae4a-4d03-b1c4-e8f6bb1be12c",
                "language": "sql"
            },
            "outputs": [],
            "execution_count": null
        },
        {
            "cell_type": "markdown",
            "source": [
                "15. <span style=\"background-color: rgb(255, 255, 255); color: rgb(0, 0, 0); font-family: &quot;Open Sans&quot;, sans-serif; font-size: 14.44px;\">Listázzuk azon rendelési tételeket, amelynek értéke nagyobb, mint a legdrágább termék listaára azon termékek közül, amelyek szülő kategóriája a ruha!</span>"
            ],
            "metadata": {
                "azdata_cell_guid": "93552388-ffec-49ff-99e5-ae8dc8072601"
            },
            "attachments": {}
        },
        {
            "cell_type": "code",
            "source": [
                ""
            ],
            "metadata": {
                "azdata_cell_guid": "0e7f547f-7d96-4611-b1c2-0fa84a581e79",
                "language": "sql"
            },
            "outputs": [],
            "execution_count": null
        }
    ]
}